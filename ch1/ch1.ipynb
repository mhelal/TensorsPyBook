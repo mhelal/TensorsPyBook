{
 "cells": [
  {
   "cell_type": "markdown",
   "id": "e039a95f",
   "metadata": {},
   "source": [
    "# Linear Algebra Basics for ML\n",
    "\n",
    "This notebook will present some examples in the same order mentioned in chapter 1 in \"Introduction to Tensors with Python\".\n",
    "\n",
    "## 1.2.1 Vector Operations"
   ]
  },
  {
   "cell_type": "code",
   "execution_count": 3,
   "id": "28d8ba09",
   "metadata": {},
   "outputs": [
    {
     "data": {
      "text/plain": [
       "18"
      ]
     },
     "execution_count": 3,
     "metadata": {},
     "output_type": "execute_result"
    }
   ],
   "source": [
    "import numpy as np\n",
    "\n",
    "v= np.array ((10, 2, -6))\n",
    "np.absolute(v).sum() # 1-norm is the sum of the absolute values of the elements"
   ]
  },
  {
   "cell_type": "markdown",
   "id": "36561f51",
   "metadata": {},
   "source": [
    "2-norm is the magnitude of the vector $ v ∈R^N $, which is its length (Frobenius norm) and is denoted $‖v‖_2$ or $ ‖v‖_F$ \n",
    "\n",
    "It is the Euclidean distance from the origin to the point reached by the vector, calculated as $ \\sqrt {\\sum_{i=1}^N {v_i^2}}$"
   ]
  },
  {
   "cell_type": "code",
   "execution_count": 6,
   "id": "baa227b9",
   "metadata": {},
   "outputs": [
    {
     "data": {
      "text/plain": [
       "11.832159566199232"
      ]
     },
     "execution_count": 6,
     "metadata": {},
     "output_type": "execute_result"
    }
   ],
   "source": [
    "from numpy import linalg as LA\n",
    "LA.norm(v)"
   ]
  },
  {
   "cell_type": "code",
   "execution_count": 15,
   "id": "381768a1",
   "metadata": {},
   "outputs": [
    {
     "data": {
      "text/plain": [
       "3.0"
      ]
     },
     "execution_count": 15,
     "metadata": {},
     "output_type": "execute_result"
    }
   ],
   "source": [
    "LA.norm(v, 0) #  sum(x != 0)"
   ]
  },
  {
   "cell_type": "code",
   "execution_count": 16,
   "id": "3e7352cb",
   "metadata": {},
   "outputs": [
    {
     "data": {
      "text/plain": [
       "18.0"
      ]
     },
     "execution_count": 16,
     "metadata": {},
     "output_type": "execute_result"
    }
   ],
   "source": [
    "LA.norm(v, 1) # using this function for 1-norm calculated above from scratch: max(sum(abs(x), axis=0))"
   ]
  },
  {
   "cell_type": "code",
   "execution_count": 17,
   "id": "83b9cc08",
   "metadata": {},
   "outputs": [
    {
     "data": {
      "text/plain": [
       "11.832159566199232"
      ]
     },
     "execution_count": 17,
     "metadata": {},
     "output_type": "execute_result"
    }
   ],
   "source": [
    "LA.norm(v, 2) # using this function for 2-norm calculated above using default values,  2-norm (largest sing. value)"
   ]
  },
  {
   "cell_type": "code",
   "execution_count": 10,
   "id": "6aa79811",
   "metadata": {},
   "outputs": [
    {
     "data": {
      "text/plain": [
       "10.696962482478725"
      ]
     },
     "execution_count": 10,
     "metadata": {},
     "output_type": "execute_result"
    }
   ],
   "source": [
    "LA.norm(v, 3) # other norms as  sum(abs(x)**ord)**(1./ord)"
   ]
  },
  {
   "cell_type": "code",
   "execution_count": 14,
   "id": "8bf7def7",
   "metadata": {},
   "outputs": [
    {
     "data": {
      "text/plain": [
       "10.0"
      ]
     },
     "execution_count": 14,
     "metadata": {},
     "output_type": "execute_result"
    }
   ],
   "source": [
    "LA.norm(v, np.inf) # max(sum(abs(x), axis=1)) "
   ]
  },
  {
   "cell_type": "code",
   "execution_count": 18,
   "id": "0933df27",
   "metadata": {},
   "outputs": [
    {
     "data": {
      "text/plain": [
       "array([ 0.84515425,  0.16903085, -0.50709255])"
      ]
     },
     "execution_count": 18,
     "metadata": {},
     "output_type": "execute_result"
    }
   ],
   "source": [
    "v/LA.norm(v) # normalising a vector as v/np.sqrt((v**2).sum())"
   ]
  },
  {
   "cell_type": "code",
   "execution_count": 19,
   "id": "e02f8b82",
   "metadata": {},
   "outputs": [
    {
     "data": {
      "text/plain": [
       "-18"
      ]
     },
     "execution_count": 19,
     "metadata": {},
     "output_type": "execute_result"
    }
   ],
   "source": [
    "u= np.array ((-3, 0, -2))\n",
    "v.dot(u) # Vector Dot (Inner) Product"
   ]
  },
  {
   "cell_type": "code",
   "execution_count": 24,
   "id": "338e7299",
   "metadata": {},
   "outputs": [
    {
     "data": {
      "text/plain": [
       "-18"
      ]
     },
     "execution_count": 24,
     "metadata": {},
     "output_type": "execute_result"
    }
   ],
   "source": [
    "np.inner(v,u) # np.dot and np.inner are identical for 1-dimensions arrays. For N-dimension arrays, they correspond to common tensor operations."
   ]
  },
  {
   "cell_type": "code",
   "execution_count": 20,
   "id": "335d2460",
   "metadata": {},
   "outputs": [
    {
     "data": {
      "text/plain": [
       "-18"
      ]
     },
     "execution_count": 20,
     "metadata": {},
     "output_type": "execute_result"
    }
   ],
   "source": [
    "v@u  # another syntax"
   ]
  },
  {
   "cell_type": "code",
   "execution_count": 21,
   "id": "566e2298",
   "metadata": {},
   "outputs": [
    {
     "data": {
      "text/plain": [
       "array([-4, 38,  6])"
      ]
     },
     "execution_count": 21,
     "metadata": {},
     "output_type": "execute_result"
    }
   ],
   "source": [
    "np.cross(v,u) # Vector Cross Product"
   ]
  },
  {
   "cell_type": "code",
   "execution_count": 22,
   "id": "5ef4c857",
   "metadata": {},
   "outputs": [
    {
     "data": {
      "text/plain": [
       "array([[-30,   0, -20],\n",
       "       [ -6,   0,  -4],\n",
       "       [ 18,   0,  12]])"
      ]
     },
     "execution_count": 22,
     "metadata": {},
     "output_type": "execute_result"
    }
   ],
   "source": [
    "np.outer(v,u) # Vector Outer Product"
   ]
  },
  {
   "cell_type": "code",
   "execution_count": 25,
   "id": "790716b0",
   "metadata": {},
   "outputs": [
    {
     "data": {
      "text/plain": [
       "array([-30,   0,  12])"
      ]
     },
     "execution_count": 25,
     "metadata": {},
     "output_type": "execute_result"
    }
   ],
   "source": [
    "np.multiply(v,u) # Hadamard Product"
   ]
  },
  {
   "cell_type": "markdown",
   "id": "a2b1c0cf",
   "metadata": {},
   "source": [
    "## Vector Calculus: Derivatives and Gradients"
   ]
  },
  {
   "cell_type": "code",
   "execution_count": 29,
   "id": "e78b84bf",
   "metadata": {},
   "outputs": [
    {
     "data": {
      "text/latex": [
       "$\\displaystyle \\sin{\\left(x \\right)}$"
      ],
      "text/plain": [
       "sin(x)"
      ]
     },
     "execution_count": 29,
     "metadata": {},
     "output_type": "execute_result"
    }
   ],
   "source": [
    "import sympy as sym\n",
    "\n",
    "x = sym.Symbol('x')\n",
    "f = sym.sin(x) # one variable functopn\n",
    "f"
   ]
  },
  {
   "cell_type": "code",
   "execution_count": 30,
   "id": "b562a9d4",
   "metadata": {},
   "outputs": [
    {
     "data": {
      "text/latex": [
       "$\\displaystyle \\cos{\\left(x \\right)}$"
      ],
      "text/plain": [
       "cos(x)"
      ]
     },
     "execution_count": 30,
     "metadata": {},
     "output_type": "execute_result"
    }
   ],
   "source": [
    "f.diff() # the first derivative"
   ]
  },
  {
   "cell_type": "code",
   "execution_count": 36,
   "id": "3b7accc5",
   "metadata": {},
   "outputs": [
    {
     "data": {
      "text/latex": [
       "$\\displaystyle - \\sin{\\left(x \\right)}$"
      ],
      "text/plain": [
       "-sin(x)"
      ]
     },
     "execution_count": 36,
     "metadata": {},
     "output_type": "execute_result"
    }
   ],
   "source": [
    "f.diff().diff() # the second derivative"
   ]
  },
  {
   "cell_type": "code",
   "execution_count": 33,
   "id": "ce9778bd",
   "metadata": {},
   "outputs": [
    {
     "data": {
      "text/latex": [
       "$\\displaystyle 6 x y^{3}$"
      ],
      "text/plain": [
       "6*x*y**3"
      ]
     },
     "execution_count": 33,
     "metadata": {},
     "output_type": "execute_result"
    }
   ],
   "source": [
    "y = sym.Symbol('y')\n",
    "f2=6*x*(y**3) # two variable function\n",
    "f2"
   ]
  },
  {
   "cell_type": "code",
   "execution_count": 34,
   "id": "e249118a",
   "metadata": {},
   "outputs": [
    {
     "data": {
      "text/latex": [
       "$\\displaystyle 6 y^{3}$"
      ],
      "text/plain": [
       "6*y**3"
      ]
     },
     "execution_count": 34,
     "metadata": {},
     "output_type": "execute_result"
    }
   ],
   "source": [
    "f2.diff(x) # first derivative with respect to x"
   ]
  },
  {
   "cell_type": "code",
   "execution_count": 35,
   "id": "e3d737b8",
   "metadata": {},
   "outputs": [
    {
     "data": {
      "text/latex": [
       "$\\displaystyle 18 x y^{2}$"
      ],
      "text/plain": [
       "18*x*y**2"
      ]
     },
     "execution_count": 35,
     "metadata": {},
     "output_type": "execute_result"
    }
   ],
   "source": [
    "f2.diff(y) # first derivative with respect to y"
   ]
  },
  {
   "cell_type": "code",
   "execution_count": 46,
   "id": "cc8378a0",
   "metadata": {},
   "outputs": [
    {
     "data": {
      "text/latex": [
       "$\\displaystyle \\left[\\begin{matrix}6 x y^{3}\\end{matrix}\\right]$"
      ],
      "text/plain": [
       "Matrix([[6*x*y**3]])"
      ]
     },
     "execution_count": 46,
     "metadata": {},
     "output_type": "execute_result"
    }
   ],
   "source": [
    "F = sym.Matrix([f2])\n",
    "F"
   ]
  },
  {
   "cell_type": "code",
   "execution_count": 47,
   "id": "18ea6525",
   "metadata": {},
   "outputs": [
    {
     "data": {
      "text/latex": [
       "$\\displaystyle \\left[\\begin{matrix}6 y^{3} & 18 x y^{2}\\end{matrix}\\right]$"
      ],
      "text/plain": [
       "Matrix([[6*y**3, 18*x*y**2]])"
      ]
     },
     "execution_count": 47,
     "metadata": {},
     "output_type": "execute_result"
    }
   ],
   "source": [
    "F.jacobian([x,y]) # The Jacobian of a vector-valued function in several variables generalizes the gradient of a scalar-valued function in several variables, which in turn generalizes the derivative of a scalar-valued function of a single variable."
   ]
  },
  {
   "cell_type": "code",
   "execution_count": 48,
   "id": "5331f742",
   "metadata": {},
   "outputs": [
    {
     "data": {
      "text/latex": [
       "$\\displaystyle \\left[\\begin{matrix}- \\sin{\\left(1 \\right)} & 0\\\\0 & 0\\end{matrix}\\right]$"
      ],
      "text/plain": [
       "Matrix([\n",
       "[-sin(1), 0],\n",
       "[      0, 0]])"
      ]
     },
     "execution_count": 48,
     "metadata": {},
     "output_type": "execute_result"
    }
   ],
   "source": [
    "H = sym.hessian(f, [x, y]).subs([(x,1), (y,1)])\n",
    "H"
   ]
  },
  {
   "cell_type": "markdown",
   "id": "e91888be",
   "metadata": {},
   "source": [
    "## 1.2.1.6 Vector Field, Spaces and Independence\n",
    "## 1.2.2.5 Linear Combinations and Linear Transformations\n",
    "\n",
    "These concepts are better explained by navigating through the chapters, python notebooks and expanding the \"click to show\" and review the python code of the examples: https://bvanderlei.github.io/jupyter-guide-to-linear-algebra/intro.html\n",
    "\n"
   ]
  },
  {
   "cell_type": "code",
   "execution_count": 72,
   "id": "d9ab6299",
   "metadata": {},
   "outputs": [],
   "source": [
    "def checkDependence (v, u):\n",
    "    a = np.array([v,u])\n",
    "    _, indexes = sym.Matrix(a).T.rref()  # T is for transpose, rref: Return reduced row-echelon form of matrix and indices of pivot vars.\n",
    "    print(indexes)\n",
    "    print(a[indexes,:])\n",
    "    if len(indexes) == 2:\n",
    "        print(\"linearly independant\")\n",
    "    else:\n",
    "        print(\"linearly dependant\")"
   ]
  },
  {
   "cell_type": "code",
   "execution_count": 74,
   "id": "4620ca58",
   "metadata": {},
   "outputs": [
    {
     "name": "stdout",
     "output_type": "stream",
     "text": [
      "(0, 1)\n",
      "[[10  2 -6]\n",
      " [-3  0 -2]]\n",
      "linearly independant\n"
     ]
    }
   ],
   "source": [
    "checkDependence (v, u)"
   ]
  },
  {
   "cell_type": "code",
   "execution_count": 75,
   "id": "49e94435",
   "metadata": {},
   "outputs": [
    {
     "name": "stdout",
     "output_type": "stream",
     "text": [
      "(0,)\n",
      "[[10  2 -6]]\n",
      "linearly dependant\n"
     ]
    }
   ],
   "source": [
    "u=np.array([20, 4, -12])\n",
    "checkDependence (v, u)"
   ]
  },
  {
   "cell_type": "code",
   "execution_count": 248,
   "id": "d12b8f54",
   "metadata": {},
   "outputs": [
    {
     "data": {
      "text/plain": [
       "array([  5,   6,   7,  50,  60,  70, 500, 600, 700])"
      ]
     },
     "execution_count": 248,
     "metadata": {},
     "output_type": "execute_result"
    }
   ],
   "source": [
    "np.kron([1,10,100], [5,6,7]) # , Kronecker product of two arrays is a composite array made of blocks of the second array scaled by the first."
   ]
  },
  {
   "cell_type": "markdown",
   "id": "8853fe35",
   "metadata": {},
   "source": [
    "## 1.2.2.1: Matrix Multiplication"
   ]
  },
  {
   "cell_type": "code",
   "execution_count": 76,
   "id": "91d7ac2c",
   "metadata": {},
   "outputs": [
    {
     "data": {
      "text/plain": [
       "array([[2.  , 2.  , 1.  , 0.  ],\n",
       "       [2.25, 0.  , 0.75, 0.  ],\n",
       "       [2.  , 1.  , 1.3 , 2.  ]])"
      ]
     },
     "execution_count": 76,
     "metadata": {},
     "output_type": "execute_result"
    }
   ],
   "source": [
    "M= np.array([[2,2,1,0],[2.25,0,0.75,0],[2,1,1.3,2]]) # three recipes in the rows, 4 ingredients in the columns \n",
    "M"
   ]
  },
  {
   "cell_type": "code",
   "execution_count": 78,
   "id": "6978a958",
   "metadata": {},
   "outputs": [
    {
     "data": {
      "text/plain": [
       "array([[4. , 4. , 2. , 0. ],\n",
       "       [4.5, 0. , 1.5, 0. ],\n",
       "       [4. , 2. , 2.6, 4. ]])"
      ]
     },
     "execution_count": 78,
     "metadata": {},
     "output_type": "execute_result"
    }
   ],
   "source": [
    "2*M # doubling the quantities"
   ]
  },
  {
   "cell_type": "code",
   "execution_count": 84,
   "id": "a15ba26e",
   "metadata": {},
   "outputs": [
    {
     "data": {
      "text/plain": [
       "array([17. ,  5. ,  7.9,  6. ])"
      ]
     },
     "execution_count": 84,
     "metadata": {},
     "output_type": "execute_result"
    }
   ],
   "source": [
    "v = np.array( [1, 4, 3]) # Vector / Matrix Multiplication\n",
    "v.dot(M)"
   ]
  },
  {
   "cell_type": "code",
   "execution_count": 85,
   "id": "50749ae1",
   "metadata": {},
   "outputs": [
    {
     "data": {
      "text/plain": [
       "array([[0.5, 0.2, 0.3],\n",
       "       [0. , 0.4, 0.6]])"
      ]
     },
     "execution_count": 85,
     "metadata": {},
     "output_type": "execute_result"
    }
   ],
   "source": [
    "P= np.array([[0.5,0.2,0.3],[0.0,0.4,0.6]]) # two producers in the rows, 3 suppliers in the columns \n",
    "P"
   ]
  },
  {
   "cell_type": "code",
   "execution_count": 86,
   "id": "8678e473",
   "metadata": {},
   "outputs": [
    {
     "data": {
      "text/plain": [
       "array([[0.4, 0.6, 0. , 0. ],\n",
       "       [0. , 0.7, 0.3, 0. ],\n",
       "       [0. , 0.5, 0. , 0.5]])"
      ]
     },
     "execution_count": 86,
     "metadata": {},
     "output_type": "execute_result"
    }
   ],
   "source": [
    "S= np.array([[0.4,0.6,0.0,0.0],[0.0,0.7,0.3,0.0],[0.0,0.5,0.0,0.5]]) # 3 suppliers in the rows,  four gas stations in the columns \n",
    "S"
   ]
  },
  {
   "cell_type": "code",
   "execution_count": 87,
   "id": "f0ba5b1e",
   "metadata": {},
   "outputs": [
    {
     "data": {
      "text/plain": [
       "array([[0.2 , 0.59, 0.06, 0.15],\n",
       "       [0.  , 0.58, 0.12, 0.3 ]])"
      ]
     },
     "execution_count": 87,
     "metadata": {},
     "output_type": "execute_result"
    }
   ],
   "source": [
    "P.dot(S) # Matrix / Matrix Multiplication"
   ]
  },
  {
   "cell_type": "code",
   "execution_count": 97,
   "id": "831f7e37",
   "metadata": {},
   "outputs": [
    {
     "data": {
      "text/plain": [
       "array([[0.69321712, 0.91605978, 0.76414377],\n",
       "       [0.96279434, 0.35903969, 0.77867006],\n",
       "       [0.46043026, 0.27514903, 0.45912638]])"
      ]
     },
     "execution_count": 97,
     "metadata": {},
     "output_type": "execute_result"
    }
   ],
   "source": [
    "A = np.random.rand(3,3)\n",
    "A"
   ]
  },
  {
   "cell_type": "code",
   "execution_count": 98,
   "id": "ef3fc7a7",
   "metadata": {},
   "outputs": [
    {
     "data": {
      "text/plain": [
       "array([[0.68002151, 0.33720108, 0.5325899 ],\n",
       "       [0.60277376, 0.5788585 , 0.7124185 ],\n",
       "       [0.5303576 , 0.38754052, 0.7061753 ]])"
      ]
     },
     "execution_count": 98,
     "metadata": {},
     "output_type": "execute_result"
    }
   ],
   "source": [
    "B= np.random.rand(3,3)\n",
    "B"
   ]
  },
  {
   "cell_type": "code",
   "execution_count": 99,
   "id": "d66a2e6b",
   "metadata": {},
   "outputs": [
    {
     "data": {
      "text/plain": [
       "array([[ 0.38757045,  0.1696087 ,  0.53470917],\n",
       "       [-0.01907966, -0.12177656,  0.08000291],\n",
       "       [-0.34346301, -0.32682513, -0.26579389]])"
      ]
     },
     "execution_count": 99,
     "metadata": {},
     "output_type": "execute_result"
    }
   ],
   "source": [
    "Lie = A.dot(B) - B.dot(A)\n",
    "Lie"
   ]
  },
  {
   "cell_type": "markdown",
   "id": "ed00152f",
   "metadata": {},
   "source": [
    "## 1.2.2.2 Systems of Equations Solving"
   ]
  },
  {
   "cell_type": "code",
   "execution_count": 105,
   "id": "f93927a1",
   "metadata": {},
   "outputs": [
    {
     "data": {
      "text/plain": [
       "array([ 6., 21.])"
      ]
     },
     "execution_count": 105,
     "metadata": {},
     "output_type": "execute_result"
    }
   ],
   "source": [
    "A=  np.array([[5,3],[-4,-2]])\n",
    "b= np.array([93,-66]) \n",
    "x=  np.linalg.solve(A,b) # Solve a linear matrix equation, or system of linear scalar equations using LAPACK routine ``_gesv``.\n",
    "x"
   ]
  },
  {
   "cell_type": "code",
   "execution_count": 108,
   "id": "5c6205f4",
   "metadata": {},
   "outputs": [
    {
     "data": {
      "text/plain": [
       "array([[-1. , -1.5],\n",
       "       [ 2. ,  2.5]])"
      ]
     },
     "execution_count": 108,
     "metadata": {},
     "output_type": "execute_result"
    }
   ],
   "source": [
    "np.linalg. inv(A)  # Matrix inverse"
   ]
  },
  {
   "cell_type": "code",
   "execution_count": 110,
   "id": "d303a00e",
   "metadata": {},
   "outputs": [
    {
     "data": {
      "text/plain": [
       "array([[ 34, -26],\n",
       "       [-26,  20]])"
      ]
     },
     "execution_count": 110,
     "metadata": {},
     "output_type": "execute_result"
    }
   ],
   "source": [
    "A.dot(A.T) # One of the definitions of an orthogonal matrix is that A.dot(A.T) will be the identity matrix. A is not orthogonal"
   ]
  },
  {
   "cell_type": "code",
   "execution_count": 112,
   "id": "68eddd89",
   "metadata": {},
   "outputs": [
    {
     "data": {
      "text/plain": [
       "array([[ 0.19045032,  0.18961712,  0.96321027],\n",
       "       [ 0.97849661,  0.04249402, -0.20183815],\n",
       "       [ 0.07920265, -0.98093813,  0.17744671]])"
      ]
     },
     "execution_count": 112,
     "metadata": {},
     "output_type": "execute_result"
    }
   ],
   "source": [
    "from scipy.stats import ortho_group \n",
    "\n",
    "m = ortho_group.rvs(dim=3)\n",
    "m"
   ]
  },
  {
   "cell_type": "code",
   "execution_count": 114,
   "id": "57650f62",
   "metadata": {},
   "outputs": [
    {
     "data": {
      "text/plain": [
       "array([[ 1., -0.,  0.],\n",
       "       [-0.,  1., -0.],\n",
       "       [ 0., -0.,  1.]])"
      ]
     },
     "execution_count": 114,
     "metadata": {},
     "output_type": "execute_result"
    }
   ],
   "source": [
    "np.set_printoptions(suppress=True)\n",
    "m.dot(m.T)  # m is of course"
   ]
  },
  {
   "cell_type": "code",
   "execution_count": 117,
   "id": "a5e31a68",
   "metadata": {},
   "outputs": [
    {
     "data": {
      "text/plain": [
       "2.0000000000000027"
      ]
     },
     "execution_count": 117,
     "metadata": {},
     "output_type": "execute_result"
    }
   ],
   "source": [
    "A = np.array([[4,2,3],[0,2,4],[1,3,6]])\n",
    "np.linalg. det(A) # matrix determinant"
   ]
  },
  {
   "cell_type": "code",
   "execution_count": 118,
   "id": "52e84e32",
   "metadata": {},
   "outputs": [
    {
     "data": {
      "text/plain": [
       "-93.00000000000011"
      ]
     },
     "execution_count": 118,
     "metadata": {},
     "output_type": "execute_result"
    }
   ],
   "source": [
    "A = np.array([[5,4,6,3],[0,2,1,0],[9,7,4,6], [2,8,1,3]])\n",
    "np.linalg. det(A) # matrix determinant"
   ]
  },
  {
   "cell_type": "code",
   "execution_count": 165,
   "id": "63499d67",
   "metadata": {},
   "outputs": [
    {
     "ename": "LinAlgError",
     "evalue": "Singular matrix",
     "output_type": "error",
     "traceback": [
      "\u001b[1;31m---------------------------------------------------------------------------\u001b[0m",
      "\u001b[1;31mLinAlgError\u001b[0m                               Traceback (most recent call last)",
      "\u001b[1;32mC:\\Users\\DELLPR~1\\AppData\\Local\\Temp/ipykernel_9012/393026390.py\u001b[0m in \u001b[0;36m<module>\u001b[1;34m\u001b[0m\n\u001b[0;32m      1\u001b[0m \u001b[0mA\u001b[0m\u001b[1;33m=\u001b[0m  \u001b[0mnp\u001b[0m\u001b[1;33m.\u001b[0m\u001b[0marray\u001b[0m\u001b[1;33m(\u001b[0m\u001b[1;33m[\u001b[0m\u001b[1;33m[\u001b[0m\u001b[1;36m1\u001b[0m\u001b[1;33m,\u001b[0m\u001b[1;36m2\u001b[0m\u001b[1;33m]\u001b[0m\u001b[1;33m,\u001b[0m\u001b[1;33m[\u001b[0m\u001b[1;36m0.5\u001b[0m\u001b[1;33m,\u001b[0m\u001b[1;36m1\u001b[0m\u001b[1;33m]\u001b[0m\u001b[1;33m]\u001b[0m\u001b[1;33m)\u001b[0m\u001b[1;33m\u001b[0m\u001b[1;33m\u001b[0m\u001b[0m\n\u001b[0;32m      2\u001b[0m \u001b[0mb\u001b[0m\u001b[1;33m=\u001b[0m \u001b[0mnp\u001b[0m\u001b[1;33m.\u001b[0m\u001b[0marray\u001b[0m\u001b[1;33m(\u001b[0m\u001b[1;33m[\u001b[0m\u001b[1;36m0\u001b[0m\u001b[1;33m,\u001b[0m\u001b[1;36m0\u001b[0m\u001b[1;33m]\u001b[0m\u001b[1;33m)\u001b[0m\u001b[1;33m\u001b[0m\u001b[1;33m\u001b[0m\u001b[0m\n\u001b[1;32m----> 3\u001b[1;33m \u001b[0mx\u001b[0m\u001b[1;33m=\u001b[0m  \u001b[0mnp\u001b[0m\u001b[1;33m.\u001b[0m\u001b[0mlinalg\u001b[0m\u001b[1;33m.\u001b[0m\u001b[0msolve\u001b[0m\u001b[1;33m(\u001b[0m\u001b[0mA\u001b[0m\u001b[1;33m,\u001b[0m\u001b[0mb\u001b[0m\u001b[1;33m)\u001b[0m \u001b[1;31m# This is a consistent dependent system of equation,  but Singular matrix with zero determinant The system of equations has a solution set: x_1 + 2x_2 = 0\u001b[0m\u001b[1;33m\u001b[0m\u001b[1;33m\u001b[0m\u001b[0m\n\u001b[0m\u001b[0;32m      4\u001b[0m \u001b[0mx\u001b[0m\u001b[1;33m\u001b[0m\u001b[1;33m\u001b[0m\u001b[0m\n",
      "\u001b[1;32m<__array_function__ internals>\u001b[0m in \u001b[0;36msolve\u001b[1;34m(*args, **kwargs)\u001b[0m\n",
      "\u001b[1;32mC:\\ProgramData\\Anaconda3\\lib\\site-packages\\numpy\\linalg\\linalg.py\u001b[0m in \u001b[0;36msolve\u001b[1;34m(a, b)\u001b[0m\n\u001b[0;32m    391\u001b[0m     \u001b[0msignature\u001b[0m \u001b[1;33m=\u001b[0m \u001b[1;34m'DD->D'\u001b[0m \u001b[1;32mif\u001b[0m \u001b[0misComplexType\u001b[0m\u001b[1;33m(\u001b[0m\u001b[0mt\u001b[0m\u001b[1;33m)\u001b[0m \u001b[1;32melse\u001b[0m \u001b[1;34m'dd->d'\u001b[0m\u001b[1;33m\u001b[0m\u001b[1;33m\u001b[0m\u001b[0m\n\u001b[0;32m    392\u001b[0m     \u001b[0mextobj\u001b[0m \u001b[1;33m=\u001b[0m \u001b[0mget_linalg_error_extobj\u001b[0m\u001b[1;33m(\u001b[0m\u001b[0m_raise_linalgerror_singular\u001b[0m\u001b[1;33m)\u001b[0m\u001b[1;33m\u001b[0m\u001b[1;33m\u001b[0m\u001b[0m\n\u001b[1;32m--> 393\u001b[1;33m     \u001b[0mr\u001b[0m \u001b[1;33m=\u001b[0m \u001b[0mgufunc\u001b[0m\u001b[1;33m(\u001b[0m\u001b[0ma\u001b[0m\u001b[1;33m,\u001b[0m \u001b[0mb\u001b[0m\u001b[1;33m,\u001b[0m \u001b[0msignature\u001b[0m\u001b[1;33m=\u001b[0m\u001b[0msignature\u001b[0m\u001b[1;33m,\u001b[0m \u001b[0mextobj\u001b[0m\u001b[1;33m=\u001b[0m\u001b[0mextobj\u001b[0m\u001b[1;33m)\u001b[0m\u001b[1;33m\u001b[0m\u001b[1;33m\u001b[0m\u001b[0m\n\u001b[0m\u001b[0;32m    394\u001b[0m \u001b[1;33m\u001b[0m\u001b[0m\n\u001b[0;32m    395\u001b[0m     \u001b[1;32mreturn\u001b[0m \u001b[0mwrap\u001b[0m\u001b[1;33m(\u001b[0m\u001b[0mr\u001b[0m\u001b[1;33m.\u001b[0m\u001b[0mastype\u001b[0m\u001b[1;33m(\u001b[0m\u001b[0mresult_t\u001b[0m\u001b[1;33m,\u001b[0m \u001b[0mcopy\u001b[0m\u001b[1;33m=\u001b[0m\u001b[1;32mFalse\u001b[0m\u001b[1;33m)\u001b[0m\u001b[1;33m)\u001b[0m\u001b[1;33m\u001b[0m\u001b[1;33m\u001b[0m\u001b[0m\n",
      "\u001b[1;32mC:\\ProgramData\\Anaconda3\\lib\\site-packages\\numpy\\linalg\\linalg.py\u001b[0m in \u001b[0;36m_raise_linalgerror_singular\u001b[1;34m(err, flag)\u001b[0m\n\u001b[0;32m     86\u001b[0m \u001b[1;33m\u001b[0m\u001b[0m\n\u001b[0;32m     87\u001b[0m \u001b[1;32mdef\u001b[0m \u001b[0m_raise_linalgerror_singular\u001b[0m\u001b[1;33m(\u001b[0m\u001b[0merr\u001b[0m\u001b[1;33m,\u001b[0m \u001b[0mflag\u001b[0m\u001b[1;33m)\u001b[0m\u001b[1;33m:\u001b[0m\u001b[1;33m\u001b[0m\u001b[1;33m\u001b[0m\u001b[0m\n\u001b[1;32m---> 88\u001b[1;33m     \u001b[1;32mraise\u001b[0m \u001b[0mLinAlgError\u001b[0m\u001b[1;33m(\u001b[0m\u001b[1;34m\"Singular matrix\"\u001b[0m\u001b[1;33m)\u001b[0m\u001b[1;33m\u001b[0m\u001b[1;33m\u001b[0m\u001b[0m\n\u001b[0m\u001b[0;32m     89\u001b[0m \u001b[1;33m\u001b[0m\u001b[0m\n\u001b[0;32m     90\u001b[0m \u001b[1;32mdef\u001b[0m \u001b[0m_raise_linalgerror_nonposdef\u001b[0m\u001b[1;33m(\u001b[0m\u001b[0merr\u001b[0m\u001b[1;33m,\u001b[0m \u001b[0mflag\u001b[0m\u001b[1;33m)\u001b[0m\u001b[1;33m:\u001b[0m\u001b[1;33m\u001b[0m\u001b[1;33m\u001b[0m\u001b[0m\n",
      "\u001b[1;31mLinAlgError\u001b[0m: Singular matrix"
     ]
    }
   ],
   "source": [
    "A=  np.array([[1,2],[0.5,1]])\n",
    "b= np.array([0,0]) \n",
    "x=  np.linalg.solve(A,b) # This is a consistent dependent system of equation,  but Singular matrix with zero determinant The system of equations has a solution set: x_1 + 2x_2 = 0\n",
    "x"
   ]
  },
  {
   "cell_type": "code",
   "execution_count": 166,
   "id": "d9b05ac9",
   "metadata": {},
   "outputs": [
    {
     "data": {
      "text/plain": [
       "0.0"
      ]
     },
     "execution_count": 166,
     "metadata": {},
     "output_type": "execute_result"
    }
   ],
   "source": [
    "np.linalg. det(A)"
   ]
  },
  {
   "cell_type": "code",
   "execution_count": 167,
   "id": "070c1143",
   "metadata": {},
   "outputs": [
    {
     "data": {
      "text/latex": [
       "$\\displaystyle \\left[\\begin{matrix}1 & 2.0\\\\0 & 0\\end{matrix}\\right]$"
      ],
      "text/plain": [
       "Matrix([\n",
       "[1, 2.0],\n",
       "[0,   0]])"
      ]
     },
     "execution_count": 167,
     "metadata": {},
     "output_type": "execute_result"
    }
   ],
   "source": [
    "rref_matrix, rref_pivots= sym.Matrix(A).rref()  #  rref: Return reduced row-echelon form of matrix and indices of pivot vars.\n",
    "rref_matrix"
   ]
  },
  {
   "cell_type": "code",
   "execution_count": 168,
   "id": "0bd03e45",
   "metadata": {},
   "outputs": [
    {
     "data": {
      "text/plain": [
       "array([0., 0.])"
      ]
     },
     "execution_count": 168,
     "metadata": {},
     "output_type": "execute_result"
    }
   ],
   "source": [
    "A=  np.array([[1,-2],[0.5,1]])\n",
    "b= np.array([0,0]) \n",
    "x=  np.linalg.solve(A,b) # This is a consistent  system of equation, although the determinant is zero\n",
    "x"
   ]
  },
  {
   "cell_type": "code",
   "execution_count": 171,
   "id": "0cf35e7e",
   "metadata": {},
   "outputs": [
    {
     "data": {
      "text/plain": [
       "0.0"
      ]
     },
     "execution_count": 171,
     "metadata": {},
     "output_type": "execute_result"
    }
   ],
   "source": [
    "np.linalg. det(A)"
   ]
  },
  {
   "cell_type": "code",
   "execution_count": 169,
   "id": "9ea82527",
   "metadata": {},
   "outputs": [
    {
     "data": {
      "text/latex": [
       "$\\displaystyle \\left[\\begin{matrix}1 & 0\\\\0 & 1\\end{matrix}\\right]$"
      ],
      "text/plain": [
       "Matrix([\n",
       "[1, 0],\n",
       "[0, 1]])"
      ]
     },
     "execution_count": 169,
     "metadata": {},
     "output_type": "execute_result"
    }
   ],
   "source": [
    "rref_matrix, rref_pivots= sym.Matrix(A).rref()  #  rref: Return reduced row-echelon form of matrix and indices of pivot vars.\n",
    "rref_matrix"
   ]
  },
  {
   "cell_type": "code",
   "execution_count": 172,
   "id": "8925e7f0",
   "metadata": {},
   "outputs": [
    {
     "ename": "LinAlgError",
     "evalue": "Singular matrix",
     "output_type": "error",
     "traceback": [
      "\u001b[1;31m---------------------------------------------------------------------------\u001b[0m",
      "\u001b[1;31mLinAlgError\u001b[0m                               Traceback (most recent call last)",
      "\u001b[1;32mC:\\Users\\DELLPR~1\\AppData\\Local\\Temp/ipykernel_9012/3839499696.py\u001b[0m in \u001b[0;36m<module>\u001b[1;34m\u001b[0m\n\u001b[0;32m      1\u001b[0m \u001b[0mA\u001b[0m\u001b[1;33m=\u001b[0m  \u001b[0mnp\u001b[0m\u001b[1;33m.\u001b[0m\u001b[0marray\u001b[0m\u001b[1;33m(\u001b[0m\u001b[1;33m[\u001b[0m\u001b[1;33m[\u001b[0m\u001b[1;36m1\u001b[0m\u001b[1;33m,\u001b[0m\u001b[1;36m1\u001b[0m\u001b[1;33m]\u001b[0m\u001b[1;33m,\u001b[0m\u001b[1;33m[\u001b[0m\u001b[1;36m2\u001b[0m\u001b[1;33m,\u001b[0m\u001b[1;36m2\u001b[0m\u001b[1;33m]\u001b[0m\u001b[1;33m]\u001b[0m\u001b[1;33m)\u001b[0m\u001b[1;33m\u001b[0m\u001b[1;33m\u001b[0m\u001b[0m\n\u001b[0;32m      2\u001b[0m \u001b[0mb\u001b[0m\u001b[1;33m=\u001b[0m \u001b[0mnp\u001b[0m\u001b[1;33m.\u001b[0m\u001b[0marray\u001b[0m\u001b[1;33m(\u001b[0m\u001b[1;33m[\u001b[0m\u001b[1;36m4\u001b[0m\u001b[1;33m,\u001b[0m\u001b[1;36m8\u001b[0m\u001b[1;33m]\u001b[0m\u001b[1;33m)\u001b[0m\u001b[1;33m\u001b[0m\u001b[1;33m\u001b[0m\u001b[0m\n\u001b[1;32m----> 3\u001b[1;33m \u001b[0mx\u001b[0m\u001b[1;33m=\u001b[0m  \u001b[0mnp\u001b[0m\u001b[1;33m.\u001b[0m\u001b[0mlinalg\u001b[0m\u001b[1;33m.\u001b[0m\u001b[0msolve\u001b[0m\u001b[1;33m(\u001b[0m\u001b[0mA\u001b[0m\u001b[1;33m,\u001b[0m\u001b[0mb\u001b[0m\u001b[1;33m)\u001b[0m \u001b[1;31m# This is a consistent dependent system of equation,  with many solutions satisfying  x1 + x2 = 4\u001b[0m\u001b[1;33m\u001b[0m\u001b[1;33m\u001b[0m\u001b[0m\n\u001b[0m\u001b[0;32m      4\u001b[0m \u001b[0mx\u001b[0m\u001b[1;33m\u001b[0m\u001b[1;33m\u001b[0m\u001b[0m\n",
      "\u001b[1;32m<__array_function__ internals>\u001b[0m in \u001b[0;36msolve\u001b[1;34m(*args, **kwargs)\u001b[0m\n",
      "\u001b[1;32mC:\\ProgramData\\Anaconda3\\lib\\site-packages\\numpy\\linalg\\linalg.py\u001b[0m in \u001b[0;36msolve\u001b[1;34m(a, b)\u001b[0m\n\u001b[0;32m    391\u001b[0m     \u001b[0msignature\u001b[0m \u001b[1;33m=\u001b[0m \u001b[1;34m'DD->D'\u001b[0m \u001b[1;32mif\u001b[0m \u001b[0misComplexType\u001b[0m\u001b[1;33m(\u001b[0m\u001b[0mt\u001b[0m\u001b[1;33m)\u001b[0m \u001b[1;32melse\u001b[0m \u001b[1;34m'dd->d'\u001b[0m\u001b[1;33m\u001b[0m\u001b[1;33m\u001b[0m\u001b[0m\n\u001b[0;32m    392\u001b[0m     \u001b[0mextobj\u001b[0m \u001b[1;33m=\u001b[0m \u001b[0mget_linalg_error_extobj\u001b[0m\u001b[1;33m(\u001b[0m\u001b[0m_raise_linalgerror_singular\u001b[0m\u001b[1;33m)\u001b[0m\u001b[1;33m\u001b[0m\u001b[1;33m\u001b[0m\u001b[0m\n\u001b[1;32m--> 393\u001b[1;33m     \u001b[0mr\u001b[0m \u001b[1;33m=\u001b[0m \u001b[0mgufunc\u001b[0m\u001b[1;33m(\u001b[0m\u001b[0ma\u001b[0m\u001b[1;33m,\u001b[0m \u001b[0mb\u001b[0m\u001b[1;33m,\u001b[0m \u001b[0msignature\u001b[0m\u001b[1;33m=\u001b[0m\u001b[0msignature\u001b[0m\u001b[1;33m,\u001b[0m \u001b[0mextobj\u001b[0m\u001b[1;33m=\u001b[0m\u001b[0mextobj\u001b[0m\u001b[1;33m)\u001b[0m\u001b[1;33m\u001b[0m\u001b[1;33m\u001b[0m\u001b[0m\n\u001b[0m\u001b[0;32m    394\u001b[0m \u001b[1;33m\u001b[0m\u001b[0m\n\u001b[0;32m    395\u001b[0m     \u001b[1;32mreturn\u001b[0m \u001b[0mwrap\u001b[0m\u001b[1;33m(\u001b[0m\u001b[0mr\u001b[0m\u001b[1;33m.\u001b[0m\u001b[0mastype\u001b[0m\u001b[1;33m(\u001b[0m\u001b[0mresult_t\u001b[0m\u001b[1;33m,\u001b[0m \u001b[0mcopy\u001b[0m\u001b[1;33m=\u001b[0m\u001b[1;32mFalse\u001b[0m\u001b[1;33m)\u001b[0m\u001b[1;33m)\u001b[0m\u001b[1;33m\u001b[0m\u001b[1;33m\u001b[0m\u001b[0m\n",
      "\u001b[1;32mC:\\ProgramData\\Anaconda3\\lib\\site-packages\\numpy\\linalg\\linalg.py\u001b[0m in \u001b[0;36m_raise_linalgerror_singular\u001b[1;34m(err, flag)\u001b[0m\n\u001b[0;32m     86\u001b[0m \u001b[1;33m\u001b[0m\u001b[0m\n\u001b[0;32m     87\u001b[0m \u001b[1;32mdef\u001b[0m \u001b[0m_raise_linalgerror_singular\u001b[0m\u001b[1;33m(\u001b[0m\u001b[0merr\u001b[0m\u001b[1;33m,\u001b[0m \u001b[0mflag\u001b[0m\u001b[1;33m)\u001b[0m\u001b[1;33m:\u001b[0m\u001b[1;33m\u001b[0m\u001b[1;33m\u001b[0m\u001b[0m\n\u001b[1;32m---> 88\u001b[1;33m     \u001b[1;32mraise\u001b[0m \u001b[0mLinAlgError\u001b[0m\u001b[1;33m(\u001b[0m\u001b[1;34m\"Singular matrix\"\u001b[0m\u001b[1;33m)\u001b[0m\u001b[1;33m\u001b[0m\u001b[1;33m\u001b[0m\u001b[0m\n\u001b[0m\u001b[0;32m     89\u001b[0m \u001b[1;33m\u001b[0m\u001b[0m\n\u001b[0;32m     90\u001b[0m \u001b[1;32mdef\u001b[0m \u001b[0m_raise_linalgerror_nonposdef\u001b[0m\u001b[1;33m(\u001b[0m\u001b[0merr\u001b[0m\u001b[1;33m,\u001b[0m \u001b[0mflag\u001b[0m\u001b[1;33m)\u001b[0m\u001b[1;33m:\u001b[0m\u001b[1;33m\u001b[0m\u001b[1;33m\u001b[0m\u001b[0m\n",
      "\u001b[1;31mLinAlgError\u001b[0m: Singular matrix"
     ]
    }
   ],
   "source": [
    "A=  np.array([[1,1],[2,2]])\n",
    "b= np.array([4,8]) \n",
    "x=  np.linalg.solve(A,b) # This is a consistent dependent system of equation,  with many solutions satisfying  x1 + x2 = 4\n",
    "x"
   ]
  },
  {
   "cell_type": "code",
   "execution_count": null,
   "id": "c6b3c8c2",
   "metadata": {},
   "outputs": [],
   "source": [
    "np.linalg. det(A)"
   ]
  },
  {
   "cell_type": "code",
   "execution_count": 173,
   "id": "879c33af",
   "metadata": {},
   "outputs": [
    {
     "data": {
      "text/latex": [
       "$\\displaystyle \\left[\\begin{matrix}1 & 1\\\\0 & 0\\end{matrix}\\right]$"
      ],
      "text/plain": [
       "Matrix([\n",
       "[1, 1],\n",
       "[0, 0]])"
      ]
     },
     "execution_count": 173,
     "metadata": {},
     "output_type": "execute_result"
    }
   ],
   "source": [
    "rref_matrix, rref_pivots= sym.Matrix(A).rref()  #  rref: Return reduced row-echelon form of matrix and indices of pivot vars.\n",
    "rref_matrix"
   ]
  },
  {
   "cell_type": "code",
   "execution_count": 178,
   "id": "afb30c15",
   "metadata": {},
   "outputs": [
    {
     "ename": "LinAlgError",
     "evalue": "Last 2 dimensions of the array must be square",
     "output_type": "error",
     "traceback": [
      "\u001b[1;31m---------------------------------------------------------------------------\u001b[0m",
      "\u001b[1;31mLinAlgError\u001b[0m                               Traceback (most recent call last)",
      "\u001b[1;32mC:\\Users\\DELLPR~1\\AppData\\Local\\Temp/ipykernel_9012/3742975822.py\u001b[0m in \u001b[0;36m<module>\u001b[1;34m\u001b[0m\n\u001b[0;32m      1\u001b[0m \u001b[0mA\u001b[0m\u001b[1;33m=\u001b[0m  \u001b[0mnp\u001b[0m\u001b[1;33m.\u001b[0m\u001b[0marray\u001b[0m\u001b[1;33m(\u001b[0m\u001b[1;33m[\u001b[0m\u001b[1;33m[\u001b[0m\u001b[1;36m1\u001b[0m\u001b[1;33m,\u001b[0m\u001b[1;36m0\u001b[0m\u001b[1;33m]\u001b[0m\u001b[1;33m,\u001b[0m\u001b[1;33m[\u001b[0m\u001b[1;36m0\u001b[0m\u001b[1;33m,\u001b[0m\u001b[1;36m1\u001b[0m\u001b[1;33m]\u001b[0m\u001b[1;33m,\u001b[0m \u001b[1;33m[\u001b[0m\u001b[1;36m1\u001b[0m\u001b[1;33m,\u001b[0m\u001b[1;36m1\u001b[0m\u001b[1;33m]\u001b[0m\u001b[1;33m]\u001b[0m\u001b[1;33m)\u001b[0m \u001b[1;31m#\u001b[0m\u001b[1;33m\u001b[0m\u001b[1;33m\u001b[0m\u001b[0m\n\u001b[0;32m      2\u001b[0m \u001b[0mb\u001b[0m\u001b[1;33m=\u001b[0m \u001b[0mnp\u001b[0m\u001b[1;33m.\u001b[0m\u001b[0marray\u001b[0m\u001b[1;33m(\u001b[0m\u001b[1;33m[\u001b[0m\u001b[1;36m1\u001b[0m\u001b[1;33m,\u001b[0m\u001b[1;36m1\u001b[0m\u001b[1;33m,\u001b[0m \u001b[1;36m0\u001b[0m\u001b[1;33m]\u001b[0m\u001b[1;33m)\u001b[0m\u001b[1;33m\u001b[0m\u001b[1;33m\u001b[0m\u001b[0m\n\u001b[1;32m----> 3\u001b[1;33m \u001b[0mx\u001b[0m\u001b[1;33m=\u001b[0m  \u001b[0mnp\u001b[0m\u001b[1;33m.\u001b[0m\u001b[0mlinalg\u001b[0m\u001b[1;33m.\u001b[0m\u001b[0msolve\u001b[0m\u001b[1;33m(\u001b[0m\u001b[0mA\u001b[0m\u001b[1;33m,\u001b[0m\u001b[0mb\u001b[0m\u001b[1;33m)\u001b[0m \u001b[1;31m# This is an inconsistent system of equation,  with no solution\u001b[0m\u001b[1;33m\u001b[0m\u001b[1;33m\u001b[0m\u001b[0m\n\u001b[0m\u001b[0;32m      4\u001b[0m \u001b[0mx\u001b[0m\u001b[1;33m\u001b[0m\u001b[1;33m\u001b[0m\u001b[0m\n",
      "\u001b[1;32m<__array_function__ internals>\u001b[0m in \u001b[0;36msolve\u001b[1;34m(*args, **kwargs)\u001b[0m\n",
      "\u001b[1;32mC:\\ProgramData\\Anaconda3\\lib\\site-packages\\numpy\\linalg\\linalg.py\u001b[0m in \u001b[0;36msolve\u001b[1;34m(a, b)\u001b[0m\n\u001b[0;32m    378\u001b[0m     \u001b[0ma\u001b[0m\u001b[1;33m,\u001b[0m \u001b[0m_\u001b[0m \u001b[1;33m=\u001b[0m \u001b[0m_makearray\u001b[0m\u001b[1;33m(\u001b[0m\u001b[0ma\u001b[0m\u001b[1;33m)\u001b[0m\u001b[1;33m\u001b[0m\u001b[1;33m\u001b[0m\u001b[0m\n\u001b[0;32m    379\u001b[0m     \u001b[0m_assert_stacked_2d\u001b[0m\u001b[1;33m(\u001b[0m\u001b[0ma\u001b[0m\u001b[1;33m)\u001b[0m\u001b[1;33m\u001b[0m\u001b[1;33m\u001b[0m\u001b[0m\n\u001b[1;32m--> 380\u001b[1;33m     \u001b[0m_assert_stacked_square\u001b[0m\u001b[1;33m(\u001b[0m\u001b[0ma\u001b[0m\u001b[1;33m)\u001b[0m\u001b[1;33m\u001b[0m\u001b[1;33m\u001b[0m\u001b[0m\n\u001b[0m\u001b[0;32m    381\u001b[0m     \u001b[0mb\u001b[0m\u001b[1;33m,\u001b[0m \u001b[0mwrap\u001b[0m \u001b[1;33m=\u001b[0m \u001b[0m_makearray\u001b[0m\u001b[1;33m(\u001b[0m\u001b[0mb\u001b[0m\u001b[1;33m)\u001b[0m\u001b[1;33m\u001b[0m\u001b[1;33m\u001b[0m\u001b[0m\n\u001b[0;32m    382\u001b[0m     \u001b[0mt\u001b[0m\u001b[1;33m,\u001b[0m \u001b[0mresult_t\u001b[0m \u001b[1;33m=\u001b[0m \u001b[0m_commonType\u001b[0m\u001b[1;33m(\u001b[0m\u001b[0ma\u001b[0m\u001b[1;33m,\u001b[0m \u001b[0mb\u001b[0m\u001b[1;33m)\u001b[0m\u001b[1;33m\u001b[0m\u001b[1;33m\u001b[0m\u001b[0m\n",
      "\u001b[1;32mC:\\ProgramData\\Anaconda3\\lib\\site-packages\\numpy\\linalg\\linalg.py\u001b[0m in \u001b[0;36m_assert_stacked_square\u001b[1;34m(*arrays)\u001b[0m\n\u001b[0;32m    201\u001b[0m         \u001b[0mm\u001b[0m\u001b[1;33m,\u001b[0m \u001b[0mn\u001b[0m \u001b[1;33m=\u001b[0m \u001b[0ma\u001b[0m\u001b[1;33m.\u001b[0m\u001b[0mshape\u001b[0m\u001b[1;33m[\u001b[0m\u001b[1;33m-\u001b[0m\u001b[1;36m2\u001b[0m\u001b[1;33m:\u001b[0m\u001b[1;33m]\u001b[0m\u001b[1;33m\u001b[0m\u001b[1;33m\u001b[0m\u001b[0m\n\u001b[0;32m    202\u001b[0m         \u001b[1;32mif\u001b[0m \u001b[0mm\u001b[0m \u001b[1;33m!=\u001b[0m \u001b[0mn\u001b[0m\u001b[1;33m:\u001b[0m\u001b[1;33m\u001b[0m\u001b[1;33m\u001b[0m\u001b[0m\n\u001b[1;32m--> 203\u001b[1;33m             \u001b[1;32mraise\u001b[0m \u001b[0mLinAlgError\u001b[0m\u001b[1;33m(\u001b[0m\u001b[1;34m'Last 2 dimensions of the array must be square'\u001b[0m\u001b[1;33m)\u001b[0m\u001b[1;33m\u001b[0m\u001b[1;33m\u001b[0m\u001b[0m\n\u001b[0m\u001b[0;32m    204\u001b[0m \u001b[1;33m\u001b[0m\u001b[0m\n\u001b[0;32m    205\u001b[0m \u001b[1;32mdef\u001b[0m \u001b[0m_assert_finite\u001b[0m\u001b[1;33m(\u001b[0m\u001b[1;33m*\u001b[0m\u001b[0marrays\u001b[0m\u001b[1;33m)\u001b[0m\u001b[1;33m:\u001b[0m\u001b[1;33m\u001b[0m\u001b[1;33m\u001b[0m\u001b[0m\n",
      "\u001b[1;31mLinAlgError\u001b[0m: Last 2 dimensions of the array must be square"
     ]
    }
   ],
   "source": [
    "A=  np.array([[1,0],[0,1], [1,1]]) # \n",
    "b= np.array([1,1, 0]) \n",
    "x=  np.linalg.solve(A,b) # This is an inconsistent system of equation,  with no solution\n",
    "x"
   ]
  },
  {
   "cell_type": "code",
   "execution_count": 179,
   "id": "a706e7ea",
   "metadata": {},
   "outputs": [
    {
     "ename": "LinAlgError",
     "evalue": "Last 2 dimensions of the array must be square",
     "output_type": "error",
     "traceback": [
      "\u001b[1;31m---------------------------------------------------------------------------\u001b[0m",
      "\u001b[1;31mLinAlgError\u001b[0m                               Traceback (most recent call last)",
      "\u001b[1;32mC:\\Users\\DELLPR~1\\AppData\\Local\\Temp/ipykernel_9012/573602909.py\u001b[0m in \u001b[0;36m<module>\u001b[1;34m\u001b[0m\n\u001b[1;32m----> 1\u001b[1;33m \u001b[0mnp\u001b[0m\u001b[1;33m.\u001b[0m\u001b[0mlinalg\u001b[0m\u001b[1;33m.\u001b[0m \u001b[0mdet\u001b[0m\u001b[1;33m(\u001b[0m\u001b[0mA\u001b[0m\u001b[1;33m)\u001b[0m\u001b[1;33m\u001b[0m\u001b[1;33m\u001b[0m\u001b[0m\n\u001b[0m",
      "\u001b[1;32m<__array_function__ internals>\u001b[0m in \u001b[0;36mdet\u001b[1;34m(*args, **kwargs)\u001b[0m\n",
      "\u001b[1;32mC:\\ProgramData\\Anaconda3\\lib\\site-packages\\numpy\\linalg\\linalg.py\u001b[0m in \u001b[0;36mdet\u001b[1;34m(a)\u001b[0m\n\u001b[0;32m   2153\u001b[0m     \u001b[0ma\u001b[0m \u001b[1;33m=\u001b[0m \u001b[0masarray\u001b[0m\u001b[1;33m(\u001b[0m\u001b[0ma\u001b[0m\u001b[1;33m)\u001b[0m\u001b[1;33m\u001b[0m\u001b[1;33m\u001b[0m\u001b[0m\n\u001b[0;32m   2154\u001b[0m     \u001b[0m_assert_stacked_2d\u001b[0m\u001b[1;33m(\u001b[0m\u001b[0ma\u001b[0m\u001b[1;33m)\u001b[0m\u001b[1;33m\u001b[0m\u001b[1;33m\u001b[0m\u001b[0m\n\u001b[1;32m-> 2155\u001b[1;33m     \u001b[0m_assert_stacked_square\u001b[0m\u001b[1;33m(\u001b[0m\u001b[0ma\u001b[0m\u001b[1;33m)\u001b[0m\u001b[1;33m\u001b[0m\u001b[1;33m\u001b[0m\u001b[0m\n\u001b[0m\u001b[0;32m   2156\u001b[0m     \u001b[0mt\u001b[0m\u001b[1;33m,\u001b[0m \u001b[0mresult_t\u001b[0m \u001b[1;33m=\u001b[0m \u001b[0m_commonType\u001b[0m\u001b[1;33m(\u001b[0m\u001b[0ma\u001b[0m\u001b[1;33m)\u001b[0m\u001b[1;33m\u001b[0m\u001b[1;33m\u001b[0m\u001b[0m\n\u001b[0;32m   2157\u001b[0m     \u001b[0msignature\u001b[0m \u001b[1;33m=\u001b[0m \u001b[1;34m'D->D'\u001b[0m \u001b[1;32mif\u001b[0m \u001b[0misComplexType\u001b[0m\u001b[1;33m(\u001b[0m\u001b[0mt\u001b[0m\u001b[1;33m)\u001b[0m \u001b[1;32melse\u001b[0m \u001b[1;34m'd->d'\u001b[0m\u001b[1;33m\u001b[0m\u001b[1;33m\u001b[0m\u001b[0m\n",
      "\u001b[1;32mC:\\ProgramData\\Anaconda3\\lib\\site-packages\\numpy\\linalg\\linalg.py\u001b[0m in \u001b[0;36m_assert_stacked_square\u001b[1;34m(*arrays)\u001b[0m\n\u001b[0;32m    201\u001b[0m         \u001b[0mm\u001b[0m\u001b[1;33m,\u001b[0m \u001b[0mn\u001b[0m \u001b[1;33m=\u001b[0m \u001b[0ma\u001b[0m\u001b[1;33m.\u001b[0m\u001b[0mshape\u001b[0m\u001b[1;33m[\u001b[0m\u001b[1;33m-\u001b[0m\u001b[1;36m2\u001b[0m\u001b[1;33m:\u001b[0m\u001b[1;33m]\u001b[0m\u001b[1;33m\u001b[0m\u001b[1;33m\u001b[0m\u001b[0m\n\u001b[0;32m    202\u001b[0m         \u001b[1;32mif\u001b[0m \u001b[0mm\u001b[0m \u001b[1;33m!=\u001b[0m \u001b[0mn\u001b[0m\u001b[1;33m:\u001b[0m\u001b[1;33m\u001b[0m\u001b[1;33m\u001b[0m\u001b[0m\n\u001b[1;32m--> 203\u001b[1;33m             \u001b[1;32mraise\u001b[0m \u001b[0mLinAlgError\u001b[0m\u001b[1;33m(\u001b[0m\u001b[1;34m'Last 2 dimensions of the array must be square'\u001b[0m\u001b[1;33m)\u001b[0m\u001b[1;33m\u001b[0m\u001b[1;33m\u001b[0m\u001b[0m\n\u001b[0m\u001b[0;32m    204\u001b[0m \u001b[1;33m\u001b[0m\u001b[0m\n\u001b[0;32m    205\u001b[0m \u001b[1;32mdef\u001b[0m \u001b[0m_assert_finite\u001b[0m\u001b[1;33m(\u001b[0m\u001b[1;33m*\u001b[0m\u001b[0marrays\u001b[0m\u001b[1;33m)\u001b[0m\u001b[1;33m:\u001b[0m\u001b[1;33m\u001b[0m\u001b[1;33m\u001b[0m\u001b[0m\n",
      "\u001b[1;31mLinAlgError\u001b[0m: Last 2 dimensions of the array must be square"
     ]
    }
   ],
   "source": [
    "np.linalg. det(A)"
   ]
  },
  {
   "cell_type": "code",
   "execution_count": 180,
   "id": "de599c74",
   "metadata": {},
   "outputs": [
    {
     "name": "stderr",
     "output_type": "stream",
     "text": [
      "C:\\Users\\DELLPR~1\\AppData\\Local\\Temp/ipykernel_9012/3473248641.py:1: FutureWarning: `rcond` parameter will change to the default of machine precision times ``max(M, N)`` where M and N are the input matrix dimensions.\n",
      "To use the future default and silence this warning we advise to pass `rcond=None`, to keep using the old, explicitly pass `rcond=-1`.\n",
      "  np.linalg.lstsq(A,b)\n"
     ]
    },
    {
     "data": {
      "text/plain": [
       "(array([0.33333333, 0.33333333]),\n",
       " array([1.33333333]),\n",
       " 2,\n",
       " array([1.73205081, 1.        ]))"
      ]
     },
     "execution_count": 180,
     "metadata": {},
     "output_type": "execute_result"
    }
   ],
   "source": [
    "np.linalg.lstsq(A,b) # Return the least-squares solution to a linear matrix equation."
   ]
  },
  {
   "cell_type": "code",
   "execution_count": 181,
   "id": "5e0902d7",
   "metadata": {},
   "outputs": [],
   "source": [
    "np.linalg.lstsq?"
   ]
  },
  {
   "cell_type": "code",
   "execution_count": 185,
   "id": "078c7db3",
   "metadata": {},
   "outputs": [
    {
     "data": {
      "text/latex": [
       "$\\displaystyle \\left[\\begin{matrix}1 & 0\\\\0 & 0\\end{matrix}\\right]$"
      ],
      "text/plain": [
       "Matrix([\n",
       "[1, 0],\n",
       "[0, 0]])"
      ]
     },
     "execution_count": 185,
     "metadata": {},
     "output_type": "execute_result"
    }
   ],
   "source": [
    "x = sym.Symbol('x')\n",
    "y = sym.Symbol('y')\n",
    "M = sym.Matrix([[x, y], [1, 0]])\n",
    "M.diff(x)"
   ]
  },
  {
   "cell_type": "code",
   "execution_count": 186,
   "id": "dc5abf9b",
   "metadata": {},
   "outputs": [
    {
     "data": {
      "text/latex": [
       "$\\displaystyle \\left[\\begin{matrix}\\frac{x^{2}}{2} & x y\\\\x & 0\\end{matrix}\\right]$"
      ],
      "text/plain": [
       "Matrix([\n",
       "[x**2/2, x*y],\n",
       "[     x,   0]])"
      ]
     },
     "execution_count": 186,
     "metadata": {},
     "output_type": "execute_result"
    }
   ],
   "source": [
    "M.integrate((x, ))"
   ]
  },
  {
   "cell_type": "code",
   "execution_count": 189,
   "id": "3a1e1816",
   "metadata": {},
   "outputs": [
    {
     "ename": "TypeError",
     "evalue": "``self`` must be a row or a column matrix",
     "output_type": "error",
     "traceback": [
      "\u001b[1;31m---------------------------------------------------------------------------\u001b[0m",
      "\u001b[1;31mTypeError\u001b[0m                                 Traceback (most recent call last)",
      "\u001b[1;32mC:\\Users\\DELLPR~1\\AppData\\Local\\Temp/ipykernel_9012/2372930650.py\u001b[0m in \u001b[0;36m<module>\u001b[1;34m\u001b[0m\n\u001b[1;32m----> 1\u001b[1;33m \u001b[0mM\u001b[0m\u001b[1;33m.\u001b[0m\u001b[0mjacobian\u001b[0m\u001b[1;33m(\u001b[0m\u001b[1;33m(\u001b[0m\u001b[0mx\u001b[0m\u001b[1;33m,\u001b[0m \u001b[0my\u001b[0m\u001b[1;33m)\u001b[0m\u001b[1;33m)\u001b[0m\u001b[1;33m\u001b[0m\u001b[1;33m\u001b[0m\u001b[0m\n\u001b[0m",
      "\u001b[1;32mC:\\ProgramData\\Anaconda3\\lib\\site-packages\\sympy\\matrices\\matrices.py\u001b[0m in \u001b[0;36mjacobian\u001b[1;34m(self, X)\u001b[0m\n\u001b[0;32m    546\u001b[0m             \u001b[0mm\u001b[0m \u001b[1;33m=\u001b[0m \u001b[0mself\u001b[0m\u001b[1;33m.\u001b[0m\u001b[0mshape\u001b[0m\u001b[1;33m[\u001b[0m\u001b[1;36m0\u001b[0m\u001b[1;33m]\u001b[0m\u001b[1;33m\u001b[0m\u001b[1;33m\u001b[0m\u001b[0m\n\u001b[0;32m    547\u001b[0m         \u001b[1;32melse\u001b[0m\u001b[1;33m:\u001b[0m\u001b[1;33m\u001b[0m\u001b[1;33m\u001b[0m\u001b[0m\n\u001b[1;32m--> 548\u001b[1;33m             \u001b[1;32mraise\u001b[0m \u001b[0mTypeError\u001b[0m\u001b[1;33m(\u001b[0m\u001b[1;34m\"``self`` must be a row or a column matrix\"\u001b[0m\u001b[1;33m)\u001b[0m\u001b[1;33m\u001b[0m\u001b[1;33m\u001b[0m\u001b[0m\n\u001b[0m\u001b[0;32m    549\u001b[0m         \u001b[1;32mif\u001b[0m \u001b[0mX\u001b[0m\u001b[1;33m.\u001b[0m\u001b[0mshape\u001b[0m\u001b[1;33m[\u001b[0m\u001b[1;36m0\u001b[0m\u001b[1;33m]\u001b[0m \u001b[1;33m==\u001b[0m \u001b[1;36m1\u001b[0m\u001b[1;33m:\u001b[0m\u001b[1;33m\u001b[0m\u001b[1;33m\u001b[0m\u001b[0m\n\u001b[0;32m    550\u001b[0m             \u001b[0mn\u001b[0m \u001b[1;33m=\u001b[0m \u001b[0mX\u001b[0m\u001b[1;33m.\u001b[0m\u001b[0mshape\u001b[0m\u001b[1;33m[\u001b[0m\u001b[1;36m1\u001b[0m\u001b[1;33m]\u001b[0m\u001b[1;33m\u001b[0m\u001b[1;33m\u001b[0m\u001b[0m\n",
      "\u001b[1;31mTypeError\u001b[0m: ``self`` must be a row or a column matrix"
     ]
    }
   ],
   "source": [
    "M.jacobian((x, y))"
   ]
  },
  {
   "cell_type": "code",
   "execution_count": 194,
   "id": "88952624",
   "metadata": {},
   "outputs": [
    {
     "data": {
      "text/latex": [
       "$\\displaystyle \\left[\\begin{matrix}\\rho \\cos{\\left(\\phi \\right)}\\\\\\rho \\sin{\\left(\\phi \\right)}\\\\\\rho^{2}\\end{matrix}\\right]$"
      ],
      "text/plain": [
       "Matrix([\n",
       "[rho*cos(phi)],\n",
       "[rho*sin(phi)],\n",
       "[      rho**2]])"
      ]
     },
     "execution_count": 194,
     "metadata": {},
     "output_type": "execute_result"
    }
   ],
   "source": [
    "from sympy.abc import rho, phi\n",
    "from sympy import sin, cos, Matrix\n",
    "\n",
    "X = sym.Matrix([rho*cos(phi), rho*sin(phi), rho**2])\n",
    "X"
   ]
  },
  {
   "cell_type": "code",
   "execution_count": 196,
   "id": "d25c0fa6",
   "metadata": {},
   "outputs": [
    {
     "data": {
      "text/latex": [
       "$\\displaystyle \\left[\\begin{matrix}\\rho\\\\\\phi\\end{matrix}\\right]$"
      ],
      "text/plain": [
       "Matrix([\n",
       "[rho],\n",
       "[phi]])"
      ]
     },
     "execution_count": 196,
     "metadata": {},
     "output_type": "execute_result"
    }
   ],
   "source": [
    "Y = sym.Matrix([rho, phi])\n",
    "Y"
   ]
  },
  {
   "cell_type": "code",
   "execution_count": 197,
   "id": "8cb3c4fe",
   "metadata": {},
   "outputs": [
    {
     "data": {
      "text/latex": [
       "$\\displaystyle \\left[\\begin{matrix}\\cos{\\left(\\phi \\right)} & - \\rho \\sin{\\left(\\phi \\right)}\\\\\\sin{\\left(\\phi \\right)} & \\rho \\cos{\\left(\\phi \\right)}\\\\2 \\rho & 0\\end{matrix}\\right]$"
      ],
      "text/plain": [
       "Matrix([\n",
       "[cos(phi), -rho*sin(phi)],\n",
       "[sin(phi),  rho*cos(phi)],\n",
       "[   2*rho,             0]])"
      ]
     },
     "execution_count": 197,
     "metadata": {},
     "output_type": "execute_result"
    }
   ],
   "source": [
    "X.jacobian(Y)"
   ]
  },
  {
   "cell_type": "code",
   "execution_count": 203,
   "id": "39d56972",
   "metadata": {},
   "outputs": [
    {
     "data": {
      "text/latex": [
       "$\\displaystyle f{\\left(x,y \\right)}$"
      ],
      "text/plain": [
       "f(x, y)"
      ]
     },
     "execution_count": 203,
     "metadata": {},
     "output_type": "execute_result"
    }
   ],
   "source": [
    "from sympy import Function, hessian, pprint\n",
    "from sympy.abc import x, y\n",
    "\n",
    "f = Function('f')(x, y)\n",
    "g1 = Function('g')(x, y)\n",
    "g2 = x**2 + 3*y\n",
    "f"
   ]
  },
  {
   "cell_type": "code",
   "execution_count": 204,
   "id": "80007193",
   "metadata": {},
   "outputs": [
    {
     "data": {
      "text/latex": [
       "$\\displaystyle g{\\left(x,y \\right)}$"
      ],
      "text/plain": [
       "g(x, y)"
      ]
     },
     "execution_count": 204,
     "metadata": {},
     "output_type": "execute_result"
    }
   ],
   "source": [
    "g1"
   ]
  },
  {
   "cell_type": "code",
   "execution_count": 205,
   "id": "f53b062c",
   "metadata": {},
   "outputs": [
    {
     "data": {
      "text/latex": [
       "$\\displaystyle x^{2} + 3 y$"
      ],
      "text/plain": [
       "x**2 + 3*y"
      ]
     },
     "execution_count": 205,
     "metadata": {},
     "output_type": "execute_result"
    }
   ],
   "source": [
    "g2"
   ]
  },
  {
   "cell_type": "code",
   "execution_count": 202,
   "id": "442b28ab",
   "metadata": {},
   "outputs": [
    {
     "data": {
      "text/latex": [
       "$\\displaystyle \\left[\\begin{matrix}0 & 0 & \\frac{\\partial}{\\partial x} g{\\left(x,y \\right)} & \\frac{\\partial}{\\partial y} g{\\left(x,y \\right)}\\\\0 & 0 & 2 x & 3\\\\\\frac{\\partial}{\\partial x} g{\\left(x,y \\right)} & 2 x & \\frac{\\partial^{2}}{\\partial x^{2}} f{\\left(x,y \\right)} & \\frac{\\partial^{2}}{\\partial y\\partial x} f{\\left(x,y \\right)}\\\\\\frac{\\partial}{\\partial y} g{\\left(x,y \\right)} & 3 & \\frac{\\partial^{2}}{\\partial y\\partial x} f{\\left(x,y \\right)} & \\frac{\\partial^{2}}{\\partial y^{2}} f{\\left(x,y \\right)}\\end{matrix}\\right]$"
      ],
      "text/plain": [
       "Matrix([\n",
       "[                     0,   0,      Derivative(g(x, y), x),      Derivative(g(x, y), y)],\n",
       "[                     0,   0,                         2*x,                           3],\n",
       "[Derivative(g(x, y), x), 2*x, Derivative(f(x, y), (x, 2)),   Derivative(f(x, y), x, y)],\n",
       "[Derivative(g(x, y), y),   3,   Derivative(f(x, y), x, y), Derivative(f(x, y), (y, 2))]])"
      ]
     },
     "execution_count": 202,
     "metadata": {},
     "output_type": "execute_result"
    }
   ],
   "source": [
    "hessian(f, (x, y), [g1, g2])"
   ]
  },
  {
   "cell_type": "markdown",
   "id": "acca0c36",
   "metadata": {},
   "source": [
    "## 1.3.2 Tensor Indexing"
   ]
  },
  {
   "cell_type": "markdown",
   "id": "079b07e1",
   "metadata": {},
   "source": [
    "# Subarrays as Fibers, Slices, indexing options\n",
    "\n",
    "## Fibers are the higher order analogue of matrix rows and columns. A fiber is defined by fixing every index but one.\n",
    "\n"
   ]
  },
  {
   "cell_type": "code",
   "execution_count": 4,
   "id": "b0a00f4b",
   "metadata": {},
   "outputs": [
    {
     "data": {
      "text/plain": [
       "array([[[ 0,  1],\n",
       "        [ 2,  3],\n",
       "        [ 4,  5],\n",
       "        [ 6,  7]],\n",
       "\n",
       "       [[ 8,  9],\n",
       "        [10, 11],\n",
       "        [12, 13],\n",
       "        [14, 15]],\n",
       "\n",
       "       [[16, 17],\n",
       "        [18, 19],\n",
       "        [20, 21],\n",
       "        [22, 23]]])"
      ]
     },
     "execution_count": 4,
     "metadata": {},
     "output_type": "execute_result"
    }
   ],
   "source": [
    "import tensorly as tl\n",
    "\n",
    "X = tl.tensor(np.arange(24).reshape((3, 4, 2)))\n",
    "X"
   ]
  },
  {
   "cell_type": "code",
   "execution_count": 5,
   "id": "ed60d7c8",
   "metadata": {},
   "outputs": [
    {
     "data": {
      "text/plain": [
       "array([ 0,  8, 16])"
      ]
     },
     "execution_count": 5,
     "metadata": {},
     "output_type": "execute_result"
    }
   ],
   "source": [
    "# (column) \n",
    "Mode_1_fiber1_1 = X[..., 0, 0]\n",
    "Mode_1_fiber1_1"
   ]
  },
  {
   "cell_type": "code",
   "execution_count": 6,
   "id": "40d8a303",
   "metadata": {},
   "outputs": [
    {
     "data": {
      "text/plain": [
       "array([0, 2, 4, 6])"
      ]
     },
     "execution_count": 6,
     "metadata": {},
     "output_type": "execute_result"
    }
   ],
   "source": [
    "# (row) \n",
    "Mode_2_fiber1_1 = X[0, :, 0]\n",
    "Mode_2_fiber1_1"
   ]
  },
  {
   "cell_type": "code",
   "execution_count": 7,
   "id": "79e4d627",
   "metadata": {},
   "outputs": [
    {
     "data": {
      "text/plain": [
       "array([0, 1])"
      ]
     },
     "execution_count": 7,
     "metadata": {},
     "output_type": "execute_result"
    }
   ],
   "source": [
    "# (tube)) \n",
    "Mode_3_fiber1_1 = X[0, 0, ...]\n",
    "Mode_3_fiber1_1"
   ]
  },
  {
   "cell_type": "markdown",
   "id": "9d959b5d",
   "metadata": {},
   "source": [
    "## Slices, matricisation of 3-way tensors\n",
    "Slices are two-dimensional sections of a 3-way tensor, defined by fixing all but two indices.  𝑋𝐼×𝐽𝐾  = horizontal slices for the different values of I (first index)  𝑋𝐽×𝐼𝐾  = Lateral slices for the different values of J (middle index)  𝑋𝐾×𝐼𝐽  = frontal slices for the different values of K (last index)"
   ]
  },
  {
   "cell_type": "code",
   "execution_count": 8,
   "id": "100a9b2e",
   "metadata": {},
   "outputs": [
    {
     "data": {
      "text/plain": [
       "array([[0, 1],\n",
       "       [2, 3],\n",
       "       [4, 5],\n",
       "       [6, 7]])"
      ]
     },
     "execution_count": 8,
     "metadata": {},
     "output_type": "execute_result"
    }
   ],
   "source": [
    "horizontalSlice1 = X[0, ...] # From Size (3, 4, 2) to Size (4, 2), returning from the first dimension, the first slice\n",
    "horizontalSlice1"
   ]
  },
  {
   "cell_type": "code",
   "execution_count": 9,
   "id": "a4ec4eef",
   "metadata": {},
   "outputs": [
    {
     "data": {
      "text/plain": [
       "array([[ 0,  1],\n",
       "       [ 8,  9],\n",
       "       [16, 17]])"
      ]
     },
     "execution_count": 9,
     "metadata": {},
     "output_type": "execute_result"
    }
   ],
   "source": [
    "LateralSlice1 = X [:, 0, :]# From Size (3, 4, 2) to Size (3, 2), returning from the middle dimension, the first slice\n",
    "LateralSlice1"
   ]
  },
  {
   "cell_type": "code",
   "execution_count": 10,
   "id": "a42090fc",
   "metadata": {},
   "outputs": [
    {
     "data": {
      "text/plain": [
       "array([[ 0,  2,  4,  6],\n",
       "       [ 8, 10, 12, 14],\n",
       "       [16, 18, 20, 22]])"
      ]
     },
     "execution_count": 10,
     "metadata": {},
     "output_type": "execute_result"
    }
   ],
   "source": [
    "frontalSlice1 = X[..., 0]# From Size (3, 4, 2) to Size (3, 4), returning from the third dimension, the first slice\n",
    "frontalSlice1"
   ]
  },
  {
   "cell_type": "code",
   "execution_count": 11,
   "id": "edde46b2",
   "metadata": {},
   "outputs": [
    {
     "data": {
      "text/plain": [
       "array([[ 1,  3,  5,  7],\n",
       "       [ 9, 11, 13, 15],\n",
       "       [17, 19, 21, 23]])"
      ]
     },
     "execution_count": 11,
     "metadata": {},
     "output_type": "execute_result"
    }
   ],
   "source": [
    "frontalSlice2 = X[..., 1]# From Size (3, 4, 2) to Size (3, 4), returning from the third dimension, the second slice\n",
    "frontalSlice2"
   ]
  },
  {
   "cell_type": "markdown",
   "id": "b6140614",
   "metadata": {},
   "source": [
    "# Tensor unfolding is form of matricisation (Turning a tensor into a matrix) by flatenning its elements \n",
    "in a specific order define by the mode\n",
    "    \n",
    "The mode-n matricization of a tensor \n",
    "$X^2 \\in R^{I_1,I_2,..., I_N}$ \n",
    "is denoted by $X_{(n)}$ and arranges the\n",
    "mode-n fibers to be the columns of the resulting matrix.\n",
    "\\begin{equation}\n",
    "j = 1 + \\sum \\limits_{k=1 \\\\ k\\neq n}^N (i_k - 1)J_k, \\ \\ with \\ \\ J_k = \\prod \\limits_{m=1 \\\\ m \\neq n}^{k-1}I_m\n",
    "\\end{equation}"
   ]
  },
  {
   "cell_type": "code",
   "execution_count": 312,
   "id": "a6525ab4",
   "metadata": {},
   "outputs": [
    {
     "data": {
      "text/plain": [
       "array([[[0.15785204, 0.56224271, 0.09649035],\n",
       "        [0.2253596 , 0.11302609, 0.22486538],\n",
       "        [0.52144296, 0.45526878, 0.69003391]],\n",
       "\n",
       "       [[0.92934567, 0.40778065, 0.69213809],\n",
       "        [0.82843113, 0.20605553, 0.03487481],\n",
       "        [0.91039213, 0.16845441, 0.35785234]],\n",
       "\n",
       "       [[0.80393679, 0.98959772, 0.84417814],\n",
       "        [0.66121259, 0.72155557, 0.82262486],\n",
       "        [0.01932844, 0.67299381, 0.73532094]]])"
      ]
     },
     "execution_count": 312,
     "metadata": {},
     "output_type": "execute_result"
    }
   ],
   "source": [
    "from tensorly import random\n",
    "\n",
    "tensor = random.random_tensor((3, 3, 3))\n",
    "tensor"
   ]
  },
  {
   "cell_type": "code",
   "execution_count": 313,
   "id": "ba20c3c3",
   "metadata": {},
   "outputs": [
    {
     "data": {
      "text/plain": [
       "array([0.15785204, 0.56224271, 0.09649035, 0.2253596 , 0.11302609,\n",
       "       0.22486538, 0.52144296, 0.45526878, 0.69003391, 0.92934567,\n",
       "       0.40778065, 0.69213809, 0.82843113, 0.20605553, 0.03487481,\n",
       "       0.91039213, 0.16845441, 0.35785234, 0.80393679, 0.98959772,\n",
       "       0.84417814, 0.66121259, 0.72155557, 0.82262486, 0.01932844,\n",
       "       0.67299381, 0.73532094])"
      ]
     },
     "execution_count": 313,
     "metadata": {},
     "output_type": "execute_result"
    }
   ],
   "source": [
    "# The tensor vectorisation \n",
    "tl.tensor_to_vec(tensor)"
   ]
  },
  {
   "cell_type": "code",
   "execution_count": 320,
   "id": "71e68707",
   "metadata": {},
   "outputs": [
    {
     "data": {
      "text/plain": [
       "array([0.15785204, 0.56224271, 0.09649035, 0.2253596 , 0.11302609,\n",
       "       0.22486538, 0.52144296, 0.45526878, 0.69003391, 0.92934567,\n",
       "       0.40778065, 0.69213809, 0.82843113, 0.20605553, 0.03487481,\n",
       "       0.91039213, 0.16845441, 0.35785234, 0.80393679, 0.98959772,\n",
       "       0.84417814, 0.66121259, 0.72155557, 0.82262486, 0.01932844,\n",
       "       0.67299381, 0.73532094])"
      ]
     },
     "execution_count": 320,
     "metadata": {},
     "output_type": "execute_result"
    }
   ],
   "source": [
    "# The mode-n vectorisation is a mode-n matricization, followed by vertical stacking of the matrix in one column \n",
    "# mode-0 vectorisation\n",
    "tl.tensor_to_vec(unfold(tensor, 0))"
   ]
  },
  {
   "cell_type": "code",
   "execution_count": 321,
   "id": "bbb5221e",
   "metadata": {},
   "outputs": [
    {
     "data": {
      "text/plain": [
       "array([0.15785204, 0.56224271, 0.09649035, 0.92934567, 0.40778065,\n",
       "       0.69213809, 0.80393679, 0.98959772, 0.84417814, 0.2253596 ,\n",
       "       0.11302609, 0.22486538, 0.82843113, 0.20605553, 0.03487481,\n",
       "       0.66121259, 0.72155557, 0.82262486, 0.52144296, 0.45526878,\n",
       "       0.69003391, 0.91039213, 0.16845441, 0.35785234, 0.01932844,\n",
       "       0.67299381, 0.73532094])"
      ]
     },
     "execution_count": 321,
     "metadata": {},
     "output_type": "execute_result"
    }
   ],
   "source": [
    "# mode-1 vectorisation\n",
    "tl.tensor_to_vec(unfold(tensor, 1))"
   ]
  },
  {
   "cell_type": "code",
   "execution_count": 322,
   "id": "4a231b42",
   "metadata": {},
   "outputs": [
    {
     "data": {
      "text/plain": [
       "array([0.15785204, 0.2253596 , 0.52144296, 0.92934567, 0.82843113,\n",
       "       0.91039213, 0.80393679, 0.66121259, 0.01932844, 0.56224271,\n",
       "       0.11302609, 0.45526878, 0.40778065, 0.20605553, 0.16845441,\n",
       "       0.98959772, 0.72155557, 0.67299381, 0.09649035, 0.22486538,\n",
       "       0.69003391, 0.69213809, 0.03487481, 0.35785234, 0.84417814,\n",
       "       0.82262486, 0.73532094])"
      ]
     },
     "execution_count": 322,
     "metadata": {},
     "output_type": "execute_result"
    }
   ],
   "source": [
    "# mode-2 vectorisation\n",
    "tl.tensor_to_vec(unfold(tensor, 2))"
   ]
  },
  {
   "cell_type": "code",
   "execution_count": 12,
   "id": "1df7a902",
   "metadata": {},
   "outputs": [
    {
     "data": {
      "text/plain": [
       "array([[ 0,  1,  2,  3,  4,  5,  6,  7],\n",
       "       [ 8,  9, 10, 11, 12, 13, 14, 15],\n",
       "       [16, 17, 18, 19, 20, 21, 22, 23]])"
      ]
     },
     "execution_count": 12,
     "metadata": {},
     "output_type": "execute_result"
    }
   ],
   "source": [
    "# The mode-n matricization: http://jeankossaifi.com/blog/unfolding.html\n",
    "\n",
    "tl.unfold(X, 0) # mode-1 unfolding, From Size (3, 4, 2) to Size (3, 4*2), keeping the shape index of the mode as the first shape size, and multiplying the remainng two"
   ]
  },
  {
   "cell_type": "code",
   "execution_count": 13,
   "id": "b14879c2",
   "metadata": {},
   "outputs": [
    {
     "data": {
      "text/plain": [
       "array([[ 0,  1,  8,  9, 16, 17],\n",
       "       [ 2,  3, 10, 11, 18, 19],\n",
       "       [ 4,  5, 12, 13, 20, 21],\n",
       "       [ 6,  7, 14, 15, 22, 23]])"
      ]
     },
     "execution_count": 13,
     "metadata": {},
     "output_type": "execute_result"
    }
   ],
   "source": [
    "# keeping the unfold mode 1 in a variable to fold back as an example\n",
    "\n",
    "unfolding  = tl.unfold(X, 1) # mode-2 unfolding, From Size (3, 4, 2) to Size (4, 3*2)\n",
    "unfolding"
   ]
  },
  {
   "cell_type": "code",
   "execution_count": 14,
   "id": "39fdb2f7",
   "metadata": {},
   "outputs": [
    {
     "data": {
      "text/plain": [
       "array([[ 0,  2,  4,  6,  8, 10, 12, 14, 16, 18, 20, 22],\n",
       "       [ 1,  3,  5,  7,  9, 11, 13, 15, 17, 19, 21, 23]])"
      ]
     },
     "execution_count": 14,
     "metadata": {},
     "output_type": "execute_result"
    }
   ],
   "source": [
    "tl.unfold(X, 2) # mode-3 unfolding, From Size (3, 4, 2) to Size (2, 3*4)"
   ]
  },
  {
   "cell_type": "code",
   "execution_count": 302,
   "id": "8d9aa734",
   "metadata": {},
   "outputs": [
    {
     "data": {
      "text/plain": [
       "array([[ 0,  1,  2,  3,  4,  5,  6,  7],\n",
       "       [ 8,  9, 10, 11, 12, 13, 14, 15],\n",
       "       [16, 17, 18, 19, 20, 21, 22, 23]])"
      ]
     },
     "execution_count": 302,
     "metadata": {},
     "output_type": "execute_result"
    }
   ],
   "source": [
    "# another example\n",
    "a = np.arange(24).reshape(3, 4, 2)\n",
    "a\n",
    "unfold(a, 0) # mode-0 unfolding:"
   ]
  },
  {
   "cell_type": "code",
   "execution_count": 303,
   "id": "38a18dd8",
   "metadata": {},
   "outputs": [
    {
     "data": {
      "text/plain": [
       "array([[ 0,  1,  8,  9, 16, 17],\n",
       "       [ 2,  3, 10, 11, 18, 19],\n",
       "       [ 4,  5, 12, 13, 20, 21],\n",
       "       [ 6,  7, 14, 15, 22, 23]])"
      ]
     },
     "execution_count": 303,
     "metadata": {},
     "output_type": "execute_result"
    }
   ],
   "source": [
    "unfold(a, 1) # mode-1 unfolding:"
   ]
  },
  {
   "cell_type": "code",
   "execution_count": 304,
   "id": "e95c342b",
   "metadata": {},
   "outputs": [
    {
     "data": {
      "text/plain": [
       "array([[ 0,  2,  4,  6,  8, 10, 12, 14, 16, 18, 20, 22],\n",
       "       [ 1,  3,  5,  7,  9, 11, 13, 15, 17, 19, 21, 23]])"
      ]
     },
     "execution_count": 304,
     "metadata": {},
     "output_type": "execute_result"
    }
   ],
   "source": [
    "unfold(a, 2) # mode-2 unfolding:"
   ]
  },
  {
   "cell_type": "markdown",
   "id": "98410c93",
   "metadata": {},
   "source": [
    "## Folding back to original shape"
   ]
  },
  {
   "cell_type": "code",
   "execution_count": 15,
   "id": "ca26bec4",
   "metadata": {},
   "outputs": [
    {
     "data": {
      "text/plain": [
       "array([[[ 0,  1],\n",
       "        [ 2,  3],\n",
       "        [ 4,  5],\n",
       "        [ 6,  7]],\n",
       "\n",
       "       [[ 8,  9],\n",
       "        [10, 11],\n",
       "        [12, 13],\n",
       "        [14, 15]],\n",
       "\n",
       "       [[16, 17],\n",
       "        [18, 19],\n",
       "        [20, 21],\n",
       "        [22, 23]]])"
      ]
     },
     "execution_count": 15,
     "metadata": {},
     "output_type": "execute_result"
    }
   ],
   "source": [
    "original_shape = X.shape\n",
    "tl.fold(unfolding, 1, original_shape)"
   ]
  },
  {
   "cell_type": "code",
   "execution_count": 324,
   "id": "1f153e29",
   "metadata": {},
   "outputs": [
    {
     "data": {
      "text/plain": [
       "array([[0.95862487, 0.1083155 , 0.2179205 , 0.77754626, 0.61236104,\n",
       "        0.65646368, 0.84419479, 0.48406566, 0.6145775 ],\n",
       "       [0.32396013, 0.46863424, 0.70414332, 0.14486821, 0.71148949,\n",
       "        0.80694098, 0.34202876, 0.80642626, 0.73546575],\n",
       "       [0.31602446, 0.30220233, 0.81908275, 0.09771052, 0.96997373,\n",
       "        0.83106511, 0.1864604 , 0.90528509, 0.30163064],\n",
       "       [0.66906794, 0.77653905, 0.54510797, 0.56937594, 0.51085961,\n",
       "        0.18129514, 0.22931064, 0.27277081, 0.53572697],\n",
       "       [0.01667094, 0.1752115 , 0.76124456, 0.38141082, 0.14620056,\n",
       "        0.39040841, 0.98208438, 0.93014926, 0.27800416],\n",
       "       [0.44144018, 0.05679481, 0.65744627, 0.45283235, 0.90289242,\n",
       "        0.51215702, 0.83380277, 0.18681492, 0.98800611],\n",
       "       [0.99145094, 0.53402121, 0.62179912, 0.15670147, 0.55228201,\n",
       "        0.53125224, 0.69041084, 0.37497069, 0.20920336],\n",
       "       [0.40112765, 0.11591272, 0.38885812, 0.29891832, 0.05965837,\n",
       "        0.75743683, 0.55176788, 0.95800012, 0.00376136],\n",
       "       [0.30161135, 0.01070243, 0.38780665, 0.68880942, 0.46984693,\n",
       "        0.33365533, 0.49496325, 0.98226169, 0.74946041]])"
      ]
     },
     "execution_count": 324,
     "metadata": {},
     "output_type": "execute_result"
    }
   ],
   "source": [
    "# The n-unfolding of a tensor can be formed by automatically calculating the shape of the resulting tensor, here is an example where the shape is fixed\n",
    "tl.fold(tensor, 1, (9, 9))"
   ]
  },
  {
   "cell_type": "markdown",
   "id": "514f1a30",
   "metadata": {},
   "source": [
    "## Einstein Indexing Notation"
   ]
  },
  {
   "cell_type": "code",
   "execution_count": 265,
   "id": "fd9179fa",
   "metadata": {},
   "outputs": [],
   "source": [
    "v = np.array([1, 2, 3])\n",
    "A = np.array([[ 1,  2,  3,  4],\n",
    "              [ 5,  6,  7, 8],\n",
    "              [ 9, 10, 11, 12]])"
   ]
  },
  {
   "cell_type": "code",
   "execution_count": 266,
   "id": "3a16df79",
   "metadata": {},
   "outputs": [
    {
     "data": {
      "text/plain": [
       "array([ 10,  52, 126])"
      ]
     },
     "execution_count": 266,
     "metadata": {},
     "output_type": "execute_result"
    }
   ],
   "source": [
    "(v[:, np.newaxis] * A).sum(axis=1) # This multiply vector v and Matrix A element-wise and then sum along the rows of the new array"
   ]
  },
  {
   "cell_type": "code",
   "execution_count": 267,
   "id": "a221e414",
   "metadata": {},
   "outputs": [
    {
     "data": {
      "text/plain": [
       "array([ 10,  52, 126])"
      ]
     },
     "execution_count": 267,
     "metadata": {},
     "output_type": "execute_result"
    }
   ],
   "source": [
    "\n",
    "# This can be expressed in Einstein notation. The documentation of the function says: subscripts : str\n",
    "'''\n",
    "subscripts : str\n",
    "    Specifies the subscripts for summation as comma separated list of\n",
    "    subscript labels. An implicit (classical Einstein summation)\n",
    "    calculation is performed unless the explicit indicator '->' is\n",
    "    included as well as subscript labels of the precise output form.\n",
    "'''\n",
    "np.einsum('i,ij->i', v, A) # The signature string 'i,ij->i' has two components. On the left-hand side (left of the ->) we've labelled the two input arrays. To the right of ->, we've labelled the array we want to end up with."
   ]
  },
  {
   "cell_type": "code",
   "execution_count": 268,
   "id": "f7cbdbd6",
   "metadata": {},
   "outputs": [
    {
     "data": {
      "text/plain": [
       "60"
      ]
     },
     "execution_count": 268,
     "metadata": {},
     "output_type": "execute_result"
    }
   ],
   "source": [
    "a = np.arange(25).reshape(5,5)\n",
    "# Trace of a matrix:\n",
    "np.einsum('ii', a)"
   ]
  },
  {
   "cell_type": "code",
   "execution_count": 270,
   "id": "b11a463b",
   "metadata": {},
   "outputs": [
    {
     "data": {
      "text/plain": [
       "array([ 10,  35,  60,  85, 110])"
      ]
     },
     "execution_count": 270,
     "metadata": {},
     "output_type": "execute_result"
    }
   ],
   "source": [
    "# Sum over an axis (requires explicit form):\n",
    "np.einsum('ij->i', a)"
   ]
  },
  {
   "cell_type": "code",
   "execution_count": 269,
   "id": "85a5985e",
   "metadata": {},
   "outputs": [
    {
     "data": {
      "text/plain": [
       "array([ 0,  6, 12, 18, 24])"
      ]
     },
     "execution_count": 269,
     "metadata": {},
     "output_type": "execute_result"
    }
   ],
   "source": [
    "# Extract the diagonal (requires explicit form):\n",
    "np.einsum('ii->i', a)"
   ]
  },
  {
   "cell_type": "code",
   "execution_count": 271,
   "id": "5a343b2f",
   "metadata": {},
   "outputs": [
    {
     "data": {
      "text/plain": [
       "array([ 10,  35,  60,  85, 110])"
      ]
     },
     "execution_count": 271,
     "metadata": {},
     "output_type": "execute_result"
    }
   ],
   "source": [
    "# For higher dimensional arrays summing a single axis can be done with ellipsis:\n",
    "np.einsum('...j->...', a)"
   ]
  },
  {
   "cell_type": "code",
   "execution_count": 272,
   "id": "60845dcc",
   "metadata": {},
   "outputs": [
    {
     "data": {
      "text/plain": [
       "array([[ 0,  5, 10, 15, 20],\n",
       "       [ 1,  6, 11, 16, 21],\n",
       "       [ 2,  7, 12, 17, 22],\n",
       "       [ 3,  8, 13, 18, 23],\n",
       "       [ 4,  9, 14, 19, 24]])"
      ]
     },
     "execution_count": 272,
     "metadata": {},
     "output_type": "execute_result"
    }
   ],
   "source": [
    "# Compute a matrix transpose, or reorder any number of axes:\n",
    "np.einsum('ji', a)"
   ]
  },
  {
   "cell_type": "code",
   "execution_count": 273,
   "id": "fdf8578e",
   "metadata": {},
   "outputs": [
    {
     "data": {
      "text/plain": [
       "array([[ 0,  5, 10, 15, 20],\n",
       "       [ 1,  6, 11, 16, 21],\n",
       "       [ 2,  7, 12, 17, 22],\n",
       "       [ 3,  8, 13, 18, 23],\n",
       "       [ 4,  9, 14, 19, 24]])"
      ]
     },
     "execution_count": 273,
     "metadata": {},
     "output_type": "execute_result"
    }
   ],
   "source": [
    "np.einsum('ij->ji', a)"
   ]
  },
  {
   "cell_type": "code",
   "execution_count": 274,
   "id": "003a5196",
   "metadata": {},
   "outputs": [
    {
     "data": {
      "text/plain": [
       "array([[ 0,  5, 10, 15, 20],\n",
       "       [ 1,  6, 11, 16, 21],\n",
       "       [ 2,  7, 12, 17, 22],\n",
       "       [ 3,  8, 13, 18, 23],\n",
       "       [ 4,  9, 14, 19, 24]])"
      ]
     },
     "execution_count": 274,
     "metadata": {},
     "output_type": "execute_result"
    }
   ],
   "source": [
    "np.einsum(a, [1,0])"
   ]
  },
  {
   "cell_type": "code",
   "execution_count": 275,
   "id": "404ecae9",
   "metadata": {},
   "outputs": [
    {
     "data": {
      "text/plain": [
       "30"
      ]
     },
     "execution_count": 275,
     "metadata": {},
     "output_type": "execute_result"
    }
   ],
   "source": [
    "#Vector inner products:\n",
    "b = np.arange(5)\n",
    "np.einsum('i,i', b, b)"
   ]
  },
  {
   "cell_type": "code",
   "execution_count": 276,
   "id": "9c134b80",
   "metadata": {},
   "outputs": [
    {
     "data": {
      "text/plain": [
       "30"
      ]
     },
     "execution_count": 276,
     "metadata": {},
     "output_type": "execute_result"
    }
   ],
   "source": [
    "np.einsum(b, [0], b, [0])"
   ]
  },
  {
   "cell_type": "code",
   "execution_count": 277,
   "id": "a44a4f93",
   "metadata": {},
   "outputs": [
    {
     "data": {
      "text/plain": [
       "30"
      ]
     },
     "execution_count": 277,
     "metadata": {},
     "output_type": "execute_result"
    }
   ],
   "source": [
    "np.inner(b,b)"
   ]
  },
  {
   "cell_type": "code",
   "execution_count": 278,
   "id": "c059503a",
   "metadata": {},
   "outputs": [
    {
     "data": {
      "text/plain": [
       "array([[[[1., 0., 0.],\n",
       "         [0., 1., 0.],\n",
       "         [0., 0., 1.]],\n",
       "\n",
       "        [[0., 0., 0.],\n",
       "         [0., 0., 0.],\n",
       "         [0., 0., 0.]],\n",
       "\n",
       "        [[0., 0., 0.],\n",
       "         [0., 0., 0.],\n",
       "         [0., 0., 0.]]],\n",
       "\n",
       "\n",
       "       [[[0., 0., 0.],\n",
       "         [0., 0., 0.],\n",
       "         [0., 0., 0.]],\n",
       "\n",
       "        [[1., 0., 0.],\n",
       "         [0., 1., 0.],\n",
       "         [0., 0., 1.]],\n",
       "\n",
       "        [[0., 0., 0.],\n",
       "         [0., 0., 0.],\n",
       "         [0., 0., 0.]]],\n",
       "\n",
       "\n",
       "       [[[0., 0., 0.],\n",
       "         [0., 0., 0.],\n",
       "         [0., 0., 0.]],\n",
       "\n",
       "        [[0., 0., 0.],\n",
       "         [0., 0., 0.],\n",
       "         [0., 0., 0.]],\n",
       "\n",
       "        [[1., 0., 0.],\n",
       "         [0., 1., 0.],\n",
       "         [0., 0., 1.]]]])"
      ]
     },
     "execution_count": 278,
     "metadata": {},
     "output_type": "execute_result"
    }
   ],
   "source": [
    "# Kronecker delta\n",
    "n = 3\n",
    "M = np.einsum('ij,kl->ijkl', np.eye(n,n), np.eye(n,n))\n",
    "M"
   ]
  },
  {
   "cell_type": "code",
   "execution_count": 289,
   "id": "deed5e3f",
   "metadata": {},
   "outputs": [
    {
     "data": {
      "text/plain": [
       "array([[ -6,  12,  -6],\n",
       "       [  0,   0,   0],\n",
       "       [  6, -12,   6]])"
      ]
     },
     "execution_count": 289,
     "metadata": {},
     "output_type": "execute_result"
    }
   ],
   "source": [
    "#Vector cross products:\n",
    "x = np.array([[1,2,3], [4,5,6], [7, 8, 9]])\n",
    "y = np.array([[7, 8, 9], [4,5,6], [1,2,3]])\n",
    "np.cross(x, y)"
   ]
  },
  {
   "cell_type": "code",
   "execution_count": 290,
   "id": "0a837919",
   "metadata": {},
   "outputs": [
    {
     "data": {
      "text/plain": [
       "array([[ -6.,  12.,  -6.],\n",
       "       [  0.,   0.,   0.],\n",
       "       [  6., -12.,   6.]])"
      ]
     },
     "execution_count": 290,
     "metadata": {},
     "output_type": "execute_result"
    }
   ],
   "source": [
    "# equivalent Einstein cross product \n",
    "eijk = np.zeros((3, 3, 3))\n",
    "eijk[0, 1, 2] = eijk[1, 2, 0] = eijk[2, 0, 1] = 1\n",
    "eijk[0, 2, 1] = eijk[2, 1, 0] = eijk[1, 0, 2] = -1\n",
    "np.einsum('ijk,aj,ak->ai', eijk, x, y)"
   ]
  },
  {
   "cell_type": "code",
   "execution_count": 291,
   "id": "8f1fd234",
   "metadata": {},
   "outputs": [
    {
     "data": {
      "text/plain": [
       "array([[0, 1, 2, 3, 4],\n",
       "       [0, 2, 4, 6, 8]])"
      ]
     },
     "execution_count": 291,
     "metadata": {},
     "output_type": "execute_result"
    }
   ],
   "source": [
    "#Vector outer product:\n",
    "np.einsum('i,j', np.arange(2)+1, b)"
   ]
  },
  {
   "cell_type": "code",
   "execution_count": 292,
   "id": "11a28219",
   "metadata": {},
   "outputs": [
    {
     "data": {
      "text/plain": [
       "array([ 30,  80, 130, 180, 230])"
      ]
     },
     "execution_count": 292,
     "metadata": {},
     "output_type": "execute_result"
    }
   ],
   "source": [
    "#Matrix vector multiplication:\n",
    "np.einsum('ij,j', a, b)"
   ]
  },
  {
   "cell_type": "code",
   "execution_count": 231,
   "id": "5888ed09",
   "metadata": {},
   "outputs": [
    {
     "data": {
      "text/plain": [
       "array([ 30,  80, 130, 180, 230])"
      ]
     },
     "execution_count": 231,
     "metadata": {},
     "output_type": "execute_result"
    }
   ],
   "source": [
    "np.dot(a, b)"
   ]
  },
  {
   "cell_type": "code",
   "execution_count": 300,
   "id": "b261ad44",
   "metadata": {},
   "outputs": [
    {
     "data": {
      "text/plain": [
       "array([[ 150,  160,  170,  180,  190],\n",
       "       [ 400,  435,  470,  505,  540],\n",
       "       [ 650,  710,  770,  830,  890],\n",
       "       [ 900,  985, 1070, 1155, 1240],\n",
       "       [1150, 1260, 1370, 1480, 1590]])"
      ]
     },
     "execution_count": 300,
     "metadata": {},
     "output_type": "execute_result"
    }
   ],
   "source": [
    "#Matrix Matrix multiplication:\n",
    "np.einsum('ij,jk', a, a)"
   ]
  },
  {
   "cell_type": "code",
   "execution_count": 299,
   "id": "299f134b",
   "metadata": {},
   "outputs": [
    {
     "data": {
      "text/plain": [
       "array([[ 150,  160,  170,  180,  190],\n",
       "       [ 400,  435,  470,  505,  540],\n",
       "       [ 650,  710,  770,  830,  890],\n",
       "       [ 900,  985, 1070, 1155, 1240],\n",
       "       [1150, 1260, 1370, 1480, 1590]])"
      ]
     },
     "execution_count": 299,
     "metadata": {},
     "output_type": "execute_result"
    }
   ],
   "source": [
    "a.dot(a)"
   ]
  },
  {
   "cell_type": "code",
   "execution_count": 232,
   "id": "5b62944d",
   "metadata": {},
   "outputs": [
    {
     "data": {
      "text/plain": [
       "array([[ 0,  3,  6],\n",
       "       [ 9, 12, 15]])"
      ]
     },
     "execution_count": 232,
     "metadata": {},
     "output_type": "execute_result"
    }
   ],
   "source": [
    "#Broadcasting and scalar multiplication in numpy:\n",
    "c = np.arange(6).reshape(2,3)\n",
    "np.einsum('..., ...', 3, c)"
   ]
  },
  {
   "cell_type": "markdown",
   "id": "07d1bc05",
   "metadata": {},
   "source": [
    "## 1.3.5 Tensor Products\n",
    "\n",
    "### Tensor Contraction - n-mode product\n",
    "\n",
    "representing tensors as nodes of a graph, and indices as edges coming out of this node, contracting a tensor with a vector or matrix multiplication on a particular mode (dimension) is about linking the common index (mode of the contraction)  of the nodes of both tensors.\n",
    "\n",
    "\n",
    "### Tensor Multiplication by a matrix\n",
    "for example mode 1 tensor matrix multiplication to the previously defined tensor X and the following matrix\n",
    "<br>\n",
    "$X \\in R^{3x4x2}$ \n",
    "<br>\n",
    "$U \\in R^{2x3}$\n",
    "<br>\n",
    "Y = X $x_{1}$ U $\\in$ $R^{2x4x2}$"
   ]
  },
  {
   "cell_type": "code",
   "execution_count": 16,
   "id": "641bfb4d",
   "metadata": {},
   "outputs": [
    {
     "data": {
      "text/plain": [
       "array([[0, 1, 2],\n",
       "       [3, 4, 5]])"
      ]
     },
     "execution_count": 16,
     "metadata": {},
     "output_type": "execute_result"
    }
   ],
   "source": [
    "U = tl.tensor(np.arange(6).reshape((2, 3)))\n",
    "U"
   ]
  },
  {
   "cell_type": "code",
   "execution_count": 17,
   "id": "45306427",
   "metadata": {},
   "outputs": [
    {
     "data": {
      "text/plain": [
       "array([[[ 40,  43],\n",
       "        [ 46,  49],\n",
       "        [ 52,  55],\n",
       "        [ 58,  61]],\n",
       "\n",
       "       [[112, 124],\n",
       "        [136, 148],\n",
       "        [160, 172],\n",
       "        [184, 196]]])"
      ]
     },
     "execution_count": 17,
     "metadata": {},
     "output_type": "execute_result"
    }
   ],
   "source": [
    "tl.tenalg.mode_dot(X, U, 0)"
   ]
  },
  {
   "cell_type": "markdown",
   "id": "0f4855cc",
   "metadata": {},
   "source": [
    "### Tensor n-mode Multiplication by a vector\n",
    "for example mode 2 tensor vector multiplication to the previously defined tensor X and the following vector\n",
    "\n",
    "$X \\in R^{3x4x2}$ \n",
    "<br>\n",
    "$V \\in R^{4}$\n",
    "<br>\n",
    "Y=X $x_{2}$ V $\\in$ $R^{3x2}$"
   ]
  },
  {
   "cell_type": "code",
   "execution_count": 18,
   "id": "e26639e3",
   "metadata": {},
   "outputs": [
    {
     "data": {
      "text/plain": [
       "array([0, 1, 2, 3])"
      ]
     },
     "execution_count": 18,
     "metadata": {},
     "output_type": "execute_result"
    }
   ],
   "source": [
    "V = tl.tensor(np.arange(4).reshape((4)))\n",
    "V"
   ]
  },
  {
   "cell_type": "code",
   "execution_count": 19,
   "id": "1e38112a",
   "metadata": {},
   "outputs": [
    {
     "data": {
      "text/plain": [
       "array([[ 28,  34],\n",
       "       [ 76,  82],\n",
       "       [124, 130]])"
      ]
     },
     "execution_count": 19,
     "metadata": {},
     "output_type": "execute_result"
    }
   ],
   "source": [
    "tl.tenalg.mode_dot(X, V, 1)"
   ]
  },
  {
   "cell_type": "markdown",
   "id": "b47fd839",
   "metadata": {},
   "source": [
    "### The Kronecker product \n",
    "allows a very efficient way to write Tucker models\n",
    "<br>\n",
    "It is denoted by $A \\bigotimes B$ for $A \\in R^{IxJ}$ and $B \\in R^{KxL}$ resulting in a matrix $\\in R^{(IK) x (JL)}$. It is defined by:\n",
    "<br>\n",
    "\\begin{equation}\n",
    "A \\bigotimes B = \n",
    "\\begin{pmatrix}\n",
    "a_{11}B & a_{12}B & \\dots & a_{1J}B \\\\\n",
    "a_{21}B & a_{22}B & \\dots & a_{2J}B \\\\\n",
    "\\vdots & \\vdots & \\ddots & \\vdots \\\\\n",
    "a_{I1}B & a_{I2}B & \\dots & a_{IJ}B \n",
    "\\end{pmatrix}\n",
    "\\end{equation}\n",
    "<br>\n",
    "$= [a_1 \\bigotimes b_1 \\ a_1 \\bigotimes b_2 \\ a_1 \\bigotimes b_3 \\ \\dots \\ a_J \\bigotimes b_{L-1} \\ a_J \\bigotimes b_L]$\n",
    "<br>\n",
    "<br>\n",
    "<br>\n",
    "The Kronecker product can be used to define dyads, which are the outer product of 2 vectors: a ⊗ b' = b' ⊗ a."
   ]
  },
  {
   "cell_type": "code",
   "execution_count": 25,
   "id": "0f4529da",
   "metadata": {},
   "outputs": [
    {
     "data": {
      "text/plain": [
       "array([-30,   0, -20,  -6,   0,  -4,  18,   0,  12])"
      ]
     },
     "execution_count": 25,
     "metadata": {},
     "output_type": "execute_result"
    }
   ],
   "source": [
    "np.kron([10,2,-6], [-3,0,-2]) # , numpy defines Kronecker product of two arrays as a composite array made of blocks of the second array scaled by the first."
   ]
  },
  {
   "cell_type": "code",
   "execution_count": 26,
   "id": "fa201c04",
   "metadata": {},
   "outputs": [
    {
     "name": "stdout",
     "output_type": "stream",
     "text": [
      "[[0 1 2]\n",
      " [3 4 5]]\n",
      "[[0 1 2]\n",
      " [3 4 5]]\n"
     ]
    },
    {
     "data": {
      "text/plain": [
       "array([[ 0,  0,  0,  0,  1,  2,  0,  2,  4],\n",
       "       [ 0,  0,  0,  3,  4,  5,  6,  8, 10],\n",
       "       [ 0,  3,  6,  0,  4,  8,  0,  5, 10],\n",
       "       [ 9, 12, 15, 12, 16, 20, 15, 20, 25]])"
      ]
     },
     "execution_count": 26,
     "metadata": {},
     "output_type": "execute_result"
    }
   ],
   "source": [
    "A = tl.tensor(np.arange(6).reshape((2, 3)))\n",
    "print (A)\n",
    "B = tl.tensor(np.arange(6).reshape((2, 3)))\n",
    "print (B)\n",
    "tl.tenalg.kronecker([A, B]) # resulting in a matrix with shape 4 x 9"
   ]
  },
  {
   "cell_type": "code",
   "execution_count": 21,
   "id": "eac6c769",
   "metadata": {
    "scrolled": true
   },
   "outputs": [
    {
     "name": "stdout",
     "output_type": "stream",
     "text": [
      "[[0. 1.]\n",
      " [2. 3.]]\n",
      "[[0.36116198 0.23036914]\n",
      " [0.33503254 0.26819703]]\n"
     ]
    },
    {
     "data": {
      "text/plain": [
       "array([[0.        , 0.        , 0.36116198, 0.23036914],\n",
       "       [0.        , 0.        , 0.33503254, 0.26819703],\n",
       "       [0.72232396, 0.46073828, 1.08348593, 0.69110741],\n",
       "       [0.67006508, 0.53639405, 1.00509763, 0.80459108]])"
      ]
     },
     "execution_count": 21,
     "metadata": {},
     "output_type": "execute_result"
    }
   ],
   "source": [
    "A = tl.tensor(np.arange(4).reshape((2, 2)), dtype=tl.float32)\n",
    "print (A)\n",
    "rns = tl.check_random_state(None)\n",
    "B = tl.tensor(rns.random_sample([2, 2]))\n",
    "print (B)\n",
    "tl.tenalg.kronecker([A, B]) # resulting in a matrix with shape 4 x 4"
   ]
  },
  {
   "cell_type": "code",
   "execution_count": 370,
   "id": "605b5f93",
   "metadata": {},
   "outputs": [
    {
     "name": "stdout",
     "output_type": "stream",
     "text": [
      "[[0.5 0.2 0.3]\n",
      " [0.  0.4 0.6]]\n"
     ]
    },
    {
     "data": {
      "text/plain": [
       "array([[0.4, 0.6, 0. , 0. ],\n",
       "       [0. , 0.7, 0.3, 0. ],\n",
       "       [0. , 0.5, 0. , 0.5]])"
      ]
     },
     "execution_count": 370,
     "metadata": {},
     "output_type": "execute_result"
    }
   ],
   "source": [
    "P= np.array([[0.5,0.2,0.3],[0.0,0.4,0.6]]) # two producers in the rows, 3 suppliers in the columns \n",
    "print(P)\n",
    "S= np.array([[0.4,0.6,0.0,0.0],[0.0,0.7,0.3,0.0],[0.0,0.5,0.0,0.5]]) # 3 suppliers in the rows,  four gas stations in the columns \n",
    "S"
   ]
  },
  {
   "cell_type": "code",
   "execution_count": 371,
   "id": "79708a37",
   "metadata": {},
   "outputs": [
    {
     "data": {
      "text/plain": [
       "array([[0.2 , 0.3 , 0.  , 0.  , 0.08, 0.12, 0.  , 0.  , 0.12, 0.18, 0.  ,\n",
       "        0.  ],\n",
       "       [0.  , 0.35, 0.15, 0.  , 0.  , 0.14, 0.06, 0.  , 0.  , 0.21, 0.09,\n",
       "        0.  ],\n",
       "       [0.  , 0.25, 0.  , 0.25, 0.  , 0.1 , 0.  , 0.1 , 0.  , 0.15, 0.  ,\n",
       "        0.15],\n",
       "       [0.  , 0.  , 0.  , 0.  , 0.16, 0.24, 0.  , 0.  , 0.24, 0.36, 0.  ,\n",
       "        0.  ],\n",
       "       [0.  , 0.  , 0.  , 0.  , 0.  , 0.28, 0.12, 0.  , 0.  , 0.42, 0.18,\n",
       "        0.  ],\n",
       "       [0.  , 0.  , 0.  , 0.  , 0.  , 0.2 , 0.  , 0.2 , 0.  , 0.3 , 0.  ,\n",
       "        0.3 ]])"
      ]
     },
     "execution_count": 371,
     "metadata": {},
     "output_type": "execute_result"
    }
   ],
   "source": [
    "matrices=[P,S]\n",
    "tl.tenalg.kronecker(matrices, skip_matrix=None, reverse=False) # The Kronecker product "
   ]
  },
  {
   "cell_type": "markdown",
   "id": "45f98f88",
   "metadata": {},
   "source": [
    "### The Hadamard product is the elementwise matrix product.\n",
    "This can be used to formalize weighted regression.\n",
    "<br>\n",
    "It is denoted A * B for matrices A and B, both $\\in R^{IxJ}$ and also resulting in a matrix $\\in R^{IxJ}$. It is defined by:\n",
    "<br>\n",
    "\\begin{equation}\n",
    "A * B = \n",
    "\\begin{pmatrix}\n",
    "a_{11}B_{11} & a_{12}B_{12} & \\dots & a_{1J}B_{1J} \\\\\n",
    "a_{21}B_{21} & a_{22}B_{22} & \\dots & a_{2J}B_{2J} \\\\\n",
    "\\vdots & \\vdots & \\ddots & \\vdots \\\\\n",
    "a_{I1}B_{I1} & a_{I2}B_{I2} & \\dots & a_{IJ}B_{IJ} \n",
    "\\end{pmatrix}\n",
    "\\end{equation}\n",
    "\n",
    "<br>\n"
   ]
  },
  {
   "cell_type": "code",
   "execution_count": 22,
   "id": "63038c0c",
   "metadata": {},
   "outputs": [],
   "source": [
    "def Hadamard (A, B):\n",
    "    c = []\n",
    "    for a, b in zip(tl.tensor_to_vec(A), tl.tensor_to_vec(B)):\n",
    "        c.append(a * b)\n",
    "        \n",
    "    C = tl.tensor(c).reshape(A.shape)\n",
    "    return C"
   ]
  },
  {
   "cell_type": "code",
   "execution_count": 23,
   "id": "30ecf4e6",
   "metadata": {},
   "outputs": [
    {
     "data": {
      "text/plain": [
       "array([[0.        , 0.23036914],\n",
       "       [0.67006508, 0.80459108]])"
      ]
     },
     "execution_count": 23,
     "metadata": {},
     "output_type": "execute_result"
    }
   ],
   "source": [
    "C = Hadamard (A, B)\n",
    "C"
   ]
  },
  {
   "cell_type": "markdown",
   "id": "aeee1ad9",
   "metadata": {},
   "source": [
    "# The Khatri–Rao product is the \"matching columnwise\" Kronecker product.\n",
    "provides means for an efficient way to write a PARAFAC model\n",
    "<br>\n",
    "The natural extension of a dyad is a triad. The triad consists of a multiplication of three vectors a (I × 1), b (J × 1) and c (K × 1),\n",
    "<br>\n",
    "It is denoted by  $A \\bigodot B$ for\n",
    "$A \\in R^{IxK}$ and $B \\in R^{JxK}$, resulting in a matrix $\\in R^{(IJ) x (K)}$. It is defined by:\n",
    "<br>\n",
    "$A \\bigodot B = [a_1 \\bigotimes b_1 \\ a_2 \\bigotimes b_2 \\  \\dots \\ a_K \\bigotimes b_K]$\n"
   ]
  },
  {
   "cell_type": "code",
   "execution_count": 374,
   "id": "380ce5ab",
   "metadata": {},
   "outputs": [],
   "source": [
    "def khatri_rao(a, u):\n",
    "    c = a[...,:,np.newaxis,:] * u[...,np.newaxis,:,:]\n",
    "    # collapse the first two axes\n",
    "    return c.reshape((-1,) + c.shape[2:])"
   ]
  },
  {
   "cell_type": "code",
   "execution_count": 375,
   "id": "68e9ea6d",
   "metadata": {},
   "outputs": [
    {
     "data": {
      "text/plain": [
       "array([[0.2 , 0.  , 0.  ],\n",
       "       [0.3 , 0.14, 0.15],\n",
       "       [0.  , 0.06, 0.  ],\n",
       "       [0.  , 0.  , 0.15],\n",
       "       [0.  , 0.  , 0.  ],\n",
       "       [0.  , 0.28, 0.3 ],\n",
       "       [0.  , 0.12, 0.  ],\n",
       "       [0.  , 0.  , 0.3 ]])"
      ]
     },
     "execution_count": 375,
     "metadata": {},
     "output_type": "execute_result"
    }
   ],
   "source": [
    "khatri_rao(P,S.T)"
   ]
  },
  {
   "cell_type": "code",
   "execution_count": 372,
   "id": "25686fe1",
   "metadata": {},
   "outputs": [
    {
     "data": {
      "text/plain": [
       "array([[0.2 , 0.  , 0.  ],\n",
       "       [0.3 , 0.14, 0.15],\n",
       "       [0.  , 0.06, 0.  ],\n",
       "       [0.  , 0.  , 0.15],\n",
       "       [0.  , 0.  , 0.  ],\n",
       "       [0.  , 0.28, 0.3 ],\n",
       "       [0.  , 0.12, 0.  ],\n",
       "       [0.  , 0.  , 0.3 ]])"
      ]
     },
     "execution_count": 372,
     "metadata": {},
     "output_type": "execute_result"
    }
   ],
   "source": [
    "matrices=[P,S.T]\n",
    "tl.tenalg.khatri_rao(matrices) # The Khatri-Rao product "
   ]
  },
  {
   "cell_type": "code",
   "execution_count": 376,
   "id": "8c24edf6",
   "metadata": {},
   "outputs": [
    {
     "data": {
      "text/plain": [
       "array([[0.2 , 0.  , 0.  ],\n",
       "       [0.3 , 0.14, 0.15],\n",
       "       [0.  , 0.06, 0.  ],\n",
       "       [0.  , 0.  , 0.15],\n",
       "       [0.  , 0.  , 0.  ],\n",
       "       [0.  , 0.28, 0.3 ],\n",
       "       [0.  , 0.12, 0.  ],\n",
       "       [0.  , 0.  , 0.3 ]])"
      ]
     },
     "execution_count": 376,
     "metadata": {},
     "output_type": "execute_result"
    }
   ],
   "source": [
    "from scipy.linalg import khatri_rao as kh\n",
    "kh(P,S.T)"
   ]
  },
  {
   "cell_type": "code",
   "execution_count": 24,
   "id": "e02f5a81",
   "metadata": {},
   "outputs": [
    {
     "name": "stdout",
     "output_type": "stream",
     "text": [
      "[[0. 1.]\n",
      " [2. 3.]]\n",
      "[[0.36116198 0.23036914]\n",
      " [0.33503254 0.26819703]]\n"
     ]
    },
    {
     "data": {
      "text/plain": [
       "array([[0.        , 0.23036914],\n",
       "       [0.        , 0.26819703],\n",
       "       [0.72232396, 0.69110741],\n",
       "       [0.67006508, 0.80459108]])"
      ]
     },
     "execution_count": 24,
     "metadata": {},
     "output_type": "execute_result"
    }
   ],
   "source": [
    "print (A)\n",
    "print (B)\n",
    "tl.tenalg.khatri_rao([A, B]) # resulting in a matrix with shape 4 x 3\n"
   ]
  },
  {
   "cell_type": "code",
   "execution_count": 323,
   "id": "008a6b43",
   "metadata": {},
   "outputs": [
    {
     "data": {
      "text/plain": [
       "array([[[[0.95862487, 0.32396013, 0.31602446],\n",
       "         [0.66906794, 0.01667094, 0.44144018],\n",
       "         [0.99145094, 0.40112765, 0.30161135]],\n",
       "\n",
       "        [[0.1083155 , 0.46863424, 0.30220233],\n",
       "         [0.77653905, 0.1752115 , 0.05679481],\n",
       "         [0.53402121, 0.11591272, 0.01070243]],\n",
       "\n",
       "        [[0.2179205 , 0.70414332, 0.81908275],\n",
       "         [0.54510797, 0.76124456, 0.65744627],\n",
       "         [0.62179912, 0.38885812, 0.38780665]]],\n",
       "\n",
       "\n",
       "       [[[0.77754626, 0.14486821, 0.09771052],\n",
       "         [0.56937594, 0.38141082, 0.45283235],\n",
       "         [0.15670147, 0.29891832, 0.68880942]],\n",
       "\n",
       "        [[0.61236104, 0.71148949, 0.96997373],\n",
       "         [0.51085961, 0.14620056, 0.90289242],\n",
       "         [0.55228201, 0.05965837, 0.46984693]],\n",
       "\n",
       "        [[0.65646368, 0.80694098, 0.83106511],\n",
       "         [0.18129514, 0.39040841, 0.51215702],\n",
       "         [0.53125224, 0.75743683, 0.33365533]]],\n",
       "\n",
       "\n",
       "       [[[0.84419479, 0.34202876, 0.1864604 ],\n",
       "         [0.22931064, 0.98208438, 0.83380277],\n",
       "         [0.69041084, 0.55176788, 0.49496325]],\n",
       "\n",
       "        [[0.48406566, 0.80642626, 0.90528509],\n",
       "         [0.27277081, 0.93014926, 0.18681492],\n",
       "         [0.37497069, 0.95800012, 0.98226169]],\n",
       "\n",
       "        [[0.6145775 , 0.73546575, 0.30163064],\n",
       "         [0.53572697, 0.27800416, 0.98800611],\n",
       "         [0.20920336, 0.00376136, 0.74946041]]]])"
      ]
     },
     "execution_count": 323,
     "metadata": {},
     "output_type": "execute_result"
    }
   ],
   "source": [
    "tensor = random.random_tensor((3, 3, 3, 3))\n",
    "tensor"
   ]
  },
  {
   "cell_type": "code",
   "execution_count": 326,
   "id": "87d3a434",
   "metadata": {},
   "outputs": [
    {
     "data": {
      "text/plain": [
       "array([[[0, 1],\n",
       "        [2, 3]],\n",
       "\n",
       "       [[4, 5],\n",
       "        [6, 7]]])"
      ]
     },
     "execution_count": 326,
     "metadata": {},
     "output_type": "execute_result"
    }
   ],
   "source": [
    "a = np.arange(8).reshape(2, 2, 2)\n",
    "tensor = tl.tensor(a)\n",
    "tensor\n"
   ]
  },
  {
   "cell_type": "code",
   "execution_count": 327,
   "id": "f049b709",
   "metadata": {},
   "outputs": [
    {
     "data": {
      "text/plain": [
       "array([[[[ 2,  3],\n",
       "         [ 6,  7]],\n",
       "\n",
       "        [[ 6, 11],\n",
       "         [26, 31]]],\n",
       "\n",
       "\n",
       "       [[[10, 19],\n",
       "         [46, 55]],\n",
       "\n",
       "        [[14, 27],\n",
       "         [66, 79]]]])"
      ]
     },
     "execution_count": 327,
     "metadata": {},
     "output_type": "execute_result"
    }
   ],
   "source": [
    "tensor.dot(tensor)"
   ]
  },
  {
   "cell_type": "code",
   "execution_count": 328,
   "id": "d44f02b0",
   "metadata": {},
   "outputs": [
    {
     "data": {
      "text/plain": [
       "array([[[[ 2,  3],\n",
       "         [ 6,  7]],\n",
       "\n",
       "        [[ 6, 11],\n",
       "         [26, 31]]],\n",
       "\n",
       "\n",
       "       [[[10, 19],\n",
       "         [46, 55]],\n",
       "\n",
       "        [[14, 27],\n",
       "         [66, 79]]]])"
      ]
     },
     "execution_count": 328,
     "metadata": {},
     "output_type": "execute_result"
    }
   ],
   "source": [
    "a.dot(a)"
   ]
  },
  {
   "cell_type": "code",
   "execution_count": 388,
   "id": "ba9bae7e",
   "metadata": {},
   "outputs": [
    {
     "data": {
      "text/plain": [
       "array([[[ 0.,  1.,  2.,  3.,  4.],\n",
       "        [ 5.,  6.,  7.,  8.,  9.],\n",
       "        [10., 11., 12., 13., 14.],\n",
       "        [15., 16., 17., 18., 19.]],\n",
       "\n",
       "       [[20., 21., 22., 23., 24.],\n",
       "        [25., 26., 27., 28., 29.],\n",
       "        [30., 31., 32., 33., 34.],\n",
       "        [35., 36., 37., 38., 39.]],\n",
       "\n",
       "       [[40., 41., 42., 43., 44.],\n",
       "        [45., 46., 47., 48., 49.],\n",
       "        [50., 51., 52., 53., 54.],\n",
       "        [55., 56., 57., 58., 59.]]])"
      ]
     },
     "execution_count": 388,
     "metadata": {},
     "output_type": "execute_result"
    }
   ],
   "source": [
    "#Tensor contraction in numpy:\n",
    "a = np.arange(60.).reshape(3,4,5)\n",
    "a"
   ]
  },
  {
   "cell_type": "code",
   "execution_count": 389,
   "id": "06421d35",
   "metadata": {},
   "outputs": [
    {
     "data": {
      "text/plain": [
       "array([[[ 0.,  1.],\n",
       "        [ 2.,  3.],\n",
       "        [ 4.,  5.]],\n",
       "\n",
       "       [[ 6.,  7.],\n",
       "        [ 8.,  9.],\n",
       "        [10., 11.]],\n",
       "\n",
       "       [[12., 13.],\n",
       "        [14., 15.],\n",
       "        [16., 17.]],\n",
       "\n",
       "       [[18., 19.],\n",
       "        [20., 21.],\n",
       "        [22., 23.]]])"
      ]
     },
     "execution_count": 389,
     "metadata": {},
     "output_type": "execute_result"
    }
   ],
   "source": [
    "b = np.arange(24.).reshape(4,3,2)\n",
    "b"
   ]
  },
  {
   "cell_type": "code",
   "execution_count": 390,
   "id": "95af3ea7",
   "metadata": {},
   "outputs": [
    {
     "data": {
      "text/plain": [
       "array([[4400., 4730.],\n",
       "       [4532., 4874.],\n",
       "       [4664., 5018.],\n",
       "       [4796., 5162.],\n",
       "       [4928., 5306.]])"
      ]
     },
     "execution_count": 390,
     "metadata": {},
     "output_type": "execute_result"
    }
   ],
   "source": [
    "np.einsum('ijk,jil->kl', a, b)"
   ]
  },
  {
   "cell_type": "code",
   "execution_count": 391,
   "id": "e8877195",
   "metadata": {},
   "outputs": [
    {
     "data": {
      "text/plain": [
       "array([[4400., 4730.],\n",
       "       [4532., 4874.],\n",
       "       [4664., 5018.],\n",
       "       [4796., 5162.],\n",
       "       [4928., 5306.]])"
      ]
     },
     "execution_count": 391,
     "metadata": {},
     "output_type": "execute_result"
    }
   ],
   "source": [
    "np.einsum(a, [0,1,2], b, [1,0,3], [2,3])"
   ]
  },
  {
   "cell_type": "code",
   "execution_count": 392,
   "id": "2e8d2d7a",
   "metadata": {},
   "outputs": [
    {
     "data": {
      "text/plain": [
       "array([[4400., 4730.],\n",
       "       [4532., 4874.],\n",
       "       [4664., 5018.],\n",
       "       [4796., 5162.],\n",
       "       [4928., 5306.]])"
      ]
     },
     "execution_count": 392,
     "metadata": {},
     "output_type": "execute_result"
    }
   ],
   "source": [
    "np.tensordot(a,b, axes=([1,0],[0,1]))"
   ]
  },
  {
   "cell_type": "code",
   "execution_count": 401,
   "id": "5817926c",
   "metadata": {},
   "outputs": [
    {
     "data": {
      "text/plain": [
       "array([[4400., 4730.],\n",
       "       [4532., 4874.],\n",
       "       [4664., 5018.],\n",
       "       [4796., 5162.],\n",
       "       [4928., 5306.]])"
      ]
     },
     "execution_count": 401,
     "metadata": {},
     "output_type": "execute_result"
    }
   ],
   "source": [
    "t1 = tl.tensor(a)\n",
    "t2 = tl.tensor(b)\n",
    "tl.tenalg.tensordot(t1, t2,[[1,0], [0,1]])"
   ]
  },
  {
   "cell_type": "code",
   "execution_count": 402,
   "id": "e8cfd5bc",
   "metadata": {},
   "outputs": [
    {
     "data": {
      "text/plain": [
       "array([[[[ 420.,  450.],\n",
       "         [ 480.,  510.],\n",
       "         [ 540.,  570.]],\n",
       "\n",
       "        [[ 456.,  490.],\n",
       "         [ 524.,  558.],\n",
       "         [ 592.,  626.]],\n",
       "\n",
       "        [[ 492.,  530.],\n",
       "         [ 568.,  606.],\n",
       "         [ 644.,  682.]],\n",
       "\n",
       "        [[ 528.,  570.],\n",
       "         [ 612.,  654.],\n",
       "         [ 696.,  738.]],\n",
       "\n",
       "        [[ 564.,  610.],\n",
       "         [ 656.,  702.],\n",
       "         [ 748.,  794.]]],\n",
       "\n",
       "\n",
       "       [[[1140., 1250.],\n",
       "         [1360., 1470.],\n",
       "         [1580., 1690.]],\n",
       "\n",
       "        [[1176., 1290.],\n",
       "         [1404., 1518.],\n",
       "         [1632., 1746.]],\n",
       "\n",
       "        [[1212., 1330.],\n",
       "         [1448., 1566.],\n",
       "         [1684., 1802.]],\n",
       "\n",
       "        [[1248., 1370.],\n",
       "         [1492., 1614.],\n",
       "         [1736., 1858.]],\n",
       "\n",
       "        [[1284., 1410.],\n",
       "         [1536., 1662.],\n",
       "         [1788., 1914.]]],\n",
       "\n",
       "\n",
       "       [[[1860., 2050.],\n",
       "         [2240., 2430.],\n",
       "         [2620., 2810.]],\n",
       "\n",
       "        [[1896., 2090.],\n",
       "         [2284., 2478.],\n",
       "         [2672., 2866.]],\n",
       "\n",
       "        [[1932., 2130.],\n",
       "         [2328., 2526.],\n",
       "         [2724., 2922.]],\n",
       "\n",
       "        [[1968., 2170.],\n",
       "         [2372., 2574.],\n",
       "         [2776., 2978.]],\n",
       "\n",
       "        [[2004., 2210.],\n",
       "         [2416., 2622.],\n",
       "         [2828., 3034.]]]])"
      ]
     },
     "execution_count": 402,
     "metadata": {},
     "output_type": "execute_result"
    }
   ],
   "source": [
    "tl.tenalg.tensordot(t1, t2,[1,0])"
   ]
  },
  {
   "cell_type": "code",
   "execution_count": 349,
   "id": "bc195b70",
   "metadata": {},
   "outputs": [
    {
     "data": {
      "text/plain": [
       "-18"
      ]
     },
     "execution_count": 349,
     "metadata": {},
     "output_type": "execute_result"
    }
   ],
   "source": [
    "t1 = tl.tensor([10,2,-6])\n",
    "b =np.array([-3, 0, -2])\n",
    "t1.dot(b)"
   ]
  },
  {
   "cell_type": "code",
   "execution_count": 351,
   "id": "f97968a4",
   "metadata": {},
   "outputs": [
    {
     "data": {
      "text/plain": [
       "array(-18)"
      ]
     },
     "execution_count": 351,
     "metadata": {},
     "output_type": "execute_result"
    }
   ],
   "source": [
    "tl.tenalg.mode_dot(t1, b, 0) # dot product is tensor mode-1 product "
   ]
  },
  {
   "cell_type": "code",
   "execution_count": 377,
   "id": "a9f2d7fe",
   "metadata": {},
   "outputs": [
    {
     "data": {
      "text/plain": [
       "array([[1. , 0.4, 0.6],\n",
       "       [0. , 0.8, 1.2]])"
      ]
     },
     "execution_count": 377,
     "metadata": {},
     "output_type": "execute_result"
    }
   ],
   "source": [
    "t1 = tl.tensor(P)\n",
    "t1+t1 # simple element wise addition"
   ]
  },
  {
   "cell_type": "markdown",
   "id": "35f0d253",
   "metadata": {},
   "source": [
    "## Other Tensor Algebra Functions that are usually implemented when needed\n",
    "\n",
    "It can be an interesting exercise to standardise an efficient implementation of the other tensor operations for all theoritical tensor multilinear algebra that are not readily available in numpy and tensorly:\n",
    "1. Direct sum of tensors \n",
    "2. Partial mode-n sums for tensors \n",
    "3. Concatenation of Nth-order tensors \n",
    "4. 3D convolution \n",
    "5. Partial (mode-n) convolution \n",
    "6. Testing if a tensor is Orthonormal \n"
   ]
  },
  {
   "cell_type": "markdown",
   "id": "55593b01",
   "metadata": {},
   "source": [
    "## Sample exercise for a graph defined as igraph object, another package will be presented in ch2"
   ]
  },
  {
   "cell_type": "code",
   "execution_count": 406,
   "id": "fece54a1",
   "metadata": {},
   "outputs": [
    {
     "name": "stdout",
     "output_type": "stream",
     "text": [
      "Collecting igraph\n",
      "  Downloading igraph-0.9.11-cp39-cp39-win_amd64.whl (2.8 MB)\n",
      "Collecting texttable>=1.6.2\n",
      "  Downloading texttable-1.6.4-py2.py3-none-any.whl (10 kB)\n",
      "Installing collected packages: texttable, igraph\n",
      "Successfully installed igraph-0.9.11 texttable-1.6.4\n"
     ]
    }
   ],
   "source": [
    "!pip install igraph"
   ]
  },
  {
   "cell_type": "code",
   "execution_count": 408,
   "id": "0df3c0f5",
   "metadata": {},
   "outputs": [
    {
     "name": "stdout",
     "output_type": "stream",
     "text": [
      "IGRAPH U--- 9 11 -- \n"
     ]
    }
   ],
   "source": [
    "from igraph import *\n",
    "\n",
    "g = Graph()\n",
    "g.add_vertices(9)  # two producers in the rows + 3 suppliers in the columns +  four gas stations in the columns  \n",
    "g.add_edges([(0,2), (0,3), (0,4), (1,3), (1,4), (2,5), (2,6), (3,6), (3,7), (4, 6), (4,8)])\n",
    "summary(g)"
   ]
  },
  {
   "cell_type": "code",
   "execution_count": 415,
   "id": "cd28987a",
   "metadata": {},
   "outputs": [
    {
     "name": "stdout",
     "output_type": "stream",
     "text": [
      "Requirement already satisfied: pycairo in c:\\programdata\\anaconda3\\lib\\site-packages (1.21.0)\n",
      "Requirement already satisfied: cairocffi in c:\\programdata\\anaconda3\\lib\\site-packages (1.3.0)\n",
      "Requirement already satisfied: cffi>=1.1.0 in c:\\programdata\\anaconda3\\lib\\site-packages (from cairocffi) (1.14.6)\n",
      "Requirement already satisfied: pycparser in c:\\programdata\\anaconda3\\lib\\site-packages (from cffi>=1.1.0->cairocffi) (2.20)\n"
     ]
    }
   ],
   "source": [
    "!pip install pycairo\n",
    "!pip install cairocffi"
   ]
  },
  {
   "cell_type": "code",
   "execution_count": 418,
   "id": "7ee48172",
   "metadata": {},
   "outputs": [
    {
     "data": {
      "image/png": "[encoded data removed]",
      "text/plain": [
       "<Figure size 432x288 with 1 Axes>"
      ]
     },
     "metadata": {
      "needs_background": "light"
     },
     "output_type": "display_data"
    }
   ],
   "source": [
    "import matplotlib.pyplot as plt\n",
    "fig, ax = plt.subplots()\n",
    "plot(g, layout=layout, target=ax)"
   ]
  },
  {
   "cell_type": "code",
   "execution_count": null,
   "id": "8be5e2e2",
   "metadata": {},
   "outputs": [],
   "source": []
  }
 ],
 "metadata": {
  "kernelspec": {
   "display_name": "Python 3 (ipykernel)",
   "language": "python",
   "name": "python3"
  },
  "language_info": {
   "codemirror_mode": {
    "name": "ipython",
    "version": 3
   },
   "file_extension": ".py",
   "mimetype": "text/x-python",
   "name": "python",
   "nbconvert_exporter": "python",
   "pygments_lexer": "ipython3",
   "version": "3.9.7"
  }
 },
 "nbformat": 4,
 "nbformat_minor": 5
}
