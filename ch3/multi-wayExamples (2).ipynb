{
 "cells": [
  {
   "cell_type": "markdown",
   "id": "1e49fd61",
   "metadata": {},
   "source": [
    "# Ch3: Geometry & Algebra of Tensors\n",
    "    \n",
    "## 3.1 Motivation and Intuition\n",
    "\n",
    "A Video Analysis with Tensor Decomposition in Python example can be found at:\n",
    "https://towardsdatascience.com/video-analysis-with-tensor-decomposition-in-python-3a1fe088831c\n",
    "\n",
    "Other Examples are presented below, using a tensorisation step that is hand tailored to each examples, with attempts to generalise\n",
    "\n",
    "Indexing routines can be found in https://numpy.org/doc/stable/reference/arrays.indexing.html\n",
    "\n"
   ]
  },
  {
   "cell_type": "code",
   "execution_count": null,
   "id": "7fdea736",
   "metadata": {},
   "outputs": [],
   "source": [
    "import math\n",
    "\n",
    "def tensorisation_Values (Df, components, value=\"value\", aggFunc=np.mean):\n",
    "    if components >= Df.shape[1]:\n",
    "        print (\"Number of components must be less or equal to number of the columns in the input matrix. Exiting without creating the tensor\")\n",
    "        return\n",
    "    minVals = []\n",
    "    maxVals = []\n",
    "    tensorShape = []\n",
    "    for i in range(components):\n",
    "        minVal = Df.iloc[:,i].min()\n",
    "        # this will be an index, therefore starting from zero is necessary\n",
    "        if minVal > 0:\n",
    "            Df.iloc[:,i] += minVal\n",
    "            minVal = 0\n",
    "        if minVal < 0:\n",
    "            Df.iloc[:,i] -= minVal\n",
    "            minVal = 0\n",
    "        minVals.append(minVal)\n",
    "        # also the max value need to be positive non-zero, because it will be the tensor shape \n",
    "        maxVal = Df.iloc[:,i].max()\n",
    "        if maxVal <= 0:\n",
    "            Df.iloc[:,i] -= maxVal + 1\n",
    "            maxVal = 1\n",
    "        maxVals.append(maxVal)\n",
    "        print(\"mode  \" + str(i) + \" max value =\" + str(maxVal) + \", min value = \" + str(minVal))\n",
    "        tensorShape.append(int(maxVal)+1)\n",
    "\n",
    "    # update the values in the array, to be used as indices\n",
    "    for k,j in Df.iterrows():\n",
    "            for i in range(components):\n",
    "                j[i] = int(math.floor(j[i])) + abs(int(minVals[i])) + 1\n",
    "    print (tensorShape)\n",
    "    tensorShape = tuple(tensorShape) \n",
    "    tensor_array = np.zeros(tensorShape)\n",
    "    count = 0\n",
    "    for k,j in Df.iterrows():\n",
    "        count = count + 1\n",
    "        t_index = tuple(\n",
    "            int(j[i]) for i in range(components)\n",
    "        )\n",
    "        #print (t_index)\n",
    "        tensor_array[t_index] = aggFunc(j[value])\n",
    "\n",
    "    return tensor_array"
   ]
  },
  {
   "cell_type": "code",
   "execution_count": null,
   "id": "02cbd81d",
   "metadata": {},
   "outputs": [],
   "source": [
    "import pandas as pd # data processing, CSV file I/O (e.g. pd.read_csv)\n",
    "import numpy as np\n",
    "\n",
    "userdata = pd.read_csv('data/GlobalLandTemperaturesByMajorCity.csv')\n",
    "columns = ['dt','AverageTemperature','AverageTemperatureUncertainty','City','Country','Latitude','Longitude'] # such that these will be x\n",
    "df=userdata[columns].copy()\n",
    "Values = userdata[\"AverageTemperature\"] # this will be the values of the tensor\n",
    "df"
   ]
  },
  {
   "cell_type": "code",
   "execution_count": null,
   "id": "17ead59a",
   "metadata": {},
   "outputs": [],
   "source": [
    "# We will tensorise in the same order mentioned in chapter 3 first section on motivational problem\n",
    "# First example is one temperature value as a scalar (rank-zero tensor), which does not require tensorisation, just indexing will do\n",
    "df.iloc[0, 1] # specifying the index values, which is not usually interpreted easily\n"
   ]
  },
  {
   "cell_type": "code",
   "execution_count": null,
   "id": "df3d0571",
   "metadata": {},
   "outputs": [],
   "source": [
    "df.loc[(df['City']== 'Abidjan') & (df['dt']=='1849-01-01') ,['AverageTemperature']] # specifing the values needed (city and date values)"
   ]
  },
  {
   "cell_type": "code",
   "execution_count": null,
   "id": "67223653",
   "metadata": {},
   "outputs": [],
   "source": [
    "# Second example is all temperature values in this dataset or in a specific city as a vector (rank-one tensor), which does not require tensorisation, just indexing will do\n",
    "\n",
    "df.loc[df['City'] == 'Abidjan']['AverageTemperature']"
   ]
  },
  {
   "cell_type": "code",
   "execution_count": null,
   "id": "1a9d8d12",
   "metadata": {},
   "outputs": [],
   "source": [
    "# Third example is temperature values per city (rank-two tensor). We will do it using pivot tables, and again with tensorisation\n",
    "# pivot tables are another method in handling multi-way analysis\n",
    "# checking how many cardiac cases in each age value\n",
    "\n",
    "cityTempMeans = df.pivot_table(values='AverageTemperature',\n",
    "                               index='City', \n",
    "                               aggfunc=np.mean,               ## aggfunc='size', # size if you want to aggregate by frequency counting\n",
    "                               fill_value=0)\n",
    "cityTempMeans"
   ]
  },
  {
   "cell_type": "code",
   "execution_count": null,
   "id": "86ccd803",
   "metadata": {},
   "outputs": [],
   "source": [
    "cityTempMeans.iloc[0,0] # Average temperature for Abidjan by indexing the pivot table"
   ]
  },
  {
   "cell_type": "code",
   "execution_count": null,
   "id": "7a94c29d",
   "metadata": {},
   "outputs": [],
   "source": [
    "df.loc[df['City'] == 'Abidjan']['AverageTemperature'].mean() # getting to the same value from the original dataset DataFrame, probably the mean function used here is not np.mean since the value is slightly different, but could be rounding error"
   ]
  },
  {
   "cell_type": "code",
   "execution_count": null,
   "id": "9ac54ecd",
   "metadata": {},
   "outputs": [],
   "source": [
    "for i in range(1):\n",
    "    print(sdf.iloc[:,i].min())"
   ]
  },
  {
   "cell_type": "code",
   "execution_count": null,
   "id": "60e55177",
   "metadata": {},
   "outputs": [],
   "source": [
    "# tensorising by arranging the columns as coordinates first, and last column is the value to aggregate on\n",
    "\n",
    "columns = ['City','AverageTemperature'] # such that these will be x\n",
    "sdf=userdata[columns].copy()\n",
    "\n",
    "# we need to encode all coordinate columns numerically\n",
    "from sklearn import preprocessing\n",
    "\n",
    "# lbl_encoder object knows how to understand word labels.\n",
    "city_encoder = preprocessing.LabelEncoder()\n",
    "\n",
    "sdf['CityBasis']= city_encoder.fit_transform(sdf['City'])\n",
    "sdf['CityBasis'].unique()"
   ]
  },
  {
   "cell_type": "code",
   "execution_count": null,
   "id": "d6f34614",
   "metadata": {},
   "outputs": [],
   "source": [
    "city_encoder.classes_"
   ]
  },
  {
   "cell_type": "code",
   "execution_count": null,
   "id": "eca6fae3",
   "metadata": {},
   "outputs": [],
   "source": [
    "city_encoder.inverse_transform([0])"
   ]
  },
  {
   "cell_type": "code",
   "execution_count": null,
   "id": "5774dbb1",
   "metadata": {},
   "outputs": [],
   "source": [
    "city_encoder.transform(['Abidjan'])"
   ]
  },
  {
   "cell_type": "code",
   "execution_count": null,
   "id": "462c78f6",
   "metadata": {},
   "outputs": [],
   "source": [
    "columns = ['CityBasis', 'City','AverageTemperature'] # such that these will be x\n",
    "sdf=sdf[columns].copy()\n",
    "sdf"
   ]
  },
  {
   "cell_type": "code",
   "execution_count": null,
   "id": "d13c4ea6",
   "metadata": {},
   "outputs": [],
   "source": [
    "import tensorly as tl\n",
    "\n",
    "tensor_array = tensorisation_Values (sdf, 1, value=\"AverageTemperature\", aggFunc=np.mean)\n",
    "tensor2 = tl.tensor(tensor_array)\n",
    "tensor2.shape\n"
   ]
  },
  {
   "cell_type": "code",
   "execution_count": null,
   "id": "bafafc3a",
   "metadata": {},
   "outputs": [],
   "source": [
    "tensor2 # the tensorisation function can also be updated to handle nan values, and to be vectorised and optimisaed for parallel processing"
   ]
  },
  {
   "cell_type": "code",
   "execution_count": null,
   "id": "f309f80d",
   "metadata": {},
   "outputs": [],
   "source": [
    "# Fourth example is temperature values per location as Latitude & Longitude  (rank-three tensor). \n",
    "#Attemping pivot tables, will still be rank-two, as we create a matrix with the both location columns flattened in one mode\n",
    "columns = ['dt','AverageTemperature','AverageTemperatureUncertainty','City','Country','Latitude','Longitude'] # such that these will be x\n",
    "\n",
    "\n",
    "locTempMeans = df.pivot_table(values='AverageTemperature',\n",
    "                               index=['Latitude','Longitude'], \n",
    "                               aggfunc=np.mean,               ## aggfunc='size', # size if you want to aggregate by frequency counting\n",
    "                               fill_value=0)\n",
    "locTempMeans\n",
    "\n"
   ]
  },
  {
   "cell_type": "code",
   "execution_count": null,
   "id": "b0cdd63f",
   "metadata": {},
   "outputs": [],
   "source": [
    "#We will do it using tensorisation\n",
    "\n",
    "columns = ['Latitude','Longitude','AverageTemperature'] \n",
    "sdf=userdata[columns].copy()\n",
    "\n",
    "sdf # 'Latitude','Longitude' contain numeric values followed by N/S in the first, and E/W in the second, which is degree minute second (DMS) coordinates \n",
    "# We will need to be numerically encode them to be turned to coordinate basis using decimal degrees\n",
    "# there is a solution here https://medium.com/@quinn.dougherty92/simple-geographical-encoding-8293fde9e964"
   ]
  },
  {
   "cell_type": "code",
   "execution_count": null,
   "id": "e9067179",
   "metadata": {},
   "outputs": [],
   "source": [
    "!pip install dms2dec"
   ]
  },
  {
   "cell_type": "code",
   "execution_count": null,
   "id": "1b708241",
   "metadata": {},
   "outputs": [],
   "source": [
    "# geopandas has interesting solutions, but will use dms2dec for simplicity\n",
    "from dms2dec.dms_convert import dms2dec\n",
    "sdf['Latitude'] = sdf['Latitude'].apply(dms2dec)\n",
    "sdf['Longitude'] = sdf['Longitude'].apply(dms2dec)\n",
    "sdf['Latitude'] = sdf['Latitude'].astype(float)\n",
    "sdf['Longitude'] = sdf['Longitude'].astype(float)\n",
    "sdf"
   ]
  },
  {
   "cell_type": "code",
   "execution_count": null,
   "id": "191567bc",
   "metadata": {},
   "outputs": [],
   "source": [
    "# we will need to update the tensorisation function to be able to aggregate by mean or other function, and take\n",
    "# the values as mean of rows returned from a condition per column in the dataframe\n",
    "# this is almost tailored to Latitude & Longitude specific values, it is better to be updated to ranges, such that\n",
    "# values are aggregated when they are >= the current basis index and < next basis index\n",
    "# many optimisations can be achived for vectorisation, paralleisation, quantisation\n",
    "def tensorisation2_Values (Df, components, value=\"value\", aggFunc=np.mean):\n",
    "    if components >= Df.shape[1]:\n",
    "        print (\"Number of components must be less or equal to number of the columns in the input matrix. Exiting without creating the tensor\")\n",
    "        return\n",
    "    minVals = []\n",
    "    maxVals = []\n",
    "    tensorShape = []\n",
    "    for i in range(components):\n",
    "        minVal = Df.iloc[:,i].min()\n",
    "        # this will be an index, therefore starting from zero is necessary\n",
    "        if minVal > 0:\n",
    "            Df.iloc[:,i] += minVal\n",
    "            minVal = 0\n",
    "        if minVal < 0:\n",
    "            Df.iloc[:,i] -= minVal\n",
    "            minVal = 0\n",
    "        minVals.append(minVal)\n",
    "        # also the max value need to be positive non-zero, because it will be the tensor shape \n",
    "        maxVal = Df.iloc[:,i].max()\n",
    "        if maxVal <= 0:\n",
    "            Df.iloc[:,i] -= maxVal + 1\n",
    "            maxVal = 1\n",
    "        maxVals.append(maxVal)\n",
    "        print(\"mode  \" + str(i) + \" max value =\" + str(maxVal) + \", min value = \" + str(minVal))\n",
    "        tensorShape.append(int(maxVal)+1)\n",
    "\n",
    "    # update the values in the array, to be used as indices\n",
    "    for k,j in Df.iterrows():\n",
    "            for i in range(components):\n",
    "                j[i] = int(math.floor(j[i])) + abs(int(minVals[i])) + 1\n",
    "    print (tensorShape)\n",
    "    tensorShape = tuple(tensorShape) \n",
    "    tensor_array = np.zeros(tensorShape)\n",
    "    \n",
    "    ## two useful functions\n",
    "    np.unravel_index(0, tensorShape) # flat linear index to multidimensional index \n",
    "    np.ravel_multi_index([tensorShape[i]-1 for i in range(len(tensorShape))], tensorShape) # multidimensional index to flat linear index\n",
    "\n",
    "    for i in range (np.prod(tensorShape)-1): # iterate through the tensor flat indices, can try for element in np.nditer(arr): then get the index of the element\n",
    "        t_index = np.unravel_index(i, tensorShape) # get the tensor multidimensional index\n",
    "        print (\"i: \" + str(i) + \" t_in: \" + str(t_index))\n",
    "        condition = '' # accumulate the conditions to add to the data frame selection\n",
    "        for j in range(len(t_index)):       # iterate through the dataframe columns\n",
    "            if j==0:\n",
    "                condition += '(Df[Df.columns[' + str(j)+']] == ' + str(t_index[j]) + ')'\n",
    "            else:\n",
    "                condition += ' & (Df[Df.columns[' + str(j)+']]  == ' + str(t_index[j]) + ')'\n",
    "            print (\"j: \" + str(j) + \" column: \" + Df.columns[j] + \" cond: \" + condition)\n",
    "            \n",
    "        #print (\"Condition is: \" + condition)\n",
    "        if len(condition) > 0:    \n",
    "            #print (eval(condition))\n",
    "            tensor_array[t_index] = aggFunc(Df.loc[eval(condition)]['AverageTemperature'])\n",
    "        else:\n",
    "            tensor_array[t_index] = aggFunc(Df.loc['AverageTemperature'])\n",
    "\n",
    "\n",
    "    return tensor_array"
   ]
  },
  {
   "cell_type": "code",
   "execution_count": null,
   "id": "21ca50ab",
   "metadata": {},
   "outputs": [],
   "source": [
    "tensor_array =  tensorisation2_Values (sdf, 2, value=\"AverageTemperature\", aggFunc=np.mean)\n",
    "tensor2 = tl.tensor(tensor_array)\n",
    "tensor2.shape"
   ]
  },
  {
   "cell_type": "code",
   "execution_count": null,
   "id": "bcb5da79",
   "metadata": {},
   "outputs": [],
   "source": [
    "tensor2\n"
   ]
  },
  {
   "cell_type": "code",
   "execution_count": null,
   "id": "3a4f0ec4",
   "metadata": {},
   "outputs": [],
   "source": [
    "# Fifth example is temperature values per location as Latitude & Longitude & date  (rank-four tensor). We will do it using tensorisation\n",
    "#Attemping pivot tables, will still be rank-two, as we create a matrix with the both location columns and time column flattened in one mode\n",
    "columns = ['dt','AverageTemperature','AverageTemperatureUncertainty','City','Country','Latitude','Longitude'] # such that these will be x\n",
    "\n",
    "\n",
    "locTempMeans = df.pivot_table(values='AverageTemperature',\n",
    "                               index=['Latitude','Longitude','dt'], \n",
    "                               aggfunc=np.mean,               ## aggfunc='size', # size if you want to aggregate by frequency counting\n",
    "                               fill_value=0)\n",
    "locTempMeans\n"
   ]
  },
  {
   "cell_type": "code",
   "execution_count": null,
   "id": "2484246d",
   "metadata": {},
   "outputs": [],
   "source": [
    "#We will do it using tensorisation\n",
    "\n",
    "columns = ['Latitude','Longitude','dt', 'AverageTemperature'] \n",
    "sdf=userdata[columns].copy()\n",
    "\n",
    "sdf\n"
   ]
  },
  {
   "cell_type": "code",
   "execution_count": null,
   "id": "6ee5f6ff",
   "metadata": {},
   "outputs": [],
   "source": [
    "# we have here a date column, we can create time series by lagging function and quantisation of values, but will simply encode here\n",
    "date = pd.to_datetime(sdf['dt'])\n",
    "date"
   ]
  },
  {
   "cell_type": "code",
   "execution_count": null,
   "id": "c979178a",
   "metadata": {},
   "outputs": [],
   "source": [
    "sdf['Latitude'] = sdf['Latitude'].apply(dms2dec)\n",
    "sdf['Longitude'] = sdf['Longitude'].apply(dms2dec)\n",
    "sdf['Latitude'] = sdf['Latitude'].astype(float)\n",
    "sdf['Longitude'] = sdf['Longitude'].astype(float)\n",
    "\n",
    "date_encoder = preprocessing.LabelEncoder()\n",
    "\n",
    "sdf['dtBasis']= date_encoder.fit_transform(pd.to_datetime(sdf['dt']))\n",
    "sdf['dtBasis'] = sdf['dtBasis'].astype(float)\n",
    "sdf['dtBasis'].unique()"
   ]
  },
  {
   "cell_type": "code",
   "execution_count": null,
   "id": "35495cb1",
   "metadata": {},
   "outputs": [],
   "source": [
    "columns = ['Latitude','Longitude','dtBasis', 'AverageTemperature'] \n",
    "sdf=sdf[columns].copy()\n",
    "\n",
    "sdf"
   ]
  },
  {
   "cell_type": "code",
   "execution_count": null,
   "id": "7cc74e5c",
   "metadata": {},
   "outputs": [],
   "source": [
    "tensor_array =  tensorisation2_Values (sdf, 3, value=\"AverageTemperature\", aggFunc=np.mean)\n",
    "tensor2 = tl.tensor(tensor_array)\n",
    "tensor2.shape"
   ]
  },
  {
   "cell_type": "code",
   "execution_count": null,
   "id": "d597253a",
   "metadata": {},
   "outputs": [],
   "source": [
    "tensor2"
   ]
  },
  {
   "cell_type": "markdown",
   "id": "13491ebe",
   "metadata": {},
   "source": [
    "## We will consider another problem using Data already in tensor form.\n",
    "\n",
    "\n",
    "The data set is from http://www.models.life.ku.dk/nwaydata\n",
    "in Matlab form, and can be read by scipy loadmat function, and saved as numpy arrays for easier loads later\n",
    "\n",
    "The data has X variable as 3-way tensor of  5 samples in mode - 1 (rows) 5 × 51 × 201. , containing different amounts of tyrosine, tryptophan and phenylalanine amino acids belong to three amino acids dissolved in phosphate buffered water. The samples were measured by fluorescence (excitation 250-300 nm, emission 250-450 nm, 1 nm intervals) on a spectrofluorometer \n",
    "\n",
    "The data has Y variable, which is the ground truth,  the known concentrations of the three chemicals (mode-2) that are in the samples (mode-1) "
   ]
  },
  {
   "cell_type": "code",
   "execution_count": null,
   "id": "08ea70ef",
   "metadata": {},
   "outputs": [],
   "source": [
    "import scipy.io\n",
    "amino = scipy.io.loadmat('data/amino.mat')"
   ]
  },
  {
   "cell_type": "code",
   "execution_count": null,
   "id": "1d0b1c5f",
   "metadata": {},
   "outputs": [],
   "source": [
    "X = amino.get('X')"
   ]
  },
  {
   "cell_type": "code",
   "execution_count": null,
   "id": "3e5922a4",
   "metadata": {},
   "outputs": [],
   "source": [
    "Y = amino.get('Y')"
   ]
  },
  {
   "cell_type": "code",
   "execution_count": null,
   "id": "f8efe0f6",
   "metadata": {},
   "outputs": [],
   "source": [
    "import numpy as np\n",
    "\n",
    "np.save('data/amino_x', X)\n",
    "np.save('data/amino_y', Y)"
   ]
  },
  {
   "cell_type": "code",
   "execution_count": null,
   "id": "94f58eea",
   "metadata": {},
   "outputs": [],
   "source": [
    "X.shape"
   ]
  },
  {
   "cell_type": "code",
   "execution_count": null,
   "id": "ab25753d",
   "metadata": {},
   "outputs": [],
   "source": [
    "Y.shape"
   ]
  },
  {
   "cell_type": "code",
   "execution_count": null,
   "id": "816a1337",
   "metadata": {},
   "outputs": [],
   "source": [
    "# doing Parafac decomposition\n",
    "from tensorly.decomposition import parafac\n",
    "weights, factors = parafac(X,rank = 3, verbose = 2)"
   ]
  },
  {
   "cell_type": "markdown",
   "id": "466780dc",
   "metadata": {},
   "source": [
    "## PARAFAC should have three components and therefore a 5 × 3 so called score matrix (first mode loading matrix). Each column in this score matrix should approximately match the concentration of one of the three aminoacids which are held in the 5 × 3 Y matrix. Matching in this case, means that the corresponding columns should be correlated."
   ]
  },
  {
   "cell_type": "code",
   "execution_count": null,
   "id": "9189c3fc",
   "metadata": {},
   "outputs": [],
   "source": [
    "len(factors)"
   ]
  },
  {
   "cell_type": "code",
   "execution_count": null,
   "id": "5e7feff1",
   "metadata": {},
   "outputs": [],
   "source": [
    "[f.shape for f in factors]"
   ]
  },
  {
   "cell_type": "code",
   "execution_count": null,
   "id": "db8ceb5e",
   "metadata": {},
   "outputs": [],
   "source": [
    "np.isclose(Y, factors[0]) # obviously they are not close enough for numpy, will do all possible column permutations correlation then"
   ]
  },
  {
   "cell_type": "code",
   "execution_count": null,
   "id": "33be6ed5",
   "metadata": {},
   "outputs": [],
   "source": [
    "import pandas as pd\n",
    "import seaborn as sns\n",
    "import matplotlib.pyplot as plt\n",
    "\n",
    "def corrEstimate (i, j, Y, factors):\n",
    "    data = {\n",
    "        'Y': Y[:,i], \n",
    "        'Y_p': factors[0][:,j]\n",
    "    }\n",
    "\n",
    "    df = pd.DataFrame(data, columns=['Y', 'Y_p'])\n",
    "    corr = df.corr()\n",
    "    print(\"Correlation matrix of estimated column\" + str(i) + \" with ground truth \" + str(j) + \" is : \")\n",
    "    print(corr)\n",
    "    \n",
    "    return corr, ax"
   ]
  },
  {
   "cell_type": "code",
   "execution_count": null,
   "id": "38e876bc",
   "metadata": {},
   "outputs": [],
   "source": [
    "plt.figure(figsize=(15, 12))\n",
    "ax = 0\n",
    "corrList = []\n",
    "for i in range(Y.shape[1]):\n",
    "    for j in range(factors[0].shape[1]):\n",
    "        corr, ax = corrEstimate(i, j, Y, factors)\n",
    "        corrList.append(corr)\n",
    "\n",
    "n=0 # there is a bug that makes the plot read the same correlation matrix every time, I tried inside the function, and then added the list to separate the variables, and not good\n",
    "for i in range(Y.shape[1]):\n",
    "    for j in range(factors[0].shape[1]):\n",
    "        ax = plt.subplot(3, 3, n+1)\n",
    "        plt.imshow(corrList[n],cmap='coolwarm',interpolation='nearest')\n",
    "        n= n+1"
   ]
  },
  {
   "cell_type": "markdown",
   "id": "7ef678b3",
   "metadata": {},
   "source": [
    "### It is obvious that the first estimated chemical matches the first ground truth, more than the other two\n",
    "\n",
    "### The second estimated chemical matches the third ground truth, \n",
    "\n",
    "### The third estimated checmical matches the second ground truth\n",
    "\n",
    "### The second and third are swapped"
   ]
  },
  {
   "cell_type": "markdown",
   "id": "6cf1cd04",
   "metadata": {},
   "source": [
    "# Ch6: Fundamentals of Tensor Analysis & Applications\n",
    "\n",
    "## 6.1 Scientific Computing Applications\n",
    "\n",
    "## Second Problem is a survey answers about happiness scores related to 3 conditions. This created a three-way contingency table has as its variables: Happiness reported by participants in a survey (i mode-1 : 3 categories), Number of siblings (j mode-2 : Siblings - 5 categories) and the Years of schooling completed (k mode-3 : Schooling - 4 categories). It is thus a frequency table containing in the cells the number of people with a particular combination of categories. \n",
    "\n",
    "## the data is stored in a dat file that reads a 2 dimensional matricised tensor, (12, 5), assuming that reshaping into (3, 4, 5) and swapping the mode-2 and mode-3 in the problem definition in https://three-mode.leidenuniv.nl/ will be ok\n",
    "\n",
    "## Will decompose with Tucker to find which rank gives the best fit."
   ]
  },
  {
   "cell_type": "code",
   "execution_count": null,
   "id": "d2f2e436",
   "metadata": {},
   "outputs": [],
   "source": [
    "import csv\n",
    "\n",
    "# read flash.dat to a list of lists\n",
    "datContent = [i.strip().split() for i in open(\"data/Happiness.dat\").readlines()]\n",
    "\n",
    "X = np.array(datContent)\n",
    "X.shape"
   ]
  },
  {
   "cell_type": "code",
   "execution_count": null,
   "id": "e0d7949b",
   "metadata": {},
   "outputs": [],
   "source": [
    "X = X.reshape(3, 4, 5)\n",
    "X.shape"
   ]
  },
  {
   "cell_type": "code",
   "execution_count": null,
   "id": "e98b4df1",
   "metadata": {},
   "outputs": [],
   "source": [
    "# doing Tucker decomposition\n",
    "from tensorly.decomposition import tucker\n",
    "import tensorly as tl\n",
    "import math\n",
    "\n",
    "\n",
    "\n",
    "def doTucker (X, rank):\n",
    "    X = tl.tensor(X,dtype=float)\n",
    "    core, factors = tucker(X, rank=rank)\n",
    "    tucker_reconstruction_2 = tl.tucker_to_tensor((core, factors))\n",
    "\n",
    "    tk_RMSE = math.sqrt(np.square(np.subtract(X,tucker_reconstruction_2)).mean() )\n",
    "    print (\"Tucker \" + str(rank) + \" RMSE = \", tk_RMSE)\n",
    "    return core ,factors, tk_RMSE"
   ]
  },
  {
   "cell_type": "code",
   "execution_count": null,
   "id": "f6d0d75f",
   "metadata": {},
   "outputs": [],
   "source": [
    "# doing Tucker decomposition\n",
    "from tensorly.decomposition import tucker\n",
    "import tensorly as tl\n",
    "\n",
    "ranks = []\n",
    "tucker_RMSE=[]\n",
    "\n",
    "for i in range(np.prod(X.shape)): # iterate through the flat index\n",
    "    rank= np.unravel_index(i, X.shape) # get the multidimensional index to use as a rank, in case it does not contain a zero, this will traverse all possible ranks\n",
    "    if np.all(rank):\n",
    "        core ,factors, tk_RMSE = doTucker(X, rank)\n",
    "        tucker_RMSE.append(tk_RMSE)\n",
    "        ranks.append(str(rank))\n",
    "\n",
    "\n",
    "max = np.argmin(tucker_RMSE)\n",
    "print (\"Lowest RMSE achieched at rank = \" + ranks[max]) # this will show the full matrix rank, "
   ]
  },
  {
   "cell_type": "code",
   "execution_count": null,
   "id": "26b7e0ef",
   "metadata": {},
   "outputs": [],
   "source": [
    "import matplotlib.pyplot as plt\n",
    "%matplotlib inline\n",
    "\n",
    "fig = plt.figure( figsize=(20,6))\n",
    "plt.style.use('ggplot')\n",
    "\n",
    "x_pos = [i for i, _ in enumerate(ranks)]\n",
    "\n",
    "plt.bar(ranks, tucker_RMSE, color='green')\n",
    "plt.xlabel(\"Dimensionality Reduction Methods\")\n",
    "plt.ylabel(\"RMSE\")\n",
    "plt.title(\"Comparing Classification RMSE using RandomForest on Linear unsupervised PCA, supervised LDA/QDA and various Embedding Learning Algorithms\")\n",
    "\n",
    "plt.xticks(x_pos, ranks)\n",
    "\n",
    "plt.show()"
   ]
  },
  {
   "cell_type": "markdown",
   "id": "7e00df7d",
   "metadata": {},
   "source": [
    "## Looking at all possible ranks reconstruction error, it seems the highest errors occured when all modes were reduced, but when first mode only was reduced, the error was small, which means it is not very dominant in this dataset, and the third mode seems to be the most dominant.  \n",
    "\n",
    "In the book ( Kroonenberg, P.M., 2008. Applied multi-way data analysis, Wiley series in probability and statistics. Wiley-Interscience, Hoboken, N.J.) the author showed that rank (2,2,2) was the most fit to this dataset, which is proven here as well. The software he used can be downloaded from https://three-mode.leidenuniv.nl/ , "
   ]
  },
  {
   "cell_type": "markdown",
   "id": "df9f3d9f",
   "metadata": {},
   "source": [
    "### Tensorlab (Matlab package) Tensorisation Functions:\n",
    "\n",
    "##### A 2-dimensional implementation is available in scipy package that is not based on tensor higher dimensions"
   ]
  },
  {
   "cell_type": "code",
   "execution_count": 56,
   "id": "dccefde8",
   "metadata": {},
   "outputs": [
    {
     "data": {
      "text/plain": [
       "array([[1, 2, 3, 4, 5],\n",
       "       [2, 3, 4, 5, 0],\n",
       "       [3, 4, 5, 0, 0],\n",
       "       [4, 5, 0, 0, 0],\n",
       "       [5, 0, 0, 0, 0]])"
      ]
     },
     "execution_count": 56,
     "metadata": {},
     "output_type": "execute_result"
    }
   ],
   "source": [
    "from scipy.linalg import hankel\n",
    "\n",
    "\n",
    "v = [1, 2, 3, 4, 5]\n",
    "V = hankel(v);\n",
    "V\n"
   ]
  },
  {
   "cell_type": "code",
   "execution_count": 59,
   "id": "0a95cdc0",
   "metadata": {},
   "outputs": [
    {
     "data": {
      "text/plain": [
       "array([[1, 5, 4, 3, 2, 2, 1, 5, 4, 3, 3, 2, 1, 5, 4, 4, 3, 2, 1, 5, 5, 4,\n",
       "        3, 2, 1],\n",
       "       [5, 4, 3, 2, 2, 1, 5, 4, 3, 3, 2, 1, 5, 4, 4, 3, 2, 1, 5, 5, 4, 3,\n",
       "        2, 1, 0],\n",
       "       [4, 3, 2, 2, 1, 5, 4, 3, 3, 2, 1, 5, 4, 4, 3, 2, 1, 5, 5, 4, 3, 2,\n",
       "        1, 0, 0],\n",
       "       [3, 2, 2, 1, 5, 4, 3, 3, 2, 1, 5, 4, 4, 3, 2, 1, 5, 5, 4, 3, 2, 1,\n",
       "        0, 0, 0],\n",
       "       [2, 2, 1, 5, 4, 3, 3, 2, 1, 5, 4, 4, 3, 2, 1, 5, 5, 4, 3, 2, 1, 0,\n",
       "        0, 0, 0],\n",
       "       [2, 1, 5, 4, 3, 3, 2, 1, 5, 4, 4, 3, 2, 1, 5, 5, 4, 3, 2, 1, 0, 0,\n",
       "        0, 0, 0],\n",
       "       [1, 5, 4, 3, 3, 2, 1, 5, 4, 4, 3, 2, 1, 5, 5, 4, 3, 2, 1, 0, 0, 0,\n",
       "        0, 0, 0],\n",
       "       [5, 4, 3, 3, 2, 1, 5, 4, 4, 3, 2, 1, 5, 5, 4, 3, 2, 1, 0, 0, 0, 0,\n",
       "        0, 0, 0],\n",
       "       [4, 3, 3, 2, 1, 5, 4, 4, 3, 2, 1, 5, 5, 4, 3, 2, 1, 0, 0, 0, 0, 0,\n",
       "        0, 0, 0],\n",
       "       [3, 3, 2, 1, 5, 4, 4, 3, 2, 1, 5, 5, 4, 3, 2, 1, 0, 0, 0, 0, 0, 0,\n",
       "        0, 0, 0],\n",
       "       [3, 2, 1, 5, 4, 4, 3, 2, 1, 5, 5, 4, 3, 2, 1, 0, 0, 0, 0, 0, 0, 0,\n",
       "        0, 0, 0],\n",
       "       [2, 1, 5, 4, 4, 3, 2, 1, 5, 5, 4, 3, 2, 1, 0, 0, 0, 0, 0, 0, 0, 0,\n",
       "        0, 0, 0],\n",
       "       [1, 5, 4, 4, 3, 2, 1, 5, 5, 4, 3, 2, 1, 0, 0, 0, 0, 0, 0, 0, 0, 0,\n",
       "        0, 0, 0],\n",
       "       [5, 4, 4, 3, 2, 1, 5, 5, 4, 3, 2, 1, 0, 0, 0, 0, 0, 0, 0, 0, 0, 0,\n",
       "        0, 0, 0],\n",
       "       [4, 4, 3, 2, 1, 5, 5, 4, 3, 2, 1, 0, 0, 0, 0, 0, 0, 0, 0, 0, 0, 0,\n",
       "        0, 0, 0],\n",
       "       [4, 3, 2, 1, 5, 5, 4, 3, 2, 1, 0, 0, 0, 0, 0, 0, 0, 0, 0, 0, 0, 0,\n",
       "        0, 0, 0],\n",
       "       [3, 2, 1, 5, 5, 4, 3, 2, 1, 0, 0, 0, 0, 0, 0, 0, 0, 0, 0, 0, 0, 0,\n",
       "        0, 0, 0],\n",
       "       [2, 1, 5, 5, 4, 3, 2, 1, 0, 0, 0, 0, 0, 0, 0, 0, 0, 0, 0, 0, 0, 0,\n",
       "        0, 0, 0],\n",
       "       [1, 5, 5, 4, 3, 2, 1, 0, 0, 0, 0, 0, 0, 0, 0, 0, 0, 0, 0, 0, 0, 0,\n",
       "        0, 0, 0],\n",
       "       [5, 5, 4, 3, 2, 1, 0, 0, 0, 0, 0, 0, 0, 0, 0, 0, 0, 0, 0, 0, 0, 0,\n",
       "        0, 0, 0],\n",
       "       [5, 4, 3, 2, 1, 0, 0, 0, 0, 0, 0, 0, 0, 0, 0, 0, 0, 0, 0, 0, 0, 0,\n",
       "        0, 0, 0],\n",
       "       [4, 3, 2, 1, 0, 0, 0, 0, 0, 0, 0, 0, 0, 0, 0, 0, 0, 0, 0, 0, 0, 0,\n",
       "        0, 0, 0],\n",
       "       [3, 2, 1, 0, 0, 0, 0, 0, 0, 0, 0, 0, 0, 0, 0, 0, 0, 0, 0, 0, 0, 0,\n",
       "        0, 0, 0],\n",
       "       [2, 1, 0, 0, 0, 0, 0, 0, 0, 0, 0, 0, 0, 0, 0, 0, 0, 0, 0, 0, 0, 0,\n",
       "        0, 0, 0],\n",
       "       [1, 0, 0, 0, 0, 0, 0, 0, 0, 0, 0, 0, 0, 0, 0, 0, 0, 0, 0, 0, 0, 0,\n",
       "        0, 0, 0]])"
      ]
     },
     "execution_count": 59,
     "metadata": {},
     "output_type": "execute_result"
    }
   ],
   "source": [
    "V = hankel(V);\n",
    "V\n"
   ]
  },
  {
   "cell_type": "code",
   "execution_count": 60,
   "id": "b51d7ca7",
   "metadata": {},
   "outputs": [
    {
     "data": {
      "text/plain": [
       "(25, 25)"
      ]
     },
     "execution_count": 60,
     "metadata": {},
     "output_type": "execute_result"
    }
   ],
   "source": [
    "V.shape"
   ]
  },
  {
   "cell_type": "code",
   "execution_count": 61,
   "id": "7da711d6",
   "metadata": {},
   "outputs": [
    {
     "data": {
      "text/plain": [
       "array([[1, 5, 4, ..., 0, 0, 0],\n",
       "       [5, 4, 3, ..., 0, 0, 0],\n",
       "       [4, 3, 2, ..., 0, 0, 0],\n",
       "       ...,\n",
       "       [0, 0, 0, ..., 0, 0, 0],\n",
       "       [0, 0, 0, ..., 0, 0, 0],\n",
       "       [0, 0, 0, ..., 0, 0, 0]])"
      ]
     },
     "execution_count": 61,
     "metadata": {},
     "output_type": "execute_result"
    }
   ],
   "source": [
    "V = hankel(V);\n",
    "V"
   ]
  },
  {
   "cell_type": "code",
   "execution_count": 62,
   "id": "51e7a86d",
   "metadata": {},
   "outputs": [
    {
     "data": {
      "text/plain": [
       "(625, 625)"
      ]
     },
     "execution_count": 62,
     "metadata": {},
     "output_type": "execute_result"
    }
   ],
   "source": [
    "V.shape"
   ]
  },
  {
   "cell_type": "code",
   "execution_count": 57,
   "id": "58872fdb",
   "metadata": {},
   "outputs": [
    {
     "data": {
      "text/plain": [
       "array([[1, 2, 3, 4, 5],\n",
       "       [2, 1, 2, 3, 4],\n",
       "       [3, 2, 1, 2, 3],\n",
       "       [4, 3, 2, 1, 2],\n",
       "       [5, 4, 3, 2, 1]])"
      ]
     },
     "execution_count": 57,
     "metadata": {},
     "output_type": "execute_result"
    }
   ],
   "source": [
    "from scipy.linalg import toeplitz\n",
    "V = toeplitz(v);\n",
    "V\n"
   ]
  },
  {
   "cell_type": "code",
   "execution_count": 58,
   "id": "f4e3097e",
   "metadata": {},
   "outputs": [
    {
     "data": {
      "text/plain": [
       "array([[1, 5, 4, 3, 2],\n",
       "       [2, 1, 5, 4, 3],\n",
       "       [3, 2, 1, 5, 4],\n",
       "       [4, 3, 2, 1, 5],\n",
       "       [5, 4, 3, 2, 1]])"
      ]
     },
     "execution_count": 58,
     "metadata": {},
     "output_type": "execute_result"
    }
   ],
   "source": [
    "from scipy.linalg import circulant\n",
    "V = circulant(v);\n",
    "V"
   ]
  },
  {
   "cell_type": "markdown",
   "id": "a6396dec",
   "metadata": {},
   "source": [
    "### Attempting to implement in higher dimensions it as explained in https://www.tensorlab.net/doc/tensorization.html#hankelization-sec  and https://core.ac.uk/download/pdf/34637588.pdf \n",
    "\n",
    "\n",
    "##### Hankelization : Will lead to curse of dimensionality, and reduced forms are performed by tensor factorisation"
   ]
  },
  {
   "cell_type": "code",
   "execution_count": 45,
   "id": "98d93619",
   "metadata": {},
   "outputs": [],
   "source": [
    "import numpy as np\n",
    "import math\n",
    "\n",
    "def hankelize (v, order = 2, sizes = None , indices = None,Dim = 1 ):\n",
    "    N = len(v)\n",
    "    if order > N:\n",
    "        print ('The order should not be larger than the number of elements in the tensorized dimension!')\n",
    "        return\n",
    "    if order < 2:\n",
    "        print ('The order must be larger than or equal to 2!')\n",
    "        return\n",
    "    if order == 2:\n",
    "        if sizes == None:\n",
    "            I = int(math.ceil(N / 2))\n",
    "            J = N - I + 1\n",
    "        else:\n",
    "            I = sizes[0]\n",
    "            J = sizes[1]\n",
    "        H = np.ndarray(shape=(I,J), dtype=np.int8)\n",
    "        for i in range (0, I):\n",
    "            for j in range (0, J):\n",
    "                H[i, j] = v[i+j-1]\n",
    "    else:\n",
    "            # ceil((1:options.Order-1)*N/options.Order);\n",
    "            I = np.ndarray(shape=(order), dtype=np.int8) # resulting tensorShape\n",
    "            # Y(ceil((k-1)*N/K):               ceil(k*N/K))  segments\n",
    "            elements = 0\n",
    "            for i in range (0, order):\n",
    "                if sizes == None:\n",
    "                    if i < order - 1:\n",
    "                        I[i] = int(math.ceil(N / order))\n",
    "                        #I[i] = int((N+order) / order) + 1\n",
    "                        elements += I[i]\n",
    "                    else:\n",
    "                        I[i]  = N - order + 1\n",
    "                        #I[i] = N +order - elements\n",
    "                else:\n",
    "                    I[i] = sizes[i]\n",
    "            tensorshape = tuple(I)\n",
    "            print (tensorshape)\n",
    "            H = np.ndarray(shape=tensorshape, dtype=np.int8)\n",
    "            \n",
    "            # This method of iterating through the high dimensional space in one-level non-nested and hard coded for every order like the above 2-D example\n",
    "            # might be the reason the order of the elements are not as described in the references. However the diagonal, anti-diagonal, or skew diagonal \n",
    "            # properties seem to be preserved. Further testing might be needed to maintain that a Hankel tensor has constant anti-hyperplanes, and take\n",
    "            # care of all exception handling, like mismatching order or parameter values or too large tensor to create a smaller one.\n",
    "            \n",
    "            for i in range (np.prod(I)): # iterate through the tensor flat indices\n",
    "                t_index = np.unravel_index(i, I) # get the tensor multidimensional index\n",
    "                print (t_index)\n",
    "                H[t_index] =v[np.sum(t_index) - order + 1]\n",
    "    return H"
   ]
  },
  {
   "cell_type": "code",
   "execution_count": 46,
   "id": "8d4173f5",
   "metadata": {},
   "outputs": [
    {
     "data": {
      "text/plain": [
       "array([[5, 1, 2],\n",
       "       [1, 2, 3],\n",
       "       [2, 3, 4]], dtype=int8)"
      ]
     },
     "execution_count": 46,
     "metadata": {},
     "output_type": "execute_result"
    }
   ],
   "source": [
    "\n",
    "v = [1, 2, 3, 4, 5]\n",
    "V = hankelize(v);\n",
    "V"
   ]
  },
  {
   "cell_type": "code",
   "execution_count": 47,
   "id": "5752dbb5",
   "metadata": {},
   "outputs": [
    {
     "name": "stdout",
     "output_type": "stream",
     "text": [
      "(2, 2, 3)\n",
      "(0, 0, 0)\n",
      "(0, 0, 1)\n",
      "(0, 0, 2)\n",
      "(0, 1, 0)\n",
      "(0, 1, 1)\n",
      "(0, 1, 2)\n",
      "(1, 0, 0)\n",
      "(1, 0, 1)\n",
      "(1, 0, 2)\n",
      "(1, 1, 0)\n",
      "(1, 1, 1)\n",
      "(1, 1, 2)\n"
     ]
    },
    {
     "data": {
      "text/plain": [
       "array([[[4, 5, 1],\n",
       "        [5, 1, 2]],\n",
       "\n",
       "       [[5, 1, 2],\n",
       "        [1, 2, 3]]], dtype=int8)"
      ]
     },
     "execution_count": 47,
     "metadata": {},
     "output_type": "execute_result"
    }
   ],
   "source": [
    "V = hankelize(v, order=3);\n",
    "V"
   ]
  },
  {
   "cell_type": "code",
   "execution_count": 48,
   "id": "58006aa3",
   "metadata": {},
   "outputs": [
    {
     "data": {
      "text/plain": [
       "array([[4, 5],\n",
       "       [5, 1]], dtype=int8)"
      ]
     },
     "execution_count": 48,
     "metadata": {},
     "output_type": "execute_result"
    }
   ],
   "source": [
    "V[:,:,0]"
   ]
  },
  {
   "cell_type": "code",
   "execution_count": 49,
   "id": "4a52e522",
   "metadata": {},
   "outputs": [
    {
     "data": {
      "text/plain": [
       "array([[5, 1],\n",
       "       [1, 2]], dtype=int8)"
      ]
     },
     "execution_count": 49,
     "metadata": {},
     "output_type": "execute_result"
    }
   ],
   "source": [
    "V[:,:,1]"
   ]
  },
  {
   "cell_type": "code",
   "execution_count": 50,
   "id": "65c37186",
   "metadata": {},
   "outputs": [
    {
     "data": {
      "text/plain": [
       "array([[1, 2],\n",
       "       [2, 3]], dtype=int8)"
      ]
     },
     "execution_count": 50,
     "metadata": {},
     "output_type": "execute_result"
    }
   ],
   "source": [
    "V[:,:,2]"
   ]
  },
  {
   "cell_type": "code",
   "execution_count": 51,
   "id": "828fbe8b",
   "metadata": {},
   "outputs": [
    {
     "data": {
      "text/plain": [
       "array([[[4, 5, 1],\n",
       "        [5, 1, 2]],\n",
       "\n",
       "       [[5, 1, 2],\n",
       "        [1, 2, 3]]], dtype=int8)"
      ]
     },
     "execution_count": 51,
     "metadata": {},
     "output_type": "execute_result"
    }
   ],
   "source": [
    "V"
   ]
  },
  {
   "cell_type": "code",
   "execution_count": 52,
   "id": "eebf098d",
   "metadata": {},
   "outputs": [
    {
     "data": {
      "text/plain": [
       "(2, 2, 3)"
      ]
     },
     "execution_count": 52,
     "metadata": {},
     "output_type": "execute_result"
    }
   ],
   "source": [
    "V.shape"
   ]
  },
  {
   "cell_type": "code",
   "execution_count": 53,
   "id": "fe79aa98",
   "metadata": {},
   "outputs": [
    {
     "name": "stdout",
     "output_type": "stream",
     "text": [
      "(3, 3, 5)\n",
      "(0, 0, 0)\n",
      "(0, 0, 1)\n",
      "(0, 0, 2)\n",
      "(0, 0, 3)\n",
      "(0, 0, 4)\n",
      "(0, 1, 0)\n",
      "(0, 1, 1)\n",
      "(0, 1, 2)\n",
      "(0, 1, 3)\n",
      "(0, 1, 4)\n",
      "(0, 2, 0)\n",
      "(0, 2, 1)\n",
      "(0, 2, 2)\n",
      "(0, 2, 3)\n",
      "(0, 2, 4)\n",
      "(1, 0, 0)\n",
      "(1, 0, 1)\n",
      "(1, 0, 2)\n",
      "(1, 0, 3)\n",
      "(1, 0, 4)\n",
      "(1, 1, 0)\n",
      "(1, 1, 1)\n",
      "(1, 1, 2)\n",
      "(1, 1, 3)\n",
      "(1, 1, 4)\n",
      "(1, 2, 0)\n",
      "(1, 2, 1)\n",
      "(1, 2, 2)\n",
      "(1, 2, 3)\n",
      "(1, 2, 4)\n",
      "(2, 0, 0)\n",
      "(2, 0, 1)\n",
      "(2, 0, 2)\n",
      "(2, 0, 3)\n",
      "(2, 0, 4)\n",
      "(2, 1, 0)\n",
      "(2, 1, 1)\n",
      "(2, 1, 2)\n",
      "(2, 1, 3)\n",
      "(2, 1, 4)\n",
      "(2, 2, 0)\n",
      "(2, 2, 1)\n",
      "(2, 2, 2)\n",
      "(2, 2, 3)\n",
      "(2, 2, 4)\n"
     ]
    },
    {
     "data": {
      "text/plain": [
       "array([[[6, 7, 1, 2, 3],\n",
       "        [7, 1, 2, 3, 4],\n",
       "        [1, 2, 3, 4, 5]],\n",
       "\n",
       "       [[7, 1, 2, 3, 4],\n",
       "        [1, 2, 3, 4, 5],\n",
       "        [2, 3, 4, 5, 6]],\n",
       "\n",
       "       [[1, 2, 3, 4, 5],\n",
       "        [2, 3, 4, 5, 6],\n",
       "        [3, 4, 5, 6, 7]]], dtype=int8)"
      ]
     },
     "execution_count": 53,
     "metadata": {},
     "output_type": "execute_result"
    }
   ],
   "source": [
    "v = [1, 2, 3, 4, 5, 6, 7]\n",
    "V = hankelize(v, order=3);\n",
    "V"
   ]
  },
  {
   "cell_type": "code",
   "execution_count": 54,
   "id": "7d59fa25",
   "metadata": {},
   "outputs": [
    {
     "data": {
      "text/plain": [
       "array([[6, 7, 1],\n",
       "       [7, 1, 2],\n",
       "       [1, 2, 3]], dtype=int8)"
      ]
     },
     "execution_count": 54,
     "metadata": {},
     "output_type": "execute_result"
    }
   ],
   "source": [
    "V[:,:,0]"
   ]
  },
  {
   "cell_type": "code",
   "execution_count": 55,
   "id": "9c499a6b",
   "metadata": {},
   "outputs": [
    {
     "data": {
      "text/plain": [
       "array([[7, 1, 2],\n",
       "       [1, 2, 3],\n",
       "       [2, 3, 4]], dtype=int8)"
      ]
     },
     "execution_count": 55,
     "metadata": {},
     "output_type": "execute_result"
    }
   ],
   "source": [
    "V[:,:,1]"
   ]
  },
  {
   "cell_type": "code",
   "execution_count": 35,
   "id": "5aec00fd",
   "metadata": {},
   "outputs": [
    {
     "data": {
      "text/plain": [
       "array([6, 7, 1, 2, 3, 7, 1, 2, 3, 4, 1, 2, 3, 4, 5, 7, 1, 2, 3, 4, 1, 2,\n",
       "       3, 4, 5, 2, 3, 4, 5, 6, 1, 2, 3, 4, 5, 2, 3, 4, 5, 6, 3, 4, 5, 6,\n",
       "       7], dtype=int8)"
      ]
     },
     "execution_count": 35,
     "metadata": {},
     "output_type": "execute_result"
    }
   ],
   "source": [
    "import tensorly as tl\n",
    "\n",
    "v_recon = tl.tensor_to_vec( tl.unfold(V, 0))\n",
    "v_recon"
   ]
  },
  {
   "cell_type": "code",
   "execution_count": 1,
   "id": "179566f6",
   "metadata": {},
   "outputs": [],
   "source": [
    "import numpy as np\n",
    "import tensorly as tl\n",
    "\n",
    "    \n",
    "def hankelize(X, **kwargs):\n",
    "    defaultKwargs = { 'Order': 2,\n",
    "        'Dim': 1,\n",
    "        'Sizes': np.NaN,\n",
    "        'Ind': np.NaN,\n",
    "        'PermToFirst': False,\n",
    "        'Full': 'auto',\n",
    "        'FullLimit': 1}\n",
    "    order = kwargs.get('Order', 2)\n",
    "    dim = kwargs.get('Dim', 1)\n",
    "    sizes = kwargs.get('Sizes', np.NaN)\n",
    "    ind = kwargs.get('Ind', np.NaN)\n",
    "    perm_to_first = kwargs.get('PermToFirst', False)\n",
    "    full = kwargs.get('Full', 'auto')\n",
    "    full_limit = kwargs.get('FullLimit', 1)\n",
    "    \n",
    "    args = {'Order': order,\n",
    "        'Dim': dim,\n",
    "        'Sizes': sizes,\n",
    "        'Ind': ind,\n",
    "        'PermToFirst': perm_to_first,\n",
    "        'Full': full,\n",
    "        'FullLimit': full_limit}\n",
    "    KeepUnmatched = False\n",
    "    isdefault =  args ==defaultKwargs\n",
    "    shared_items = {k: args[k] for k in args if k in defaultKwargs and args[k] == defaultKwargs[k]}\n",
    "    \n",
    "    if dim > np.ndim(X):\n",
    "        raise ValueError('The given dimension is too large!')\n",
    "    if dim == 2 and np.ndim(X) == 1:\n",
    "        X = np.reshape(X, (-1, 1)) # Row to column vector: reshape(-1, 1) \n",
    "        \n",
    "        \n",
    "    sx = np.shape(X)\n",
    "    N = sx[dim-1]\n",
    "    size_other = sx[dim:]  # list(sx[:dim-1]) + list(sx[dim:])\n",
    "    \n",
    "    if size_other == [1]:\n",
    "        size_other = []\n",
    "    \n",
    "    # Matricize the data\n",
    "    if np.ndim(X) == 2:\n",
    "        if dim == 2:\n",
    "            Xmat = X.transpose()\n",
    "        else:\n",
    "            Xmat = X\n",
    "    else:\n",
    "        Xmat = tl.unfold(X, dim-1)\n",
    "    Xmat.squeeze()\n",
    "    print (\"input shape: \" , Xmat.shape)\n",
    "        \n",
    "    if order < 2:\n",
    "        raise ValueError('The order must be larger than or equal to 2!')\n",
    "    \n",
    "    #  Set PermToFirst \n",
    "    if perm_to_first == False:\n",
    "        perm_to_first = False\n",
    "    \n",
    "    if not isinstance(perm_to_first, bool):\n",
    "        raise ValueError('The option PermToFirst should be a boolean!')\n",
    "        \n",
    "    \n",
    "    if perm_to_first: \n",
    "        perm_to_first = 1;\n",
    "    else: \n",
    "        perm_to_first = dim;\n",
    "   \n",
    "    # Set the default values\n",
    "    if order == 2:\n",
    "        if np.all(np.isnan(ind)):\n",
    "            if np.all(np.isnan(sizes)):\n",
    "                ind = np.ceil(np.arange(1, order) * N / order)\n",
    "                ind = ind.astype(np.int64)\n",
    "                print (\"Order: \" , order)\n",
    "                print (\"ind: \" , ind)\n",
    "            else:\n",
    "                order = len(sizes)+1\n",
    "                print (\"Order: \" , order)\n",
    "                print (\"ind: \" , ind)\n",
    "                print (\"sizes: \" , sizes)\n",
    "\n",
    "                ind = np.cumsum(sizes) - np.arange(0, order-1)\n",
    "        else:\n",
    "            order = len(ind) \n",
    "            if np.all(not np.isnan(sizes)) and (len(ind) != len(sizes) or not np.all(ind == np.cumsum(sizes) - np.arange(0, order-1))):\n",
    "                raise ValueError('The option fields Ind and Sizes do not correspond!')\n",
    "\n",
    "        if order != len(ind)+1:\n",
    "            raise ValueError('The number of indices should be equal to order-1!')\n",
    "    else:\n",
    "        if np.all(np.isnan(ind)):\n",
    "            if np.all(np.isnan(sizes)):\n",
    "                ind = np.ceil(np.arange(1, order) * N / order)\n",
    "                ind = ind.astype(np.int64)\n",
    "            else:\n",
    "                if len(sizes)!=order:\n",
    "                    raise ValueError('The number of sizes should be equal to order-1')\n",
    "                ind = np.cumsum(sizes) - np.arange(0, order-1)\n",
    "        else:\n",
    "            if np.all(not np.isnan(sizes)) and (len(ind)!=len(sizes) or\n",
    "                    np.any(ind!=np.cumsum(sizes)-np.arange(0, order-1))):\n",
    "                raise ValueError('The option fields ind and sizes do not correspond!')\n",
    "    \n",
    "    if(order!=len(ind)+1):\n",
    "        raise ValueError('The number of indices should be equal to order-1!')\n",
    "    print (\"N: \" , N)\n",
    "    print (\"Dim: \" , dim)\n",
    "    print (\"Order: \" , order)\n",
    "    print (\"ind: \" , ind)\n",
    "    print (\"sizes: \" , sizes)\n",
    "    print (\"perm_to_first: \" , perm_to_first)\n",
    "    print (\"size_other: \" , size_other)\n",
    "               \n",
    "    # Determine the size of the Hankel matrices/tensors\n",
    "    #size_hankel = np.array([ind, N]) - np.array([0] + list(ind[:-1]))\n",
    "    xx = np.hstack((ind, N))\n",
    "    yy = np.hstack(([0], np.subtract(ind, 1)))\n",
    "    size_hankel = np.subtract(xx, yy)\n",
    "    print (\"size_hankel: \" , size_hankel)\n",
    "    \n",
    "    if np.any(size_hankel < 0):\n",
    "        raise ValueError('The indices should increase monotonically between 0 and N!')\n",
    "        \n",
    "    if order > N:\n",
    "        raise ValueError('The order should not be larger than the number of elements in the tensorized dimension!')  \n",
    "    whosX = X.nbytes / X.shape[dim-1] * np.prod(size_hankel)\n",
    "    totalbytes = whosX\n",
    "    print (\"Total required Bytes are: \" , totalbytes)\n",
    "    if full == 'auto':\n",
    "        if totalbytes > full_limit * 2**30:\n",
    "            full = False\n",
    "            print('The fullLimit has been reached, and instead of the dense tensor, the efficient representation is returned. The dense tensor can be obtained by setting the \"full\" option to True.')\n",
    "        else:\n",
    "            full = True\n",
    "    \n",
    "    t = order+ np.arange(1,perm_to_first)           \n",
    "    repermorder = np.hstack(\n",
    "        (order+ np.arange(1,perm_to_first), np.arange(1, order), np.arange(order+perm_to_first-1,len(np.hstack((size_hankel,size_other)))+1)))\n",
    "    #print (\"repermorder: \", repermorder)\n",
    "    hstruct = None\n",
    "    xx = np.hstack((size_hankel,size_other))\n",
    "    yy = np.squeeze(np.ones((1 , len(repermorder) - len(np.hstack((size_hankel, size_other)))+1)))\n",
    "    structSize = np.hstack((xx, yy))\n",
    "    if (full is True) or (hstruct is not None):\n",
    "        hstruct = {\n",
    "            'type': 'hankel',\n",
    "            'val': Xmat,\n",
    "            'dim': dim,\n",
    "            'order': order,\n",
    "            'ind': ind,\n",
    "            'ispermuted': perm_to_first != dim,\n",
    "            'repermorder': repermorder,\n",
    "            'size': structSize,\n",
    "            'size' : structSize[repermorder],\n",
    "            'subsize': {\n",
    "                'hankel': size_hankel,\n",
    "                'other': size_other\n",
    "            }\n",
    "        }\n",
    "    print (\"hstruct\", hstruct)    \n",
    "    if full is True:\n",
    "        allind2 = subhankel(size_hankel)\n",
    "        H = Xmat[allind2, :]\n",
    "        xx = np.hstack((size_hankel, size_other))\n",
    "        xx = xx.astype(np.int64)\n",
    "        H = H.reshape(xx)\n",
    "        if perm_to_first != 1:\n",
    "            H = np.transpose(H, axes=repermorder)\n",
    "    else:\n",
    "        H = hstruct\n",
    "        \n",
    "    return H\n",
    "\n",
    "def subhankel(sizes):\n",
    "    lidx = np.transpose(np.arange(1, sizes[0]+1))\n",
    "    for i in range(1, len(sizes)):\n",
    "        ridx = np.arange(0, sizes[i])\n",
    "        xx = np.squeeze(np.hstack(( np.ones(( i+1)) , len(ridx))))\n",
    "        xx = xx.astype(np.int64)\n",
    "        ridx = ridx.reshape(xx)\n",
    "        lidx =  np.add.outer(lidx, ridx)\n",
    "        \n",
    "    allind = list(lidx.flatten())\n",
    "    allind = np.subtract(allind, 1)\n",
    "    return allind"
   ]
  },
  {
   "cell_type": "code",
   "execution_count": 2,
   "id": "2398b1fc",
   "metadata": {},
   "outputs": [
    {
     "name": "stdout",
     "output_type": "stream",
     "text": [
      "input shape:  (5, 1)\n",
      "Order:  2\n",
      "ind:  [3]\n",
      "N:  5\n",
      "Dim:  1\n",
      "Order:  2\n",
      "ind:  [3]\n",
      "sizes:  nan\n",
      "perm_to_first:  1\n",
      "size_other:  ()\n",
      "size_hankel:  [3 3]\n",
      "Total required Bytes are:  36.0\n",
      "hstruct {'type': 'hankel', 'val': array([[1],\n",
      "       [2],\n",
      "       [3],\n",
      "       [4],\n",
      "       [5]]), 'dim': 1, 'order': 2, 'ind': array([3], dtype=int64), 'ispermuted': False, 'repermorder': array([1, 2]), 'size': array([3., 1.]), 'subsize': {'hankel': array([3, 3], dtype=int64), 'other': ()}}\n"
     ]
    },
    {
     "data": {
      "text/plain": [
       "array([[1, 2, 3],\n",
       "       [2, 3, 4],\n",
       "       [3, 4, 5]])"
      ]
     },
     "execution_count": 2,
     "metadata": {},
     "output_type": "execute_result"
    }
   ],
   "source": [
    "v = np.array([1,2,3,4,5])\n",
    "V = hankelize(v)\n",
    "V"
   ]
  },
  {
   "cell_type": "code",
   "execution_count": 3,
   "id": "01799a6e",
   "metadata": {},
   "outputs": [
    {
     "name": "stdout",
     "output_type": "stream",
     "text": [
      "input shape:  (7, 1)\n",
      "Order:  4\n",
      "ind:  nan\n",
      "sizes:  [4, 3, 2]\n",
      "N:  7\n",
      "Dim:  1\n",
      "Order:  4\n",
      "ind:  [4 6 7]\n",
      "sizes:  [4, 3, 2]\n",
      "perm_to_first:  1\n",
      "size_other:  ()\n",
      "size_hankel:  [4 3 2 1]\n",
      "Total required Bytes are:  96.0\n",
      "hstruct {'type': 'hankel', 'val': array([[1],\n",
      "       [2],\n",
      "       [3],\n",
      "       [4],\n",
      "       [5],\n",
      "       [6],\n",
      "       [7]]), 'dim': 1, 'order': 4, 'ind': array([4, 6, 7]), 'ispermuted': False, 'repermorder': array([1, 2, 3, 4]), 'size': array([3., 2., 1., 1.]), 'subsize': {'hankel': array([4, 3, 2, 1]), 'other': ()}}\n"
     ]
    },
    {
     "data": {
      "text/plain": [
       "array([[[[1],\n",
       "         [2]],\n",
       "\n",
       "        [[2],\n",
       "         [3]],\n",
       "\n",
       "        [[3],\n",
       "         [4]]],\n",
       "\n",
       "\n",
       "       [[[2],\n",
       "         [3]],\n",
       "\n",
       "        [[3],\n",
       "         [4]],\n",
       "\n",
       "        [[4],\n",
       "         [5]]],\n",
       "\n",
       "\n",
       "       [[[3],\n",
       "         [4]],\n",
       "\n",
       "        [[4],\n",
       "         [5]],\n",
       "\n",
       "        [[5],\n",
       "         [6]]],\n",
       "\n",
       "\n",
       "       [[[4],\n",
       "         [5]],\n",
       "\n",
       "        [[5],\n",
       "         [6]],\n",
       "\n",
       "        [[6],\n",
       "         [7]]]])"
      ]
     },
     "execution_count": 3,
     "metadata": {},
     "output_type": "execute_result"
    }
   ],
   "source": [
    "v = np.array([1, 2, 3, 4, 5, 6, 7])\n",
    "V = hankelize(v, Sizes=[4, 3, 2])\n",
    "V"
   ]
  },
  {
   "cell_type": "code",
   "execution_count": 221,
   "id": "0a524f69",
   "metadata": {},
   "outputs": [
    {
     "name": "stdout",
     "output_type": "stream",
     "text": [
      "subs :  [Ellipsis 0 0]\n",
      "tmp:  [1 2 3]\n",
      "perm_vec:  [0, 1, 2]\n",
      "sizes after resize:  [3 1]\n",
      "tmp:  [[1]\n",
      " [2]\n",
      " [3]]\n",
      "tmp:  [1 2 3]\n",
      "subs :  [array(2, dtype=int64) array([1, 2], dtype=int64) 0]\n",
      "tmp:  [4 5]\n",
      "perm_vec:  [1, 0, 2]\n",
      "sizes after resize:  [1 2]\n",
      "tmp:  [[4 5]]\n",
      "tmp:  [4 5]\n",
      "subs :  [array(2, dtype=int64) array(2, dtype=int64) array([1, 2], dtype=int64)]\n",
      "tmp:  [6 7]\n",
      "perm_vec:  [2, 1, 0]\n",
      "sizes after resize:  [1, 1, 2]\n",
      "tmp:  [[[6 7]]]\n",
      "tmp:  [6 7]\n"
     ]
    },
    {
     "name": "stderr",
     "output_type": "stream",
     "text": [
      "C:\\Users\\DELLPR~1\\AppData\\Local\\Temp/ipykernel_18136/2860940684.py:24: ComplexWarning: Casting complex values to real discards the imaginary part\n",
      "  w = np.round(np.fft.ifft(w)).astype(int)\n"
     ]
    },
    {
     "data": {
      "text/plain": [
       "array([1, 2, 3, 4, 5, 6, 7])"
      ]
     },
     "execution_count": 221,
     "metadata": {},
     "output_type": "execute_result"
    }
   ],
   "source": [
    "v = dehankelize(V)\n",
    "v"
   ]
  },
  {
   "cell_type": "code",
   "execution_count": 8,
   "id": "acf15cd9",
   "metadata": {},
   "outputs": [
    {
     "name": "stdout",
     "output_type": "stream",
     "text": [
      "input shape:  (7, 1)\n",
      "N:  7\n",
      "Dim:  1\n",
      "Order:  3\n",
      "ind:  [3 5]\n",
      "sizes:  nan\n",
      "perm_to_first:  1\n",
      "size_other:  ()\n",
      "size_hankel:  [3 3 3]\n",
      "Total required Bytes are:  108.0\n",
      "hstruct {'type': 'hankel', 'val': array([[1],\n",
      "       [2],\n",
      "       [3],\n",
      "       [4],\n",
      "       [5],\n",
      "       [6],\n",
      "       [7]]), 'dim': 1, 'order': 3, 'ind': array([3, 5], dtype=int64), 'ispermuted': False, 'repermorder': array([1, 2, 3]), 'size': array([3., 3., 1.]), 'subsize': {'hankel': array([3, 3, 3], dtype=int64), 'other': ()}}\n"
     ]
    },
    {
     "data": {
      "text/plain": [
       "array([[[1, 2, 3],\n",
       "        [2, 3, 4],\n",
       "        [3, 4, 5]],\n",
       "\n",
       "       [[2, 3, 4],\n",
       "        [3, 4, 5],\n",
       "        [4, 5, 6]],\n",
       "\n",
       "       [[3, 4, 5],\n",
       "        [4, 5, 6],\n",
       "        [5, 6, 7]]])"
      ]
     },
     "execution_count": 8,
     "metadata": {},
     "output_type": "execute_result"
    }
   ],
   "source": [
    "v = np.array([1, 2, 3, 4, 5, 6, 7])\n",
    "H = hankelize(v, Order=3)\n",
    "H"
   ]
  },
  {
   "cell_type": "code",
   "execution_count": 222,
   "id": "8dc0ba09",
   "metadata": {},
   "outputs": [
    {
     "name": "stdout",
     "output_type": "stream",
     "text": [
      "subs :  [Ellipsis 0 0]\n",
      "tmp:  [1 2 3]\n",
      "perm_vec:  [0, 1, 2]\n",
      "sizes after resize:  [3 1]\n",
      "tmp:  [[1]\n",
      " [2]\n",
      " [3]]\n",
      "tmp:  [1 2 3]\n",
      "subs :  [array(2, dtype=int64) array([1, 2], dtype=int64) 0]\n",
      "tmp:  [4 5]\n",
      "perm_vec:  [1, 0, 2]\n",
      "sizes after resize:  [1 2]\n",
      "tmp:  [[4 5]]\n",
      "tmp:  [4 5]\n",
      "subs :  [array(2, dtype=int64) array(2, dtype=int64) array([1, 2], dtype=int64)]\n",
      "tmp:  [6 7]\n",
      "perm_vec:  [2, 1, 0]\n",
      "sizes after resize:  [1, 1, 2]\n",
      "tmp:  [[[6 7]]]\n",
      "tmp:  [6 7]\n"
     ]
    },
    {
     "name": "stderr",
     "output_type": "stream",
     "text": [
      "C:\\Users\\DELLPR~1\\AppData\\Local\\Temp/ipykernel_18136/2860940684.py:24: ComplexWarning: Casting complex values to real discards the imaginary part\n",
      "  w = np.round(np.fft.ifft(w)).astype(int)\n"
     ]
    },
    {
     "data": {
      "text/plain": [
       "array([1, 2, 3, 4, 5, 6, 7])"
      ]
     },
     "execution_count": 222,
     "metadata": {},
     "output_type": "execute_result"
    }
   ],
   "source": [
    "v = dehankelize(V)\n",
    "v"
   ]
  },
  {
   "cell_type": "code",
   "execution_count": 9,
   "id": "ae8029a3",
   "metadata": {},
   "outputs": [],
   "source": [
    "def getstructure(*args):\n",
    "    if len(args) == 1:\n",
    "        if isinstance(args[0], (np.ndarray, int, float)):\n",
    "            structure = 'full'\n",
    "        elif isinstance(args[0], list) or isinstance(args[0], tuple):\n",
    "            if all(isinstance(item, (int, float)) for item in args[0]):\n",
    "                if all(len(item.shape) == 2 for item in args[0]):\n",
    "                    structure = 'cpd'\n",
    "                else:\n",
    "                    structure = 'tt'\n",
    "            elif all(isinstance(item, (list, tuple)) for item in args[0]):\n",
    "                structure = 'btd'\n",
    "            elif len(args[0]) > 1 and len(args[0]) == 2 and isinstance(args[0][0], (list, tuple)) and isinstance(args[0][1], (int, float)):\n",
    "                structure = 'lmlra'\n",
    "            else:\n",
    "                raise ValueError('Unknown structure')\n",
    "        elif isinstance(args[0], dict):\n",
    "            if 'incomplete' in args[0] and args[0]['incomplete']:\n",
    "                structure = 'incomplete'\n",
    "            elif 'sparse' in args[0] and args[0]['sparse']:\n",
    "                structure = 'sparse'\n",
    "            elif 'type' in args[0]:\n",
    "                structure = args[0]['type']\n",
    "            else:\n",
    "                raise ValueError('Unknown structure')\n",
    "        else:\n",
    "            raise ValueError('Unknown structure')\n",
    "    elif len(args) == 2:\n",
    "        if isinstance(args[0], (list, tuple)) and isinstance(args[1], (int, float)):\n",
    "            structure = 'lmlra'\n",
    "        else:\n",
    "            raise ValueError('Unknown structure')\n",
    "    else:\n",
    "        raise ValueError('Unknown structure')\n",
    "    \n",
    "    return structure"
   ]
  },
  {
   "cell_type": "code",
   "execution_count": 10,
   "id": "a92f89e1",
   "metadata": {},
   "outputs": [],
   "source": [
    "def getorder(T, S=None):\n",
    "    try:\n",
    "        structure = getstructure(T)\n",
    "        if structure == 'full':\n",
    "            return len(T.shape)\n",
    "        elif structure in ['incomplete', 'sparse']:\n",
    "            if 'size' in T:\n",
    "                return len(T['size'])\n",
    "            else:\n",
    "                raise ValueError('T has an invalid structure')\n",
    "        elif structure == 'cpd':\n",
    "            return len(T)\n",
    "        elif structure == 'lmlra':\n",
    "            if S is None:\n",
    "                return len(T[0])\n",
    "            else:\n",
    "                return len(T)\n",
    "        elif structure == 'btd':\n",
    "            return len(T[0])-1\n",
    "        elif structure == 'tt':\n",
    "            return len(T)\n",
    "        elif structure in ['hankel', 'loewner', 'segment', 'decimate']:\n",
    "            if 'size' in T:\n",
    "                return len(T['size'])\n",
    "            else:\n",
    "                raise ValueError('T has an invalid structure')\n",
    "        else:\n",
    "            raise ValueError('T has an unknown structure')\n",
    "    except getstructure.UnknownStructureError:\n",
    "        raise ValueError('T has an unknown structure')"
   ]
  },
  {
   "cell_type": "code",
   "execution_count": 12,
   "id": "3e3f67ea",
   "metadata": {},
   "outputs": [
    {
     "data": {
      "text/plain": [
       "3"
      ]
     },
     "execution_count": 12,
     "metadata": {},
     "output_type": "execute_result"
    }
   ],
   "source": [
    "getorder(H)"
   ]
  },
  {
   "cell_type": "code",
   "execution_count": 13,
   "id": "de8ee4a2",
   "metadata": {},
   "outputs": [
    {
     "name": "stdout",
     "output_type": "stream",
     "text": [
      "U.shape:  (3, 4, 3)\n",
      "T:  [[[ 18  36  54]\n",
      "  [ 36  72 108]\n",
      "  [ 54 108 162]]\n",
      "\n",
      " [[ 18  36  54]\n",
      "  [ 36  72 108]\n",
      "  [ 54 108 162]]\n",
      "\n",
      " [[ 18  36  54]\n",
      "  [ 36  72 108]\n",
      "  [ 54 108 162]]]\n",
      "T.shape:  (3, 3, 3)\n",
      "type of indices:  <class 'numpy.ndarray'>\n",
      "T_subset indices = [1, 2, 3]:  [18 18 18]\n",
      "T_subset.shape:  (3,)\n"
     ]
    },
    {
     "name": "stderr",
     "output_type": "stream",
     "text": [
      "C:\\Users\\DELLPR~1\\AppData\\Local\\Temp/ipykernel_18136/1468056951.py:16: FutureWarning: elementwise comparison failed; returning scalar instead, but in the future will perform elementwise comparison\n",
      "  if indices[0] == ':':\n"
     ]
    },
    {
     "data": {
      "text/plain": [
       "'\\n\\nNote: You need to replace `U1`, `U2`, ..., `UK`, `S1`, `S2`, ..., `SL` with the actual matrices or arrays that make up the BTD.\\n'"
      ]
     },
     "execution_count": 13,
     "metadata": {},
     "output_type": "execute_result"
    }
   ],
   "source": [
    "import numpy as np\n",
    "# BLOCK-Term Decomposition (BTD) \n",
    "# BTDGEN Generate full tensor given a BTD.\n",
    "def btdgen(U, *indices):\n",
    "    N = len(U[0]) - 1\n",
    "    size_tens = [np.size(U[0][n], 0) for n in range(N)]\n",
    "    if len(indices) == 0:\n",
    "        T = U[0][0] @ np.kron(U[0][-1].T, [U[0][n] for n in range(N)]) \n",
    "        #T = np.resize(T, size_tens)\n",
    "        for r in range(1, len(U)):\n",
    "            T = T + U[r][0] @ np.kron(U[r][-1].T, [U[r][n] for n in range(N)])\n",
    "        T = np.resize(T, size_tens)\n",
    "        return T\n",
    "    \n",
    "    elif len(indices) == 1:\n",
    "        if indices[0] == ':':\n",
    "            T = btdgen(U).flatten()\n",
    "            return T\n",
    "        \n",
    "        size_output = np.shape(indices[0])\n",
    "        T = 0        \n",
    "        if indices[0].ndim == 1:  # Linear indexing\n",
    "            sub = np.unravel_index(indices[0], size_tens)\n",
    "        else:\n",
    "            sub = indices[0]\n",
    "\n",
    "        sub = np.array(sub)\n",
    "        sub = sub.astype(np.int64)\n",
    "\n",
    "        for r in range(len(U)):\n",
    "            S = U[r][N]\n",
    "            size_core = [np.size(U[r][n]) for n in range(len(U[r]) - 1)]\n",
    "            idx = np.zeros((1, len(U[r])-1), dtype=np.int64) \n",
    "            idx = idx.squeeze()\n",
    "            for i in range(np.size(S)):\n",
    "                tmp = np.dot (S[idx[i]] , U[r][0][sub[0][idx[0]]])\n",
    "                for n in range(1, len(size_core)):\n",
    "                    tmp =  np.dot(tmp , U[r][n][sub[n][ idx[n]]])\n",
    "                \n",
    "                T = T + tmp\n",
    "        \n",
    "        return np.resize(T, size_output)\n",
    "    \n",
    "    elif len(indices) == N + 1:\n",
    "        for r in range(len(U)):\n",
    "            for n in range(N):\n",
    "                U[r][n] = U[r][n][np.ix_(indices[n])]\n",
    "        \n",
    "        return btdgen(U)\n",
    "    \n",
    "    else:\n",
    "        raise ValueError(\"Either linear or subscripts indices should be provided\")\n",
    "\n",
    "'''\n",
    "\n",
    "\n",
    "You can use this function by passing the BTD tensor `U` and the desired indices as arguments. For example:\n",
    "\n",
    "'''\n",
    "U1 = [1, 2, 3]\n",
    "U2 = [1, 2, 3]\n",
    "U3 = [1, 2, 3]\n",
    "S1 = [1, 2, 3]\n",
    "S2 = [1, 2, 3]\n",
    "S3 = [1, 2, 3]\n",
    "\n",
    "U = [[U1, U2, U3, S1],\n",
    "     [U1, U2, U3, S2],\n",
    "     [U1, U2, U3, S3]]\n",
    "U = np.array(U)\n",
    "print (\"U.shape: \", U.shape)\n",
    "T = btdgen(U)  # Compute the full tensor T\n",
    "print (\"T: \",T)\n",
    "print (\"T.shape: \",T.shape)\n",
    "indices = np.array([1, 2, 3])\n",
    "indices = indices.astype(np.int64)\n",
    "print (\"type of indices: \", type(indices))\n",
    "T_subset = btdgen(U, indices)  # Compute a subset of the tensor T\n",
    "print (\"T_subset indices = [1, 2, 3]: \",T_subset)\n",
    "print (\"T_subset.shape: \",T_subset.shape)\n",
    "'''\n",
    "\n",
    "Note: You need to replace `U1`, `U2`, ..., `UK`, `S1`, `S2`, ..., `SL` with the actual matrices or arrays that make up the BTD.\n",
    "'''"
   ]
  },
  {
   "cell_type": "code",
   "execution_count": 14,
   "id": "f46e2a75",
   "metadata": {},
   "outputs": [],
   "source": [
    "import numpy as np\n",
    "from scipy.sparse import coo_matrix\n",
    "\n",
    "def ful(T, *args):\n",
    "    type = getstructure(T)\n",
    "    if type == 'full':\n",
    "        if len(args) > 0:\n",
    "            T = T[args]\n",
    "    elif type == 'cpd':\n",
    "        T = cpdgen(T, *args)\n",
    "    elif type == 'lmlra':\n",
    "        T = lmlragen(T[0], T[1], *args)\n",
    "    elif type == 'btd':\n",
    "        T = btdgen(T, *args)\n",
    "    elif type == 'tt':\n",
    "        T = ttgen(T, *args)\n",
    "    elif type == 'hankel':\n",
    "        if len(args) == 0:\n",
    "            H = hankelize(T.val, dim=1, order=T.order, ind=T.ind, full=True, perm=True, fullLimit=np.inf)\n",
    "            H = np.reshape(H, [T.subsize.hankel, T.subsize.other])\n",
    "            T = permute(H, T.repermorder)\n",
    "        elif len(args) == 1:\n",
    "            if args[0] == ':':\n",
    "                T = np.reshape(ful(T), [-1, 1])\n",
    "                return T\n",
    "            sub = []\n",
    "            for i in range(getorder(T)):\n",
    "                sub.append(np.unravel_index(args[0], getsize(T)[i]))\n",
    "        elif len(args) == getorder(T) + 1:\n",
    "            for i in range(len(args)):\n",
    "                if args[i] == ':':\n",
    "                    args[i] = np.arange(1, T.size[i] + 1)\n",
    "            sub = np.meshgrid(*args, indexing='ij')\n",
    "            sub = [np.ravel(x) for x in sub]\n",
    "        else:\n",
    "            raise ValueError('Either linear or subscripts indices should be provided')\n",
    "        \n",
    "        if len(args) > 0:\n",
    "            otherdims = list(range(1, T.dim)) + list(range(T.dim + T.order, getorder(T)))\n",
    "            dims = list(range(T.dim, T.dim + T.order))\n",
    "            dataind = np.sum(np.stack(sub)[dims], axis=0) - T.order + 1\n",
    "            if len(otherdims) == 0:\n",
    "                dataotherind = np.ones_like(dataind)\n",
    "            elif len(otherdims) == 1:\n",
    "                dataotherind = sub[otherdims[0]]\n",
    "            else:\n",
    "                dataotherind = np.ravel_multi_index(sub[otherdims], T.subsize.other)\n",
    "            \n",
    "            valind = np.ravel_multi_index([dataind, dataotherind], T.val.shape)\n",
    "            \n",
    "            if len(args) == 2:\n",
    "                T = np.reshape(T.val[valind], args[0].shape)\n",
    "            else:\n",
    "                shape = [len(arg) for arg in args]\n",
    "                T = np.reshape(T.val[valind], shape)\n",
    "            \n",
    "    elif type == 'loewner':\n",
    "        if len(args) == 0:\n",
    "            L = loewnerize(T.val, dim=1, order=T.order, ind=T.ind, full=True, perm=True, t=T.t, fullLimit=np.inf)\n",
    "            L = np.reshape(L, [T.subsize.loewner, T.subsize.other])\n",
    "            T = permute(L, T.repermorder)\n",
    "        elif len(args) == 1:\n",
    "            if args[0] == ':':\n",
    "                T = np.reshape(ful(T), [-1, 1])\n",
    "                return T\n",
    "            sub = []\n",
    "            for i in range(getorder(T)):\n",
    "                sub.append(np.unravel_index(args[0], getsize(T)[i]))\n",
    "        elif len(args) == getorder(T) + 1:\n",
    "            for i in range(len(args)):\n",
    "                if args[i] == ':':\n",
    "                    args[i] = np.arange(1, T.size[i] + 1)\n",
    "            sub = np.meshgrid(*args, indexing='ij')\n",
    "            sub = [np.ravel(x) for x in sub]\n",
    "        else:\n",
    "            raise ValueError('Either linear or subscripts indices should be provided')\n",
    "        \n",
    "        if len(args) > 0:\n",
    "            otherdims = list(range(1, T.dim)) + list(range(T.dim + T.order, getorder(T)))\n",
    "            dims = list(range(T.dim, T.dim + T.order))\n",
    "            \n",
    "            if len(otherdims) == 1:\n",
    "                dataotherind = sub[otherdims[0]]\n",
    "            elif len(otherdims) > 1:\n",
    "                dataotherind = np.ravel_multi_index(sub[otherdims], T.subsize.other)\n",
    "            \n",
    "            totaldata = 0\n",
    "            for i in range(len(dims)):\n",
    "                idx = T.ind[i][sub[dims[i]]].T\n",
    "                \n",
    "                if len(otherdims) == 0:\n",
    "                    linidx = idx\n",
    "                else:\n",
    "                    linidx = np.ravel_multi_index([idx, dataotherind], T.val.shape)\n",
    "                \n",
    "                data = T.val[linidx]\n",
    "                for o in list(range(1, i)) + list(range(i + 1, len(dims))):\n",
    "                    data = data / (T.t[T.ind[i][sub[dims[i]]]] - T.t[T.ind[o][sub[dims[o]]]])\n",
    "                \n",
    "                totaldata = totaldata + data\n",
    "            \n",
    "            if len(args) == 2:\n",
    "                T = np.reshape(totaldata, args[0].shape)\n",
    "            else:\n",
    "                shape = [len(arg) for arg in args]\n",
    "                T = np.reshape(totaldata, shape)\n",
    "    \n",
    "    elif type in ['incomplete', 'sparse']:\n",
    "        val = T.val\n",
    "        size_tens = T.size\n",
    "        \n",
    "        if len(args) == 0:\n",
    "            if 8 * np.prod(size_tens) > 8e9:\n",
    "                raise ValueError('T is too large to be stored as an array.')\n",
    "            if not hasattr(T, 'ind'):\n",
    "                ind = np.ravel_multi_index(T.sub, size_tens)\n",
    "            else:\n",
    "                ind = T.ind\n",
    "            \n",
    "            if type == 'sparse':\n",
    "                T = coo_matrix((val, (ind, np.zeros_like(ind))), shape=size_tens).toarray()\n",
    "            else:\n",
    "                T = np.full(size_tens, np.nan)\n",
    "                T[ind] = val\n",
    "        elif len(args) == 1:\n",
    "            if args[0] == ':':\n",
    "                T = np.reshape(ful(T), [-1, 1])\n",
    "                return T\n",
    "            if not hasattr(T, 'ind'):\n",
    "                T = fmt(T)\n",
    "            if type == 'incomplete':\n",
    "                val = np.full(args[0].shape, np.nan)\n",
    "            else:\n",
    "                val = np.zeros(args[0].shape)\n",
    "            ia, ib = np.isin(args[0], T.ind)\n",
    "            val[ia] = T.val[ib[ia]]\n",
    "            T = val\n",
    "        elif len(args) == len(size_tens) + 1:\n",
    "            size_result = [len(arg) for arg in args]\n",
    "            if 8 * np.prod(size_result) > 8e9:\n",
    "                raise ValueError('T is too large to be stored as an array.')\n",
    "            if not hasattr(T, 'ind'):\n",
    "                T = fmt(T)\n",
    "            if type == 'incomplete':\n",
    "                val = np.full(size_result, np.nan)\n",
    "            else:\n",
    "                val = np.zeros(size_result)\n",
    "            sub = np.meshgrid(*args, indexing='ij')\n",
    "            ind = np.ravel_multi_index(sub, T.size)\n",
    "            ia, ib = np.isin(ind, T.ind)\n",
    "            val[ia] = T.val[ib[ia]]\n",
    "            T = val\n",
    "        else:\n",
    "            raise ValueError('Either linear or subscripts indices should be provided')\n",
    "    \n",
    "    elif type == 'segment':\n",
    "        X = desegmentize(T)\n",
    "        X = segmentize(X, dim=T.dim, order=T.order, segsize=T.segsize, perm=T.ispermuted, shift=T.shift)\n",
    "        T = ful(X, *args)\n",
    "    \n",
    "    elif type == 'decimate':\n",
    "        X = dedecimate(T)\n",
    "        X = decimate(X, dim=T.dim, order=T.order, subsample=T.subsample, perm=T.ispermuted, shift=T.shift)\n",
    "        T = ful(X, *args)\n",
    "    \n",
    "    else:\n",
    "        raise ValueError('Unknown structured tensor type.')\n",
    "\n",
    "    return T"
   ]
  },
  {
   "cell_type": "code",
   "execution_count": 137,
   "id": "513c0f2e",
   "metadata": {},
   "outputs": [],
   "source": [
    "import numpy as np\n",
    "import scipy.fftpack as fft\n",
    "import itertools\n",
    "# This function attempts to write in Python the similar function in Tensorlab Matlab toolbox\n",
    "# I kept only some options working, and others attempted without testing, and others not attempted at all\n",
    "\n",
    "def dehankelize(H, **kwargs):\n",
    "    def hankel_freq(order, size_hankel, N):\n",
    "        # Construct the frequencies of the data - it seems not correct\n",
    "        if order == 2:\n",
    "            m = min(size_hankel[0], N-size_hankel[0]+1)\n",
    "            w = np.concatenate((np.arange(1, m), m*np.ones(N-2*m+2), np.arange(m-1, 0, -1)))\n",
    "            w = w.reshape(-1, 1) # transpose\n",
    "        else:\n",
    "            w = np.fft.fft(np.ones(size_hankel[0]), N)\n",
    "            if w.shape[0] == 1:\n",
    "                w = w.reshape(1, -1)\n",
    "            for i in range(1, len(size_hankel)):\n",
    "                tmp = np.fft.fft(np.ones(size_hankel[i]), N)\n",
    "                if tmp.shape[0] == 1:\n",
    "                    w = w * tmp.reshape(1, -1)\n",
    "                else:\n",
    "                    w = w * tmp\n",
    "            w = np.round(np.fft.ifft(w)).astype(int)\n",
    "    \n",
    "        return w\n",
    "\n",
    "    def sub_hankel(sizes):\n",
    "        # Construct the indices of the Hankel matrix/tensor\n",
    "        allind = np.arange(1, sizes[0] + 1)\n",
    "        for i in range(1, len(sizes)):\n",
    "            ridx = np.arange(sizes[i])\n",
    "            ridx = np.reshape(ridx, [1] * i + [len(ridx)])\n",
    "            lidx = np.add.outer(allind, ridx)\n",
    "            allind = lidx.flatten()\n",
    "\n",
    "        return allind\n",
    "    \n",
    "    defaultKwargs = { 'Order': 2,\n",
    "        'Dim': 1,\n",
    "        'Dims': np.NaN,\n",
    "        'Method':'mean',\n",
    "        'PermToDim': np.NaN,\n",
    "        'Rank':  np.NaN\n",
    "        }\n",
    "    order = kwargs.get('Order', 2)\n",
    "    dim = kwargs.get('Dim', 1)\n",
    "    dims = kwargs.get('Dims', np.NaN)\n",
    "    method = kwargs.get('Method', 'mean')\n",
    "    permToDim = kwargs.get('PermToDim', np.NaN)\n",
    "    rank = kwargs.get('Rank', np.NaN)\n",
    "    \n",
    "    args = {'Order': order,\n",
    "        'Dim': dim,\n",
    "        'Dims': dims,\n",
    "        'Method': method,\n",
    "        'PermToDim': permToDim,\n",
    "        'Rank': rank}\n",
    "    KeepUnmatched = False\n",
    "    isdefault =  args ==defaultKwargs\n",
    "    shared_items = {k: args[k] for k in args if k in defaultKwargs and args[k] == defaultKwargs[k]}\n",
    "    \n",
    "    if not np.isnan(dims):\n",
    "        if dim != 1: # not default and set by caller\n",
    "            raise ValueError('Using both the ''Dim'' and ''Dims'' option arguments is invalid!')  \n",
    "        if order != 2: # not default, set by caller\n",
    "            if dims+order-1>getorder(H):\n",
    "                raise ValueError('The given order is not consistent with the dimensions of H!')\n",
    "            if len(dims)==1:\n",
    "                dims = np.arange(dims[0],dims[0]+order)\n",
    "        else: # order is not set\n",
    "            if np.any(dims>getorder(H)):\n",
    "                raise ValueError('The given dehankelization dimensions are not consistent with the dimensions of H!')\n",
    "            order = len(dims)\n",
    "        if len(dims!=order):\n",
    "            raise ValueError('The number of detensorized dimensions should be equal to the order!');\n",
    "    else: # dims is not set by the caller\n",
    "        if dim != 1: # not default and set by caller\n",
    "            if dim+order-1>getorder(H):\n",
    "                raise ValueError('The given dehankelization dimensions are not consistent with the dimensions of H!')        \n",
    "        if order != 2 and order>getorder(H):\n",
    "            raise ValueError('The given order is not consistent with the dimensions of H!')\n",
    "        dims = np.arange(dim,(dim+order))\n",
    "    if getstructure(H)!='cpd' and not np.isnan(rank):\n",
    "        raise ValueError('The rank option is not supported when H is not a CPD!')\n",
    "    dims=np.array(dims)\n",
    "    np.reshape(dims, np.hstack((1, dims.shape)))\n",
    "    \n",
    "    order = H.ndim\n",
    "    dims = np.arange(dim,(dim+order))\n",
    "    #Dehankelization\n",
    "    H_str = getstructure(H)        \n",
    "    if H_str == 'full':\n",
    "        # Given a full tensor\n",
    "        sh = np.shape(H)\n",
    "        size_hankel = [sh[i-1] for i in dims]\n",
    "        #print (\"order : \", order)\n",
    "        #print (\"dims : \", dims)\n",
    "        #print (\"sh : \", sh)\n",
    "        if method == 'fibers':\n",
    "            subs = np.tile(Ellipsis, (H.ndim))\n",
    "            #print (\"subs : \", subs)\n",
    "            for i in range(1, len(subs)):\n",
    "                subs[dims[i]-1] = 0\n",
    "            #print (\"subs : \", subs)\n",
    "            X = []\n",
    "            for i in range(order):\n",
    "                if i != 0:\n",
    "                    subs[dims[i-1]-1] = np.squeeze(np.array(sh[dims[i-1]]-1))\n",
    "                    subs[dims[i]-1] =np.hstack(range(1, sh[dims[i]-1]))    \n",
    "                    if len(sh) > 2:\n",
    "                        k = 0\n",
    "                        #for x in np.nditer(subs,flags=[\"refs_ok\"], op_flags=[\"readwrite\"]):\n",
    "                        for idx, x in np.ndenumerate(subs):\n",
    "                            if isinstance(x, int):\n",
    "                                if x >=H.shape[k]:\n",
    "                                    x = x %  H.shape[k]\n",
    "                                if x <0:\n",
    "                                    x = 0\n",
    "                            else:    \n",
    "                                x = x.astype(np.int64)\n",
    "                                if x.size == 1:   \n",
    "                                    if x >=H.shape[k]:\n",
    "                                        x = x %  H.shape[k]\n",
    "                                    if x <0:\n",
    "                                        x = 0\n",
    "                                else:\n",
    "                                    for j in range( x.size):\n",
    "                                        higherdims = x[j] >=H.shape[k]\n",
    "                                        x[higherdims] = x[j] %  H.shape[k]\n",
    "                                        negdims = x[j] <0\n",
    "                                        x[negdims] = 0\n",
    "                            #x = np.where(x >= maxVal, x %  maxVal, x)\n",
    "                            #x = np.where(x < 0, 0, x)\n",
    "                            subs[k] = x\n",
    "                            k = k + 1\n",
    "                  \n",
    "                print (\"subs : \", subs)\n",
    "                tmp = H[tuple(subs)]\n",
    "                print (\"tmp: \", tmp)\n",
    "                sizes = np.squeeze(np.hstack((np.shape(tmp) , np.squeeze( np.ones ( (1, np.ndim(H) - np.ndim(tmp)))))))\n",
    "                sizes = sizes.astype(np.int64)\n",
    "                perm_vec = list(range(H.ndim))\n",
    "                #for j in range (len(perm_vec)):\n",
    "                xx = perm_vec[0]\n",
    "                perm_vec[0] = perm_vec[dims[i]-1]\n",
    "                perm_vec[dims[i]-1] = xx\n",
    "                #print (\"perm_vec: \", perm_vec)\n",
    "                #print (\"tmp shape: \", tmp.shape)\n",
    "                #xx = perm_vec[0] \n",
    "                #perm_vec[0] = perm_vec[dims[i]-1]\n",
    "                #perm_vec[dims[i]-1] = xx\n",
    "                if len(tmp.shape) < len(perm_vec):\n",
    "                    xx = np.ones(len(perm_vec) - len(tmp.shape))\n",
    "                    xx = xx.astype(np.int64)\n",
    "                    tmp = np.reshape(tmp, np.hstack((tmp.shape, xx)))\n",
    "                #    tmp = np.reshape(tmp, np.hstack((tmp.shape, 1)))\n",
    "                #elif len(perm_vec) < len(tmp.shape):\n",
    "                #     perm_vec = np.reshape(perm_vec, np.hstack((perm_vec.shape, 1)))\n",
    "                print (\"perm_vec: \", perm_vec)\n",
    "                #print (\"tmp shape: \", tmp.shape)\n",
    "                tmp = np.transpose(tmp, tuple(perm_vec))\n",
    "                sizes = [sizes[j] for j in perm_vec]\n",
    "                #print (\"sizes after resize: \", sizes)\n",
    "                #sizes = tuple([sizes[j] for j in perm_vec if j in dims[:i] or j in dims[i+2:]])\n",
    "                if i+1< len(dims):\n",
    "                    x = list(sizes)\n",
    "                    #x = x[perm_vec[dims[i+1]-1]:perm_vec[dims[len(dims)-1]-1]]\n",
    "                    x = x[0:perm_vec[dims[i+1]-1]]\n",
    "                    #for j in range (i+1, len(dims)):\n",
    "                   #     x.pop(perm_vec[dims[j]-1])\n",
    "                    sizes = np.array(x)\n",
    "                    #print (\"sizes after pop: \", sizes)\n",
    "                if len(sizes)==1:\n",
    "                    sizes.resize ((2))\n",
    "                    sizes[1] = 1\n",
    "                print (\"sizes after resize: \", sizes)\n",
    "                if np.ndim(tmp) != 0:\n",
    "                    tmp = np.resize(tmp, sizes)\n",
    "                else:\n",
    "                    tmp = np.asarray([])\n",
    "                print (\"tmp: \", tmp)\n",
    "                tmp = tmp.squeeze()\n",
    "                print (\"tmp: \", tmp)\n",
    "                X.append(tmp)\n",
    "            signaldim = int(dims[0] - np.sum([dims[d] for d in range(1, len(dims)) if dims[0] > dims[d]]))\n",
    "            X = np.concatenate(X, axis=signaldim-1)\n",
    "            #X = np.array(X)\n",
    "            \n",
    "        else: # Use another technique than fibres\n",
    "            H_mat = np.reshape(H, [-1, size_hankel[-1]]) # tensor to matrix\n",
    "            ind_f = np.cumsum(size_hankel) - np.arange(order)\n",
    "            N = ind_f[-1]\n",
    "            w = hankel_freq(order, size_hankel, N)\n",
    "            sample_ind = sub_hankel(size_hankel)\n",
    "            if method == 'mean':\n",
    "                # Extract means by performing a two-step procedure to\n",
    "                # improve accuracy\n",
    "                # first step is to dehankelize by fibers and PermtoDim 1\n",
    "                options_quick = defaultKwargs.copy()\n",
    "                options_quick['PermToDim'] = 1\n",
    "                options_quick['Method'] = 'fibers'\n",
    "                x_estimate = dehankelize(H, **options_quick)\n",
    "                \n",
    "                # The following second step computes the frequenct and compute the means to subtract\n",
    "                # from the estimated matrix. The Python functions are different from Matlab\n",
    "                # I did not complete testing this part to finalise it, so result can be returned with the \n",
    "                # current estimated accuracy.\n",
    "                '''\n",
    "                #x_estimate = np.reshape(x_estimate, [-1, size_hankel[-1]]) # tensor to matrix\n",
    "                x_estimate =  np.array(x_estimate)\n",
    "                if x_estimate.ndim==1:\n",
    "                        x_estimate.resize ((x_estimate.shape[0], 1))\n",
    "                for k in range(np.size(H_mat, 1)):\n",
    "                    #diff = H_mat[:, k] - x_estimate[sample_ind-1][0]\n",
    "                    # tmp = accumarray(sampleind,diff,[],@sum)./w;\n",
    "                    tmp = np.bincount(sample_ind)/w #, weights=diff) / w\n",
    "                    x_estimate[:][k] = x_estimate[:][k] + tmp\n",
    "                    '''\n",
    "                X = x_estimate\n",
    "            else: # Extract something else than means (such as median)\n",
    "                x_estimate = np.empty((N, np.size(H_mat)))\n",
    "                for k in range(np.size(H_mat)):\n",
    "                    # xestimate(:,k) = accumarray(sampleind,Hmat(:,k),[],method);\n",
    "                    # we need a numpy function to accumulate the values given the function in the Method option\n",
    "                    # left to future work, and just using mean again \n",
    "                    x_estimate[:][k] = np.bincount(sample_ind, weights=Hmat[:][k]) / w\n",
    "                X = x_estimate\n",
    "            sx = sh \n",
    "            sx = np.array(sx).astype(float)  # because Nan is float, will convert here\n",
    "            sx[dims-1] = np.NaN\n",
    "            sx[dims[0]] = N\n",
    "            sx = sx[np.logical_not(np.isnan(sx))] # remove all Nans\n",
    "            sx = np.array(sx).astype(int) # return to int to use as index \n",
    "            signaldim = int(dims[0] - np.sum([dims[d] for d in range(1, len(dims)) if dims[0] > dims[d]]))\n",
    "            X = np.resize(x_estimate, [sx[signaldim-1]]) # mat2tens(xestimate,sx,signaldim);\n",
    "              \n",
    "               \n",
    "    elif H_str == 'hankel': # Given an efficient (block-)Hankel representation\n",
    "        print (\"Future work\")\n",
    "    elif H_str == 'cpd': # Given a representation of a tensor in rank-1 terms\n",
    "        print (\"Future work\")    \n",
    "    elif H_str in {'incomplete','sparse','tt','btd','lmlragen'}:\n",
    "        T = ful(H)\n",
    "        X = dehankelize(T,**kwargs)\n",
    "    else:\n",
    "        raise ValueError('Structure not supported!')\n",
    "    \n",
    "    # Permute the data to specific dimensions\n",
    "    if not np.isnan(permToDim):\n",
    "        permToDim = int(permToDim)\n",
    "        signaldim = int(signaldim)\n",
    "        if signaldim < permToDim:\n",
    "            permvec = list(range(0, signaldim)) + list(range(signaldim+1, permToDim)) + [signaldim] + list(range(permToDim+1, np.ndim(X)))\n",
    "        else:\n",
    "            permvec = list(range(0, permToDim)) + [signaldim] + list(range(permToDim, signaldim)) + list(range(signaldim+1, np.ndim(X)))\n",
    "        if X.ndim==1:\n",
    "            X.resize ((X.shape[0], 1))\n",
    "        X = np.squeeze(np.transpose(X, permvec))\n",
    "    return X\n"
   ]
  },
  {
   "cell_type": "code",
   "execution_count": 29,
   "id": "62fd568f",
   "metadata": {},
   "outputs": [
    {
     "name": "stdout",
     "output_type": "stream",
     "text": [
      "input shape:  (7, 1)\n",
      "Order:  2\n",
      "ind:  [4]\n",
      "N:  7\n",
      "Dim:  1\n",
      "Order:  2\n",
      "ind:  [4]\n",
      "sizes:  nan\n",
      "perm_to_first:  1\n",
      "size_other:  ()\n",
      "size_hankel:  [4 4]\n",
      "Total required Bytes are:  64.0\n",
      "hstruct {'type': 'hankel', 'val': array([[1],\n",
      "       [2],\n",
      "       [3],\n",
      "       [4],\n",
      "       [5],\n",
      "       [6],\n",
      "       [7]]), 'dim': 1, 'order': 2, 'ind': array([4], dtype=int64), 'ispermuted': False, 'repermorder': array([1, 2]), 'size': array([4., 1.]), 'subsize': {'hankel': array([4, 4], dtype=int64), 'other': ()}}\n"
     ]
    },
    {
     "data": {
      "text/plain": [
       "array([[1, 2, 3, 4],\n",
       "       [2, 3, 4, 5],\n",
       "       [3, 4, 5, 6],\n",
       "       [4, 5, 6, 7]])"
      ]
     },
     "execution_count": 29,
     "metadata": {},
     "output_type": "execute_result"
    }
   ],
   "source": [
    "v = np.array([1,2,3,4,5, 6, 7])\n",
    "H1 = hankelize(v)\n",
    "H1"
   ]
  },
  {
   "cell_type": "code",
   "execution_count": 30,
   "id": "660ecb18",
   "metadata": {},
   "outputs": [
    {
     "data": {
      "text/plain": [
       "array([[1, 2, 3, 4],\n",
       "       [2, 3, 4, 5],\n",
       "       [3, 4, 5, 6],\n",
       "       [4, 5, 6, 7]])"
      ]
     },
     "execution_count": 30,
     "metadata": {},
     "output_type": "execute_result"
    }
   ],
   "source": [
    "T = ful(H1)\n",
    "T"
   ]
  },
  {
   "cell_type": "code",
   "execution_count": 138,
   "id": "58e8f2c9",
   "metadata": {
    "scrolled": false
   },
   "outputs": [
    {
     "name": "stdout",
     "output_type": "stream",
     "text": [
      "subs :  [Ellipsis 0]\n",
      "tmp:  [1 2 3 4]\n",
      "perm_vec:  [0, 1]\n",
      "sizes after resize:  [4 1]\n",
      "tmp:  [[1]\n",
      " [2]\n",
      " [3]\n",
      " [4]]\n",
      "tmp:  [1 2 3 4]\n",
      "subs :  [array(3) array([1, 2, 3])]\n",
      "tmp:  [5 6 7]\n",
      "perm_vec:  [1, 0]\n",
      "sizes after resize:  [1, 3]\n",
      "tmp:  [[5 6 7]]\n",
      "tmp:  [5 6 7]\n"
     ]
    },
    {
     "data": {
      "text/plain": [
       "array([1, 2, 3, 4, 5, 6, 7])"
      ]
     },
     "execution_count": 138,
     "metadata": {},
     "output_type": "execute_result"
    }
   ],
   "source": [
    "v = dehankelize(H1)\n",
    "v"
   ]
  },
  {
   "cell_type": "markdown",
   "id": "7af69471",
   "metadata": {},
   "source": [
    "##### BSS Example"
   ]
  },
  {
   "cell_type": "code",
   "execution_count": 187,
   "id": "86048eb0",
   "metadata": {},
   "outputs": [
    {
     "name": "stdout",
     "output_type": "stream",
     "text": [
      "input shape:  (100, 3)\n",
      "Order:  2\n",
      "ind:  [50]\n",
      "N:  100\n",
      "Dim:  1\n",
      "Order:  2\n",
      "ind:  [50]\n",
      "sizes:  nan\n",
      "perm_to_first:  1\n",
      "size_other:  (3,)\n",
      "size_hankel:  [50 51]\n",
      "Total required Bytes are:  61200.0\n",
      "hstruct {'type': 'hankel', 'val': array([[-1.19507850e+00, -2.79710198e-01,  1.65987609e+00],\n",
      "       [-1.22869714e+00, -2.49436807e-01,  1.72201655e+00],\n",
      "       [-1.26334962e+00, -2.17871836e-01,  1.78605906e+00],\n",
      "       [-1.29906838e+00, -1.84972598e-01,  1.85205956e+00],\n",
      "       [-1.33588689e+00, -1.50695074e-01,  1.92007561e+00],\n",
      "       [-1.37383967e+00, -1.14993875e-01,  1.99016648e+00],\n",
      "       [-1.41296230e+00, -7.78222029e-02,  2.06239317e+00],\n",
      "       [-1.45329151e+00, -3.91318019e-02,  2.13681849e+00],\n",
      "       [-1.49486515e+00,  1.12708191e-03,  2.21350707e+00],\n",
      "       [-1.53772227e+00,  4.30057486e-02,  2.29252547e+00],\n",
      "       [-1.58190314e+00,  8.65570912e-02,  2.37394219e+00],\n",
      "       [-1.62744931e+00,  1.31835644e-01,  2.45782776e+00],\n",
      "       [-1.67440360e+00,  1.78897635e-01,  2.54425478e+00],\n",
      "       [-1.72281020e+00,  2.27801034e-01,  2.63329799e+00],\n",
      "       [-1.77271467e+00,  2.78605609e-01,  2.72503433e+00],\n",
      "       [-1.82416400e+00,  3.31372982e-01,  2.81954301e+00],\n",
      "       [-1.87720665e+00,  3.86166683e-01,  2.91690557e+00],\n",
      "       [-1.93189261e+00,  4.43052210e-01,  3.01720597e+00],\n",
      "       [-1.98827341e+00,  5.02097088e-01,  3.12053062e+00],\n",
      "       [-2.04640221e+00,  5.63370934e-01,  3.22696852e+00],\n",
      "       [-2.10633384e+00,  6.26945519e-01,  3.33661124e+00],\n",
      "       [-2.16812484e+00,  6.92894833e-01,  3.44955311e+00],\n",
      "       [-2.23183350e+00,  7.61295156e-01,  3.56589121e+00],\n",
      "       [-2.29751997e+00,  8.32225126e-01,  3.68572550e+00],\n",
      "       [-2.36524625e+00,  9.05765809e-01,  3.80915889e+00],\n",
      "       [-2.43507629e+00,  9.82000780e-01,  3.93629733e+00],\n",
      "       [-2.50707605e+00,  1.06101619e+00,  4.06724990e+00],\n",
      "       [-2.58131355e+00,  1.14290087e+00,  4.20212891e+00],\n",
      "       [-2.65785892e+00,  1.22774636e+00,  4.34105000e+00],\n",
      "       [-2.73678449e+00,  1.31564705e+00,  4.48413222e+00],\n",
      "       [-2.81816487e+00,  1.40670024e+00,  4.63149813e+00],\n",
      "       [-2.90207698e+00,  1.50100624e+00,  4.78327394e+00],\n",
      "       [-2.98860016e+00,  1.59866843e+00,  4.93958960e+00],\n",
      "       [-3.07781620e+00,  1.69979339e+00,  5.10057888e+00],\n",
      "       [-3.16980948e+00,  1.80449101e+00,  5.26637954e+00],\n",
      "       [-3.26466700e+00,  1.91287453e+00,  5.43713340e+00],\n",
      "       [-3.36247847e+00,  2.02506070e+00,  5.61298651e+00],\n",
      "       [-3.46333643e+00,  2.14116987e+00,  5.79408923e+00],\n",
      "       [-3.56733627e+00,  2.26132609e+00,  5.98059637e+00],\n",
      "       [-3.67457639e+00,  2.38565725e+00,  6.17266736e+00],\n",
      "       [-3.78515826e+00,  2.51429514e+00,  6.37046635e+00],\n",
      "       [-3.89918649e+00,  2.64737566e+00,  6.57416234e+00],\n",
      "       [-4.01676899e+00,  2.78503884e+00,  6.78392937e+00],\n",
      "       [-4.13801701e+00,  2.92742908e+00,  6.99994665e+00],\n",
      "       [-4.26304529e+00,  3.07469516e+00,  7.22239869e+00],\n",
      "       [-4.39197214e+00,  3.22699050e+00,  7.45147550e+00],\n",
      "       [-4.52491957e+00,  3.38447319e+00,  7.68737274e+00],\n",
      "       [-4.66201338e+00,  3.54730623e+00,  7.93029186e+00],\n",
      "       [-4.80338332e+00,  3.71565759e+00,  8.18044033e+00],\n",
      "       [-4.94916316e+00,  3.88970045e+00,  8.43803177e+00],\n",
      "       [-5.09949086e+00,  4.06961327e+00,  8.70328616e+00],\n",
      "       [-5.25450866e+00,  4.25558004e+00,  8.97643003e+00],\n",
      "       [-5.41436327e+00,  4.44779037e+00,  9.25769663e+00],\n",
      "       [-5.57920593e+00,  4.64643974e+00,  9.54732619e+00],\n",
      "       [-5.74919262e+00,  4.85172960e+00,  9.84556606e+00],\n",
      "       [-5.92448419e+00,  5.06386762e+00,  1.01526710e+01],\n",
      "       [-6.10524648e+00,  5.28306783e+00,  1.04689033e+01],\n",
      "       [-6.29165051e+00,  5.50955085e+00,  1.07945330e+01],\n",
      "       [-6.48387262e+00,  5.74354409e+00,  1.11298385e+01],\n",
      "       [-6.68209465e+00,  5.98528192e+00,  1.14751061e+01],\n",
      "       [-6.88650411e+00,  6.23500592e+00,  1.18306309e+01],\n",
      "       [-7.09729433e+00,  6.49296510e+00,  1.21967167e+01],\n",
      "       [-7.31466468e+00,  6.75941611e+00,  1.25736763e+01],\n",
      "       [-7.53882074e+00,  7.03462349e+00,  1.29618321e+01],\n",
      "       [-7.76997446e+00,  7.31885990e+00,  1.33615158e+01],\n",
      "       [-8.00834443e+00,  7.61240636e+00,  1.37730692e+01],\n",
      "       [-8.25415602e+00,  7.91555253e+00,  1.41968443e+01],\n",
      "       [-8.50764161e+00,  8.22859698e+00,  1.46332034e+01],\n",
      "       [-8.76904083e+00,  8.55184741e+00,  1.50825199e+01],\n",
      "       [-9.03860076e+00,  8.88562099e+00,  1.55451783e+01],\n",
      "       [-9.31657617e+00,  9.23024462e+00,  1.60215744e+01],\n",
      "       [-9.60322975e+00,  9.58605524e+00,  1.65121161e+01],\n",
      "       [-9.89883236e+00,  9.95340012e+00,  1.70172232e+01],\n",
      "       [-1.02036633e+01,  1.03326372e+01,  1.75373285e+01],\n",
      "       [-1.05180105e+01,  1.07241354e+01,  1.80728772e+01],\n",
      "       [-1.08421710e+01,  1.11282749e+01,  1.86243282e+01],\n",
      "       [-1.11764509e+01,  1.15454477e+01,  1.91921541e+01],\n",
      "       [-1.15211659e+01,  1.19760577e+01,  1.97768415e+01],\n",
      "       [-1.18766415e+01,  1.24205212e+01,  2.03788916e+01],\n",
      "       [-1.22432134e+01,  1.28792673e+01,  2.09988208e+01],\n",
      "       [-1.26212275e+01,  1.33527383e+01,  2.16371607e+01],\n",
      "       [-1.30110407e+01,  1.38413900e+01,  2.22944590e+01],\n",
      "       [-1.34130210e+01,  1.43456922e+01,  2.29712797e+01],\n",
      "       [-1.38275476e+01,  1.48661291e+01,  2.36682040e+01],\n",
      "       [-1.42550116e+01,  1.54031998e+01,  2.43858301e+01],\n",
      "       [-1.46958164e+01,  1.59574188e+01,  2.51247743e+01],\n",
      "       [-1.51503778e+01,  1.65293161e+01,  2.58856716e+01],\n",
      "       [-1.56191244e+01,  1.71194382e+01,  2.66691758e+01],\n",
      "       [-1.61024984e+01,  1.77283483e+01,  2.74759604e+01],\n",
      "       [-1.66009555e+01,  1.83566268e+01,  2.83067191e+01],\n",
      "       [-1.71149656e+01,  1.90048719e+01,  2.91621665e+01],\n",
      "       [-1.76450132e+01,  1.96737004e+01,  3.00430385e+01],\n",
      "       [-1.81915980e+01,  2.03637476e+01,  3.09500932e+01],\n",
      "       [-1.87552350e+01,  2.10756687e+01,  3.18841116e+01],\n",
      "       [-1.93364552e+01,  2.18101386e+01,  3.28458978e+01],\n",
      "       [-1.99358063e+01,  2.25678532e+01,  3.38362805e+01],\n",
      "       [-2.05538528e+01,  2.33495296e+01,  3.48561130e+01],\n",
      "       [-2.11911767e+01,  2.41559069e+01,  3.59062744e+01],\n",
      "       [-2.18483782e+01,  2.49877468e+01,  3.69876702e+01],\n",
      "       [-2.25260762e+01,  2.58458346e+01,  3.81012330e+01]]), 'dim': 1, 'order': 2, 'ind': array([50], dtype=int64), 'ispermuted': False, 'repermorder': array([1, 2, 3]), 'size': array([51.,  3.,  1.]), 'subsize': {'hankel': array([50, 51], dtype=int64), 'other': (3,)}}\n"
     ]
    },
    {
     "data": {
      "text/plain": [
       "[array([[-4.20175037e+00,  6.80336680e-09,  1.68046878e-08],\n",
       "        [-4.20175037e+00,  6.71835037e-09,  1.73820542e-08],\n",
       "        [-4.20175037e+00,  6.53627882e-09,  1.79761435e-08],\n",
       "        [-4.20175037e+00,  6.46434257e-09,  1.85914646e-08],\n",
       "        [-4.20175037e+00,  6.39016659e-09,  1.92258973e-08],\n",
       "        [-4.20175037e+00,  6.31368060e-09,  1.98801844e-08],\n",
       "        [-4.20175037e+00,  6.23481230e-09,  2.05549254e-08],\n",
       "        [-4.20175037e+00,  6.15348711e-09,  2.12507376e-08],\n",
       "        [-4.20175037e+00,  6.06962816e-09,  2.19682356e-08],\n",
       "        [-4.20175037e+00,  5.98315611e-09,  2.27081179e-08],\n",
       "        [-4.20175037e+00,  5.89398922e-09,  2.34710371e-08],\n",
       "        [-4.20175037e+00,  5.80204314e-09,  2.42576883e-08],\n",
       "        [-4.20175037e+00,  5.70723095e-09,  2.50687875e-08],\n",
       "        [-4.20175037e+00,  5.60946297e-09,  2.59050721e-08],\n",
       "        [-4.20175037e+00,  5.50864673e-09,  2.67673019e-08],\n",
       "        [-4.20175037e+00,  5.40468691e-09,  2.76562594e-08],\n",
       "        [-4.20175037e+00,  5.29748517e-09,  2.85727507e-08],\n",
       "        [-4.20175037e+00,  5.18694015e-09,  2.95176061e-08],\n",
       "        [-4.20175037e+00,  5.07294729e-09,  3.04916810e-08],\n",
       "        [-4.20175037e+00,  4.95539880e-09,  3.14958566e-08],\n",
       "        [-4.20175037e+00,  4.83418351e-09,  3.25310404e-08],\n",
       "        [-4.20175037e+00,  4.70918682e-09,  3.35981675e-08],\n",
       "        [-4.20175037e+00,  4.58029051e-09,  3.46982011e-08],\n",
       "        [-4.20175037e+00,  4.44737271e-09,  3.58321331e-08],\n",
       "        [-4.20175037e+00,  4.31030775e-09,  3.70009858e-08],\n",
       "        [-4.20175037e+00,  4.16896604e-09,  3.82058119e-08],\n",
       "        [-4.20175037e+00,  4.02321396e-09,  3.94476960e-08],\n",
       "        [-4.20175037e+00,  3.87291371e-09,  4.07277554e-08],\n",
       "        [-4.20175037e+00,  3.71792323e-09,  4.20471410e-08],\n",
       "        [-4.20175037e+00,  3.55809601e-09,  4.34070384e-08],\n",
       "        [-4.20175037e+00,  3.39328099e-09,  4.48086690e-08],\n",
       "        [-4.20175037e+00,  3.22332242e-09,  4.62532910e-08],\n",
       "        [-4.20175037e+00,  3.04805967e-09,  4.77422005e-08],\n",
       "        [-4.20175037e+00,  2.86732714e-09,  4.92767329e-08],\n",
       "        [-4.20175037e+00,  2.68095407e-09,  5.08582635e-08],\n",
       "        [-4.20175037e+00,  2.48876438e-09,  5.24882095e-08],\n",
       "        [-4.20175037e+00,  2.29057652e-09,  5.41680306e-08],\n",
       "        [-4.20175037e+00,  2.08620327e-09,  5.58992306e-08],\n",
       "        [-4.20175037e+00,  1.87545163e-09,  5.76833587e-08],\n",
       "        [-4.20175037e+00,  1.65812255e-09,  5.95220110e-08],\n",
       "        [-4.20175037e+00,  1.43401082e-09,  6.14168316e-08],\n",
       "        [-4.20175037e+00,  1.20290484e-09,  6.33695143e-08],\n",
       "        [-4.20175037e+00,  9.64686506e-10,  6.52629467e-08],\n",
       "        [-4.20175037e+00,  7.20140927e-10,  6.58047009e-08],\n",
       "        [-4.20175037e+00,  4.68401992e-10,  6.58047009e-08],\n",
       "        [-4.20175037e+00,  2.08805956e-10,  6.58047009e-08],\n",
       "        [-4.20175037e+00,  0.00000000e+00,  6.58047009e-08],\n",
       "        [-4.20175037e+00,  0.00000000e+00,  6.58047009e-08],\n",
       "        [-4.20175037e+00,  0.00000000e+00,  7.88065468e-08],\n",
       "        [-4.20175037e+00,  0.00000000e+00,  4.03284931e-08]]),\n",
       " array([[1.62761009e-09, 2.08578232e-01, 2.50072920e-01],\n",
       "        [1.67468827e-09, 2.14770387e-01, 2.57365914e-01],\n",
       "        [1.72322141e-09, 2.21155070e-01, 2.64885803e-01],\n",
       "        [1.77326063e-09, 2.27740680e-01, 2.72632665e-01],\n",
       "        [1.82494814e-09, 2.34574060e-01, 2.80493492e-01],\n",
       "        [1.87827284e-09, 2.41636222e-01, 2.88551015e-01],\n",
       "        [1.93324821e-09, 2.48918204e-01, 2.96859191e-01],\n",
       "        [1.98992860e-09, 2.56428009e-01, 3.05422621e-01],\n",
       "        [2.04836572e-09, 2.64172066e-01, 3.14251342e-01],\n",
       "        [2.10861360e-09, 2.72157291e-01, 3.23354878e-01],\n",
       "        [2.17072893e-09, 2.80391232e-01, 3.32741838e-01],\n",
       "        [2.23477018e-09, 2.88881673e-01, 3.42421101e-01],\n",
       "        [2.30079762e-09, 2.97636642e-01, 3.52401822e-01],\n",
       "        [2.36887473e-09, 3.06664958e-01, 3.62691864e-01],\n",
       "        [2.43906612e-09, 3.15975371e-01, 3.73300346e-01],\n",
       "        [2.51145773e-09, 3.25585077e-01, 3.84212888e-01],\n",
       "        [2.58610536e-09, 3.35497909e-01, 3.95455089e-01],\n",
       "        [2.66306939e-09, 3.45719016e-01, 4.07049882e-01],\n",
       "        [2.74242119e-09, 3.56257571e-01, 4.19009683e-01],\n",
       "        [2.82421054e-09, 3.67112946e-01, 4.31376583e-01],\n",
       "        [2.90854153e-09, 3.78306826e-01, 4.44129084e-01],\n",
       "        [2.99549367e-09, 3.89849795e-01, 4.57279254e-01],\n",
       "        [3.08514897e-09, 4.01752767e-01, 4.70839537e-01],\n",
       "        [3.17759196e-09, 4.14026996e-01, 4.84822767e-01],\n",
       "        [3.27290986e-09, 4.26684087e-01, 4.99242177e-01],\n",
       "        [3.37119258e-09, 4.39736006e-01, 5.14111413e-01],\n",
       "        [3.47253283e-09, 4.53195093e-01, 5.29444546e-01],\n",
       "        [3.57702622e-09, 4.67074069e-01, 5.45256086e-01],\n",
       "        [3.68477136e-09, 4.81386056e-01, 5.61560996e-01],\n",
       "        [3.79586990e-09, 4.96144582e-01, 5.78374706e-01],\n",
       "        [3.91042669e-09, 5.11363596e-01, 5.95713124e-01],\n",
       "        [4.02854788e-09, 5.27056661e-01, 6.13595043e-01],\n",
       "        [4.15034572e-09, 5.43238930e-01, 6.32036450e-01],\n",
       "        [4.27593623e-09, 5.59926155e-01, 6.51053451e-01],\n",
       "        [4.40543796e-09, 5.77134105e-01, 6.70664037e-01],\n",
       "        [4.53897311e-09, 5.94879039e-01, 6.90886761e-01],\n",
       "        [4.67766687e-09, 6.13600488e-01, 7.10512948e-01],\n",
       "        [4.82088749e-09, 6.32993445e-01, 7.30498337e-01],\n",
       "        [4.96857862e-09, 6.52995180e-01, 7.51097212e-01],\n",
       "        [5.12052088e-09, 6.73623524e-01, 7.71276396e-01],\n",
       "        [5.25255816e-09, 6.89254950e-01, 7.74955158e-01],\n",
       "        [5.33446180e-09, 6.89254950e-01, 7.77697993e-01],\n",
       "        [5.41795991e-09, 6.89254950e-01, 7.77697993e-01],\n",
       "        [5.50405681e-09, 6.89254950e-01, 7.77697993e-01],\n",
       "        [5.59283372e-09, 6.89254950e-01, 7.77697993e-01],\n",
       "        [5.68437437e-09, 6.89254950e-01, 7.77697993e-01],\n",
       "        [5.77876512e-09, 6.89254950e-01, 7.77697993e-01],\n",
       "        [5.87609501e-09, 6.89254950e-01, 7.77697993e-01],\n",
       "        [5.97647367e-09, 6.89254950e-01, 7.77697993e-01],\n",
       "        [6.93170094e-09, 9.19164322e-01, 1.02384931e+00],\n",
       "        [7.08758659e-09, 4.59345578e-01, 5.31546673e-01]]),\n",
       " array([[6.89856797e+08, 2.58499929e+09, 0.00000000e+00],\n",
       "        [2.32026852e+07, 0.00000000e+00, 2.92134406e+08],\n",
       "        [0.00000000e+00, 0.00000000e+00, 5.04563762e+08]])]"
      ]
     },
     "execution_count": 187,
     "metadata": {},
     "output_type": "execute_result"
    }
   ],
   "source": [
    "\n",
    "# application BSS Signal construction\n",
    "t = np.linspace(0,1,100).T  # one source\n",
    "x = np.array([t, t*2, t*3]).T  # create 3 sources of multiples of 1, 2, 3\n",
    "S = np.exp(x) # raise it exponentialy\n",
    "rng = np.random.default_rng()\n",
    "M = rng.standard_normal(size=(3,3)) # generate random mixing matrix to record the 4 sources using 3 sensors\n",
    "X = np.dot(S,M) # mix the four sources\n",
    "# Separation\n",
    "H = hankelize(X,Dim=1)\n",
    "U = tl.tensor(H)\n",
    "\n",
    "from tensorly.decomposition import constrained_parafac\n",
    "import matplotlib.pyplot as plt\n",
    "\n",
    "rank = 3\n",
    "_, factors = constrained_parafac(U, rank=rank, unimodality=True)\n",
    "factors\n"
   ]
  },
  {
   "cell_type": "code",
   "execution_count": 188,
   "id": "9e6ef453",
   "metadata": {},
   "outputs": [
    {
     "data": {
      "text/plain": [
       "(100, 3)"
      ]
     },
     "execution_count": 188,
     "metadata": {},
     "output_type": "execute_result"
    }
   ],
   "source": [
    "X.shape"
   ]
  },
  {
   "cell_type": "code",
   "execution_count": 182,
   "id": "5cb33c2b",
   "metadata": {},
   "outputs": [],
   "source": [
    "constrained_parafac?"
   ]
  },
  {
   "cell_type": "code",
   "execution_count": 189,
   "id": "a5c31f56",
   "metadata": {},
   "outputs": [
    {
     "data": {
      "text/plain": [
       "(100, 3)"
      ]
     },
     "execution_count": 189,
     "metadata": {},
     "output_type": "execute_result"
    }
   ],
   "source": [
    "S.shape"
   ]
  },
  {
   "cell_type": "code",
   "execution_count": 190,
   "id": "c305e8ae",
   "metadata": {},
   "outputs": [
    {
     "data": {
      "text/plain": [
       "(50, 51, 3)"
      ]
     },
     "execution_count": 190,
     "metadata": {},
     "output_type": "execute_result"
    }
   ],
   "source": [
    "H.shape"
   ]
  },
  {
   "cell_type": "code",
   "execution_count": 247,
   "id": "e4c7c8b8",
   "metadata": {},
   "outputs": [
    {
     "name": "stderr",
     "output_type": "stream",
     "text": [
      "C:\\Users\\DELLPR~1\\AppData\\Local\\Temp/ipykernel_18136/4075969018.py:1: VisibleDeprecationWarning: Creating an ndarray from ragged nested sequences (which is a list-or-tuple of lists-or-tuples-or ndarrays with different lengths or shapes) is deprecated. If you meant to do this, you must specify 'dtype=object' when creating the ndarray.\n",
      "  factors = np.array(factors)\n"
     ]
    },
    {
     "data": {
      "text/plain": [
       "(3,)"
      ]
     },
     "execution_count": 247,
     "metadata": {},
     "output_type": "execute_result"
    }
   ],
   "source": [
    "factors = np.array(factors)\n",
    "factors.shape"
   ]
  },
  {
   "cell_type": "code",
   "execution_count": 195,
   "id": "1a858ad8",
   "metadata": {},
   "outputs": [
    {
     "data": {
      "text/plain": [
       "(50, 3)"
      ]
     },
     "execution_count": 195,
     "metadata": {},
     "output_type": "execute_result"
    }
   ],
   "source": [
    "factors[1].shape"
   ]
  },
  {
   "cell_type": "code",
   "execution_count": 194,
   "id": "5f232263",
   "metadata": {},
   "outputs": [],
   "source": [
    "if factors[0].shape[0] < factors[1].shape[0]:\n",
    "    factors[1] = np.resize(factors[1], (factors[0].shape))\n",
    "else:\n",
    "    factors[0] = np.resize(factors[0], (f1.shape))\n"
   ]
  },
  {
   "cell_type": "code",
   "execution_count": 196,
   "id": "0d76de74",
   "metadata": {},
   "outputs": [
    {
     "data": {
      "text/plain": [
       "(100, 3)"
      ]
     },
     "execution_count": 196,
     "metadata": {},
     "output_type": "execute_result"
    }
   ],
   "source": [
    "t1 = np.concatenate((factors[0], factors[1]))\n",
    "t1.shape\n",
    "#t1 = t1.reshape((len(t1[0])))"
   ]
  },
  {
   "cell_type": "code",
   "execution_count": 218,
   "id": "316e8b40",
   "metadata": {},
   "outputs": [
    {
     "name": "stdout",
     "output_type": "stream",
     "text": [
      "subs :  [Ellipsis 0]\n",
      "tmp:  [-4.20175037e+00 -4.20175037e+00 -4.20175037e+00 -4.20175037e+00\n",
      " -4.20175037e+00 -4.20175037e+00 -4.20175037e+00 -4.20175037e+00\n",
      " -4.20175037e+00 -4.20175037e+00 -4.20175037e+00 -4.20175037e+00\n",
      " -4.20175037e+00 -4.20175037e+00 -4.20175037e+00 -4.20175037e+00\n",
      " -4.20175037e+00 -4.20175037e+00 -4.20175037e+00 -4.20175037e+00\n",
      " -4.20175037e+00 -4.20175037e+00 -4.20175037e+00 -4.20175037e+00\n",
      " -4.20175037e+00 -4.20175037e+00 -4.20175037e+00 -4.20175037e+00\n",
      " -4.20175037e+00 -4.20175037e+00 -4.20175037e+00 -4.20175037e+00\n",
      " -4.20175037e+00 -4.20175037e+00 -4.20175037e+00 -4.20175037e+00\n",
      " -4.20175037e+00 -4.20175037e+00 -4.20175037e+00 -4.20175037e+00\n",
      " -4.20175037e+00 -4.20175037e+00 -4.20175037e+00 -4.20175037e+00\n",
      " -4.20175037e+00 -4.20175037e+00 -4.20175037e+00 -4.20175037e+00\n",
      " -4.20175037e+00 -4.20175037e+00  1.62761009e-09  1.67468827e-09\n",
      "  1.72322141e-09  1.77326063e-09  1.82494814e-09  1.87827284e-09\n",
      "  1.93324821e-09  1.98992860e-09  2.04836572e-09  2.10861360e-09\n",
      "  2.17072893e-09  2.23477018e-09  2.30079762e-09  2.36887473e-09\n",
      "  2.43906612e-09  2.51145773e-09  2.58610536e-09  2.66306939e-09\n",
      "  2.74242119e-09  2.82421054e-09  2.90854153e-09  2.99549367e-09\n",
      "  3.08514897e-09  3.17759196e-09  3.27290986e-09  3.37119258e-09\n",
      "  3.47253283e-09  3.57702622e-09  3.68477136e-09  3.79586990e-09\n",
      "  3.91042669e-09  4.02854788e-09  4.15034572e-09  4.27593623e-09\n",
      "  4.40543796e-09  4.53897311e-09  4.67766687e-09  4.82088749e-09\n",
      "  4.96857862e-09  5.12052088e-09  5.25255816e-09  5.33446180e-09\n",
      "  5.41795991e-09  5.50405681e-09  5.59283372e-09  5.68437437e-09\n",
      "  5.77876512e-09  5.87609501e-09  5.97647367e-09  6.93170094e-09]\n",
      "perm_vec:  [0, 1]\n",
      "sizes after resize:  [100   1]\n",
      "tmp:  [[-4.20175037e+00]\n",
      " [-4.20175037e+00]\n",
      " [-4.20175037e+00]\n",
      " [-4.20175037e+00]\n",
      " [-4.20175037e+00]\n",
      " [-4.20175037e+00]\n",
      " [-4.20175037e+00]\n",
      " [-4.20175037e+00]\n",
      " [-4.20175037e+00]\n",
      " [-4.20175037e+00]\n",
      " [-4.20175037e+00]\n",
      " [-4.20175037e+00]\n",
      " [-4.20175037e+00]\n",
      " [-4.20175037e+00]\n",
      " [-4.20175037e+00]\n",
      " [-4.20175037e+00]\n",
      " [-4.20175037e+00]\n",
      " [-4.20175037e+00]\n",
      " [-4.20175037e+00]\n",
      " [-4.20175037e+00]\n",
      " [-4.20175037e+00]\n",
      " [-4.20175037e+00]\n",
      " [-4.20175037e+00]\n",
      " [-4.20175037e+00]\n",
      " [-4.20175037e+00]\n",
      " [-4.20175037e+00]\n",
      " [-4.20175037e+00]\n",
      " [-4.20175037e+00]\n",
      " [-4.20175037e+00]\n",
      " [-4.20175037e+00]\n",
      " [-4.20175037e+00]\n",
      " [-4.20175037e+00]\n",
      " [-4.20175037e+00]\n",
      " [-4.20175037e+00]\n",
      " [-4.20175037e+00]\n",
      " [-4.20175037e+00]\n",
      " [-4.20175037e+00]\n",
      " [-4.20175037e+00]\n",
      " [-4.20175037e+00]\n",
      " [-4.20175037e+00]\n",
      " [-4.20175037e+00]\n",
      " [-4.20175037e+00]\n",
      " [-4.20175037e+00]\n",
      " [-4.20175037e+00]\n",
      " [-4.20175037e+00]\n",
      " [-4.20175037e+00]\n",
      " [-4.20175037e+00]\n",
      " [-4.20175037e+00]\n",
      " [-4.20175037e+00]\n",
      " [-4.20175037e+00]\n",
      " [ 1.62761009e-09]\n",
      " [ 1.67468827e-09]\n",
      " [ 1.72322141e-09]\n",
      " [ 1.77326063e-09]\n",
      " [ 1.82494814e-09]\n",
      " [ 1.87827284e-09]\n",
      " [ 1.93324821e-09]\n",
      " [ 1.98992860e-09]\n",
      " [ 2.04836572e-09]\n",
      " [ 2.10861360e-09]\n",
      " [ 2.17072893e-09]\n",
      " [ 2.23477018e-09]\n",
      " [ 2.30079762e-09]\n",
      " [ 2.36887473e-09]\n",
      " [ 2.43906612e-09]\n",
      " [ 2.51145773e-09]\n",
      " [ 2.58610536e-09]\n",
      " [ 2.66306939e-09]\n",
      " [ 2.74242119e-09]\n",
      " [ 2.82421054e-09]\n",
      " [ 2.90854153e-09]\n",
      " [ 2.99549367e-09]\n",
      " [ 3.08514897e-09]\n",
      " [ 3.17759196e-09]\n",
      " [ 3.27290986e-09]\n",
      " [ 3.37119258e-09]\n",
      " [ 3.47253283e-09]\n",
      " [ 3.57702622e-09]\n",
      " [ 3.68477136e-09]\n",
      " [ 3.79586990e-09]\n",
      " [ 3.91042669e-09]\n",
      " [ 4.02854788e-09]\n",
      " [ 4.15034572e-09]\n",
      " [ 4.27593623e-09]\n",
      " [ 4.40543796e-09]\n",
      " [ 4.53897311e-09]\n",
      " [ 4.67766687e-09]\n",
      " [ 4.82088749e-09]\n",
      " [ 4.96857862e-09]\n",
      " [ 5.12052088e-09]\n",
      " [ 5.25255816e-09]\n",
      " [ 5.33446180e-09]\n",
      " [ 5.41795991e-09]\n",
      " [ 5.50405681e-09]\n",
      " [ 5.59283372e-09]\n",
      " [ 5.68437437e-09]\n",
      " [ 5.77876512e-09]\n",
      " [ 5.87609501e-09]\n",
      " [ 5.97647367e-09]\n",
      " [ 6.93170094e-09]]\n",
      "tmp:  [-4.20175037e+00 -4.20175037e+00 -4.20175037e+00 -4.20175037e+00\n",
      " -4.20175037e+00 -4.20175037e+00 -4.20175037e+00 -4.20175037e+00\n",
      " -4.20175037e+00 -4.20175037e+00 -4.20175037e+00 -4.20175037e+00\n",
      " -4.20175037e+00 -4.20175037e+00 -4.20175037e+00 -4.20175037e+00\n",
      " -4.20175037e+00 -4.20175037e+00 -4.20175037e+00 -4.20175037e+00\n",
      " -4.20175037e+00 -4.20175037e+00 -4.20175037e+00 -4.20175037e+00\n",
      " -4.20175037e+00 -4.20175037e+00 -4.20175037e+00 -4.20175037e+00\n",
      " -4.20175037e+00 -4.20175037e+00 -4.20175037e+00 -4.20175037e+00\n",
      " -4.20175037e+00 -4.20175037e+00 -4.20175037e+00 -4.20175037e+00\n",
      " -4.20175037e+00 -4.20175037e+00 -4.20175037e+00 -4.20175037e+00\n",
      " -4.20175037e+00 -4.20175037e+00 -4.20175037e+00 -4.20175037e+00\n",
      " -4.20175037e+00 -4.20175037e+00 -4.20175037e+00 -4.20175037e+00\n",
      " -4.20175037e+00 -4.20175037e+00  1.62761009e-09  1.67468827e-09\n",
      "  1.72322141e-09  1.77326063e-09  1.82494814e-09  1.87827284e-09\n",
      "  1.93324821e-09  1.98992860e-09  2.04836572e-09  2.10861360e-09\n",
      "  2.17072893e-09  2.23477018e-09  2.30079762e-09  2.36887473e-09\n",
      "  2.43906612e-09  2.51145773e-09  2.58610536e-09  2.66306939e-09\n",
      "  2.74242119e-09  2.82421054e-09  2.90854153e-09  2.99549367e-09\n",
      "  3.08514897e-09  3.17759196e-09  3.27290986e-09  3.37119258e-09\n",
      "  3.47253283e-09  3.57702622e-09  3.68477136e-09  3.79586990e-09\n",
      "  3.91042669e-09  4.02854788e-09  4.15034572e-09  4.27593623e-09\n",
      "  4.40543796e-09  4.53897311e-09  4.67766687e-09  4.82088749e-09\n",
      "  4.96857862e-09  5.12052088e-09  5.25255816e-09  5.33446180e-09\n",
      "  5.41795991e-09  5.50405681e-09  5.59283372e-09  5.68437437e-09\n",
      "  5.77876512e-09  5.87609501e-09  5.97647367e-09  6.93170094e-09]\n",
      "subs :  [array(2) array([1, 2])]\n",
      "tmp:  [6.53627882e-09 1.79761435e-08]\n",
      "perm_vec:  [1, 0]\n",
      "sizes after resize:  [1, 2]\n",
      "tmp:  [[6.53627882e-09 1.79761435e-08]]\n",
      "tmp:  [6.53627882e-09 1.79761435e-08]\n"
     ]
    },
    {
     "data": {
      "text/plain": [
       "array([-4.20175037e+00, -4.20175037e+00, -4.20175037e+00, -4.20175037e+00,\n",
       "       -4.20175037e+00, -4.20175037e+00, -4.20175037e+00, -4.20175037e+00,\n",
       "       -4.20175037e+00, -4.20175037e+00, -4.20175037e+00, -4.20175037e+00,\n",
       "       -4.20175037e+00, -4.20175037e+00, -4.20175037e+00, -4.20175037e+00,\n",
       "       -4.20175037e+00, -4.20175037e+00, -4.20175037e+00, -4.20175037e+00,\n",
       "       -4.20175037e+00, -4.20175037e+00, -4.20175037e+00, -4.20175037e+00,\n",
       "       -4.20175037e+00, -4.20175037e+00, -4.20175037e+00, -4.20175037e+00,\n",
       "       -4.20175037e+00, -4.20175037e+00, -4.20175037e+00, -4.20175037e+00,\n",
       "       -4.20175037e+00, -4.20175037e+00, -4.20175037e+00, -4.20175037e+00,\n",
       "       -4.20175037e+00, -4.20175037e+00, -4.20175037e+00, -4.20175037e+00,\n",
       "       -4.20175037e+00, -4.20175037e+00, -4.20175037e+00, -4.20175037e+00,\n",
       "       -4.20175037e+00, -4.20175037e+00, -4.20175037e+00, -4.20175037e+00,\n",
       "       -4.20175037e+00, -4.20175037e+00,  1.62761009e-09,  1.67468827e-09,\n",
       "        1.72322141e-09,  1.77326063e-09,  1.82494814e-09,  1.87827284e-09,\n",
       "        1.93324821e-09,  1.98992860e-09,  2.04836572e-09,  2.10861360e-09,\n",
       "        2.17072893e-09,  2.23477018e-09,  2.30079762e-09,  2.36887473e-09,\n",
       "        2.43906612e-09,  2.51145773e-09,  2.58610536e-09,  2.66306939e-09,\n",
       "        2.74242119e-09,  2.82421054e-09,  2.90854153e-09,  2.99549367e-09,\n",
       "        3.08514897e-09,  3.17759196e-09,  3.27290986e-09,  3.37119258e-09,\n",
       "        3.47253283e-09,  3.57702622e-09,  3.68477136e-09,  3.79586990e-09,\n",
       "        3.91042669e-09,  4.02854788e-09,  4.15034572e-09,  4.27593623e-09,\n",
       "        4.40543796e-09,  4.53897311e-09,  4.67766687e-09,  4.82088749e-09,\n",
       "        4.96857862e-09,  5.12052088e-09,  5.25255816e-09,  5.33446180e-09,\n",
       "        5.41795991e-09,  5.50405681e-09,  5.59283372e-09,  5.68437437e-09,\n",
       "        5.77876512e-09,  5.87609501e-09,  5.97647367e-09,  6.93170094e-09,\n",
       "        6.53627882e-09,  1.79761435e-08])"
      ]
     },
     "execution_count": 218,
     "metadata": {},
     "output_type": "execute_result"
    }
   ],
   "source": [
    "Sest = dehankelize(t1) #'Dims'=[1, 1, 1])\n",
    "Sest"
   ]
  },
  {
   "cell_type": "code",
   "execution_count": 235,
   "id": "77837a6f",
   "metadata": {},
   "outputs": [
    {
     "data": {
      "text/plain": [
       "(100,)"
      ]
     },
     "execution_count": 235,
     "metadata": {},
     "output_type": "execute_result"
    }
   ],
   "source": [
    "Sest.shape"
   ]
  },
  {
   "cell_type": "code",
   "execution_count": 260,
   "id": "3e204a2b",
   "metadata": {},
   "outputs": [],
   "source": [
    "from tensorly import tt_to_tensor\n",
    "\n",
    "from tensorly.decomposition import matrix_product_state\n",
    "factors = matrix_product_state(U, rank=rank)\n",
    "\n",
    "\n",
    "S_Hankel = np.round(tt_to_tensor(factors))"
   ]
  },
  {
   "cell_type": "code",
   "execution_count": 255,
   "id": "b32e3488",
   "metadata": {},
   "outputs": [
    {
     "data": {
      "text/plain": [
       "(50, 51, 3)"
      ]
     },
     "execution_count": 255,
     "metadata": {},
     "output_type": "execute_result"
    }
   ],
   "source": [
    "factors.shape"
   ]
  },
  {
   "cell_type": "code",
   "execution_count": 261,
   "id": "b7113f0b",
   "metadata": {},
   "outputs": [
    {
     "data": {
      "text/plain": [
       "(50, 51, 3)"
      ]
     },
     "execution_count": 261,
     "metadata": {},
     "output_type": "execute_result"
    }
   ],
   "source": [
    "S_Hankel.shape"
   ]
  },
  {
   "cell_type": "code",
   "execution_count": null,
   "id": "d868bdcf",
   "metadata": {},
   "outputs": [],
   "source": []
  },
  {
   "cell_type": "code",
   "execution_count": 257,
   "id": "c7b78be3",
   "metadata": {},
   "outputs": [
    {
     "name": "stdout",
     "output_type": "stream",
     "text": [
      "subs :  [Ellipsis 0 0]\n",
      "tmp:  [-1. -1. -1. -1. -1. -1. -1. -1. -1. -2. -2. -2. -2. -2. -2. -2. -2. -2.\n",
      " -2. -2. -2. -2. -2. -2. -2. -2. -3. -3. -3. -3. -3. -3. -3. -3. -3. -3.\n",
      " -3. -3. -4. -4. -4. -4. -4. -4. -4. -4. -5. -5. -5. -5.]\n",
      "perm_vec:  [0, 1, 2]\n",
      "sizes after resize:  [50  1]\n",
      "tmp:  [[-1.]\n",
      " [-1.]\n",
      " [-1.]\n",
      " [-1.]\n",
      " [-1.]\n",
      " [-1.]\n",
      " [-1.]\n",
      " [-1.]\n",
      " [-1.]\n",
      " [-2.]\n",
      " [-2.]\n",
      " [-2.]\n",
      " [-2.]\n",
      " [-2.]\n",
      " [-2.]\n",
      " [-2.]\n",
      " [-2.]\n",
      " [-2.]\n",
      " [-2.]\n",
      " [-2.]\n",
      " [-2.]\n",
      " [-2.]\n",
      " [-2.]\n",
      " [-2.]\n",
      " [-2.]\n",
      " [-2.]\n",
      " [-3.]\n",
      " [-3.]\n",
      " [-3.]\n",
      " [-3.]\n",
      " [-3.]\n",
      " [-3.]\n",
      " [-3.]\n",
      " [-3.]\n",
      " [-3.]\n",
      " [-3.]\n",
      " [-3.]\n",
      " [-3.]\n",
      " [-4.]\n",
      " [-4.]\n",
      " [-4.]\n",
      " [-4.]\n",
      " [-4.]\n",
      " [-4.]\n",
      " [-4.]\n",
      " [-4.]\n",
      " [-5.]\n",
      " [-5.]\n",
      " [-5.]\n",
      " [-5.]]\n",
      "tmp:  [-1. -1. -1. -1. -1. -1. -1. -1. -1. -2. -2. -2. -2. -2. -2. -2. -2. -2.\n",
      " -2. -2. -2. -2. -2. -2. -2. -2. -3. -3. -3. -3. -3. -3. -3. -3. -3. -3.\n",
      " -3. -3. -4. -4. -4. -4. -4. -4. -4. -4. -5. -5. -5. -5.]\n",
      "subs :  [0\n",
      " array([ 1,  2,  3,  4,  5,  6,  7,  8,  9, 10, 11, 12, 13, 14, 15, 16, 17,\n",
      "        18, 19, 20, 21, 22, 23, 24, 25, 26, 27, 28, 29, 30, 31, 32, 33, 34,\n",
      "        35, 36, 37, 38, 39, 40, 41, 42, 43, 44, 45, 46, 47, 48, 49, 50],\n",
      "       dtype=int64)\n",
      " 0]\n",
      "tmp:  [-1. -1. -1. -1. -1. -1. -1. -1. -2. -2. -2. -2. -2. -2. -2. -2. -2. -2.\n",
      " -2. -2. -2. -2. -2. -2. -2. -3. -3. -3. -3. -3. -3. -3. -3. -3. -3. -3.\n",
      " -3. -4. -4. -4. -4. -4. -4. -4. -4. -5. -5. -5. -5. -5.]\n",
      "perm_vec:  [1, 0, 2]\n",
      "sizes after resize:  [ 1 50]\n",
      "tmp:  [[-1. -1. -1. -1. -1. -1. -1. -1. -2. -2. -2. -2. -2. -2. -2. -2. -2. -2.\n",
      "  -2. -2. -2. -2. -2. -2. -2. -3. -3. -3. -3. -3. -3. -3. -3. -3. -3. -3.\n",
      "  -3. -4. -4. -4. -4. -4. -4. -4. -4. -5. -5. -5. -5. -5.]]\n",
      "tmp:  [-1. -1. -1. -1. -1. -1. -1. -1. -2. -2. -2. -2. -2. -2. -2. -2. -2. -2.\n",
      " -2. -2. -2. -2. -2. -2. -2. -3. -3. -3. -3. -3. -3. -3. -3. -3. -3. -3.\n",
      " -3. -4. -4. -4. -4. -4. -4. -4. -4. -5. -5. -5. -5. -5.]\n",
      "subs :  [0 array(2, dtype=int64) array([1, 2], dtype=int64)]\n",
      "tmp:  [-0.  2.]\n",
      "perm_vec:  [2, 1, 0]\n",
      "sizes after resize:  [1, 1, 2]\n",
      "tmp:  [[[-0.  2.]]]\n",
      "tmp:  [-0.  2.]\n"
     ]
    },
    {
     "name": "stderr",
     "output_type": "stream",
     "text": [
      "C:\\Users\\DELLPR~1\\AppData\\Local\\Temp/ipykernel_18136/2860940684.py:24: ComplexWarning: Casting complex values to real discards the imaginary part\n",
      "  w = np.round(np.fft.ifft(w)).astype(int)\n"
     ]
    },
    {
     "data": {
      "text/plain": [
       "(102,)"
      ]
     },
     "execution_count": 257,
     "metadata": {},
     "output_type": "execute_result"
    }
   ],
   "source": [
    "S_Hankel = dehankelize(S_Hankel) \n",
    "S_Hankel.shape"
   ]
  },
  {
   "cell_type": "code",
   "execution_count": 259,
   "id": "784ce90a",
   "metadata": {},
   "outputs": [
    {
     "data": {
      "text/plain": [
       "array([-1., -1., -1., -1., -1., -1., -1., -1., -1., -2., -2., -2., -2.,\n",
       "       -2., -2., -2., -2., -2., -2., -2., -2., -2., -2., -2., -2., -2.,\n",
       "       -3., -3., -3., -3., -3., -3., -3., -3., -3., -3., -3., -3., -4.,\n",
       "       -4., -4., -4., -4., -4., -4., -4., -5., -5., -5., -5., -1., -1.,\n",
       "       -1., -1., -1., -1., -1., -1., -2., -2., -2., -2., -2., -2., -2.,\n",
       "       -2., -2., -2., -2., -2., -2., -2., -2., -2., -2., -3., -3., -3.,\n",
       "       -3., -3., -3., -3., -3., -3., -3., -3., -3., -4., -4., -4., -4.,\n",
       "       -4., -4., -4., -4., -5., -5., -5., -5., -5., -0.,  2.])"
      ]
     },
     "execution_count": 259,
     "metadata": {},
     "output_type": "execute_result"
    }
   ],
   "source": [
    "S_Hankel"
   ]
  },
  {
   "cell_type": "code",
   "execution_count": 258,
   "id": "f8828791",
   "metadata": {},
   "outputs": [
    {
     "ename": "ValueError",
     "evalue": "shapes (100,) and (3,3) not aligned: 100 (dim 0) != 3 (dim 0)",
     "output_type": "error",
     "traceback": [
      "\u001b[1;31m---------------------------------------------------------------------------\u001b[0m",
      "\u001b[1;31mValueError\u001b[0m                                Traceback (most recent call last)",
      "\u001b[1;32mC:\\Users\\DELLPR~1\\AppData\\Local\\Temp/ipykernel_18136/1526699549.py\u001b[0m in \u001b[0;36m<module>\u001b[1;34m\u001b[0m\n\u001b[1;32m----> 1\u001b[1;33m \u001b[1;32massert\u001b[0m \u001b[0mnp\u001b[0m\u001b[1;33m.\u001b[0m\u001b[0mallclose\u001b[0m\u001b[1;33m(\u001b[0m\u001b[0mX\u001b[0m\u001b[1;33m,\u001b[0m \u001b[0mnp\u001b[0m\u001b[1;33m.\u001b[0m\u001b[0mdot\u001b[0m\u001b[1;33m(\u001b[0m\u001b[0mSest\u001b[0m\u001b[1;33m,\u001b[0m \u001b[0mM\u001b[0m\u001b[1;33m.\u001b[0m\u001b[0mT\u001b[0m\u001b[1;33m)\u001b[0m \u001b[1;33m)\u001b[0m\u001b[1;33m\u001b[0m\u001b[1;33m\u001b[0m\u001b[0m\n\u001b[0m",
      "\u001b[1;32mC:\\ProgramData\\Anaconda3\\lib\\site-packages\\numpy\\core\\overrides.py\u001b[0m in \u001b[0;36mdot\u001b[1;34m(*args, **kwargs)\u001b[0m\n",
      "\u001b[1;31mValueError\u001b[0m: shapes (100,) and (3,3) not aligned: 100 (dim 0) != 3 (dim 0)"
     ]
    }
   ],
   "source": [
    "assert np.allclose(X, np.dot(Sest, M.T) )"
   ]
  },
  {
   "cell_type": "code",
   "execution_count": 223,
   "id": "bea2a4b3",
   "metadata": {},
   "outputs": [],
   "source": [
    "if Sest.shape[0] > S.shape[0]: # trim the extra, up to here we reproduce the matlab code\n",
    "    Sest = np.resize(Sest, (S.shape[0]))"
   ]
  },
  {
   "cell_type": "code",
   "execution_count": 175,
   "id": "52b331f5",
   "metadata": {},
   "outputs": [],
   "source": [
    "#Sest = np.array([Sest, Sest*2, Sest*3]).T  # estimate the multiple sources from the main factor "
   ]
  },
  {
   "cell_type": "code",
   "execution_count": 227,
   "id": "da9569e4",
   "metadata": {},
   "outputs": [
    {
     "data": {
      "text/plain": [
       "(100, 3)"
      ]
     },
     "execution_count": 227,
     "metadata": {},
     "output_type": "execute_result"
    }
   ],
   "source": [
    "S.shape"
   ]
  },
  {
   "cell_type": "code",
   "execution_count": 228,
   "id": "2f5c329b",
   "metadata": {},
   "outputs": [
    {
     "data": {
      "text/plain": [
       "160.5192058382217"
      ]
     },
     "execution_count": 228,
     "metadata": {},
     "output_type": "execute_result"
    }
   ],
   "source": [
    "import math\n",
    "\n",
    "# Error calculation\n",
    "#RMSE_Hankel = math.sqrt(np.square(np.subtract(S,Sest)).mean() )\n",
    "RMSE_Hankel1 = math.sqrt(np.square(np.subtract(S[:,0],Sest)).mean() )\n",
    "RMSE_Hankel2 = math.sqrt(np.square(np.subtract(S[:,1],Sest)).mean() )\n",
    "RMSE_Hankel3 = math.sqrt(np.square(np.subtract(S[:,2],Sest)).mean() )\n",
    "RMSE_Hankel"
   ]
  },
  {
   "cell_type": "code",
   "execution_count": 232,
   "id": "17395032",
   "metadata": {},
   "outputs": [
    {
     "data": {
      "text/plain": [
       "4.1798195561691704"
      ]
     },
     "execution_count": 232,
     "metadata": {},
     "output_type": "execute_result"
    }
   ],
   "source": [
    "RMSE_Hankel1"
   ]
  },
  {
   "cell_type": "code",
   "execution_count": 233,
   "id": "3e5a042e",
   "metadata": {},
   "outputs": [
    {
     "data": {
      "text/plain": [
       "5.437091842098962"
      ]
     },
     "execution_count": 233,
     "metadata": {},
     "output_type": "execute_result"
    }
   ],
   "source": [
    "RMSE_Hankel2"
   ]
  },
  {
   "cell_type": "code",
   "execution_count": 234,
   "id": "9c8e76bc",
   "metadata": {},
   "outputs": [
    {
     "data": {
      "text/plain": [
       "9.325618771020943"
      ]
     },
     "execution_count": 234,
     "metadata": {},
     "output_type": "execute_result"
    }
   ],
   "source": [
    "RMSE_Hankel3"
   ]
  },
  {
   "cell_type": "code",
   "execution_count": 210,
   "id": "439f9e8d",
   "metadata": {},
   "outputs": [
    {
     "name": "stdout",
     "output_type": "stream",
     "text": [
      "RMSE_ICA:  5.362009479927312\n",
      "RMSE_PCA:  9.279206553743176\n"
     ]
    }
   ],
   "source": [
    "# https://scikit-learn.org/stable/auto_examples/decomposition/plot_ica_blind_source_separation.html#sphx-glr-auto-examples-decomposition-plot-ica-blind-source-separation-py\n",
    "\n",
    "from sklearn.decomposition import PCA, FastICA\n",
    "\n",
    "# Compute ICA\n",
    "ica = FastICA(n_components=3, whiten=\"arbitrary-variance\")\n",
    "S_ICA = ica.fit_transform(X)  # Reconstruct signals\n",
    "A_ = ica.mixing_  # Get estimated mixing matrix\n",
    "\n",
    "# We can `prove` that the ICA model applies by reverting the unmixing.\n",
    "assert np.allclose(X, np.dot(S_ICA, A_.T) + ica.mean_)\n",
    "\n",
    "# For comparison, compute PCA\n",
    "pca = PCA(n_components=3)\n",
    "S_PCA = pca.fit_transform(X)  # Reconstruct signals based on orthogonal components\n",
    "\n",
    "import math\n",
    "\n",
    "# Error calculation\n",
    "RMSE_ICA = math.sqrt(np.square(np.subtract(S,S_ICA)).mean() )\n",
    "RMSE_PCA = math.sqrt(np.square(np.subtract(S,S_PCA)).mean() )\n",
    "print (\"RMSE_ICA: \", RMSE_ICA)\n",
    "print (\"RMSE_PCA: \", RMSE_PCA)"
   ]
  },
  {
   "cell_type": "code",
   "execution_count": 237,
   "id": "c83470ad",
   "metadata": {},
   "outputs": [],
   "source": [
    "assert np.allclose(X, np.dot(S_ICA, A_.T) + ica.mean_)"
   ]
  },
  {
   "cell_type": "code",
   "execution_count": 238,
   "id": "74f83508",
   "metadata": {},
   "outputs": [
    {
     "data": {
      "text/plain": [
       "array([-7.18815924,  6.768601  , 12.17336928])"
      ]
     },
     "execution_count": 238,
     "metadata": {},
     "output_type": "execute_result"
    }
   ],
   "source": [
    " ica.mean_"
   ]
  },
  {
   "cell_type": "code",
   "execution_count": 239,
   "id": "2aeed280",
   "metadata": {},
   "outputs": [
    {
     "data": {
      "text/plain": [
       "(3, 3)"
      ]
     },
     "execution_count": 239,
     "metadata": {},
     "output_type": "execute_result"
    }
   ],
   "source": [
    "A_.shape"
   ]
  },
  {
   "cell_type": "code",
   "execution_count": 241,
   "id": "f0e95912",
   "metadata": {},
   "outputs": [
    {
     "data": {
      "text/plain": [
       "(100, 3)"
      ]
     },
     "execution_count": 241,
     "metadata": {},
     "output_type": "execute_result"
    }
   ],
   "source": [
    "S_ICA.shape"
   ]
  },
  {
   "cell_type": "code",
   "execution_count": null,
   "id": "3ce418d8",
   "metadata": {},
   "outputs": [],
   "source": [
    "pca._"
   ]
  },
  {
   "cell_type": "code",
   "execution_count": 211,
   "id": "2232e13a",
   "metadata": {},
   "outputs": [
    {
     "data": {
      "text/plain": [
       "(100, 3)"
      ]
     },
     "execution_count": 211,
     "metadata": {},
     "output_type": "execute_result"
    }
   ],
   "source": [
    "S_ICA.shape"
   ]
  },
  {
   "cell_type": "code",
   "execution_count": 212,
   "id": "a42e9836",
   "metadata": {},
   "outputs": [
    {
     "data": {
      "text/plain": [
       "(100, 3)"
      ]
     },
     "execution_count": 212,
     "metadata": {},
     "output_type": "execute_result"
    }
   ],
   "source": [
    "S_PCA.shape"
   ]
  },
  {
   "cell_type": "code",
   "execution_count": 213,
   "id": "8bc9036f",
   "metadata": {},
   "outputs": [
    {
     "data": {
      "text/plain": [
       "(101, 3)"
      ]
     },
     "execution_count": 213,
     "metadata": {},
     "output_type": "execute_result"
    }
   ],
   "source": [
    "S_.shape"
   ]
  },
  {
   "cell_type": "code",
   "execution_count": 220,
   "id": "9f7f5077",
   "metadata": {},
   "outputs": [
    {
     "data": {
      "image/png": "[encoded data removed]",
      "text/plain": [
       "<Figure size 432x288 with 5 Axes>"
      ]
     },
     "metadata": {
      "needs_background": "light"
     },
     "output_type": "display_data"
    }
   ],
   "source": [
    "import matplotlib.pyplot as plt\n",
    "\n",
    "plt.figure()\n",
    "\n",
    "models = [X, S, S_ICA, S_PCA, Sest]\n",
    "names = [\n",
    "    \"Observations (mixed signal)\",\n",
    "    \"True Sources\",\n",
    "    \"ICA recovered signals\",\n",
    "    \"PCA recovered signals\",\n",
    "    \"Multiway Hankelisation & CPD recovered signals\",\n",
    "]\n",
    "colors = [\"red\", \"steelblue\", \"orange\", \"green\"]\n",
    "\n",
    "for ii, (model, name) in enumerate(zip(models, names), 1):\n",
    "    plt.subplot(5, 1, ii)\n",
    "    plt.title(name)\n",
    "    for sig, color in zip(model.T, colors):\n",
    "        plt.plot(sig, color=color)\n",
    "\n",
    "#plt.tight_layout()\n",
    "plt.show()"
   ]
  },
  {
   "cell_type": "code",
   "execution_count": null,
   "id": "3aeddf0d",
   "metadata": {},
   "outputs": [],
   "source": []
  }
 ],
 "metadata": {
  "kernelspec": {
   "display_name": "Python 3 (ipykernel)",
   "language": "python",
   "name": "python3"
  },
  "language_info": {
   "codemirror_mode": {
    "name": "ipython",
    "version": 3
   },
   "file_extension": ".py",
   "mimetype": "text/x-python",
   "name": "python",
   "nbconvert_exporter": "python",
   "pygments_lexer": "ipython3",
   "version": "3.9.7"
  }
 },
 "nbformat": 4,
 "nbformat_minor": 5
}
