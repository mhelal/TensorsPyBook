{
 "cells": [
  {
   "cell_type": "markdown",
   "id": "49523d69",
   "metadata": {},
   "source": [
    "# multi-wayExamples - Hankelisation\n",
    "### Tensorlab (Matlab package) Tensorisation Functions:\n",
    "\n",
    "##### A 2-dimensional implementation is available in scipy package that is not based on tensor higher dimensions\n",
    "\n",
    "\n",
    "### Below is an attempt to implement hankelisation in higher dimensions as explained in Matlab TensorLab  https://www.tensorlab.net/doc/tensorization.html#hankelization-sec  and https://core.ac.uk/download/pdf/34637588.pdf \n",
    "\n",
    "Only the required functions to run the BSS example are attempted with minimum functionality\n",
    "\n",
    "There is another implementation in R (seems for matrices only):\n",
    "https://rdrr.io/github/jeffniv/math5973NivProj2/man/hankelize.html"
   ]
  },
  {
   "cell_type": "code",
   "execution_count": 1,
   "id": "d817a2f6",
   "metadata": {},
   "outputs": [
    {
     "data": {
      "text/plain": [
       "array([[1, 2, 3, 4, 5],\n",
       "       [2, 3, 4, 5, 0],\n",
       "       [3, 4, 5, 0, 0],\n",
       "       [4, 5, 0, 0, 0],\n",
       "       [5, 0, 0, 0, 0]])"
      ]
     },
     "execution_count": 1,
     "metadata": {},
     "output_type": "execute_result"
    }
   ],
   "source": [
    "from scipy.linalg import hankel\n",
    "\n",
    "\n",
    "v = [1, 2, 3, 4, 5]\n",
    "V = hankel(v);\n",
    "V"
   ]
  },
  {
   "cell_type": "code",
   "execution_count": 2,
   "id": "558f1c5c",
   "metadata": {},
   "outputs": [
    {
     "data": {
      "text/plain": [
       "array([[1, 2, 3, 4, 5, 2, 3, 4, 5, 0, 3, 4, 5, 0, 0, 4, 5, 0, 0, 0, 5, 0,\n",
       "        0, 0, 0],\n",
       "       [2, 3, 4, 5, 2, 3, 4, 5, 0, 3, 4, 5, 0, 0, 4, 5, 0, 0, 0, 5, 0, 0,\n",
       "        0, 0, 0],\n",
       "       [3, 4, 5, 2, 3, 4, 5, 0, 3, 4, 5, 0, 0, 4, 5, 0, 0, 0, 5, 0, 0, 0,\n",
       "        0, 0, 0],\n",
       "       [4, 5, 2, 3, 4, 5, 0, 3, 4, 5, 0, 0, 4, 5, 0, 0, 0, 5, 0, 0, 0, 0,\n",
       "        0, 0, 0],\n",
       "       [5, 2, 3, 4, 5, 0, 3, 4, 5, 0, 0, 4, 5, 0, 0, 0, 5, 0, 0, 0, 0, 0,\n",
       "        0, 0, 0],\n",
       "       [2, 3, 4, 5, 0, 3, 4, 5, 0, 0, 4, 5, 0, 0, 0, 5, 0, 0, 0, 0, 0, 0,\n",
       "        0, 0, 0],\n",
       "       [3, 4, 5, 0, 3, 4, 5, 0, 0, 4, 5, 0, 0, 0, 5, 0, 0, 0, 0, 0, 0, 0,\n",
       "        0, 0, 0],\n",
       "       [4, 5, 0, 3, 4, 5, 0, 0, 4, 5, 0, 0, 0, 5, 0, 0, 0, 0, 0, 0, 0, 0,\n",
       "        0, 0, 0],\n",
       "       [5, 0, 3, 4, 5, 0, 0, 4, 5, 0, 0, 0, 5, 0, 0, 0, 0, 0, 0, 0, 0, 0,\n",
       "        0, 0, 0],\n",
       "       [0, 3, 4, 5, 0, 0, 4, 5, 0, 0, 0, 5, 0, 0, 0, 0, 0, 0, 0, 0, 0, 0,\n",
       "        0, 0, 0],\n",
       "       [3, 4, 5, 0, 0, 4, 5, 0, 0, 0, 5, 0, 0, 0, 0, 0, 0, 0, 0, 0, 0, 0,\n",
       "        0, 0, 0],\n",
       "       [4, 5, 0, 0, 4, 5, 0, 0, 0, 5, 0, 0, 0, 0, 0, 0, 0, 0, 0, 0, 0, 0,\n",
       "        0, 0, 0],\n",
       "       [5, 0, 0, 4, 5, 0, 0, 0, 5, 0, 0, 0, 0, 0, 0, 0, 0, 0, 0, 0, 0, 0,\n",
       "        0, 0, 0],\n",
       "       [0, 0, 4, 5, 0, 0, 0, 5, 0, 0, 0, 0, 0, 0, 0, 0, 0, 0, 0, 0, 0, 0,\n",
       "        0, 0, 0],\n",
       "       [0, 4, 5, 0, 0, 0, 5, 0, 0, 0, 0, 0, 0, 0, 0, 0, 0, 0, 0, 0, 0, 0,\n",
       "        0, 0, 0],\n",
       "       [4, 5, 0, 0, 0, 5, 0, 0, 0, 0, 0, 0, 0, 0, 0, 0, 0, 0, 0, 0, 0, 0,\n",
       "        0, 0, 0],\n",
       "       [5, 0, 0, 0, 5, 0, 0, 0, 0, 0, 0, 0, 0, 0, 0, 0, 0, 0, 0, 0, 0, 0,\n",
       "        0, 0, 0],\n",
       "       [0, 0, 0, 5, 0, 0, 0, 0, 0, 0, 0, 0, 0, 0, 0, 0, 0, 0, 0, 0, 0, 0,\n",
       "        0, 0, 0],\n",
       "       [0, 0, 5, 0, 0, 0, 0, 0, 0, 0, 0, 0, 0, 0, 0, 0, 0, 0, 0, 0, 0, 0,\n",
       "        0, 0, 0],\n",
       "       [0, 5, 0, 0, 0, 0, 0, 0, 0, 0, 0, 0, 0, 0, 0, 0, 0, 0, 0, 0, 0, 0,\n",
       "        0, 0, 0],\n",
       "       [5, 0, 0, 0, 0, 0, 0, 0, 0, 0, 0, 0, 0, 0, 0, 0, 0, 0, 0, 0, 0, 0,\n",
       "        0, 0, 0],\n",
       "       [0, 0, 0, 0, 0, 0, 0, 0, 0, 0, 0, 0, 0, 0, 0, 0, 0, 0, 0, 0, 0, 0,\n",
       "        0, 0, 0],\n",
       "       [0, 0, 0, 0, 0, 0, 0, 0, 0, 0, 0, 0, 0, 0, 0, 0, 0, 0, 0, 0, 0, 0,\n",
       "        0, 0, 0],\n",
       "       [0, 0, 0, 0, 0, 0, 0, 0, 0, 0, 0, 0, 0, 0, 0, 0, 0, 0, 0, 0, 0, 0,\n",
       "        0, 0, 0],\n",
       "       [0, 0, 0, 0, 0, 0, 0, 0, 0, 0, 0, 0, 0, 0, 0, 0, 0, 0, 0, 0, 0, 0,\n",
       "        0, 0, 0]])"
      ]
     },
     "execution_count": 2,
     "metadata": {},
     "output_type": "execute_result"
    }
   ],
   "source": [
    "V = hankel(V);\n",
    "V"
   ]
  },
  {
   "cell_type": "code",
   "execution_count": 3,
   "id": "a07e0f8e",
   "metadata": {},
   "outputs": [
    {
     "data": {
      "text/plain": [
       "(25, 25)"
      ]
     },
     "execution_count": 3,
     "metadata": {},
     "output_type": "execute_result"
    }
   ],
   "source": [
    "V.shape"
   ]
  },
  {
   "cell_type": "code",
   "execution_count": 4,
   "id": "69abe389",
   "metadata": {},
   "outputs": [
    {
     "data": {
      "text/plain": [
       "array([[1, 2, 3, ..., 0, 0, 0],\n",
       "       [2, 3, 4, ..., 0, 0, 0],\n",
       "       [3, 4, 5, ..., 0, 0, 0],\n",
       "       ...,\n",
       "       [0, 0, 0, ..., 0, 0, 0],\n",
       "       [0, 0, 0, ..., 0, 0, 0],\n",
       "       [0, 0, 0, ..., 0, 0, 0]])"
      ]
     },
     "execution_count": 4,
     "metadata": {},
     "output_type": "execute_result"
    }
   ],
   "source": [
    "V = hankel(V);\n",
    "V"
   ]
  },
  {
   "cell_type": "code",
   "execution_count": 5,
   "id": "664a2d09",
   "metadata": {},
   "outputs": [
    {
     "data": {
      "text/plain": [
       "(625, 625)"
      ]
     },
     "execution_count": 5,
     "metadata": {},
     "output_type": "execute_result"
    }
   ],
   "source": [
    "V.shape"
   ]
  },
  {
   "cell_type": "code",
   "execution_count": 6,
   "id": "bf1e2d61",
   "metadata": {},
   "outputs": [
    {
     "data": {
      "text/plain": [
       "array([[1, 2, 3, 4, 5],\n",
       "       [2, 1, 2, 3, 4],\n",
       "       [3, 2, 1, 2, 3],\n",
       "       [4, 3, 2, 1, 2],\n",
       "       [5, 4, 3, 2, 1]])"
      ]
     },
     "execution_count": 6,
     "metadata": {},
     "output_type": "execute_result"
    }
   ],
   "source": [
    "from scipy.linalg import toeplitz\n",
    "V = toeplitz(v);\n",
    "V"
   ]
  },
  {
   "cell_type": "code",
   "execution_count": 7,
   "id": "43176d63",
   "metadata": {},
   "outputs": [
    {
     "data": {
      "text/plain": [
       "array([[1, 5, 4, 3, 2],\n",
       "       [2, 1, 5, 4, 3],\n",
       "       [3, 2, 1, 5, 4],\n",
       "       [4, 3, 2, 1, 5],\n",
       "       [5, 4, 3, 2, 1]])"
      ]
     },
     "execution_count": 7,
     "metadata": {},
     "output_type": "execute_result"
    }
   ],
   "source": [
    "from scipy.linalg import circulant\n",
    "V = circulant(v);\n",
    "V"
   ]
  },
  {
   "cell_type": "markdown",
   "id": "6d8fca9f",
   "metadata": {},
   "source": [
    "##### TensorLab Hankelization : Will lead to curse of dimensionality, and reduced forms are performed by tensor factorisation"
   ]
  },
  {
   "cell_type": "code",
   "execution_count": 216,
   "id": "6427f77f",
   "metadata": {},
   "outputs": [],
   "source": [
    "import numpy as np\n",
    "import tensorly as tl\n",
    "\n",
    "    \n",
    "def hankelize(X, **kwargs):\n",
    "    defaultKwargs = { 'Order': 2,\n",
    "        'Dim': 1,\n",
    "        'Sizes': np.NaN,\n",
    "        'Ind': np.NaN,\n",
    "        'PermToFirst': False,\n",
    "        'Full': 'auto',\n",
    "        'FullLimit': 1}\n",
    "    order = kwargs.get('Order', 2)\n",
    "    dim = kwargs.get('Dim', 1)\n",
    "    sizes = kwargs.get('Sizes', np.NaN)\n",
    "    ind = kwargs.get('Ind', np.NaN)\n",
    "    perm_to_first = kwargs.get('PermToFirst', False)\n",
    "    full = kwargs.get('Full', 'auto')\n",
    "    full_limit = kwargs.get('FullLimit', 1)\n",
    "    \n",
    "    args = {'Order': order,\n",
    "        'Dim': dim,\n",
    "        'Sizes': sizes,\n",
    "        'Ind': ind,\n",
    "        'PermToFirst': perm_to_first,\n",
    "        'Full': full,\n",
    "        'FullLimit': full_limit}\n",
    "    KeepUnmatched = False\n",
    "    isdefault =  args ==defaultKwargs\n",
    "    shared_items = {k: args[k] for k in args if k in defaultKwargs and args[k] == defaultKwargs[k]}\n",
    "    \n",
    "    if dim > np.ndim(X):\n",
    "        raise ValueError('The given dimension is too large!')\n",
    "    if dim == 2 and np.ndim(X) == 1:\n",
    "        X = np.reshape(X, (-1, 1)) # Row to column vector: reshape(-1, 1) \n",
    "        \n",
    "    X = np.array(X)    \n",
    "    sx = np.shape(X)\n",
    "    N = sx[dim-1]\n",
    "    size_other = sx[dim:]  # list(sx[:dim-1]) + list(sx[dim:])\n",
    "    \n",
    "    if size_other == [1]:\n",
    "        size_other = []\n",
    "    \n",
    "    # Matricize the data\n",
    "    if np.ndim(X) == 2:\n",
    "        if dim == 2:\n",
    "            Xmat = X.transpose()\n",
    "        else:\n",
    "            Xmat = X\n",
    "    else:\n",
    "        Xmat = tl.unfold(X, dim-1)\n",
    "    Xmat.squeeze()\n",
    "    print (\"input shape: \" , Xmat.shape)\n",
    "        \n",
    "    if order < 2:\n",
    "        raise ValueError('The order must be larger than or equal to 2!')\n",
    "    \n",
    "    #  Set PermToFirst \n",
    "    if perm_to_first == False:\n",
    "        perm_to_first = False\n",
    "    \n",
    "    if not isinstance(perm_to_first, bool):\n",
    "        raise ValueError('The option PermToFirst should be a boolean!')\n",
    "        \n",
    "    \n",
    "    if perm_to_first: \n",
    "        perm_to_first = 1;\n",
    "    else: \n",
    "        perm_to_first = dim;\n",
    "   \n",
    "    # Set the default values\n",
    "    if order == 2:\n",
    "        if np.all(np.isnan(ind)):\n",
    "            if np.all(np.isnan(sizes)):\n",
    "                ind = np.ceil(np.arange(1, order) * N / order)\n",
    "                ind = ind.astype(np.int64)\n",
    "                print (\"Order: \" , order)\n",
    "                print (\"ind: \" , ind)\n",
    "            else:\n",
    "                order = len(sizes)+1\n",
    "                print (\"Order: \" , order)\n",
    "                print (\"ind: \" , ind)\n",
    "                print (\"sizes: \" , sizes)\n",
    "\n",
    "                ind = np.cumsum(sizes) - np.arange(0, order-1)\n",
    "        else:\n",
    "            order = len(ind) \n",
    "            if np.all(not np.isnan(sizes)) and (len(ind) != len(sizes) or not np.all(ind == np.cumsum(sizes) - np.arange(0, order-1))):\n",
    "                raise ValueError('The option fields Ind and Sizes do not correspond!')\n",
    "\n",
    "        if order != len(ind)+1:\n",
    "            raise ValueError('The number of indices should be equal to order-1!')\n",
    "    else:\n",
    "        if np.all(np.isnan(ind)):\n",
    "            if np.all(np.isnan(sizes)):\n",
    "                ind = np.ceil(np.arange(1, order) * N / order)\n",
    "                ind = ind.astype(np.int64)\n",
    "            else:\n",
    "                if len(sizes)!=order:\n",
    "                    raise ValueError('The number of sizes should be equal to order-1')\n",
    "                ind = np.cumsum(sizes) - np.arange(0, order-1)\n",
    "        else:\n",
    "            if np.all(not np.isnan(sizes)) and (len(ind)!=len(sizes) or\n",
    "                    np.any(ind!=np.cumsum(sizes)-np.arange(0, order-1))):\n",
    "                raise ValueError('The option fields ind and sizes do not correspond!')\n",
    "    \n",
    "    if(order!=len(ind)+1):\n",
    "        raise ValueError('The number of indices should be equal to order-1!')\n",
    "    print (\"N: \" , N)\n",
    "    print (\"Dim: \" , dim)\n",
    "    print (\"Order: \" , order)\n",
    "    print (\"ind: \" , ind)\n",
    "    print (\"sizes: \" , sizes)\n",
    "    print (\"perm_to_first: \" , perm_to_first)\n",
    "    print (\"size_other: \" , size_other)\n",
    "               \n",
    "    # Determine the size of the Hankel matrices/tensors\n",
    "    #size_hankel = np.array([ind, N]) - np.array([0] + list(ind[:-1]))\n",
    "    xx = np.hstack((ind, N))\n",
    "    yy = np.hstack(([0], np.subtract(ind, 1)))\n",
    "    size_hankel = np.subtract(xx, yy)\n",
    "    print (\"size_hankel: \" , size_hankel)\n",
    "    \n",
    "    if np.any(size_hankel < 0):\n",
    "        raise ValueError('The indices should increase monotonically between 0 and N!')\n",
    "        \n",
    "    if order > N:\n",
    "        raise ValueError('The order should not be larger than the number of elements in the tensorized dimension!')  \n",
    "    whosX = X.nbytes / X.shape[dim-1] * np.prod(size_hankel)\n",
    "    totalbytes = whosX\n",
    "    print (\"Total required Bytes are: \" , totalbytes)\n",
    "    print (\"full: \" , full)\n",
    "    print (\"full_limit: \" , full_limit)\n",
    "    print (\"full_limit * 2**30: \" , full_limit * 2**30)\n",
    "    if full == 'auto':\n",
    "        if totalbytes > full_limit * 2**30:\n",
    "            full = False\n",
    "            print('The fullLimit has been reached, and instead of the dense tensor, the efficient representation is returned. The dense tensor can be obtained by setting the \"full\" option to True.')\n",
    "        else:\n",
    "            full = True\n",
    "    \n",
    "    t = order+ np.arange(1,perm_to_first)           \n",
    "    repermorder = np.hstack(\n",
    "        (order+ np.arange(1,perm_to_first), np.arange(1, order), np.arange(order+perm_to_first-1,len(np.hstack((size_hankel,size_other)))+1)))\n",
    "    #print (\"repermorder: \", repermorder)\n",
    "    hstruct = None\n",
    "    xx = np.hstack((size_hankel,size_other))\n",
    "    yy = np.squeeze(np.ones((1 , len(repermorder) - len(np.hstack((size_hankel, size_other)))+1)))\n",
    "    structSize = np.hstack((xx, yy))\n",
    "    if (full is True) or (hstruct is not None):\n",
    "        hstruct = {\n",
    "            'type': 'hankel',\n",
    "            'val': Xmat,\n",
    "            'dim': dim,\n",
    "            'order': order,\n",
    "            'ind': ind,\n",
    "            'ispermuted': perm_to_first != dim,\n",
    "            'repermorder': repermorder,\n",
    "            'size': structSize,\n",
    "            'size' : structSize[repermorder],\n",
    "            'subsize': {\n",
    "                'hankel': size_hankel,\n",
    "                'other': size_other\n",
    "            }\n",
    "        }\n",
    "    print (\"hstruct\", hstruct)    \n",
    "    if full is True:\n",
    "        allind2 = subhankel(size_hankel)\n",
    "        H = Xmat[allind2, :]\n",
    "        xx = np.hstack((size_hankel, size_other))\n",
    "        xx = xx.astype(np.int64)\n",
    "        H = H.reshape(xx)\n",
    "        if perm_to_first != 1:\n",
    "            H = np.transpose(H, axes=repermorder)\n",
    "    else:\n",
    "        H = hstruct\n",
    "        \n",
    "    return H\n",
    "\n",
    "def subhankel(sizes):\n",
    "    lidx = np.transpose(np.arange(1, sizes[0]+1))\n",
    "    for i in range(1, len(sizes)):\n",
    "        ridx = np.arange(0, sizes[i])\n",
    "        xx = np.squeeze(np.hstack(( np.ones(( i+1)) , len(ridx))))\n",
    "        xx = xx.astype(np.int64)\n",
    "        ridx = ridx.reshape(xx)\n",
    "        lidx =  np.add.outer(lidx, ridx)\n",
    "        \n",
    "    allind = list(lidx.flatten())\n",
    "    allind = np.subtract(allind, 1)\n",
    "    return allind"
   ]
  },
  {
   "cell_type": "code",
   "execution_count": 217,
   "id": "3feaeea5",
   "metadata": {},
   "outputs": [],
   "source": [
    "def getstructure(*args):\n",
    "    ## not tested for all types, but works for full and cpd as done below    \n",
    "    if len(args) == 1:\n",
    "        if isinstance(args[0], (int, float)):\n",
    "            structure = 'full'\n",
    "        if isinstance(args[0], (np.ndarray)):\n",
    "            if all(item.shape[0] == 2 for item in args[0]):\n",
    "                    structure = 'cpd'            \n",
    "            #else: ## no need to differentiate tt from full np.arrays now until tt formats are used.  ideas can be to encapsulate in a higher dimn for one of them to make the first shape =1 for example, when needed\n",
    "            #    structure = 'tt'\n",
    "            else:\n",
    "                structure = 'full'    \n",
    "        elif all(isinstance(item, (list, tuple)) for item in args[0]): # need to make sure these are the types used in the python code\n",
    "            structure = 'btd' # in matlab this was cell array of cells - cells in python can be lists or tuples to differentitate them from np.arrays\n",
    "        elif len(args[0]) > 1 and len(args[0]) == 2 and isinstance(args[0][0], (list, tuple)) and isinstance(args[0][1], (int, float)):\n",
    "            structure = 'lmlra' # this was when first agrument has length == 2 and has first element as cell and second as numeric\n",
    "            \n",
    "            #else:\n",
    "            #    raise ValueError('Unknown structure')\n",
    "        elif isinstance(args[0], dict):\n",
    "            if 'incomplete' in args[0] and args[0]['incomplete']:\n",
    "                structure = 'incomplete'\n",
    "            elif 'sparse' in args[0] and args[0]['sparse']:\n",
    "                structure = 'sparse'\n",
    "            elif 'type' in args[0]:\n",
    "                structure = args[0]['type']\n",
    "            else:\n",
    "                raise ValueError('Unknown structure')\n",
    "        else:\n",
    "            raise ValueError('Unknown structure')\n",
    "    elif len(args) == 2:\n",
    "        if isinstance(args[0], (list, tuple)) and isinstance(args[1], (int, float)):\n",
    "            structure = 'lmlra'\n",
    "        else:\n",
    "            raise ValueError('Unknown structure')\n",
    "    else:\n",
    "        raise ValueError('Unknown structure')\n",
    "    \n",
    "    return structure"
   ]
  },
  {
   "cell_type": "code",
   "execution_count": 218,
   "id": "922f109e",
   "metadata": {},
   "outputs": [],
   "source": [
    "def getorder(T, S=None):\n",
    "    try:\n",
    "        structure = getstructure(T)\n",
    "        if structure == 'full':\n",
    "            return len(T.shape)\n",
    "        elif structure in ['incomplete', 'sparse']:\n",
    "            if 'size' in T:\n",
    "                return len(T['size'])\n",
    "            else:\n",
    "                raise ValueError('T has an invalid structure')\n",
    "        elif structure == 'cpd':\n",
    "            return len(T)\n",
    "        elif structure == 'lmlra':\n",
    "            if S is None:\n",
    "                return len(T[0])\n",
    "            else:\n",
    "                return len(T)\n",
    "        elif structure == 'btd':\n",
    "            return len(T[0])-1\n",
    "        elif structure == 'tt':\n",
    "            return len(T)\n",
    "        elif structure in ['hankel', 'loewner', 'segment', 'decimate']:\n",
    "            if 'size' in T:\n",
    "                return len(T['size'])\n",
    "            else:\n",
    "                raise ValueError('T has an invalid structure')\n",
    "        else:\n",
    "            raise ValueError('T has an unknown structure')\n",
    "    except getstructure.UnknownStructureError:\n",
    "        raise ValueError('T has an unknown structure')"
   ]
  },
  {
   "cell_type": "code",
   "execution_count": 219,
   "id": "be6c06ca",
   "metadata": {},
   "outputs": [
    {
     "name": "stdout",
     "output_type": "stream",
     "text": [
      "U.shape:  (3, 4, 3)\n",
      "T:  [[[ 18  36  54]\n",
      "  [ 36  72 108]\n",
      "  [ 54 108 162]]\n",
      "\n",
      " [[ 18  36  54]\n",
      "  [ 36  72 108]\n",
      "  [ 54 108 162]]\n",
      "\n",
      " [[ 18  36  54]\n",
      "  [ 36  72 108]\n",
      "  [ 54 108 162]]]\n",
      "T.shape:  (3, 3, 3)\n",
      "type of indices:  <class 'numpy.ndarray'>\n",
      "T_subset indices = [1, 2, 3]:  [18 18 18]\n",
      "T_subset.shape:  (3,)\n"
     ]
    },
    {
     "name": "stderr",
     "output_type": "stream",
     "text": [
      "C:\\Users\\DELLPR~1\\AppData\\Local\\Temp/ipykernel_18176/1468056951.py:16: FutureWarning: elementwise comparison failed; returning scalar instead, but in the future will perform elementwise comparison\n",
      "  if indices[0] == ':':\n"
     ]
    },
    {
     "data": {
      "text/plain": [
       "'\\n\\nNote: You need to replace `U1`, `U2`, ..., `UK`, `S1`, `S2`, ..., `SL` with the actual matrices or arrays that make up the BTD.\\n'"
      ]
     },
     "execution_count": 219,
     "metadata": {},
     "output_type": "execute_result"
    }
   ],
   "source": [
    "import numpy as np\n",
    "# BLOCK-Term Decomposition (BTD) \n",
    "# BTDGEN Generate full tensor given a BTD.\n",
    "def btdgen(U, *indices):\n",
    "    N = len(U[0]) - 1\n",
    "    size_tens = [np.size(U[0][n], 0) for n in range(N)]\n",
    "    if len(indices) == 0:\n",
    "        T = U[0][0] @ np.kron(U[0][-1].T, [U[0][n] for n in range(N)]) \n",
    "        #T = np.resize(T, size_tens)\n",
    "        for r in range(1, len(U)):\n",
    "            T = T + U[r][0] @ np.kron(U[r][-1].T, [U[r][n] for n in range(N)])\n",
    "        T = np.resize(T, size_tens)\n",
    "        return T\n",
    "    \n",
    "    elif len(indices) == 1:\n",
    "        if indices[0] == ':':\n",
    "            T = btdgen(U).flatten()\n",
    "            return T\n",
    "        \n",
    "        size_output = np.shape(indices[0])\n",
    "        T = 0        \n",
    "        if indices[0].ndim == 1:  # Linear indexing\n",
    "            sub = np.unravel_index(indices[0], size_tens)\n",
    "        else:\n",
    "            sub = indices[0]\n",
    "\n",
    "        sub = np.array(sub)\n",
    "        sub = sub.astype(np.int64)\n",
    "\n",
    "        for r in range(len(U)):\n",
    "            S = U[r][N]\n",
    "            size_core = [np.size(U[r][n]) for n in range(len(U[r]) - 1)]\n",
    "            idx = np.zeros((1, len(U[r])-1), dtype=np.int64) \n",
    "            idx = idx.squeeze()\n",
    "            for i in range(np.size(S)):\n",
    "                tmp = np.dot (S[idx[i]] , U[r][0][sub[0][idx[0]]])\n",
    "                for n in range(1, len(size_core)):\n",
    "                    tmp =  np.dot(tmp , U[r][n][sub[n][ idx[n]]])\n",
    "                \n",
    "                T = T + tmp\n",
    "        \n",
    "        return np.resize(T, size_output)\n",
    "    \n",
    "    elif len(indices) == N + 1:\n",
    "        for r in range(len(U)):\n",
    "            for n in range(N):\n",
    "                U[r][n] = U[r][n][np.ix_(indices[n])]\n",
    "        \n",
    "        return btdgen(U)\n",
    "    \n",
    "    else:\n",
    "        raise ValueError(\"Either linear or subscripts indices should be provided\")\n",
    "\n",
    "'''\n",
    "\n",
    "\n",
    "You can use this function by passing the BTD tensor `U` and the desired indices as arguments. For example:\n",
    "\n",
    "'''\n",
    "U1 = [1, 2, 3]\n",
    "U2 = [1, 2, 3]\n",
    "U3 = [1, 2, 3]\n",
    "S1 = [1, 2, 3]\n",
    "S2 = [1, 2, 3]\n",
    "S3 = [1, 2, 3]\n",
    "\n",
    "U = [[U1, U2, U3, S1],\n",
    "     [U1, U2, U3, S2],\n",
    "     [U1, U2, U3, S3]]\n",
    "U = np.array(U)\n",
    "print (\"U.shape: \", U.shape)\n",
    "T = btdgen(U)  # Compute the full tensor T\n",
    "print (\"T: \",T)\n",
    "print (\"T.shape: \",T.shape)\n",
    "indices = np.array([1, 2, 3])\n",
    "indices = indices.astype(np.int64)\n",
    "print (\"type of indices: \", type(indices))\n",
    "T_subset = btdgen(U, indices)  # Compute a subset of the tensor T\n",
    "print (\"T_subset indices = [1, 2, 3]: \",T_subset)\n",
    "print (\"T_subset.shape: \",T_subset.shape)\n",
    "'''\n",
    "\n",
    "Note: You need to replace `U1`, `U2`, ..., `UK`, `S1`, `S2`, ..., `SL` with the actual matrices or arrays that make up the BTD.\n",
    "'''"
   ]
  },
  {
   "cell_type": "code",
   "execution_count": 220,
   "id": "81f17841",
   "metadata": {},
   "outputs": [],
   "source": [
    "import numpy as np\n",
    "from scipy.sparse import coo_matrix\n",
    "\n",
    "def ful(T, *args):\n",
    "    type = getstructure(T)\n",
    "    if type == 'full':\n",
    "        if len(args) > 0:\n",
    "            T = T[args]\n",
    "    elif type == 'cpd':\n",
    "        T = cpdgen(T, *args)\n",
    "    elif type == 'lmlra':\n",
    "        T = lmlragen(T[0], T[1], *args)\n",
    "    elif type == 'btd':\n",
    "        T = btdgen(T, *args)\n",
    "    elif type == 'tt':\n",
    "        T = ttgen(T, *args)\n",
    "    elif type == 'hankel':\n",
    "        if len(args) == 0:\n",
    "            H = hankelize(T.val, dim=1, order=T.order, ind=T.ind, full=True, perm=True, fullLimit=np.inf)\n",
    "            H = np.reshape(H, [T.subsize.hankel, T.subsize.other])\n",
    "            T = permute(H, T.repermorder)\n",
    "        elif len(args) == 1:\n",
    "            if args[0] == ':':\n",
    "                T = np.reshape(ful(T), [-1, 1])\n",
    "                return T\n",
    "            sub = []\n",
    "            for i in range(getorder(T)):\n",
    "                sub.append(np.unravel_index(args[0], getsize(T)[i]))\n",
    "        elif len(args) == getorder(T) + 1:\n",
    "            for i in range(len(args)):\n",
    "                if args[i] == ':':\n",
    "                    args[i] = np.arange(1, T.size[i] + 1)\n",
    "            sub = np.meshgrid(*args, indexing='ij')\n",
    "            sub = [np.ravel(x) for x in sub]\n",
    "        else:\n",
    "            raise ValueError('Either linear or subscripts indices should be provided')\n",
    "        \n",
    "        if len(args) > 0:\n",
    "            otherdims = list(range(1, T.dim)) + list(range(T.dim + T.order, getorder(T)))\n",
    "            dims = list(range(T.dim, T.dim + T.order))\n",
    "            dataind = np.sum(np.stack(sub)[dims], axis=0) - T.order + 1\n",
    "            if len(otherdims) == 0:\n",
    "                dataotherind = np.ones_like(dataind)\n",
    "            elif len(otherdims) == 1:\n",
    "                dataotherind = sub[otherdims[0]]\n",
    "            else:\n",
    "                dataotherind = np.ravel_multi_index(sub[otherdims], T.subsize.other)\n",
    "            \n",
    "            valind = np.ravel_multi_index([dataind, dataotherind], T.val.shape)\n",
    "            \n",
    "            if len(args) == 2:\n",
    "                T = np.reshape(T.val[valind], args[0].shape)\n",
    "            else:\n",
    "                shape = [len(arg) for arg in args]\n",
    "                T = np.reshape(T.val[valind], shape)\n",
    "            \n",
    "    elif type == 'loewner':\n",
    "        if len(args) == 0:\n",
    "            L = loewnerize(T.val, dim=1, order=T.order, ind=T.ind, full=True, perm=True, t=T.t, fullLimit=np.inf)\n",
    "            L = np.reshape(L, [T.subsize.loewner, T.subsize.other])\n",
    "            T = permute(L, T.repermorder)\n",
    "        elif len(args) == 1:\n",
    "            if args[0] == ':':\n",
    "                T = np.reshape(ful(T), [-1, 1])\n",
    "                return T\n",
    "            sub = []\n",
    "            for i in range(getorder(T)):\n",
    "                sub.append(np.unravel_index(args[0], getsize(T)[i]))\n",
    "        elif len(args) == getorder(T) + 1:\n",
    "            for i in range(len(args)):\n",
    "                if args[i] == ':':\n",
    "                    args[i] = np.arange(1, T.size[i] + 1)\n",
    "            sub = np.meshgrid(*args, indexing='ij')\n",
    "            sub = [np.ravel(x) for x in sub]\n",
    "        else:\n",
    "            raise ValueError('Either linear or subscripts indices should be provided')\n",
    "        \n",
    "        if len(args) > 0:\n",
    "            otherdims = list(range(1, T.dim)) + list(range(T.dim + T.order, getorder(T)))\n",
    "            dims = list(range(T.dim, T.dim + T.order))\n",
    "            \n",
    "            if len(otherdims) == 1:\n",
    "                dataotherind = sub[otherdims[0]]\n",
    "            elif len(otherdims) > 1:\n",
    "                dataotherind = np.ravel_multi_index(sub[otherdims], T.subsize.other)\n",
    "            \n",
    "            totaldata = 0\n",
    "            for i in range(len(dims)):\n",
    "                idx = T.ind[i][sub[dims[i]]].T\n",
    "                \n",
    "                if len(otherdims) == 0:\n",
    "                    linidx = idx\n",
    "                else:\n",
    "                    linidx = np.ravel_multi_index([idx, dataotherind], T.val.shape)\n",
    "                \n",
    "                data = T.val[linidx]\n",
    "                for o in list(range(1, i)) + list(range(i + 1, len(dims))):\n",
    "                    data = data / (T.t[T.ind[i][sub[dims[i]]]] - T.t[T.ind[o][sub[dims[o]]]])\n",
    "                \n",
    "                totaldata = totaldata + data\n",
    "            \n",
    "            if len(args) == 2:\n",
    "                T = np.reshape(totaldata, args[0].shape)\n",
    "            else:\n",
    "                shape = [len(arg) for arg in args]\n",
    "                T = np.reshape(totaldata, shape)\n",
    "    \n",
    "    elif type in ['incomplete', 'sparse']:\n",
    "        val = T.val\n",
    "        size_tens = T.size\n",
    "        \n",
    "        if len(args) == 0:\n",
    "            if 8 * np.prod(size_tens) > 8e9:\n",
    "                raise ValueError('T is too large to be stored as an array.')\n",
    "            if not hasattr(T, 'ind'):\n",
    "                ind = np.ravel_multi_index(T.sub, size_tens)\n",
    "            else:\n",
    "                ind = T.ind\n",
    "            \n",
    "            if type == 'sparse':\n",
    "                T = coo_matrix((val, (ind, np.zeros_like(ind))), shape=size_tens).toarray()\n",
    "            else:\n",
    "                T = np.full(size_tens, np.nan)\n",
    "                T[ind] = val\n",
    "        elif len(args) == 1:\n",
    "            if args[0] == ':':\n",
    "                T = np.reshape(ful(T), [-1, 1])\n",
    "                return T\n",
    "            if not hasattr(T, 'ind'):\n",
    "                T = fmt(T)\n",
    "            if type == 'incomplete':\n",
    "                val = np.full(args[0].shape, np.nan)\n",
    "            else:\n",
    "                val = np.zeros(args[0].shape)\n",
    "            ia, ib = np.isin(args[0], T.ind)\n",
    "            val[ia] = T.val[ib[ia]]\n",
    "            T = val\n",
    "        elif len(args) == len(size_tens) + 1:\n",
    "            size_result = [len(arg) for arg in args]\n",
    "            if 8 * np.prod(size_result) > 8e9:\n",
    "                raise ValueError('T is too large to be stored as an array.')\n",
    "            if not hasattr(T, 'ind'):\n",
    "                T = fmt(T)\n",
    "            if type == 'incomplete':\n",
    "                val = np.full(size_result, np.nan)\n",
    "            else:\n",
    "                val = np.zeros(size_result)\n",
    "            sub = np.meshgrid(*args, indexing='ij')\n",
    "            ind = np.ravel_multi_index(sub, T.size)\n",
    "            ia, ib = np.isin(ind, T.ind)\n",
    "            val[ia] = T.val[ib[ia]]\n",
    "            T = val\n",
    "        else:\n",
    "            raise ValueError('Either linear or subscripts indices should be provided')\n",
    "    \n",
    "    elif type == 'segment':\n",
    "        X = desegmentize(T)\n",
    "        X = segmentize(X, dim=T.dim, order=T.order, segsize=T.segsize, perm=T.ispermuted, shift=T.shift)\n",
    "        T = ful(X, *args)\n",
    "    \n",
    "    elif type == 'decimate':\n",
    "        X = dedecimate(T)\n",
    "        X = decimate(X, dim=T.dim, order=T.order, subsample=T.subsample, perm=T.ispermuted, shift=T.shift)\n",
    "        T = ful(X, *args)\n",
    "    \n",
    "    else:\n",
    "        raise ValueError('Unknown structured tensor type.')\n",
    "\n",
    "    return T"
   ]
  },
  {
   "cell_type": "code",
   "execution_count": 221,
   "id": "07583b62",
   "metadata": {},
   "outputs": [],
   "source": [
    "import numpy as np\n",
    "import scipy.fftpack as fft\n",
    "from scipy.sparse import csr_matrix\n",
    "from scipy.linalg import khatri_rao as kr \n",
    "import itertools\n",
    "# This function attempts to write in Python the similar function in Tensorlab Matlab toolbox\n",
    "# I kept only some options working, and others attempted without testing, and others not attempted at all\n",
    "\n",
    "def dehankelize(H, **kwargs):\n",
    "    def hankel_freq(order, size_hankel, N):\n",
    "        # Construct the frequencies of the data - it seems not correct\n",
    "        if order == 2:\n",
    "            m = min(size_hankel[0], N-size_hankel[0]+1)\n",
    "            w = np.concatenate((np.arange(1, m), m*np.ones(N-2*m+2), np.arange(m-1, 0, -1)))\n",
    "            w = w.reshape(-1, 1) # transpose\n",
    "        else:\n",
    "            w = np.fft.fft(np.ones(size_hankel[0]), N)\n",
    "            if w.shape[0] == 1:\n",
    "                w = w.reshape(1, -1)\n",
    "            for i in range(1, len(size_hankel)):\n",
    "                tmp = np.fft.fft(np.ones(size_hankel[i]), N)\n",
    "                if tmp.shape[0] == 1:\n",
    "                    w = w * tmp.reshape(1, -1)\n",
    "                else:\n",
    "                    w = w * tmp\n",
    "            w = np.round(np.fft.ifft(w)).astype(int)\n",
    "    \n",
    "        return w\n",
    "\n",
    "    def sub_hankel(sizes):\n",
    "        # Construct the indices of the Hankel matrix/tensor\n",
    "        allind = np.arange(1, sizes[0] + 1)\n",
    "        for i in range(1, len(sizes)):\n",
    "            ridx = np.arange(sizes[i])\n",
    "            ridx = np.reshape(ridx, [1] * i + [len(ridx)])\n",
    "            lidx = np.add.outer(allind, ridx)\n",
    "            allind = lidx.flatten()\n",
    "\n",
    "        return allind\n",
    "    \n",
    "    defaultKwargs = { 'Order': 2,\n",
    "        'Dim': 1,\n",
    "        'Dims': np.NaN,\n",
    "        'Method':'mean',\n",
    "        'PermToDim': np.NaN,\n",
    "        'Rank':  np.NaN\n",
    "        }\n",
    "    order = kwargs.get('Order', 2)\n",
    "    dim = kwargs.get('Dim', 1)\n",
    "    dims = kwargs.get('Dims', np.NaN)\n",
    "    method = kwargs.get('Method', 'mean')\n",
    "    permToDim = kwargs.get('PermToDim', np.NaN)\n",
    "    rank = kwargs.get('Rank', np.NaN)\n",
    "    \n",
    "    args = {'Order': order,\n",
    "        'Dim': dim,\n",
    "        'Dims': dims,\n",
    "        'Method': method,\n",
    "        'PermToDim': permToDim,\n",
    "        'Rank': rank}\n",
    "    KeepUnmatched = False\n",
    "    isdefault =  args ==defaultKwargs\n",
    "    shared_items = {k: args[k] for k in args if k in defaultKwargs and args[k] == defaultKwargs[k]}\n",
    "    \n",
    "    if not np.isnan(dims):\n",
    "        if dim != 1: # not default and set by caller\n",
    "            raise ValueError('Using both the ''Dim'' and ''Dims'' option arguments is invalid!')  \n",
    "        if order != 2: # not default, set by caller\n",
    "            if dims+order-1>getorder(H):\n",
    "                raise ValueError('The given order is not consistent with the dimensions of H!')\n",
    "            if len(dims)==1:\n",
    "                dims = np.arange(dims[0],dims[0]+order)\n",
    "        else: # order is not set\n",
    "            if np.any(dims>getorder(H)):\n",
    "                raise ValueError('The given dehankelization dimensions are not consistent with the dimensions of H!')\n",
    "            order = len(dims)\n",
    "        if len(dims!=order):\n",
    "            raise ValueError('The number of detensorized dimensions should be equal to the order!');\n",
    "    else: # dims is not set by the caller\n",
    "        if dim != 1: # not default and set by caller\n",
    "            if dim+order-1>getorder(H):\n",
    "                raise ValueError('The given dehankelization dimensions are not consistent with the dimensions of H!')        \n",
    "        if order != 2 and order>getorder(H):\n",
    "            raise ValueError('The given order is not consistent with the dimensions of H!')\n",
    "        dims = np.arange(dim,(dim+order))\n",
    "    if getstructure(H)!='cpd' and not np.isnan(rank):\n",
    "        raise ValueError('The rank option is not supported when H is not a CPD!')\n",
    "    dims=np.array(dims)\n",
    "    np.reshape(dims, np.hstack((1, dims.shape)))\n",
    "    \n",
    "    \n",
    "    #dims = np.arange(dim,(dim+order))\n",
    "    #Dehankelization\n",
    "    H_str = getstructure(H)        \n",
    "    if H_str == 'full':\n",
    "        # Given a full tensor\n",
    "        sh = np.shape(H)\n",
    "        size_hankel = [sh[i-1] for i in dims]\n",
    "        print (\"order : \", order)\n",
    "        print (\"dims : \", dims)\n",
    "        print (\"sh : \", sh)\n",
    "        if method == 'fibers':\n",
    "            subs = np.tile(Ellipsis, (H.ndim))\n",
    "            print (\"subs : \", subs)\n",
    "            for i in range(1, len(subs)):\n",
    "                subs[dims[i]-1] = 0\n",
    "            #print (\"subs : \", subs)\n",
    "            X = []\n",
    "            for i in range(order):\n",
    "                if i != 0:\n",
    "                    subs[dims[i-1]-1] = H.shape[dims[i-1]-1]-1#np.squeeze(np.array(sh[dims[i-1]]-1))\n",
    "                    #print (\"1: \",i)\n",
    "                    #print (\"dims[i]-1:\" , dims[i]-1)\n",
    "                    #print (\"sh[dims[i]-1]:\" , sh[dims[i]-1])\n",
    "                    if sh[dims[i]-1] > 1:\n",
    "                        subs[dims[i]-1] =np.hstack(range(1, sh[dims[i]-1]))    \n",
    "                    if len(sh) > 2:\n",
    "                        k = 0\n",
    "                        #for x in np.nditer(subs,flags=[\"refs_ok\"], op_flags=[\"readwrite\"]):\n",
    "                        for idx, x in np.ndenumerate(subs):\n",
    "                            if isinstance(x, int):\n",
    "                                if x >=H.shape[k]:\n",
    "                                    x = x %  H.shape[k]\n",
    "                                if x <0:\n",
    "                                    x = 0\n",
    "                            else:    \n",
    "                                x = x.astype(np.int64)\n",
    "                                if x.size == 1:   \n",
    "                                    if x >=H.shape[k]:\n",
    "                                        x = x %  H.shape[k]\n",
    "                                    if x <0:\n",
    "                                        x = 0\n",
    "                                else:\n",
    "                                    for j in range( x.size):\n",
    "                                        higherdims = x[j] >=H.shape[k]\n",
    "                                        x[higherdims] = x[j] %  H.shape[k]\n",
    "                                        negdims = x[j] <0\n",
    "                                        x[negdims] = 0\n",
    "                            #x = np.where(x >= maxVal, x %  maxVal, x)\n",
    "                            #x = np.where(x < 0, 0, x)\n",
    "                            subs[k] = x\n",
    "                            k = k + 1\n",
    "                  \n",
    "                print (\"subs : \", subs)\n",
    "                tmp = H[tuple(subs)]\n",
    "                print (\"tmp: \", tmp)\n",
    "                print (\"tmp type: \", type(tmp))\n",
    "                if isinstance(tmp, (int, float)):\n",
    "                    tmp = np.array([tmp])\n",
    "                    print (\"tmp: \", tmp)\n",
    "                sizes = np.squeeze(np.hstack((np.shape(tmp) , np.squeeze( np.ones ( (1, np.ndim(H) - np.ndim(tmp)))))))\n",
    "                sizes = sizes.astype(np.int64)\n",
    "                perm_vec = list(range(H.ndim))\n",
    "                #for j in range (len(perm_vec)):\n",
    "                xx = perm_vec[0]\n",
    "                perm_vec[0] = perm_vec[dims[i]-1]\n",
    "                perm_vec[dims[i]-1] = xx\n",
    "                #print (\"perm_vec: \", perm_vec)\n",
    "                #print (\"tmp shape: \", tmp.shape)\n",
    "                #xx = perm_vec[0] \n",
    "                #perm_vec[0] = perm_vec[dims[i]-1]\n",
    "                #perm_vec[dims[i]-1] = xx\n",
    "                if len(tmp.shape) < len(perm_vec):\n",
    "                    xx = np.ones(len(perm_vec) - len(tmp.shape))\n",
    "                    xx = xx.astype(np.int64)\n",
    "                    tmp = np.reshape(tmp, np.hstack((tmp.shape, xx)))\n",
    "                #    tmp = np.reshape(tmp, np.hstack((tmp.shape, 1)))\n",
    "                #elif len(perm_vec) < len(tmp.shape):\n",
    "                #     perm_vec = np.reshape(perm_vec, np.hstack((perm_vec.shape, 1)))\n",
    "                print (\"perm_vec: \", perm_vec)\n",
    "                #print (\"tmp shape: \", tmp.shape)\n",
    "                tmp = np.transpose(tmp, tuple(perm_vec))\n",
    "                sizes = [sizes[j] for j in perm_vec]\n",
    "                #print (\"sizes after resize: \", sizes)\n",
    "                #sizes = tuple([sizes[j] for j in perm_vec if j in dims[:i] or j in dims[i+2:]])\n",
    "                print (\"sizes: \", sizes)\n",
    "                if i+1< len(dims):\n",
    "                    x = list(sizes)\n",
    "                    #x = x[perm_vec[dims[i+1]-1]:perm_vec[dims[len(dims)-1]-1]]\n",
    "                    x = x[0:perm_vec[dims[i+1]-1]]\n",
    "                    #for j in range (i+1, len(dims)):\n",
    "                   #     x.pop(perm_vec[dims[j]-1])\n",
    "                    sizes = np.array(x)\n",
    "                    print (\"sizes after pop: \", sizes)\n",
    "                if len(sizes)==1:\n",
    "                    sizes.resize ((2))\n",
    "                    sizes[1] = 1\n",
    "                print (\"sizes after resize: \", sizes)\n",
    "                if np.ndim(tmp) != 0:\n",
    "                    tmp = np.resize(tmp, sizes)\n",
    "                else:\n",
    "                    tmp = np.asarray([])\n",
    "                print (\"tmp: \", tmp)\n",
    "                tmp = tmp.squeeze()\n",
    "                print (\"tmp: \", tmp)\n",
    "                X.append(tmp)\n",
    "                print (\"X: \", X)\n",
    "            signaldim = int(dims[0] - np.sum([dims[d] for d in range(1, len(dims)) if dims[0] > dims[d]]))\n",
    "            print (\"signaldim: \", signaldim)\n",
    "            #X = np.concatenate(X, axis=signaldim-1)\n",
    "            X = np.hstack(X) #, axis=signaldim-1)\n",
    "            #X = np.resize(X, [sx[signaldim-1]]) \n",
    "            X = np.array(X)\n",
    "            \n",
    "        else: # Use another technique than fibres\n",
    "            H_mat = np.reshape(H, [-1, size_hankel[-1]]) # tensor to matrix\n",
    "            ind_f = np.cumsum(size_hankel) - np.arange(order)\n",
    "            N = ind_f[-1]\n",
    "            w = hankel_freq(order, size_hankel, N)\n",
    "            sample_ind = sub_hankel(size_hankel)\n",
    "            if method == 'mean':\n",
    "                # Extract means by performing a two-step procedure to\n",
    "                # improve accuracy\n",
    "                # first step is to dehankelize by fibers and PermtoDim 1\n",
    "                options_quick = defaultKwargs.copy()\n",
    "                options_quick['PermToDim'] = 1\n",
    "                options_quick['Method'] = 'fibers'\n",
    "                options_quick['Order'] = getorder(H)\n",
    "                x_estimate = dehankelize(H, **options_quick)\n",
    "                \n",
    "                # The following second step computes the frequenct and compute the means to subtract\n",
    "                # from the estimated matrix. The Python functions are different from Matlab\n",
    "                # I did not complete testing this part to finalise it, so result can be returned with the \n",
    "                # current estimated accuracy.\n",
    "                '''\n",
    "                #x_estimate = np.reshape(x_estimate, [-1, size_hankel[-1]]) # tensor to matrix\n",
    "                x_estimate =  np.array(x_estimate)\n",
    "                if x_estimate.ndim==1:\n",
    "                        x_estimate.resize ((x_estimate.shape[0], 1))\n",
    "                for k in range(np.size(H_mat, 1)):\n",
    "                    #diff = H_mat[:, k] - x_estimate[sample_ind-1][0]\n",
    "                    # tmp = accumarray(sampleind,diff,[],@sum)./w;\n",
    "                    tmp = np.bincount(sample_ind)/w #, weights=diff) / w\n",
    "                    x_estimate[:][k] = x_estimate[:][k] + tmp\n",
    "                    '''\n",
    "                X = x_estimate\n",
    "            else: # Extract something else than means (such as median)\n",
    "                x_estimate = np.empty((N, np.size(H_mat)))\n",
    "                for k in range(np.size(H_mat)):\n",
    "                    # xestimate(:,k) = accumarray(sampleind,Hmat(:,k),[],method);\n",
    "                    # we need a numpy function to accumulate the values given the function in the Method option\n",
    "                    # left to future work, and just using mean again \n",
    "                    x_estimate[:][k] = np.bincount(sample_ind, weights=Hmat[:][k]) / w\n",
    "                X = x_estimate\n",
    "            sx = sh \n",
    "            sx = np.array(sx).astype(float)  # because Nan is float, will convert here\n",
    "            sx[dims-1] = np.NaN\n",
    "            sx[dims[0]] = N\n",
    "            sx = sx[np.logical_not(np.isnan(sx))] # remove all Nans\n",
    "            sx = np.array(sx).astype(int) # return to int to use as index \n",
    "            signaldim = int(dims[0] - np.sum([dims[d] for d in range(1, len(dims)) if dims[0] > dims[d]]))\n",
    "            X = np.resize(x_estimate, [sx[signaldim-1]]) # mat2tens(xestimate,sx,signaldim);\n",
    "              \n",
    "               \n",
    "    elif H_str == 'hankel': # Given an efficient (block-)Hankel representation\n",
    "        print (\"Future work\")\n",
    "    elif H_str == 'cpd': # Given a representation of a tensor in rank-1 terms\n",
    "        print (\"cpd\") # the first dimension is 2, second dimension is N, third dimension is the rank,, all rank should be equal \n",
    "        H = H[0]\n",
    "        if np.any([H[0].shape[1] != H[i].shape[1] for i in range(1, H.shape[0])]):\n",
    "            raise ValueError('For a CPD size(H{n},2) should be R for all n')\n",
    "        if not np.isnan(rank): # defined by caller\n",
    "            if np.any(rank<1):\n",
    "                raise ValueError('The different ranks should be larger than 1!')  \n",
    "            if np.sum(rank)!=H.shape[2] :\n",
    "                raise ValueError('The sum of the ranks should be equal the rank of the factor matrices!')  \n",
    "        else: # not defined by caller and need to be initialised\n",
    "            rank = H.shape[2]     \n",
    "        print (\"dims: \", dims)\n",
    "        print (\"rank: \", rank)\n",
    "        print (\"order: \", order)\n",
    "        others = np.array(range(H.shape[0]))\n",
    "        print (\"others: \", others)\n",
    "        x = list(others)\n",
    "        #x = x[perm_vec[dims[i+1]-1]:perm_vec[dims[len(dims)-1]-1]]\n",
    "        x = x[len(dims):len(others)]      \n",
    "        others = np.array(x)\n",
    "        print (\"others: \", others)\n",
    "        print (\"H.shape[1]: \", H.shape[1])\n",
    "        print (\"H.shape[0]: \", H.shape[0])\n",
    "        size_all = np.repeat(H.shape[1], H.shape[0])\n",
    "        print (\"size_all: \", size_all)\n",
    "        size_hankel = size_all[np.subtract(dims, 1)]\n",
    "        print (\"size_hankel: \", size_hankel)\n",
    "        N = sum(size_hankel)-order+1\n",
    "        print (\"N: \", N)\n",
    "        # Apply FFT techniques to efficiently extract the data\n",
    "        F = np.fft.fft(H[0, :], N, axis=0)\n",
    "        for i in range (1, H.shape[0]):\n",
    "            F = np.multiply(F, np.fft.fft(H[i, :], N, axis=0))\n",
    "        X = np.fft.ifft(F, axis=0)\n",
    "        w = hankel_freq(order, size_hankel, N)\n",
    "        X = X / w\n",
    "        ranke = np.cumsum([1, rank])\n",
    "        i = np.array(range(1, ranke[-1]))\n",
    "        j = np.zeros_like(i)\n",
    "        j[ranke[0:-1]-1] = 1\n",
    "        j = np.cumsum(j)\n",
    "        C = csr_matrix((np.ones_like(i), (i, j)))\n",
    "        if len(others) != 0:\n",
    "            # If other non-Hankel dimensions   \n",
    "            KR = np.transpose(kr(H[0], H[1]))\n",
    "            for k in range (1, H.shape[0]):\n",
    "                KR = np.transpose(kr(np.transpose(KR), H[k]))\n",
    "            #KR = kr(H{others(end:-1:1)}).';\n",
    "            if not isinstance(rank, int):\n",
    "                #Xn = zeros(size(X,1),numel(rank),size(KR,2));\n",
    "                Xn = np.zeros((X.shape[0], len(rank), KR.shape[2]))\n",
    "                for r in range(len(rank)):\n",
    "                    #Xn(:,r,:) = X(:,ranke(r):ranke(r+1)-1)*KR(ranke(r):ranke(r+1)-1,:);\n",
    "                    Xn[:, r, :] = X[:, ranke[r]:ranke[r+1]-1] @ KR[ranke[r]:ranke[r+1]-1, :]\n",
    "                X = Xn\n",
    "            #else:\n",
    "                #X = X @ KR  ## this might be tensor product, but when needed I will be testing later\n",
    "\n",
    "            sx = np.array(size_all)\n",
    "            #x[dims] = np.nan ## need testing\n",
    "            sx[dims[0]] = N\n",
    "            if not isinstance(rank, int):\n",
    "                #sx = [sx(1:dims(1)) numel(rank) sx(dims(1)+1:end)];\n",
    "                sx = np.concatenate((sx[0:dims[0]], [len(rank)], sx[dims[0]+1:]))\n",
    "            #sx(isnan(sx)) = [];\n",
    "            sx = np.nan_to_num(sx) # should be converted to list and remove the Nans\n",
    "\n",
    "            if not isinstance(rank, int):\n",
    "                #signaldim = dims(1)-sum(dims(1)>dims(2:end));\n",
    "                signaldim = dims[0] - np.sum(dims[0] > dims[1:])\n",
    "                #X = reshape(X,[size(X,1)*size(X,2) size(X,3)]);\n",
    "                X = np.reshape(X, [X.shape[0]*X.shape[1], X.shape[2]])\n",
    "                #X = mat2tens(X,sx,[signaldim signaldim+1]);\n",
    "                X = np.reshape(X, (sx[0], sx[1], -1), order='F')\n",
    "            else:\n",
    "                #signaldim = dims(1)-sum(dims(1)>dims(2:end));\n",
    "                signaldim = int(dims[0] - np.sum([dims[d] for d in range(1, len(dims)) if dims[0] > dims[d]]))\n",
    "                #X = mat2tens(X,sx,signaldim);\n",
    "                X = np.resize(X, [sx[signaldim-1]]) \n",
    "        #else:\n",
    "        #    X = X @ C\n",
    "        #    signaldim = 1\n",
    "\n",
    "    elif H_str in {'incomplete','sparse','tt','btd','lmlragen'}:\n",
    "        T = ful(H)\n",
    "        X = dehankelize(T,**kwargs)\n",
    "    else:\n",
    "        raise ValueError('Structure not supported!')\n",
    "    \n",
    "    # Permute the data to specific dimensions\n",
    "    if not np.isnan(permToDim):\n",
    "        permToDim = int(permToDim)\n",
    "        signaldim = int(signaldim)\n",
    "        if signaldim < permToDim:\n",
    "            permvec = list(range(0, signaldim)) + list(range(signaldim+1, permToDim)) + [signaldim] + list(range(permToDim+1, np.ndim(X)))\n",
    "        else:\n",
    "            permvec = list(range(0, permToDim)) + [signaldim] + list(range(permToDim, signaldim)) + list(range(signaldim+1, np.ndim(X)))\n",
    "        if X.ndim==1:\n",
    "            X.resize ((X.shape[0], 1))\n",
    "        X = np.squeeze(np.transpose(X, permvec))\n",
    "    return X"
   ]
  },
  {
   "cell_type": "code",
   "execution_count": 222,
   "id": "509401b6",
   "metadata": {},
   "outputs": [
    {
     "name": "stdout",
     "output_type": "stream",
     "text": [
      "input shape:  (5, 1)\n",
      "Order:  2\n",
      "ind:  [3]\n",
      "N:  5\n",
      "Dim:  1\n",
      "Order:  2\n",
      "ind:  [3]\n",
      "sizes:  nan\n",
      "perm_to_first:  1\n",
      "size_other:  ()\n",
      "size_hankel:  [3 3]\n",
      "Total required Bytes are:  36.0\n",
      "full:  auto\n",
      "full_limit:  1\n",
      "full_limit * 2**30:  1073741824\n",
      "hstruct {'type': 'hankel', 'val': array([[1],\n",
      "       [2],\n",
      "       [3],\n",
      "       [4],\n",
      "       [5]]), 'dim': 1, 'order': 2, 'ind': array([3], dtype=int64), 'ispermuted': False, 'repermorder': array([1, 2]), 'size': array([3., 1.]), 'subsize': {'hankel': array([3, 3], dtype=int64), 'other': ()}}\n"
     ]
    },
    {
     "data": {
      "text/plain": [
       "array([[1, 2, 3],\n",
       "       [2, 3, 4],\n",
       "       [3, 4, 5]])"
      ]
     },
     "execution_count": 222,
     "metadata": {},
     "output_type": "execute_result"
    }
   ],
   "source": [
    "v = np.array([1,2,3,4,5])\n",
    "V = hankelize(v);\n",
    "V"
   ]
  },
  {
   "cell_type": "code",
   "execution_count": 223,
   "id": "def3d3f8",
   "metadata": {},
   "outputs": [
    {
     "name": "stdout",
     "output_type": "stream",
     "text": [
      "order :  2\n",
      "dims :  [1 2]\n",
      "sh :  (3, 3)\n",
      "order :  2\n",
      "dims :  [1 2]\n",
      "sh :  (3, 3)\n",
      "subs :  [Ellipsis Ellipsis]\n",
      "subs :  [Ellipsis 0]\n",
      "tmp:  [1 2 3]\n",
      "tmp type:  <class 'numpy.ndarray'>\n",
      "perm_vec:  [0, 1]\n",
      "sizes:  [3, 1]\n",
      "sizes after pop:  [3]\n",
      "sizes after resize:  [3 1]\n",
      "tmp:  [[1]\n",
      " [2]\n",
      " [3]]\n",
      "tmp:  [1 2 3]\n",
      "X:  [array([1, 2, 3])]\n",
      "subs :  [2 array([1, 2])]\n",
      "tmp:  [4 5]\n",
      "tmp type:  <class 'numpy.ndarray'>\n",
      "perm_vec:  [1, 0]\n",
      "sizes:  [1, 2]\n",
      "sizes after resize:  [1, 2]\n",
      "tmp:  [[4 5]]\n",
      "tmp:  [4 5]\n",
      "X:  [array([1, 2, 3]), array([4, 5])]\n",
      "signaldim:  1\n"
     ]
    },
    {
     "data": {
      "text/plain": [
       "array([1, 2, 3, 4, 5])"
      ]
     },
     "execution_count": 223,
     "metadata": {},
     "output_type": "execute_result"
    }
   ],
   "source": [
    "v = dehankelize(V)\n",
    "v"
   ]
  },
  {
   "cell_type": "code",
   "execution_count": 224,
   "id": "c576828f",
   "metadata": {},
   "outputs": [
    {
     "data": {
      "text/plain": [
       "(3, 3)"
      ]
     },
     "execution_count": 224,
     "metadata": {},
     "output_type": "execute_result"
    }
   ],
   "source": [
    "V.shape"
   ]
  },
  {
   "cell_type": "code",
   "execution_count": 225,
   "id": "b3ea2ee9",
   "metadata": {},
   "outputs": [
    {
     "data": {
      "text/plain": [
       "2"
      ]
     },
     "execution_count": 225,
     "metadata": {},
     "output_type": "execute_result"
    }
   ],
   "source": [
    "getorder(V)"
   ]
  },
  {
   "cell_type": "code",
   "execution_count": 226,
   "id": "bdf08df0",
   "metadata": {},
   "outputs": [
    {
     "data": {
      "text/plain": [
       "'full'"
      ]
     },
     "execution_count": 226,
     "metadata": {},
     "output_type": "execute_result"
    }
   ],
   "source": [
    "getstructure(V)"
   ]
  },
  {
   "cell_type": "code",
   "execution_count": 227,
   "id": "c88e1655",
   "metadata": {},
   "outputs": [
    {
     "name": "stdout",
     "output_type": "stream",
     "text": [
      "input shape:  (7, 1)\n",
      "Order:  2\n",
      "ind:  [4]\n",
      "N:  7\n",
      "Dim:  1\n",
      "Order:  2\n",
      "ind:  [4]\n",
      "sizes:  nan\n",
      "perm_to_first:  1\n",
      "size_other:  ()\n",
      "size_hankel:  [4 4]\n",
      "Total required Bytes are:  64.0\n",
      "full:  auto\n",
      "full_limit:  1\n",
      "full_limit * 2**30:  1073741824\n",
      "hstruct {'type': 'hankel', 'val': array([[1],\n",
      "       [2],\n",
      "       [3],\n",
      "       [4],\n",
      "       [5],\n",
      "       [6],\n",
      "       [7]]), 'dim': 1, 'order': 2, 'ind': array([4], dtype=int64), 'ispermuted': False, 'repermorder': array([1, 2]), 'size': array([4., 1.]), 'subsize': {'hankel': array([4, 4], dtype=int64), 'other': ()}}\n"
     ]
    },
    {
     "data": {
      "text/plain": [
       "array([[1, 2, 3, 4],\n",
       "       [2, 3, 4, 5],\n",
       "       [3, 4, 5, 6],\n",
       "       [4, 5, 6, 7]])"
      ]
     },
     "execution_count": 227,
     "metadata": {},
     "output_type": "execute_result"
    }
   ],
   "source": [
    "v = [1, 2, 3, 4, 5, 6, 7]\n",
    "V = hankelize(v, order=3);\n",
    "V"
   ]
  },
  {
   "cell_type": "code",
   "execution_count": 228,
   "id": "a183fdb0",
   "metadata": {},
   "outputs": [
    {
     "name": "stdout",
     "output_type": "stream",
     "text": [
      "order :  2\n",
      "dims :  [1 2]\n",
      "sh :  (4, 4)\n",
      "order :  2\n",
      "dims :  [1 2]\n",
      "sh :  (4, 4)\n",
      "subs :  [Ellipsis Ellipsis]\n",
      "subs :  [Ellipsis 0]\n",
      "tmp:  [1 2 3 4]\n",
      "tmp type:  <class 'numpy.ndarray'>\n",
      "perm_vec:  [0, 1]\n",
      "sizes:  [4, 1]\n",
      "sizes after pop:  [4]\n",
      "sizes after resize:  [4 1]\n",
      "tmp:  [[1]\n",
      " [2]\n",
      " [3]\n",
      " [4]]\n",
      "tmp:  [1 2 3 4]\n",
      "X:  [array([1, 2, 3, 4])]\n",
      "subs :  [3 array([1, 2, 3])]\n",
      "tmp:  [5 6 7]\n",
      "tmp type:  <class 'numpy.ndarray'>\n",
      "perm_vec:  [1, 0]\n",
      "sizes:  [1, 3]\n",
      "sizes after resize:  [1, 3]\n",
      "tmp:  [[5 6 7]]\n",
      "tmp:  [5 6 7]\n",
      "X:  [array([1, 2, 3, 4]), array([5, 6, 7])]\n",
      "signaldim:  1\n"
     ]
    },
    {
     "data": {
      "text/plain": [
       "array([1, 2, 3, 4, 5, 6, 7])"
      ]
     },
     "execution_count": 228,
     "metadata": {},
     "output_type": "execute_result"
    }
   ],
   "source": [
    "v = dehankelize(V)\n",
    "v"
   ]
  },
  {
   "cell_type": "code",
   "execution_count": 229,
   "id": "1666c70a",
   "metadata": {},
   "outputs": [
    {
     "data": {
      "text/plain": [
       "(4, 4)"
      ]
     },
     "execution_count": 229,
     "metadata": {},
     "output_type": "execute_result"
    }
   ],
   "source": [
    "V.shape"
   ]
  },
  {
   "cell_type": "code",
   "execution_count": 230,
   "id": "52705826",
   "metadata": {},
   "outputs": [
    {
     "name": "stdout",
     "output_type": "stream",
     "text": [
      "input shape:  (7, 1)\n",
      "Order:  4\n",
      "ind:  nan\n",
      "sizes:  [4, 3, 2]\n",
      "N:  7\n",
      "Dim:  1\n",
      "Order:  4\n",
      "ind:  [4 6 7]\n",
      "sizes:  [4, 3, 2]\n",
      "perm_to_first:  1\n",
      "size_other:  ()\n",
      "size_hankel:  [4 3 2 1]\n",
      "Total required Bytes are:  96.0\n",
      "full:  auto\n",
      "full_limit:  1\n",
      "full_limit * 2**30:  1073741824\n",
      "hstruct {'type': 'hankel', 'val': array([[1],\n",
      "       [2],\n",
      "       [3],\n",
      "       [4],\n",
      "       [5],\n",
      "       [6],\n",
      "       [7]]), 'dim': 1, 'order': 4, 'ind': array([4, 6, 7]), 'ispermuted': False, 'repermorder': array([1, 2, 3, 4]), 'size': array([3., 2., 1., 1.]), 'subsize': {'hankel': array([4, 3, 2, 1]), 'other': ()}}\n"
     ]
    },
    {
     "data": {
      "text/plain": [
       "array([[[[1],\n",
       "         [2]],\n",
       "\n",
       "        [[2],\n",
       "         [3]],\n",
       "\n",
       "        [[3],\n",
       "         [4]]],\n",
       "\n",
       "\n",
       "       [[[2],\n",
       "         [3]],\n",
       "\n",
       "        [[3],\n",
       "         [4]],\n",
       "\n",
       "        [[4],\n",
       "         [5]]],\n",
       "\n",
       "\n",
       "       [[[3],\n",
       "         [4]],\n",
       "\n",
       "        [[4],\n",
       "         [5]],\n",
       "\n",
       "        [[5],\n",
       "         [6]]],\n",
       "\n",
       "\n",
       "       [[[4],\n",
       "         [5]],\n",
       "\n",
       "        [[5],\n",
       "         [6]],\n",
       "\n",
       "        [[6],\n",
       "         [7]]]])"
      ]
     },
     "execution_count": 230,
     "metadata": {},
     "output_type": "execute_result"
    }
   ],
   "source": [
    "v = np.array([1, 2, 3, 4, 5, 6, 7])\n",
    "V = hankelize(v, Sizes=[4, 3, 2])\n",
    "V"
   ]
  },
  {
   "cell_type": "code",
   "execution_count": 231,
   "id": "729d838f",
   "metadata": {},
   "outputs": [
    {
     "data": {
      "text/plain": [
       "(4, 3, 2, 1)"
      ]
     },
     "execution_count": 231,
     "metadata": {},
     "output_type": "execute_result"
    }
   ],
   "source": [
    "V.shape"
   ]
  },
  {
   "cell_type": "code",
   "execution_count": 232,
   "id": "ce6bb069",
   "metadata": {},
   "outputs": [
    {
     "data": {
      "text/plain": [
       "24"
      ]
     },
     "execution_count": 232,
     "metadata": {},
     "output_type": "execute_result"
    }
   ],
   "source": [
    "V.size"
   ]
  },
  {
   "cell_type": "code",
   "execution_count": 233,
   "id": "ab2e4963",
   "metadata": {},
   "outputs": [
    {
     "data": {
      "text/plain": [
       "(4, 3, 2)"
      ]
     },
     "execution_count": 233,
     "metadata": {},
     "output_type": "execute_result"
    }
   ],
   "source": [
    "V = np.squeeze(V)\n",
    "V.shape"
   ]
  },
  {
   "cell_type": "code",
   "execution_count": 234,
   "id": "affaa391",
   "metadata": {},
   "outputs": [
    {
     "data": {
      "text/plain": [
       "array([[[1, 2],\n",
       "        [2, 3],\n",
       "        [3, 4]],\n",
       "\n",
       "       [[2, 3],\n",
       "        [3, 4],\n",
       "        [4, 5]],\n",
       "\n",
       "       [[3, 4],\n",
       "        [4, 5],\n",
       "        [5, 6]],\n",
       "\n",
       "       [[4, 5],\n",
       "        [5, 6],\n",
       "        [6, 7]]])"
      ]
     },
     "execution_count": 234,
     "metadata": {},
     "output_type": "execute_result"
    }
   ],
   "source": [
    "V"
   ]
  },
  {
   "cell_type": "code",
   "execution_count": 235,
   "id": "886be674",
   "metadata": {},
   "outputs": [
    {
     "data": {
      "text/plain": [
       "array([[1, 2, 3],\n",
       "       [2, 3, 4],\n",
       "       [3, 4, 5],\n",
       "       [4, 5, 6]])"
      ]
     },
     "execution_count": 235,
     "metadata": {},
     "output_type": "execute_result"
    }
   ],
   "source": [
    "V[:,:,0]"
   ]
  },
  {
   "cell_type": "code",
   "execution_count": 236,
   "id": "ee62df3d",
   "metadata": {},
   "outputs": [
    {
     "data": {
      "text/plain": [
       "array([[2, 3, 4],\n",
       "       [3, 4, 5],\n",
       "       [4, 5, 6],\n",
       "       [5, 6, 7]])"
      ]
     },
     "execution_count": 236,
     "metadata": {},
     "output_type": "execute_result"
    }
   ],
   "source": [
    "V[:,:,1]"
   ]
  },
  {
   "cell_type": "code",
   "execution_count": 237,
   "id": "61d550b6",
   "metadata": {},
   "outputs": [
    {
     "data": {
      "text/plain": [
       "3"
      ]
     },
     "execution_count": 237,
     "metadata": {},
     "output_type": "execute_result"
    }
   ],
   "source": [
    "getorder(V)"
   ]
  },
  {
   "cell_type": "code",
   "execution_count": 238,
   "id": "83280fa7",
   "metadata": {},
   "outputs": [
    {
     "name": "stdout",
     "output_type": "stream",
     "text": [
      "order :  3\n",
      "dims :  [1 2 3]\n",
      "sh :  (4, 3, 2)\n",
      "order :  3\n",
      "dims :  [1 2 3]\n",
      "sh :  (4, 3, 2)\n",
      "subs :  [Ellipsis Ellipsis Ellipsis]\n",
      "subs :  [Ellipsis 0 0]\n",
      "tmp:  [1 2 3 4]\n",
      "tmp type:  <class 'numpy.ndarray'>\n",
      "perm_vec:  [0, 1, 2]\n",
      "sizes:  [4, 1, 1]\n",
      "sizes after pop:  [4]\n",
      "sizes after resize:  [4 1]\n",
      "tmp:  [[1]\n",
      " [2]\n",
      " [3]\n",
      " [4]]\n",
      "tmp:  [1 2 3 4]\n",
      "X:  [array([1, 2, 3, 4])]\n",
      "subs :  [3 array([1, 2], dtype=int64) 0]\n",
      "tmp:  [5 6]\n",
      "tmp type:  <class 'numpy.ndarray'>\n",
      "perm_vec:  [1, 0, 2]\n",
      "sizes:  [1, 2, 1]\n",
      "sizes after pop:  [1 2]\n",
      "sizes after resize:  [1 2]\n",
      "tmp:  [[5 6]]\n",
      "tmp:  [5 6]\n",
      "X:  [array([1, 2, 3, 4]), array([5, 6])]\n",
      "subs :  [3 2 array([1], dtype=int64)]\n",
      "tmp:  [7]\n",
      "tmp type:  <class 'numpy.ndarray'>\n",
      "perm_vec:  [2, 1, 0]\n",
      "sizes:  [1, 1, 1]\n",
      "sizes after resize:  [1, 1, 1]\n",
      "tmp:  [[[7]]]\n",
      "tmp:  7\n",
      "X:  [array([1, 2, 3, 4]), array([5, 6]), array(7)]\n",
      "signaldim:  1\n"
     ]
    },
    {
     "name": "stderr",
     "output_type": "stream",
     "text": [
      "C:\\Users\\DELLPR~1\\AppData\\Local\\Temp/ipykernel_18176/3418150085.py:26: ComplexWarning: Casting complex values to real discards the imaginary part\n",
      "  w = np.round(np.fft.ifft(w)).astype(int)\n"
     ]
    },
    {
     "data": {
      "text/plain": [
       "array([1, 2, 3, 4, 5, 6, 7])"
      ]
     },
     "execution_count": 238,
     "metadata": {},
     "output_type": "execute_result"
    }
   ],
   "source": [
    "\n",
    "v = dehankelize(V, Order = getorder(V))\n",
    "v"
   ]
  },
  {
   "cell_type": "code",
   "execution_count": 239,
   "id": "12671f60",
   "metadata": {},
   "outputs": [
    {
     "name": "stdout",
     "output_type": "stream",
     "text": [
      "input shape:  (7, 1)\n",
      "N:  7\n",
      "Dim:  1\n",
      "Order:  3\n",
      "ind:  [3 5]\n",
      "sizes:  nan\n",
      "perm_to_first:  1\n",
      "size_other:  ()\n",
      "size_hankel:  [3 3 3]\n",
      "Total required Bytes are:  108.0\n",
      "full:  auto\n",
      "full_limit:  1\n",
      "full_limit * 2**30:  1073741824\n",
      "hstruct {'type': 'hankel', 'val': array([[1],\n",
      "       [2],\n",
      "       [3],\n",
      "       [4],\n",
      "       [5],\n",
      "       [6],\n",
      "       [7]]), 'dim': 1, 'order': 3, 'ind': array([3, 5], dtype=int64), 'ispermuted': False, 'repermorder': array([1, 2, 3]), 'size': array([3., 3., 1.]), 'subsize': {'hankel': array([3, 3, 3], dtype=int64), 'other': ()}}\n"
     ]
    },
    {
     "data": {
      "text/plain": [
       "array([[[1, 2, 3],\n",
       "        [2, 3, 4],\n",
       "        [3, 4, 5]],\n",
       "\n",
       "       [[2, 3, 4],\n",
       "        [3, 4, 5],\n",
       "        [4, 5, 6]],\n",
       "\n",
       "       [[3, 4, 5],\n",
       "        [4, 5, 6],\n",
       "        [5, 6, 7]]])"
      ]
     },
     "execution_count": 239,
     "metadata": {},
     "output_type": "execute_result"
    }
   ],
   "source": [
    "v = np.array([1, 2, 3, 4, 5, 6, 7])\n",
    "H = hankelize(v, Order=3)\n",
    "H"
   ]
  },
  {
   "cell_type": "code",
   "execution_count": 240,
   "id": "9051d5fd",
   "metadata": {},
   "outputs": [
    {
     "name": "stdout",
     "output_type": "stream",
     "text": [
      "order :  2\n",
      "dims :  [1 2]\n",
      "sh :  (3, 3, 3)\n",
      "order :  3\n",
      "dims :  [1 2 3]\n",
      "sh :  (3, 3, 3)\n",
      "subs :  [Ellipsis Ellipsis Ellipsis]\n",
      "subs :  [Ellipsis 0 0]\n",
      "tmp:  [1 2 3]\n",
      "tmp type:  <class 'numpy.ndarray'>\n",
      "perm_vec:  [0, 1, 2]\n",
      "sizes:  [3, 1, 1]\n",
      "sizes after pop:  [3]\n",
      "sizes after resize:  [3 1]\n",
      "tmp:  [[1]\n",
      " [2]\n",
      " [3]]\n",
      "tmp:  [1 2 3]\n",
      "X:  [array([1, 2, 3])]\n",
      "subs :  [2 array([1, 2], dtype=int64) 0]\n",
      "tmp:  [4 5]\n",
      "tmp type:  <class 'numpy.ndarray'>\n",
      "perm_vec:  [1, 0, 2]\n",
      "sizes:  [1, 2, 1]\n",
      "sizes after pop:  [1 2]\n",
      "sizes after resize:  [1 2]\n",
      "tmp:  [[4 5]]\n",
      "tmp:  [4 5]\n",
      "X:  [array([1, 2, 3]), array([4, 5])]\n",
      "subs :  [2 2 array([1, 2], dtype=int64)]\n",
      "tmp:  [6 7]\n",
      "tmp type:  <class 'numpy.ndarray'>\n",
      "perm_vec:  [2, 1, 0]\n",
      "sizes:  [1, 1, 2]\n",
      "sizes after resize:  [1, 1, 2]\n",
      "tmp:  [[[6 7]]]\n",
      "tmp:  [6 7]\n",
      "X:  [array([1, 2, 3]), array([4, 5]), array([6, 7])]\n",
      "signaldim:  1\n"
     ]
    },
    {
     "data": {
      "text/plain": [
       "array([1, 2, 3, 4, 5])"
      ]
     },
     "execution_count": 240,
     "metadata": {},
     "output_type": "execute_result"
    }
   ],
   "source": [
    "v = dehankelize(H)\n",
    "v"
   ]
  },
  {
   "cell_type": "code",
   "execution_count": 241,
   "id": "41ac5442",
   "metadata": {},
   "outputs": [
    {
     "name": "stdout",
     "output_type": "stream",
     "text": [
      "input shape:  (7, 1)\n",
      "Order:  2\n",
      "ind:  [4]\n",
      "N:  7\n",
      "Dim:  1\n",
      "Order:  2\n",
      "ind:  [4]\n",
      "sizes:  nan\n",
      "perm_to_first:  1\n",
      "size_other:  ()\n",
      "size_hankel:  [4 4]\n",
      "Total required Bytes are:  64.0\n",
      "full:  auto\n",
      "full_limit:  1\n",
      "full_limit * 2**30:  1073741824\n",
      "hstruct {'type': 'hankel', 'val': array([[1],\n",
      "       [2],\n",
      "       [3],\n",
      "       [4],\n",
      "       [5],\n",
      "       [6],\n",
      "       [7]]), 'dim': 1, 'order': 2, 'ind': array([4], dtype=int64), 'ispermuted': False, 'repermorder': array([1, 2]), 'size': array([4., 1.]), 'subsize': {'hankel': array([4, 4], dtype=int64), 'other': ()}}\n"
     ]
    },
    {
     "data": {
      "text/plain": [
       "array([[1, 2, 3, 4],\n",
       "       [2, 3, 4, 5],\n",
       "       [3, 4, 5, 6],\n",
       "       [4, 5, 6, 7]])"
      ]
     },
     "execution_count": 241,
     "metadata": {},
     "output_type": "execute_result"
    }
   ],
   "source": [
    "v = np.array([1,2,3,4,5, 6, 7])\n",
    "H1 = hankelize(v)\n",
    "H1"
   ]
  },
  {
   "cell_type": "code",
   "execution_count": 242,
   "id": "20c1c150",
   "metadata": {},
   "outputs": [
    {
     "data": {
      "text/plain": [
       "array([[1, 2, 3, 4],\n",
       "       [2, 3, 4, 5],\n",
       "       [3, 4, 5, 6],\n",
       "       [4, 5, 6, 7]])"
      ]
     },
     "execution_count": 242,
     "metadata": {},
     "output_type": "execute_result"
    }
   ],
   "source": [
    "T = ful(H1)\n",
    "T"
   ]
  },
  {
   "cell_type": "code",
   "execution_count": 243,
   "id": "3091088d",
   "metadata": {},
   "outputs": [
    {
     "name": "stdout",
     "output_type": "stream",
     "text": [
      "order :  2\n",
      "dims :  [1 2]\n",
      "sh :  (4, 4)\n",
      "order :  2\n",
      "dims :  [1 2]\n",
      "sh :  (4, 4)\n",
      "subs :  [Ellipsis Ellipsis]\n",
      "subs :  [Ellipsis 0]\n",
      "tmp:  [1 2 3 4]\n",
      "tmp type:  <class 'numpy.ndarray'>\n",
      "perm_vec:  [0, 1]\n",
      "sizes:  [4, 1]\n",
      "sizes after pop:  [4]\n",
      "sizes after resize:  [4 1]\n",
      "tmp:  [[1]\n",
      " [2]\n",
      " [3]\n",
      " [4]]\n",
      "tmp:  [1 2 3 4]\n",
      "X:  [array([1, 2, 3, 4])]\n",
      "subs :  [3 array([1, 2, 3])]\n",
      "tmp:  [5 6 7]\n",
      "tmp type:  <class 'numpy.ndarray'>\n",
      "perm_vec:  [1, 0]\n",
      "sizes:  [1, 3]\n",
      "sizes after resize:  [1, 3]\n",
      "tmp:  [[5 6 7]]\n",
      "tmp:  [5 6 7]\n",
      "X:  [array([1, 2, 3, 4]), array([5, 6, 7])]\n",
      "signaldim:  1\n"
     ]
    },
    {
     "data": {
      "text/plain": [
       "array([1, 2, 3, 4, 5, 6, 7])"
      ]
     },
     "execution_count": 243,
     "metadata": {},
     "output_type": "execute_result"
    }
   ],
   "source": [
    "v = dehankelize(H1)\n",
    "v"
   ]
  },
  {
   "cell_type": "code",
   "execution_count": null,
   "id": "be823be4",
   "metadata": {},
   "outputs": [],
   "source": []
  }
 ],
 "metadata": {
  "kernelspec": {
   "display_name": "Python 3 (ipykernel)",
   "language": "python",
   "name": "python3"
  },
  "language_info": {
   "codemirror_mode": {
    "name": "ipython",
    "version": 3
   },
   "file_extension": ".py",
   "mimetype": "text/x-python",
   "name": "python",
   "nbconvert_exporter": "python",
   "pygments_lexer": "ipython3",
   "version": "3.9.7"
  }
 },
 "nbformat": 4,
 "nbformat_minor": 5
}
