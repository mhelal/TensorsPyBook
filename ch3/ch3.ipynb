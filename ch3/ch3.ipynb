{
 "cells": [
  {
   "cell_type": "markdown",
   "id": "cca4a9a6",
   "metadata": {},
   "source": [
    "# Ch3: Geometry & Algebra of Tensors¶\n",
    "\n",
    "## 3.2 Multilinear Algebra"
   ]
  },
  {
   "cell_type": "code",
   "execution_count": null,
   "id": "af68e977",
   "metadata": {},
   "outputs": [],
   "source": []
  }
 ],
 "metadata": {
  "kernelspec": {
   "display_name": "Python 3 (ipykernel)",
   "language": "python",
   "name": "python3"
  },
  "language_info": {
   "codemirror_mode": {
    "name": "ipython",
    "version": 3
   },
   "file_extension": ".py",
   "mimetype": "text/x-python",
   "name": "python",
   "nbconvert_exporter": "python",
   "pygments_lexer": "ipython3",
   "version": "3.9.7"
  }
 },
 "nbformat": 4,
 "nbformat_minor": 5
}
