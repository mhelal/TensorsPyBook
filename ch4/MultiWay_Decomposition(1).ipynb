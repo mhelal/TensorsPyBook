{
 "cells": [
  {
   "cell_type": "markdown",
   "metadata": {},
   "source": [
    "##### Multi-Way Decomposition from scratch\n",
    "\n",
    "These are the simplest cpd and Tucker decomposition for nd-arrays\n"
   ]
  },
  {
   "cell_type": "markdown",
   "metadata": {},
   "source": [
    "Input: N-order tensor 𝜒𝜖 ℝ^(I1,I2,… ,In) , tensor rank R\n",
    "Output: coefficients 𝜆n for n=1:N, factor matrices 𝐴^n 𝜖 ℝ^(In,Rn) for n=1:N\n",
    "\n",
    "Step 1: Initialize: randomly initialize 𝐴^N for n=1:N\n",
    "\n",
    "repeat\n",
    "for n = 1, …, N do\n",
    "𝑇_n = 𝐴(1)^T 𝐴(1) ∗ … ∗ 𝐴(n-1)^T 𝐴(n-1) ∗ 𝐴(n+1)^T 𝐴(n+1) ∗ … ∗ 𝐴(N)^T 𝐴(N)\n",
    "𝐴(n) = 𝜒(n)(𝐴(N) ⊙ … ⊙ 𝐴(n+1) ⊙ 𝐴(n-1) ⊙ … ⊙ 𝐴(1))𝑇n\n",
    "end for\n",
    "until the convergence criterion is satisfied"
   ]
  },
  {
   "cell_type": "code",
   "execution_count": 82,
   "metadata": {},
   "outputs": [],
   "source": [
    "from scipy.linalg import khatri_rao\n",
    "import tensorly as tl\n",
    "\n",
    "\n",
    "def cpd(tensor, rank=2, max_iter = 100, epsilon=1e-10):   \n",
    "    N = len(tensor.shape) # order of tensor X\n",
    "\n",
    "    # initialise factor matrices randomly\n",
    "    A = []\n",
    "    for n in range(N):\n",
    "        In =tensor.shape[n]\n",
    "        A.append (np.random.rand(rank, In))\n",
    "    # factorise   \n",
    "    \n",
    "    print (\"A initialised : \")\n",
    "    print (A)\n",
    "    factors = []\n",
    "    prev_factors = []\n",
    "    for epoch in range(max_iter): # to exit when values are too close, or for loop for max iterations or both  \n",
    "        prev_factors = factors\n",
    "        factors = []\n",
    "        for n in range(N): # for each mode\n",
    "            print (\"mode \" + str(n) + \" / \" + str(N))\n",
    "            In =tensor.shape[n]\n",
    "            Tn = np.ones((rank, In))\n",
    "            print (\"Tn initialised :\" )\n",
    "            print (Tn)\n",
    "            A_Temp = np.ones((rank, In))\n",
    "            print (\"A_Temp initialised : \")\n",
    "            print (A_Temp)\n",
    "            cnt = 0\n",
    "            for j in range(N): # for each other mode\n",
    "                if n != j: # skip the current mode to ALS\n",
    "                    if cnt == 0:\n",
    "                        Tn = np.dot(np.transpose(A[j]), A[j])\n",
    "                        A_Temp = A[j]\n",
    "                    else:\n",
    "                        Tn = np.dot (Tn, np.dot(np.transpose(A[j]), A[j]))\n",
    "                        A_Temp = khatri_rao (A_Temp, A[j])\n",
    "                    cnt += 1\n",
    "                    print (\"Tn shape\")\n",
    "                    print (Tn.shape) \n",
    "                    \n",
    "                    print (\"An shape\")\n",
    "                    print (A_Temp.shape) # (4, 12)\n",
    "                    #A_Temp =  tl.tenalg.khatri_rao([A_Temp, A[j]])\n",
    "                    #print (\"tensorly khatri_rao shape\")\n",
    "                    #print (A_Temp.shape)\n",
    "\n",
    "            Xn = tl.unfold(tensor, n).T\n",
    "            print (\"Xn shape\")\n",
    "            print (Xn.shape)# (12, 12) # X{n} in the pseudo-code\n",
    "            print (\"Tn shape\")\n",
    "            print (Tn.shape) # (2, 12) # T{n} in the pseudo-code\n",
    "            print (\"A_Temp shape\")\n",
    "            print (A_Temp.shape)# (4, 12)\n",
    "            #print (\"np.matmul(Tn, np.transpose(A_Temp)).shape\") \n",
    "            #print (np.matmul(Tn, np.transpose(A_Temp)).shape)  # (2, 4)\n",
    "            fn = np.matmul(Xn.T , A_Temp.T)  # (12, 4)\n",
    "            print (\"fn shape\")\n",
    "            print (fn.shape)# (12, 4)\n",
    "            fn1 = np.matmul(fn.T , Tn.T)  # (4, 4)\n",
    "            print (\"fn1 shape\")\n",
    "            print (fn1.shape)# (4, 4)\n",
    "            A[n] = fn1 # # A{n} in the pseudo-code\n",
    "            factors.append(A[n]) \n",
    "        factors = np.array(factors)\n",
    "        if prev_factors != []:    \n",
    "            if np.all(factors- prev_factors) > 1 - epsilon:            \n",
    "                return np.array(factors)\n",
    "                           \n",
    "                           \n",
    "    return np.array(factors)       "
   ]
  },
  {
   "cell_type": "code",
   "execution_count": 83,
   "metadata": {},
   "outputs": [],
   "source": [
    "tensor = tl.tensor([[ 0.,  0.,  0.,  0.,  0.,  0.,  0.,  0.,  0.,  0.,  0.,  0.],\n",
    "                        [ 0.,  0.,  0.,  0.,  1.,  1.,  1.,  1.,  0.,  0.,  0.,  0.],\n",
    "                        [ 0.,  0.,  0.,  0.,  1.,  1.,  1.,  1.,  0.,  0.,  0.,  0.],\n",
    "                        [ 0.,  0.,  0.,  0.,  1.,  1.,  1.,  1.,  0.,  0.,  0.,  0.],\n",
    "                        [ 0.,  1.,  1.,  1.,  1.,  1.,  1.,  1.,  1.,  1.,  1.,  0.],\n",
    "                        [ 0.,  1.,  1.,  1.,  1.,  1.,  1.,  1.,  1.,  1.,  1.,  0.],\n",
    "                        [ 0.,  1.,  1.,  1.,  1.,  1.,  1.,  1.,  1.,  1.,  1.,  0.],\n",
    "                        [ 0.,  1.,  1.,  1.,  1.,  1.,  1.,  1.,  1.,  1.,  1.,  0.],\n",
    "                        [ 0.,  0.,  0.,  0.,  1.,  1.,  1.,  1.,  0.,  0.,  0.,  0.],\n",
    "                        [ 0.,  0.,  0.,  0.,  1.,  1.,  1.,  1.,  0.,  0.,  0.,  0.],\n",
    "                        [ 0.,  0.,  0.,  0.,  1.,  1.,  1.,  1.,  0.,  0.,  0.,  0.],\n",
    "                        [ 0.,  0.,  0.,  0.,  0.,  0.,  0.,  0.,  0.,  0.,  0.,  0.]])"
   ]
  },
  {
   "cell_type": "code",
   "execution_count": 84,
   "metadata": {},
   "outputs": [
    {
     "data": {
      "text/plain": [
       "2"
      ]
     },
     "execution_count": 84,
     "metadata": {},
     "output_type": "execute_result"
    }
   ],
   "source": [
    "from tensorly.decomposition import parafac\n",
    "factors = parafac(tensor, rank=2)\n",
    "len(factors)"
   ]
  },
  {
   "cell_type": "code",
   "execution_count": 85,
   "metadata": {},
   "outputs": [
    {
     "data": {
      "text/plain": [
       "[(12, 2), (12, 2)]"
      ]
     },
     "execution_count": 85,
     "metadata": {},
     "output_type": "execute_result"
    }
   ],
   "source": [
    "[f.shape for f in factors[1]]"
   ]
  },
  {
   "cell_type": "code",
   "execution_count": 86,
   "metadata": {},
   "outputs": [
    {
     "data": {
      "text/plain": [
       "(weights, factors) : rank-2 CPTensor of shape (12, 12) "
      ]
     },
     "execution_count": 86,
     "metadata": {},
     "output_type": "execute_result"
    }
   ],
   "source": [
    "factors"
   ]
  },
  {
   "cell_type": "code",
   "execution_count": 88,
   "metadata": {},
   "outputs": [
    {
     "data": {
      "text/plain": [
       "[array([[ 0.        ,  0.        ],\n",
       "        [ 1.66009908, -1.11537933],\n",
       "        [ 1.66009908, -1.11537933],\n",
       "        [ 1.66009908, -1.11537933],\n",
       "        [ 3.02615419,  0.9178185 ],\n",
       "        [ 3.02615419,  0.9178185 ],\n",
       "        [ 3.02615419,  0.9178185 ],\n",
       "        [ 3.02615419,  0.9178185 ],\n",
       "        [ 1.66009908, -1.11537933],\n",
       "        [ 1.66009908, -1.11537933],\n",
       "        [ 1.66009908, -1.11537933],\n",
       "        [ 0.        ,  0.        ]]),\n",
       " array([[ 0.        ,  0.        ],\n",
       "        [ 0.22767585,  0.33886631],\n",
       "        [ 0.22767585,  0.33886631],\n",
       "        [ 0.22767585,  0.33886631],\n",
       "        [ 0.41502477, -0.27884483],\n",
       "        [ 0.41502477, -0.27884483],\n",
       "        [ 0.41502477, -0.27884483],\n",
       "        [ 0.41502477, -0.27884483],\n",
       "        [ 0.22767585,  0.33886631],\n",
       "        [ 0.22767585,  0.33886631],\n",
       "        [ 0.22767585,  0.33886631],\n",
       "        [ 0.        ,  0.        ]])]"
      ]
     },
     "execution_count": 88,
     "metadata": {},
     "output_type": "execute_result"
    }
   ],
   "source": [
    "factors[1]"
   ]
  },
  {
   "cell_type": "code",
   "execution_count": 89,
   "metadata": {
    "scrolled": true
   },
   "outputs": [
    {
     "name": "stdout",
     "output_type": "stream",
     "text": [
      "A initialised : \n",
      "[array([[0.99333161, 0.69627597, 0.99877916, 0.28527412, 0.94292971,\n",
      "        0.74749978, 0.8453798 , 0.14960632, 0.54132329, 0.76942799,\n",
      "        0.11487806, 0.87395244],\n",
      "       [0.5734491 , 0.28012376, 0.04355871, 0.07284214, 0.811406  ,\n",
      "        0.48722278, 0.0842931 , 0.02350154, 0.58130385, 0.84407316,\n",
      "        0.46583392, 0.78752491]]), array([[0.8700054 , 0.97074754, 0.51294765, 0.8785119 , 0.26058485,\n",
      "        0.99848198, 0.57672965, 0.17502783, 0.6195872 , 0.9689963 ,\n",
      "        0.04558024, 0.33012827],\n",
      "       [0.80203406, 0.71679606, 0.01624175, 0.7497075 , 0.40896612,\n",
      "        0.202037  , 0.52053424, 0.71321159, 0.94552957, 0.08315949,\n",
      "        0.39127079, 0.02677935]])]\n",
      "mode 0 / 2\n",
      "Tn initialised :\n",
      "[[1. 1. 1. 1. 1. 1. 1. 1. 1. 1. 1. 1.]\n",
      " [1. 1. 1. 1. 1. 1. 1. 1. 1. 1. 1. 1.]]\n",
      "A_Temp initialised : \n",
      "[[1. 1. 1. 1. 1. 1. 1. 1. 1. 1. 1. 1.]\n",
      " [1. 1. 1. 1. 1. 1. 1. 1. 1. 1. 1. 1.]]\n",
      "Tn shape\n",
      "(12, 12)\n",
      "An shape\n",
      "(2, 12)\n",
      "Xn shape\n",
      "(12, 12)\n",
      "Tn shape\n",
      "(12, 12)\n",
      "A_Temp shape\n",
      "(2, 12)\n",
      "fn shape\n",
      "(12, 2)\n",
      "fn1 shape\n",
      "(2, 12)\n",
      "mode 1 / 2\n",
      "Tn initialised :\n",
      "[[1. 1. 1. 1. 1. 1. 1. 1. 1. 1. 1. 1.]\n",
      " [1. 1. 1. 1. 1. 1. 1. 1. 1. 1. 1. 1.]]\n",
      "A_Temp initialised : \n",
      "[[1. 1. 1. 1. 1. 1. 1. 1. 1. 1. 1. 1.]\n",
      " [1. 1. 1. 1. 1. 1. 1. 1. 1. 1. 1. 1.]]\n",
      "Tn shape\n",
      "(12, 12)\n",
      "An shape\n",
      "(2, 12)\n",
      "Xn shape\n",
      "(12, 12)\n",
      "Tn shape\n",
      "(12, 12)\n",
      "A_Temp shape\n",
      "(2, 12)\n",
      "fn shape\n",
      "(12, 2)\n",
      "fn1 shape\n",
      "(2, 12)\n",
      "mode 0 / 2\n",
      "Tn initialised :\n",
      "[[1. 1. 1. 1. 1. 1. 1. 1. 1. 1. 1. 1.]\n",
      " [1. 1. 1. 1. 1. 1. 1. 1. 1. 1. 1. 1.]]\n",
      "A_Temp initialised : \n",
      "[[1. 1. 1. 1. 1. 1. 1. 1. 1. 1. 1. 1.]\n",
      " [1. 1. 1. 1. 1. 1. 1. 1. 1. 1. 1. 1.]]\n",
      "Tn shape\n",
      "(12, 12)\n",
      "An shape\n",
      "(2, 12)\n",
      "Xn shape\n",
      "(12, 12)\n",
      "Tn shape\n",
      "(12, 12)\n",
      "A_Temp shape\n",
      "(2, 12)\n",
      "fn shape\n",
      "(12, 2)\n",
      "fn1 shape\n",
      "(2, 12)\n",
      "mode 1 / 2\n",
      "Tn initialised :\n",
      "[[1. 1. 1. 1. 1. 1. 1. 1. 1. 1. 1. 1.]\n",
      " [1. 1. 1. 1. 1. 1. 1. 1. 1. 1. 1. 1.]]\n",
      "A_Temp initialised : \n",
      "[[1. 1. 1. 1. 1. 1. 1. 1. 1. 1. 1. 1.]\n",
      " [1. 1. 1. 1. 1. 1. 1. 1. 1. 1. 1. 1.]]\n",
      "Tn shape\n",
      "(12, 12)\n",
      "An shape\n",
      "(2, 12)\n",
      "Xn shape\n",
      "(12, 12)\n",
      "Tn shape\n",
      "(12, 12)\n",
      "A_Temp shape\n",
      "(2, 12)\n",
      "fn shape\n",
      "(12, 2)\n",
      "fn1 shape\n",
      "(2, 12)\n"
     ]
    },
    {
     "name": "stderr",
     "output_type": "stream",
     "text": [
      "<ipython-input-82-53a15eb767a6>:68: DeprecationWarning: elementwise comparison failed; this will raise an error in the future.\n",
      "  if prev_factors != []:\n"
     ]
    }
   ],
   "source": [
    "factors_np = cpd(tensor)"
   ]
  },
  {
   "cell_type": "code",
   "execution_count": 90,
   "metadata": {},
   "outputs": [
    {
     "data": {
      "text/plain": [
       "(2, 2, 12)"
      ]
     },
     "execution_count": 90,
     "metadata": {},
     "output_type": "execute_result"
    }
   ],
   "source": [
    "factors_np.shape"
   ]
  },
  {
   "cell_type": "code",
   "execution_count": 91,
   "metadata": {},
   "outputs": [
    {
     "data": {
      "text/plain": [
       "array([[2.32908174e+61, 2.37332120e+61, 7.95189835e+60, 2.27569136e+61,\n",
       "        9.11205052e+60, 1.76360718e+61, 1.52985900e+61, 1.16712363e+61,\n",
       "        2.13255230e+61, 1.56860053e+61, 5.64115455e+60, 5.32443012e+60],\n",
       "       [1.95226363e+61, 1.98934566e+61, 6.66537445e+60, 1.90751118e+61,\n",
       "        7.63782761e+60, 1.47827622e+61, 1.28234575e+61, 9.78296718e+60,\n",
       "        1.78753035e+61, 1.31481936e+61, 4.72848190e+60, 4.46299977e+60]])"
      ]
     },
     "execution_count": 91,
     "metadata": {},
     "output_type": "execute_result"
    }
   ],
   "source": [
    "factors_np[1]"
   ]
  },
  {
   "cell_type": "code",
   "execution_count": 92,
   "metadata": {},
   "outputs": [
    {
     "data": {
      "text/plain": [
       "array([[8.22894828e+19, 8.38525203e+19, 2.80950897e+19, 8.04031313e+19,\n",
       "        3.21940579e+19, 6.23105321e+19, 5.40519053e+19, 4.12359939e+19,\n",
       "        7.53458426e+19, 5.54206940e+19, 1.99309317e+19, 1.88119031e+19],\n",
       "       [6.89760095e+19, 7.02861659e+19, 2.35496336e+19, 6.73948476e+19,\n",
       "        2.69854369e+19, 5.22294188e+19, 4.53069409e+19, 3.45644937e+19,\n",
       "        6.31557689e+19, 4.64542757e+19, 1.67063407e+19, 1.57683578e+19]])"
      ]
     },
     "execution_count": 92,
     "metadata": {},
     "output_type": "execute_result"
    }
   ],
   "source": [
    "factors_np[0]"
   ]
  },
  {
   "cell_type": "code",
   "execution_count": null,
   "metadata": {},
   "outputs": [],
   "source": []
  }
 ],
 "metadata": {
  "kernelspec": {
   "display_name": "Python 3",
   "language": "python",
   "name": "python3"
  },
  "language_info": {
   "codemirror_mode": {
    "name": "ipython",
    "version": 3
   },
   "file_extension": ".py",
   "mimetype": "text/x-python",
   "name": "python",
   "nbconvert_exporter": "python",
   "pygments_lexer": "ipython3",
   "version": "3.8.5"
  }
 },
 "nbformat": 4,
 "nbformat_minor": 4
}
