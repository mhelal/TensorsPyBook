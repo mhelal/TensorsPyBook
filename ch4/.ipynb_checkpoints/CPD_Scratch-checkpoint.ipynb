{
 "cells": [
  {
   "cell_type": "markdown",
   "metadata": {},
   "source": [
    "##### Multi-Way Decomposition from scratch\n",
    "\n",
    "These are the simplest cpd and Tucker decomposition for nd-arrays\n"
   ]
  },
  {
   "cell_type": "markdown",
   "metadata": {},
   "source": [
    "Input: N-order tensor 𝜒𝜖 ℝ^(I1,I2,… ,In) , tensor rank R\n",
    "Output: coefficients 𝜆n for n=1:N, factor matrices 𝐴^n 𝜖 ℝ^(In,Rn) for n=1:N\n",
    "\n",
    "Step 1: Initialize: randomly initialize 𝐴^N for n=1:N\n",
    "\n",
    "repeat\n",
    "for n = 1, …, N do\n",
    "𝑇_n = 𝐴(1)^T 𝐴(1) ∗ … ∗ 𝐴(n-1)^T 𝐴(n-1) ∗ 𝐴(n+1)^T 𝐴(n+1) ∗ … ∗ 𝐴(N)^T 𝐴(N)\n",
    "𝐴(n) = 𝜒(n)(𝐴(N) ⊙ … ⊙ 𝐴(n+1) ⊙ 𝐴(n-1) ⊙ … ⊙ 𝐴(1))𝑇n\n",
    "end for\n",
    "until the convergence criterion is satisfied"
   ]
  },
  {
   "cell_type": "code",
   "execution_count": 96,
   "metadata": {},
   "outputs": [],
   "source": [
    "from scipy.linalg import khatri_rao\n",
    "import tensorly as tl\n",
    "\n",
    "\n",
    "def cpd(X, rank=2, epsilon=1e-10, iterations = 100):   \n",
    "    N = len(X.shape) # order of tensor X\n",
    "\n",
    "    # initialise factor matrices randomly\n",
    "    A = []\n",
    "    for n in range(N):\n",
    "        In =X.shape[n]\n",
    "        A.append (np.random.rand(In,rank))\n",
    "    # factorise   \n",
    "    A = np.squeeze(np.array(A))\n",
    "    print (\"A initialised : \")\n",
    "    print (A)\n",
    "    for k in range(iterations): # to exit when values are too close, or for loop for max iterations or both  \n",
    "        prev_A = A\n",
    "        for n in range(N): # for each mode\n",
    "            In =X.shape[n]\n",
    "            Tn = np.ones((In,rank))\n",
    "            print (\"Tn initialised :\" )\n",
    "            print (Tn)\n",
    "            A_Temp = np.ones((In,rank))\n",
    "            print (\"A_Temp initialised : \")\n",
    "            print (A_Temp)\n",
    "            for j in range(N): # for each other mode\n",
    "                if n != j: # skip the current mode to ALS\n",
    "                    Tn = np.dot (Tn, np.dot(np.transpose(A[j]), A[j]))\n",
    "                    print (\"Tn\")\n",
    "                    print (Tn)\n",
    "                    A_Temp = khatri_rao (A_Temp, A[j])\n",
    "                    print (\"numpy khatri_rao shape\")\n",
    "                    print (A_Temp.shape)\n",
    "                    #A_Temp =  tl.tenalg.khatri_rao([A_Temp, A[j]])\n",
    "                    #print (\"tensorly khatri_rao shape\")\n",
    "                    #print (A_Temp.shape)\n",
    "            print (\"tl.unfold(X, n)\")\n",
    "            print (tl.unfold(X, n))\n",
    "            print (\"tl.unfold(X, n) shape\")\n",
    "            print (tl.unfold(X, n).shape)\n",
    "            print (\"Tn shape\")\n",
    "            print (Tn.shape)\n",
    "            print (\"A_Temp shape\")\n",
    "            print (A_Temp.shape)\n",
    "            print (\"np.matmul(A_Temp, np.transpose(Tn)).shape\")\n",
    "            print (np.matmul(A_Temp, np.transpose(Tn)).shape)\n",
    "            print(np.matmul(A_Temp , np.transpose(Tn)))\n",
    "            A[n] = np.matmul(A_Temp , np.transpose(Tn))\n",
    "            A[n] = np.matmul(tl.unfold(X, n) , A[n])  \n",
    "        if abs(np.dot(A, prev_A)) > 1 - epsilon:            \n",
    "            return A\n",
    "                           \n",
    "                           \n",
    "    return A       "
   ]
  },
  {
   "cell_type": "code",
   "execution_count": 14,
   "metadata": {},
   "outputs": [
    {
     "data": {
      "text/plain": [
       "array([[[0.75404013, 0.06388784],\n",
       "        [0.34251611, 0.45636838],\n",
       "        [0.10107935, 0.43963069]],\n",
       "\n",
       "       [[0.4994527 , 0.43325028],\n",
       "        [0.0349797 , 0.73378331],\n",
       "        [0.36950607, 0.63016543]],\n",
       "\n",
       "       [[0.68873129, 0.91794383],\n",
       "        [0.76247448, 0.11936605],\n",
       "        [0.76681724, 0.34813513]],\n",
       "\n",
       "       [[0.59858294, 0.74601803],\n",
       "        [0.42935992, 0.81588404],\n",
       "        [0.5059968 , 0.79005631]]])"
      ]
     },
     "execution_count": 14,
     "metadata": {},
     "output_type": "execute_result"
    }
   ],
   "source": [
    "import numpy as np\n",
    "\n",
    "X = np.random.rand(4, 3, 2)\n",
    "tensor = tl.tensor(X)\n",
    "tensor"
   ]
  },
  {
   "cell_type": "code",
   "execution_count": 16,
   "metadata": {},
   "outputs": [
    {
     "data": {
      "text/plain": [
       "array([[0.75404013, 0.06388784, 0.34251611, 0.45636838, 0.10107935,\n",
       "        0.43963069],\n",
       "       [0.4994527 , 0.43325028, 0.0349797 , 0.73378331, 0.36950607,\n",
       "        0.63016543],\n",
       "       [0.68873129, 0.91794383, 0.76247448, 0.11936605, 0.76681724,\n",
       "        0.34813513],\n",
       "       [0.59858294, 0.74601803, 0.42935992, 0.81588404, 0.5059968 ,\n",
       "        0.79005631]])"
      ]
     },
     "execution_count": 16,
     "metadata": {},
     "output_type": "execute_result"
    }
   ],
   "source": [
    "tl.unfold(X, 0)"
   ]
  },
  {
   "cell_type": "code",
   "execution_count": 17,
   "metadata": {},
   "outputs": [
    {
     "data": {
      "text/plain": [
       "array([[0.75404013, 0.06388784, 0.4994527 , 0.43325028, 0.68873129,\n",
       "        0.91794383, 0.59858294, 0.74601803],\n",
       "       [0.34251611, 0.45636838, 0.0349797 , 0.73378331, 0.76247448,\n",
       "        0.11936605, 0.42935992, 0.81588404],\n",
       "       [0.10107935, 0.43963069, 0.36950607, 0.63016543, 0.76681724,\n",
       "        0.34813513, 0.5059968 , 0.79005631]])"
      ]
     },
     "execution_count": 17,
     "metadata": {},
     "output_type": "execute_result"
    }
   ],
   "source": [
    "tl.unfold(X, 1)"
   ]
  },
  {
   "cell_type": "code",
   "execution_count": 18,
   "metadata": {},
   "outputs": [
    {
     "data": {
      "text/plain": [
       "array([[0.75404013, 0.34251611, 0.10107935, 0.4994527 , 0.0349797 ,\n",
       "        0.36950607, 0.68873129, 0.76247448, 0.76681724, 0.59858294,\n",
       "        0.42935992, 0.5059968 ],\n",
       "       [0.06388784, 0.45636838, 0.43963069, 0.43325028, 0.73378331,\n",
       "        0.63016543, 0.91794383, 0.11936605, 0.34813513, 0.74601803,\n",
       "        0.81588404, 0.79005631]])"
      ]
     },
     "execution_count": 18,
     "metadata": {},
     "output_type": "execute_result"
    }
   ],
   "source": [
    "tl.unfold(X, 2)"
   ]
  },
  {
   "cell_type": "code",
   "execution_count": 19,
   "metadata": {},
   "outputs": [],
   "source": [
    "tensor = tl.tensor([[ 0.,  0.,  0.,  0.,  0.,  0.,  0.,  0.,  0.,  0.,  0.,  0.],\n",
    "                        [ 0.,  0.,  0.,  0.,  1.,  1.,  1.,  1.,  0.,  0.,  0.,  0.],\n",
    "                        [ 0.,  0.,  0.,  0.,  1.,  1.,  1.,  1.,  0.,  0.,  0.,  0.],\n",
    "                        [ 0.,  0.,  0.,  0.,  1.,  1.,  1.,  1.,  0.,  0.,  0.,  0.],\n",
    "                        [ 0.,  1.,  1.,  1.,  1.,  1.,  1.,  1.,  1.,  1.,  1.,  0.],\n",
    "                        [ 0.,  1.,  1.,  1.,  1.,  1.,  1.,  1.,  1.,  1.,  1.,  0.],\n",
    "                        [ 0.,  1.,  1.,  1.,  1.,  1.,  1.,  1.,  1.,  1.,  1.,  0.],\n",
    "                        [ 0.,  1.,  1.,  1.,  1.,  1.,  1.,  1.,  1.,  1.,  1.,  0.],\n",
    "                        [ 0.,  0.,  0.,  0.,  1.,  1.,  1.,  1.,  0.,  0.,  0.,  0.],\n",
    "                        [ 0.,  0.,  0.,  0.,  1.,  1.,  1.,  1.,  0.,  0.,  0.,  0.],\n",
    "                        [ 0.,  0.,  0.,  0.,  1.,  1.,  1.,  1.,  0.,  0.,  0.,  0.],\n",
    "                        [ 0.,  0.,  0.,  0.,  0.,  0.,  0.,  0.,  0.,  0.,  0.,  0.]])"
   ]
  },
  {
   "cell_type": "code",
   "execution_count": 20,
   "metadata": {},
   "outputs": [
    {
     "data": {
      "text/plain": [
       "2"
      ]
     },
     "execution_count": 20,
     "metadata": {},
     "output_type": "execute_result"
    }
   ],
   "source": [
    "from tensorly.decomposition import parafac\n",
    "factors = parafac(tensor, rank=2)\n",
    "len(factors)"
   ]
  },
  {
   "cell_type": "code",
   "execution_count": 24,
   "metadata": {},
   "outputs": [
    {
     "data": {
      "text/plain": [
       "[(12, 2), (12, 2)]"
      ]
     },
     "execution_count": 24,
     "metadata": {},
     "output_type": "execute_result"
    }
   ],
   "source": [
    "[f.shape for f in factors[1]]"
   ]
  },
  {
   "cell_type": "code",
   "execution_count": 22,
   "metadata": {},
   "outputs": [
    {
     "data": {
      "text/plain": [
       "(weights, factors) : rank-2 CPTensor of shape (12, 12) "
      ]
     },
     "execution_count": 22,
     "metadata": {},
     "output_type": "execute_result"
    }
   ],
   "source": [
    "factors"
   ]
  },
  {
   "cell_type": "code",
   "execution_count": 25,
   "metadata": {},
   "outputs": [
    {
     "data": {
      "text/plain": [
       "array([1., 1.])"
      ]
     },
     "execution_count": 25,
     "metadata": {},
     "output_type": "execute_result"
    }
   ],
   "source": [
    "factors[0]"
   ]
  },
  {
   "cell_type": "code",
   "execution_count": 97,
   "metadata": {},
   "outputs": [
    {
     "name": "stdout",
     "output_type": "stream",
     "text": [
      "A initialised : \n",
      "[[[0.46516681 0.91117711]\n",
      "  [0.60367322 0.1155934 ]\n",
      "  [0.16570159 0.44853102]\n",
      "  [0.16061412 0.86582452]\n",
      "  [0.64764064 0.88104305]\n",
      "  [0.47996913 0.88670492]\n",
      "  [0.3133801  0.16263525]\n",
      "  [0.68951874 0.05821324]\n",
      "  [0.77491019 0.54738917]\n",
      "  [0.781753   0.89773454]\n",
      "  [0.51556564 0.95175125]\n",
      "  [0.73091011 0.38314376]]\n",
      "\n",
      " [[0.22443194 0.24684053]\n",
      "  [0.55938685 0.34282285]\n",
      "  [0.69401456 0.69825097]\n",
      "  [0.40944446 0.01968507]\n",
      "  [0.47705776 0.583634  ]\n",
      "  [0.67155207 0.57500167]\n",
      "  [0.28843593 0.9615234 ]\n",
      "  [0.55949668 0.65757095]\n",
      "  [0.78519037 0.31036922]\n",
      "  [0.9910271  0.56704457]\n",
      "  [0.68928855 0.16722519]\n",
      "  [0.57252775 0.93780623]]]\n",
      "Tn initialised :\n",
      "[[1. 1.]\n",
      " [1. 1.]\n",
      " [1. 1.]\n",
      " [1. 1.]\n",
      " [1. 1.]\n",
      " [1. 1.]\n",
      " [1. 1.]\n",
      " [1. 1.]\n",
      " [1. 1.]\n",
      " [1. 1.]\n",
      " [1. 1.]\n",
      " [1. 1.]]\n",
      "A_Temp initialised : \n",
      "[[1. 1.]\n",
      " [1. 1.]\n",
      " [1. 1.]\n",
      " [1. 1.]\n",
      " [1. 1.]\n",
      " [1. 1.]\n",
      " [1. 1.]\n",
      " [1. 1.]\n",
      " [1. 1.]\n",
      " [1. 1.]\n",
      " [1. 1.]\n",
      " [1. 1.]]\n",
      "Tn\n",
      "[[7.99643287 7.5273805 ]\n",
      " [7.99643287 7.5273805 ]\n",
      " [7.99643287 7.5273805 ]\n",
      " [7.99643287 7.5273805 ]\n",
      " [7.99643287 7.5273805 ]\n",
      " [7.99643287 7.5273805 ]\n",
      " [7.99643287 7.5273805 ]\n",
      " [7.99643287 7.5273805 ]\n",
      " [7.99643287 7.5273805 ]\n",
      " [7.99643287 7.5273805 ]\n",
      " [7.99643287 7.5273805 ]\n",
      " [7.99643287 7.5273805 ]]\n",
      "numpy khatri_rao shape\n",
      "(144, 2)\n",
      "tl.unfold(X, n)\n",
      "[[0. 0. 0. 0. 0. 0. 0. 0. 0. 0. 0. 0.]\n",
      " [0. 0. 0. 0. 1. 1. 1. 1. 0. 0. 0. 0.]\n",
      " [0. 0. 0. 0. 1. 1. 1. 1. 0. 0. 0. 0.]\n",
      " [0. 0. 0. 0. 1. 1. 1. 1. 0. 0. 0. 0.]\n",
      " [0. 1. 1. 1. 1. 1. 1. 1. 1. 1. 1. 0.]\n",
      " [0. 1. 1. 1. 1. 1. 1. 1. 1. 1. 1. 0.]\n",
      " [0. 1. 1. 1. 1. 1. 1. 1. 1. 1. 1. 0.]\n",
      " [0. 1. 1. 1. 1. 1. 1. 1. 1. 1. 1. 0.]\n",
      " [0. 0. 0. 0. 1. 1. 1. 1. 0. 0. 0. 0.]\n",
      " [0. 0. 0. 0. 1. 1. 1. 1. 0. 0. 0. 0.]\n",
      " [0. 0. 0. 0. 1. 1. 1. 1. 0. 0. 0. 0.]\n",
      " [0. 0. 0. 0. 0. 0. 0. 0. 0. 0. 0. 0.]]\n",
      "tl.unfold(X, n) shape\n",
      "(12, 12)\n",
      "Tn shape\n",
      "(12, 2)\n",
      "A_Temp shape\n",
      "(144, 2)\n",
      "np.matmul(A_Temp, np.transpose(Tn)).shape\n",
      "(144, 12)\n",
      "[[ 3.65271753  3.65271753  3.65271753 ...  3.65271753  3.65271753\n",
      "   3.65271753]\n",
      " [ 7.05365743  7.05365743  7.05365743 ...  7.05365743  7.05365743\n",
      "   7.05365743]\n",
      " [10.80564158 10.80564158 10.80564158 ... 10.80564158 10.80564158\n",
      "  10.80564158]\n",
      " ...\n",
      " [12.19304191 12.19304191 12.19304191 ... 12.19304191 12.19304191\n",
      "  12.19304191]\n",
      " [ 6.77061724  6.77061724  6.77061724 ...  6.77061724  6.77061724\n",
      "   6.77061724]\n",
      " [11.63740404 11.63740404 11.63740404 ... 11.63740404 11.63740404\n",
      "  11.63740404]]\n"
     ]
    },
    {
     "ename": "ValueError",
     "evalue": "could not broadcast input array from shape (144,12) into shape (12,2)",
     "output_type": "error",
     "traceback": [
      "\u001b[1;31m---------------------------------------------------------------------------\u001b[0m",
      "\u001b[1;31mValueError\u001b[0m                                Traceback (most recent call last)",
      "\u001b[1;32m<ipython-input-97-aeba22e9ec71>\u001b[0m in \u001b[0;36m<module>\u001b[1;34m\u001b[0m\n\u001b[1;32m----> 1\u001b[1;33m \u001b[0mcpd\u001b[0m\u001b[1;33m(\u001b[0m\u001b[0mtensor\u001b[0m\u001b[1;33m)\u001b[0m\u001b[1;33m\u001b[0m\u001b[1;33m\u001b[0m\u001b[0m\n\u001b[0m",
      "\u001b[1;32m<ipython-input-96-b926e7f47de7>\u001b[0m in \u001b[0;36mcpd\u001b[1;34m(X, rank, epsilon, iterations)\u001b[0m\n\u001b[0;32m     47\u001b[0m             \u001b[0mprint\u001b[0m \u001b[1;33m(\u001b[0m\u001b[0mnp\u001b[0m\u001b[1;33m.\u001b[0m\u001b[0mmatmul\u001b[0m\u001b[1;33m(\u001b[0m\u001b[0mA_Temp\u001b[0m\u001b[1;33m,\u001b[0m \u001b[0mnp\u001b[0m\u001b[1;33m.\u001b[0m\u001b[0mtranspose\u001b[0m\u001b[1;33m(\u001b[0m\u001b[0mTn\u001b[0m\u001b[1;33m)\u001b[0m\u001b[1;33m)\u001b[0m\u001b[1;33m.\u001b[0m\u001b[0mshape\u001b[0m\u001b[1;33m)\u001b[0m\u001b[1;33m\u001b[0m\u001b[1;33m\u001b[0m\u001b[0m\n\u001b[0;32m     48\u001b[0m             \u001b[0mprint\u001b[0m\u001b[1;33m(\u001b[0m\u001b[0mnp\u001b[0m\u001b[1;33m.\u001b[0m\u001b[0mmatmul\u001b[0m\u001b[1;33m(\u001b[0m\u001b[0mA_Temp\u001b[0m \u001b[1;33m,\u001b[0m \u001b[0mnp\u001b[0m\u001b[1;33m.\u001b[0m\u001b[0mtranspose\u001b[0m\u001b[1;33m(\u001b[0m\u001b[0mTn\u001b[0m\u001b[1;33m)\u001b[0m\u001b[1;33m)\u001b[0m\u001b[1;33m)\u001b[0m\u001b[1;33m\u001b[0m\u001b[1;33m\u001b[0m\u001b[0m\n\u001b[1;32m---> 49\u001b[1;33m             \u001b[0mA\u001b[0m\u001b[1;33m[\u001b[0m\u001b[0mn\u001b[0m\u001b[1;33m]\u001b[0m \u001b[1;33m=\u001b[0m \u001b[0mnp\u001b[0m\u001b[1;33m.\u001b[0m\u001b[0mmatmul\u001b[0m\u001b[1;33m(\u001b[0m\u001b[0mA_Temp\u001b[0m \u001b[1;33m,\u001b[0m \u001b[0mnp\u001b[0m\u001b[1;33m.\u001b[0m\u001b[0mtranspose\u001b[0m\u001b[1;33m(\u001b[0m\u001b[0mTn\u001b[0m\u001b[1;33m)\u001b[0m\u001b[1;33m)\u001b[0m\u001b[1;33m\u001b[0m\u001b[1;33m\u001b[0m\u001b[0m\n\u001b[0m\u001b[0;32m     50\u001b[0m             \u001b[0mA\u001b[0m\u001b[1;33m[\u001b[0m\u001b[0mn\u001b[0m\u001b[1;33m]\u001b[0m \u001b[1;33m=\u001b[0m \u001b[0mnp\u001b[0m\u001b[1;33m.\u001b[0m\u001b[0mmatmul\u001b[0m\u001b[1;33m(\u001b[0m\u001b[0mtl\u001b[0m\u001b[1;33m.\u001b[0m\u001b[0munfold\u001b[0m\u001b[1;33m(\u001b[0m\u001b[0mX\u001b[0m\u001b[1;33m,\u001b[0m \u001b[0mn\u001b[0m\u001b[1;33m)\u001b[0m \u001b[1;33m,\u001b[0m \u001b[0mA\u001b[0m\u001b[1;33m[\u001b[0m\u001b[0mn\u001b[0m\u001b[1;33m]\u001b[0m\u001b[1;33m)\u001b[0m\u001b[1;33m\u001b[0m\u001b[1;33m\u001b[0m\u001b[0m\n\u001b[0;32m     51\u001b[0m         \u001b[1;32mif\u001b[0m \u001b[0mabs\u001b[0m\u001b[1;33m(\u001b[0m\u001b[0mnp\u001b[0m\u001b[1;33m.\u001b[0m\u001b[0mdot\u001b[0m\u001b[1;33m(\u001b[0m\u001b[0mA\u001b[0m\u001b[1;33m,\u001b[0m \u001b[0mprev_A\u001b[0m\u001b[1;33m)\u001b[0m\u001b[1;33m)\u001b[0m \u001b[1;33m>\u001b[0m \u001b[1;36m1\u001b[0m \u001b[1;33m-\u001b[0m \u001b[0mepsilon\u001b[0m\u001b[1;33m:\u001b[0m\u001b[1;33m\u001b[0m\u001b[1;33m\u001b[0m\u001b[0m\n",
      "\u001b[1;31mValueError\u001b[0m: could not broadcast input array from shape (144,12) into shape (12,2)"
     ]
    }
   ],
   "source": [
    "cpd(tensor)"
   ]
  },
  {
   "cell_type": "code",
   "execution_count": null,
   "metadata": {},
   "outputs": [],
   "source": []
  }
 ],
 "metadata": {
  "kernelspec": {
   "display_name": "Python 3",
   "language": "python",
   "name": "python3"
  },
  "language_info": {
   "codemirror_mode": {
    "name": "ipython",
    "version": 3
   },
   "file_extension": ".py",
   "mimetype": "text/x-python",
   "name": "python",
   "nbconvert_exporter": "python",
   "pygments_lexer": "ipython3",
   "version": "3.8.5"
  }
 },
 "nbformat": 4,
 "nbformat_minor": 4
}
