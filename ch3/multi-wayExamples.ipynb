{
 "cells": [
  {
   "cell_type": "markdown",
   "id": "1e49fd61",
   "metadata": {},
   "source": [
    "# Ch3: Geometry & Algebra of Tensors\n",
    "    \n",
    "## 3.1 Motivation and Intuition\n",
    "\n",
    "The data set is from http://www.models.life.ku.dk/nwaydata\n",
    "in Matlab form, and can be read by scipy loadmat function, and saved as numpy arrays for easier loads later\n",
    "\n",
    "The data has X variable as 3-way tensor of  5 samples in mode - 1 (rows) 5 × 51 × 201. , containing different amounts of tyrosine, tryptophan and phenylalanine amino acids belong to three amino acids dissolved in phosphate buffered water. The samples were measured by fluorescence (excitation 250-300 nm, emission 250-450 nm, 1 nm intervals) on a spectrofluorometer \n",
    "\n",
    "The data has Y variable, which is the ground truth,  the known concentrations of the three chemicals (mode-2) that are in the samples (mode-1) "
   ]
  },
  {
   "cell_type": "code",
   "execution_count": 74,
   "id": "061cdd46",
   "metadata": {},
   "outputs": [],
   "source": [
    "import math\n",
    "\n",
    "def tensorisation_Values (Df, components, value=\"value\", aggFunc=np.mean):\n",
    "    if components >= Df.shape[1]:\n",
    "        print (\"Number of components must be less or equal to number of the columns in the input matrix. Exiting without creating the tensor\")\n",
    "        return\n",
    "    minVals = []\n",
    "    maxVals = []\n",
    "    tensorShape = []\n",
    "    for i in range(components):\n",
    "        minVal = Df.iloc[:,i].min()\n",
    "        # this will be an index, therefore starting from zero is necessary\n",
    "        if minVal > 0:\n",
    "            Df.iloc[:,i] += minVal\n",
    "            minVal = 0\n",
    "        if minVal < 0:\n",
    "            Df.iloc[:,i] -= minVal\n",
    "            minVal = 0\n",
    "        minVals.append(minVal)\n",
    "        # also the max value need to be positive non-zero, because it will be the tensor shape \n",
    "        maxVal = Df.iloc[:,i].max()\n",
    "        if maxVal <= 0:\n",
    "            Df.iloc[:,i] -= maxVal + 1\n",
    "            maxVal = 1\n",
    "        maxVals.append(maxVal)\n",
    "        print(\"mode  \" + str(i) + \" max value =\" + str(maxVal) + \", min value = \" + str(minVal))\n",
    "        tensorShape.append(int(maxVal)+1)\n",
    "\n",
    "    # update the values in the array, to be used as indices\n",
    "    for k,j in Df.iterrows():\n",
    "            for i in range(components):\n",
    "                j[i] = int(math.floor(j[i])) + abs(int(minVals[i])) + 1\n",
    "    print (tensorShape)\n",
    "    tensorShape = tuple(tensorShape) \n",
    "    tensor_array = np.zeros(tensorShape)\n",
    "    count = 0\n",
    "    for k,j in Df.iterrows():\n",
    "        count = count + 1\n",
    "        t_index = tuple(\n",
    "            int(j[i]) for i in range(components)\n",
    "        )\n",
    "        tensor_array[t_index] = aggFunc(j[value])\n",
    "\n",
    "    unique,counts = np.unique(tensor_array,return_counts=True)\n",
    "    print(\"Unique Counts: \" + str(dict(zip(unique,counts))))\n",
    "    print(\"Count: \" + str(count))\n",
    "    return tensor_array"
   ]
  },
  {
   "cell_type": "code",
   "execution_count": 39,
   "id": "4167b0f1",
   "metadata": {},
   "outputs": [
    {
     "data": {
      "text/html": [
       "<div>\n",
       "<style scoped>\n",
       "    .dataframe tbody tr th:only-of-type {\n",
       "        vertical-align: middle;\n",
       "    }\n",
       "\n",
       "    .dataframe tbody tr th {\n",
       "        vertical-align: top;\n",
       "    }\n",
       "\n",
       "    .dataframe thead th {\n",
       "        text-align: right;\n",
       "    }\n",
       "</style>\n",
       "<table border=\"1\" class=\"dataframe\">\n",
       "  <thead>\n",
       "    <tr style=\"text-align: right;\">\n",
       "      <th></th>\n",
       "      <th>dt</th>\n",
       "      <th>AverageTemperature</th>\n",
       "      <th>AverageTemperatureUncertainty</th>\n",
       "      <th>City</th>\n",
       "      <th>Country</th>\n",
       "      <th>Latitude</th>\n",
       "      <th>Longitude</th>\n",
       "    </tr>\n",
       "  </thead>\n",
       "  <tbody>\n",
       "    <tr>\n",
       "      <th>0</th>\n",
       "      <td>1849-01-01</td>\n",
       "      <td>26.704</td>\n",
       "      <td>1.435</td>\n",
       "      <td>Abidjan</td>\n",
       "      <td>Côte D'Ivoire</td>\n",
       "      <td>5.63N</td>\n",
       "      <td>3.23W</td>\n",
       "    </tr>\n",
       "    <tr>\n",
       "      <th>1</th>\n",
       "      <td>1849-02-01</td>\n",
       "      <td>27.434</td>\n",
       "      <td>1.362</td>\n",
       "      <td>Abidjan</td>\n",
       "      <td>Côte D'Ivoire</td>\n",
       "      <td>5.63N</td>\n",
       "      <td>3.23W</td>\n",
       "    </tr>\n",
       "    <tr>\n",
       "      <th>2</th>\n",
       "      <td>1849-03-01</td>\n",
       "      <td>28.101</td>\n",
       "      <td>1.612</td>\n",
       "      <td>Abidjan</td>\n",
       "      <td>Côte D'Ivoire</td>\n",
       "      <td>5.63N</td>\n",
       "      <td>3.23W</td>\n",
       "    </tr>\n",
       "    <tr>\n",
       "      <th>3</th>\n",
       "      <td>1849-04-01</td>\n",
       "      <td>26.140</td>\n",
       "      <td>1.387</td>\n",
       "      <td>Abidjan</td>\n",
       "      <td>Côte D'Ivoire</td>\n",
       "      <td>5.63N</td>\n",
       "      <td>3.23W</td>\n",
       "    </tr>\n",
       "    <tr>\n",
       "      <th>4</th>\n",
       "      <td>1849-05-01</td>\n",
       "      <td>25.427</td>\n",
       "      <td>1.200</td>\n",
       "      <td>Abidjan</td>\n",
       "      <td>Côte D'Ivoire</td>\n",
       "      <td>5.63N</td>\n",
       "      <td>3.23W</td>\n",
       "    </tr>\n",
       "    <tr>\n",
       "      <th>...</th>\n",
       "      <td>...</td>\n",
       "      <td>...</td>\n",
       "      <td>...</td>\n",
       "      <td>...</td>\n",
       "      <td>...</td>\n",
       "      <td>...</td>\n",
       "      <td>...</td>\n",
       "    </tr>\n",
       "    <tr>\n",
       "      <th>239172</th>\n",
       "      <td>2013-05-01</td>\n",
       "      <td>18.979</td>\n",
       "      <td>0.807</td>\n",
       "      <td>Xian</td>\n",
       "      <td>China</td>\n",
       "      <td>34.56N</td>\n",
       "      <td>108.97E</td>\n",
       "    </tr>\n",
       "    <tr>\n",
       "      <th>239173</th>\n",
       "      <td>2013-06-01</td>\n",
       "      <td>23.522</td>\n",
       "      <td>0.647</td>\n",
       "      <td>Xian</td>\n",
       "      <td>China</td>\n",
       "      <td>34.56N</td>\n",
       "      <td>108.97E</td>\n",
       "    </tr>\n",
       "    <tr>\n",
       "      <th>239174</th>\n",
       "      <td>2013-07-01</td>\n",
       "      <td>25.251</td>\n",
       "      <td>1.042</td>\n",
       "      <td>Xian</td>\n",
       "      <td>China</td>\n",
       "      <td>34.56N</td>\n",
       "      <td>108.97E</td>\n",
       "    </tr>\n",
       "    <tr>\n",
       "      <th>239175</th>\n",
       "      <td>2013-08-01</td>\n",
       "      <td>24.528</td>\n",
       "      <td>0.840</td>\n",
       "      <td>Xian</td>\n",
       "      <td>China</td>\n",
       "      <td>34.56N</td>\n",
       "      <td>108.97E</td>\n",
       "    </tr>\n",
       "    <tr>\n",
       "      <th>239176</th>\n",
       "      <td>2013-09-01</td>\n",
       "      <td>NaN</td>\n",
       "      <td>NaN</td>\n",
       "      <td>Xian</td>\n",
       "      <td>China</td>\n",
       "      <td>34.56N</td>\n",
       "      <td>108.97E</td>\n",
       "    </tr>\n",
       "  </tbody>\n",
       "</table>\n",
       "<p>239177 rows × 7 columns</p>\n",
       "</div>"
      ],
      "text/plain": [
       "                dt  AverageTemperature  AverageTemperatureUncertainty  \\\n",
       "0       1849-01-01              26.704                          1.435   \n",
       "1       1849-02-01              27.434                          1.362   \n",
       "2       1849-03-01              28.101                          1.612   \n",
       "3       1849-04-01              26.140                          1.387   \n",
       "4       1849-05-01              25.427                          1.200   \n",
       "...            ...                 ...                            ...   \n",
       "239172  2013-05-01              18.979                          0.807   \n",
       "239173  2013-06-01              23.522                          0.647   \n",
       "239174  2013-07-01              25.251                          1.042   \n",
       "239175  2013-08-01              24.528                          0.840   \n",
       "239176  2013-09-01                 NaN                            NaN   \n",
       "\n",
       "           City        Country Latitude Longitude  \n",
       "0       Abidjan  Côte D'Ivoire    5.63N     3.23W  \n",
       "1       Abidjan  Côte D'Ivoire    5.63N     3.23W  \n",
       "2       Abidjan  Côte D'Ivoire    5.63N     3.23W  \n",
       "3       Abidjan  Côte D'Ivoire    5.63N     3.23W  \n",
       "4       Abidjan  Côte D'Ivoire    5.63N     3.23W  \n",
       "...         ...            ...      ...       ...  \n",
       "239172     Xian          China   34.56N   108.97E  \n",
       "239173     Xian          China   34.56N   108.97E  \n",
       "239174     Xian          China   34.56N   108.97E  \n",
       "239175     Xian          China   34.56N   108.97E  \n",
       "239176     Xian          China   34.56N   108.97E  \n",
       "\n",
       "[239177 rows x 7 columns]"
      ]
     },
     "execution_count": 39,
     "metadata": {},
     "output_type": "execute_result"
    }
   ],
   "source": [
    "import pandas as pd # data processing, CSV file I/O (e.g. pd.read_csv)\n",
    "import numpy as np\n",
    "\n",
    "userdata = pd.read_csv('data/GlobalLandTemperaturesByMajorCity.csv')\n",
    "columns = ['dt','AverageTemperature','AverageTemperatureUncertainty','City','Country','Latitude','Longitude'] # such that these will be x\n",
    "df=userdata[columns].copy()\n",
    "Values = userdata[\"AverageTemperature\"] # this will be the values of the tensor\n",
    "df"
   ]
  },
  {
   "cell_type": "code",
   "execution_count": 40,
   "id": "c5b337f8",
   "metadata": {},
   "outputs": [
    {
     "data": {
      "text/plain": [
       "26.704"
      ]
     },
     "execution_count": 40,
     "metadata": {},
     "output_type": "execute_result"
    }
   ],
   "source": [
    "# We will tensorise in the same order mentioned in chapter 3 first section on motivational problem\n",
    "# First example is one temperature value as a scalar (rank-zero tensor), which does not require tensorisation, just indexing will do\n",
    "df.iloc[0, 1] # specifying the index values, which is not usually interpreted easily\n"
   ]
  },
  {
   "cell_type": "code",
   "execution_count": 41,
   "id": "993c5e49",
   "metadata": {},
   "outputs": [
    {
     "data": {
      "text/html": [
       "<div>\n",
       "<style scoped>\n",
       "    .dataframe tbody tr th:only-of-type {\n",
       "        vertical-align: middle;\n",
       "    }\n",
       "\n",
       "    .dataframe tbody tr th {\n",
       "        vertical-align: top;\n",
       "    }\n",
       "\n",
       "    .dataframe thead th {\n",
       "        text-align: right;\n",
       "    }\n",
       "</style>\n",
       "<table border=\"1\" class=\"dataframe\">\n",
       "  <thead>\n",
       "    <tr style=\"text-align: right;\">\n",
       "      <th></th>\n",
       "      <th>AverageTemperature</th>\n",
       "    </tr>\n",
       "  </thead>\n",
       "  <tbody>\n",
       "    <tr>\n",
       "      <th>0</th>\n",
       "      <td>26.704</td>\n",
       "    </tr>\n",
       "  </tbody>\n",
       "</table>\n",
       "</div>"
      ],
      "text/plain": [
       "   AverageTemperature\n",
       "0              26.704"
      ]
     },
     "execution_count": 41,
     "metadata": {},
     "output_type": "execute_result"
    }
   ],
   "source": [
    "df.loc[(df['City']== 'Abidjan') & (df['dt']=='1849-01-01') ,['AverageTemperature']] # specifing the values needed (city and date values)"
   ]
  },
  {
   "cell_type": "code",
   "execution_count": 42,
   "id": "03de6692",
   "metadata": {},
   "outputs": [
    {
     "data": {
      "text/plain": [
       "0       26.704\n",
       "1       27.434\n",
       "2       28.101\n",
       "3       26.140\n",
       "4       25.427\n",
       "         ...  \n",
       "1972    27.652\n",
       "1973    26.157\n",
       "1974    24.951\n",
       "1975    24.541\n",
       "1976       NaN\n",
       "Name: AverageTemperature, Length: 1977, dtype: float64"
      ]
     },
     "execution_count": 42,
     "metadata": {},
     "output_type": "execute_result"
    }
   ],
   "source": [
    "# Second example is all temperature values in this dataset or in a specific city as a vector (rank-one tensor), which does not require tensorisation, just indexing will do\n",
    "\n",
    "df.loc[df['City'] == 'Abidjan']['AverageTemperature']"
   ]
  },
  {
   "cell_type": "code",
   "execution_count": 43,
   "id": "21b7f987",
   "metadata": {},
   "outputs": [
    {
     "data": {
      "text/html": [
       "<div>\n",
       "<style scoped>\n",
       "    .dataframe tbody tr th:only-of-type {\n",
       "        vertical-align: middle;\n",
       "    }\n",
       "\n",
       "    .dataframe tbody tr th {\n",
       "        vertical-align: top;\n",
       "    }\n",
       "\n",
       "    .dataframe thead th {\n",
       "        text-align: right;\n",
       "    }\n",
       "</style>\n",
       "<table border=\"1\" class=\"dataframe\">\n",
       "  <thead>\n",
       "    <tr style=\"text-align: right;\">\n",
       "      <th></th>\n",
       "      <th>AverageTemperature</th>\n",
       "    </tr>\n",
       "    <tr>\n",
       "      <th>City</th>\n",
       "      <th></th>\n",
       "    </tr>\n",
       "  </thead>\n",
       "  <tbody>\n",
       "    <tr>\n",
       "      <th>Abidjan</th>\n",
       "      <td>26.163737</td>\n",
       "    </tr>\n",
       "    <tr>\n",
       "      <th>Addis Abeba</th>\n",
       "      <td>17.525073</td>\n",
       "    </tr>\n",
       "    <tr>\n",
       "      <th>Ahmadabad</th>\n",
       "      <td>26.529853</td>\n",
       "    </tr>\n",
       "    <tr>\n",
       "      <th>Aleppo</th>\n",
       "      <td>17.370587</td>\n",
       "    </tr>\n",
       "    <tr>\n",
       "      <th>Alexandria</th>\n",
       "      <td>20.312617</td>\n",
       "    </tr>\n",
       "    <tr>\n",
       "      <th>...</th>\n",
       "      <td>...</td>\n",
       "    </tr>\n",
       "    <tr>\n",
       "      <th>Tokyo</th>\n",
       "      <td>12.555998</td>\n",
       "    </tr>\n",
       "    <tr>\n",
       "      <th>Toronto</th>\n",
       "      <td>5.773911</td>\n",
       "    </tr>\n",
       "    <tr>\n",
       "      <th>Umm Durman</th>\n",
       "      <td>29.081291</td>\n",
       "    </tr>\n",
       "    <tr>\n",
       "      <th>Wuhan</th>\n",
       "      <td>16.830944</td>\n",
       "    </tr>\n",
       "    <tr>\n",
       "      <th>Xian</th>\n",
       "      <td>11.487148</td>\n",
       "    </tr>\n",
       "  </tbody>\n",
       "</table>\n",
       "<p>100 rows × 1 columns</p>\n",
       "</div>"
      ],
      "text/plain": [
       "             AverageTemperature\n",
       "City                           \n",
       "Abidjan               26.163737\n",
       "Addis Abeba           17.525073\n",
       "Ahmadabad             26.529853\n",
       "Aleppo                17.370587\n",
       "Alexandria            20.312617\n",
       "...                         ...\n",
       "Tokyo                 12.555998\n",
       "Toronto                5.773911\n",
       "Umm Durman            29.081291\n",
       "Wuhan                 16.830944\n",
       "Xian                  11.487148\n",
       "\n",
       "[100 rows x 1 columns]"
      ]
     },
     "execution_count": 43,
     "metadata": {},
     "output_type": "execute_result"
    }
   ],
   "source": [
    "# Third example is temperature values per city (rank-two tensor). We will do it using pivot tables, and again with tensorisation\n",
    "# pivot tables are another method in handling multi-way analysis\n",
    "# checking how many cardiac cases in each age value\n",
    "\n",
    "cityTempMeans = df.pivot_table(values='AverageTemperature',\n",
    "                               index='City', \n",
    "                               aggfunc=np.mean,               ## aggfunc='size', # size if you want to aggregate by frequency counting\n",
    "                               fill_value=0)\n",
    "cityTempMeans"
   ]
  },
  {
   "cell_type": "code",
   "execution_count": 44,
   "id": "d0ad6597",
   "metadata": {},
   "outputs": [
    {
     "data": {
      "text/plain": [
       "26.16373719752392"
      ]
     },
     "execution_count": 44,
     "metadata": {},
     "output_type": "execute_result"
    }
   ],
   "source": [
    "cityTempMeans.iloc[0,0] # Average temperature for Abidjan by indexing the pivot table"
   ]
  },
  {
   "cell_type": "code",
   "execution_count": 45,
   "id": "258949c4",
   "metadata": {},
   "outputs": [
    {
     "data": {
      "text/plain": [
       "26.163737197524014"
      ]
     },
     "execution_count": 45,
     "metadata": {},
     "output_type": "execute_result"
    }
   ],
   "source": [
    "df.loc[df['City'] == 'Abidjan']['AverageTemperature'].mean() # getting to the same value from the original dataset DataFrame, probably the mean function used here is not np.mean since the value is slightly different, but could be rounding error"
   ]
  },
  {
   "cell_type": "code",
   "execution_count": 51,
   "id": "11c55501",
   "metadata": {},
   "outputs": [
    {
     "name": "stdout",
     "output_type": "stream",
     "text": [
      "Abidjan\n"
     ]
    }
   ],
   "source": [
    "for i in range(1):\n",
    "    print(sdf.iloc[:,i].min())"
   ]
  },
  {
   "cell_type": "code",
   "execution_count": 59,
   "id": "d601cef1",
   "metadata": {},
   "outputs": [
    {
     "data": {
      "text/plain": [
       "array([ 0,  1,  2,  3,  4,  5,  6,  7,  8,  9, 10, 11, 12, 13, 14, 15, 16,\n",
       "       17, 18, 19, 20, 21, 22, 23, 24, 25, 26, 27, 28, 29, 30, 31, 32, 33,\n",
       "       34, 35, 36, 37, 38, 39, 40, 41, 42, 43, 44, 45, 46, 47, 48, 49, 50,\n",
       "       51, 52, 53, 54, 55, 56, 57, 58, 59, 60, 61, 62, 63, 64, 65, 66, 67,\n",
       "       68, 69, 70, 71, 72, 73, 74, 75, 76, 77, 78, 90, 79, 80, 81, 82, 83,\n",
       "       84, 85, 86, 87, 88, 89, 91, 92, 93, 94, 95, 96, 97, 98, 99])"
      ]
     },
     "execution_count": 59,
     "metadata": {},
     "output_type": "execute_result"
    }
   ],
   "source": [
    "# tensorising by arranging the columns as coordinates first, and last column is the value to aggregate on\n",
    "\n",
    "columns = ['City','AverageTemperature'] # such that these will be x\n",
    "sdf=userdata[columns].copy()\n",
    "\n",
    "# we need to encode all coordinate columns numerically\n",
    "from sklearn import preprocessing\n",
    "\n",
    "# lbl_encoder object knows how to understand word labels.\n",
    "city_encoder = preprocessing.LabelEncoder()\n",
    "\n",
    "sdf['CityBasis']= city_encoder.fit_transform(sdf['City'])\n",
    "sdf['CityBasis'].unique()"
   ]
  },
  {
   "cell_type": "code",
   "execution_count": 60,
   "id": "e57b62ed",
   "metadata": {},
   "outputs": [
    {
     "data": {
      "text/plain": [
       "array(['Abidjan', 'Addis Abeba', 'Ahmadabad', 'Aleppo', 'Alexandria',\n",
       "       'Ankara', 'Baghdad', 'Bangalore', 'Bangkok', 'Belo Horizonte',\n",
       "       'Berlin', 'Bogotá', 'Bombay', 'Brasília', 'Cairo', 'Calcutta',\n",
       "       'Cali', 'Cape Town', 'Casablanca', 'Changchun', 'Chengdu',\n",
       "       'Chicago', 'Chongqing', 'Dakar', 'Dalian', 'Dar Es Salaam',\n",
       "       'Delhi', 'Dhaka', 'Durban', 'Faisalabad', 'Fortaleza', 'Gizeh',\n",
       "       'Guangzhou', 'Harare', 'Harbin', 'Ho Chi Minh City', 'Hyderabad',\n",
       "       'Ibadan', 'Istanbul', 'Izmir', 'Jaipur', 'Jakarta', 'Jiddah',\n",
       "       'Jinan', 'Kabul', 'Kano', 'Kanpur', 'Karachi', 'Kiev', 'Kinshasa',\n",
       "       'Lagos', 'Lahore', 'Lakhnau', 'Lima', 'London', 'Los Angeles',\n",
       "       'Luanda', 'Madras', 'Madrid', 'Manila', 'Mashhad', 'Melbourne',\n",
       "       'Mexico', 'Mogadishu', 'Montreal', 'Moscow', 'Nagoya', 'Nagpur',\n",
       "       'Nairobi', 'Nanjing', 'New Delhi', 'New York', 'Paris', 'Peking',\n",
       "       'Pune', 'Rangoon', 'Rio De Janeiro', 'Riyadh', 'Rome',\n",
       "       'Saint Petersburg', 'Salvador', 'Santiago', 'Santo Domingo',\n",
       "       'Seoul', 'Shanghai', 'Shenyang', 'Singapore', 'Surabaya', 'Surat',\n",
       "       'Sydney', 'São Paulo', 'Taipei', 'Taiyuan', 'Tangshan', 'Tianjin',\n",
       "       'Tokyo', 'Toronto', 'Umm Durman', 'Wuhan', 'Xian'], dtype=object)"
      ]
     },
     "execution_count": 60,
     "metadata": {},
     "output_type": "execute_result"
    }
   ],
   "source": [
    "city_encoder.classes_"
   ]
  },
  {
   "cell_type": "code",
   "execution_count": 68,
   "id": "550ff021",
   "metadata": {},
   "outputs": [
    {
     "data": {
      "text/plain": [
       "array(['Abidjan'], dtype=object)"
      ]
     },
     "execution_count": 68,
     "metadata": {},
     "output_type": "execute_result"
    }
   ],
   "source": [
    "city_encoder.inverse_transform([0])"
   ]
  },
  {
   "cell_type": "code",
   "execution_count": 69,
   "id": "11056ab2",
   "metadata": {},
   "outputs": [
    {
     "data": {
      "text/plain": [
       "array([0])"
      ]
     },
     "execution_count": 69,
     "metadata": {},
     "output_type": "execute_result"
    }
   ],
   "source": [
    "city_encoder.transform(['Abidjan'])"
   ]
  },
  {
   "cell_type": "code",
   "execution_count": 72,
   "id": "9e66fd1a",
   "metadata": {},
   "outputs": [
    {
     "data": {
      "text/html": [
       "<div>\n",
       "<style scoped>\n",
       "    .dataframe tbody tr th:only-of-type {\n",
       "        vertical-align: middle;\n",
       "    }\n",
       "\n",
       "    .dataframe tbody tr th {\n",
       "        vertical-align: top;\n",
       "    }\n",
       "\n",
       "    .dataframe thead th {\n",
       "        text-align: right;\n",
       "    }\n",
       "</style>\n",
       "<table border=\"1\" class=\"dataframe\">\n",
       "  <thead>\n",
       "    <tr style=\"text-align: right;\">\n",
       "      <th></th>\n",
       "      <th>CityBasis</th>\n",
       "      <th>City</th>\n",
       "      <th>AverageTemperature</th>\n",
       "    </tr>\n",
       "  </thead>\n",
       "  <tbody>\n",
       "    <tr>\n",
       "      <th>0</th>\n",
       "      <td>0</td>\n",
       "      <td>Abidjan</td>\n",
       "      <td>26.704</td>\n",
       "    </tr>\n",
       "    <tr>\n",
       "      <th>1</th>\n",
       "      <td>0</td>\n",
       "      <td>Abidjan</td>\n",
       "      <td>27.434</td>\n",
       "    </tr>\n",
       "    <tr>\n",
       "      <th>2</th>\n",
       "      <td>0</td>\n",
       "      <td>Abidjan</td>\n",
       "      <td>28.101</td>\n",
       "    </tr>\n",
       "    <tr>\n",
       "      <th>3</th>\n",
       "      <td>0</td>\n",
       "      <td>Abidjan</td>\n",
       "      <td>26.140</td>\n",
       "    </tr>\n",
       "    <tr>\n",
       "      <th>4</th>\n",
       "      <td>0</td>\n",
       "      <td>Abidjan</td>\n",
       "      <td>25.427</td>\n",
       "    </tr>\n",
       "    <tr>\n",
       "      <th>...</th>\n",
       "      <td>...</td>\n",
       "      <td>...</td>\n",
       "      <td>...</td>\n",
       "    </tr>\n",
       "    <tr>\n",
       "      <th>239172</th>\n",
       "      <td>99</td>\n",
       "      <td>Xian</td>\n",
       "      <td>18.979</td>\n",
       "    </tr>\n",
       "    <tr>\n",
       "      <th>239173</th>\n",
       "      <td>99</td>\n",
       "      <td>Xian</td>\n",
       "      <td>23.522</td>\n",
       "    </tr>\n",
       "    <tr>\n",
       "      <th>239174</th>\n",
       "      <td>99</td>\n",
       "      <td>Xian</td>\n",
       "      <td>25.251</td>\n",
       "    </tr>\n",
       "    <tr>\n",
       "      <th>239175</th>\n",
       "      <td>99</td>\n",
       "      <td>Xian</td>\n",
       "      <td>24.528</td>\n",
       "    </tr>\n",
       "    <tr>\n",
       "      <th>239176</th>\n",
       "      <td>99</td>\n",
       "      <td>Xian</td>\n",
       "      <td>NaN</td>\n",
       "    </tr>\n",
       "  </tbody>\n",
       "</table>\n",
       "<p>239177 rows × 3 columns</p>\n",
       "</div>"
      ],
      "text/plain": [
       "        CityBasis     City  AverageTemperature\n",
       "0               0  Abidjan              26.704\n",
       "1               0  Abidjan              27.434\n",
       "2               0  Abidjan              28.101\n",
       "3               0  Abidjan              26.140\n",
       "4               0  Abidjan              25.427\n",
       "...           ...      ...                 ...\n",
       "239172         99     Xian              18.979\n",
       "239173         99     Xian              23.522\n",
       "239174         99     Xian              25.251\n",
       "239175         99     Xian              24.528\n",
       "239176         99     Xian                 NaN\n",
       "\n",
       "[239177 rows x 3 columns]"
      ]
     },
     "execution_count": 72,
     "metadata": {},
     "output_type": "execute_result"
    }
   ],
   "source": [
    "columns = ['CityBasis', 'City','AverageTemperature'] # such that these will be x\n",
    "sdf=sdf[columns].copy()\n",
    "sdf"
   ]
  },
  {
   "cell_type": "code",
   "execution_count": 77,
   "id": "58861985",
   "metadata": {},
   "outputs": [
    {
     "name": "stdout",
     "output_type": "stream",
     "text": [
      "mode  0 max value =99, min value = 0\n",
      "[100]\n",
      "Unique Counts: {14.281: 1, 14.599: 1, 17.407999999999998: 1, 18.313: 1, 19.977: 1, 23.301: 1, 28.315: 1, nan: 1, nan: 1, nan: 1, nan: 1, nan: 1, nan: 1, nan: 1, nan: 1, nan: 1, nan: 1, nan: 1, nan: 1, nan: 1, nan: 1, nan: 1, nan: 1, nan: 1, nan: 1, nan: 1, nan: 1, nan: 1, nan: 1, nan: 1, nan: 1, nan: 1, nan: 1, nan: 1, nan: 1, nan: 1, nan: 1, nan: 1, nan: 1, nan: 1, nan: 1, nan: 1, nan: 1, nan: 1, nan: 1, nan: 1, nan: 1, nan: 1, nan: 1, nan: 1, nan: 1, nan: 1, nan: 1, nan: 1, nan: 1, nan: 1, nan: 1, nan: 1, nan: 1, nan: 1, nan: 1, nan: 1, nan: 1, nan: 1, nan: 1, nan: 1, nan: 1, nan: 1, nan: 1, nan: 1, nan: 1, nan: 1, nan: 1, nan: 1, nan: 1, nan: 1, nan: 1, nan: 1, nan: 1, nan: 1, nan: 1, nan: 1, nan: 1, nan: 1, nan: 1, nan: 1, nan: 1, nan: 1, nan: 1, nan: 1, nan: 1, nan: 1, nan: 1, nan: 1, nan: 1, nan: 1, nan: 1, nan: 1, nan: 1, nan: 1}\n",
      "Count: 239177\n"
     ]
    },
    {
     "data": {
      "text/plain": [
       "(100,)"
      ]
     },
     "execution_count": 77,
     "metadata": {},
     "output_type": "execute_result"
    }
   ],
   "source": [
    "import tensorly as tl\n",
    "\n",
    "tensor_array = tensorisation_Values (sdf, 1, value=\"AverageTemperature\", aggFunc=np.mean)\n",
    "tensor2 = tl.tensor(tensor_array)\n",
    "tensor2.shape\n"
   ]
  },
  {
   "cell_type": "code",
   "execution_count": 78,
   "id": "3780c4b0",
   "metadata": {},
   "outputs": [
    {
     "data": {
      "text/plain": [
       "array([   nan,    nan,    nan,    nan,    nan,    nan,    nan,    nan,\n",
       "          nan,    nan,    nan,    nan,    nan,    nan,    nan,    nan,\n",
       "          nan,    nan,    nan,    nan,    nan, 19.977,    nan,    nan,\n",
       "          nan,    nan,    nan,    nan,    nan,    nan,    nan,    nan,\n",
       "          nan,    nan,    nan,    nan,    nan,    nan,    nan,    nan,\n",
       "          nan,    nan,    nan,    nan,    nan,    nan,    nan,    nan,\n",
       "          nan,    nan,    nan,    nan,    nan,    nan,    nan, 23.301,\n",
       "          nan,    nan,    nan,    nan,    nan,    nan, 18.313,    nan,\n",
       "       14.281,    nan,    nan,    nan,    nan,    nan,    nan, 17.408,\n",
       "          nan,    nan,    nan,    nan,    nan,    nan,    nan,    nan,\n",
       "          nan,    nan, 28.315,    nan,    nan,    nan,    nan,    nan,\n",
       "          nan,    nan,    nan,    nan,    nan,    nan,    nan,    nan,\n",
       "       14.599,    nan,    nan,    nan])"
      ]
     },
     "execution_count": 78,
     "metadata": {},
     "output_type": "execute_result"
    }
   ],
   "source": [
    "tensor2 # the tensorisation function can also be updated to handle nan values, and to be vectorised and optimisaed for parallel processing"
   ]
  },
  {
   "cell_type": "code",
   "execution_count": null,
   "id": "ffad2ca8",
   "metadata": {},
   "outputs": [],
   "source": [
    "# Fourth example is temperature values per location as Latitude & Longitude  (rank-three tensor). We will do it using tensorisation\n",
    "columns = ['dt','AverageTemperature','AverageTemperatureUncertainty','City','Country','Latitude','Longitude'] # such that these will be x\n",
    "\n",
    "cityTempMeans = df.pivot_table(values='AverageTemperature',\n",
    "                               index='Latitude','Longitude', \n",
    "                               aggfunc=np.mean,               ## aggfunc='size', # size if you want to aggregate by frequency counting\n",
    "                               fill_value=0)\n",
    "cityTempMeans\n",
    "\n"
   ]
  },
  {
   "cell_type": "code",
   "execution_count": null,
   "id": "9572da29",
   "metadata": {},
   "outputs": [],
   "source": [
    "columns = ['Latitude','Longitude','AverageTemperature'] # such that these will be x\n",
    "sdf=userdata[columns].copy()\n",
    "\n",
    "tensor_array =  tensorisation_Values (sdf, 2, value=\"AverageTemperature\", aggFunc=np.mean)\n",
    "tensor2 = tl.tensor(tensor_array)\n",
    "tensor2.shape\n"
   ]
  },
  {
   "cell_type": "code",
   "execution_count": 97,
   "id": "e359ba3f",
   "metadata": {},
   "outputs": [
    {
     "data": {
      "text/plain": [
       "0        1849-01-01\n",
       "1        1849-02-01\n",
       "2        1849-03-01\n",
       "3        1849-04-01\n",
       "4        1849-05-01\n",
       "            ...    \n",
       "239172   2013-05-01\n",
       "239173   2013-06-01\n",
       "239174   2013-07-01\n",
       "239175   2013-08-01\n",
       "239176   2013-09-01\n",
       "Name: dt, Length: 239177, dtype: datetime64[ns]"
      ]
     },
     "execution_count": 97,
     "metadata": {},
     "output_type": "execute_result"
    }
   ],
   "source": [
    "# Fifth example is temperature values per location as Latitude & Longitude & date  (rank-four tensor). We will do it using tensorisation\n",
    "\n",
    "# we have here a date column\n",
    "date = pd.to_datetime(userdata['dt'])\n",
    "date"
   ]
  },
  {
   "cell_type": "code",
   "execution_count": 93,
   "id": "5b236220",
   "metadata": {},
   "outputs": [
    {
     "data": {
      "text/plain": [
       "Timestamp('1743-11-01 00:00:00')"
      ]
     },
     "execution_count": 93,
     "metadata": {},
     "output_type": "execute_result"
    }
   ],
   "source": [
    "date.min()"
   ]
  },
  {
   "cell_type": "code",
   "execution_count": 94,
   "id": "f0112de1",
   "metadata": {},
   "outputs": [
    {
     "data": {
      "text/plain": [
       "Timestamp('2013-09-01 00:00:00')"
      ]
     },
     "execution_count": 94,
     "metadata": {},
     "output_type": "execute_result"
    }
   ],
   "source": [
    "date.max()"
   ]
  },
  {
   "cell_type": "code",
   "execution_count": 95,
   "id": "3bfabd95",
   "metadata": {},
   "outputs": [
    {
     "ename": "TypeError",
     "evalue": "unsupported Type RangeIndex",
     "output_type": "error",
     "traceback": [
      "\u001b[1;31m---------------------------------------------------------------------------\u001b[0m",
      "\u001b[1;31mTypeError\u001b[0m                                 Traceback (most recent call last)",
      "\u001b[1;32mC:\\Users\\DELLPR~1\\AppData\\Local\\Temp/ipykernel_1576/755683519.py\u001b[0m in \u001b[0;36m<module>\u001b[1;34m\u001b[0m\n\u001b[1;32m----> 1\u001b[1;33m \u001b[0mdate\u001b[0m\u001b[1;33m.\u001b[0m\u001b[0mto_period\u001b[0m\u001b[1;33m(\u001b[0m\u001b[1;34m'D'\u001b[0m\u001b[1;33m)\u001b[0m\u001b[1;33m\u001b[0m\u001b[1;33m\u001b[0m\u001b[0m\n\u001b[0m",
      "\u001b[1;32mC:\\ProgramData\\Anaconda3\\lib\\site-packages\\pandas\\core\\series.py\u001b[0m in \u001b[0;36mto_period\u001b[1;34m(self, freq, copy)\u001b[0m\n\u001b[0;32m   5369\u001b[0m \u001b[1;33m\u001b[0m\u001b[0m\n\u001b[0;32m   5370\u001b[0m         \u001b[1;32mif\u001b[0m \u001b[1;32mnot\u001b[0m \u001b[0misinstance\u001b[0m\u001b[1;33m(\u001b[0m\u001b[0mself\u001b[0m\u001b[1;33m.\u001b[0m\u001b[0mindex\u001b[0m\u001b[1;33m,\u001b[0m \u001b[0mDatetimeIndex\u001b[0m\u001b[1;33m)\u001b[0m\u001b[1;33m:\u001b[0m\u001b[1;33m\u001b[0m\u001b[1;33m\u001b[0m\u001b[0m\n\u001b[1;32m-> 5371\u001b[1;33m             \u001b[1;32mraise\u001b[0m \u001b[0mTypeError\u001b[0m\u001b[1;33m(\u001b[0m\u001b[1;34mf\"unsupported Type {type(self.index).__name__}\"\u001b[0m\u001b[1;33m)\u001b[0m\u001b[1;33m\u001b[0m\u001b[1;33m\u001b[0m\u001b[0m\n\u001b[0m\u001b[0;32m   5372\u001b[0m         \u001b[0mnew_index\u001b[0m \u001b[1;33m=\u001b[0m \u001b[0mself\u001b[0m\u001b[1;33m.\u001b[0m\u001b[0mindex\u001b[0m\u001b[1;33m.\u001b[0m\u001b[0mto_period\u001b[0m\u001b[1;33m(\u001b[0m\u001b[0mfreq\u001b[0m\u001b[1;33m=\u001b[0m\u001b[0mfreq\u001b[0m\u001b[1;33m)\u001b[0m\u001b[1;33m\u001b[0m\u001b[1;33m\u001b[0m\u001b[0m\n\u001b[0;32m   5373\u001b[0m         return self._constructor(new_values, index=new_index).__finalize__(\n",
      "\u001b[1;31mTypeError\u001b[0m: unsupported Type RangeIndex"
     ]
    }
   ],
   "source": [
    "date.to_period('D')"
   ]
  },
  {
   "cell_type": "code",
   "execution_count": null,
   "id": "33080c0a",
   "metadata": {},
   "outputs": [],
   "source": [
    "columns = ['dt','AverageTemperature','AverageTemperatureUncertainty','City','Country','Latitude','Longitude'] # such that these will be x\n",
    "columns = ['Latitude','Longitude','AverageTemperature'] # such that these will be x\n",
    "sdf=userdata[columns].copy()\n",
    "\n",
    "tensor_array =  tensorisation_Values (sdf, 3, value=\"AverageTemperature\", aggFunc=np.mean)\n",
    "tensor2 = tl.tensor(tensor_array)\n",
    "tensor2.shape"
   ]
  },
  {
   "cell_type": "code",
   "execution_count": null,
   "id": "bab61ee1",
   "metadata": {},
   "outputs": [],
   "source": [
    "# checking how many cardiac cases in each gender\n",
    "df.pivot_table(index='sex', \n",
    "               columns='target',\n",
    "               aggfunc='size',\n",
    "               fill_value=0)"
   ]
  },
  {
   "cell_type": "code",
   "execution_count": 15,
   "id": "08ea70ef",
   "metadata": {},
   "outputs": [],
   "source": [
    "import scipy.io\n",
    "amino = scipy.io.loadmat('data/amino.mat')"
   ]
  },
  {
   "cell_type": "code",
   "execution_count": 16,
   "id": "1d0b1c5f",
   "metadata": {},
   "outputs": [],
   "source": [
    "X = amino.get('X')"
   ]
  },
  {
   "cell_type": "code",
   "execution_count": 17,
   "id": "3e5922a4",
   "metadata": {},
   "outputs": [],
   "source": [
    "Y = amino.get('Y')"
   ]
  },
  {
   "cell_type": "code",
   "execution_count": 18,
   "id": "f8efe0f6",
   "metadata": {},
   "outputs": [],
   "source": [
    "import numpy as np\n",
    "\n",
    "np.save('data/amino_x', X)\n",
    "np.save('data/amino_y', Y)"
   ]
  },
  {
   "cell_type": "code",
   "execution_count": 19,
   "id": "94f58eea",
   "metadata": {},
   "outputs": [
    {
     "data": {
      "text/plain": [
       "(5, 201, 61)"
      ]
     },
     "execution_count": 19,
     "metadata": {},
     "output_type": "execute_result"
    }
   ],
   "source": [
    "X.shape"
   ]
  },
  {
   "cell_type": "code",
   "execution_count": 20,
   "id": "ab25753d",
   "metadata": {},
   "outputs": [
    {
     "data": {
      "text/plain": [
       "(5, 3)"
      ]
     },
     "execution_count": 20,
     "metadata": {},
     "output_type": "execute_result"
    }
   ],
   "source": [
    "Y.shape"
   ]
  },
  {
   "cell_type": "code",
   "execution_count": 28,
   "id": "816a1337",
   "metadata": {},
   "outputs": [
    {
     "name": "stdout",
     "output_type": "stream",
     "text": [
      "Starting iteration 1\n",
      "Mode 0 of 3\n",
      "Mode 1 of 3\n",
      "Mode 2 of 3\n",
      "reconstruction error=0.41241005469274594\n",
      "Starting iteration 2\n",
      "Mode 0 of 3\n",
      "Mode 1 of 3\n",
      "Mode 2 of 3\n",
      "iteration 1, reconstruction error: 0.11517886685667383, decrease = 0.2972311878360721, unnormalized = 5527.65843445604\n",
      "Starting iteration 3\n",
      "Mode 0 of 3\n",
      "Mode 1 of 3\n",
      "Mode 2 of 3\n",
      "iteration 2, reconstruction error: 0.09497527359330195, decrease = 0.020203593263371886, unnormalized = 4558.0485940712815\n",
      "Starting iteration 4\n",
      "Mode 0 of 3\n",
      "Mode 1 of 3\n",
      "Mode 2 of 3\n",
      "iteration 3, reconstruction error: 0.0886998996879913, decrease = 0.006275373905310647, unnormalized = 4256.881162547399\n",
      "Starting iteration 5\n",
      "Mode 0 of 3\n",
      "Mode 1 of 3\n",
      "Mode 2 of 3\n",
      "iteration 4, reconstruction error: 0.08457798021896944, decrease = 0.004121919469021865, unnormalized = 4059.0622089416133\n",
      "Starting iteration 6\n",
      "Mode 0 of 3\n",
      "Mode 1 of 3\n",
      "Mode 2 of 3\n",
      "iteration 5, reconstruction error: 0.08088627097394764, decrease = 0.003691709245021796, unnormalized = 3881.8898829523546\n",
      "Starting iteration 7\n",
      "Mode 0 of 3\n",
      "Mode 1 of 3\n",
      "Mode 2 of 3\n",
      "iteration 6, reconstruction error: 0.0772581540257695, decrease = 0.0036281169481781478, unnormalized = 3707.7694753020014\n",
      "Starting iteration 8\n",
      "Mode 0 of 3\n",
      "Mode 1 of 3\n",
      "Mode 2 of 3\n",
      "iteration 7, reconstruction error: 0.07363710780795919, decrease = 0.0036210462178103003, unnormalized = 3533.9884057908585\n",
      "Starting iteration 9\n",
      "Mode 0 of 3\n",
      "Mode 1 of 3\n",
      "Mode 2 of 3\n",
      "iteration 8, reconstruction error: 0.07004291888552809, decrease = 0.003594188922431102, unnormalized = 3361.4962702602375\n",
      "Starting iteration 10\n",
      "Mode 0 of 3\n",
      "Mode 1 of 3\n",
      "Mode 2 of 3\n",
      "iteration 9, reconstruction error: 0.06651118872464333, decrease = 0.0035317301608847607, unnormalized = 3192.0016524990606\n",
      "Starting iteration 11\n",
      "Mode 0 of 3\n",
      "Mode 1 of 3\n",
      "Mode 2 of 3\n",
      "iteration 10, reconstruction error: 0.06307662204272614, decrease = 0.0034345666819171894, unnormalized = 3027.1700995751553\n",
      "Starting iteration 12\n",
      "Mode 0 of 3\n",
      "Mode 1 of 3\n",
      "Mode 2 of 3\n",
      "iteration 11, reconstruction error: 0.059768511880570856, decrease = 0.0033081101621552852, unnormalized = 2868.4074416415415\n",
      "Starting iteration 13\n",
      "Mode 0 of 3\n",
      "Mode 1 of 3\n",
      "Mode 2 of 3\n",
      "iteration 12, reconstruction error: 0.05660990422539536, decrease = 0.003158607655175498, unnormalized = 2716.8197005675233\n",
      "Starting iteration 14\n",
      "Mode 0 of 3\n",
      "Mode 1 of 3\n",
      "Mode 2 of 3\n",
      "iteration 13, reconstruction error: 0.053617917698206605, decrease = 0.002991986527188753, unnormalized = 2573.228432358798\n",
      "Starting iteration 15\n",
      "Mode 0 of 3\n",
      "Mode 1 of 3\n",
      "Mode 2 of 3\n",
      "iteration 14, reconstruction error: 0.05080440209529737, decrease = 0.002813515602909232, unnormalized = 2438.202331848123\n",
      "Starting iteration 16\n",
      "Mode 0 of 3\n",
      "Mode 1 of 3\n",
      "Mode 2 of 3\n",
      "iteration 15, reconstruction error: 0.04817665113772517, decrease = 0.0026277509575722002, unnormalized = 2312.091438932768\n",
      "Starting iteration 17\n",
      "Mode 0 of 3\n",
      "Mode 1 of 3\n",
      "Mode 2 of 3\n",
      "iteration 16, reconstruction error: 0.045738070037232285, decrease = 0.002438581100492887, unnormalized = 2195.059176364858\n",
      "Starting iteration 18\n",
      "Mode 0 of 3\n",
      "Mode 1 of 3\n",
      "Mode 2 of 3\n",
      "iteration 17, reconstruction error: 0.04348877100204931, decrease = 0.002249299035182978, unnormalized = 2087.1109292362003\n",
      "Starting iteration 19\n",
      "Mode 0 of 3\n",
      "Mode 1 of 3\n",
      "Mode 2 of 3\n",
      "iteration 18, reconstruction error: 0.041426099136794584, decrease = 0.002062671865254724, unnormalized = 1988.119283940032\n",
      "Starting iteration 20\n",
      "Mode 0 of 3\n",
      "Mode 1 of 3\n",
      "Mode 2 of 3\n",
      "iteration 19, reconstruction error: 0.03954510102658846, decrease = 0.0018809981102061238, unnormalized = 1897.8465164364654\n",
      "Starting iteration 21\n",
      "Mode 0 of 3\n",
      "Mode 1 of 3\n",
      "Mode 2 of 3\n",
      "iteration 20, reconstruction error: 0.037838948877094436, decrease = 0.0017061521494940238, unnormalized = 1815.9649475601914\n",
      "Starting iteration 22\n",
      "Mode 0 of 3\n",
      "Mode 1 of 3\n",
      "Mode 2 of 3\n",
      "iteration 21, reconstruction error: 0.036299329808606486, decrease = 0.0015396190684879504, unnormalized = 1742.0756260029038\n",
      "Starting iteration 23\n",
      "Mode 0 of 3\n",
      "Mode 1 of 3\n",
      "Mode 2 of 3\n",
      "iteration 22, reconstruction error: 0.03491680572361923, decrease = 0.0013825240849872564, unnormalized = 1675.725599059783\n",
      "Starting iteration 24\n",
      "Mode 0 of 3\n",
      "Mode 1 of 3\n",
      "Mode 2 of 3\n",
      "iteration 23, reconstruction error: 0.033681145510093706, decrease = 0.0012356602135255232, unnormalized = 1616.4238557120593\n",
      "Starting iteration 25\n",
      "Mode 0 of 3\n",
      "Mode 1 of 3\n",
      "Mode 2 of 3\n",
      "iteration 24, reconstruction error: 0.032581628742639916, decrease = 0.0010995167674537898, unnormalized = 1563.6559018390212\n",
      "Starting iteration 26\n",
      "Mode 0 of 3\n",
      "Mode 1 of 3\n",
      "Mode 2 of 3\n",
      "iteration 25, reconstruction error: 0.0316073185758455, decrease = 0.0009743101667944176, unnormalized = 1516.896856901036\n",
      "Starting iteration 27\n",
      "Mode 0 of 3\n",
      "Mode 1 of 3\n",
      "Mode 2 of 3\n",
      "iteration 26, reconstruction error: 0.030747301077029422, decrease = 0.0008600174988160764, unnormalized = 1475.6229399851306\n",
      "Starting iteration 28\n",
      "Mode 0 of 3\n",
      "Mode 1 of 3\n",
      "Mode 2 of 3\n",
      "iteration 27, reconstruction error: 0.0299908886354058, decrease = 0.0007564124416236211, unnormalized = 1439.321231807438\n",
      "Starting iteration 29\n",
      "Mode 0 of 3\n",
      "Mode 1 of 3\n",
      "Mode 2 of 3\n",
      "iteration 28, reconstruction error: 0.029327786087381867, decrease = 0.000663102548023934, unnormalized = 1407.497647390212\n",
      "Starting iteration 30\n",
      "Mode 0 of 3\n",
      "Mode 1 of 3\n",
      "Mode 2 of 3\n",
      "iteration 29, reconstruction error: 0.028748219568973714, decrease = 0.0005795665184081533, unnormalized = 1379.6831199405392\n",
      "Starting iteration 31\n",
      "Mode 0 of 3\n",
      "Mode 1 of 3\n",
      "Mode 2 of 3\n",
      "iteration 30, reconstruction error: 0.028243029581519554, decrease = 0.0005051899874541597, unnormalized = 1355.4380672554084\n",
      "Starting iteration 32\n",
      "Mode 0 of 3\n",
      "Mode 1 of 3\n",
      "Mode 2 of 3\n",
      "iteration 31, reconstruction error: 0.027803731114592223, decrease = 0.0004392984669273313, unnormalized = 1334.3552771375287\n",
      "Starting iteration 33\n",
      "Mode 0 of 3\n",
      "Mode 1 of 3\n",
      "Mode 2 of 3\n",
      "iteration 32, reconstruction error: 0.027422544725071628, decrease = 0.00038118638952059497, unnormalized = 1316.0613989406252\n",
      "Starting iteration 34\n",
      "Mode 0 of 3\n",
      "Mode 1 of 3\n",
      "Mode 2 of 3\n",
      "iteration 33, reconstruction error: 0.02709240313969047, decrease = 0.0003301415853811593, unnormalized = 1300.2172604384837\n",
      "Starting iteration 35\n",
      "Mode 0 of 3\n",
      "Mode 1 of 3\n",
      "Mode 2 of 3\n",
      "iteration 34, reconstruction error: 0.026806938204454227, decrease = 0.0002854649352362418, unnormalized = 1286.517241502166\n",
      "Starting iteration 36\n",
      "Mode 0 of 3\n",
      "Mode 1 of 3\n",
      "Mode 2 of 3\n",
      "iteration 35, reconstruction error: 0.026560452901167028, decrease = 0.0002464853032871986, unnormalized = 1274.6879311185137\n",
      "Starting iteration 37\n",
      "Mode 0 of 3\n",
      "Mode 1 of 3\n",
      "Mode 2 of 3\n",
      "iteration 36, reconstruction error: 0.02634788277092416, decrease = 0.0002125701302428673, unnormalized = 1264.4862760283263\n",
      "Starting iteration 38\n",
      "Mode 0 of 3\n",
      "Mode 1 of 3\n",
      "Mode 2 of 3\n",
      "iteration 37, reconstruction error: 0.026164750525099114, decrease = 0.00018313224582504686, unnormalized = 1255.6974024191131\n",
      "Starting iteration 39\n",
      "Mode 0 of 3\n",
      "Mode 1 of 3\n",
      "Mode 2 of 3\n",
      "iteration 38, reconstruction error: 0.02600711698184514, decrease = 0.00015763354325397383, unnormalized = 1248.132261272124\n",
      "Starting iteration 40\n",
      "Mode 0 of 3\n",
      "Mode 1 of 3\n",
      "Mode 2 of 3\n",
      "iteration 39, reconstruction error: 0.025871530809996473, decrease = 0.00013558617184866728, unnormalized = 1241.6252164741618\n",
      "Starting iteration 41\n",
      "Mode 0 of 3\n",
      "Mode 1 of 3\n",
      "Mode 2 of 3\n",
      "iteration 40, reconstruction error: 0.02575497895081286, decrease = 0.0001165518591836126, unnormalized = 1236.0316654604196\n",
      "Starting iteration 42\n",
      "Mode 0 of 3\n",
      "Mode 1 of 3\n",
      "Mode 2 of 3\n",
      "iteration 41, reconstruction error: 0.02565483905079717, decrease = 0.00010013990001568954, unnormalized = 1231.2257563726341\n",
      "Starting iteration 43\n",
      "Mode 0 of 3\n",
      "Mode 1 of 3\n",
      "Mode 2 of 3\n",
      "iteration 42, reconstruction error: 0.02556883478749352, decrease = 8.600426330365035e-05, unnormalized = 1227.0982440570183\n",
      "Starting iteration 44\n",
      "Mode 0 of 3\n",
      "Mode 1 of 3\n",
      "Mode 2 of 3\n",
      "iteration 43, reconstruction error: 0.02549499461390451, decrease = 7.384017358900985e-05, unnormalized = 1223.5545101283897\n",
      "Starting iteration 45\n",
      "Mode 0 of 3\n",
      "Mode 1 of 3\n",
      "Mode 2 of 3\n",
      "iteration 44, reconstruction error: 0.02543161416962547, decrease = 6.338044427903894e-05, unnormalized = 1220.5127590072004\n",
      "Starting iteration 46\n",
      "Mode 0 of 3\n",
      "Mode 1 of 3\n",
      "Mode 2 of 3\n",
      "iteration 45, reconstruction error: 0.025377222405880622, decrease = 5.439176374484947e-05, unnormalized = 1217.9023921939613\n",
      "Starting iteration 47\n",
      "Mode 0 of 3\n",
      "Mode 1 of 3\n",
      "Mode 2 of 3\n",
      "iteration 46, reconstruction error: 0.025330551330064965, decrease = 4.667107581565744e-05, unnormalized = 1215.6625562508052\n",
      "Starting iteration 48\n",
      "Mode 0 of 3\n",
      "Mode 1 of 3\n",
      "Mode 2 of 3\n",
      "iteration 47, reconstruction error: 0.025290509181117544, decrease = 4.004214894742092e-05, unnormalized = 1213.740855435339\n",
      "Starting iteration 49\n",
      "Mode 0 of 3\n",
      "Mode 1 of 3\n",
      "Mode 2 of 3\n",
      "iteration 48, reconstruction error: 0.025256156791664534, decrease = 3.435238945300942e-05, unnormalized = 1212.092217273792\n",
      "Starting iteration 50\n",
      "Mode 0 of 3\n",
      "Mode 1 of 3\n",
      "Mode 2 of 3\n",
      "iteration 49, reconstruction error: 0.025226686862898882, decrease = 2.946992876565191e-05, unnormalized = 1210.6778979220746\n",
      "Starting iteration 51\n",
      "Mode 0 of 3\n",
      "Mode 1 of 3\n",
      "Mode 2 of 3\n",
      "iteration 50, reconstruction error: 0.025201405869593158, decrease = 2.528099330572492e-05, unnormalized = 1209.4646137520565\n",
      "Starting iteration 52\n",
      "Mode 0 of 3\n",
      "Mode 1 of 3\n",
      "Mode 2 of 3\n",
      "iteration 51, reconstruction error: 0.025179718316317084, decrease = 2.1687553276073662e-05, unnormalized = 1208.4237857767441\n",
      "Starting iteration 53\n",
      "Mode 0 of 3\n",
      "Mode 1 of 3\n",
      "Mode 2 of 3\n",
      "iteration 52, reconstruction error: 0.025161113078363082, decrease = 1.8605237954001652e-05, unnormalized = 1207.5308841246601\n",
      "Starting iteration 54\n",
      "Mode 0 of 3\n",
      "Mode 1 of 3\n",
      "Mode 2 of 3\n",
      "iteration 53, reconstruction error: 0.025145151580534573, decrease = 1.596149782850942e-05, unnormalized = 1206.7648607168408\n",
      "Starting iteration 55\n",
      "Mode 0 of 3\n",
      "Mode 1 of 3\n"
     ]
    },
    {
     "name": "stdout",
     "output_type": "stream",
     "text": [
      "Mode 2 of 3\n",
      "iteration 54, reconstruction error: 0.025131457585957452, decrease = 1.36939945771207e-05, unnormalized = 1206.1076592119866\n",
      "Starting iteration 56\n",
      "Mode 0 of 3\n",
      "Mode 1 of 3\n",
      "Mode 2 of 3\n",
      "iteration 55, reconstruction error: 0.02511970839034093, decrease = 1.174919561652138e-05, unnormalized = 1205.5437924018663\n",
      "Starting iteration 57\n",
      "Mode 0 of 3\n",
      "Mode 1 of 3\n",
      "Mode 2 of 3\n",
      "iteration 56, reconstruction error: 0.025109627238582198, decrease = 1.0081151758732643e-05, unnormalized = 1205.059978269387\n",
      "Starting iteration 58\n",
      "Mode 0 of 3\n",
      "Mode 1 of 3\n",
      "Mode 2 of 3\n",
      "iteration 57, reconstruction error: 0.025100976800717864, decrease = 8.650437864334004e-06, unnormalized = 1204.6448268867814\n",
      "Starting iteration 59\n",
      "Mode 0 of 3\n",
      "Mode 1 of 3\n",
      "Mode 2 of 3\n",
      "iteration 58, reconstruction error: 0.025093553564823217, decrease = 7.423235894647023e-06, unnormalized = 1204.2885713199066\n",
      "Starting iteration 60\n",
      "Mode 0 of 3\n",
      "Mode 1 of 3\n",
      "Mode 2 of 3\n",
      "iteration 59, reconstruction error: 0.02508718302091721, decrease = 6.370543906005638e-06, unnormalized = 1203.9828364944553\n",
      "Starting iteration 61\n",
      "Mode 0 of 3\n",
      "Mode 1 of 3\n",
      "Mode 2 of 3\n",
      "iteration 60, reconstruction error: 0.025081715527088627, decrease = 5.467493828584247e-06, unnormalized = 1203.7204408032865\n",
      "Starting iteration 62\n",
      "Mode 0 of 3\n",
      "Mode 1 of 3\n",
      "Mode 2 of 3\n",
      "iteration 61, reconstruction error: 0.025077022762572346, decrease = 4.6927645162807285e-06, unnormalized = 1203.4952258826395\n",
      "Starting iteration 63\n",
      "Mode 0 of 3\n",
      "Mode 1 of 3\n",
      "Mode 2 of 3\n",
      "iteration 62, reconstruction error: 0.025072994685374956, decrease = 4.028077197390512e-06, unnormalized = 1203.301910602654\n",
      "Starting iteration 64\n",
      "Mode 0 of 3\n",
      "Mode 1 of 3\n",
      "Mode 2 of 3\n",
      "iteration 63, reconstruction error: 0.025069536923769623, decrease = 3.457761605332732e-06, unnormalized = 1203.1359658801223\n",
      "Starting iteration 65\n",
      "Mode 0 of 3\n",
      "Mode 1 of 3\n",
      "Mode 2 of 3\n",
      "iteration 64, reconstruction error: 0.025066568539966527, decrease = 2.9683838030959697e-06, unnormalized = 1202.9935073526713\n",
      "Starting iteration 66\n",
      "Mode 0 of 3\n",
      "Mode 1 of 3\n",
      "Mode 2 of 3\n",
      "iteration 65, reconstruction error: 0.025064020113034532, decrease = 2.5484269319947517e-06, unnormalized = 1202.8712033744357\n",
      "Starting iteration 67\n",
      "Mode 0 of 3\n",
      "Mode 1 of 3\n",
      "Mode 2 of 3\n",
      "iteration 66, reconstruction error: 0.02506183209582217, decrease = 2.1880172123636688e-06, unnormalized = 1202.7661961614917\n",
      "Starting iteration 68\n",
      "Mode 0 of 3\n",
      "Mode 1 of 3\n",
      "Mode 2 of 3\n",
      "iteration 67, reconstruction error: 0.025059953406764125, decrease = 1.878689058043559e-06, unnormalized = 1202.6760342099044\n",
      "Starting iteration 69\n",
      "Mode 0 of 3\n",
      "Mode 1 of 3\n",
      "Mode 2 of 3\n",
      "iteration 68, reconstruction error: 0.025058340222938923, decrease = 1.613183825202591e-06, unnormalized = 1202.5986143722114\n",
      "Starting iteration 70\n",
      "Mode 0 of 3\n",
      "Mode 1 of 3\n",
      "Mode 2 of 3\n",
      "iteration 69, reconstruction error: 0.025056954945688846, decrease = 1.3852772500766442e-06, unnormalized = 1202.5321322155066\n",
      "Starting iteration 71\n",
      "Mode 0 of 3\n",
      "Mode 1 of 3\n",
      "Mode 2 of 3\n",
      "iteration 70, reconstruction error: 0.025055765314001624, decrease = 1.1896316872220258e-06, unnormalized = 1202.4750394708979\n",
      "Starting iteration 72\n",
      "Mode 0 of 3\n",
      "Mode 1 of 3\n",
      "Mode 2 of 3\n",
      "iteration 71, reconstruction error: 0.02505474364444298, decrease = 1.0216695586449942e-06, unnormalized = 1202.426007556388\n",
      "Starting iteration 73\n",
      "Mode 0 of 3\n",
      "Mode 1 of 3\n",
      "Mode 2 of 3\n",
      "iteration 72, reconstruction error: 0.02505386617999848, decrease = 8.774644445000424e-07, unnormalized = 1202.3838963265248\n",
      "Starting iteration 74\n",
      "Mode 0 of 3\n",
      "Mode 1 of 3\n",
      "Mode 2 of 3\n",
      "iteration 73, reconstruction error: 0.025053112531453155, decrease = 7.536485453242536e-07, unnormalized = 1202.3477272631205\n",
      "Starting iteration 75\n",
      "Mode 0 of 3\n",
      "Mode 1 of 3\n",
      "Mode 2 of 3\n",
      "iteration 74, reconstruction error: 0.025052465198748968, decrease = 6.473327041865706e-07, unnormalized = 1202.3166605042622\n",
      "Starting iteration 76\n",
      "Mode 0 of 3\n",
      "Mode 1 of 3\n",
      "Mode 2 of 3\n",
      "iteration 75, reconstruction error: 0.025051909160436096, decrease = 5.560383128724866e-07, unnormalized = 1202.2899751412795\n",
      "Starting iteration 77\n",
      "Mode 0 of 3\n",
      "Mode 1 of 3\n",
      "Mode 2 of 3\n",
      "iteration 76, reconstruction error: 0.025051431521728312, decrease = 4.776387077833066e-07, unnormalized = 1202.2670523282343\n",
      "Starting iteration 78\n",
      "Mode 0 of 3\n",
      "Mode 1 of 3\n",
      "Mode 2 of 3\n",
      "iteration 77, reconstruction error: 0.025051021212648752, decrease = 4.103090795598563e-07, unnormalized = 1202.2473607953493\n",
      "Starting iteration 79\n",
      "Mode 0 of 3\n",
      "Mode 1 of 3\n",
      "Mode 2 of 3\n",
      "iteration 78, reconstruction error: 0.025050668729216248, decrease = 3.524834325044357e-07, unnormalized = 1202.2304444280342\n",
      "Starting iteration 80\n",
      "Mode 0 of 3\n",
      "Mode 1 of 3\n",
      "Mode 2 of 3\n",
      "iteration 79, reconstruction error: 0.02505036591135705, decrease = 3.0281785919766824e-07, unnormalized = 1202.2159116084365\n",
      "Starting iteration 81\n",
      "Mode 0 of 3\n",
      "Mode 1 of 3\n",
      "Mode 2 of 3\n",
      "iteration 80, reconstruction error: 0.025050105752445415, decrease = 2.601589116357772e-07, unnormalized = 1202.2034260749228\n",
      "Starting iteration 82\n",
      "Mode 0 of 3\n",
      "Mode 1 of 3\n",
      "Mode 2 of 3\n",
      "iteration 81, reconstruction error: 0.02504988223587929, decrease = 2.2351656612379367e-07, unnormalized = 1202.1926990790278\n",
      "Starting iteration 83\n",
      "Mode 0 of 3\n",
      "Mode 1 of 3\n",
      "Mode 2 of 3\n",
      "iteration 82, reconstruction error: 0.025049690194983237, decrease = 1.920408960534581e-07, unnormalized = 1202.183482661921\n",
      "Starting iteration 84\n",
      "Mode 0 of 3\n",
      "Mode 1 of 3\n",
      "Mode 2 of 3\n",
      "iteration 83, reconstruction error: 0.025049525192632816, decrease = 1.6500235042182787e-07, unnormalized = 1202.175563877348\n",
      "Starting iteration 85\n",
      "Mode 0 of 3\n",
      "Mode 1 of 3\n",
      "Mode 2 of 3\n",
      "iteration 84, reconstruction error: 0.025049383418098474, decrease = 1.417745343415544e-07, unnormalized = 1202.1687598409658\n",
      "Starting iteration 86\n",
      "Mode 0 of 3\n",
      "Mode 1 of 3\n",
      "Mode 2 of 3\n",
      "iteration 85, reconstruction error: 0.02504926159834797, decrease = 1.2181975050234994e-07, unnormalized = 1202.1629134735745\n",
      "Starting iteration 87\n",
      "Mode 0 of 3\n",
      "Mode 1 of 3\n",
      "Mode 2 of 3\n",
      "iteration 86, reconstruction error: 0.025049156922259255, decrease = 1.0467608871703171e-07, unnormalized = 1202.1578898639448\n",
      "Starting iteration 88\n",
      "Mode 0 of 3\n",
      "Mode 1 of 3\n",
      "Mode 2 of 3\n",
      "iteration 87, reconstruction error: 0.02504906697511975, decrease = 8.994713950397082e-08, unnormalized = 1202.1535731253111\n",
      "Starting iteration 89\n",
      "Mode 0 of 3\n",
      "Mode 1 of 3\n",
      "Mode 2 of 3\n",
      "iteration 88, reconstruction error: 0.025048989682704376, decrease = 7.729241537426934e-08, unnormalized = 1202.149863711567\n",
      "Starting iteration 90\n",
      "Mode 0 of 3\n",
      "Mode 1 of 3\n",
      "Mode 2 of 3\n",
      "iteration 89, reconstruction error: 0.025048923263289887, decrease = 6.641941448920496e-08, unnormalized = 1202.146676114339\n",
      "Starting iteration 91\n",
      "Mode 0 of 3\n",
      "Mode 1 of 3\n",
      "Mode 2 of 3\n",
      "iteration 90, reconstruction error: 0.025048866186135974, decrease = 5.7077153912954426e-08, unnormalized = 1202.1439368704148\n",
      "Starting iteration 92\n",
      "Mode 0 of 3\n",
      "Mode 1 of 3\n",
      "Mode 2 of 3\n",
      "iteration 91, reconstruction error: 0.025048817136343566, decrease = 4.904979240827334e-08, unnormalized = 1202.1415828752235\n",
      "Starting iteration 93\n",
      "Mode 0 of 3\n",
      "Mode 1 of 3\n",
      "Mode 2 of 3\n",
      "iteration 92, reconstruction error: 0.025048774984206733, decrease = 4.215213683309016e-08, unnormalized = 1202.1395599119746\n",
      "Starting iteration 94\n",
      "Mode 0 of 3\n",
      "Mode 1 of 3\n",
      "Mode 2 of 3\n",
      "iteration 93, reconstruction error: 0.02504873875905063, decrease = 3.622515610396393e-08, unnormalized = 1202.1378213960893\n",
      "Starting iteration 95\n",
      "Mode 0 of 3\n",
      "Mode 1 of 3\n",
      "Mode 2 of 3\n",
      "iteration 94, reconstruction error: 0.0250487076270849, decrease = 3.113196572757104e-08, unnormalized = 1202.1363273123427\n",
      "Starting iteration 96\n",
      "Mode 0 of 3\n",
      "Mode 1 of 3\n",
      "Mode 2 of 3\n",
      "iteration 95, reconstruction error: 0.025048680871793447, decrease = 2.6755291454572117e-08, unnormalized = 1202.1350432737295\n",
      "Starting iteration 97\n",
      "Mode 0 of 3\n",
      "Mode 1 of 3\n",
      "Mode 2 of 3\n",
      "iteration 96, reconstruction error: 0.025048657877521974, decrease = 2.2994271473009142e-08, unnormalized = 1202.1339397337995\n",
      "Starting iteration 98\n",
      "Mode 0 of 3\n",
      "Mode 1 of 3\n",
      "Mode 2 of 3\n",
      "iteration 97, reconstruction error: 0.02504863811536273, decrease = 1.9762159242375787e-08, unnormalized = 1202.1329913092386\n",
      "Starting iteration 99\n",
      "Mode 0 of 3\n",
      "Mode 1 of 3\n",
      "Mode 2 of 3\n",
      "iteration 98, reconstruction error: 0.025048621130741456, decrease = 1.698462127538991e-08, unnormalized = 1202.1321761841414\n",
      "Starting iteration 100\n",
      "Mode 0 of 3\n",
      "Mode 1 of 3\n",
      "Mode 2 of 3\n",
      "iteration 99, reconstruction error: 0.02504860653316117, decrease = 1.4597580286906942e-08, unnormalized = 1202.1314756177962\n"
     ]
    }
   ],
   "source": [
    "# doing Parafac decomposition\n",
    "from tensorly.decomposition import parafac\n",
    "weights, factors = parafac(X,rank = 3, verbose = 2)"
   ]
  },
  {
   "cell_type": "markdown",
   "id": "466780dc",
   "metadata": {},
   "source": [
    "## PARAFAC should have three components and therefore a 5 × 3 so called score matrix (first mode loading matrix). Each column in this score matrix should approximately match the concentration of one of the three aminoacids which are held in the 5 × 3 Y matrix. Matching in this case, means that the corresponding columns should be correlated."
   ]
  },
  {
   "cell_type": "code",
   "execution_count": 29,
   "id": "9189c3fc",
   "metadata": {},
   "outputs": [
    {
     "data": {
      "text/plain": [
       "3"
      ]
     },
     "execution_count": 29,
     "metadata": {},
     "output_type": "execute_result"
    }
   ],
   "source": [
    "len(factors)"
   ]
  },
  {
   "cell_type": "code",
   "execution_count": 30,
   "id": "5e7feff1",
   "metadata": {},
   "outputs": [
    {
     "data": {
      "text/plain": [
       "[(5, 3), (201, 3), (61, 3)]"
      ]
     },
     "execution_count": 30,
     "metadata": {},
     "output_type": "execute_result"
    }
   ],
   "source": [
    "[f.shape for f in factors]"
   ]
  },
  {
   "cell_type": "code",
   "execution_count": 31,
   "id": "db8ceb5e",
   "metadata": {},
   "outputs": [
    {
     "data": {
      "text/plain": [
       "array([[False, False, False],\n",
       "       [False, False, False],\n",
       "       [False, False, False],\n",
       "       [False, False, False],\n",
       "       [False, False, False]])"
      ]
     },
     "execution_count": 31,
     "metadata": {},
     "output_type": "execute_result"
    }
   ],
   "source": [
    "np.isclose(Y, factors[0]) # obviously they are not close enough for numpy, will do all possible column permutations correlation then"
   ]
  },
  {
   "cell_type": "code",
   "execution_count": 96,
   "id": "33be6ed5",
   "metadata": {},
   "outputs": [],
   "source": [
    "import pandas as pd\n",
    "import seaborn as sns\n",
    "import matplotlib.pyplot as plt\n",
    "\n",
    "def corrEstimate (i, j, Y, factors):\n",
    "    data = {\n",
    "        'Y': Y[:,i], \n",
    "        'Y_p': factors[0][:,j]\n",
    "    }\n",
    "\n",
    "    df = pd.DataFrame(data, columns=['Y', 'Y_p'])\n",
    "    corr = df.corr()\n",
    "    print(\"Correlation matrix of estimated column\" + str(i) + \" with ground truth \" + str(j) + \" is : \")\n",
    "    print(corr)\n",
    "    \n",
    "    return corr, ax"
   ]
  },
  {
   "cell_type": "code",
   "execution_count": 97,
   "id": "38e876bc",
   "metadata": {},
   "outputs": [
    {
     "name": "stdout",
     "output_type": "stream",
     "text": [
      "Correlation matrix of estimated column0 with ground truth 0 is : \n",
      "           Y      Y_p\n",
      "Y    1.00000  0.99979\n",
      "Y_p  0.99979  1.00000\n",
      "Correlation matrix of estimated column0 with ground truth 1 is : \n",
      "            Y       Y_p\n",
      "Y    1.000000 -0.453046\n",
      "Y_p -0.453046  1.000000\n",
      "Correlation matrix of estimated column0 with ground truth 2 is : \n",
      "            Y       Y_p\n",
      "Y    1.000000  0.472091\n",
      "Y_p  0.472091  1.000000\n",
      "Correlation matrix of estimated column1 with ground truth 0 is : \n",
      "            Y       Y_p\n",
      "Y    1.000000 -0.468775\n",
      "Y_p -0.468775  1.000000\n",
      "Correlation matrix of estimated column1 with ground truth 1 is : \n",
      "            Y       Y_p\n",
      "Y    1.000000 -0.485107\n",
      "Y_p -0.485107  1.000000\n",
      "Correlation matrix of estimated column1 with ground truth 2 is : \n",
      "            Y       Y_p\n",
      "Y    1.000000 -0.999839\n",
      "Y_p -0.999839  1.000000\n",
      "Correlation matrix of estimated column2 with ground truth 0 is : \n",
      "            Y       Y_p\n",
      "Y    1.000000 -0.455363\n",
      "Y_p -0.455363  1.000000\n",
      "Correlation matrix of estimated column2 with ground truth 1 is : \n",
      "            Y       Y_p\n",
      "Y    1.000000  0.998167\n",
      "Y_p  0.998167  1.000000\n",
      "Correlation matrix of estimated column2 with ground truth 2 is : \n",
      "            Y       Y_p\n",
      "Y    1.000000  0.478997\n",
      "Y_p  0.478997  1.000000\n"
     ]
    },
    {
     "data": {
      "image/png": "[encoded data removed]",
      "text/plain": [
       "<Figure size 1080x864 with 9 Axes>"
      ]
     },
     "metadata": {
      "needs_background": "light"
     },
     "output_type": "display_data"
    }
   ],
   "source": [
    "plt.figure(figsize=(15, 12))\n",
    "ax = 0\n",
    "corrList = []\n",
    "for i in range(Y.shape[1]):\n",
    "    for j in range(factors[0].shape[1]):\n",
    "        corr, ax = corrEstimate(i, j, Y, factors)\n",
    "        corrList.append(corr)\n",
    "\n",
    "n=0 # there is a bug that makes the plot read the same correlation matrix every time, I tried inside the function, and then added the list to separate the variables, and not good\n",
    "for i in range(Y.shape[1]):\n",
    "    for j in range(factors[0].shape[1]):\n",
    "        ax = plt.subplot(3, 3, n+1)\n",
    "        plt.imshow(corrList[n],cmap='coolwarm',interpolation='nearest')\n",
    "        n= n+1"
   ]
  },
  {
   "cell_type": "markdown",
   "id": "7ef678b3",
   "metadata": {},
   "source": [
    "### It is obvious that the first estimated chemical matches the first ground truth, more than the other two\n",
    "\n",
    "### The second estimated chemical matches the third ground truth, \n",
    "\n",
    "### The third estimated checmical matches the second ground truth\n",
    "\n",
    "### The second and third are swapped"
   ]
  },
  {
   "cell_type": "markdown",
   "id": "6cf1cd04",
   "metadata": {},
   "source": [
    "# Ch6: Fundamentals of Tensor Analysis & Applications\n",
    "\n",
    "## 6.1 Scientific Computing Applications\n",
    "\n",
    "## Second Problem is a survey answers about happiness scores related to 3 conditions. This created a three-way contingency table has as its variables: Happiness reported by participants in a survey (i mode-1 : 3 categories), Number of siblings (j mode-2 : Siblings - 5 categories) and the Years of schooling completed (k mode-3 : Schooling - 4 categories). It is thus a frequency table containing in the cells the number of people with a particular combination of categories. \n",
    "\n",
    "## the data is stored in a dat file that reads a 2 dimensional matricised tensor, (12, 5), assuming that reshaping into (3, 4, 5) and swapping the mode-2 and mode-3 in the problem definition in https://three-mode.leidenuniv.nl/ will be ok\n",
    "\n",
    "## Will decompose with Tucker to find which rank gives the best fit."
   ]
  },
  {
   "cell_type": "code",
   "execution_count": 120,
   "id": "d2f2e436",
   "metadata": {},
   "outputs": [
    {
     "data": {
      "text/plain": [
       "(12, 5)"
      ]
     },
     "execution_count": 120,
     "metadata": {},
     "output_type": "execute_result"
    }
   ],
   "source": [
    "import csv\n",
    "\n",
    "# read flash.dat to a list of lists\n",
    "datContent = [i.strip().split() for i in open(\"data/Happiness.dat\").readlines()]\n",
    "\n",
    "X = np.array(datContent)\n",
    "X.shape"
   ]
  },
  {
   "cell_type": "code",
   "execution_count": 121,
   "id": "e0d7949b",
   "metadata": {},
   "outputs": [
    {
     "data": {
      "text/plain": [
       "(3, 4, 5)"
      ]
     },
     "execution_count": 121,
     "metadata": {},
     "output_type": "execute_result"
    }
   ],
   "source": [
    "X = X.reshape(3, 4, 5)\n",
    "X.shape"
   ]
  },
  {
   "cell_type": "code",
   "execution_count": 163,
   "id": "e98b4df1",
   "metadata": {},
   "outputs": [],
   "source": [
    "# doing Tucker decomposition\n",
    "from tensorly.decomposition import tucker\n",
    "import tensorly as tl\n",
    "import math\n",
    "\n",
    "\n",
    "\n",
    "def doTucker (X, rank):\n",
    "    X = tl.tensor(X,dtype=float)\n",
    "    core, factors = tucker(X, rank=rank)\n",
    "    tucker_reconstruction_2 = tl.tucker_to_tensor((core, factors))\n",
    "\n",
    "    tk_RMSE = math.sqrt(np.square(np.subtract(X,tucker_reconstruction_2)).mean() )\n",
    "    print (\"Tucker \" + str(rank) + \" RMSE = \", tk_RMSE)\n",
    "    return core ,factors, tk_RMSE"
   ]
  },
  {
   "cell_type": "code",
   "execution_count": 247,
   "id": "f6d0d75f",
   "metadata": {
    "scrolled": true
   },
   "outputs": [
    {
     "name": "stdout",
     "output_type": "stream",
     "text": [
      "Tucker (1, 1, 1) RMSE =  12.598852747845193\n",
      "Tucker (1, 1, 2) RMSE =  12.598852744280288\n",
      "Tucker (1, 1, 3) RMSE =  12.59885274425921\n",
      "Tucker (1, 1, 4) RMSE =  12.598852744251092\n",
      "Tucker (1, 2, 1) RMSE =  12.598852744714836\n",
      "Tucker (1, 2, 2) RMSE =  5.422717217988446\n",
      "Tucker (1, 2, 3) RMSE =  5.422717217988797\n",
      "Tucker (1, 2, 4) RMSE =  5.422717217989062\n",
      "Tucker (1, 3, 1) RMSE =  12.598852744230822\n",
      "Tucker (1, 3, 2) RMSE =  5.422717217988598\n",
      "Tucker (1, 3, 3) RMSE =  5.194856418784414\n",
      "Tucker (1, 3, 4) RMSE =  5.194852434187298\n",
      "Tucker (2, 1, 1) RMSE =  12.598852747725521\n",
      "Tucker (2, 1, 2) RMSE =  12.353237845601098\n",
      "Tucker (2, 1, 3) RMSE =  12.353281907905796\n",
      "Tucker (2, 1, 4) RMSE =  12.353162180049729\n",
      "Tucker (2, 2, 1) RMSE =  12.26573244654067\n",
      "Tucker (2, 2, 2) RMSE =  4.329851523834253\n",
      "Tucker (2, 2, 3) RMSE =  4.1639433811974085\n",
      "Tucker (2, 2, 4) RMSE =  4.111071395674339\n",
      "Tucker (2, 3, 1) RMSE =  12.26573242990964\n",
      "Tucker (2, 3, 2) RMSE =  4.30706843030477\n",
      "Tucker (2, 3, 3) RMSE =  4.013234749236352\n",
      "Tucker (2, 3, 4) RMSE =  3.700581196406559\n",
      "Lowest RMSE achieched at rank = (2, 3, 4)\n"
     ]
    }
   ],
   "source": [
    "# doing Tucker decomposition\n",
    "from tensorly.decomposition import tucker\n",
    "import tensorly as tl\n",
    "\n",
    "ranks = []\n",
    "tucker_RMSE=[]\n",
    "\n",
    "## two useful functions\n",
    "np.unravel_index(0, X.shape) # flat linear index to multidimensional index \n",
    "np.ravel_multi_index([X.shape[i]-1 for i in range(len(X.shape))], X.shape) # multidimensional index to flat linear index\n",
    "\n",
    "\n",
    "for i in range(np.prod(X.shape)): # iterate through the flat index\n",
    "    rank= np.unravel_index(i, X.shape) # get the multidimensional index to use as a rank, in case it does not contain a zero, this will traverse all possible ranks\n",
    "    if np.all(rank):\n",
    "        core ,factors, tk_RMSE = doTucker(X, rank)\n",
    "        tucker_RMSE.append(tk_RMSE)\n",
    "        ranks.append(str(rank))\n",
    "\n",
    "\n",
    "max = np.argmin(tucker_RMSE)\n",
    "print (\"Lowest RMSE achieched at rank = \" + ranks[max]) # this will show the full matrix rank, "
   ]
  },
  {
   "cell_type": "code",
   "execution_count": 245,
   "id": "26b7e0ef",
   "metadata": {},
   "outputs": [
    {
     "data": {
      "image/png": "[encoded data removed]",
      "text/plain": [
       "<Figure size 1440x432 with 1 Axes>"
      ]
     },
     "metadata": {
      "needs_background": "light"
     },
     "output_type": "display_data"
    }
   ],
   "source": [
    "import matplotlib.pyplot as plt\n",
    "%matplotlib inline\n",
    "\n",
    "fig = plt.figure( figsize=(20,6))\n",
    "plt.style.use('ggplot')\n",
    "\n",
    "x_pos = [i for i, _ in enumerate(ranks)]\n",
    "\n",
    "plt.bar(ranks, tucker_RMSE, color='green')\n",
    "plt.xlabel(\"Dimensionality Reduction Methods\")\n",
    "plt.ylabel(\"RMSE\")\n",
    "plt.title(\"Comparing Classification RMSE using RandomForest on Linear unsupervised PCA, supervised LDA/QDA and various Embedding Learning Algorithms\")\n",
    "\n",
    "plt.xticks(x_pos, ranks)\n",
    "\n",
    "plt.show()"
   ]
  },
  {
   "cell_type": "markdown",
   "id": "7e00df7d",
   "metadata": {},
   "source": [
    "## Looking at all possible ranks reconstruction error, it seems the highest errors occured when all modes were reduced, but when first mode only was reduced, the error was small, which means it is not very dominant in this dataset, and the third mode seems to be the most dominant.  \n",
    "\n",
    "In the book ( Kroonenberg, P.M., 2008. Applied multi-way data analysis, Wiley series in probability and statistics. Wiley-Interscience, Hoboken, N.J.) the author showed that rank (2,2,2) was the most fit to this dataset, which is proven here as well. The software he used can be downloaded from https://three-mode.leidenuniv.nl/ , "
   ]
  }
 ],
 "metadata": {
  "kernelspec": {
   "display_name": "Python 3 (ipykernel)",
   "language": "python",
   "name": "python3"
  },
  "language_info": {
   "codemirror_mode": {
    "name": "ipython",
    "version": 3
   },
   "file_extension": ".py",
   "mimetype": "text/x-python",
   "name": "python",
   "nbconvert_exporter": "python",
   "pygments_lexer": "ipython3",
   "version": "3.9.7"
  }
 },
 "nbformat": 4,
 "nbformat_minor": 5
}
