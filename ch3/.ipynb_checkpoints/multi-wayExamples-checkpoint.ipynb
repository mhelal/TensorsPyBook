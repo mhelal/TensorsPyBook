{
 "cells": [
  {
   "cell_type": "markdown",
   "id": "1e49fd61",
   "metadata": {},
   "source": [
    "# Ch3: Geometry & Algebra of Tensors\n",
    "    \n",
    "## 3.1 Motivation and Intuition\n",
    "\n",
    "A Video Analysis with Tensor Decomposition in Python example can be found at:\n",
    "https://towardsdatascience.com/video-analysis-with-tensor-decomposition-in-python-3a1fe088831c\n",
    "\n",
    "Other Examples are presented below, using a tensorisation step that is hand tailored to each examples, with attempts to generalise\n",
    "\n",
    "Indexing routines can be found in https://numpy.org/doc/stable/reference/arrays.indexing.html\n",
    "\n"
   ]
  },
  {
   "cell_type": "code",
   "execution_count": null,
   "id": "7fdea736",
   "metadata": {},
   "outputs": [],
   "source": [
    "import math\n",
    "\n",
    "def tensorisation_Values (Df, components, value=\"value\", aggFunc=np.mean):\n",
    "    if components >= Df.shape[1]:\n",
    "        print (\"Number of components must be less or equal to number of the columns in the input matrix. Exiting without creating the tensor\")\n",
    "        return\n",
    "    minVals = []\n",
    "    maxVals = []\n",
    "    tensorShape = []\n",
    "    for i in range(components):\n",
    "        minVal = Df.iloc[:,i].min()\n",
    "        # this will be an index, therefore starting from zero is necessary\n",
    "        if minVal > 0:\n",
    "            Df.iloc[:,i] += minVal\n",
    "            minVal = 0\n",
    "        if minVal < 0:\n",
    "            Df.iloc[:,i] -= minVal\n",
    "            minVal = 0\n",
    "        minVals.append(minVal)\n",
    "        # also the max value need to be positive non-zero, because it will be the tensor shape \n",
    "        maxVal = Df.iloc[:,i].max()\n",
    "        if maxVal <= 0:\n",
    "            Df.iloc[:,i] -= maxVal + 1\n",
    "            maxVal = 1\n",
    "        maxVals.append(maxVal)\n",
    "        print(\"mode  \" + str(i) + \" max value =\" + str(maxVal) + \", min value = \" + str(minVal))\n",
    "        tensorShape.append(int(maxVal)+1)\n",
    "\n",
    "    # update the values in the array, to be used as indices\n",
    "    for k,j in Df.iterrows():\n",
    "            for i in range(components):\n",
    "                j[i] = int(math.floor(j[i])) + abs(int(minVals[i])) + 1\n",
    "    print (tensorShape)\n",
    "    tensorShape = tuple(tensorShape) \n",
    "    tensor_array = np.zeros(tensorShape)\n",
    "    count = 0\n",
    "    for k,j in Df.iterrows():\n",
    "        count = count + 1\n",
    "        t_index = tuple(\n",
    "            int(j[i]) for i in range(components)\n",
    "        )\n",
    "        #print (t_index)\n",
    "        tensor_array[t_index] = aggFunc(j[value])\n",
    "\n",
    "    return tensor_array"
   ]
  },
  {
   "cell_type": "code",
   "execution_count": null,
   "id": "02cbd81d",
   "metadata": {},
   "outputs": [],
   "source": [
    "import pandas as pd # data processing, CSV file I/O (e.g. pd.read_csv)\n",
    "import numpy as np\n",
    "\n",
    "userdata = pd.read_csv('data/GlobalLandTemperaturesByMajorCity.csv')\n",
    "columns = ['dt','AverageTemperature','AverageTemperatureUncertainty','City','Country','Latitude','Longitude'] # such that these will be x\n",
    "df=userdata[columns].copy()\n",
    "Values = userdata[\"AverageTemperature\"] # this will be the values of the tensor\n",
    "df"
   ]
  },
  {
   "cell_type": "code",
   "execution_count": null,
   "id": "17ead59a",
   "metadata": {},
   "outputs": [],
   "source": [
    "# We will tensorise in the same order mentioned in chapter 3 first section on motivational problem\n",
    "# First example is one temperature value as a scalar (rank-zero tensor), which does not require tensorisation, just indexing will do\n",
    "df.iloc[0, 1] # specifying the index values, which is not usually interpreted easily\n"
   ]
  },
  {
   "cell_type": "code",
   "execution_count": null,
   "id": "df3d0571",
   "metadata": {},
   "outputs": [],
   "source": [
    "df.loc[(df['City']== 'Abidjan') & (df['dt']=='1849-01-01') ,['AverageTemperature']] # specifing the values needed (city and date values)"
   ]
  },
  {
   "cell_type": "code",
   "execution_count": null,
   "id": "67223653",
   "metadata": {},
   "outputs": [],
   "source": [
    "# Second example is all temperature values in this dataset or in a specific city as a vector (rank-one tensor), which does not require tensorisation, just indexing will do\n",
    "\n",
    "df.loc[df['City'] == 'Abidjan']['AverageTemperature']"
   ]
  },
  {
   "cell_type": "code",
   "execution_count": null,
   "id": "1a9d8d12",
   "metadata": {},
   "outputs": [],
   "source": [
    "# Third example is temperature values per city (rank-two tensor). We will do it using pivot tables, and again with tensorisation\n",
    "# pivot tables are another method in handling multi-way analysis\n",
    "# checking how many cardiac cases in each age value\n",
    "\n",
    "cityTempMeans = df.pivot_table(values='AverageTemperature',\n",
    "                               index='City', \n",
    "                               aggfunc=np.mean,               ## aggfunc='size', # size if you want to aggregate by frequency counting\n",
    "                               fill_value=0)\n",
    "cityTempMeans"
   ]
  },
  {
   "cell_type": "code",
   "execution_count": null,
   "id": "86ccd803",
   "metadata": {},
   "outputs": [],
   "source": [
    "cityTempMeans.iloc[0,0] # Average temperature for Abidjan by indexing the pivot table"
   ]
  },
  {
   "cell_type": "code",
   "execution_count": null,
   "id": "7a94c29d",
   "metadata": {},
   "outputs": [],
   "source": [
    "df.loc[df['City'] == 'Abidjan']['AverageTemperature'].mean() # getting to the same value from the original dataset DataFrame, probably the mean function used here is not np.mean since the value is slightly different, but could be rounding error"
   ]
  },
  {
   "cell_type": "code",
   "execution_count": null,
   "id": "9ac54ecd",
   "metadata": {},
   "outputs": [],
   "source": [
    "for i in range(1):\n",
    "    print(sdf.iloc[:,i].min())"
   ]
  },
  {
   "cell_type": "code",
   "execution_count": null,
   "id": "60e55177",
   "metadata": {},
   "outputs": [],
   "source": [
    "# tensorising by arranging the columns as coordinates first, and last column is the value to aggregate on\n",
    "\n",
    "columns = ['City','AverageTemperature'] # such that these will be x\n",
    "sdf=userdata[columns].copy()\n",
    "\n",
    "# we need to encode all coordinate columns numerically\n",
    "from sklearn import preprocessing\n",
    "\n",
    "# lbl_encoder object knows how to understand word labels.\n",
    "city_encoder = preprocessing.LabelEncoder()\n",
    "\n",
    "sdf['CityBasis']= city_encoder.fit_transform(sdf['City'])\n",
    "sdf['CityBasis'].unique()"
   ]
  },
  {
   "cell_type": "code",
   "execution_count": null,
   "id": "d6f34614",
   "metadata": {},
   "outputs": [],
   "source": [
    "city_encoder.classes_"
   ]
  },
  {
   "cell_type": "code",
   "execution_count": null,
   "id": "eca6fae3",
   "metadata": {},
   "outputs": [],
   "source": [
    "city_encoder.inverse_transform([0])"
   ]
  },
  {
   "cell_type": "code",
   "execution_count": null,
   "id": "5774dbb1",
   "metadata": {},
   "outputs": [],
   "source": [
    "city_encoder.transform(['Abidjan'])"
   ]
  },
  {
   "cell_type": "code",
   "execution_count": null,
   "id": "462c78f6",
   "metadata": {},
   "outputs": [],
   "source": [
    "columns = ['CityBasis', 'City','AverageTemperature'] # such that these will be x\n",
    "sdf=sdf[columns].copy()\n",
    "sdf"
   ]
  },
  {
   "cell_type": "code",
   "execution_count": null,
   "id": "d13c4ea6",
   "metadata": {},
   "outputs": [],
   "source": [
    "import tensorly as tl\n",
    "\n",
    "tensor_array = tensorisation_Values (sdf, 1, value=\"AverageTemperature\", aggFunc=np.mean)\n",
    "tensor2 = tl.tensor(tensor_array)\n",
    "tensor2.shape\n"
   ]
  },
  {
   "cell_type": "code",
   "execution_count": null,
   "id": "bafafc3a",
   "metadata": {},
   "outputs": [],
   "source": [
    "tensor2 # the tensorisation function can also be updated to handle nan values, and to be vectorised and optimisaed for parallel processing"
   ]
  },
  {
   "cell_type": "code",
   "execution_count": null,
   "id": "f309f80d",
   "metadata": {},
   "outputs": [],
   "source": [
    "# Fourth example is temperature values per location as Latitude & Longitude  (rank-three tensor). \n",
    "#Attemping pivot tables, will still be rank-two, as we create a matrix with the both location columns flattened in one mode\n",
    "columns = ['dt','AverageTemperature','AverageTemperatureUncertainty','City','Country','Latitude','Longitude'] # such that these will be x\n",
    "\n",
    "\n",
    "locTempMeans = df.pivot_table(values='AverageTemperature',\n",
    "                               index=['Latitude','Longitude'], \n",
    "                               aggfunc=np.mean,               ## aggfunc='size', # size if you want to aggregate by frequency counting\n",
    "                               fill_value=0)\n",
    "locTempMeans\n",
    "\n"
   ]
  },
  {
   "cell_type": "code",
   "execution_count": null,
   "id": "b0cdd63f",
   "metadata": {},
   "outputs": [],
   "source": [
    "#We will do it using tensorisation\n",
    "\n",
    "columns = ['Latitude','Longitude','AverageTemperature'] \n",
    "sdf=userdata[columns].copy()\n",
    "\n",
    "sdf # 'Latitude','Longitude' contain numeric values followed by N/S in the first, and E/W in the second, which is degree minute second (DMS) coordinates \n",
    "# We will need to be numerically encode them to be turned to coordinate basis using decimal degrees\n",
    "# there is a solution here https://medium.com/@quinn.dougherty92/simple-geographical-encoding-8293fde9e964"
   ]
  },
  {
   "cell_type": "code",
   "execution_count": null,
   "id": "e9067179",
   "metadata": {},
   "outputs": [],
   "source": [
    "!pip install dms2dec"
   ]
  },
  {
   "cell_type": "code",
   "execution_count": null,
   "id": "1b708241",
   "metadata": {},
   "outputs": [],
   "source": [
    "# geopandas has interesting solutions, but will use dms2dec for simplicity\n",
    "from dms2dec.dms_convert import dms2dec\n",
    "sdf['Latitude'] = sdf['Latitude'].apply(dms2dec)\n",
    "sdf['Longitude'] = sdf['Longitude'].apply(dms2dec)\n",
    "sdf['Latitude'] = sdf['Latitude'].astype(float)\n",
    "sdf['Longitude'] = sdf['Longitude'].astype(float)\n",
    "sdf"
   ]
  },
  {
   "cell_type": "code",
   "execution_count": null,
   "id": "191567bc",
   "metadata": {},
   "outputs": [],
   "source": [
    "# we will need to update the tensorisation function to be able to aggregate by mean or other function, and take\n",
    "# the values as mean of rows returned from a condition per column in the dataframe\n",
    "# this is almost tailored to Latitude & Longitude specific values, it is better to be updated to ranges, such that\n",
    "# values are aggregated when they are >= the current basis index and < next basis index\n",
    "# many optimisations can be achived for vectorisation, paralleisation, quantisation\n",
    "def tensorisation2_Values (Df, components, value=\"value\", aggFunc=np.mean):\n",
    "    if components >= Df.shape[1]:\n",
    "        print (\"Number of components must be less or equal to number of the columns in the input matrix. Exiting without creating the tensor\")\n",
    "        return\n",
    "    minVals = []\n",
    "    maxVals = []\n",
    "    tensorShape = []\n",
    "    for i in range(components):\n",
    "        minVal = Df.iloc[:,i].min()\n",
    "        # this will be an index, therefore starting from zero is necessary\n",
    "        if minVal > 0:\n",
    "            Df.iloc[:,i] += minVal\n",
    "            minVal = 0\n",
    "        if minVal < 0:\n",
    "            Df.iloc[:,i] -= minVal\n",
    "            minVal = 0\n",
    "        minVals.append(minVal)\n",
    "        # also the max value need to be positive non-zero, because it will be the tensor shape \n",
    "        maxVal = Df.iloc[:,i].max()\n",
    "        if maxVal <= 0:\n",
    "            Df.iloc[:,i] -= maxVal + 1\n",
    "            maxVal = 1\n",
    "        maxVals.append(maxVal)\n",
    "        print(\"mode  \" + str(i) + \" max value =\" + str(maxVal) + \", min value = \" + str(minVal))\n",
    "        tensorShape.append(int(maxVal)+1)\n",
    "\n",
    "    # update the values in the array, to be used as indices\n",
    "    for k,j in Df.iterrows():\n",
    "            for i in range(components):\n",
    "                j[i] = int(math.floor(j[i])) + abs(int(minVals[i])) + 1\n",
    "    print (tensorShape)\n",
    "    tensorShape = tuple(tensorShape) \n",
    "    tensor_array = np.zeros(tensorShape)\n",
    "    \n",
    "    ## two useful functions\n",
    "    np.unravel_index(0, tensorShape) # flat linear index to multidimensional index \n",
    "    np.ravel_multi_index([tensorShape[i]-1 for i in range(len(tensorShape))], tensorShape) # multidimensional index to flat linear index\n",
    "\n",
    "    for i in range (np.prod(tensorShape)-1): # iterate through the tensor flat indices, can try for element in np.nditer(arr): then get the index of the element\n",
    "        t_index = np.unravel_index(i, tensorShape) # get the tensor multidimensional index\n",
    "        print (\"i: \" + str(i) + \" t_in: \" + str(t_index))\n",
    "        condition = '' # accumulate the conditions to add to the data frame selection\n",
    "        for j in range(len(t_index)):       # iterate through the dataframe columns\n",
    "            if j==0:\n",
    "                condition += '(Df[Df.columns[' + str(j)+']] == ' + str(t_index[j]) + ')'\n",
    "            else:\n",
    "                condition += ' & (Df[Df.columns[' + str(j)+']]  == ' + str(t_index[j]) + ')'\n",
    "            print (\"j: \" + str(j) + \" column: \" + Df.columns[j] + \" cond: \" + condition)\n",
    "            \n",
    "        #print (\"Condition is: \" + condition)\n",
    "        if len(condition) > 0:    \n",
    "            #print (eval(condition))\n",
    "            tensor_array[t_index] = aggFunc(Df.loc[eval(condition)]['AverageTemperature'])\n",
    "        else:\n",
    "            tensor_array[t_index] = aggFunc(Df.loc['AverageTemperature'])\n",
    "\n",
    "\n",
    "    return tensor_array"
   ]
  },
  {
   "cell_type": "code",
   "execution_count": null,
   "id": "21ca50ab",
   "metadata": {},
   "outputs": [],
   "source": [
    "tensor_array =  tensorisation2_Values (sdf, 2, value=\"AverageTemperature\", aggFunc=np.mean)\n",
    "tensor2 = tl.tensor(tensor_array)\n",
    "tensor2.shape"
   ]
  },
  {
   "cell_type": "code",
   "execution_count": null,
   "id": "bcb5da79",
   "metadata": {},
   "outputs": [],
   "source": [
    "tensor2\n"
   ]
  },
  {
   "cell_type": "code",
   "execution_count": null,
   "id": "3a4f0ec4",
   "metadata": {},
   "outputs": [],
   "source": [
    "# Fifth example is temperature values per location as Latitude & Longitude & date  (rank-four tensor). We will do it using tensorisation\n",
    "#Attemping pivot tables, will still be rank-two, as we create a matrix with the both location columns and time column flattened in one mode\n",
    "columns = ['dt','AverageTemperature','AverageTemperatureUncertainty','City','Country','Latitude','Longitude'] # such that these will be x\n",
    "\n",
    "\n",
    "locTempMeans = df.pivot_table(values='AverageTemperature',\n",
    "                               index=['Latitude','Longitude','dt'], \n",
    "                               aggfunc=np.mean,               ## aggfunc='size', # size if you want to aggregate by frequency counting\n",
    "                               fill_value=0)\n",
    "locTempMeans\n"
   ]
  },
  {
   "cell_type": "code",
   "execution_count": null,
   "id": "2484246d",
   "metadata": {},
   "outputs": [],
   "source": [
    "#We will do it using tensorisation\n",
    "\n",
    "columns = ['Latitude','Longitude','dt', 'AverageTemperature'] \n",
    "sdf=userdata[columns].copy()\n",
    "\n",
    "sdf\n"
   ]
  },
  {
   "cell_type": "code",
   "execution_count": null,
   "id": "6ee5f6ff",
   "metadata": {},
   "outputs": [],
   "source": [
    "# we have here a date column, we can create time series by lagging function and quantisation of values, but will simply encode here\n",
    "date = pd.to_datetime(sdf['dt'])\n",
    "date"
   ]
  },
  {
   "cell_type": "code",
   "execution_count": null,
   "id": "c979178a",
   "metadata": {},
   "outputs": [],
   "source": [
    "sdf['Latitude'] = sdf['Latitude'].apply(dms2dec)\n",
    "sdf['Longitude'] = sdf['Longitude'].apply(dms2dec)\n",
    "sdf['Latitude'] = sdf['Latitude'].astype(float)\n",
    "sdf['Longitude'] = sdf['Longitude'].astype(float)\n",
    "\n",
    "date_encoder = preprocessing.LabelEncoder()\n",
    "\n",
    "sdf['dtBasis']= date_encoder.fit_transform(pd.to_datetime(sdf['dt']))\n",
    "sdf['dtBasis'] = sdf['dtBasis'].astype(float)\n",
    "sdf['dtBasis'].unique()"
   ]
  },
  {
   "cell_type": "code",
   "execution_count": null,
   "id": "35495cb1",
   "metadata": {},
   "outputs": [],
   "source": [
    "columns = ['Latitude','Longitude','dtBasis', 'AverageTemperature'] \n",
    "sdf=sdf[columns].copy()\n",
    "\n",
    "sdf"
   ]
  },
  {
   "cell_type": "code",
   "execution_count": null,
   "id": "7cc74e5c",
   "metadata": {},
   "outputs": [],
   "source": [
    "tensor_array =  tensorisation2_Values (sdf, 3, value=\"AverageTemperature\", aggFunc=np.mean)\n",
    "tensor2 = tl.tensor(tensor_array)\n",
    "tensor2.shape"
   ]
  },
  {
   "cell_type": "code",
   "execution_count": null,
   "id": "d597253a",
   "metadata": {},
   "outputs": [],
   "source": [
    "tensor2"
   ]
  },
  {
   "cell_type": "markdown",
   "id": "13491ebe",
   "metadata": {},
   "source": [
    "## We will consider another problem using Data already in tensor form.\n",
    "\n",
    "\n",
    "The data set is from http://www.models.life.ku.dk/nwaydata\n",
    "in Matlab form, and can be read by scipy loadmat function, and saved as numpy arrays for easier loads later\n",
    "\n",
    "The data has X variable as 3-way tensor of  5 samples in mode - 1 (rows) 5 × 51 × 201. , containing different amounts of tyrosine, tryptophan and phenylalanine amino acids belong to three amino acids dissolved in phosphate buffered water. The samples were measured by fluorescence (excitation 250-300 nm, emission 250-450 nm, 1 nm intervals) on a spectrofluorometer \n",
    "\n",
    "The data has Y variable, which is the ground truth,  the known concentrations of the three chemicals (mode-2) that are in the samples (mode-1) "
   ]
  },
  {
   "cell_type": "code",
   "execution_count": null,
   "id": "08ea70ef",
   "metadata": {},
   "outputs": [],
   "source": [
    "import scipy.io\n",
    "amino = scipy.io.loadmat('data/amino.mat')"
   ]
  },
  {
   "cell_type": "code",
   "execution_count": null,
   "id": "1d0b1c5f",
   "metadata": {},
   "outputs": [],
   "source": [
    "X = amino.get('X')"
   ]
  },
  {
   "cell_type": "code",
   "execution_count": null,
   "id": "3e5922a4",
   "metadata": {},
   "outputs": [],
   "source": [
    "Y = amino.get('Y')"
   ]
  },
  {
   "cell_type": "code",
   "execution_count": null,
   "id": "f8efe0f6",
   "metadata": {},
   "outputs": [],
   "source": [
    "import numpy as np\n",
    "\n",
    "np.save('data/amino_x', X)\n",
    "np.save('data/amino_y', Y)"
   ]
  },
  {
   "cell_type": "code",
   "execution_count": null,
   "id": "94f58eea",
   "metadata": {},
   "outputs": [],
   "source": [
    "X.shape"
   ]
  },
  {
   "cell_type": "code",
   "execution_count": null,
   "id": "ab25753d",
   "metadata": {},
   "outputs": [],
   "source": [
    "Y.shape"
   ]
  },
  {
   "cell_type": "code",
   "execution_count": null,
   "id": "816a1337",
   "metadata": {},
   "outputs": [],
   "source": [
    "# doing Parafac decomposition\n",
    "from tensorly.decomposition import parafac\n",
    "weights, factors = parafac(X,rank = 3, verbose = 2)"
   ]
  },
  {
   "cell_type": "markdown",
   "id": "466780dc",
   "metadata": {},
   "source": [
    "## PARAFAC should have three components and therefore a 5 × 3 so called score matrix (first mode loading matrix). Each column in this score matrix should approximately match the concentration of one of the three aminoacids which are held in the 5 × 3 Y matrix. Matching in this case, means that the corresponding columns should be correlated."
   ]
  },
  {
   "cell_type": "code",
   "execution_count": null,
   "id": "9189c3fc",
   "metadata": {},
   "outputs": [],
   "source": [
    "len(factors)"
   ]
  },
  {
   "cell_type": "code",
   "execution_count": null,
   "id": "5e7feff1",
   "metadata": {},
   "outputs": [],
   "source": [
    "[f.shape for f in factors]"
   ]
  },
  {
   "cell_type": "code",
   "execution_count": null,
   "id": "db8ceb5e",
   "metadata": {},
   "outputs": [],
   "source": [
    "np.isclose(Y, factors[0]) # obviously they are not close enough for numpy, will do all possible column permutations correlation then"
   ]
  },
  {
   "cell_type": "code",
   "execution_count": null,
   "id": "33be6ed5",
   "metadata": {},
   "outputs": [],
   "source": [
    "import pandas as pd\n",
    "import seaborn as sns\n",
    "import matplotlib.pyplot as plt\n",
    "\n",
    "def corrEstimate (i, j, Y, factors):\n",
    "    data = {\n",
    "        'Y': Y[:,i], \n",
    "        'Y_p': factors[0][:,j]\n",
    "    }\n",
    "\n",
    "    df = pd.DataFrame(data, columns=['Y', 'Y_p'])\n",
    "    corr = df.corr()\n",
    "    print(\"Correlation matrix of estimated column\" + str(i) + \" with ground truth \" + str(j) + \" is : \")\n",
    "    print(corr)\n",
    "    \n",
    "    return corr, ax"
   ]
  },
  {
   "cell_type": "code",
   "execution_count": null,
   "id": "38e876bc",
   "metadata": {},
   "outputs": [],
   "source": [
    "plt.figure(figsize=(15, 12))\n",
    "ax = 0\n",
    "corrList = []\n",
    "for i in range(Y.shape[1]):\n",
    "    for j in range(factors[0].shape[1]):\n",
    "        corr, ax = corrEstimate(i, j, Y, factors)\n",
    "        corrList.append(corr)\n",
    "\n",
    "n=0 # there is a bug that makes the plot read the same correlation matrix every time, I tried inside the function, and then added the list to separate the variables, and not good\n",
    "for i in range(Y.shape[1]):\n",
    "    for j in range(factors[0].shape[1]):\n",
    "        ax = plt.subplot(3, 3, n+1)\n",
    "        plt.imshow(corrList[n],cmap='coolwarm',interpolation='nearest')\n",
    "        n= n+1"
   ]
  },
  {
   "cell_type": "markdown",
   "id": "7ef678b3",
   "metadata": {},
   "source": [
    "### It is obvious that the first estimated chemical matches the first ground truth, more than the other two\n",
    "\n",
    "### The second estimated chemical matches the third ground truth, \n",
    "\n",
    "### The third estimated checmical matches the second ground truth\n",
    "\n",
    "### The second and third are swapped"
   ]
  },
  {
   "cell_type": "markdown",
   "id": "6cf1cd04",
   "metadata": {},
   "source": [
    "# Ch6: Fundamentals of Tensor Analysis & Applications\n",
    "\n",
    "## 6.1 Scientific Computing Applications\n",
    "\n",
    "## Second Problem is a survey answers about happiness scores related to 3 conditions. This created a three-way contingency table has as its variables: Happiness reported by participants in a survey (i mode-1 : 3 categories), Number of siblings (j mode-2 : Siblings - 5 categories) and the Years of schooling completed (k mode-3 : Schooling - 4 categories). It is thus a frequency table containing in the cells the number of people with a particular combination of categories. \n",
    "\n",
    "## the data is stored in a dat file that reads a 2 dimensional matricised tensor, (12, 5), assuming that reshaping into (3, 4, 5) and swapping the mode-2 and mode-3 in the problem definition in https://three-mode.leidenuniv.nl/ will be ok\n",
    "\n",
    "## Will decompose with Tucker to find which rank gives the best fit."
   ]
  },
  {
   "cell_type": "code",
   "execution_count": null,
   "id": "d2f2e436",
   "metadata": {},
   "outputs": [],
   "source": [
    "import csv\n",
    "\n",
    "# read flash.dat to a list of lists\n",
    "datContent = [i.strip().split() for i in open(\"data/Happiness.dat\").readlines()]\n",
    "\n",
    "X = np.array(datContent)\n",
    "X.shape"
   ]
  },
  {
   "cell_type": "code",
   "execution_count": null,
   "id": "e0d7949b",
   "metadata": {},
   "outputs": [],
   "source": [
    "X = X.reshape(3, 4, 5)\n",
    "X.shape"
   ]
  },
  {
   "cell_type": "code",
   "execution_count": null,
   "id": "e98b4df1",
   "metadata": {},
   "outputs": [],
   "source": [
    "# doing Tucker decomposition\n",
    "from tensorly.decomposition import tucker\n",
    "import tensorly as tl\n",
    "import math\n",
    "\n",
    "\n",
    "\n",
    "def doTucker (X, rank):\n",
    "    X = tl.tensor(X,dtype=float)\n",
    "    core, factors = tucker(X, rank=rank)\n",
    "    tucker_reconstruction_2 = tl.tucker_to_tensor((core, factors))\n",
    "\n",
    "    tk_RMSE = math.sqrt(np.square(np.subtract(X,tucker_reconstruction_2)).mean() )\n",
    "    print (\"Tucker \" + str(rank) + \" RMSE = \", tk_RMSE)\n",
    "    return core ,factors, tk_RMSE"
   ]
  },
  {
   "cell_type": "code",
   "execution_count": null,
   "id": "f6d0d75f",
   "metadata": {},
   "outputs": [],
   "source": [
    "# doing Tucker decomposition\n",
    "from tensorly.decomposition import tucker\n",
    "import tensorly as tl\n",
    "\n",
    "ranks = []\n",
    "tucker_RMSE=[]\n",
    "\n",
    "for i in range(np.prod(X.shape)): # iterate through the flat index\n",
    "    rank= np.unravel_index(i, X.shape) # get the multidimensional index to use as a rank, in case it does not contain a zero, this will traverse all possible ranks\n",
    "    if np.all(rank):\n",
    "        core ,factors, tk_RMSE = doTucker(X, rank)\n",
    "        tucker_RMSE.append(tk_RMSE)\n",
    "        ranks.append(str(rank))\n",
    "\n",
    "\n",
    "max = np.argmin(tucker_RMSE)\n",
    "print (\"Lowest RMSE achieched at rank = \" + ranks[max]) # this will show the full matrix rank, "
   ]
  },
  {
   "cell_type": "code",
   "execution_count": null,
   "id": "26b7e0ef",
   "metadata": {},
   "outputs": [],
   "source": [
    "import matplotlib.pyplot as plt\n",
    "%matplotlib inline\n",
    "\n",
    "fig = plt.figure( figsize=(20,6))\n",
    "plt.style.use('ggplot')\n",
    "\n",
    "x_pos = [i for i, _ in enumerate(ranks)]\n",
    "\n",
    "plt.bar(ranks, tucker_RMSE, color='green')\n",
    "plt.xlabel(\"Dimensionality Reduction Methods\")\n",
    "plt.ylabel(\"RMSE\")\n",
    "plt.title(\"Comparing Classification RMSE using RandomForest on Linear unsupervised PCA, supervised LDA/QDA and various Embedding Learning Algorithms\")\n",
    "\n",
    "plt.xticks(x_pos, ranks)\n",
    "\n",
    "plt.show()"
   ]
  },
  {
   "cell_type": "markdown",
   "id": "7e00df7d",
   "metadata": {},
   "source": [
    "## Looking at all possible ranks reconstruction error, it seems the highest errors occured when all modes were reduced, but when first mode only was reduced, the error was small, which means it is not very dominant in this dataset, and the third mode seems to be the most dominant.  \n",
    "\n",
    "In the book ( Kroonenberg, P.M., 2008. Applied multi-way data analysis, Wiley series in probability and statistics. Wiley-Interscience, Hoboken, N.J.) the author showed that rank (2,2,2) was the most fit to this dataset, which is proven here as well. The software he used can be downloaded from https://three-mode.leidenuniv.nl/ , "
   ]
  },
  {
   "cell_type": "markdown",
   "id": "df9f3d9f",
   "metadata": {},
   "source": [
    "### Tensorlab (Matlab package) Tensorisation Functions:\n",
    "\n",
    "##### A 2-dimensional implementation is available in scipy package that is not based on tensor higher dimensions"
   ]
  },
  {
   "cell_type": "code",
   "execution_count": 56,
   "id": "dccefde8",
   "metadata": {},
   "outputs": [
    {
     "data": {
      "text/plain": [
       "array([[1, 2, 3, 4, 5],\n",
       "       [2, 3, 4, 5, 0],\n",
       "       [3, 4, 5, 0, 0],\n",
       "       [4, 5, 0, 0, 0],\n",
       "       [5, 0, 0, 0, 0]])"
      ]
     },
     "execution_count": 56,
     "metadata": {},
     "output_type": "execute_result"
    }
   ],
   "source": [
    "from scipy.linalg import hankel\n",
    "\n",
    "\n",
    "v = [1, 2, 3, 4, 5]\n",
    "V = hankel(v);\n",
    "V\n"
   ]
  },
  {
   "cell_type": "code",
   "execution_count": 59,
   "id": "0a95cdc0",
   "metadata": {},
   "outputs": [
    {
     "data": {
      "text/plain": [
       "array([[1, 5, 4, 3, 2, 2, 1, 5, 4, 3, 3, 2, 1, 5, 4, 4, 3, 2, 1, 5, 5, 4,\n",
       "        3, 2, 1],\n",
       "       [5, 4, 3, 2, 2, 1, 5, 4, 3, 3, 2, 1, 5, 4, 4, 3, 2, 1, 5, 5, 4, 3,\n",
       "        2, 1, 0],\n",
       "       [4, 3, 2, 2, 1, 5, 4, 3, 3, 2, 1, 5, 4, 4, 3, 2, 1, 5, 5, 4, 3, 2,\n",
       "        1, 0, 0],\n",
       "       [3, 2, 2, 1, 5, 4, 3, 3, 2, 1, 5, 4, 4, 3, 2, 1, 5, 5, 4, 3, 2, 1,\n",
       "        0, 0, 0],\n",
       "       [2, 2, 1, 5, 4, 3, 3, 2, 1, 5, 4, 4, 3, 2, 1, 5, 5, 4, 3, 2, 1, 0,\n",
       "        0, 0, 0],\n",
       "       [2, 1, 5, 4, 3, 3, 2, 1, 5, 4, 4, 3, 2, 1, 5, 5, 4, 3, 2, 1, 0, 0,\n",
       "        0, 0, 0],\n",
       "       [1, 5, 4, 3, 3, 2, 1, 5, 4, 4, 3, 2, 1, 5, 5, 4, 3, 2, 1, 0, 0, 0,\n",
       "        0, 0, 0],\n",
       "       [5, 4, 3, 3, 2, 1, 5, 4, 4, 3, 2, 1, 5, 5, 4, 3, 2, 1, 0, 0, 0, 0,\n",
       "        0, 0, 0],\n",
       "       [4, 3, 3, 2, 1, 5, 4, 4, 3, 2, 1, 5, 5, 4, 3, 2, 1, 0, 0, 0, 0, 0,\n",
       "        0, 0, 0],\n",
       "       [3, 3, 2, 1, 5, 4, 4, 3, 2, 1, 5, 5, 4, 3, 2, 1, 0, 0, 0, 0, 0, 0,\n",
       "        0, 0, 0],\n",
       "       [3, 2, 1, 5, 4, 4, 3, 2, 1, 5, 5, 4, 3, 2, 1, 0, 0, 0, 0, 0, 0, 0,\n",
       "        0, 0, 0],\n",
       "       [2, 1, 5, 4, 4, 3, 2, 1, 5, 5, 4, 3, 2, 1, 0, 0, 0, 0, 0, 0, 0, 0,\n",
       "        0, 0, 0],\n",
       "       [1, 5, 4, 4, 3, 2, 1, 5, 5, 4, 3, 2, 1, 0, 0, 0, 0, 0, 0, 0, 0, 0,\n",
       "        0, 0, 0],\n",
       "       [5, 4, 4, 3, 2, 1, 5, 5, 4, 3, 2, 1, 0, 0, 0, 0, 0, 0, 0, 0, 0, 0,\n",
       "        0, 0, 0],\n",
       "       [4, 4, 3, 2, 1, 5, 5, 4, 3, 2, 1, 0, 0, 0, 0, 0, 0, 0, 0, 0, 0, 0,\n",
       "        0, 0, 0],\n",
       "       [4, 3, 2, 1, 5, 5, 4, 3, 2, 1, 0, 0, 0, 0, 0, 0, 0, 0, 0, 0, 0, 0,\n",
       "        0, 0, 0],\n",
       "       [3, 2, 1, 5, 5, 4, 3, 2, 1, 0, 0, 0, 0, 0, 0, 0, 0, 0, 0, 0, 0, 0,\n",
       "        0, 0, 0],\n",
       "       [2, 1, 5, 5, 4, 3, 2, 1, 0, 0, 0, 0, 0, 0, 0, 0, 0, 0, 0, 0, 0, 0,\n",
       "        0, 0, 0],\n",
       "       [1, 5, 5, 4, 3, 2, 1, 0, 0, 0, 0, 0, 0, 0, 0, 0, 0, 0, 0, 0, 0, 0,\n",
       "        0, 0, 0],\n",
       "       [5, 5, 4, 3, 2, 1, 0, 0, 0, 0, 0, 0, 0, 0, 0, 0, 0, 0, 0, 0, 0, 0,\n",
       "        0, 0, 0],\n",
       "       [5, 4, 3, 2, 1, 0, 0, 0, 0, 0, 0, 0, 0, 0, 0, 0, 0, 0, 0, 0, 0, 0,\n",
       "        0, 0, 0],\n",
       "       [4, 3, 2, 1, 0, 0, 0, 0, 0, 0, 0, 0, 0, 0, 0, 0, 0, 0, 0, 0, 0, 0,\n",
       "        0, 0, 0],\n",
       "       [3, 2, 1, 0, 0, 0, 0, 0, 0, 0, 0, 0, 0, 0, 0, 0, 0, 0, 0, 0, 0, 0,\n",
       "        0, 0, 0],\n",
       "       [2, 1, 0, 0, 0, 0, 0, 0, 0, 0, 0, 0, 0, 0, 0, 0, 0, 0, 0, 0, 0, 0,\n",
       "        0, 0, 0],\n",
       "       [1, 0, 0, 0, 0, 0, 0, 0, 0, 0, 0, 0, 0, 0, 0, 0, 0, 0, 0, 0, 0, 0,\n",
       "        0, 0, 0]])"
      ]
     },
     "execution_count": 59,
     "metadata": {},
     "output_type": "execute_result"
    }
   ],
   "source": [
    "V = hankel(V);\n",
    "V\n"
   ]
  },
  {
   "cell_type": "code",
   "execution_count": 60,
   "id": "b51d7ca7",
   "metadata": {},
   "outputs": [
    {
     "data": {
      "text/plain": [
       "(25, 25)"
      ]
     },
     "execution_count": 60,
     "metadata": {},
     "output_type": "execute_result"
    }
   ],
   "source": [
    "V.shape"
   ]
  },
  {
   "cell_type": "code",
   "execution_count": 61,
   "id": "7da711d6",
   "metadata": {},
   "outputs": [
    {
     "data": {
      "text/plain": [
       "array([[1, 5, 4, ..., 0, 0, 0],\n",
       "       [5, 4, 3, ..., 0, 0, 0],\n",
       "       [4, 3, 2, ..., 0, 0, 0],\n",
       "       ...,\n",
       "       [0, 0, 0, ..., 0, 0, 0],\n",
       "       [0, 0, 0, ..., 0, 0, 0],\n",
       "       [0, 0, 0, ..., 0, 0, 0]])"
      ]
     },
     "execution_count": 61,
     "metadata": {},
     "output_type": "execute_result"
    }
   ],
   "source": [
    "V = hankel(V);\n",
    "V"
   ]
  },
  {
   "cell_type": "code",
   "execution_count": 62,
   "id": "51e7a86d",
   "metadata": {},
   "outputs": [
    {
     "data": {
      "text/plain": [
       "(625, 625)"
      ]
     },
     "execution_count": 62,
     "metadata": {},
     "output_type": "execute_result"
    }
   ],
   "source": [
    "V.shape"
   ]
  },
  {
   "cell_type": "code",
   "execution_count": 57,
   "id": "58872fdb",
   "metadata": {},
   "outputs": [
    {
     "data": {
      "text/plain": [
       "array([[1, 2, 3, 4, 5],\n",
       "       [2, 1, 2, 3, 4],\n",
       "       [3, 2, 1, 2, 3],\n",
       "       [4, 3, 2, 1, 2],\n",
       "       [5, 4, 3, 2, 1]])"
      ]
     },
     "execution_count": 57,
     "metadata": {},
     "output_type": "execute_result"
    }
   ],
   "source": [
    "from scipy.linalg import toeplitz\n",
    "V = toeplitz(v);\n",
    "V\n"
   ]
  },
  {
   "cell_type": "code",
   "execution_count": 58,
   "id": "f4e3097e",
   "metadata": {},
   "outputs": [
    {
     "data": {
      "text/plain": [
       "array([[1, 5, 4, 3, 2],\n",
       "       [2, 1, 5, 4, 3],\n",
       "       [3, 2, 1, 5, 4],\n",
       "       [4, 3, 2, 1, 5],\n",
       "       [5, 4, 3, 2, 1]])"
      ]
     },
     "execution_count": 58,
     "metadata": {},
     "output_type": "execute_result"
    }
   ],
   "source": [
    "from scipy.linalg import circulant\n",
    "V = circulant(v);\n",
    "V"
   ]
  },
  {
   "cell_type": "markdown",
   "id": "a6396dec",
   "metadata": {},
   "source": [
<<<<<<< HEAD
    "### Attempting to implement in higher dimensions it as explained in https://www.tensorlab.net/doc/tensorization.html#hankelization-sec  and https://core.ac.uk/download/pdf/34637588.pdf \n",
    "\n",
=======
    "### Attempting to implement hankelisation in higher dimensions as explained in https://www.tensorlab.net/doc/tensorization.html#hankelization-sec  and https://core.ac.uk/download/pdf/34637588.pdf \n",
    "\n",
    "and implemented in matlab. Only the required functions to run the BSS example are attempted with minimum functionality\n",
>>>>>>> 9e05b8ca9c4193a146432f004ec72b96a205d2c4
    "\n",
    "##### Hankelization : Will lead to curse of dimensionality, and reduced forms are performed by tensor factorisation"
   ]
  },
  {
   "cell_type": "code",
   "execution_count": 1,
   "id": "98d93619",
   "metadata": {},
   "outputs": [],
   "source": [
    "import numpy as np\n",
    "import math\n",
    "\n",
    "def hankelize (v, order = 2, sizes = None , indices = None,Dim = 1 ):\n",
    "    N = len(v)\n",
    "    if order > N:\n",
    "        print ('The order should not be larger than the number of elements in the tensorized dimension!')\n",
    "        return\n",
    "    if order < 2:\n",
    "        print ('The order must be larger than or equal to 2!')\n",
    "        return\n",
    "    if order == 2:\n",
    "        if sizes == None:\n",
    "            I = int(math.ceil(N / 2))\n",
    "            J = N - I + 1\n",
    "        else:\n",
    "            I = sizes[0]\n",
    "            J = sizes[1]\n",
    "        H = np.ndarray(shape=(I,J), dtype=np.int8)\n",
    "        for i in range (0, I):\n",
    "            for j in range (0, J):\n",
    "                H[i, j] = v[i+j-1]\n",
    "    else:\n",
    "            # ceil((1:options.Order-1)*N/options.Order);\n",
    "            I = np.ndarray(shape=(order), dtype=np.int8) # resulting tensorShape\n",
    "            # Y(ceil((k-1)*N/K):               ceil(k*N/K))  segments\n",
    "            elements = 0\n",
    "            for i in range (0, order):\n",
    "                if sizes == None:\n",
    "                    if i < order - 1:\n",
    "                        I[i] = int(math.ceil(N / order))\n",
    "                        #I[i] = int((N+order) / order) + 1\n",
    "                        elements += I[i]\n",
    "                    else:\n",
    "                        I[i]  = N - order + 1\n",
    "                        #I[i] = N +order - elements\n",
    "                else:\n",
    "                    I[i] = sizes[i]\n",
    "            tensorshape = tuple(I)\n",
    "            print (tensorshape)\n",
    "            H = np.ndarray(shape=tensorshape, dtype=np.int8)\n",
    "            \n",
    "            # This method of iterating through the high dimensional space in one-level non-nested and hard coded for every order like the above 2-D example\n",
    "            # might be the reason the order of the elements are not as described in the references. However the diagonal, anti-diagonal, or skew diagonal \n",
    "            # properties seem to be preserved. Further testing might be needed to maintain that a Hankel tensor has constant anti-hyperplanes, and take\n",
    "            # care of all exception handling, like mismatching order or parameter values or too large tensor to create a smaller one.\n",
    "            \n",
    "            for i in range (np.prod(I)): # iterate through the tensor flat indices\n",
    "                t_index = np.unravel_index(i, I) # get the tensor multidimensional index\n",
    "                print (t_index)\n",
    "                H[t_index] =v[np.sum(t_index) - order + 1]\n",
    "    return H"
   ]
  },
  {
   "cell_type": "code",
   "execution_count": 2,
<<<<<<< HEAD
   "id": "8d4173f5",
   "metadata": {},
   "outputs": [
    {
     "data": {
      "text/plain": [
       "array([[5, 1, 2],\n",
       "       [1, 2, 3],\n",
       "       [2, 3, 4]], dtype=int8)"
      ]
     },
     "execution_count": 2,
     "metadata": {},
     "output_type": "execute_result"
    }
   ],
   "source": [
    "\n",
    "v = [1, 2, 3, 4, 5]\n",
    "V = hankelize(v);\n",
    "V"
   ]
  },
  {
   "cell_type": "code",
   "execution_count": 3,
   "id": "5752dbb5",
   "metadata": {},
   "outputs": [
    {
     "name": "stdout",
     "output_type": "stream",
     "text": [
      "(2, 2, 3)\n",
      "(0, 0, 0)\n",
      "(0, 0, 1)\n",
      "(0, 0, 2)\n",
      "(0, 1, 0)\n",
      "(0, 1, 1)\n",
      "(0, 1, 2)\n",
      "(1, 0, 0)\n",
      "(1, 0, 1)\n",
      "(1, 0, 2)\n",
      "(1, 1, 0)\n",
      "(1, 1, 1)\n",
      "(1, 1, 2)\n"
     ]
    },
    {
     "data": {
      "text/plain": [
       "array([[[4, 5, 1],\n",
       "        [5, 1, 2]],\n",
       "\n",
       "       [[5, 1, 2],\n",
       "        [1, 2, 3]]], dtype=int8)"
      ]
     },
     "execution_count": 3,
     "metadata": {},
     "output_type": "execute_result"
    }
   ],
   "source": [
    "V = hankelize(v, order=3);\n",
    "V"
   ]
  },
  {
   "cell_type": "code",
   "execution_count": 4,
   "id": "58006aa3",
   "metadata": {},
   "outputs": [
    {
     "data": {
      "text/plain": [
       "array([[4, 5],\n",
       "       [5, 1]], dtype=int8)"
      ]
     },
     "execution_count": 4,
     "metadata": {},
     "output_type": "execute_result"
    }
   ],
   "source": [
    "V[:,:,0]"
   ]
  },
  {
   "cell_type": "code",
   "execution_count": 5,
   "id": "4a52e522",
   "metadata": {},
   "outputs": [
    {
     "data": {
      "text/plain": [
       "array([[5, 1],\n",
       "       [1, 2]], dtype=int8)"
      ]
     },
     "execution_count": 5,
     "metadata": {},
     "output_type": "execute_result"
    }
   ],
   "source": [
    "V[:,:,1]"
   ]
  },
  {
   "cell_type": "code",
   "execution_count": 6,
   "id": "65c37186",
   "metadata": {},
   "outputs": [
    {
     "data": {
      "text/plain": [
       "array([[1, 2],\n",
       "       [2, 3]], dtype=int8)"
      ]
     },
     "execution_count": 6,
     "metadata": {},
     "output_type": "execute_result"
    }
   ],
   "source": [
    "V[:,:,2]"
   ]
  },
  {
   "cell_type": "code",
   "execution_count": 7,
   "id": "828fbe8b",
   "metadata": {},
   "outputs": [
    {
     "data": {
      "text/plain": [
       "array([[[4, 5, 1],\n",
       "        [5, 1, 2]],\n",
       "\n",
       "       [[5, 1, 2],\n",
       "        [1, 2, 3]]], dtype=int8)"
      ]
     },
     "execution_count": 7,
     "metadata": {},
     "output_type": "execute_result"
    }
   ],
   "source": [
    "V"
   ]
  },
  {
   "cell_type": "code",
   "execution_count": 8,
   "id": "eebf098d",
   "metadata": {},
   "outputs": [
    {
     "data": {
      "text/plain": [
       "(2, 2, 3)"
      ]
     },
     "execution_count": 8,
     "metadata": {},
     "output_type": "execute_result"
    }
   ],
   "source": [
    "V.shape"
   ]
  },
  {
   "cell_type": "code",
   "execution_count": 9,
   "id": "fe79aa98",
   "metadata": {},
   "outputs": [
    {
     "name": "stdout",
     "output_type": "stream",
     "text": [
      "(3, 3, 5)\n",
      "(0, 0, 0)\n",
      "(0, 0, 1)\n",
      "(0, 0, 2)\n",
      "(0, 0, 3)\n",
      "(0, 0, 4)\n",
      "(0, 1, 0)\n",
      "(0, 1, 1)\n",
      "(0, 1, 2)\n",
      "(0, 1, 3)\n",
      "(0, 1, 4)\n",
      "(0, 2, 0)\n",
      "(0, 2, 1)\n",
      "(0, 2, 2)\n",
      "(0, 2, 3)\n",
      "(0, 2, 4)\n",
      "(1, 0, 0)\n",
      "(1, 0, 1)\n",
      "(1, 0, 2)\n",
      "(1, 0, 3)\n",
      "(1, 0, 4)\n",
      "(1, 1, 0)\n",
      "(1, 1, 1)\n",
      "(1, 1, 2)\n",
      "(1, 1, 3)\n",
      "(1, 1, 4)\n",
      "(1, 2, 0)\n",
      "(1, 2, 1)\n",
      "(1, 2, 2)\n",
      "(1, 2, 3)\n",
      "(1, 2, 4)\n",
      "(2, 0, 0)\n",
      "(2, 0, 1)\n",
      "(2, 0, 2)\n",
      "(2, 0, 3)\n",
      "(2, 0, 4)\n",
      "(2, 1, 0)\n",
      "(2, 1, 1)\n",
      "(2, 1, 2)\n",
      "(2, 1, 3)\n",
      "(2, 1, 4)\n",
      "(2, 2, 0)\n",
      "(2, 2, 1)\n",
      "(2, 2, 2)\n",
      "(2, 2, 3)\n",
      "(2, 2, 4)\n"
     ]
    },
    {
     "data": {
      "text/plain": [
       "array([[[6, 7, 1, 2, 3],\n",
       "        [7, 1, 2, 3, 4],\n",
       "        [1, 2, 3, 4, 5]],\n",
       "\n",
       "       [[7, 1, 2, 3, 4],\n",
       "        [1, 2, 3, 4, 5],\n",
       "        [2, 3, 4, 5, 6]],\n",
       "\n",
       "       [[1, 2, 3, 4, 5],\n",
       "        [2, 3, 4, 5, 6],\n",
       "        [3, 4, 5, 6, 7]]], dtype=int8)"
      ]
     },
     "execution_count": 9,
     "metadata": {},
     "output_type": "execute_result"
    }
   ],
   "source": [
    "v = [1, 2, 3, 4, 5, 6, 7]\n",
    "V = hankelize(v, order=3);\n",
    "V"
   ]
  },
  {
   "cell_type": "code",
   "execution_count": 10,
   "id": "7d59fa25",
   "metadata": {},
   "outputs": [
    {
     "data": {
      "text/plain": [
       "array([[6, 7, 1],\n",
       "       [7, 1, 2],\n",
       "       [1, 2, 3]], dtype=int8)"
      ]
     },
     "execution_count": 10,
     "metadata": {},
     "output_type": "execute_result"
    }
   ],
   "source": [
    "V[:,:,0]"
   ]
  },
  {
   "cell_type": "code",
   "execution_count": 11,
   "id": "9c499a6b",
   "metadata": {},
   "outputs": [
    {
     "data": {
      "text/plain": [
       "array([[7, 1, 2],\n",
       "       [1, 2, 3],\n",
       "       [2, 3, 4]], dtype=int8)"
      ]
     },
     "execution_count": 11,
     "metadata": {},
     "output_type": "execute_result"
    }
   ],
   "source": [
    "V[:,:,1]"
   ]
  },
  {
   "cell_type": "code",
   "execution_count": 12,
   "id": "5aec00fd",
   "metadata": {},
   "outputs": [
    {
     "data": {
      "text/plain": [
       "array([6, 7, 1, 2, 3, 7, 1, 2, 3, 4, 1, 2, 3, 4, 5, 7, 1, 2, 3, 4, 1, 2,\n",
       "       3, 4, 5, 2, 3, 4, 5, 6, 1, 2, 3, 4, 5, 2, 3, 4, 5, 6, 3, 4, 5, 6,\n",
       "       7], dtype=int8)"
      ]
     },
     "execution_count": 12,
     "metadata": {},
     "output_type": "execute_result"
    }
   ],
   "source": [
    "import tensorly as tl\n",
    "\n",
    "v_recon = tl.tensor_to_vec( tl.unfold(V, 0))\n",
    "v_recon"
   ]
  },
  {
   "cell_type": "code",
   "execution_count": 13,
=======
>>>>>>> 9e05b8ca9c4193a146432f004ec72b96a205d2c4
   "id": "179566f6",
   "metadata": {},
   "outputs": [],
   "source": [
    "import numpy as np\n",
    "import tensorly as tl\n",
    "\n",
    "    \n",
    "def hankelize(X, **kwargs):\n",
    "    defaultKwargs = { 'Order': 2,\n",
    "        'Dim': 1,\n",
    "        'Sizes': np.NaN,\n",
    "        'Ind': np.NaN,\n",
    "        'PermToFirst': False,\n",
    "        'Full': 'auto',\n",
    "        'FullLimit': 1}\n",
    "    order = kwargs.get('Order', 2)\n",
    "    dim = kwargs.get('Dim', 1)\n",
    "    sizes = kwargs.get('Sizes', np.NaN)\n",
    "    ind = kwargs.get('Ind', np.NaN)\n",
    "    perm_to_first = kwargs.get('PermToFirst', False)\n",
    "    full = kwargs.get('Full', 'auto')\n",
    "    full_limit = kwargs.get('FullLimit', 1)\n",
    "    \n",
    "    args = {'Order': order,\n",
    "        'Dim': dim,\n",
    "        'Sizes': sizes,\n",
    "        'Ind': ind,\n",
    "        'PermToFirst': perm_to_first,\n",
    "        'Full': full,\n",
    "        'FullLimit': full_limit}\n",
    "    KeepUnmatched = False\n",
    "    isdefault =  args ==defaultKwargs\n",
    "    shared_items = {k: args[k] for k in args if k in defaultKwargs and args[k] == defaultKwargs[k]}\n",
    "    \n",
    "    if dim > np.ndim(X):\n",
    "        raise ValueError('The given dimension is too large!')\n",
    "    if dim == 2 and np.ndim(X) == 1:\n",
    "        X = np.reshape(X, (-1, 1)) # Row to column vector: reshape(-1, 1) \n",
    "        \n",
<<<<<<< HEAD
    "        \n",
=======
    "    X = np.array(X)    \n",
>>>>>>> 9e05b8ca9c4193a146432f004ec72b96a205d2c4
    "    sx = np.shape(X)\n",
    "    N = sx[dim-1]\n",
    "    size_other = sx[dim:]  # list(sx[:dim-1]) + list(sx[dim:])\n",
    "    \n",
    "    if size_other == [1]:\n",
    "        size_other = []\n",
    "    \n",
    "    # Matricize the data\n",
    "    if np.ndim(X) == 2:\n",
    "        if dim == 2:\n",
    "            Xmat = X.transpose()\n",
    "        else:\n",
    "            Xmat = X\n",
    "    else:\n",
    "        Xmat = tl.unfold(X, dim-1)\n",
    "    Xmat.squeeze()\n",
    "    print (\"input shape: \" , Xmat.shape)\n",
    "        \n",
    "    if order < 2:\n",
    "        raise ValueError('The order must be larger than or equal to 2!')\n",
    "    \n",
    "    #  Set PermToFirst \n",
    "    if perm_to_first == False:\n",
    "        perm_to_first = False\n",
    "    \n",
    "    if not isinstance(perm_to_first, bool):\n",
    "        raise ValueError('The option PermToFirst should be a boolean!')\n",
    "        \n",
    "    \n",
    "    if perm_to_first: \n",
    "        perm_to_first = 1;\n",
    "    else: \n",
    "        perm_to_first = dim;\n",
    "   \n",
    "    # Set the default values\n",
    "    if order == 2:\n",
    "        if np.all(np.isnan(ind)):\n",
    "            if np.all(np.isnan(sizes)):\n",
    "                ind = np.ceil(np.arange(1, order) * N / order)\n",
    "                ind = ind.astype(np.int64)\n",
    "                print (\"Order: \" , order)\n",
    "                print (\"ind: \" , ind)\n",
    "            else:\n",
    "                order = len(sizes)+1\n",
    "                print (\"Order: \" , order)\n",
    "                print (\"ind: \" , ind)\n",
    "                print (\"sizes: \" , sizes)\n",
    "\n",
    "                ind = np.cumsum(sizes) - np.arange(0, order-1)\n",
    "        else:\n",
    "            order = len(ind) \n",
    "            if np.all(not np.isnan(sizes)) and (len(ind) != len(sizes) or not np.all(ind == np.cumsum(sizes) - np.arange(0, order-1))):\n",
    "                raise ValueError('The option fields Ind and Sizes do not correspond!')\n",
    "\n",
    "        if order != len(ind)+1:\n",
    "            raise ValueError('The number of indices should be equal to order-1!')\n",
    "    else:\n",
    "        if np.all(np.isnan(ind)):\n",
    "            if np.all(np.isnan(sizes)):\n",
    "                ind = np.ceil(np.arange(1, order) * N / order)\n",
    "                ind = ind.astype(np.int64)\n",
    "            else:\n",
    "                if len(sizes)!=order:\n",
    "                    raise ValueError('The number of sizes should be equal to order-1')\n",
    "                ind = np.cumsum(sizes) - np.arange(0, order-1)\n",
    "        else:\n",
    "            if np.all(not np.isnan(sizes)) and (len(ind)!=len(sizes) or\n",
    "                    np.any(ind!=np.cumsum(sizes)-np.arange(0, order-1))):\n",
    "                raise ValueError('The option fields ind and sizes do not correspond!')\n",
    "    \n",
    "    if(order!=len(ind)+1):\n",
    "        raise ValueError('The number of indices should be equal to order-1!')\n",
    "    print (\"N: \" , N)\n",
    "    print (\"Dim: \" , dim)\n",
    "    print (\"Order: \" , order)\n",
    "    print (\"ind: \" , ind)\n",
    "    print (\"sizes: \" , sizes)\n",
    "    print (\"perm_to_first: \" , perm_to_first)\n",
    "    print (\"size_other: \" , size_other)\n",
    "               \n",
    "    # Determine the size of the Hankel matrices/tensors\n",
    "    #size_hankel = np.array([ind, N]) - np.array([0] + list(ind[:-1]))\n",
    "    xx = np.hstack((ind, N))\n",
    "    yy = np.hstack(([0], np.subtract(ind, 1)))\n",
    "    size_hankel = np.subtract(xx, yy)\n",
    "    print (\"size_hankel: \" , size_hankel)\n",
    "    \n",
    "    if np.any(size_hankel < 0):\n",
    "        raise ValueError('The indices should increase monotonically between 0 and N!')\n",
    "        \n",
    "    if order > N:\n",
    "        raise ValueError('The order should not be larger than the number of elements in the tensorized dimension!')  \n",
    "    whosX = X.nbytes / X.shape[dim-1] * np.prod(size_hankel)\n",
    "    totalbytes = whosX\n",
    "    print (\"Total required Bytes are: \" , totalbytes)\n",
    "    if full == 'auto':\n",
    "        if totalbytes > full_limit * 2**30:\n",
    "            full = False\n",
    "            print('The fullLimit has been reached, and instead of the dense tensor, the efficient representation is returned. The dense tensor can be obtained by setting the \"full\" option to True.')\n",
    "        else:\n",
    "            full = True\n",
    "    \n",
    "    t = order+ np.arange(1,perm_to_first)           \n",
    "    repermorder = np.hstack(\n",
    "        (order+ np.arange(1,perm_to_first), np.arange(1, order), np.arange(order+perm_to_first-1,len(np.hstack((size_hankel,size_other)))+1)))\n",
    "    #print (\"repermorder: \", repermorder)\n",
    "    hstruct = None\n",
    "    xx = np.hstack((size_hankel,size_other))\n",
    "    yy = np.squeeze(np.ones((1 , len(repermorder) - len(np.hstack((size_hankel, size_other)))+1)))\n",
    "    structSize = np.hstack((xx, yy))\n",
    "    if (full is True) or (hstruct is not None):\n",
    "        hstruct = {\n",
    "            'type': 'hankel',\n",
    "            'val': Xmat,\n",
    "            'dim': dim,\n",
    "            'order': order,\n",
    "            'ind': ind,\n",
    "            'ispermuted': perm_to_first != dim,\n",
    "            'repermorder': repermorder,\n",
    "            'size': structSize,\n",
    "            'size' : structSize[repermorder],\n",
    "            'subsize': {\n",
    "                'hankel': size_hankel,\n",
    "                'other': size_other\n",
    "            }\n",
    "        }\n",
    "    print (\"hstruct\", hstruct)    \n",
    "    if full is True:\n",
    "        allind2 = subhankel(size_hankel)\n",
    "        H = Xmat[allind2, :]\n",
    "        xx = np.hstack((size_hankel, size_other))\n",
    "        xx = xx.astype(np.int64)\n",
    "        H = H.reshape(xx)\n",
    "        if perm_to_first != 1:\n",
    "            H = np.transpose(H, axes=repermorder)\n",
    "    else:\n",
    "        H = hstruct\n",
    "        \n",
    "    return H\n",
    "\n",
    "def subhankel(sizes):\n",
    "    lidx = np.transpose(np.arange(1, sizes[0]+1))\n",
    "    for i in range(1, len(sizes)):\n",
    "        ridx = np.arange(0, sizes[i])\n",
    "        xx = np.squeeze(np.hstack(( np.ones(( i+1)) , len(ridx))))\n",
    "        xx = xx.astype(np.int64)\n",
    "        ridx = ridx.reshape(xx)\n",
    "        lidx =  np.add.outer(lidx, ridx)\n",
    "        \n",
    "    allind = list(lidx.flatten())\n",
    "    allind = np.subtract(allind, 1)\n",
    "    return allind"
   ]
  },
  {
   "cell_type": "code",
<<<<<<< HEAD
   "execution_count": 14,
   "id": "2398b1fc",
   "metadata": {},
   "outputs": [
    {
     "name": "stdout",
     "output_type": "stream",
     "text": [
      "input shape:  (5, 1)\n",
      "Order:  2\n",
      "ind:  [3]\n",
      "N:  5\n",
      "Dim:  1\n",
      "Order:  2\n",
      "ind:  [3]\n",
      "sizes:  nan\n",
      "perm_to_first:  1\n",
      "size_other:  ()\n",
      "size_hankel:  [3 3]\n",
      "Total required Bytes are:  36.0\n",
      "hstruct {'type': 'hankel', 'val': array([[1],\n",
      "       [2],\n",
      "       [3],\n",
      "       [4],\n",
      "       [5]]), 'dim': 1, 'order': 2, 'ind': array([3], dtype=int64), 'ispermuted': False, 'repermorder': array([1, 2]), 'size': array([3., 1.]), 'subsize': {'hankel': array([3, 3], dtype=int64), 'other': ()}}\n"
     ]
    },
    {
     "data": {
      "text/plain": [
       "array([[1, 2, 3],\n",
       "       [2, 3, 4],\n",
       "       [3, 4, 5]])"
      ]
     },
     "execution_count": 14,
     "metadata": {},
     "output_type": "execute_result"
    }
   ],
   "source": [
    "v = np.array([1,2,3,4,5])\n",
    "V = hankelize(v)\n",
    "V"
   ]
  },
  {
   "cell_type": "code",
   "execution_count": 15,
   "id": "01799a6e",
   "metadata": {},
   "outputs": [
    {
     "name": "stdout",
     "output_type": "stream",
     "text": [
      "input shape:  (7, 1)\n",
      "Order:  4\n",
      "ind:  nan\n",
      "sizes:  [4, 3, 2]\n",
      "N:  7\n",
      "Dim:  1\n",
      "Order:  4\n",
      "ind:  [4 6 7]\n",
      "sizes:  [4, 3, 2]\n",
      "perm_to_first:  1\n",
      "size_other:  ()\n",
      "size_hankel:  [4 3 2 1]\n",
      "Total required Bytes are:  96.0\n",
      "hstruct {'type': 'hankel', 'val': array([[1],\n",
      "       [2],\n",
      "       [3],\n",
      "       [4],\n",
      "       [5],\n",
      "       [6],\n",
      "       [7]]), 'dim': 1, 'order': 4, 'ind': array([4, 6, 7]), 'ispermuted': False, 'repermorder': array([1, 2, 3, 4]), 'size': array([3., 2., 1., 1.]), 'subsize': {'hankel': array([4, 3, 2, 1]), 'other': ()}}\n"
     ]
    },
    {
     "data": {
      "text/plain": [
       "array([[[[1],\n",
       "         [2]],\n",
       "\n",
       "        [[2],\n",
       "         [3]],\n",
       "\n",
       "        [[3],\n",
       "         [4]]],\n",
       "\n",
       "\n",
       "       [[[2],\n",
       "         [3]],\n",
       "\n",
       "        [[3],\n",
       "         [4]],\n",
       "\n",
       "        [[4],\n",
       "         [5]]],\n",
       "\n",
       "\n",
       "       [[[3],\n",
       "         [4]],\n",
       "\n",
       "        [[4],\n",
       "         [5]],\n",
       "\n",
       "        [[5],\n",
       "         [6]]],\n",
       "\n",
       "\n",
       "       [[[4],\n",
       "         [5]],\n",
       "\n",
       "        [[5],\n",
       "         [6]],\n",
       "\n",
       "        [[6],\n",
       "         [7]]]])"
      ]
     },
     "execution_count": 15,
     "metadata": {},
     "output_type": "execute_result"
    }
   ],
   "source": [
    "v = np.array([1, 2, 3, 4, 5, 6, 7])\n",
    "V = hankelize(v, Sizes=[4, 3, 2])\n",
    "V"
   ]
  },
  {
   "cell_type": "code",
   "execution_count": 16,
   "id": "cef685aa",
   "metadata": {},
   "outputs": [
    {
     "ename": "NameError",
     "evalue": "name 'dehankelize' is not defined",
     "output_type": "error",
     "traceback": [
      "\u001b[1;31m---------------------------------------------------------------------------\u001b[0m",
      "\u001b[1;31mNameError\u001b[0m                                 Traceback (most recent call last)",
      "\u001b[1;32mC:\\Users\\DELLPR~1\\AppData\\Local\\Temp/ipykernel_17972/345463844.py\u001b[0m in \u001b[0;36m<module>\u001b[1;34m\u001b[0m\n\u001b[1;32m----> 1\u001b[1;33m \u001b[0mv\u001b[0m \u001b[1;33m=\u001b[0m \u001b[0mdehankelize\u001b[0m\u001b[1;33m(\u001b[0m\u001b[0mV\u001b[0m\u001b[1;33m)\u001b[0m\u001b[1;33m\u001b[0m\u001b[1;33m\u001b[0m\u001b[0m\n\u001b[0m\u001b[0;32m      2\u001b[0m \u001b[0mv\u001b[0m\u001b[1;33m\u001b[0m\u001b[1;33m\u001b[0m\u001b[0m\n",
      "\u001b[1;31mNameError\u001b[0m: name 'dehankelize' is not defined"
     ]
    }
   ],
   "source": [
    "v = dehankelize(V)\n",
    "v"
   ]
  },
  {
   "cell_type": "code",
   "execution_count": 17,
   "id": "acf15cd9",
   "metadata": {},
   "outputs": [
    {
     "name": "stdout",
     "output_type": "stream",
     "text": [
      "input shape:  (7, 1)\n",
      "N:  7\n",
      "Dim:  1\n",
      "Order:  3\n",
      "ind:  [3 5]\n",
      "sizes:  nan\n",
      "perm_to_first:  1\n",
      "size_other:  ()\n",
      "size_hankel:  [3 3 3]\n",
      "Total required Bytes are:  108.0\n",
      "hstruct {'type': 'hankel', 'val': array([[1],\n",
      "       [2],\n",
      "       [3],\n",
      "       [4],\n",
      "       [5],\n",
      "       [6],\n",
      "       [7]]), 'dim': 1, 'order': 3, 'ind': array([3, 5], dtype=int64), 'ispermuted': False, 'repermorder': array([1, 2, 3]), 'size': array([3., 3., 1.]), 'subsize': {'hankel': array([3, 3, 3], dtype=int64), 'other': ()}}\n"
     ]
    },
    {
     "data": {
      "text/plain": [
       "array([[[1, 2, 3],\n",
       "        [2, 3, 4],\n",
       "        [3, 4, 5]],\n",
       "\n",
       "       [[2, 3, 4],\n",
       "        [3, 4, 5],\n",
       "        [4, 5, 6]],\n",
       "\n",
       "       [[3, 4, 5],\n",
       "        [4, 5, 6],\n",
       "        [5, 6, 7]]])"
      ]
     },
     "execution_count": 17,
     "metadata": {},
     "output_type": "execute_result"
    }
   ],
   "source": [
    "v = np.array([1, 2, 3, 4, 5, 6, 7])\n",
    "H = hankelize(v, Order=3)\n",
    "H"
   ]
  },
  {
   "cell_type": "code",
   "execution_count": 18,
   "id": "d0ce5892",
   "metadata": {},
   "outputs": [
    {
     "ename": "NameError",
     "evalue": "name 'dehankelize' is not defined",
     "output_type": "error",
     "traceback": [
      "\u001b[1;31m---------------------------------------------------------------------------\u001b[0m",
      "\u001b[1;31mNameError\u001b[0m                                 Traceback (most recent call last)",
      "\u001b[1;32mC:\\Users\\DELLPR~1\\AppData\\Local\\Temp/ipykernel_17972/345463844.py\u001b[0m in \u001b[0;36m<module>\u001b[1;34m\u001b[0m\n\u001b[1;32m----> 1\u001b[1;33m \u001b[0mv\u001b[0m \u001b[1;33m=\u001b[0m \u001b[0mdehankelize\u001b[0m\u001b[1;33m(\u001b[0m\u001b[0mV\u001b[0m\u001b[1;33m)\u001b[0m\u001b[1;33m\u001b[0m\u001b[1;33m\u001b[0m\u001b[0m\n\u001b[0m\u001b[0;32m      2\u001b[0m \u001b[0mv\u001b[0m\u001b[1;33m\u001b[0m\u001b[1;33m\u001b[0m\u001b[0m\n",
      "\u001b[1;31mNameError\u001b[0m: name 'dehankelize' is not defined"
     ]
    }
   ],
   "source": [
    "v = dehankelize(V)\n",
    "v"
   ]
  },
  {
   "cell_type": "code",
   "execution_count": 19,
   "id": "ae8029a3",
=======
   "execution_count": 75,
   "id": "ae8029a3",
>>>>>>> 9e05b8ca9c4193a146432f004ec72b96a205d2c4
   "metadata": {},
   "outputs": [],
   "source": [
    "def getstructure(*args):\n",
<<<<<<< HEAD
    "    if len(args) == 1:\n",
    "        if isinstance(args[0], (np.ndarray, int, float)):\n",
    "            structure = 'full'\n",
    "        elif isinstance(args[0], list) or isinstance(args[0], tuple):\n",
    "            if all(isinstance(item, (int, float)) for item in args[0]):\n",
    "                if all(len(item.shape) == 2 for item in args[0]):\n",
    "                    structure = 'cpd'\n",
    "                else:\n",
    "                    structure = 'tt'\n",
    "            elif all(isinstance(item, (list, tuple)) for item in args[0]):\n",
    "                structure = 'btd'\n",
    "            elif len(args[0]) > 1 and len(args[0]) == 2 and isinstance(args[0][0], (list, tuple)) and isinstance(args[0][1], (int, float)):\n",
    "                structure = 'lmlra'\n",
    "            else:\n",
    "                raise ValueError('Unknown structure')\n",
=======
    "    ## not tested for all types, but works for full and cpd as done below    \n",
    "    if len(args) == 1:\n",
    "        if isinstance(args[0], (int, float)):\n",
    "            structure = 'full'\n",
    "        if isinstance(args[0], (np.ndarray)):\n",
    "            if all(item.shape[0] == 2 for item in args[0]):\n",
    "                    structure = 'cpd'            \n",
    "            #else: ## no need to differentiate tt from full np.arrays now until tt formats are used.  ideas can be to encapsulate in a higher dimn for one of them to make the first shape =1 for example, when needed\n",
    "            #    structure = 'tt'\n",
    "            else:\n",
    "                structure = 'full'    \n",
    "        elif all(isinstance(item, (list, tuple)) for item in args[0]): # need to make sure these are the types used in the python code\n",
    "            structure = 'btd' # in matlab this was cell array of cells - cells in python can be lists or tuples to differentitate them from np.arrays\n",
    "        elif len(args[0]) > 1 and len(args[0]) == 2 and isinstance(args[0][0], (list, tuple)) and isinstance(args[0][1], (int, float)):\n",
    "            structure = 'lmlra' # this was when first agrument has length == 2 and has first element as cell and second as numeric\n",
    "            \n",
    "            #else:\n",
    "            #    raise ValueError('Unknown structure')\n",
>>>>>>> 9e05b8ca9c4193a146432f004ec72b96a205d2c4
    "        elif isinstance(args[0], dict):\n",
    "            if 'incomplete' in args[0] and args[0]['incomplete']:\n",
    "                structure = 'incomplete'\n",
    "            elif 'sparse' in args[0] and args[0]['sparse']:\n",
    "                structure = 'sparse'\n",
    "            elif 'type' in args[0]:\n",
    "                structure = args[0]['type']\n",
    "            else:\n",
    "                raise ValueError('Unknown structure')\n",
    "        else:\n",
    "            raise ValueError('Unknown structure')\n",
    "    elif len(args) == 2:\n",
    "        if isinstance(args[0], (list, tuple)) and isinstance(args[1], (int, float)):\n",
    "            structure = 'lmlra'\n",
    "        else:\n",
    "            raise ValueError('Unknown structure')\n",
    "    else:\n",
    "        raise ValueError('Unknown structure')\n",
    "    \n",
    "    return structure"
   ]
  },
  {
   "cell_type": "code",
<<<<<<< HEAD
   "execution_count": 20,
=======
   "execution_count": 76,
>>>>>>> 9e05b8ca9c4193a146432f004ec72b96a205d2c4
   "id": "a92f89e1",
   "metadata": {},
   "outputs": [],
   "source": [
    "def getorder(T, S=None):\n",
    "    try:\n",
    "        structure = getstructure(T)\n",
    "        if structure == 'full':\n",
    "            return len(T.shape)\n",
    "        elif structure in ['incomplete', 'sparse']:\n",
    "            if 'size' in T:\n",
    "                return len(T['size'])\n",
    "            else:\n",
    "                raise ValueError('T has an invalid structure')\n",
    "        elif structure == 'cpd':\n",
    "            return len(T)\n",
    "        elif structure == 'lmlra':\n",
    "            if S is None:\n",
    "                return len(T[0])\n",
    "            else:\n",
    "                return len(T)\n",
    "        elif structure == 'btd':\n",
    "            return len(T[0])-1\n",
    "        elif structure == 'tt':\n",
    "            return len(T)\n",
    "        elif structure in ['hankel', 'loewner', 'segment', 'decimate']:\n",
    "            if 'size' in T:\n",
    "                return len(T['size'])\n",
    "            else:\n",
    "                raise ValueError('T has an invalid structure')\n",
    "        else:\n",
    "            raise ValueError('T has an unknown structure')\n",
    "    except getstructure.UnknownStructureError:\n",
    "        raise ValueError('T has an unknown structure')"
   ]
  },
  {
   "cell_type": "code",
<<<<<<< HEAD
   "execution_count": 21,
   "id": "3e3f67ea",
   "metadata": {},
   "outputs": [
    {
     "data": {
      "text/plain": [
       "3"
      ]
     },
     "execution_count": 21,
     "metadata": {},
     "output_type": "execute_result"
    }
   ],
   "source": [
    "getorder(H)"
   ]
  },
  {
   "cell_type": "code",
   "execution_count": 22,
=======
   "execution_count": 5,
>>>>>>> 9e05b8ca9c4193a146432f004ec72b96a205d2c4
   "id": "de8ee4a2",
   "metadata": {},
   "outputs": [
    {
     "name": "stdout",
     "output_type": "stream",
     "text": [
      "U.shape:  (3, 4, 3)\n",
      "T:  [[[ 18  36  54]\n",
      "  [ 36  72 108]\n",
      "  [ 54 108 162]]\n",
      "\n",
      " [[ 18  36  54]\n",
      "  [ 36  72 108]\n",
      "  [ 54 108 162]]\n",
      "\n",
      " [[ 18  36  54]\n",
      "  [ 36  72 108]\n",
      "  [ 54 108 162]]]\n",
      "T.shape:  (3, 3, 3)\n",
      "type of indices:  <class 'numpy.ndarray'>\n",
      "T_subset indices = [1, 2, 3]:  [18 18 18]\n",
      "T_subset.shape:  (3,)\n"
     ]
    },
    {
     "name": "stderr",
     "output_type": "stream",
     "text": [
<<<<<<< HEAD
      "C:\\Users\\DELLPR~1\\AppData\\Local\\Temp/ipykernel_17972/1468056951.py:16: FutureWarning: elementwise comparison failed; returning scalar instead, but in the future will perform elementwise comparison\n",
=======
      "C:\\Users\\DELLPR~1\\AppData\\Local\\Temp/ipykernel_7196/1468056951.py:16: FutureWarning: elementwise comparison failed; returning scalar instead, but in the future will perform elementwise comparison\n",
>>>>>>> 9e05b8ca9c4193a146432f004ec72b96a205d2c4
      "  if indices[0] == ':':\n"
     ]
    },
    {
     "data": {
      "text/plain": [
       "'\\n\\nNote: You need to replace `U1`, `U2`, ..., `UK`, `S1`, `S2`, ..., `SL` with the actual matrices or arrays that make up the BTD.\\n'"
      ]
     },
<<<<<<< HEAD
     "execution_count": 22,
=======
     "execution_count": 5,
>>>>>>> 9e05b8ca9c4193a146432f004ec72b96a205d2c4
     "metadata": {},
     "output_type": "execute_result"
    }
   ],
   "source": [
    "import numpy as np\n",
    "# BLOCK-Term Decomposition (BTD) \n",
    "# BTDGEN Generate full tensor given a BTD.\n",
    "def btdgen(U, *indices):\n",
    "    N = len(U[0]) - 1\n",
    "    size_tens = [np.size(U[0][n], 0) for n in range(N)]\n",
    "    if len(indices) == 0:\n",
    "        T = U[0][0] @ np.kron(U[0][-1].T, [U[0][n] for n in range(N)]) \n",
    "        #T = np.resize(T, size_tens)\n",
    "        for r in range(1, len(U)):\n",
    "            T = T + U[r][0] @ np.kron(U[r][-1].T, [U[r][n] for n in range(N)])\n",
    "        T = np.resize(T, size_tens)\n",
    "        return T\n",
    "    \n",
    "    elif len(indices) == 1:\n",
    "        if indices[0] == ':':\n",
    "            T = btdgen(U).flatten()\n",
    "            return T\n",
    "        \n",
    "        size_output = np.shape(indices[0])\n",
    "        T = 0        \n",
    "        if indices[0].ndim == 1:  # Linear indexing\n",
    "            sub = np.unravel_index(indices[0], size_tens)\n",
    "        else:\n",
    "            sub = indices[0]\n",
    "\n",
    "        sub = np.array(sub)\n",
    "        sub = sub.astype(np.int64)\n",
    "\n",
    "        for r in range(len(U)):\n",
    "            S = U[r][N]\n",
    "            size_core = [np.size(U[r][n]) for n in range(len(U[r]) - 1)]\n",
    "            idx = np.zeros((1, len(U[r])-1), dtype=np.int64) \n",
    "            idx = idx.squeeze()\n",
    "            for i in range(np.size(S)):\n",
    "                tmp = np.dot (S[idx[i]] , U[r][0][sub[0][idx[0]]])\n",
    "                for n in range(1, len(size_core)):\n",
    "                    tmp =  np.dot(tmp , U[r][n][sub[n][ idx[n]]])\n",
    "                \n",
    "                T = T + tmp\n",
    "        \n",
    "        return np.resize(T, size_output)\n",
    "    \n",
    "    elif len(indices) == N + 1:\n",
    "        for r in range(len(U)):\n",
    "            for n in range(N):\n",
    "                U[r][n] = U[r][n][np.ix_(indices[n])]\n",
    "        \n",
    "        return btdgen(U)\n",
    "    \n",
    "    else:\n",
    "        raise ValueError(\"Either linear or subscripts indices should be provided\")\n",
    "\n",
    "'''\n",
    "\n",
    "\n",
    "You can use this function by passing the BTD tensor `U` and the desired indices as arguments. For example:\n",
    "\n",
    "'''\n",
    "U1 = [1, 2, 3]\n",
    "U2 = [1, 2, 3]\n",
    "U3 = [1, 2, 3]\n",
    "S1 = [1, 2, 3]\n",
    "S2 = [1, 2, 3]\n",
    "S3 = [1, 2, 3]\n",
    "\n",
    "U = [[U1, U2, U3, S1],\n",
    "     [U1, U2, U3, S2],\n",
    "     [U1, U2, U3, S3]]\n",
    "U = np.array(U)\n",
    "print (\"U.shape: \", U.shape)\n",
    "T = btdgen(U)  # Compute the full tensor T\n",
    "print (\"T: \",T)\n",
    "print (\"T.shape: \",T.shape)\n",
    "indices = np.array([1, 2, 3])\n",
    "indices = indices.astype(np.int64)\n",
    "print (\"type of indices: \", type(indices))\n",
    "T_subset = btdgen(U, indices)  # Compute a subset of the tensor T\n",
    "print (\"T_subset indices = [1, 2, 3]: \",T_subset)\n",
    "print (\"T_subset.shape: \",T_subset.shape)\n",
    "'''\n",
    "\n",
    "Note: You need to replace `U1`, `U2`, ..., `UK`, `S1`, `S2`, ..., `SL` with the actual matrices or arrays that make up the BTD.\n",
    "'''"
   ]
  },
  {
   "cell_type": "code",
<<<<<<< HEAD
   "execution_count": 23,
=======
   "execution_count": 6,
>>>>>>> 9e05b8ca9c4193a146432f004ec72b96a205d2c4
   "id": "f46e2a75",
   "metadata": {},
   "outputs": [],
   "source": [
    "import numpy as np\n",
    "from scipy.sparse import coo_matrix\n",
    "\n",
    "def ful(T, *args):\n",
    "    type = getstructure(T)\n",
    "    if type == 'full':\n",
    "        if len(args) > 0:\n",
    "            T = T[args]\n",
    "    elif type == 'cpd':\n",
    "        T = cpdgen(T, *args)\n",
    "    elif type == 'lmlra':\n",
    "        T = lmlragen(T[0], T[1], *args)\n",
    "    elif type == 'btd':\n",
    "        T = btdgen(T, *args)\n",
    "    elif type == 'tt':\n",
    "        T = ttgen(T, *args)\n",
    "    elif type == 'hankel':\n",
    "        if len(args) == 0:\n",
    "            H = hankelize(T.val, dim=1, order=T.order, ind=T.ind, full=True, perm=True, fullLimit=np.inf)\n",
    "            H = np.reshape(H, [T.subsize.hankel, T.subsize.other])\n",
    "            T = permute(H, T.repermorder)\n",
    "        elif len(args) == 1:\n",
    "            if args[0] == ':':\n",
    "                T = np.reshape(ful(T), [-1, 1])\n",
    "                return T\n",
    "            sub = []\n",
    "            for i in range(getorder(T)):\n",
    "                sub.append(np.unravel_index(args[0], getsize(T)[i]))\n",
    "        elif len(args) == getorder(T) + 1:\n",
    "            for i in range(len(args)):\n",
    "                if args[i] == ':':\n",
    "                    args[i] = np.arange(1, T.size[i] + 1)\n",
    "            sub = np.meshgrid(*args, indexing='ij')\n",
    "            sub = [np.ravel(x) for x in sub]\n",
    "        else:\n",
    "            raise ValueError('Either linear or subscripts indices should be provided')\n",
    "        \n",
    "        if len(args) > 0:\n",
    "            otherdims = list(range(1, T.dim)) + list(range(T.dim + T.order, getorder(T)))\n",
    "            dims = list(range(T.dim, T.dim + T.order))\n",
    "            dataind = np.sum(np.stack(sub)[dims], axis=0) - T.order + 1\n",
    "            if len(otherdims) == 0:\n",
    "                dataotherind = np.ones_like(dataind)\n",
    "            elif len(otherdims) == 1:\n",
    "                dataotherind = sub[otherdims[0]]\n",
    "            else:\n",
    "                dataotherind = np.ravel_multi_index(sub[otherdims], T.subsize.other)\n",
    "            \n",
    "            valind = np.ravel_multi_index([dataind, dataotherind], T.val.shape)\n",
    "            \n",
    "            if len(args) == 2:\n",
    "                T = np.reshape(T.val[valind], args[0].shape)\n",
    "            else:\n",
    "                shape = [len(arg) for arg in args]\n",
    "                T = np.reshape(T.val[valind], shape)\n",
    "            \n",
    "    elif type == 'loewner':\n",
    "        if len(args) == 0:\n",
    "            L = loewnerize(T.val, dim=1, order=T.order, ind=T.ind, full=True, perm=True, t=T.t, fullLimit=np.inf)\n",
    "            L = np.reshape(L, [T.subsize.loewner, T.subsize.other])\n",
    "            T = permute(L, T.repermorder)\n",
    "        elif len(args) == 1:\n",
    "            if args[0] == ':':\n",
    "                T = np.reshape(ful(T), [-1, 1])\n",
    "                return T\n",
    "            sub = []\n",
    "            for i in range(getorder(T)):\n",
    "                sub.append(np.unravel_index(args[0], getsize(T)[i]))\n",
    "        elif len(args) == getorder(T) + 1:\n",
    "            for i in range(len(args)):\n",
    "                if args[i] == ':':\n",
    "                    args[i] = np.arange(1, T.size[i] + 1)\n",
    "            sub = np.meshgrid(*args, indexing='ij')\n",
    "            sub = [np.ravel(x) for x in sub]\n",
    "        else:\n",
    "            raise ValueError('Either linear or subscripts indices should be provided')\n",
    "        \n",
    "        if len(args) > 0:\n",
    "            otherdims = list(range(1, T.dim)) + list(range(T.dim + T.order, getorder(T)))\n",
    "            dims = list(range(T.dim, T.dim + T.order))\n",
    "            \n",
    "            if len(otherdims) == 1:\n",
    "                dataotherind = sub[otherdims[0]]\n",
    "            elif len(otherdims) > 1:\n",
    "                dataotherind = np.ravel_multi_index(sub[otherdims], T.subsize.other)\n",
    "            \n",
    "            totaldata = 0\n",
    "            for i in range(len(dims)):\n",
    "                idx = T.ind[i][sub[dims[i]]].T\n",
    "                \n",
    "                if len(otherdims) == 0:\n",
    "                    linidx = idx\n",
    "                else:\n",
    "                    linidx = np.ravel_multi_index([idx, dataotherind], T.val.shape)\n",
    "                \n",
    "                data = T.val[linidx]\n",
    "                for o in list(range(1, i)) + list(range(i + 1, len(dims))):\n",
    "                    data = data / (T.t[T.ind[i][sub[dims[i]]]] - T.t[T.ind[o][sub[dims[o]]]])\n",
    "                \n",
    "                totaldata = totaldata + data\n",
    "            \n",
    "            if len(args) == 2:\n",
    "                T = np.reshape(totaldata, args[0].shape)\n",
    "            else:\n",
    "                shape = [len(arg) for arg in args]\n",
    "                T = np.reshape(totaldata, shape)\n",
    "    \n",
    "    elif type in ['incomplete', 'sparse']:\n",
    "        val = T.val\n",
    "        size_tens = T.size\n",
    "        \n",
    "        if len(args) == 0:\n",
    "            if 8 * np.prod(size_tens) > 8e9:\n",
    "                raise ValueError('T is too large to be stored as an array.')\n",
    "            if not hasattr(T, 'ind'):\n",
    "                ind = np.ravel_multi_index(T.sub, size_tens)\n",
    "            else:\n",
    "                ind = T.ind\n",
    "            \n",
    "            if type == 'sparse':\n",
    "                T = coo_matrix((val, (ind, np.zeros_like(ind))), shape=size_tens).toarray()\n",
    "            else:\n",
    "                T = np.full(size_tens, np.nan)\n",
    "                T[ind] = val\n",
    "        elif len(args) == 1:\n",
    "            if args[0] == ':':\n",
    "                T = np.reshape(ful(T), [-1, 1])\n",
    "                return T\n",
    "            if not hasattr(T, 'ind'):\n",
    "                T = fmt(T)\n",
    "            if type == 'incomplete':\n",
    "                val = np.full(args[0].shape, np.nan)\n",
    "            else:\n",
    "                val = np.zeros(args[0].shape)\n",
    "            ia, ib = np.isin(args[0], T.ind)\n",
    "            val[ia] = T.val[ib[ia]]\n",
    "            T = val\n",
    "        elif len(args) == len(size_tens) + 1:\n",
    "            size_result = [len(arg) for arg in args]\n",
    "            if 8 * np.prod(size_result) > 8e9:\n",
    "                raise ValueError('T is too large to be stored as an array.')\n",
    "            if not hasattr(T, 'ind'):\n",
    "                T = fmt(T)\n",
    "            if type == 'incomplete':\n",
    "                val = np.full(size_result, np.nan)\n",
    "            else:\n",
    "                val = np.zeros(size_result)\n",
    "            sub = np.meshgrid(*args, indexing='ij')\n",
    "            ind = np.ravel_multi_index(sub, T.size)\n",
    "            ia, ib = np.isin(ind, T.ind)\n",
    "            val[ia] = T.val[ib[ia]]\n",
    "            T = val\n",
    "        else:\n",
    "            raise ValueError('Either linear or subscripts indices should be provided')\n",
    "    \n",
    "    elif type == 'segment':\n",
    "        X = desegmentize(T)\n",
    "        X = segmentize(X, dim=T.dim, order=T.order, segsize=T.segsize, perm=T.ispermuted, shift=T.shift)\n",
    "        T = ful(X, *args)\n",
    "    \n",
    "    elif type == 'decimate':\n",
    "        X = dedecimate(T)\n",
    "        X = decimate(X, dim=T.dim, order=T.order, subsample=T.subsample, perm=T.ispermuted, shift=T.shift)\n",
    "        T = ful(X, *args)\n",
    "    \n",
    "    else:\n",
    "        raise ValueError('Unknown structured tensor type.')\n",
    "\n",
    "    return T"
   ]
  },
  {
   "cell_type": "code",
<<<<<<< HEAD
   "execution_count": 24,
   "id": "513c0f2e",
   "metadata": {},
   "outputs": [],
   "source": [
    "import numpy as np\n",
    "import scipy.fftpack as fft\n",
    "import itertools\n",
    "# This function attempts to write in Python the similar function in Tensorlab Matlab toolbox\n",
    "# I kept only some options working, and others attempted without testing, and others not attempted at all\n",
    "\n",
    "def dehankelize(H, **kwargs):\n",
    "    def hankel_freq(order, size_hankel, N):\n",
=======
   "execution_count": 122,
   "id": "776873e2",
   "metadata": {},
   "outputs": [],
   "source": [
    "def hankel_freq(order, size_hankel, N):\n",
>>>>>>> 9e05b8ca9c4193a146432f004ec72b96a205d2c4
    "        # Construct the frequencies of the data - it seems not correct\n",
    "        if order == 2:\n",
    "            m = min(size_hankel[0], N-size_hankel[0]+1)\n",
    "            w = np.concatenate((np.arange(1, m), m*np.ones(N-2*m+2), np.arange(m-1, 0, -1)))\n",
    "            w = w.reshape(-1, 1) # transpose\n",
    "        else:\n",
    "            w = np.fft.fft(np.ones(size_hankel[0]), N)\n",
    "            if w.shape[0] == 1:\n",
    "                w = w.reshape(1, -1)\n",
    "            for i in range(1, len(size_hankel)):\n",
    "                tmp = np.fft.fft(np.ones(size_hankel[i]), N)\n",
    "                if tmp.shape[0] == 1:\n",
    "                    w = w * tmp.reshape(1, -1)\n",
    "                else:\n",
    "                    w = w * tmp\n",
    "            w = np.round(np.fft.ifft(w)).astype(int)\n",
    "    \n",
<<<<<<< HEAD
    "        return w\n",
    "\n",
    "    def sub_hankel(sizes):\n",
    "        # Construct the indices of the Hankel matrix/tensor\n",
    "        allind = np.arange(1, sizes[0] + 1)\n",
    "        for i in range(1, len(sizes)):\n",
    "            ridx = np.arange(sizes[i])\n",
    "            ridx = np.reshape(ridx, [1] * i + [len(ridx)])\n",
    "            lidx = np.add.outer(allind, ridx)\n",
    "            allind = lidx.flatten()\n",
    "\n",
    "        return allind\n",
    "    \n",
    "    defaultKwargs = { 'Order': 2,\n",
    "        'Dim': 1,\n",
    "        'Dims': np.NaN,\n",
    "        'Method':'mean',\n",
    "        'PermToDim': np.NaN,\n",
    "        'Rank':  np.NaN\n",
    "        }\n",
    "    order = kwargs.get('Order', 2)\n",
    "    dim = kwargs.get('Dim', 1)\n",
    "    dims = kwargs.get('Dims', np.NaN)\n",
    "    method = kwargs.get('Method', 'mean')\n",
    "    permToDim = kwargs.get('PermToDim', np.NaN)\n",
    "    rank = kwargs.get('Rank', np.NaN)\n",
    "    \n",
    "    args = {'Order': order,\n",
=======
    "        return w"
   ]
  },
  {
   "cell_type": "code",
   "execution_count": 134,
   "id": "6c020b34",
   "metadata": {},
   "outputs": [
    {
     "data": {
      "text/plain": [
       "False"
      ]
     },
     "execution_count": 134,
     "metadata": {},
     "output_type": "execute_result"
    }
   ],
   "source": [
    "H[0].shape[1] != H[1].shape[1] "
   ]
  },
  {
   "cell_type": "code",
   "execution_count": 135,
   "id": "efd2ef11",
   "metadata": {},
   "outputs": [],
   "source": [
    "if np.any([H[0].shape[1] != H[i].shape[1] for i in range(1, H.shape[0])]):\n",
    "    raise ValueError('For a CPD size(H{n},2) should be R for all n')\n",
    "if not np.isnan(rank): # defined by caller\n",
    "    if np.any(rank<1):\n",
    "        raise ValueError('The different ranks should be larger than 1!')  \n",
    "    if np.sum(rank)!=H.shape[2] :\n",
    "        raise ValueError('The sum of the ranks should be equal the rank of the factor matrices!')  \n",
    "else: # not defined by caller and need to be initialised\n",
    "    rank = H.shape[2]     "
   ]
  },
  {
   "cell_type": "code",
   "execution_count": 181,
   "id": "e0d9017d",
   "metadata": {},
   "outputs": [
    {
     "data": {
      "text/plain": [
       "[(1, 1), (2, 1), (3, 1), (4, 1)]"
      ]
     },
     "execution_count": 181,
     "metadata": {},
     "output_type": "execute_result"
    }
   ],
   "source": [
    "data"
   ]
  },
  {
   "cell_type": "code",
   "execution_count": 244,
   "id": "9cdd5aef",
   "metadata": {},
   "outputs": [
    {
     "data": {
      "text/plain": [
       "<5x2 sparse matrix of type '<class 'numpy.intc'>'\n",
       "\twith 4 stored elements in Compressed Sparse Row format>"
      ]
     },
     "execution_count": 244,
     "metadata": {},
     "output_type": "execute_result"
    }
   ],
   "source": [
    "from scipy.sparse import csr_matrix\n",
    "F = np.fft.fft(H[0, :], N, axis=1)\n",
    "for i in range (1, H.shape[0]):\n",
    "    F = np.dot(np.transpose(F), np.fft.fft(H[i, :], N, axis=1))\n",
    "X = np.fft.ifft(F, axis=1)\n",
    "w = hankel_freq(order, size_hankel, N)\n",
    "X = X[:,np.newaxis] / w\n",
    "ranke = np.cumsum([1, rank])\n",
    "i = np.array(range(1, ranke[-1]))\n",
    "j = np.zeros_like(i)\n",
    "j[ranke[0:-1]-1] = 1\n",
    "j = np.cumsum(j)\n",
    "C = csr_matrix((np.ones_like(i), (i, j)))\n",
    "C"
   ]
  },
  {
   "cell_type": "code",
   "execution_count": 248,
   "id": "005e109d",
   "metadata": {},
   "outputs": [
    {
     "data": {
      "text/plain": [
       "1030301"
      ]
     },
     "execution_count": 248,
     "metadata": {},
     "output_type": "execute_result"
    }
   ],
   "source": [
    "X.size"
   ]
  },
  {
   "cell_type": "code",
   "execution_count": 246,
   "id": "12ac9240",
   "metadata": {},
   "outputs": [
    {
     "ename": "ValueError",
     "evalue": "matmul: Input operand 1 has a mismatch in its core dimension 0, with gufunc signature (n?,k),(k,m?)->(n?,m?) (size 5 is different from 101)",
     "output_type": "error",
     "traceback": [
      "\u001b[1;31m---------------------------------------------------------------------------\u001b[0m",
      "\u001b[1;31mValueError\u001b[0m                                Traceback (most recent call last)",
      "\u001b[1;32mC:\\Users\\DELLPR~1\\AppData\\Local\\Temp/ipykernel_7196/495957634.py\u001b[0m in \u001b[0;36m<module>\u001b[1;34m\u001b[0m\n\u001b[1;32m----> 1\u001b[1;33m \u001b[0mX\u001b[0m \u001b[1;33m=\u001b[0m \u001b[0mX\u001b[0m \u001b[1;33m@\u001b[0m \u001b[0mC\u001b[0m\u001b[1;33m.\u001b[0m\u001b[0mtodense\u001b[0m\u001b[1;33m(\u001b[0m\u001b[1;33m)\u001b[0m\u001b[1;33m\u001b[0m\u001b[1;33m\u001b[0m\u001b[0m\n\u001b[0m",
      "\u001b[1;31mValueError\u001b[0m: matmul: Input operand 1 has a mismatch in its core dimension 0, with gufunc signature (n?,k),(k,m?)->(n?,m?) (size 5 is different from 101)"
     ]
    }
   ],
   "source": [
    "X = X @ C.todense()"
   ]
  },
  {
   "cell_type": "code",
   "execution_count": 208,
   "id": "0f1c850f",
   "metadata": {},
   "outputs": [],
   "source": [
    "from scipy.linalg import khatri_rao as kr \n",
    "if len(others) != 0:\n",
    "    # If other non-Hankel dimensions   \n",
    "    KR = np.transpose(kr(H[0], H[1]))\n",
    "    for k in range (1, H.shape[0]):\n",
    "        KR = np.transpose(kr(np.transpose(KR), H[k]))\n",
    "    #KR = kr(H{others(end:-1:1)}).';\n",
    "    if not isinstance(rank, int):\n",
    "        #Xn = zeros(size(X,1),numel(rank),size(KR,2));\n",
    "        Xn = np.zeros((X.shape[0], len(rank), KR.shape[2]))\n",
    "        for r in range(len(rank)):\n",
    "            #Xn(:,r,:) = X(:,ranke(r):ranke(r+1)-1)*KR(ranke(r):ranke(r+1)-1,:);\n",
    "            Xn[:, r, :] = X[:, ranke[r]:ranke[r+1]-1] @ KR[ranke[r]:ranke[r+1]-1, :]\n",
    "        X = Xn\n",
    "    #else:\n",
    "        #X = X @ KR  ## this might be tensor product, but when needed I will be testing later\n",
    "\n",
    "    sx = np.array(size_all)\n",
    "    #x[dims] = np.nan ## need testing\n",
    "    sx[dims[0]] = N\n",
    "    if not isinstance(rank, int):\n",
    "        #sx = [sx(1:dims(1)) numel(rank) sx(dims(1)+1:end)];\n",
    "        sx = np.concatenate((sx[0:dims[0]], [len(rank)], sx[dims[0]+1:]))\n",
    "    #sx(isnan(sx)) = [];\n",
    "    sx = np.nan_to_num(sx) # should be converted to list and remove the Nans\n",
    "\n",
    "    if not isinstance(rank, int):\n",
    "        #signaldim = dims(1)-sum(dims(1)>dims(2:end));\n",
    "        signaldim = dims[0] - np.sum(dims[0] > dims[1:])\n",
    "        #X = reshape(X,[size(X,1)*size(X,2) size(X,3)]);\n",
    "        X = np.reshape(X, [X.shape[0]*X.shape[1], X.shape[2]])\n",
    "        #X = mat2tens(X,sx,[signaldim signaldim+1]);\n",
    "        X = np.reshape(X, (sx[0], sx[1], -1), order='F')\n",
    "    else:\n",
    "        #signaldim = dims(1)-sum(dims(1)>dims(2:end));\n",
    "        signaldim = int(dims[0] - np.sum([dims[d] for d in range(1, len(dims)) if dims[0] > dims[d]]))\n",
    "        #X = mat2tens(X,sx,signaldim);\n",
    "        X = np.resize(X, [sx[signaldim-1]]) \n",
    "else:\n",
    "    X = X @ C\n",
    "    signaldim = 1"
   ]
  },
  {
   "cell_type": "code",
   "execution_count": 224,
   "id": "29367652",
   "metadata": {},
   "outputs": [
    {
     "name": "stdout",
     "output_type": "stream",
     "text": [
      "size_all:  [51 51]\n",
      "size_hankel:  [51 51]\n"
     ]
    }
   ],
   "source": [
    "print (\"H.shape[1]: \", H.shape[1])\n",
    "print (\"H.shape[0]: \", H.shape[0])\n",
    "size_all = np.repeat(H.shape[1], H.shape[0])\n",
    "print (\"size_all: \", size_all)\n",
    "size_hankel = size_all[np.subtract(dims, 1)]\n",
    "print (\"size_hankel: \", size_hankel)"
   ]
  },
  {
   "cell_type": "code",
   "execution_count": 157,
   "id": "81d7a9e2",
   "metadata": {},
   "outputs": [
    {
     "data": {
      "text/plain": [
       "array([1, 1, 1, 1])"
      ]
     },
     "execution_count": 157,
     "metadata": {},
     "output_type": "execute_result"
    }
   ],
   "source": [
    "rank =  H.shape[2] \n",
    "\n",
    "ranke = np.cumsum([1, rank])\n",
    "i = np.array(range(1, ranke[-1]))\n",
    "j = np.zeros_like(i)\n",
    "j[ranke[0:-1]-1] = 1\n",
    "j = np.cumsum(j)\n",
    "j"
   ]
  },
  {
   "cell_type": "code",
   "execution_count": 400,
   "id": "513c0f2e",
   "metadata": {},
   "outputs": [],
   "source": [
    "import numpy as np\n",
    "import scipy.fftpack as fft\n",
    "from scipy.sparse import csr_matrix\n",
    "from scipy.linalg import khatri_rao as kr \n",
    "import itertools\n",
    "# This function attempts to write in Python the similar function in Tensorlab Matlab toolbox\n",
    "# I kept only some options working, and others attempted without testing, and others not attempted at all\n",
    "\n",
    "def dehankelize(H, **kwargs):\n",
    "    def hankel_freq(order, size_hankel, N):\n",
    "        # Construct the frequencies of the data - it seems not correct\n",
    "        if order == 2:\n",
    "            m = min(size_hankel[0], N-size_hankel[0]+1)\n",
    "            w = np.concatenate((np.arange(1, m), m*np.ones(N-2*m+2), np.arange(m-1, 0, -1)))\n",
    "            w = w.reshape(-1, 1) # transpose\n",
    "        else:\n",
    "            w = np.fft.fft(np.ones(size_hankel[0]), N)\n",
    "            if w.shape[0] == 1:\n",
    "                w = w.reshape(1, -1)\n",
    "            for i in range(1, len(size_hankel)):\n",
    "                tmp = np.fft.fft(np.ones(size_hankel[i]), N)\n",
    "                if tmp.shape[0] == 1:\n",
    "                    w = w * tmp.reshape(1, -1)\n",
    "                else:\n",
    "                    w = w * tmp\n",
    "            w = np.round(np.fft.ifft(w)).astype(int)\n",
    "    \n",
    "        return w\n",
    "\n",
    "    def sub_hankel(sizes):\n",
    "        # Construct the indices of the Hankel matrix/tensor\n",
    "        allind = np.arange(1, sizes[0] + 1)\n",
    "        for i in range(1, len(sizes)):\n",
    "            ridx = np.arange(sizes[i])\n",
    "            ridx = np.reshape(ridx, [1] * i + [len(ridx)])\n",
    "            lidx = np.add.outer(allind, ridx)\n",
    "            allind = lidx.flatten()\n",
    "\n",
    "        return allind\n",
    "    \n",
    "    defaultKwargs = { 'Order': 2,\n",
    "        'Dim': 1,\n",
    "        'Dims': np.NaN,\n",
    "        'Method':'mean',\n",
    "        'PermToDim': np.NaN,\n",
    "        'Rank':  np.NaN\n",
    "        }\n",
    "    order = kwargs.get('Order', 2)\n",
    "    dim = kwargs.get('Dim', 1)\n",
    "    dims = kwargs.get('Dims', np.NaN)\n",
    "    method = kwargs.get('Method', 'mean')\n",
    "    permToDim = kwargs.get('PermToDim', np.NaN)\n",
    "    rank = kwargs.get('Rank', np.NaN)\n",
    "    \n",
    "    args = {'Order': order,\n",
>>>>>>> 9e05b8ca9c4193a146432f004ec72b96a205d2c4
    "        'Dim': dim,\n",
    "        'Dims': dims,\n",
    "        'Method': method,\n",
    "        'PermToDim': permToDim,\n",
    "        'Rank': rank}\n",
    "    KeepUnmatched = False\n",
    "    isdefault =  args ==defaultKwargs\n",
    "    shared_items = {k: args[k] for k in args if k in defaultKwargs and args[k] == defaultKwargs[k]}\n",
    "    \n",
    "    if not np.isnan(dims):\n",
    "        if dim != 1: # not default and set by caller\n",
    "            raise ValueError('Using both the ''Dim'' and ''Dims'' option arguments is invalid!')  \n",
    "        if order != 2: # not default, set by caller\n",
    "            if dims+order-1>getorder(H):\n",
    "                raise ValueError('The given order is not consistent with the dimensions of H!')\n",
    "            if len(dims)==1:\n",
    "                dims = np.arange(dims[0],dims[0]+order)\n",
    "        else: # order is not set\n",
    "            if np.any(dims>getorder(H)):\n",
    "                raise ValueError('The given dehankelization dimensions are not consistent with the dimensions of H!')\n",
    "            order = len(dims)\n",
    "        if len(dims!=order):\n",
    "            raise ValueError('The number of detensorized dimensions should be equal to the order!');\n",
    "    else: # dims is not set by the caller\n",
    "        if dim != 1: # not default and set by caller\n",
    "            if dim+order-1>getorder(H):\n",
    "                raise ValueError('The given dehankelization dimensions are not consistent with the dimensions of H!')        \n",
    "        if order != 2 and order>getorder(H):\n",
    "            raise ValueError('The given order is not consistent with the dimensions of H!')\n",
    "        dims = np.arange(dim,(dim+order))\n",
    "    if getstructure(H)!='cpd' and not np.isnan(rank):\n",
    "        raise ValueError('The rank option is not supported when H is not a CPD!')\n",
    "    dims=np.array(dims)\n",
    "    np.reshape(dims, np.hstack((1, dims.shape)))\n",
    "    \n",
<<<<<<< HEAD
    "    order = H.ndim\n",
    "    dims = np.arange(dim,(dim+order))\n",
=======
    "    \n",
    "    #dims = np.arange(dim,(dim+order))\n",
>>>>>>> 9e05b8ca9c4193a146432f004ec72b96a205d2c4
    "    #Dehankelization\n",
    "    H_str = getstructure(H)        \n",
    "    if H_str == 'full':\n",
    "        # Given a full tensor\n",
    "        sh = np.shape(H)\n",
    "        size_hankel = [sh[i-1] for i in dims]\n",
    "        #print (\"order : \", order)\n",
    "        #print (\"dims : \", dims)\n",
    "        #print (\"sh : \", sh)\n",
    "        if method == 'fibers':\n",
    "            subs = np.tile(Ellipsis, (H.ndim))\n",
    "            #print (\"subs : \", subs)\n",
    "            for i in range(1, len(subs)):\n",
    "                subs[dims[i]-1] = 0\n",
    "            #print (\"subs : \", subs)\n",
    "            X = []\n",
    "            for i in range(order):\n",
    "                if i != 0:\n",
    "                    subs[dims[i-1]-1] = np.squeeze(np.array(sh[dims[i-1]]-1))\n",
    "                    subs[dims[i]-1] =np.hstack(range(1, sh[dims[i]-1]))    \n",
    "                    if len(sh) > 2:\n",
    "                        k = 0\n",
    "                        #for x in np.nditer(subs,flags=[\"refs_ok\"], op_flags=[\"readwrite\"]):\n",
    "                        for idx, x in np.ndenumerate(subs):\n",
    "                            if isinstance(x, int):\n",
    "                                if x >=H.shape[k]:\n",
    "                                    x = x %  H.shape[k]\n",
    "                                if x <0:\n",
    "                                    x = 0\n",
    "                            else:    \n",
    "                                x = x.astype(np.int64)\n",
    "                                if x.size == 1:   \n",
    "                                    if x >=H.shape[k]:\n",
    "                                        x = x %  H.shape[k]\n",
    "                                    if x <0:\n",
    "                                        x = 0\n",
    "                                else:\n",
    "                                    for j in range( x.size):\n",
    "                                        higherdims = x[j] >=H.shape[k]\n",
    "                                        x[higherdims] = x[j] %  H.shape[k]\n",
    "                                        negdims = x[j] <0\n",
    "                                        x[negdims] = 0\n",
    "                            #x = np.where(x >= maxVal, x %  maxVal, x)\n",
    "                            #x = np.where(x < 0, 0, x)\n",
    "                            subs[k] = x\n",
    "                            k = k + 1\n",
    "                  \n",
    "                print (\"subs : \", subs)\n",
    "                tmp = H[tuple(subs)]\n",
    "                print (\"tmp: \", tmp)\n",
    "                sizes = np.squeeze(np.hstack((np.shape(tmp) , np.squeeze( np.ones ( (1, np.ndim(H) - np.ndim(tmp)))))))\n",
    "                sizes = sizes.astype(np.int64)\n",
    "                perm_vec = list(range(H.ndim))\n",
    "                #for j in range (len(perm_vec)):\n",
    "                xx = perm_vec[0]\n",
    "                perm_vec[0] = perm_vec[dims[i]-1]\n",
    "                perm_vec[dims[i]-1] = xx\n",
    "                #print (\"perm_vec: \", perm_vec)\n",
    "                #print (\"tmp shape: \", tmp.shape)\n",
    "                #xx = perm_vec[0] \n",
    "                #perm_vec[0] = perm_vec[dims[i]-1]\n",
    "                #perm_vec[dims[i]-1] = xx\n",
    "                if len(tmp.shape) < len(perm_vec):\n",
    "                    xx = np.ones(len(perm_vec) - len(tmp.shape))\n",
    "                    xx = xx.astype(np.int64)\n",
    "                    tmp = np.reshape(tmp, np.hstack((tmp.shape, xx)))\n",
    "                #    tmp = np.reshape(tmp, np.hstack((tmp.shape, 1)))\n",
    "                #elif len(perm_vec) < len(tmp.shape):\n",
    "                #     perm_vec = np.reshape(perm_vec, np.hstack((perm_vec.shape, 1)))\n",
    "                print (\"perm_vec: \", perm_vec)\n",
    "                #print (\"tmp shape: \", tmp.shape)\n",
    "                tmp = np.transpose(tmp, tuple(perm_vec))\n",
    "                sizes = [sizes[j] for j in perm_vec]\n",
    "                #print (\"sizes after resize: \", sizes)\n",
    "                #sizes = tuple([sizes[j] for j in perm_vec if j in dims[:i] or j in dims[i+2:]])\n",
    "                if i+1< len(dims):\n",
    "                    x = list(sizes)\n",
    "                    #x = x[perm_vec[dims[i+1]-1]:perm_vec[dims[len(dims)-1]-1]]\n",
    "                    x = x[0:perm_vec[dims[i+1]-1]]\n",
    "                    #for j in range (i+1, len(dims)):\n",
    "                   #     x.pop(perm_vec[dims[j]-1])\n",
    "                    sizes = np.array(x)\n",
    "                    #print (\"sizes after pop: \", sizes)\n",
    "                if len(sizes)==1:\n",
    "                    sizes.resize ((2))\n",
    "                    sizes[1] = 1\n",
    "                print (\"sizes after resize: \", sizes)\n",
    "                if np.ndim(tmp) != 0:\n",
    "                    tmp = np.resize(tmp, sizes)\n",
    "                else:\n",
    "                    tmp = np.asarray([])\n",
    "                print (\"tmp: \", tmp)\n",
    "                tmp = tmp.squeeze()\n",
    "                print (\"tmp: \", tmp)\n",
    "                X.append(tmp)\n",
<<<<<<< HEAD
    "            signaldim = int(dims[0] - np.sum([dims[d] for d in range(1, len(dims)) if dims[0] > dims[d]]))\n",
=======
    "                print (\"X: \", X)\n",
    "            signaldim = int(dims[0] - np.sum([dims[d] for d in range(1, len(dims)) if dims[0] > dims[d]]))\n",
    "            print (\"signaldim: \", signaldim)\n",
>>>>>>> 9e05b8ca9c4193a146432f004ec72b96a205d2c4
    "            X = np.concatenate(X, axis=signaldim-1)\n",
    "            #X = np.array(X)\n",
    "            \n",
    "        else: # Use another technique than fibres\n",
    "            H_mat = np.reshape(H, [-1, size_hankel[-1]]) # tensor to matrix\n",
    "            ind_f = np.cumsum(size_hankel) - np.arange(order)\n",
    "            N = ind_f[-1]\n",
    "            w = hankel_freq(order, size_hankel, N)\n",
    "            sample_ind = sub_hankel(size_hankel)\n",
    "            if method == 'mean':\n",
    "                # Extract means by performing a two-step procedure to\n",
    "                # improve accuracy\n",
    "                # first step is to dehankelize by fibers and PermtoDim 1\n",
    "                options_quick = defaultKwargs.copy()\n",
    "                options_quick['PermToDim'] = 1\n",
    "                options_quick['Method'] = 'fibers'\n",
    "                x_estimate = dehankelize(H, **options_quick)\n",
    "                \n",
    "                # The following second step computes the frequenct and compute the means to subtract\n",
    "                # from the estimated matrix. The Python functions are different from Matlab\n",
    "                # I did not complete testing this part to finalise it, so result can be returned with the \n",
    "                # current estimated accuracy.\n",
    "                '''\n",
    "                #x_estimate = np.reshape(x_estimate, [-1, size_hankel[-1]]) # tensor to matrix\n",
    "                x_estimate =  np.array(x_estimate)\n",
    "                if x_estimate.ndim==1:\n",
    "                        x_estimate.resize ((x_estimate.shape[0], 1))\n",
    "                for k in range(np.size(H_mat, 1)):\n",
    "                    #diff = H_mat[:, k] - x_estimate[sample_ind-1][0]\n",
    "                    # tmp = accumarray(sampleind,diff,[],@sum)./w;\n",
    "                    tmp = np.bincount(sample_ind)/w #, weights=diff) / w\n",
    "                    x_estimate[:][k] = x_estimate[:][k] + tmp\n",
    "                    '''\n",
    "                X = x_estimate\n",
    "            else: # Extract something else than means (such as median)\n",
    "                x_estimate = np.empty((N, np.size(H_mat)))\n",
    "                for k in range(np.size(H_mat)):\n",
    "                    # xestimate(:,k) = accumarray(sampleind,Hmat(:,k),[],method);\n",
    "                    # we need a numpy function to accumulate the values given the function in the Method option\n",
    "                    # left to future work, and just using mean again \n",
    "                    x_estimate[:][k] = np.bincount(sample_ind, weights=Hmat[:][k]) / w\n",
    "                X = x_estimate\n",
    "            sx = sh \n",
    "            sx = np.array(sx).astype(float)  # because Nan is float, will convert here\n",
    "            sx[dims-1] = np.NaN\n",
    "            sx[dims[0]] = N\n",
    "            sx = sx[np.logical_not(np.isnan(sx))] # remove all Nans\n",
    "            sx = np.array(sx).astype(int) # return to int to use as index \n",
    "            signaldim = int(dims[0] - np.sum([dims[d] for d in range(1, len(dims)) if dims[0] > dims[d]]))\n",
    "            X = np.resize(x_estimate, [sx[signaldim-1]]) # mat2tens(xestimate,sx,signaldim);\n",
    "              \n",
    "               \n",
    "    elif H_str == 'hankel': # Given an efficient (block-)Hankel representation\n",
    "        print (\"Future work\")\n",
    "    elif H_str == 'cpd': # Given a representation of a tensor in rank-1 terms\n",
<<<<<<< HEAD
    "        print (\"Future work\")    \n",
=======
    "        print (\"cpd\") # the first dimension is 2, second dimension is N, third dimension is the rank,, all rank should be equal \n",
    "        H = H[0]\n",
    "        if np.any([H[0].shape[1] != H[i].shape[1] for i in range(1, H.shape[0])]):\n",
    "            raise ValueError('For a CPD size(H{n},2) should be R for all n')\n",
    "        if not np.isnan(rank): # defined by caller\n",
    "            if np.any(rank<1):\n",
    "                raise ValueError('The different ranks should be larger than 1!')  \n",
    "            if np.sum(rank)!=H.shape[2] :\n",
    "                raise ValueError('The sum of the ranks should be equal the rank of the factor matrices!')  \n",
    "        else: # not defined by caller and need to be initialised\n",
    "            rank = H.shape[2]     \n",
    "        print (\"dims: \", dims)\n",
    "        print (\"rank: \", rank)\n",
    "        print (\"order: \", order)\n",
    "        others = np.array(range(H.shape[0]))\n",
    "        print (\"others: \", others)\n",
    "        x = list(others)\n",
    "        #x = x[perm_vec[dims[i+1]-1]:perm_vec[dims[len(dims)-1]-1]]\n",
    "        x = x[len(dims):len(others)]      \n",
    "        others = np.array(x)\n",
    "        print (\"others: \", others)\n",
    "        print (\"H.shape[1]: \", H.shape[1])\n",
    "        print (\"H.shape[0]: \", H.shape[0])\n",
    "        size_all = np.repeat(H.shape[1], H.shape[0])\n",
    "        print (\"size_all: \", size_all)\n",
    "        size_hankel = size_all[np.subtract(dims, 1)]\n",
    "        print (\"size_hankel: \", size_hankel)\n",
    "        N = sum(size_hankel)-order+1\n",
    "        print (\"N: \", N)\n",
    "        # Apply FFT techniques to efficiently extract the data\n",
    "        F = np.fft.fft(H[0, :], N, axis=0)\n",
    "        for i in range (1, H.shape[0]):\n",
    "            F = np.multiply(F, np.fft.fft(H[i, :], N, axis=0))\n",
    "        X = np.fft.ifft(F, axis=0)\n",
    "        w = hankel_freq(order, size_hankel, N)\n",
    "        X = X / w\n",
    "        ranke = np.cumsum([1, rank])\n",
    "        i = np.array(range(1, ranke[-1]))\n",
    "        j = np.zeros_like(i)\n",
    "        j[ranke[0:-1]-1] = 1\n",
    "        j = np.cumsum(j)\n",
    "        C = csr_matrix((np.ones_like(i), (i, j)))\n",
    "        if len(others) != 0:\n",
    "            # If other non-Hankel dimensions   \n",
    "            KR = np.transpose(kr(H[0], H[1]))\n",
    "            for k in range (1, H.shape[0]):\n",
    "                KR = np.transpose(kr(np.transpose(KR), H[k]))\n",
    "            #KR = kr(H{others(end:-1:1)}).';\n",
    "            if not isinstance(rank, int):\n",
    "                #Xn = zeros(size(X,1),numel(rank),size(KR,2));\n",
    "                Xn = np.zeros((X.shape[0], len(rank), KR.shape[2]))\n",
    "                for r in range(len(rank)):\n",
    "                    #Xn(:,r,:) = X(:,ranke(r):ranke(r+1)-1)*KR(ranke(r):ranke(r+1)-1,:);\n",
    "                    Xn[:, r, :] = X[:, ranke[r]:ranke[r+1]-1] @ KR[ranke[r]:ranke[r+1]-1, :]\n",
    "                X = Xn\n",
    "            #else:\n",
    "                #X = X @ KR  ## this might be tensor product, but when needed I will be testing later\n",
    "\n",
    "            sx = np.array(size_all)\n",
    "            #x[dims] = np.nan ## need testing\n",
    "            sx[dims[0]] = N\n",
    "            if not isinstance(rank, int):\n",
    "                #sx = [sx(1:dims(1)) numel(rank) sx(dims(1)+1:end)];\n",
    "                sx = np.concatenate((sx[0:dims[0]], [len(rank)], sx[dims[0]+1:]))\n",
    "            #sx(isnan(sx)) = [];\n",
    "            sx = np.nan_to_num(sx) # should be converted to list and remove the Nans\n",
    "\n",
    "            if not isinstance(rank, int):\n",
    "                #signaldim = dims(1)-sum(dims(1)>dims(2:end));\n",
    "                signaldim = dims[0] - np.sum(dims[0] > dims[1:])\n",
    "                #X = reshape(X,[size(X,1)*size(X,2) size(X,3)]);\n",
    "                X = np.reshape(X, [X.shape[0]*X.shape[1], X.shape[2]])\n",
    "                #X = mat2tens(X,sx,[signaldim signaldim+1]);\n",
    "                X = np.reshape(X, (sx[0], sx[1], -1), order='F')\n",
    "            else:\n",
    "                #signaldim = dims(1)-sum(dims(1)>dims(2:end));\n",
    "                signaldim = int(dims[0] - np.sum([dims[d] for d in range(1, len(dims)) if dims[0] > dims[d]]))\n",
    "                #X = mat2tens(X,sx,signaldim);\n",
    "                X = np.resize(X, [sx[signaldim-1]]) \n",
    "        #else:\n",
    "        #    X = X @ C\n",
    "        #    signaldim = 1\n",
    "\n",
>>>>>>> 9e05b8ca9c4193a146432f004ec72b96a205d2c4
    "    elif H_str in {'incomplete','sparse','tt','btd','lmlragen'}:\n",
    "        T = ful(H)\n",
    "        X = dehankelize(T,**kwargs)\n",
    "    else:\n",
    "        raise ValueError('Structure not supported!')\n",
    "    \n",
    "    # Permute the data to specific dimensions\n",
    "    if not np.isnan(permToDim):\n",
    "        permToDim = int(permToDim)\n",
    "        signaldim = int(signaldim)\n",
    "        if signaldim < permToDim:\n",
    "            permvec = list(range(0, signaldim)) + list(range(signaldim+1, permToDim)) + [signaldim] + list(range(permToDim+1, np.ndim(X)))\n",
    "        else:\n",
    "            permvec = list(range(0, permToDim)) + [signaldim] + list(range(permToDim, signaldim)) + list(range(signaldim+1, np.ndim(X)))\n",
    "        if X.ndim==1:\n",
    "            X.resize ((X.shape[0], 1))\n",
    "        X = np.squeeze(np.transpose(X, permvec))\n",
    "    return X\n"
   ]
  },
  {
   "cell_type": "code",
<<<<<<< HEAD
=======
   "execution_count": 401,
   "id": "9b379a57",
   "metadata": {},
   "outputs": [
    {
     "data": {
      "text/plain": [
       "(2, 51, 4)"
      ]
     },
     "execution_count": 401,
     "metadata": {},
     "output_type": "execute_result"
    }
   ],
   "source": [
    "H = t1[0]\n",
    "H.shape\n",
    "#if any(cellfun('size', H, 2) ~= size(H{1},2))\n",
    "#        raise ValueError('For a CPD size(H{n},2) should be R for all n')"
   ]
  },
  {
   "cell_type": "code",
   "execution_count": 398,
   "id": "837ec09a",
   "metadata": {},
   "outputs": [
    {
     "data": {
      "text/plain": [
       "(51, 4)"
      ]
     },
     "execution_count": 398,
     "metadata": {},
     "output_type": "execute_result"
    }
   ],
   "source": [
    "H[0, :].shape"
   ]
  },
  {
   "cell_type": "code",
   "execution_count": 399,
   "id": "bc78842b",
   "metadata": {},
   "outputs": [
    {
     "name": "stdout",
     "output_type": "stream",
     "text": [
      "(101, 4)\n",
      "(101, 4)\n"
     ]
    },
    {
     "data": {
      "text/plain": [
       "(101, 4)"
      ]
     },
     "execution_count": 399,
     "metadata": {},
     "output_type": "execute_result"
    }
   ],
   "source": [
    "F = np.fft.fft(H[0, :], N, axis=0)\n",
    "print(F.shape)\n",
    "for i in range (1, H.shape[0]):\n",
    "    print(Fi.shape)\n",
    "    F = np.multiply(F, np.fft.fft(H[i, :], N, axis=0))\n",
    "X = np.fft.ifft(F, axis=0)\n",
    "X = X / w\n",
    "X.shape"
   ]
  },
  {
   "cell_type": "code",
   "execution_count": null,
   "id": "2d4ef2df",
   "metadata": {},
   "outputs": [],
   "source": [
    "\n",
    "X = np.fft.ifft(F, axis=1)\n",
    "print(X.shape)\n",
    "w = hankel_freq(order, size_hankel, N)\n",
    "X = X[:,np.newaxis] / w\n",
    "\n",
    "X.shape"
   ]
  },
  {
   "cell_type": "code",
   "execution_count": 280,
   "id": "1c16dcfd",
   "metadata": {},
   "outputs": [
    {
     "name": "stdout",
     "output_type": "stream",
     "text": [
      "(101, 1)\n"
     ]
    }
   ],
   "source": [
    "print(w.shape)"
   ]
  },
  {
   "cell_type": "code",
   "execution_count": 81,
   "id": "ccebb23c",
   "metadata": {},
   "outputs": [],
   "source": [
    "if H[0].shape[1] != H[1].shape[1]:\n",
    "            raise ValueError('For a CPD size(H{n},2) should be R for all n')"
   ]
  },
  {
   "cell_type": "code",
   "execution_count": 232,
   "id": "8d4173f5",
   "metadata": {},
   "outputs": [
    {
     "name": "stdout",
     "output_type": "stream",
     "text": [
      "input shape:  (5, 1)\n",
      "Order:  2\n",
      "ind:  [3]\n",
      "N:  5\n",
      "Dim:  1\n",
      "Order:  2\n",
      "ind:  [3]\n",
      "sizes:  nan\n",
      "perm_to_first:  1\n",
      "size_other:  ()\n",
      "size_hankel:  [3 3]\n",
      "Total required Bytes are:  36.0\n",
      "hstruct {'type': 'hankel', 'val': array([[1],\n",
      "       [2],\n",
      "       [3],\n",
      "       [4],\n",
      "       [5]]), 'dim': 1, 'order': 2, 'ind': array([3], dtype=int64), 'ispermuted': False, 'repermorder': array([1, 2]), 'size': array([3., 1.]), 'subsize': {'hankel': array([3, 3], dtype=int64), 'other': ()}}\n"
     ]
    },
    {
     "data": {
      "text/plain": [
       "array([[1, 2, 3],\n",
       "       [2, 3, 4],\n",
       "       [3, 4, 5]])"
      ]
     },
     "execution_count": 232,
     "metadata": {},
     "output_type": "execute_result"
    }
   ],
   "source": [
    "v = [1, 2, 3, 4, 5]\n",
    "V = hankelize(v);\n",
    "V"
   ]
  },
  {
   "cell_type": "code",
   "execution_count": 233,
   "id": "737d4555",
   "metadata": {},
   "outputs": [
    {
     "name": "stdout",
     "output_type": "stream",
     "text": [
      "subs :  [Ellipsis 0]\n",
      "tmp:  [1 2 3]\n",
      "perm_vec:  [0, 1]\n",
      "sizes after resize:  [3 1]\n",
      "tmp:  [[1]\n",
      " [2]\n",
      " [3]]\n",
      "tmp:  [1 2 3]\n",
      "X:  [array([1, 2, 3])]\n",
      "subs :  [array(2) array([1, 2])]\n",
      "tmp:  [4 5]\n",
      "perm_vec:  [1, 0]\n",
      "sizes after resize:  [1, 2]\n",
      "tmp:  [[4 5]]\n",
      "tmp:  [4 5]\n",
      "X:  [array([1, 2, 3]), array([4, 5])]\n",
      "signaldim:  1\n"
     ]
    },
    {
     "data": {
      "text/plain": [
       "array([1, 2, 3, 4, 5])"
      ]
     },
     "execution_count": 233,
     "metadata": {},
     "output_type": "execute_result"
    }
   ],
   "source": [
    "v = dehankelize(V)\n",
    "v"
   ]
  },
  {
   "cell_type": "code",
   "execution_count": 234,
   "id": "2398b1fc",
   "metadata": {
    "scrolled": true
   },
   "outputs": [
    {
     "name": "stdout",
     "output_type": "stream",
     "text": [
      "input shape:  (5, 1)\n",
      "Order:  2\n",
      "ind:  [3]\n",
      "N:  5\n",
      "Dim:  1\n",
      "Order:  2\n",
      "ind:  [3]\n",
      "sizes:  nan\n",
      "perm_to_first:  1\n",
      "size_other:  ()\n",
      "size_hankel:  [3 3]\n",
      "Total required Bytes are:  36.0\n",
      "hstruct {'type': 'hankel', 'val': array([[1],\n",
      "       [2],\n",
      "       [3],\n",
      "       [4],\n",
      "       [5]]), 'dim': 1, 'order': 2, 'ind': array([3], dtype=int64), 'ispermuted': False, 'repermorder': array([1, 2]), 'size': array([3., 1.]), 'subsize': {'hankel': array([3, 3], dtype=int64), 'other': ()}}\n"
     ]
    },
    {
     "data": {
      "text/plain": [
       "array([[1, 2, 3],\n",
       "       [2, 3, 4],\n",
       "       [3, 4, 5]])"
      ]
     },
     "execution_count": 234,
     "metadata": {},
     "output_type": "execute_result"
    }
   ],
   "source": [
    "v = np.array([1,2,3,4,5])\n",
    "V = hankelize(v)\n",
    "V"
   ]
  },
  {
   "cell_type": "code",
   "execution_count": 11,
   "id": "3e3f67ea",
   "metadata": {},
   "outputs": [
    {
     "data": {
      "text/plain": [
       "2"
      ]
     },
     "execution_count": 11,
     "metadata": {},
     "output_type": "execute_result"
    }
   ],
   "source": [
    "getorder(V)"
   ]
  },
  {
   "cell_type": "code",
   "execution_count": 50,
   "id": "7d81a8f2",
   "metadata": {},
   "outputs": [
    {
     "data": {
      "text/plain": [
       "'full'"
      ]
     },
     "execution_count": 50,
     "metadata": {},
     "output_type": "execute_result"
    }
   ],
   "source": [
    "getstructure(V)"
   ]
  },
  {
   "cell_type": "code",
   "execution_count": 235,
   "id": "cef685aa",
   "metadata": {},
   "outputs": [
    {
     "name": "stdout",
     "output_type": "stream",
     "text": [
      "subs :  [Ellipsis 0]\n",
      "tmp:  [1 2 3]\n",
      "perm_vec:  [0, 1]\n",
      "sizes after resize:  [3 1]\n",
      "tmp:  [[1]\n",
      " [2]\n",
      " [3]]\n",
      "tmp:  [1 2 3]\n",
      "X:  [array([1, 2, 3])]\n",
      "subs :  [array(2) array([1, 2])]\n",
      "tmp:  [4 5]\n",
      "perm_vec:  [1, 0]\n",
      "sizes after resize:  [1, 2]\n",
      "tmp:  [[4 5]]\n",
      "tmp:  [4 5]\n",
      "X:  [array([1, 2, 3]), array([4, 5])]\n",
      "signaldim:  1\n"
     ]
    },
    {
     "data": {
      "text/plain": [
       "array([1, 2, 3, 4, 5])"
      ]
     },
     "execution_count": 235,
     "metadata": {},
     "output_type": "execute_result"
    }
   ],
   "source": [
    "v = dehankelize(V)\n",
    "v"
   ]
  },
  {
   "cell_type": "code",
   "execution_count": 236,
   "id": "5752dbb5",
   "metadata": {},
   "outputs": [
    {
     "name": "stdout",
     "output_type": "stream",
     "text": [
      "input shape:  (7, 1)\n",
      "Order:  2\n",
      "ind:  [4]\n",
      "N:  7\n",
      "Dim:  1\n",
      "Order:  2\n",
      "ind:  [4]\n",
      "sizes:  nan\n",
      "perm_to_first:  1\n",
      "size_other:  ()\n",
      "size_hankel:  [4 4]\n",
      "Total required Bytes are:  64.0\n",
      "hstruct {'type': 'hankel', 'val': array([[1],\n",
      "       [2],\n",
      "       [3],\n",
      "       [4],\n",
      "       [5],\n",
      "       [6],\n",
      "       [7]]), 'dim': 1, 'order': 2, 'ind': array([4], dtype=int64), 'ispermuted': False, 'repermorder': array([1, 2]), 'size': array([4., 1.]), 'subsize': {'hankel': array([4, 4], dtype=int64), 'other': ()}}\n"
     ]
    },
    {
     "data": {
      "text/plain": [
       "array([[1, 2, 3, 4],\n",
       "       [2, 3, 4, 5],\n",
       "       [3, 4, 5, 6],\n",
       "       [4, 5, 6, 7]])"
      ]
     },
     "execution_count": 236,
     "metadata": {},
     "output_type": "execute_result"
    }
   ],
   "source": [
    "v = [1, 2, 3, 4, 5, 6, 7]\n",
    "V = hankelize(v, order=3);\n",
    "V"
   ]
  },
  {
   "cell_type": "code",
   "execution_count": 237,
   "id": "d0ce5892",
   "metadata": {},
   "outputs": [
    {
     "name": "stdout",
     "output_type": "stream",
     "text": [
      "subs :  [Ellipsis 0]\n",
      "tmp:  [1 2 3 4]\n",
      "perm_vec:  [0, 1]\n",
      "sizes after resize:  [4 1]\n",
      "tmp:  [[1]\n",
      " [2]\n",
      " [3]\n",
      " [4]]\n",
      "tmp:  [1 2 3 4]\n",
      "X:  [array([1, 2, 3, 4])]\n",
      "subs :  [array(3) array([1, 2, 3])]\n",
      "tmp:  [5 6 7]\n",
      "perm_vec:  [1, 0]\n",
      "sizes after resize:  [1, 3]\n",
      "tmp:  [[5 6 7]]\n",
      "tmp:  [5 6 7]\n",
      "X:  [array([1, 2, 3, 4]), array([5, 6, 7])]\n",
      "signaldim:  1\n"
     ]
    },
    {
     "data": {
      "text/plain": [
       "array([1, 2, 3, 4, 5, 6, 7])"
      ]
     },
     "execution_count": 237,
     "metadata": {},
     "output_type": "execute_result"
    }
   ],
   "source": [
    "v = dehankelize(V)\n",
    "v"
   ]
  },
  {
   "cell_type": "code",
   "execution_count": 216,
   "id": "01799a6e",
   "metadata": {},
   "outputs": [
    {
     "name": "stdout",
     "output_type": "stream",
     "text": [
      "input shape:  (7, 1)\n",
      "Order:  4\n",
      "ind:  nan\n",
      "sizes:  [4, 3, 2]\n",
      "N:  7\n",
      "Dim:  1\n",
      "Order:  4\n",
      "ind:  [4 6 7]\n",
      "sizes:  [4, 3, 2]\n",
      "perm_to_first:  1\n",
      "size_other:  ()\n",
      "size_hankel:  [4 3 2 1]\n",
      "Total required Bytes are:  96.0\n",
      "hstruct {'type': 'hankel', 'val': array([[1],\n",
      "       [2],\n",
      "       [3],\n",
      "       [4],\n",
      "       [5],\n",
      "       [6],\n",
      "       [7]]), 'dim': 1, 'order': 4, 'ind': array([4, 6, 7]), 'ispermuted': False, 'repermorder': array([1, 2, 3, 4]), 'size': array([3., 2., 1., 1.]), 'subsize': {'hankel': array([4, 3, 2, 1]), 'other': ()}}\n"
     ]
    },
    {
     "data": {
      "text/plain": [
       "array([[[[1],\n",
       "         [2]],\n",
       "\n",
       "        [[2],\n",
       "         [3]],\n",
       "\n",
       "        [[3],\n",
       "         [4]]],\n",
       "\n",
       "\n",
       "       [[[2],\n",
       "         [3]],\n",
       "\n",
       "        [[3],\n",
       "         [4]],\n",
       "\n",
       "        [[4],\n",
       "         [5]]],\n",
       "\n",
       "\n",
       "       [[[3],\n",
       "         [4]],\n",
       "\n",
       "        [[4],\n",
       "         [5]],\n",
       "\n",
       "        [[5],\n",
       "         [6]]],\n",
       "\n",
       "\n",
       "       [[[4],\n",
       "         [5]],\n",
       "\n",
       "        [[5],\n",
       "         [6]],\n",
       "\n",
       "        [[6],\n",
       "         [7]]]])"
      ]
     },
     "execution_count": 216,
     "metadata": {},
     "output_type": "execute_result"
    }
   ],
   "source": [
    "v = np.array([1, 2, 3, 4, 5, 6, 7])\n",
    "V = hankelize(v, Sizes=[4, 3, 2])\n",
    "V"
   ]
  },
  {
   "cell_type": "code",
   "execution_count": 16,
   "id": "aca13ad1",
   "metadata": {},
   "outputs": [
    {
     "data": {
      "text/plain": [
       "(4, 3, 2, 1)"
      ]
     },
     "execution_count": 16,
     "metadata": {},
     "output_type": "execute_result"
    }
   ],
   "source": [
    "V.shape"
   ]
  },
  {
   "cell_type": "code",
   "execution_count": 17,
   "id": "6f97934b",
   "metadata": {},
   "outputs": [
    {
     "data": {
      "text/plain": [
       "24"
      ]
     },
     "execution_count": 17,
     "metadata": {},
     "output_type": "execute_result"
    }
   ],
   "source": [
    "V.size"
   ]
  },
  {
   "cell_type": "code",
   "execution_count": 18,
   "id": "3ef757d0",
   "metadata": {},
   "outputs": [
    {
     "data": {
      "text/plain": [
       "(4, 3, 2)"
      ]
     },
     "execution_count": 18,
     "metadata": {},
     "output_type": "execute_result"
    }
   ],
   "source": [
    "V = np.squeeze(V)\n",
    "V.shape"
   ]
  },
  {
   "cell_type": "code",
   "execution_count": 19,
   "id": "7d59fa25",
   "metadata": {
    "scrolled": true
   },
   "outputs": [
    {
     "data": {
      "text/plain": [
       "array([[1, 2, 3],\n",
       "       [2, 3, 4],\n",
       "       [3, 4, 5],\n",
       "       [4, 5, 6]])"
      ]
     },
     "execution_count": 19,
     "metadata": {},
     "output_type": "execute_result"
    }
   ],
   "source": [
    "V[:,:,0]= np.squeeze(V[:,:,0])\n",
    "V[:,:,0]"
   ]
  },
  {
   "cell_type": "code",
   "execution_count": 20,
   "id": "9c499a6b",
   "metadata": {
    "scrolled": true
   },
   "outputs": [
    {
     "data": {
      "text/plain": [
       "array([[2, 3, 4],\n",
       "       [3, 4, 5],\n",
       "       [4, 5, 6],\n",
       "       [5, 6, 7]])"
      ]
     },
     "execution_count": 20,
     "metadata": {},
     "output_type": "execute_result"
    }
   ],
   "source": [
    "V[:,:,1]= np.squeeze(V[:,:,1])\n",
    "V[:,:,1]"
   ]
  },
  {
   "cell_type": "code",
   "execution_count": 21,
   "id": "5aec00fd",
   "metadata": {},
   "outputs": [
    {
     "data": {
      "text/plain": [
       "array([1, 2, 2, 3, 3, 4, 2, 3, 3, 4, 4, 5, 3, 4, 4, 5, 5, 6, 4, 5, 5, 6,\n",
       "       6, 7])"
      ]
     },
     "execution_count": 21,
     "metadata": {},
     "output_type": "execute_result"
    }
   ],
   "source": [
    "import tensorly as tl\n",
    "\n",
    "v_recon = tl.tensor_to_vec( tl.unfold(V, 0))\n",
    "v_recon"
   ]
  },
  {
   "cell_type": "code",
   "execution_count": 217,
   "id": "bc066ce1",
   "metadata": {},
   "outputs": [
    {
     "name": "stdout",
     "output_type": "stream",
     "text": [
      "subs :  [Ellipsis 0 0 0]\n",
      "tmp:  [1 2 3 4]\n",
      "perm_vec:  [0, 1, 2, 3]\n",
      "sizes after resize:  [4 1]\n",
      "tmp:  [[1]\n",
      " [2]\n",
      " [3]\n",
      " [4]]\n",
      "tmp:  [1 2 3 4]\n",
      "X:  [array([1, 2, 3, 4])]\n",
      "subs :  [array(2, dtype=int64) array([1, 2], dtype=int64) 0 0]\n",
      "tmp:  [4 5]\n",
      "perm_vec:  [1, 0, 2, 3]\n",
      "sizes after resize:  [1 2]\n",
      "tmp:  [[4 5]]\n",
      "tmp:  [4 5]\n",
      "X:  [array([1, 2, 3, 4]), array([4, 5])]\n",
      "subs :  [array(2, dtype=int64) array(1, dtype=int64) array([1], dtype=int64) 0]\n",
      "tmp:  [5]\n",
      "perm_vec:  [2, 1, 0, 3]\n",
      "sizes after resize:  [1 1 1]\n",
      "tmp:  [[[5]]]\n",
      "tmp:  5\n",
      "X:  [array([1, 2, 3, 4]), array([4, 5]), array(5)]\n"
     ]
    },
    {
     "name": "stderr",
     "output_type": "stream",
     "text": [
      "C:\\Users\\DELLPR~1\\AppData\\Local\\Temp/ipykernel_7196/3069125198.py:26: ComplexWarning: Casting complex values to real discards the imaginary part\n",
      "  w = np.round(np.fft.ifft(w)).astype(int)\n"
     ]
    },
    {
     "ename": "ValueError",
     "evalue": "need at least one array to concatenate",
     "output_type": "error",
     "traceback": [
      "\u001b[1;31m---------------------------------------------------------------------------\u001b[0m",
      "\u001b[1;31mValueError\u001b[0m                                Traceback (most recent call last)",
      "\u001b[1;32mC:\\Users\\DELLPR~1\\AppData\\Local\\Temp/ipykernel_7196/345463844.py\u001b[0m in \u001b[0;36m<module>\u001b[1;34m\u001b[0m\n\u001b[1;32m----> 1\u001b[1;33m \u001b[0mv\u001b[0m \u001b[1;33m=\u001b[0m \u001b[0mdehankelize\u001b[0m\u001b[1;33m(\u001b[0m\u001b[0mV\u001b[0m\u001b[1;33m)\u001b[0m\u001b[1;33m\u001b[0m\u001b[1;33m\u001b[0m\u001b[0m\n\u001b[0m\u001b[0;32m      2\u001b[0m \u001b[0mv\u001b[0m\u001b[1;33m\u001b[0m\u001b[1;33m\u001b[0m\u001b[0m\n",
      "\u001b[1;32mC:\\Users\\DELLPR~1\\AppData\\Local\\Temp/ipykernel_7196/3069125198.py\u001b[0m in \u001b[0;36mdehankelize\u001b[1;34m(H, **kwargs)\u001b[0m\n\u001b[0;32m    205\u001b[0m                 \u001b[0moptions_quick\u001b[0m\u001b[1;33m[\u001b[0m\u001b[1;34m'PermToDim'\u001b[0m\u001b[1;33m]\u001b[0m \u001b[1;33m=\u001b[0m \u001b[1;36m1\u001b[0m\u001b[1;33m\u001b[0m\u001b[1;33m\u001b[0m\u001b[0m\n\u001b[0;32m    206\u001b[0m                 \u001b[0moptions_quick\u001b[0m\u001b[1;33m[\u001b[0m\u001b[1;34m'Method'\u001b[0m\u001b[1;33m]\u001b[0m \u001b[1;33m=\u001b[0m \u001b[1;34m'fibers'\u001b[0m\u001b[1;33m\u001b[0m\u001b[1;33m\u001b[0m\u001b[0m\n\u001b[1;32m--> 207\u001b[1;33m                 \u001b[0mx_estimate\u001b[0m \u001b[1;33m=\u001b[0m \u001b[0mdehankelize\u001b[0m\u001b[1;33m(\u001b[0m\u001b[0mH\u001b[0m\u001b[1;33m,\u001b[0m \u001b[1;33m**\u001b[0m\u001b[0moptions_quick\u001b[0m\u001b[1;33m)\u001b[0m\u001b[1;33m\u001b[0m\u001b[1;33m\u001b[0m\u001b[0m\n\u001b[0m\u001b[0;32m    208\u001b[0m \u001b[1;33m\u001b[0m\u001b[0m\n\u001b[0;32m    209\u001b[0m                 \u001b[1;31m# The following second step computes the frequenct and compute the means to subtract\u001b[0m\u001b[1;33m\u001b[0m\u001b[1;33m\u001b[0m\u001b[0m\n",
      "\u001b[1;32mC:\\Users\\DELLPR~1\\AppData\\Local\\Temp/ipykernel_7196/3069125198.py\u001b[0m in \u001b[0;36mdehankelize\u001b[1;34m(H, **kwargs)\u001b[0m\n\u001b[0;32m    110\u001b[0m                 \u001b[1;32mif\u001b[0m \u001b[0mi\u001b[0m \u001b[1;33m!=\u001b[0m \u001b[1;36m0\u001b[0m\u001b[1;33m:\u001b[0m\u001b[1;33m\u001b[0m\u001b[1;33m\u001b[0m\u001b[0m\n\u001b[0;32m    111\u001b[0m                     \u001b[0msubs\u001b[0m\u001b[1;33m[\u001b[0m\u001b[0mdims\u001b[0m\u001b[1;33m[\u001b[0m\u001b[0mi\u001b[0m\u001b[1;33m-\u001b[0m\u001b[1;36m1\u001b[0m\u001b[1;33m]\u001b[0m\u001b[1;33m-\u001b[0m\u001b[1;36m1\u001b[0m\u001b[1;33m]\u001b[0m \u001b[1;33m=\u001b[0m \u001b[0mnp\u001b[0m\u001b[1;33m.\u001b[0m\u001b[0msqueeze\u001b[0m\u001b[1;33m(\u001b[0m\u001b[0mnp\u001b[0m\u001b[1;33m.\u001b[0m\u001b[0marray\u001b[0m\u001b[1;33m(\u001b[0m\u001b[0msh\u001b[0m\u001b[1;33m[\u001b[0m\u001b[0mdims\u001b[0m\u001b[1;33m[\u001b[0m\u001b[0mi\u001b[0m\u001b[1;33m-\u001b[0m\u001b[1;36m1\u001b[0m\u001b[1;33m]\u001b[0m\u001b[1;33m]\u001b[0m\u001b[1;33m-\u001b[0m\u001b[1;36m1\u001b[0m\u001b[1;33m)\u001b[0m\u001b[1;33m)\u001b[0m\u001b[1;33m\u001b[0m\u001b[1;33m\u001b[0m\u001b[0m\n\u001b[1;32m--> 112\u001b[1;33m                     \u001b[0msubs\u001b[0m\u001b[1;33m[\u001b[0m\u001b[0mdims\u001b[0m\u001b[1;33m[\u001b[0m\u001b[0mi\u001b[0m\u001b[1;33m]\u001b[0m\u001b[1;33m-\u001b[0m\u001b[1;36m1\u001b[0m\u001b[1;33m]\u001b[0m \u001b[1;33m=\u001b[0m\u001b[0mnp\u001b[0m\u001b[1;33m.\u001b[0m\u001b[0mhstack\u001b[0m\u001b[1;33m(\u001b[0m\u001b[0mrange\u001b[0m\u001b[1;33m(\u001b[0m\u001b[1;36m1\u001b[0m\u001b[1;33m,\u001b[0m \u001b[0msh\u001b[0m\u001b[1;33m[\u001b[0m\u001b[0mdims\u001b[0m\u001b[1;33m[\u001b[0m\u001b[0mi\u001b[0m\u001b[1;33m]\u001b[0m\u001b[1;33m-\u001b[0m\u001b[1;36m1\u001b[0m\u001b[1;33m]\u001b[0m\u001b[1;33m)\u001b[0m\u001b[1;33m)\u001b[0m\u001b[1;33m\u001b[0m\u001b[1;33m\u001b[0m\u001b[0m\n\u001b[0m\u001b[0;32m    113\u001b[0m                     \u001b[1;32mif\u001b[0m \u001b[0mlen\u001b[0m\u001b[1;33m(\u001b[0m\u001b[0msh\u001b[0m\u001b[1;33m)\u001b[0m \u001b[1;33m>\u001b[0m \u001b[1;36m2\u001b[0m\u001b[1;33m:\u001b[0m\u001b[1;33m\u001b[0m\u001b[1;33m\u001b[0m\u001b[0m\n\u001b[0;32m    114\u001b[0m                         \u001b[0mk\u001b[0m \u001b[1;33m=\u001b[0m \u001b[1;36m0\u001b[0m\u001b[1;33m\u001b[0m\u001b[1;33m\u001b[0m\u001b[0m\n",
      "\u001b[1;32mC:\\ProgramData\\Anaconda3\\lib\\site-packages\\numpy\\core\\overrides.py\u001b[0m in \u001b[0;36mhstack\u001b[1;34m(*args, **kwargs)\u001b[0m\n",
      "\u001b[1;32mC:\\ProgramData\\Anaconda3\\lib\\site-packages\\numpy\\core\\shape_base.py\u001b[0m in \u001b[0;36mhstack\u001b[1;34m(tup)\u001b[0m\n\u001b[0;32m    343\u001b[0m         \u001b[1;32mreturn\u001b[0m \u001b[0m_nx\u001b[0m\u001b[1;33m.\u001b[0m\u001b[0mconcatenate\u001b[0m\u001b[1;33m(\u001b[0m\u001b[0marrs\u001b[0m\u001b[1;33m,\u001b[0m \u001b[1;36m0\u001b[0m\u001b[1;33m)\u001b[0m\u001b[1;33m\u001b[0m\u001b[1;33m\u001b[0m\u001b[0m\n\u001b[0;32m    344\u001b[0m     \u001b[1;32melse\u001b[0m\u001b[1;33m:\u001b[0m\u001b[1;33m\u001b[0m\u001b[1;33m\u001b[0m\u001b[0m\n\u001b[1;32m--> 345\u001b[1;33m         \u001b[1;32mreturn\u001b[0m \u001b[0m_nx\u001b[0m\u001b[1;33m.\u001b[0m\u001b[0mconcatenate\u001b[0m\u001b[1;33m(\u001b[0m\u001b[0marrs\u001b[0m\u001b[1;33m,\u001b[0m \u001b[1;36m1\u001b[0m\u001b[1;33m)\u001b[0m\u001b[1;33m\u001b[0m\u001b[1;33m\u001b[0m\u001b[0m\n\u001b[0m\u001b[0;32m    346\u001b[0m \u001b[1;33m\u001b[0m\u001b[0m\n\u001b[0;32m    347\u001b[0m \u001b[1;33m\u001b[0m\u001b[0m\n",
      "\u001b[1;32mC:\\ProgramData\\Anaconda3\\lib\\site-packages\\numpy\\core\\overrides.py\u001b[0m in \u001b[0;36mconcatenate\u001b[1;34m(*args, **kwargs)\u001b[0m\n",
      "\u001b[1;31mValueError\u001b[0m: need at least one array to concatenate"
     ]
    }
   ],
   "source": [
    "v = dehankelize(V)\n",
    "v"
   ]
  },
  {
   "cell_type": "code",
   "execution_count": 23,
   "id": "acf15cd9",
   "metadata": {},
   "outputs": [
    {
     "name": "stdout",
     "output_type": "stream",
     "text": [
      "input shape:  (7, 1)\n",
      "N:  7\n",
      "Dim:  1\n",
      "Order:  3\n",
      "ind:  [3 5]\n",
      "sizes:  nan\n",
      "perm_to_first:  1\n",
      "size_other:  ()\n",
      "size_hankel:  [3 3 3]\n",
      "Total required Bytes are:  108.0\n",
      "hstruct {'type': 'hankel', 'val': array([[1],\n",
      "       [2],\n",
      "       [3],\n",
      "       [4],\n",
      "       [5],\n",
      "       [6],\n",
      "       [7]]), 'dim': 1, 'order': 3, 'ind': array([3, 5], dtype=int64), 'ispermuted': False, 'repermorder': array([1, 2, 3]), 'size': array([3., 3., 1.]), 'subsize': {'hankel': array([3, 3, 3], dtype=int64), 'other': ()}}\n"
     ]
    },
    {
     "data": {
      "text/plain": [
       "array([[[1, 2, 3],\n",
       "        [2, 3, 4],\n",
       "        [3, 4, 5]],\n",
       "\n",
       "       [[2, 3, 4],\n",
       "        [3, 4, 5],\n",
       "        [4, 5, 6]],\n",
       "\n",
       "       [[3, 4, 5],\n",
       "        [4, 5, 6],\n",
       "        [5, 6, 7]]])"
      ]
     },
     "execution_count": 23,
     "metadata": {},
     "output_type": "execute_result"
    }
   ],
   "source": [
    "v = np.array([1, 2, 3, 4, 5, 6, 7])\n",
    "H = hankelize(v, Order=3)\n",
    "H"
   ]
  },
  {
   "cell_type": "code",
   "execution_count": 24,
   "id": "6f247fae",
   "metadata": {},
   "outputs": [
    {
     "name": "stdout",
     "output_type": "stream",
     "text": [
      "subs :  [Ellipsis 0 0]\n",
      "tmp:  [1 2 3]\n",
      "perm_vec:  [0, 1, 2]\n",
      "sizes after resize:  [3 1]\n",
      "tmp:  [[1]\n",
      " [2]\n",
      " [3]]\n",
      "tmp:  [1 2 3]\n",
      "X:  [array([1, 2, 3])]\n",
      "subs :  [array(2, dtype=int64) array([1, 2], dtype=int64) 0]\n",
      "tmp:  [4 5]\n",
      "perm_vec:  [1, 0, 2]\n",
      "sizes after resize:  [1 2]\n",
      "tmp:  [[4 5]]\n",
      "tmp:  [4 5]\n",
      "X:  [array([1, 2, 3]), array([4, 5])]\n",
      "subs :  [array(2, dtype=int64) array(2, dtype=int64) array([1, 2], dtype=int64)]\n",
      "tmp:  [6 7]\n",
      "perm_vec:  [2, 1, 0]\n",
      "sizes after resize:  [1, 1, 2]\n",
      "tmp:  [[[6 7]]]\n",
      "tmp:  [6 7]\n",
      "X:  [array([1, 2, 3]), array([4, 5]), array([6, 7])]\n",
      "signaldim:  1\n"
     ]
    },
    {
     "name": "stderr",
     "output_type": "stream",
     "text": [
      "C:\\Users\\DELLPR~1\\AppData\\Local\\Temp/ipykernel_7196/3696464088.py:24: ComplexWarning: Casting complex values to real discards the imaginary part\n",
      "  w = np.round(np.fft.ifft(w)).astype(int)\n"
     ]
    },
    {
     "data": {
      "text/plain": [
       "array([1, 2, 3, 4, 5, 6, 7])"
      ]
     },
     "execution_count": 24,
     "metadata": {},
     "output_type": "execute_result"
    }
   ],
   "source": [
    "v = dehankelize(H)\n",
    "v"
   ]
  },
  {
   "cell_type": "code",
>>>>>>> 9e05b8ca9c4193a146432f004ec72b96a205d2c4
   "execution_count": 25,
   "id": "62fd568f",
   "metadata": {},
   "outputs": [
    {
     "name": "stdout",
     "output_type": "stream",
     "text": [
      "input shape:  (7, 1)\n",
      "Order:  2\n",
      "ind:  [4]\n",
      "N:  7\n",
      "Dim:  1\n",
      "Order:  2\n",
      "ind:  [4]\n",
      "sizes:  nan\n",
      "perm_to_first:  1\n",
      "size_other:  ()\n",
      "size_hankel:  [4 4]\n",
      "Total required Bytes are:  64.0\n",
      "hstruct {'type': 'hankel', 'val': array([[1],\n",
      "       [2],\n",
      "       [3],\n",
      "       [4],\n",
      "       [5],\n",
      "       [6],\n",
      "       [7]]), 'dim': 1, 'order': 2, 'ind': array([4], dtype=int64), 'ispermuted': False, 'repermorder': array([1, 2]), 'size': array([4., 1.]), 'subsize': {'hankel': array([4, 4], dtype=int64), 'other': ()}}\n"
     ]
    },
    {
     "data": {
      "text/plain": [
       "array([[1, 2, 3, 4],\n",
       "       [2, 3, 4, 5],\n",
       "       [3, 4, 5, 6],\n",
       "       [4, 5, 6, 7]])"
      ]
     },
     "execution_count": 25,
     "metadata": {},
     "output_type": "execute_result"
    }
   ],
   "source": [
    "v = np.array([1,2,3,4,5, 6, 7])\n",
    "H1 = hankelize(v)\n",
    "H1"
   ]
  },
  {
   "cell_type": "code",
   "execution_count": 26,
   "id": "660ecb18",
   "metadata": {},
   "outputs": [
    {
     "data": {
      "text/plain": [
       "array([[1, 2, 3, 4],\n",
       "       [2, 3, 4, 5],\n",
       "       [3, 4, 5, 6],\n",
       "       [4, 5, 6, 7]])"
      ]
     },
     "execution_count": 26,
     "metadata": {},
     "output_type": "execute_result"
    }
   ],
   "source": [
    "T = ful(H1)\n",
    "T"
   ]
  },
  {
   "cell_type": "code",
   "execution_count": 27,
   "id": "58e8f2c9",
   "metadata": {
    "scrolled": false
   },
   "outputs": [
    {
     "name": "stdout",
     "output_type": "stream",
     "text": [
      "subs :  [Ellipsis 0]\n",
      "tmp:  [1 2 3 4]\n",
      "perm_vec:  [0, 1]\n",
      "sizes after resize:  [4 1]\n",
      "tmp:  [[1]\n",
      " [2]\n",
      " [3]\n",
      " [4]]\n",
      "tmp:  [1 2 3 4]\n",
<<<<<<< HEAD
=======
      "X:  [array([1, 2, 3, 4])]\n",
>>>>>>> 9e05b8ca9c4193a146432f004ec72b96a205d2c4
      "subs :  [array(3) array([1, 2, 3])]\n",
      "tmp:  [5 6 7]\n",
      "perm_vec:  [1, 0]\n",
      "sizes after resize:  [1, 3]\n",
      "tmp:  [[5 6 7]]\n",
<<<<<<< HEAD
      "tmp:  [5 6 7]\n"
=======
      "tmp:  [5 6 7]\n",
      "X:  [array([1, 2, 3, 4]), array([5, 6, 7])]\n",
      "signaldim:  1\n"
>>>>>>> 9e05b8ca9c4193a146432f004ec72b96a205d2c4
     ]
    },
    {
     "data": {
      "text/plain": [
       "array([1, 2, 3, 4, 5, 6, 7])"
      ]
     },
     "execution_count": 27,
     "metadata": {},
     "output_type": "execute_result"
    }
   ],
   "source": [
    "v = dehankelize(H1)\n",
    "v"
   ]
  },
  {
   "cell_type": "markdown",
   "id": "7af69471",
   "metadata": {},
   "source": [
    "##### BSS Example"
   ]
  },
  {
   "cell_type": "code",
<<<<<<< HEAD
   "execution_count": 28,
=======
   "execution_count": 402,
>>>>>>> 9e05b8ca9c4193a146432f004ec72b96a205d2c4
   "id": "86048eb0",
   "metadata": {},
   "outputs": [
    {
     "name": "stdout",
     "output_type": "stream",
     "text": [
<<<<<<< HEAD
      "input shape:  (100, 3)\n",
      "Order:  2\n",
      "ind:  [50]\n",
      "N:  100\n",
      "Dim:  1\n",
      "Order:  2\n",
      "ind:  [50]\n",
      "sizes:  nan\n",
      "perm_to_first:  1\n",
      "size_other:  (3,)\n",
      "size_hankel:  [50 51]\n",
      "Total required Bytes are:  61200.0\n",
      "hstruct {'type': 'hankel', 'val': array([[-4.20090491e+00, -5.47179925e-02, -5.47608585e-01],\n",
      "       [-4.30849302e+00, -5.93010464e-02, -5.69263810e-01],\n",
      "       [-4.41915161e+00, -6.39209792e-02, -5.91467127e-01],\n",
      "       [-4.53297230e+00, -6.85751428e-02, -6.14230790e-01],\n",
      "       [-4.65004952e+00, -7.32607134e-02, -6.37567317e-01],\n",
      "       [-4.77048054e+00, -7.79746843e-02, -6.61489490e-01],\n",
      "       [-4.89436560e+00, -8.27138583e-02, -6.86010364e-01],\n",
      "       [-5.02180798e+00, -8.74748389e-02, -7.11143270e-01],\n",
      "       [-5.15291410e+00, -9.22540229e-02, -7.36901824e-01],\n",
      "       [-5.28779363e+00, -9.70475910e-02, -7.63299929e-01],\n",
      "       [-5.42655954e+00, -1.01851499e-01, -7.90351785e-01],\n",
      "       [-5.56932825e+00, -1.06661470e-01, -8.18071891e-01],\n",
      "       [-5.71621974e+00, -1.11472981e-01, -8.46475056e-01],\n",
      "       [-5.86735762e+00, -1.16281257e-01, -8.75576400e-01],\n",
      "       [-6.02286925e+00, -1.21081260e-01, -9.05391365e-01],\n",
      "       [-6.18288588e+00, -1.25867674e-01, -9.35935720e-01],\n",
      "       [-6.34754276e+00, -1.30634901e-01, -9.67225566e-01],\n",
      "       [-6.51697924e+00, -1.35377044e-01, -9.99277348e-01],\n",
      "       [-6.69133893e+00, -1.40087897e-01, -1.03210785e+00],\n",
      "       [-6.87076980e+00, -1.44760932e-01, -1.06573423e+00],\n",
      "       [-7.05542431e+00, -1.49389288e-01, -1.10017399e+00],\n",
      "       [-7.24545960e+00, -1.53965755e-01, -1.13544500e+00],\n",
      "       [-7.44103757e+00, -1.58482765e-01, -1.17156552e+00],\n",
      "       [-7.64232506e+00, -1.62932372e-01, -1.20855420e+00],\n",
      "       [-7.84949399e+00, -1.67306240e-01, -1.24643006e+00],\n",
      "       [-8.06272153e+00, -1.71595630e-01, -1.28521254e+00],\n",
      "       [-8.28219023e+00, -1.75791381e-01, -1.32492149e+00],\n",
      "       [-8.50808822e+00, -1.79883895e-01, -1.36557716e+00],\n",
      "       [-8.74060936e+00, -1.83863120e-01, -1.40720025e+00],\n",
      "       [-8.97995342e+00, -1.87718535e-01, -1.44981188e+00],\n",
      "       [-9.22632626e+00, -1.91439126e-01, -1.49343362e+00],\n",
      "       [-9.47994003e+00, -1.95013374e-01, -1.53808750e+00],\n",
      "       [-9.74101334e+00, -1.98429232e-01, -1.58379600e+00],\n",
      "       [-1.00097715e+01, -2.01674105e-01, -1.63058208e+00],\n",
      "       [-1.02864466e+01, -2.04734830e-01, -1.67846918e+00],\n",
      "       [-1.05712779e+01, -2.07597658e-01, -1.72748125e+00],\n",
      "       [-1.08645120e+01, -2.10248224e-01, -1.77764272e+00],\n",
      "       [-1.11664028e+01, -2.12671533e-01, -1.82897853e+00],\n",
      "       [-1.14772123e+01, -2.14851928e-01, -1.88151416e+00],\n",
      "       [-1.17972103e+01, -2.16773073e-01, -1.93527563e+00],\n",
      "       [-1.21266747e+01, -2.18417922e-01, -1.99028949e+00],\n",
      "       [-1.24658922e+01, -2.19768697e-01, -2.04658284e+00],\n",
      "       [-1.28151580e+01, -2.20806857e-01, -2.10418337e+00],\n",
      "       [-1.31747764e+01, -2.21513073e-01, -2.16311934e+00],\n",
      "       [-1.35450611e+01, -2.21867198e-01, -2.22341961e+00],\n",
      "       [-1.39263351e+01, -2.21848237e-01, -2.28511362e+00],\n",
      "       [-1.43189317e+01, -2.21434315e-01, -2.34823145e+00],\n",
      "       [-1.47231939e+01, -2.20602646e-01, -2.41280380e+00],\n",
      "       [-1.51394755e+01, -2.19329501e-01, -2.47886202e+00],\n",
      "       [-1.55681411e+01, -2.17590172e-01, -2.54643811e+00],\n",
      "       [-1.60095663e+01, -2.15358935e-01, -2.61556474e+00],\n",
      "       [-1.64641383e+01, -2.12609018e-01, -2.68627527e+00],\n",
      "       [-1.69322561e+01, -2.09312558e-01, -2.75860373e+00],\n",
      "       [-1.74143307e+01, -2.05440567e-01, -2.83258490e+00],\n",
      "       [-1.79107861e+01, -2.00962887e-01, -2.90825426e+00],\n",
      "       [-1.84220589e+01, -1.95848149e-01, -2.98564804e+00],\n",
      "       [-1.89485992e+01, -1.90063733e-01, -3.06480323e+00],\n",
      "       [-1.94908708e+01, -1.83575720e-01, -3.14575758e+00],\n",
      "       [-2.00493518e+01, -1.76348844e-01, -3.22854963e+00],\n",
      "       [-2.06245347e+01, -1.68346452e-01, -3.31321874e+00],\n",
      "       [-2.12169273e+01, -1.59530444e-01, -3.39980508e+00],\n",
      "       [-2.18270529e+01, -1.49861232e-01, -3.48834964e+00],\n",
      "       [-2.24554506e+01, -1.39297679e-01, -3.57889430e+00],\n",
      "       [-2.31026763e+01, -1.27797050e-01, -3.67148179e+00],\n",
      "       [-2.37693027e+01, -1.15314954e-01, -3.76615572e+00],\n",
      "       [-2.44559200e+01, -1.01805284e-01, -3.86296064e+00],\n",
      "       [-2.51631367e+01, -8.72201603e-02, -3.96194200e+00],\n",
      "       [-2.58915797e+01, -7.15098641e-02, -4.06314621e+00],\n",
      "       [-2.66418951e+01, -5.46227767e-02, -4.16662063e+00],\n",
      "       [-2.74147489e+01, -3.65053119e-02, -4.27241363e+00],\n",
      "       [-2.82108275e+01, -1.71018469e-02, -4.38057457e+00],\n",
      "       [-2.90308381e+01,  3.64534779e-03, -4.49115384e+00],\n",
      "       [-2.98755097e+01,  2.57961822e-02, -4.60420287e+00],\n",
      "       [-3.07455938e+01,  4.94128221e-02, -4.71977417e+00],\n",
      "       [-3.16418645e+01,  7.45597675e-02, -4.83792134e+00],\n",
      "       [-3.25651199e+01,  1.01303933e-01, -4.95869909e+00],\n",
      "       [-3.35161826e+01,  1.29714733e-01, -5.08216326e+00],\n",
      "       [-3.44959001e+01,  1.59864163e-01, -5.20837086e+00],\n",
      "       [-3.55051461e+01,  1.91826897e-01, -5.33738009e+00],\n",
      "       [-3.65448210e+01,  2.25680369e-01, -5.46925033e+00],\n",
      "       [-3.76158528e+01,  2.61504878e-01, -5.60404222e+00],\n",
      "       [-3.87191978e+01,  2.99383679e-01, -5.74181765e+00],\n",
      "       [-3.98558417e+01,  3.39403089e-01, -5.88263978e+00],\n",
      "       [-4.10268005e+01,  3.81652587e-01, -6.02657311e+00],\n",
      "       [-4.22331212e+01,  4.26224928e-01, -6.17368344e+00],\n",
      "       [-4.34758829e+01,  4.73216249e-01, -6.32403796e+00],\n",
      "       [-4.47561977e+01,  5.22726188e-01, -6.47770525e+00],\n",
      "       [-4.60752120e+01,  5.74858002e-01, -6.63475530e+00],\n",
      "       [-4.74341071e+01,  6.29718690e-01, -6.79525956e+00],\n",
      "       [-4.88341006e+01,  6.87419119e-01, -6.95929094e+00],\n",
      "       [-5.02764474e+01,  7.48074159e-01, -7.12692390e+00],\n",
      "       [-5.17624409e+01,  8.11802814e-01, -7.29823440e+00],\n",
      "       [-5.32934142e+01,  8.78728362e-01, -7.47329999e+00],\n",
      "       [-5.48707410e+01,  9.48978505e-01, -7.65219982e+00],\n",
      "       [-5.64958376e+01,  1.02268551e+00, -7.83501470e+00],\n",
      "       [-5.81701631e+01,  1.09998638e+00, -8.02182707e+00],\n",
      "       [-5.98952219e+01,  1.18102298e+00, -8.21272110e+00],\n",
      "       [-6.16725642e+01,  1.26594223e+00, -8.40778271e+00],\n",
      "       [-6.35037878e+01,  1.35489628e+00, -8.60709957e+00],\n",
      "       [-6.53905395e+01,  1.44804266e+00, -8.81076119e+00]]), 'dim': 1, 'order': 2, 'ind': array([50], dtype=int64), 'ispermuted': False, 'repermorder': array([1, 2, 3]), 'size': array([51.,  3.,  1.]), 'subsize': {'hankel': array([50, 51], dtype=int64), 'other': (3,)}}\n"
=======
      "input shape:  (101, 4)\n",
      "Order:  2\n",
      "ind:  [51]\n",
      "N:  101\n",
      "Dim:  1\n",
      "Order:  2\n",
      "ind:  [51]\n",
      "sizes:  nan\n",
      "perm_to_first:  1\n",
      "size_other:  (4,)\n",
      "size_hankel:  [51 51]\n",
      "Total required Bytes are:  83232.0\n",
      "hstruct {'type': 'hankel', 'val': array([[ -1.50094555,  -3.1175236 ,  -1.20622767,   0.18096465],\n",
      "       [ -1.54853383,  -3.19048616,  -1.23920653,   0.19967573],\n",
      "       [ -1.59762969,  -3.26549459,  -1.27318466,   0.21936467],\n",
      "       [ -1.6482821 ,  -3.34261465,  -1.30819348,   0.24007657],\n",
      "       [ -1.70054165,  -3.4219144 ,  -1.34426538,   0.26185851],\n",
      "       [ -1.75446066,  -3.50346434,  -1.38143384,   0.28475964],\n",
      "       [ -1.81009318,  -3.58733744,  -1.41973337,   0.30883127],\n",
      "       [ -1.86749507,  -3.67360928,  -1.45919958,   0.33412697],\n",
      "       [ -1.92672409,  -3.76235812,  -1.49986925,   0.36070265],\n",
      "       [ -1.98783993,  -3.85366498,  -1.54178031,   0.38861667],\n",
      "       [ -2.0509043 ,  -3.94761383,  -1.58497191,   0.41792994],\n",
      "       [ -2.11598097,  -4.04429158,  -1.62948446,   0.44870603],\n",
      "       [ -2.18313588,  -4.1437883 ,  -1.67535964,   0.48101129],\n",
      "       [ -2.25243721,  -4.24619727,  -1.72264049,   0.51491498],\n",
      "       [ -2.32395542,  -4.35161513,  -1.77137142,   0.55048936],\n",
      "       [ -2.39776336,  -4.46014199,  -1.82159826,   0.58780985],\n",
      "       [ -2.47393637,  -4.57188161,  -1.87336831,   0.62695513],\n",
      "       [ -2.55255232,  -4.68694145,  -1.92673038,   0.66800733],\n",
      "       [ -2.63369174,  -4.80543289,  -1.98173487,   0.71105214],\n",
      "       [ -2.71743789,  -4.92747136,  -2.03843376,   0.75617895],\n",
      "       [ -2.80387686,  -5.05317646,  -2.09688073,   0.80348107],\n",
      "       [ -2.89309768,  -5.18267216,  -2.15713116,   0.85305581],\n",
      "       [ -2.98519242,  -5.31608694,  -2.21924223,   0.90500472],\n",
      "       [ -3.08025626,  -5.45355398,  -2.28327295,   0.95943374],\n",
      "       [ -3.17838766,  -5.59521133,  -2.34928421,   1.0164534 ],\n",
      "       [ -3.27968845,  -5.74120209,  -2.41733888,   1.07617898],\n",
      "       [ -3.38426392,  -5.89167463,  -2.48750184,   1.13873078],\n",
      "       [ -3.49222299,  -6.04678274,  -2.55984006,   1.20423426],\n",
      "       [ -3.60367829,  -6.2066859 ,  -2.63442267,   1.27282029],\n",
      "       [ -3.71874633,  -6.37154947,  -2.71132102,   1.3446254 ],\n",
      "       [ -3.83754763,  -6.54154489,  -2.79060877,   1.419792  ],\n",
      "       [ -3.96020684,  -6.71684995,  -2.87236193,   1.4984686 ],\n",
      "       [ -4.0868529 ,  -6.89764905,  -2.95665898,   1.58081013],\n",
      "       [ -4.2176192 ,  -7.08413337,  -3.04358093,   1.66697816],\n",
      "       [ -4.35264372,  -7.27650125,  -3.1332114 ,   1.75714121],\n",
      "       [ -4.49206922,  -7.47495837,  -3.22563671,   1.85147503],\n",
      "       [ -4.63604336,  -7.67971806,  -3.32094596,   1.95016292],\n",
      "       [ -4.78471894,  -7.89100164,  -3.41923114,   2.05339602],\n",
      "       [ -4.93825404,  -8.10903866,  -3.5205872 ,   2.16137368],\n",
      "       [ -5.0968122 ,  -8.33406727,  -3.62511216,   2.27430377],\n",
      "       [ -5.26056264,  -8.56633453,  -3.73290723,   2.39240307],\n",
      "       [ -5.42968046,  -8.80609675,  -3.84407688,   2.51589762],\n",
      "       [ -5.60434685,  -9.05361987,  -3.95872894,   2.64502315],\n",
      "       [ -5.78474928,  -9.30917982,  -4.07697478,   2.78002543],\n",
      "       [ -5.97108175,  -9.57306292,  -4.19892933,   2.92116075],\n",
      "       [ -6.16354504,  -9.84556625,  -4.32471127,   3.06869632],\n",
      "       [ -6.3623469 , -10.12699812,  -4.45444312,   3.22291075],\n",
      "       [ -6.56770237, -10.41767846,  -4.58825138,   3.38409456],\n",
      "       [ -6.77983396, -10.71793931,  -4.72626664,   3.5525506 ],\n",
      "       [ -6.998972  , -11.02812526,  -4.86862375,   3.72859467],\n",
      "       [ -7.22535485, -11.34859396,  -5.01546193,   3.91255596],\n",
      "       [ -7.45922925, -11.67971663,  -5.16692491,   4.10477772],\n",
      "       [ -7.70085056, -12.02187859,  -5.3231611 ,   4.30561777],\n",
      "       [ -7.95048313, -12.37547979,  -5.48432376,   4.51544913],\n",
      "       [ -8.20840059, -12.7409354 ,  -5.65057108,   4.7346607 ],\n",
      "       [ -8.47488618, -13.11867641,  -5.82206646,   4.96365786],\n",
      "       [ -8.75023312, -13.50915024,  -5.99897859,   5.20286322],\n",
      "       [ -9.03474496, -13.9128214 ,  -6.18148164,   5.45271733],\n",
      "       [ -9.32873594, -14.33017213,  -6.36975548,   5.71367939],\n",
      "       [ -9.63253139, -14.76170311,  -6.56398584,   5.98622809],\n",
      "       [ -9.94646816, -15.20793421,  -6.7643645 ,   6.27086241],\n",
      "       [-10.27089497, -15.6694052 ,  -6.97108951,   6.56810243],\n",
      "       [-10.6061729 , -16.14667655,  -7.18436538,   6.87849028],\n",
      "       [-10.95267582, -16.64033026,  -7.40440329,   7.20259102],\n",
      "       [-11.31079083, -17.15097069,  -7.63142134,   7.5409936 ],\n",
      "       [-11.68091879, -17.67922543,  -7.86564475,   7.8943119 ],\n",
      "       [-12.06347479, -18.22574624,  -8.1073061 ,   8.26318571],\n",
      "       [-12.45888865, -18.79121   ,  -8.35664559,   8.64828188],\n",
      "       [-12.86760552, -19.37631966,  -8.61391128,   9.0502954 ],\n",
      "       [-13.29008635, -19.98180533,  -8.87935937,   9.46995062],\n",
      "       [-13.72680855, -20.60842531,  -9.15325443,   9.90800244],\n",
      "       [-14.17826654, -21.2569672 ,  -9.43586973,  10.3652376 ],\n",
      "       [-14.64497241, -21.92824909,  -9.72748748,  10.84247602],\n",
      "       [-15.12745653, -22.62312074, -10.02839917,  11.3405722 ],\n",
      "       [-15.62626822, -23.34246484, -10.33890586,  11.86041661],\n",
      "       [-16.14197648, -24.0871983 , -10.65931849,  12.40293725],\n",
      "       [-16.67517069, -24.85827363, -10.98995823,  12.96910118],\n",
      "       [-17.22646135, -25.65668031, -11.33115681,  13.55991618],\n",
      "       [-17.79648087, -26.48344632, -11.68325686,  14.17643241],\n",
      "       [-18.38588436, -27.33963957, -12.04661232,  14.81974423],\n",
      "       [-18.99535049, -28.22636959, -12.42158875,  15.49099199],\n",
      "       [-19.62558232, -29.1447891 , -12.80856378,  16.19136398],\n",
      "       [-20.27730825, -30.09609574, -13.20792749,  16.92209843],\n",
      "       [-20.9512829 , -31.08153389, -13.62008281,  17.68448556],\n",
      "       [-21.6482881 , -32.10239649, -14.045446  ,  18.47986979],\n",
      "       [-22.36913391, -33.16002696, -14.48444702,  19.30965197],\n",
      "       [-23.11465965, -34.25582126, -14.93753007,  20.17529173],\n",
      "       [-23.88573498, -35.39122992, -15.40515402,  21.07830994],\n",
      "       [-24.68326099, -36.56776023, -15.88779293,  22.02029127],\n",
      "       [-25.50817145, -37.78697851, -16.38593652,  23.00288679],\n",
      "       [-26.36143393, -39.05051246, -16.90009075,  24.02781682],\n",
      "       [-27.2440511 , -40.36005357, -17.43077833,  25.09687373],\n",
      "       [-28.15706202, -41.71735971, -17.9785393 ,  26.21192499],\n",
      "       [-29.10154351, -43.12425773, -18.54393159,  27.37491626],\n",
      "       [-30.07861152, -44.58264623, -19.12753168,  28.58787468],\n",
      "       [-31.08942261, -46.09449842, -19.72993515,  29.8529122 ],\n",
      "       [-32.13517543, -47.66186512, -20.35175739,  31.17222916],\n",
      "       [-33.21711235, -49.28687778, -20.99363424,  32.54811795],\n",
      "       [-34.33652101, -50.97175178, -21.65622266,  33.98296681],\n",
      "       [-35.49473607, -52.71878975, -22.34020151,  35.47926382],\n",
      "       [-36.69314093, -54.53038502, -23.04627222,  37.03960109]]), 'dim': 1, 'order': 2, 'ind': array([51], dtype=int64), 'ispermuted': False, 'repermorder': array([1, 2, 3]), 'size': array([51.,  4.,  1.]), 'subsize': {'hankel': array([51, 51], dtype=int64), 'other': (4,)}}\n"
>>>>>>> 9e05b8ca9c4193a146432f004ec72b96a205d2c4
     ]
    }
   ],
   "source": [
<<<<<<< HEAD
    "\n",
    "# application BSS Signal construction\n",
    "t = np.linspace(0,1,100).T  # one source\n",
    "x = np.array([t, t*2, t*3]).T  # create 3 sources of multiples of 1, 2, 3\n",
    "S = np.exp(x) # raise it exponentialy\n",
    "rng = np.random.default_rng()\n",
    "M = rng.standard_normal(size=(3,3)) # generate random mixing matrix to record the 4 sources using 3 sensors\n",
=======
    "# application BSS Signal construction\n",
    "t = np.linspace(0,1,101).T  # one source\n",
    "x = np.array([t, t*2, t*3, t*4]).T  # create 3 sources of multiples of 1, 2, 3, 4\n",
    "S = np.exp(x) # raise it exponentialy\n",
    "rng = np.random.default_rng()\n",
    "M = rng.standard_normal(size=(4,4)) # generate random mixing matrix to record the 4 sources using 3 sensors\n",
>>>>>>> 9e05b8ca9c4193a146432f004ec72b96a205d2c4
    "X = np.dot(S,M) # mix the four sources\n",
    "# Separation\n",
    "H = hankelize(X,Dim=1)\n",
    "U = tl.tensor(H)"
   ]
  },
  {
   "cell_type": "code",
<<<<<<< HEAD
   "execution_count": 29,
   "id": "6f819e38",
   "metadata": {},
   "outputs": [
    {
     "data": {
      "text/plain": [
       "(100, 3)"
      ]
     },
     "execution_count": 29,
     "metadata": {},
     "output_type": "execute_result"
    }
   ],
   "source": [
    "X.shape"
   ]
  },
  {
   "cell_type": "code",
   "execution_count": 30,
   "id": "2ad5bdfd",
=======
   "execution_count": 403,
   "id": "73472e76",
>>>>>>> 9e05b8ca9c4193a146432f004ec72b96a205d2c4
   "metadata": {},
   "outputs": [
    {
     "data": {
      "text/plain": [
<<<<<<< HEAD
       "(100, 3)"
      ]
     },
     "execution_count": 30,
=======
       "[array([[ -1.44502503,  -9.41598905,   2.48225611,   1.08867304],\n",
       "        [ -1.51992901,  -9.70531689,   2.48497559,   1.15966297],\n",
       "        [ -1.59788962, -10.0037505 ,   2.48633683,   1.234476  ],\n",
       "        [ -1.67902541, -10.31158207,   2.48626068,   1.31329953],\n",
       "        [ -1.76345947, -10.62911331,   2.48466433,   1.39632966],\n",
       "        [ -1.85131966, -10.95665583,   2.48146118,   1.48377153],\n",
       "        [ -1.94273874, -11.29453143,   2.47656071,   1.57583975],\n",
       "        [ -2.03785458, -11.64307243,   2.46986826,   1.67275884],\n",
       "        [ -2.13681037, -12.00262207,   2.46128489,   1.77476362],\n",
       "        [ -2.23975479, -12.37353484,   2.4507072 ,   1.88209971],\n",
       "        [ -2.34684228, -12.75617685,   2.43802711,   1.99502401],\n",
       "        [ -2.45823319, -13.15092626,   2.4231317 ,   2.11380515],\n",
       "        [ -2.57409408, -13.55817362,   2.40590298,   2.23872408],\n",
       "        [ -2.69459791, -13.97832236,   2.38621767,   2.37007457],\n",
       "        [ -2.81992432, -14.41178914,   2.36394701,   2.50816377],\n",
       "        [ -2.95025987, -14.85900437,   2.33895649,   2.65331285],\n",
       "        [ -3.0857983 , -15.32041264,   2.31110564,   2.80585754],\n",
       "        [ -3.22674085, -15.79647318,   2.28024776,   2.96614887],\n",
       "        [ -3.3732965 , -16.28766037,   2.24622965,   3.13455375],\n",
       "        [ -3.52568229, -16.79446426,   2.20889136,   3.31145573],\n",
       "        [ -3.68412367, -17.31739108,   2.16806589,   3.4972557 ],\n",
       "        [ -3.84885476, -17.85696379,   2.12357892,   3.69237267],\n",
       "        [ -4.02011873, -18.41372264,   2.07524844,   3.89724457],\n",
       "        [ -4.19816815, -18.98822578,   2.0228845 ,   4.11232904],\n",
       "        [ -4.38326533, -19.58104983,   1.96628884,   4.33810433],\n",
       "        [ -4.57568274, -20.19279052,   1.90525455,   4.57507022],\n",
       "        [ -4.77570336, -20.82406333,   1.83956569,   4.82374889],\n",
       "        [ -4.98362112, -21.47550418,   1.76899696,   5.08468596],\n",
       "        [ -5.1997413 , -22.14777008,   1.69331326,   5.35845153],\n",
       "        [ -5.42438103, -22.84153991,   1.61226928,   5.64564115],\n",
       "        [ -5.65786965, -23.55751508,   1.52560913,   5.94687706],\n",
       "        [ -5.9005493 , -24.29642037,   1.43306584,   6.26280924],\n",
       "        [ -6.15277533, -25.05900468,   1.33436092,   6.59411668],\n",
       "        [ -6.41491686, -25.84604186,   1.22920388,   6.94150863],\n",
       "        [ -6.68735731, -26.65833156,   1.11729173,   7.30572591],\n",
       "        [ -6.97049495, -27.49670012,   0.99830847,   7.68754228],\n",
       "        [ -7.26474348, -28.36200146,   0.87192453,   8.08776587],\n",
       "        [ -7.57053264, -29.25511802,   0.73779621,   8.50724068],\n",
       "        [ -7.88830882, -30.17696177,   0.59556509,   8.94684813],\n",
       "        [ -8.21853574, -31.12847515,   0.44485747,   9.40750866],\n",
       "        [ -8.5616951 , -32.1106322 ,   0.28528363,   9.89018346],\n",
       "        [ -8.91828728, -33.12443955,   0.11643727,  10.3958762 ],\n",
       "        [ -9.28883211, -34.1709376 ,  -0.06210523,  10.92563488],\n",
       "        [ -9.67386957, -35.25120164,  -0.25078552,  11.48055373],\n",
       "        [-10.07396064, -36.36634307,  -0.45006403,  12.06177524],\n",
       "        [-10.48968805, -37.51751063,  -0.66042073,  12.6704922 ],\n",
       "        [-10.92165722, -38.70589168,  -0.88235596,  13.30794989],\n",
       "        [-11.37049708, -39.9327135 ,  -1.11639128,  13.97544836],\n",
       "        [-11.836861  , -41.19924473,  -1.36307029,  14.67434475],\n",
       "        [-12.32142777, -42.50679671,  -1.62295962,  15.40605576],\n",
       "        [-12.8249026 , -43.85672503,  -1.89664984,  16.17206025]]),\n",
       " array([[-0.6752615 ,  0.51989306,  0.99334256,  0.36612726],\n",
       "        [-0.69606295,  0.53869886,  1.01791806,  0.38066885],\n",
       "        [-0.71754897,  0.55815458,  1.0431695 ,  0.39590421],\n",
       "        [-0.73974318,  0.5782826 ,  1.0691168 ,  0.41186654],\n",
       "        [-0.76267005,  0.59910606,  1.09578047,  0.42859061],\n",
       "        [-0.78635496,  0.6206489 ,  1.12318165,  0.44611275],\n",
       "        [-0.81082415,  0.64293592,  1.15134214,  0.46447102],\n",
       "        [-0.83610484,  0.66599277,  1.18028444,  0.4837052 ],\n",
       "        [-0.86222522,  0.68984597,  1.21003171,  0.50385691],\n",
       "        [-0.88921447,  0.71452301,  1.24060785,  0.52496969],\n",
       "        [-0.91710286,  0.7400523 ,  1.2720375 ,  0.54708907],\n",
       "        [-0.94592173,  0.76646327,  1.30434607,  0.57026268],\n",
       "        [-0.97570354,  0.79378636,  1.33755976,  0.59454031],\n",
       "        [-1.00648194,  0.82205308,  1.37170558,  0.61997406],\n",
       "        [-1.0382918 ,  0.85129605,  1.40681139,  0.64661838],\n",
       "        [-1.07116923,  0.881549  ,  1.44290593,  0.67453021],\n",
       "        [-1.10515168,  0.91284689,  1.48001881,  0.70376911],\n",
       "        [-1.14027792,  0.94522587,  1.51818061,  0.73439731],\n",
       "        [-1.17658815,  0.97872336,  1.55742284,  0.76647991],\n",
       "        [-1.21412403,  1.0133781 ,  1.597778  ,  0.80008493],\n",
       "        [-1.25292874,  1.0492302 ,  1.63927963,  0.83528349],\n",
       "        [-1.293047  ,  1.08632115,  1.6819623 ,  0.87214995],\n",
       "        [-1.3345252 ,  1.12469392,  1.7258617 ,  0.91076201],\n",
       "        [-1.37741139,  1.16439299,  1.77101462,  0.95120088],\n",
       "        [-1.42175538,  1.2054644 ,  1.81745903,  0.99355145],\n",
       "        [-1.46760882,  1.2479558 ,  1.86523408,  1.03790243],\n",
       "        [-1.51502522,  1.29191653,  1.91438019,  1.08434654],\n",
       "        [-1.56406006,  1.33739769,  1.96493902,  1.13298065],\n",
       "        [-1.61477085,  1.38445213,  2.01695358,  1.183906  ],\n",
       "        [-1.66721721,  1.43313461,  2.07046825,  1.23722837],\n",
       "        [-1.72146094,  1.48350181,  2.1255288 ,  1.29305829],\n",
       "        [-1.77756612,  1.5356124 ,  2.18218246,  1.35151122],\n",
       "        [-1.83559917,  1.58952715,  2.24047799,  1.41270783],\n",
       "        [-1.89562897,  1.64530895,  2.30046567,  1.47677415],\n",
       "        [-1.95772691,  1.70302294,  2.3621974 ,  1.54384185],\n",
       "        [-2.02196703,  1.76273656,  2.42572675,  1.61404848],\n",
       "        [-2.0884261 ,  1.82451963,  2.49110899,  1.68753772],\n",
       "        [-2.1571837 ,  1.88844445,  2.55840116,  1.76445965],\n",
       "        [-2.22832238,  1.9545859 ,  2.62766214,  1.84497104],\n",
       "        [-2.30192772,  2.02302151,  2.69895268,  1.9292356 ],\n",
       "        [-2.37808846,  2.09383156,  2.7723355 ,  2.01742433],\n",
       "        [-2.45689665,  2.16709918,  2.84787534,  2.10971583],\n",
       "        [-2.53844772,  2.24291047,  2.925639  ,  2.2062966 ],\n",
       "        [-2.62284065,  2.3213546 ,  3.00569547,  2.3073614 ],\n",
       "        [-2.71017811,  2.40252389,  3.08811592,  2.41311362],\n",
       "        [-2.80056655,  2.48651398,  3.17297387,  2.52376564],\n",
       "        [-2.89411639,  2.57342391,  3.26034517,  2.63953922],\n",
       "        [-2.99094217,  2.66335624,  3.35030816,  2.7606659 ],\n",
       "        [-3.09116268,  2.75641721,  3.4429437 ,  2.88738745],\n",
       "        [-3.19490112,  2.85271685,  3.53833528,  3.01995628],\n",
       "        [-3.3022853 ,  2.95236914,  3.63656909,  3.15863592]]),\n",
       " array([[-0.65905508,  0.09167065, -0.18351558,  0.03659465],\n",
       "        [-2.20340589, -0.28528163, -0.93404955, -0.09052195],\n",
       "        [-0.71087257, -0.00750169, -0.23664436,  0.08724126],\n",
       "        [-0.90678211, -0.34096318, -0.35517641,  0.56671065]])]"
      ]
     },
     "execution_count": 403,
>>>>>>> 9e05b8ca9c4193a146432f004ec72b96a205d2c4
     "metadata": {},
     "output_type": "execute_result"
    }
   ],
   "source": [
<<<<<<< HEAD
    "S.shape"
=======
    "rank = 4\n",
    "'''\n",
    "if alg == 1:\n",
    "    ## MPS / tensor train\n",
    "    from tensorly.decomposition import matrix_product_state \n",
    "    factors = matrix_product_state(U, rank=rank)\n",
    "    from tensorly import tt_to_tensor\n",
    "    S_Hankel = np.round(tt_to_tensor(factors))\n",
    "\n",
    "elif alg == 2:\n",
    "    from tensorly.decomposition import tucker\n",
    "    core, factors = tucker(U, rank=rank)\n",
    "    from tensorly import tucker_to_tensor\n",
    "    S_Hankel = tucker_to_tensor(core, factors) # not working\n",
    "\n",
    "elif alg == 3:\n",
    "    from tensorly.decomposition import constrained_parafac\n",
    "    core, factors = constrained_parafac(U, rank=rank, unimodality=True)\n",
    "    # reconstruct from parafac\n",
    "    S_Hankel = tl.cp_to_tensor((core, factors))\n",
    "\n",
    "    from tensorly.decomposition import constrained_parafac\n",
    "    _, factors = constrained_parafac(U, rank=rank, unimodality=True)\n",
    "    \n",
    "\n",
    "\n",
    "else: ## using parafac decomposition\n",
    "    from tensorly.decomposition import parafac\n",
    "    factors = parafac(U, rank=rank)\n",
    "    # reconstruct from parafac\n",
    "    S_Hankel = tl.cp_to_tensor(factors)\n",
    "'''\n",
    "\n",
    "    \n",
    "\n",
    "from tensorly.decomposition import parafac # The dense version\n",
    "_, factors = parafac(U, rank=rank, init='random')\n",
    "factors"
>>>>>>> 9e05b8ca9c4193a146432f004ec72b96a205d2c4
   ]
  },
  {
   "cell_type": "code",
<<<<<<< HEAD
   "execution_count": 31,
   "id": "c305e8ae",
=======
   "execution_count": 404,
   "id": "ed47fbf1",
>>>>>>> 9e05b8ca9c4193a146432f004ec72b96a205d2c4
   "metadata": {},
   "outputs": [
    {
     "data": {
      "text/plain": [
<<<<<<< HEAD
       "(50, 51, 3)"
      ]
     },
     "execution_count": 31,
=======
       "(101, 4)"
      ]
     },
     "execution_count": 404,
>>>>>>> 9e05b8ca9c4193a146432f004ec72b96a205d2c4
     "metadata": {},
     "output_type": "execute_result"
    }
   ],
   "source": [
<<<<<<< HEAD
    "H.shape"
   ]
  },
  {
   "cell_type": "code",
   "execution_count": 60,
   "id": "3cdc84c2",
   "metadata": {},
   "outputs": [],
   "source": [
    "rank = 3\n",
    "from tensorly.decomposition import constrained_parafac\n",
    "_, factors = constrained_parafac(U, rank=rank, unimodality=True)\n",
    "# reconstruct from parafac\n",
    "#S_Hankel = tl.cp_to_tensor((core, factors))"
=======
    "X.shape"
>>>>>>> 9e05b8ca9c4193a146432f004ec72b96a205d2c4
   ]
  },
  {
   "cell_type": "code",
<<<<<<< HEAD
   "execution_count": 61,
=======
   "execution_count": 405,
>>>>>>> 9e05b8ca9c4193a146432f004ec72b96a205d2c4
   "id": "e4c7c8b8",
   "metadata": {},
   "outputs": [
    {
     "name": "stderr",
     "output_type": "stream",
     "text": [
<<<<<<< HEAD
      "C:\\Users\\DELLPR~1\\AppData\\Local\\Temp/ipykernel_17972/4075969018.py:1: VisibleDeprecationWarning: Creating an ndarray from ragged nested sequences (which is a list-or-tuple of lists-or-tuples-or ndarrays with different lengths or shapes) is deprecated. If you meant to do this, you must specify 'dtype=object' when creating the ndarray.\n",
=======
      "C:\\Users\\DELLPR~1\\AppData\\Local\\Temp/ipykernel_7196/4075969018.py:1: VisibleDeprecationWarning: Creating an ndarray from ragged nested sequences (which is a list-or-tuple of lists-or-tuples-or ndarrays with different lengths or shapes) is deprecated. If you meant to do this, you must specify 'dtype=object' when creating the ndarray.\n",
>>>>>>> 9e05b8ca9c4193a146432f004ec72b96a205d2c4
      "  factors = np.array(factors)\n"
     ]
    },
    {
     "data": {
      "text/plain": [
       "(3,)"
      ]
     },
<<<<<<< HEAD
     "execution_count": 61,
     "metadata": {},
     "output_type": "execute_result"
    }
   ],
   "source": [
    "factors = np.array(factors)\n",
    "factors.shape"
   ]
  },
  {
   "cell_type": "code",
   "execution_count": 78,
   "id": "03f85176",
   "metadata": {},
   "outputs": [
    {
     "data": {
      "text/plain": [
       "[array([[ 6.91087601e+01, -1.26288686e+00, -1.49144646e-01],\n",
       "        [ 7.10143932e+01, -1.27184871e+00, -1.55012250e-01],\n",
       "        [ 7.29744194e+01, -1.27881574e+00, -1.60752859e-01],\n",
       "        [ 7.49904287e+01, -1.28366338e+00, -1.66352902e-01],\n",
       "        [ 7.70640579e+01, -1.28626177e+00, -1.71798160e-01],\n",
       "        [ 7.91969926e+01, -1.28647556e+00, -1.77073740e-01],\n",
       "        [ 8.13909686e+01, -1.28416372e+00, -1.82164049e-01],\n",
       "        [ 8.36477732e+01, -1.27917930e+00, -1.87052767e-01],\n",
       "        [ 8.59692470e+01, -1.27136927e+00, -1.91722819e-01],\n",
       "        [ 8.83572851e+01, -1.26057424e+00, -1.96156346e-01],\n",
       "        [ 9.08138392e+01, -1.24662826e+00, -2.00334678e-01],\n",
       "        [ 9.33409193e+01, -1.22935860e+00, -2.04238299e-01],\n",
       "        [ 9.59405948e+01, -1.20858545e+00, -2.07846818e-01],\n",
       "        [ 9.86149972e+01, -1.18412172e+00, -2.11138935e-01],\n",
       "        [ 1.01366321e+02, -1.15577277e+00, -2.14092409e-01],\n",
       "        [ 1.04196827e+02, -1.12333608e+00, -2.16684019e-01],\n",
       "        [ 1.07108843e+02, -1.08660105e+00, -2.18889530e-01],\n",
       "        [ 1.10104765e+02, -1.04534866e+00, -2.20683655e-01],\n",
       "        [ 1.13187063e+02, -9.99351194e-01, -2.22040015e-01],\n",
       "        [ 1.16358279e+02, -9.48371908e-01, -2.22931102e-01],\n",
       "        [ 1.19621030e+02, -8.92164724e-01, -2.23328231e-01],\n",
       "        [ 1.22978013e+02, -8.30473900e-01, -2.23201503e-01],\n",
       "        [ 1.26432006e+02, -7.63033679e-01, -2.22519757e-01],\n",
       "        [ 1.29985868e+02, -6.89567943e-01, -2.21250525e-01],\n",
       "        [ 1.33642544e+02, -6.09789843e-01, -2.19359982e-01],\n",
       "        [ 1.37405068e+02, -5.23401422e-01, -2.16812902e-01],\n",
       "        [ 1.41276565e+02, -4.30093227e-01, -2.13572600e-01],\n",
       "        [ 1.45260251e+02, -3.29543900e-01, -2.09600885e-01],\n",
       "        [ 1.49359441e+02, -2.21419767e-01, -2.04858001e-01],\n",
       "        [ 1.53577547e+02, -1.05374405e-01, -1.99302574e-01],\n",
       "        [ 1.57918085e+02,  1.89518059e-02, -1.92891551e-01],\n",
       "        [ 1.62384676e+02,  1.51932138e-01, -1.85580141e-01],\n",
       "        [ 1.66981048e+02,  2.93953995e-01, -1.77321755e-01],\n",
       "        [ 1.71711043e+02,  4.45419399e-01, -1.68067935e-01],\n",
       "        [ 1.76578615e+02,  6.06745502e-01, -1.57768295e-01],\n",
       "        [ 1.81587839e+02,  7.78365109e-01, -1.46370444e-01],\n",
       "        [ 1.86742912e+02,  9.60727217e-01, -1.33819924e-01],\n",
       "        [ 1.92048156e+02,  1.15429758e+00, -1.20060129e-01],\n",
       "        [ 1.97508023e+02,  1.35955927e+00, -1.05032232e-01],\n",
       "        [ 2.03127098e+02,  1.57701330e+00, -8.86751045e-02],\n",
       "        [ 2.08910105e+02,  1.80717923e+00, -7.09252393e-02],\n",
       "        [ 2.14861909e+02,  2.05059578e+00, -5.17166619e-02],\n",
       "        [ 2.20987521e+02,  2.30782154e+00, -3.09808461e-02],\n",
       "        [ 2.27292102e+02,  2.57943559e+00, -8.64662387e-03],\n",
       "        [ 2.33780969e+02,  2.86603825e+00,  1.53599074e-02],\n",
       "        [ 2.40459599e+02,  3.16825177e+00,  4.11154808e-02],\n",
       "        [ 2.47333631e+02,  3.48672112e+00,  6.86997585e-02],\n",
       "        [ 2.54408878e+02,  3.82211470e+00,  9.81954345e-02],\n",
       "        [ 2.61691323e+02,  4.17512521e+00,  1.29688340e-01],\n",
       "        [ 2.69187132e+02,  4.54647041e+00,  1.63267552e-01]]),\n",
       " array([[ 0.05985178,  0.11019971, -0.25582407],\n",
       "        [ 0.06150168,  0.11027447, -0.26454722],\n",
       "        [ 0.06319883,  0.11016258, -0.27302215],\n",
       "        [ 0.06494463,  0.1098532 , -0.28122527],\n",
       "        [ 0.0667405 ,  0.10933504, -0.28913185],\n",
       "        [ 0.0685879 ,  0.10859637, -0.29671605],\n",
       "        [ 0.07048837,  0.10762496, -0.30395081],\n",
       "        [ 0.07244344,  0.10640807, -0.31080785],\n",
       "        [ 0.07445473,  0.10493245, -0.3172576 ],\n",
       "        [ 0.0765239 ,  0.10318433, -0.32326913],\n",
       "        [ 0.07865265,  0.10114937, -0.32881017],\n",
       "        [ 0.08084272,  0.09881264, -0.33384698],\n",
       "        [ 0.08309593,  0.09615863, -0.33834433],\n",
       "        [ 0.08541414,  0.09317122, -0.34226548],\n",
       "        [ 0.08779926,  0.08983363, -0.34557204],\n",
       "        [ 0.09025326,  0.08612842, -0.34822398],\n",
       "        [ 0.09277819,  0.08203748, -0.35017954],\n",
       "        [ 0.09537612,  0.07754197, -0.35139519],\n",
       "        [ 0.09804923,  0.07262232, -0.35182552],\n",
       "        [ 0.10079972,  0.06725821, -0.35142319],\n",
       "        [ 0.10362989,  0.06142852, -0.35013891],\n",
       "        [ 0.10654209,  0.05511131, -0.34792128],\n",
       "        [ 0.10953874,  0.0482838 , -0.34471678],\n",
       "        [ 0.11262234,  0.04092234, -0.34046966],\n",
       "        [ 0.11579548,  0.03300237, -0.33512188],\n",
       "        [ 0.11906079,  0.02449839, -0.32861301],\n",
       "        [ 0.12242101,  0.01538393, -0.32088015],\n",
       "        [ 0.12587895,  0.00563152, -0.31185784],\n",
       "        [ 0.1294375 , -0.00478734, -0.30147797],\n",
       "        [ 0.13309965, -0.01590225, -0.28966969],\n",
       "        [ 0.13686848, -0.02774389, -0.27635929],\n",
       "        [ 0.14074714, -0.04034411, -0.26147012],\n",
       "        [ 0.1447389 , -0.05373594, -0.24492249],\n",
       "        [ 0.14884711, -0.06795366, -0.22663352],\n",
       "        [ 0.15307524, -0.0830328 , -0.20651709],\n",
       "        [ 0.15742684, -0.09901022, -0.18448366],\n",
       "        [ 0.16190558, -0.11592414, -0.16044021],\n",
       "        [ 0.16651526, -0.13381418, -0.13429006],\n",
       "        [ 0.17125975, -0.15272144, -0.10593277],\n",
       "        [ 0.17614307, -0.17268851, -0.07526403],\n",
       "        [ 0.18116935, -0.19375953, -0.04217547],\n",
       "        [ 0.18634285, -0.21598029, -0.00655454],\n",
       "        [ 0.19166795, -0.2393982 ,  0.03171559],\n",
       "        [ 0.19714917, -0.26406243,  0.07275625],\n",
       "        [ 0.20279116, -0.29002391,  0.11669341],\n",
       "        [ 0.20859871, -0.31733542,  0.1636578 ],\n",
       "        [ 0.21457676, -0.34605166,  0.21378512],\n",
       "        [ 0.22073039, -0.37622929,  0.26721621],\n",
       "        [ 0.22706484, -0.40792699,  0.32409719],\n",
       "        [ 0.23358551, -0.44120557,  0.3845797 ],\n",
       "        [ 0.24029796, -0.476128  ,  0.44882103]]),\n",
       " array([[-9.86441280e-01,  8.13980449e-01,  1.79137629e+00],\n",
       "        [-4.40495490e-05, -7.63800416e-01, -3.41816746e+00],\n",
       "        [-1.51779552e-01, -4.77273501e-01, -1.60446528e+00]])]"
      ]
     },
     "execution_count": 78,
     "metadata": {},
     "output_type": "execute_result"
    }
   ],
   "source": [
    "factors[1]"
   ]
  },
  {
   "cell_type": "code",
   "execution_count": 64,
   "id": "5f232263",
   "metadata": {},
   "outputs": [],
   "source": [
    "if factors[0].shape[0] < factors[1].shape[0]:\n",
    "    factors[1] = np.resize(factors[1], (factors[0].shape))\n",
    "else:\n",
    "    factors[0] = np.resize(factors[0], (f1.shape))\n"
   ]
  },
  {
   "cell_type": "code",
   "execution_count": 65,
   "id": "8dd992c9",
   "metadata": {},
   "outputs": [
    {
     "data": {
      "text/plain": [
       "(100, 3)"
      ]
     },
     "execution_count": 65,
     "metadata": {},
     "output_type": "execute_result"
    }
   ],
   "source": [
    "t1 = np.concatenate((factors[0], factors[1]))\n",
    "t1.shape\n",
    "#t1 = t1.reshape((len(t1[0])))"
   ]
  },
  {
   "cell_type": "code",
   "execution_count": 66,
   "id": "316e8b40",
   "metadata": {},
   "outputs": [
    {
     "name": "stdout",
     "output_type": "stream",
     "text": [
      "subs :  [Ellipsis 0]\n",
      "tmp:  [-128.22132355 -128.22030887 -128.22065055 -128.22065055 -128.22065055\n",
      " -128.22065055 -128.22065055 -128.22065055 -128.22065055 -128.22065055\n",
      " -128.22065055 -128.22065055 -128.22065055 -128.22065055 -128.22065055\n",
      " -128.22065055 -128.22065055 -128.22065055 -128.22065055 -128.22065055\n",
      " -128.22065055 -128.22065055 -128.22065055 -128.22065055 -128.22065055\n",
      " -128.22065055 -128.22065055 -128.22065055 -128.22065055 -128.22065055\n",
      " -128.22065055 -128.22065055 -128.22065055 -128.22065055 -128.22065055\n",
      " -128.22065055 -128.22065055 -128.22065055 -128.22065055 -128.22065055\n",
      " -128.22065055 -128.22065055 -128.22065055 -128.22065055 -128.22065055\n",
      " -128.22065055 -128.22065055 -128.22065055 -128.22065055 -128.22065055\n",
      "    1.0561881     1.08567188    1.11603392    1.14728147    1.17945306\n",
      "    1.21257151    1.24666579    1.28176643    1.31790031    1.35510097\n",
      "    1.39340055    1.43283204    1.47342942    1.51522707    1.5582619\n",
      "    1.60257056    1.64819237    1.69516694    1.74353512    1.79333903\n",
      "    1.84462203    1.89742881    1.95180545    2.0077994     2.06545961\n",
      "    2.12483648    2.18598194    2.24894949    2.31379431    2.38057322\n",
      "    2.4493448     2.52016942    2.59310926    2.66822842    2.74559294\n",
      "    2.81570954    2.86160168    2.90886384    2.95753755    3.00766559\n",
      "    3.05929206    3.1124624     3.16722344    3.22362342    3.28171209\n",
      "    3.34154069    3.40316203    3.46663053    4.17228411    5.03179102]\n",
      "perm_vec:  [0, 1]\n",
      "sizes after resize:  [100   1]\n",
      "tmp:  [[-128.22132355]\n",
      " [-128.22030887]\n",
      " [-128.22065055]\n",
      " [-128.22065055]\n",
      " [-128.22065055]\n",
      " [-128.22065055]\n",
      " [-128.22065055]\n",
      " [-128.22065055]\n",
      " [-128.22065055]\n",
      " [-128.22065055]\n",
      " [-128.22065055]\n",
      " [-128.22065055]\n",
      " [-128.22065055]\n",
      " [-128.22065055]\n",
      " [-128.22065055]\n",
      " [-128.22065055]\n",
      " [-128.22065055]\n",
      " [-128.22065055]\n",
      " [-128.22065055]\n",
      " [-128.22065055]\n",
      " [-128.22065055]\n",
      " [-128.22065055]\n",
      " [-128.22065055]\n",
      " [-128.22065055]\n",
      " [-128.22065055]\n",
      " [-128.22065055]\n",
      " [-128.22065055]\n",
      " [-128.22065055]\n",
      " [-128.22065055]\n",
      " [-128.22065055]\n",
      " [-128.22065055]\n",
      " [-128.22065055]\n",
      " [-128.22065055]\n",
      " [-128.22065055]\n",
      " [-128.22065055]\n",
      " [-128.22065055]\n",
      " [-128.22065055]\n",
      " [-128.22065055]\n",
      " [-128.22065055]\n",
      " [-128.22065055]\n",
      " [-128.22065055]\n",
      " [-128.22065055]\n",
      " [-128.22065055]\n",
      " [-128.22065055]\n",
      " [-128.22065055]\n",
      " [-128.22065055]\n",
      " [-128.22065055]\n",
      " [-128.22065055]\n",
      " [-128.22065055]\n",
      " [-128.22065055]\n",
      " [   1.0561881 ]\n",
      " [   1.08567188]\n",
      " [   1.11603392]\n",
      " [   1.14728147]\n",
      " [   1.17945306]\n",
      " [   1.21257151]\n",
      " [   1.24666579]\n",
      " [   1.28176643]\n",
      " [   1.31790031]\n",
      " [   1.35510097]\n",
      " [   1.39340055]\n",
      " [   1.43283204]\n",
      " [   1.47342942]\n",
      " [   1.51522707]\n",
      " [   1.5582619 ]\n",
      " [   1.60257056]\n",
      " [   1.64819237]\n",
      " [   1.69516694]\n",
      " [   1.74353512]\n",
      " [   1.79333903]\n",
      " [   1.84462203]\n",
      " [   1.89742881]\n",
      " [   1.95180545]\n",
      " [   2.0077994 ]\n",
      " [   2.06545961]\n",
      " [   2.12483648]\n",
      " [   2.18598194]\n",
      " [   2.24894949]\n",
      " [   2.31379431]\n",
      " [   2.38057322]\n",
      " [   2.4493448 ]\n",
      " [   2.52016942]\n",
      " [   2.59310926]\n",
      " [   2.66822842]\n",
      " [   2.74559294]\n",
      " [   2.81570954]\n",
      " [   2.86160168]\n",
      " [   2.90886384]\n",
      " [   2.95753755]\n",
      " [   3.00766559]\n",
      " [   3.05929206]\n",
      " [   3.1124624 ]\n",
      " [   3.16722344]\n",
      " [   3.22362342]\n",
      " [   3.28171209]\n",
      " [   3.34154069]\n",
      " [   3.40316203]\n",
      " [   3.46663053]\n",
      " [   4.17228411]\n",
      " [   5.03179102]]\n",
      "tmp:  [-128.22132355 -128.22030887 -128.22065055 -128.22065055 -128.22065055\n",
      " -128.22065055 -128.22065055 -128.22065055 -128.22065055 -128.22065055\n",
      " -128.22065055 -128.22065055 -128.22065055 -128.22065055 -128.22065055\n",
      " -128.22065055 -128.22065055 -128.22065055 -128.22065055 -128.22065055\n",
      " -128.22065055 -128.22065055 -128.22065055 -128.22065055 -128.22065055\n",
      " -128.22065055 -128.22065055 -128.22065055 -128.22065055 -128.22065055\n",
      " -128.22065055 -128.22065055 -128.22065055 -128.22065055 -128.22065055\n",
      " -128.22065055 -128.22065055 -128.22065055 -128.22065055 -128.22065055\n",
      " -128.22065055 -128.22065055 -128.22065055 -128.22065055 -128.22065055\n",
      " -128.22065055 -128.22065055 -128.22065055 -128.22065055 -128.22065055\n",
      "    1.0561881     1.08567188    1.11603392    1.14728147    1.17945306\n",
      "    1.21257151    1.24666579    1.28176643    1.31790031    1.35510097\n",
      "    1.39340055    1.43283204    1.47342942    1.51522707    1.5582619\n",
      "    1.60257056    1.64819237    1.69516694    1.74353512    1.79333903\n",
      "    1.84462203    1.89742881    1.95180545    2.0077994     2.06545961\n",
      "    2.12483648    2.18598194    2.24894949    2.31379431    2.38057322\n",
      "    2.4493448     2.52016942    2.59310926    2.66822842    2.74559294\n",
      "    2.81570954    2.86160168    2.90886384    2.95753755    3.00766559\n",
      "    3.05929206    3.1124624     3.16722344    3.22362342    3.28171209\n",
      "    3.34154069    3.40316203    3.46663053    4.17228411    5.03179102]\n",
      "subs :  [array(2) array([1, 2])]\n",
      "tmp:  [1.27836776 1.9761984 ]\n",
      "perm_vec:  [1, 0]\n",
      "sizes after resize:  [1, 2]\n",
      "tmp:  [[1.27836776 1.9761984 ]]\n",
      "tmp:  [1.27836776 1.9761984 ]\n"
     ]
    },
    {
     "data": {
      "text/plain": [
       "array([-128.22132355, -128.22030887, -128.22065055, -128.22065055,\n",
       "       -128.22065055, -128.22065055, -128.22065055, -128.22065055,\n",
       "       -128.22065055, -128.22065055, -128.22065055, -128.22065055,\n",
       "       -128.22065055, -128.22065055, -128.22065055, -128.22065055,\n",
       "       -128.22065055, -128.22065055, -128.22065055, -128.22065055,\n",
       "       -128.22065055, -128.22065055, -128.22065055, -128.22065055,\n",
       "       -128.22065055, -128.22065055, -128.22065055, -128.22065055,\n",
       "       -128.22065055, -128.22065055, -128.22065055, -128.22065055,\n",
       "       -128.22065055, -128.22065055, -128.22065055, -128.22065055,\n",
       "       -128.22065055, -128.22065055, -128.22065055, -128.22065055,\n",
       "       -128.22065055, -128.22065055, -128.22065055, -128.22065055,\n",
       "       -128.22065055, -128.22065055, -128.22065055, -128.22065055,\n",
       "       -128.22065055, -128.22065055,    1.0561881 ,    1.08567188,\n",
       "          1.11603392,    1.14728147,    1.17945306,    1.21257151,\n",
       "          1.24666579,    1.28176643,    1.31790031,    1.35510097,\n",
       "          1.39340055,    1.43283204,    1.47342942,    1.51522707,\n",
       "          1.5582619 ,    1.60257056,    1.64819237,    1.69516694,\n",
       "          1.74353512,    1.79333903,    1.84462203,    1.89742881,\n",
       "          1.95180545,    2.0077994 ,    2.06545961,    2.12483648,\n",
       "          2.18598194,    2.24894949,    2.31379431,    2.38057322,\n",
       "          2.4493448 ,    2.52016942,    2.59310926,    2.66822842,\n",
       "          2.74559294,    2.81570954,    2.86160168,    2.90886384,\n",
       "          2.95753755,    3.00766559,    3.05929206,    3.1124624 ,\n",
       "          3.16722344,    3.22362342,    3.28171209,    3.34154069,\n",
       "          3.40316203,    3.46663053,    4.17228411,    5.03179102,\n",
       "          1.27836776,    1.9761984 ])"
      ]
     },
     "execution_count": 66,
     "metadata": {},
     "output_type": "execute_result"
    }
   ],
   "source": [
    "Sest = dehankelize(t1) #'Dims'=[1, 1, 1])\n",
    "Sest"
   ]
  },
  {
   "cell_type": "code",
   "execution_count": 67,
   "id": "77837a6f",
   "metadata": {},
   "outputs": [
    {
     "data": {
      "text/plain": [
       "(102,)"
      ]
     },
     "execution_count": 67,
=======
     "execution_count": 405,
>>>>>>> 9e05b8ca9c4193a146432f004ec72b96a205d2c4
     "metadata": {},
     "output_type": "execute_result"
    }
   ],
   "source": [
<<<<<<< HEAD
    "Sest.shape"
   ]
  },
  {
   "cell_type": "code",
   "execution_count": 40,
   "id": "0326984e",
   "metadata": {},
   "outputs": [],
   "source": [
    "def multiway_decomp (U, alg = 3, rank = 2):\n",
    "    if alg == 1:\n",
    "        ## MPS / tensor train\n",
    "        from tensorly.decomposition import matrix_product_state \n",
    "        factors = matrix_product_state(U, rank=rank)\n",
    "        from tensorly import tt_to_tensor\n",
    "        S_Hankel = np.round(tt_to_tensor(factors))\n",
    "\n",
    "    elif alg == 2:\n",
    "        from tensorly.decomposition import tucker\n",
    "        core, factors = tucker(U, rank=rank)\n",
    "        from tensorly import tucker_to_tensor\n",
    "        S_Hankel = tucker_to_tensor(core, factors) # not working\n",
    "\n",
    "    elif alg == 3:\n",
    "        from tensorly.decomposition import constrained_parafac\n",
    "        core, factors = constrained_parafac(U, rank=rank, unimodality=True)\n",
    "        # reconstruct from parafac\n",
    "        S_Hankel = tl.cp_to_tensor((core, factors))\n",
    "\n",
    "    else: ## using parafac decomposition\n",
    "        from tensorly.decomposition import parafac\n",
    "        factors = parafac(U, rank=rank)\n",
    "        # reconstruct from parafac\n",
    "        S_Hankel = tl.cp_to_tensor(factors)\n",
    "    return S_Hankel, factors\n"
   ]
  },
  {
   "cell_type": "code",
   "execution_count": 72,
   "id": "df8e0a35",
   "metadata": {},
   "outputs": [],
   "source": [
    "rank = 3\n",
    "S_Hankel, factors = multiway_decomp(U, 4, rank)\n"
=======
    "factors = np.array(factors)\n",
    "factors.shape"
>>>>>>> 9e05b8ca9c4193a146432f004ec72b96a205d2c4
   ]
  },
  {
   "cell_type": "code",
<<<<<<< HEAD
   "execution_count": 73,
   "id": "1d5cb39a",
=======
   "execution_count": 406,
   "id": "03f85176",
>>>>>>> 9e05b8ca9c4193a146432f004ec72b96a205d2c4
   "metadata": {},
   "outputs": [
    {
     "data": {
      "text/plain": [
<<<<<<< HEAD
       "(weights, factors) : rank-3 CPTensor of shape (50, 51, 3) "
      ]
     },
     "execution_count": 73,
=======
       "(51, 4)"
      ]
     },
     "execution_count": 406,
>>>>>>> 9e05b8ca9c4193a146432f004ec72b96a205d2c4
     "metadata": {},
     "output_type": "execute_result"
    }
   ],
   "source": [
<<<<<<< HEAD
    "factors"
=======
    "factors[0].shape"
>>>>>>> 9e05b8ca9c4193a146432f004ec72b96a205d2c4
   ]
  },
  {
   "cell_type": "code",
<<<<<<< HEAD
   "execution_count": 42,
   "id": "faa0f3c7",
=======
   "execution_count": 407,
   "id": "8dd992c9",
>>>>>>> 9e05b8ca9c4193a146432f004ec72b96a205d2c4
   "metadata": {},
   "outputs": [
    {
     "data": {
      "text/plain": [
<<<<<<< HEAD
       "(50, 51, 3)"
      ]
     },
     "execution_count": 42,
=======
       "(1, 2, 51, 4)"
      ]
     },
     "execution_count": 407,
>>>>>>> 9e05b8ca9c4193a146432f004ec72b96a205d2c4
     "metadata": {},
     "output_type": "execute_result"
    }
   ],
   "source": [
<<<<<<< HEAD
    "S_Hankel.shape"
=======
    "t1 = np.stack((factors[0], factors[1]))\n",
    "t1 = np.array([t1]) # to be in cpd format as accepted in getstructure function\n",
    "t1.shape\n",
    "#t1 = t1.reshape((len(t1[0])))"
>>>>>>> 9e05b8ca9c4193a146432f004ec72b96a205d2c4
   ]
  },
  {
   "cell_type": "code",
<<<<<<< HEAD
   "execution_count": 43,
   "id": "fe315d35",
=======
   "execution_count": 408,
   "id": "53822800",
>>>>>>> 9e05b8ca9c4193a146432f004ec72b96a205d2c4
   "metadata": {},
   "outputs": [
    {
     "data": {
      "text/plain": [
<<<<<<< HEAD
       "array([[[ -4.32964435,  -0.91585623,  -0.91585623],\n",
       "        [ -4.44203543,  -0.94136759,  -0.94136759],\n",
       "        [ -4.5577082 ,  -0.96757022,  -0.96757022],\n",
       "        ...,\n",
       "        [-19.18384257,  -3.75468554,  -3.75468554],\n",
       "        [-22.86255276,  -1.94668221,  -1.94668221],\n",
       "        [ -9.54981846,  -1.94668221,  -1.94668221]],\n",
       "\n",
       "       [[ -4.45121631,  -0.94871897,  -0.94871897],\n",
       "        [ -4.56700903,  -0.97514491,  -0.97514491],\n",
       "        [ -4.68618361,  -1.00228649,  -1.00228649],\n",
       "        ...,\n",
       "        [-19.65521437,  -3.89085128,  -3.89085128],\n",
       "        [-23.12162803,  -2.01649734,  -2.01649734],\n",
       "        [ -9.80889373,  -2.01649734,  -2.01649734]],\n",
       "\n",
       "       [[ -3.65505463,  -0.97907219,  -0.97907219],\n",
       "        [ -3.7549929 ,  -1.00633973,  -1.00633973],\n",
       "        [ -3.8578664 ,  -1.03434366,  -1.03434366],\n",
       "        ...,\n",
       "        [-14.81001545,  -4.02221354,  -4.02221354],\n",
       "        [-11.42160773,  -2.08084242,  -2.08084242],\n",
       "        [ -7.87517484,  -2.08084242,  -2.08084242]],\n",
       "\n",
       "       ...,\n",
       "\n",
       "       [[-13.34049686,  -3.71746057,  -3.71746057],\n",
       "        [-13.71138676,  -3.82096677,  -3.82096677],\n",
       "        [-14.09318954,  -3.92725439,  -3.92725439],\n",
       "        ...,\n",
       "        [-52.37744167, -15.31904931, -15.31904931],\n",
       "        [-32.14325134,  -7.89963031,  -7.89963031],\n",
       "        [-28.51722565,  -7.89963031,  -7.89963031]],\n",
       "\n",
       "       [[-16.94292324,  -4.287606  ,  -4.287606  ],\n",
       "        [-17.4146103 ,  -4.40688743,  -4.40688743],\n",
       "        [-17.90017771,  -4.52932207,  -4.52932207],\n",
       "        ...,\n",
       "        [-66.34626883, -17.8449914 , -17.8449914 ],\n",
       "        [-39.82015541,  -9.10681852,  -9.10681852],\n",
       "        [-36.19412972,  -9.10681852,  -9.10681852]],\n",
       "\n",
       "       [[ -8.92224118,  -2.58765533,  -2.58765533],\n",
       "        [ -9.16950605,  -2.65973322,  -2.65973322],\n",
       "        [ -9.42404393,  -2.73376328,  -2.73376328],\n",
       "        ...,\n",
       "        [-35.24632934, -10.61159403, -10.61159403],\n",
       "        [-22.72775534,  -5.50006812,  -5.50006812],\n",
       "        [-19.10172965,  -5.50006812,  -5.50006812]]])"
      ]
     },
     "execution_count": 43,
=======
       "'cpd'"
      ]
     },
     "execution_count": 408,
>>>>>>> 9e05b8ca9c4193a146432f004ec72b96a205d2c4
     "metadata": {},
     "output_type": "execute_result"
    }
   ],
   "source": [
<<<<<<< HEAD
    "S_Hankel"
=======
    "getstructure(t1)"
>>>>>>> 9e05b8ca9c4193a146432f004ec72b96a205d2c4
   ]
  },
  {
   "cell_type": "code",
<<<<<<< HEAD
   "execution_count": 44,
   "id": "0a4f6f51",
=======
   "execution_count": 409,
   "id": "316e8b40",
>>>>>>> 9e05b8ca9c4193a146432f004ec72b96a205d2c4
   "metadata": {},
   "outputs": [
    {
     "name": "stdout",
     "output_type": "stream",
     "text": [
<<<<<<< HEAD
      "subs :  [Ellipsis 0 0]\n",
      "tmp:  [ -4.32964435  -4.45121631  -3.65505463  -3.7906947   -4.8977399\n",
      "  -4.96369758  -5.11959056  -5.26418716  -5.41315631  -5.56652611\n",
      "  -5.74347174  -5.90592503  -6.07330986  -6.2456513   -6.42309908\n",
      "  -6.6058075   -6.79393556  -6.99362704  -7.19306405  -7.39845423\n",
      "  -7.60995002  -7.82773617  -8.05200307  -8.28294692  -8.52076991\n",
      "  -8.76568039  -9.01789305  -9.27762917  -9.54511675  -9.82059076\n",
      " -10.10429333 -10.39647401 -10.69738992 -11.00730608 -11.32649558\n",
      " -11.65523983 -11.99382886 -12.34256156 -12.70126155 -12.91682159\n",
      " -13.09434082 -13.27693912 -13.34049686 -13.34049686 -13.34049686\n",
      " -13.34049686 -13.34049686 -13.34049686 -16.94292324  -8.92224118]\n",
      "perm_vec:  [0, 1, 2]\n",
      "sizes after resize:  [50  1]\n",
      "tmp:  [[ -4.32964435]\n",
      " [ -4.45121631]\n",
      " [ -3.65505463]\n",
      " [ -3.7906947 ]\n",
      " [ -4.8977399 ]\n",
      " [ -4.96369758]\n",
      " [ -5.11959056]\n",
      " [ -5.26418716]\n",
      " [ -5.41315631]\n",
      " [ -5.56652611]\n",
      " [ -5.74347174]\n",
      " [ -5.90592503]\n",
      " [ -6.07330986]\n",
      " [ -6.2456513 ]\n",
      " [ -6.42309908]\n",
      " [ -6.6058075 ]\n",
      " [ -6.79393556]\n",
      " [ -6.99362704]\n",
      " [ -7.19306405]\n",
      " [ -7.39845423]\n",
      " [ -7.60995002]\n",
      " [ -7.82773617]\n",
      " [ -8.05200307]\n",
      " [ -8.28294692]\n",
      " [ -8.52076991]\n",
      " [ -8.76568039]\n",
      " [ -9.01789305]\n",
      " [ -9.27762917]\n",
      " [ -9.54511675]\n",
      " [ -9.82059076]\n",
      " [-10.10429333]\n",
      " [-10.39647401]\n",
      " [-10.69738992]\n",
      " [-11.00730608]\n",
      " [-11.32649558]\n",
      " [-11.65523983]\n",
      " [-11.99382886]\n",
      " [-12.34256156]\n",
      " [-12.70126155]\n",
      " [-12.91682159]\n",
      " [-13.09434082]\n",
      " [-13.27693912]\n",
      " [-13.34049686]\n",
      " [-13.34049686]\n",
      " [-13.34049686]\n",
      " [-13.34049686]\n",
      " [-13.34049686]\n",
      " [-13.34049686]\n",
      " [-16.94292324]\n",
      " [ -8.92224118]]\n",
      "tmp:  [ -4.32964435  -4.45121631  -3.65505463  -3.7906947   -4.8977399\n",
      "  -4.96369758  -5.11959056  -5.26418716  -5.41315631  -5.56652611\n",
      "  -5.74347174  -5.90592503  -6.07330986  -6.2456513   -6.42309908\n",
      "  -6.6058075   -6.79393556  -6.99362704  -7.19306405  -7.39845423\n",
      "  -7.60995002  -7.82773617  -8.05200307  -8.28294692  -8.52076991\n",
      "  -8.76568039  -9.01789305  -9.27762917  -9.54511675  -9.82059076\n",
      " -10.10429333 -10.39647401 -10.69738992 -11.00730608 -11.32649558\n",
      " -11.65523983 -11.99382886 -12.34256156 -12.70126155 -12.91682159\n",
      " -13.09434082 -13.27693912 -13.34049686 -13.34049686 -13.34049686\n",
      " -13.34049686 -13.34049686 -13.34049686 -16.94292324  -8.92224118]\n",
      "subs :  [0\n",
      " array([ 1,  2,  3,  4,  5,  6,  7,  8,  9, 10, 11, 12, 13, 14, 15, 16, 17,\n",
      "        18, 19, 20, 21, 22, 23, 24, 25, 26, 27, 28, 29, 30, 31, 32, 33, 34,\n",
      "        35, 36, 37, 38, 39, 40, 41, 42, 43, 44, 45, 46, 47, 48, 49, 50],\n",
      "       dtype=int64)\n",
      " 0]\n",
      "tmp:  [ -4.44203543  -4.5577082   -4.67676257  -4.7993015   -4.92543114\n",
      "  -5.05526091  -5.18890359  -5.32647544  -5.46809631  -5.61388973\n",
      "  -5.76398305  -5.91850754  -6.07759851  -6.24139544  -6.41004213\n",
      "  -6.58368679  -6.76248239  -6.94658625  -7.13616071  -7.33137307\n",
      "  -7.53239578  -7.73940681  -7.95258948  -8.17213276  -8.39823145\n",
      "  -8.63108636  -8.87090449  -9.11789922  -9.37229052  -9.63430513\n",
      "  -9.9041768  -10.18214648 -10.46928281 -10.76594168 -11.07170996\n",
      " -11.38751645 -11.71616513 -12.07564237 -12.5485345  -13.18149384\n",
      " -13.81551485 -14.47886409 -15.17463402 -15.90666584 -16.69999612\n",
      " -17.49951536 -17.64135376 -19.18384257 -22.86255276  -9.54981846]\n",
      "perm_vec:  [1, 0, 2]\n",
      "sizes after resize:  [ 1 50]\n",
      "tmp:  [[ -4.44203543  -4.5577082   -4.67676257  -4.7993015   -4.92543114\n",
      "   -5.05526091  -5.18890359  -5.32647544  -5.46809631  -5.61388973\n",
      "   -5.76398305  -5.91850754  -6.07759851  -6.24139544  -6.41004213\n",
      "   -6.58368679  -6.76248239  -6.94658625  -7.13616071  -7.33137307\n",
      "   -7.53239578  -7.73940681  -7.95258948  -8.17213276  -8.39823145\n",
      "   -8.63108636  -8.87090449  -9.11789922  -9.37229052  -9.63430513\n",
      "   -9.9041768  -10.18214648 -10.46928281 -10.76594168 -11.07170996\n",
      "  -11.38751645 -11.71616513 -12.07564237 -12.5485345  -13.18149384\n",
      "  -13.81551485 -14.47886409 -15.17463402 -15.90666584 -16.69999612\n",
      "  -17.49951536 -17.64135376 -19.18384257 -22.86255276  -9.54981846]]\n",
      "tmp:  [ -4.44203543  -4.5577082   -4.67676257  -4.7993015   -4.92543114\n",
      "  -5.05526091  -5.18890359  -5.32647544  -5.46809631  -5.61388973\n",
      "  -5.76398305  -5.91850754  -6.07759851  -6.24139544  -6.41004213\n",
      "  -6.58368679  -6.76248239  -6.94658625  -7.13616071  -7.33137307\n",
      "  -7.53239578  -7.73940681  -7.95258948  -8.17213276  -8.39823145\n",
      "  -8.63108636  -8.87090449  -9.11789922  -9.37229052  -9.63430513\n",
      "  -9.9041768  -10.18214648 -10.46928281 -10.76594168 -11.07170996\n",
      " -11.38751645 -11.71616513 -12.07564237 -12.5485345  -13.18149384\n",
      " -13.81551485 -14.47886409 -15.17463402 -15.90666584 -16.69999612\n",
      " -17.49951536 -17.64135376 -19.18384257 -22.86255276  -9.54981846]\n",
      "subs :  [0 array(2, dtype=int64) array([1, 2], dtype=int64)]\n",
      "tmp:  [-0.96757022 -0.96757022]\n",
      "perm_vec:  [2, 1, 0]\n",
      "sizes after resize:  [1, 1, 2]\n",
      "tmp:  [[[-0.96757022 -0.96757022]]]\n",
      "tmp:  [-0.96757022 -0.96757022]\n"
     ]
    },
    {
     "name": "stderr",
     "output_type": "stream",
     "text": [
      "C:\\Users\\DELLPR~1\\AppData\\Local\\Temp/ipykernel_17972/2860940684.py:24: ComplexWarning: Casting complex values to real discards the imaginary part\n",
      "  w = np.round(np.fft.ifft(w)).astype(int)\n"
=======
      "cpd\n",
      "dims:  [1 2]\n",
      "rank:  4\n",
      "order:  2\n",
      "others:  [0 1]\n",
      "others:  []\n",
      "H.shape[1]:  51\n",
      "H.shape[0]:  2\n",
      "size_all:  [51 51]\n",
      "size_hankel:  [51 51]\n",
      "N:  101\n"
>>>>>>> 9e05b8ca9c4193a146432f004ec72b96a205d2c4
     ]
    },
    {
     "data": {
      "text/plain": [
<<<<<<< HEAD
       "(102,)"
      ]
     },
     "execution_count": 44,
=======
       "array([[ 9.75769769e-01-7.10542736e-14j, -4.89530734e+00+0.00000000e+00j,\n",
       "         2.46573063e+00+7.10542736e-15j,  3.98592878e-01-9.94759830e-14j],\n",
       "       [ 1.01608897e+00-3.55757090e-14j, -5.05905471e+00+6.09512441e-14j,\n",
       "         2.49758266e+00-1.49602553e-14j,  4.19504073e-01-2.08253553e-14j],\n",
       "       [ 1.05794528e+00-1.31376391e-15j, -5.22823367e+00+5.60292553e-14j,\n",
       "         2.52956653e+00+1.13982897e-14j,  4.41477710e-01-9.17784367e-15j],\n",
       "       [ 1.10139597e+00+8.43769499e-15j, -5.40302467e+00-9.25926003e-14j,\n",
       "         2.56166704e+00-2.77555756e-15j,  4.64566195e-01-8.35442826e-15j],\n",
       "       [ 1.14650043e+00+1.02140518e-14j, -5.58361418e+00-2.30926389e-14j,\n",
       "         2.59386803e+00-1.24344979e-15j,  4.88824449e-01-1.51434421e-14j],\n",
       "       [ 1.19332025e+00+4.14483263e-15j, -5.77019493e+00+5.15143483e-14j,\n",
       "         2.62615229e+00+7.40148683e-16j,  5.14310029e-01+6.18024150e-15j],\n",
       "       [ 1.24191933e+00+8.43769499e-15j, -5.96296610e+00-4.87229305e-14j,\n",
       "         2.65850154e+00+3.29894842e-15j,  5.41083252e-01+4.25056815e-15j],\n",
       "       [ 1.29236390e+00+1.00683351e-14j, -6.16213353e+00-2.58126853e-14j,\n",
       "         2.69089641e+00-3.16413562e-15j,  5.69207321e-01-8.95811203e-15j],\n",
       "       [ 1.34472270e+00-7.00674087e-15j, -6.36790994e+00+2.21057740e-14j,\n",
       "         2.72331633e+00-1.18423789e-15j,  5.98748465e-01+1.62832710e-15j],\n",
       "       [ 1.39906700e+00+8.97060204e-15j, -6.58051519e+00-2.38031816e-14j,\n",
       "         2.75573951e+00+0.00000000e+00j,  6.29776076e-01-4.21884749e-15j],\n",
       "       [ 1.45547070e+00-3.22973971e-16j, -6.80017651e+00-1.40493677e-14j,\n",
       "         2.78814289e+00+3.02788098e-15j,  6.62362861e-01-1.00954598e-14j],\n",
       "       [ 1.51401049e+00+0.00000000e+00j, -7.02712875e+00-3.61192557e-14j,\n",
       "         2.82050204e+00+5.92118946e-16j,  6.96584994e-01-3.18263934e-15j],\n",
       "       [ 1.57476588e+00+2.25460676e-15j, -7.26161461e+00+1.22978550e-14j,\n",
       "         2.85279118e+00-1.36642834e-16j,  7.32522277e-01-3.21110659e-15j],\n",
       "       [ 1.63781934e+00+5.32907052e-15j, -7.50388495e+00+1.11656716e-14j,\n",
       "         2.88498302e+00-7.61295788e-16j,  7.70258312e-01+4.44089210e-16j],\n",
       "       [ 1.70325642e+00-3.78956126e-15j, -7.75419904e+00+7.34227494e-15j,\n",
       "         2.91704877e+00-3.78956126e-15j,  8.09880678e-01+7.69754630e-16j],\n",
       "       [ 1.77116584e+00-2.22044605e-16j, -8.01282486e+00-4.44089210e-16j,\n",
       "         2.94895802e+00-2.66453526e-15j,  8.51481113e-01-3.10862447e-15j],\n",
       "       [ 1.84163962e+00+1.14679508e-14j, -8.28003938e+00-1.79725516e-14j,\n",
       "         2.98067872e+00-5.74703683e-16j,  8.95155710e-01+2.61228947e-17j],\n",
       "       [ 1.91477323e+00+1.20397519e-14j, -8.55612888e+00-1.22371249e-14j,\n",
       "         3.01217706e+00-3.94745964e-16j,  9.41005119e-01+5.13169754e-15j],\n",
       "       [ 1.99066565e+00+7.47939722e-16j, -8.84138923e+00+8.22733694e-15j,\n",
       "         3.04341740e+00-3.73969861e-16j,  9.89134758e-01-1.96334177e-15j],\n",
       "       [ 2.06941958e+00+5.77315973e-15j, -9.13612629e+00-1.42108547e-14j,\n",
       "         3.07436223e+00+1.77635684e-16j,  1.03965504e+00-2.93098879e-15j],\n",
       "       [ 2.15114153e+00+5.92118946e-16j, -9.44065617e+00-1.48875621e-14j,\n",
       "         3.10497202e+00-5.07530526e-16j,  1.09268158e+00+4.41974499e-15j],\n",
       "       [ 2.23594198e+00-1.29189588e-15j, -9.75530562e+00+1.29189588e-15j,\n",
       "         3.13520519e+00-3.22973971e-16j,  1.14833549e+00-1.93784382e-15j],\n",
       "       [ 2.32393553e+00-4.63397436e-15j, -1.00804124e+01+1.35929915e-14j,\n",
       "         3.16501800e+00-2.16252137e-15j,  1.20674357e+00-2.47145299e-15j],\n",
       "       [ 2.41524103e+00+7.54951657e-15j, -1.04163256e+01-1.12502600e-14j,\n",
       "         3.19436445e+00-5.92118946e-16j,  1.26803860e+00+3.47869881e-15j],\n",
       "       [ 2.50998179e+00+2.70006240e-15j, -1.07634060e+01-3.41060513e-15j,\n",
       "         3.22319618e+00-1.42108547e-15j,  1.33235964e+00+1.35003120e-15j],\n",
       "       [ 2.60828568e+00-2.73285668e-16j, -1.11220268e+01+3.27942801e-15j,\n",
       "         3.25146237e+00-2.18628534e-15j,  1.39985227e+00-2.18628534e-15j],\n",
       "       [ 2.71028538e+00+5.26327952e-15j, -1.14925734e+01+2.10531181e-15j,\n",
       "         3.27910966e+00-1.84214783e-15j,  1.47066894e+00+1.84214783e-15j],\n",
       "       [ 2.81611847e+00-2.03012210e-15j, -1.18754446e+01+1.72560379e-14j,\n",
       "         3.30608197e+00-1.26882631e-15j,  1.54496925e+00-3.55271368e-15j],\n",
       "       [ 2.92592771e+00+4.90029473e-16j, -1.22710522e+01-6.86041262e-15j,\n",
       "         3.33232048e+00-1.22507368e-15j,  1.62292030e+00+3.79772842e-15j],\n",
       "       [ 3.03986115e+00-1.18423789e-15j, -1.26798221e+01+1.04212935e-14j,\n",
       "         3.35776343e+00-1.65793305e-15j,  1.70469703e+00+3.55271368e-16j],\n",
       "       [ 3.15807239e+00-1.48984767e-15j, -1.31021948e+01-1.05435374e-14j,\n",
       "         3.38234602e+00-9.16829336e-16j,  1.79048257e+00+5.15716502e-16j],\n",
       "       [ 3.28072074e+00+4.32986980e-15j, -1.35386253e+01-1.11022302e-15j,\n",
       "         3.40600032e+00+2.77555756e-16j,  1.88046864e+00+3.58046925e-15j],\n",
       "       [ 3.40797146e+00-1.50721186e-15j, -1.39895842e+01+1.03351671e-14j,\n",
       "         3.42865507e+00+2.15315981e-16j,  1.97485593e+00-1.93784382e-15j],\n",
       "       [ 3.53999601e+00+3.13474736e-15j, -1.44555578e+01-1.67186526e-14j,\n",
       "         3.45023556e+00+0.00000000e+00j,  2.07385451e+00+1.04491579e-15j],\n",
       "       [ 3.67697222e+00+6.09036631e-16j, -1.49370489e+01-7.30843957e-15j,\n",
       "         3.47066352e+00-6.09036631e-16j,  2.17768427e+00+2.13162821e-15j],\n",
       "       [ 3.81908459e+00-1.97372982e-16j, -1.54345775e+01+1.50003466e-14j,\n",
       "         3.48985693e+00-1.18423789e-15j,  2.28657536e+00-9.86864911e-17j],\n",
       "       [ 3.96652449e+00+2.68854008e-15j, -1.59486809e+01+1.22904689e-14j,\n",
       "         3.50772985e+00-2.11242435e-15j,  2.40076866e+00-5.76115732e-16j],\n",
       "       [ 4.11949046e+00+1.58937191e-15j, -1.64799148e+01-7.85336708e-15j,\n",
       "         3.52419232e+00+4.67462326e-16j,  2.52051629e+00+2.89826642e-15j],\n",
       "       [ 4.27818846e+00+1.09314267e-15j, -1.70288535e+01+1.45752356e-15j,\n",
       "         3.53915009e+00-3.64380890e-16j,  2.64608210e+00+1.45752356e-15j],\n",
       "       [ 4.44283215e+00-2.13162821e-15j, -1.75960909e+01+4.97379915e-15j,\n",
       "         3.55250455e+00-1.24344979e-15j,  2.77774222e+00+8.88178420e-17j],\n",
       "       [ 4.61364319e+00+3.81266834e-15j, -1.81822408e+01-1.38642485e-15j,\n",
       "         3.56415245e+00-8.66515531e-16j,  2.91578563e+00+3.46606213e-16j],\n",
       "       [ 4.79085152e+00+2.70682947e-15j, -1.87879382e+01-1.21807326e-14j,\n",
       "         3.57398576e+00+1.69176842e-16j,  3.06051472e+00+2.87600631e-15j],\n",
       "       [ 4.97469568e+00-2.06553121e-15j, -1.94138392e+01-5.28775989e-15j,\n",
       "         3.58189146e+00+8.26212483e-17j,  3.21224593e+00+4.13106242e-17j],\n",
       "       [ 5.16542317e+00+6.45947942e-16j, -2.00606224e+01+0.00000000e+00j,\n",
       "         3.58775131e+00+0.00000000e+00j,  3.37131037e+00+3.55271368e-15j],\n",
       "       [ 5.36329074e+00+2.21057740e-15j, -2.07289893e+01-3.78956126e-15j,\n",
       "         3.59144168e+00+3.15796771e-16j,  3.53805451e+00+2.84217094e-15j],\n",
       "       [ 5.56856474e+00+1.85358975e-15j, -2.14196652e+01-4.32504274e-15j,\n",
       "         3.59283327e+00+7.72329061e-16j,  3.71284085e+00+3.47548077e-15j],\n",
       "       [ 5.78152151e+00-6.04717222e-16j, -2.21334001e+01+9.07075833e-15j,\n",
       "         3.59179089e+00-7.55896527e-16j,  3.89604870e+00-2.94799646e-15j],\n",
       "       [ 6.00244777e+00+2.96059473e-15j, -2.28709694e+01-1.18423789e-15j,\n",
       "         3.58817324e+00-1.48029737e-16j,  4.08807487e+00+1.77635684e-15j],\n",
       "       [ 6.23164094e+00-5.80034886e-16j, -2.36331749e+01-2.32013955e-15j,\n",
       "         3.58183263e+00+0.00000000e+00j,  4.28933454e+00+2.90017443e-16j],\n",
       "       [ 6.46940964e+00-5.68434189e-16j, -2.44208456e+01+0.00000000e+00j,\n",
       "         3.57261473e+00+5.68434189e-16j,  4.50026207e+00+1.13686838e-15j],\n",
       "       [ 6.71607401e+00-2.22915368e-15j, -2.52348386e+01+4.45830736e-15j,\n",
       "         3.56035828e+00-5.57288420e-16j,  4.72131182e+00-5.57288420e-16j],\n",
       "       [ 6.97192650e+00+0.00000000e+00j, -2.60731648e+01+2.27373675e-15j,\n",
       "         3.54453456e+00-2.84217094e-16j,  4.95485234e+00+2.84217094e-16j],\n",
       "       [ 7.23725216e+00+1.16006977e-15j, -2.69392819e+01-2.32013955e-15j,\n",
       "         3.52553081e+00+2.90017443e-16j,  5.19991458e+00+1.74010466e-15j],\n",
       "       [ 7.51240046e+00-5.92118946e-16j, -2.78341159e+01+2.36847579e-15j,\n",
       "         3.50318012e+00-8.88178420e-16j,  5.45705345e+00+8.88178420e-16j],\n",
       "       [ 7.79773382e+00-4.23302055e-15j, -2.87586237e+01+9.67547555e-15j,\n",
       "         3.47730842e+00-1.51179305e-16j,  5.72684995e+00-1.81415167e-15j],\n",
       "       [ 8.09362809e+00-1.85358975e-15j, -2.97137945e+01+9.26794873e-15j,\n",
       "         3.44773413e+00+0.00000000e+00j,  6.00991229e+00+3.08931624e-16j],\n",
       "       [ 8.40047308e+00+3.15796771e-16j, -3.07006508e+01+2.52637417e-15j,\n",
       "         3.41426793e+00-2.36847579e-16j,  6.30687718e+00+6.31593543e-16j],\n",
       "       [ 8.71867306e+00+6.45947942e-16j, -3.17202493e+01+5.16758353e-15j,\n",
       "         3.37671240e+00+9.68921912e-16j,  6.61841112e+00+6.45947942e-16j],\n",
       "       [ 9.04864733e+00+1.32193997e-15j, -3.27736825e+01+0.00000000e+00j,\n",
       "         3.33486170e+00+6.60969987e-16j,  6.94521177e+00+1.98290996e-15j],\n",
       "       [ 9.39083073e+00-3.38353684e-16j, -3.38620795e+01+4.06024420e-15j,\n",
       "         3.28850127e+00-2.96059473e-16j,  7.28800936e+00+2.70682947e-15j],\n",
       "       [ 9.74567427e+00-2.77284970e-15j, -3.49866074e+01+5.54569940e-15j,\n",
       "         3.23740743e+00-1.73303106e-16j,  7.64756822e+00+1.73303106e-15j],\n",
       "       [ 1.01136457e+01+0.00000000e+00j, -3.61484730e+01+5.68434189e-15j,\n",
       "         3.18134706e+00+1.24344979e-15j,  8.02468826e+00+3.55271368e-15j],\n",
       "       [ 1.04952303e+01+1.82190445e-15j, -3.73489232e+01+4.37257068e-15j,\n",
       "         3.12007719e+00-4.55476113e-16j,  8.42020667e+00+7.28761780e-16j],\n",
       "       [ 1.08909311e+01+7.47939722e-16j, -3.85892474e+01+0.00000000e+00j,\n",
       "         3.05334463e+00+1.68286437e-15j,  8.83499960e+00+7.47939722e-16j],\n",
       "       [ 1.13012701e+01+1.15223146e-15j, -3.98707783e+01-3.84077154e-15j,\n",
       "         2.98088555e+00+5.76115732e-16j,  9.26998390e+00+1.72834720e-15j],\n",
       "       [ 1.17267886e+01-2.36847579e-15j, -4.11948936e+01+6.31593543e-15j,\n",
       "         2.90242507e+00-1.18423789e-15j,  9.72611900e+00+0.00000000e+00j],\n",
       "       [ 1.21680482e+01-1.62409768e-15j, -4.25630174e+01+3.24819536e-15j,\n",
       "         2.81767681e+00+8.12048841e-16j,  1.02044089e+01+8.12048841e-16j],\n",
       "       [ 1.26256311e+01-4.17966315e-16j, -4.39766222e+01-6.68746104e-15j,\n",
       "         2.72634242e+00+0.00000000e+00j,  1.07059039e+01+2.50779789e-15j],\n",
       "       [ 1.31001415e+01-1.72252784e-15j, -4.54372298e+01+0.00000000e+00j,\n",
       "         2.62811116e+00+6.45947942e-16j,  1.12317034e+01+2.58379177e-15j],\n",
       "       [ 1.35922060e+01-1.77635684e-15j, -4.69464138e+01+7.10542736e-15j,\n",
       "         2.52265932e+00+2.22044605e-16j,  1.17829573e+01-8.88178420e-16j],\n",
       "       [ 1.41024745e+01+2.29207334e-16j, -4.85058008e+01-5.95939069e-15j,\n",
       "         2.40964980e+00+1.66175317e-15j,  1.23608686e+01-8.02225669e-16j],\n",
       "       [ 1.46316211e+01-1.42108547e-15j, -5.01170726e+01+3.78956126e-15j,\n",
       "         2.28873151e+00+0.00000000e+00j,  1.29666962e+01-9.47390314e-16j],\n",
       "       [ 1.51803452e+01+2.94017684e-15j, -5.17819675e+01-7.84047157e-15j,\n",
       "         2.15953885e+00+1.22507368e-15j,  1.36017570e+01-9.80058946e-16j],\n",
       "       [ 1.57493722e+01+1.01506105e-15j, -5.35022831e+01-1.21807326e-14j,\n",
       "         2.02169114e+00+1.01506105e-15j,  1.42674283e+01+4.06024420e-15j],\n",
       "       [ 1.63394544e+01+4.21062362e-15j, -5.52798777e+01-4.21062362e-15j,\n",
       "         1.87479200e+00+6.57909941e-16j,  1.49651513e+01+5.26327952e-15j],\n",
       "       [ 1.69513725e+01+0.00000000e+00j, -5.71166724e+01+8.74514136e-15j,\n",
       "         1.71842874e+00+1.36642834e-16j,  1.56964333e+01+2.18628534e-15j],\n",
       "       [ 1.75859361e+01-3.41060513e-15j, -5.90146535e+01-4.54747351e-15j,\n",
       "         1.55217175e+00+1.27897692e-15j,  1.64628509e+01-3.41060513e-15j],\n",
       "       [ 1.82439852e+01-5.92118946e-15j, -6.09758746e+01+9.47390314e-15j,\n",
       "         1.37557377e+00-1.11022302e-15j,  1.72660533e+01-1.18423789e-15j],\n",
       "       [ 1.89263910e+01+2.47145299e-15j, -6.30024592e+01-9.88581198e-15j,\n",
       "         1.18816925e+00+4.32504274e-15j,  1.81077653e+01+0.00000000e+00j],\n",
       "       [ 1.96340575e+01+6.45947942e-15j, -6.50966024e+01-1.03351671e-14j,\n",
       "         9.89473603e-01+1.21115239e-15j,  1.89897910e+01+2.58379177e-15j],\n",
       "       [ 2.03679222e+01+5.41365894e-15j, -6.72605742e+01-1.08273179e-14j,\n",
       "         7.78982461e-01+3.80647894e-15j,  1.99140171e+01+1.35341473e-15j],\n",
       "       [ 2.11289579e+01+1.42108547e-15j, -6.94967213e+01-1.42108547e-15j,\n",
       "         5.56170903e-01+1.79856130e-15j,  2.08824166e+01+6.39488462e-15j],\n",
       "       [ 2.19181738e+01+0.00000000e+00j, -7.18074704e+01+5.98351777e-15j,\n",
       "         3.20492640e-01+3.97342977e-16j,  2.18970530e+01-2.24381917e-15j],\n",
       "       [ 2.27366167e+01-3.15796771e-15j, -7.41953307e+01+6.31593543e-15j,\n",
       "         7.13791825e-02+2.89891568e-15j,  2.29600841e+01-3.15796771e-15j],\n",
       "       [ 2.35853727e+01-1.67186526e-15j, -7.66628963e+01+2.67498442e-14j,\n",
       "        -1.91761036e-01-3.78781973e-16j,  2.40737664e+01+1.67186526e-15j],\n",
       "       [ 2.44655684e+01-6.66133815e-15j, -7.92128499e+01+1.24344979e-14j,\n",
       "        -4.69543562e-01+5.34294831e-16j,  2.52404592e+01-4.44089210e-15j],\n",
       "       [ 2.53783730e+01-3.78956126e-15j, -8.18479654e+01-2.27373675e-14j,\n",
       "        -7.62608861e-01+5.62512999e-15j,  2.64626299e+01+3.78956126e-15j],\n",
       "       [ 2.63249990e+01-1.21807326e-14j, -8.45711111e+01+4.06024420e-14j,\n",
       "        -1.07162329e+00+5.07530526e-16j,  2.77428578e+01-4.06024420e-15j],\n",
       "       [ 2.73067048e+01-1.09314267e-14j, -8.73852527e+01+8.74514136e-15j,\n",
       "        -1.39728013e+00+4.78249918e-15j,  2.90838403e+01-1.53039974e-14j],\n",
       "       [ 2.83247956e+01+2.36847579e-15j, -9.02934573e+01+2.13162821e-14j,\n",
       "        -1.74030061e+00+3.70074342e-15j,  3.04883973e+01-3.55271368e-15j],\n",
       "       [ 2.93806258e+01+0.00000000e+00j, -9.32988964e+01-1.55027506e-14j,\n",
       "        -2.10143503e+00+3.55271368e-15j,  3.19594769e+01+7.75137530e-15j],\n",
       "       [ 3.04756006e+01-1.06581410e-15j, -9.64048495e+01-4.61852778e-15j,\n",
       "        -2.48146386e+00+5.44009282e-16j,  3.35001615e+01-2.66453526e-15j],\n",
       "       [ 3.16111779e+01+6.31593543e-15j, -9.96147080e+01+6.31593543e-15j,\n",
       "        -2.88119898e+00+5.52644350e-15j,  3.51136734e+01+3.15796771e-15j],\n",
       "       [ 3.27888702e+01-1.77635684e-15j, -1.02931979e+02-5.68434189e-14j,\n",
       "        -3.30148483e+00+2.22044605e-15j,  3.68033811e+01-5.32907052e-15j],\n",
       "       [ 3.40102470e+01-9.64307999e-15j, -1.06360290e+02+1.21807326e-14j,\n",
       "        -3.74319975e+00+4.09196486e-15j,  3.85728060e+01-2.03012210e-14j],\n",
       "       [ 3.52769366e+01-1.65793305e-14j, -1.09903390e+02+1.89478063e-14j,\n",
       "        -4.20725727e+00+4.44089210e-15j,  4.04256291e+01-1.89478063e-14j],\n",
       "       [ 3.65906287e+01-2.84217094e-15j, -1.13565160e+02-2.27373675e-14j,\n",
       "        -4.69460746e+00+7.46069873e-15j,  4.23656982e+01-8.52651283e-15j],\n",
       "       [ 3.79530764e+01+1.24344979e-14j, -1.17349610e+02-7.81597009e-14j,\n",
       "        -5.20623843e+00+1.02140518e-14j,  4.43970351e+01+1.42108547e-14j],\n",
       "       [ 3.93660986e+01-3.67113747e-14j, -1.21260889e+02+4.26325641e-14j,\n",
       "        -5.74317772e+00+2.96059473e-16j,  4.65238437e+01-4.50010399e-14j],\n",
       "       [ 4.08315827e+01-4.44089210e-15j, -1.25303287e+02+3.90798505e-14j,\n",
       "        -6.30649391e+00+8.21565038e-15j,  4.87505181e+01-2.66453526e-15j],\n",
       "       [ 4.23514873e+01-6.39488462e-14j, -1.29481242e+02+4.57411886e-13j,\n",
       "        -6.89729818e+00+1.69309011e-14j,  5.10816504e+01-1.60982339e-13j]])"
      ]
     },
     "execution_count": 409,
>>>>>>> 9e05b8ca9c4193a146432f004ec72b96a205d2c4
     "metadata": {},
     "output_type": "execute_result"
    }
   ],
   "source": [
<<<<<<< HEAD
    "S_Hankel = dehankelize(S_Hankel) \n",
    "S_Hankel.shape"
=======
    "Sest = dehankelize(t1) #'Dims'=[1, 1, 1])\n",
    "Sest"
>>>>>>> 9e05b8ca9c4193a146432f004ec72b96a205d2c4
   ]
  },
  {
   "cell_type": "code",
<<<<<<< HEAD
   "execution_count": 45,
   "id": "46baf203",
=======
   "execution_count": 410,
   "id": "ecb41cdb",
>>>>>>> 9e05b8ca9c4193a146432f004ec72b96a205d2c4
   "metadata": {},
   "outputs": [
    {
     "data": {
      "text/plain": [
<<<<<<< HEAD
       "(102,)"
      ]
     },
     "execution_count": 45,
=======
       "(101, 4)"
      ]
     },
     "execution_count": 410,
>>>>>>> 9e05b8ca9c4193a146432f004ec72b96a205d2c4
     "metadata": {},
     "output_type": "execute_result"
    }
   ],
   "source": [
<<<<<<< HEAD
    "S_Hankel.shape"
   ]
  },
  {
   "cell_type": "code",
   "execution_count": 46,
   "id": "d6d46a13",
   "metadata": {},
   "outputs": [
    {
     "ename": "ValueError",
     "evalue": "shapes (102,) and (3,3) not aligned: 102 (dim 0) != 3 (dim 0)",
     "output_type": "error",
     "traceback": [
      "\u001b[1;31m---------------------------------------------------------------------------\u001b[0m",
      "\u001b[1;31mValueError\u001b[0m                                Traceback (most recent call last)",
      "\u001b[1;32mC:\\Users\\DELLPR~1\\AppData\\Local\\Temp/ipykernel_17972/3200226629.py\u001b[0m in \u001b[0;36m<module>\u001b[1;34m\u001b[0m\n\u001b[1;32m----> 1\u001b[1;33m \u001b[1;32massert\u001b[0m \u001b[0mnp\u001b[0m\u001b[1;33m.\u001b[0m\u001b[0mallclose\u001b[0m\u001b[1;33m(\u001b[0m\u001b[0mX\u001b[0m\u001b[1;33m,\u001b[0m \u001b[0mnp\u001b[0m\u001b[1;33m.\u001b[0m\u001b[0mdot\u001b[0m\u001b[1;33m(\u001b[0m\u001b[0mS_Hankel\u001b[0m\u001b[1;33m,\u001b[0m \u001b[0mM\u001b[0m\u001b[1;33m.\u001b[0m\u001b[0mT\u001b[0m\u001b[1;33m)\u001b[0m \u001b[1;33m)\u001b[0m\u001b[1;33m\u001b[0m\u001b[1;33m\u001b[0m\u001b[0m\n\u001b[0m",
      "\u001b[1;32mC:\\ProgramData\\Anaconda3\\lib\\site-packages\\numpy\\core\\overrides.py\u001b[0m in \u001b[0;36mdot\u001b[1;34m(*args, **kwargs)\u001b[0m\n",
      "\u001b[1;31mValueError\u001b[0m: shapes (102,) and (3,3) not aligned: 102 (dim 0) != 3 (dim 0)"
     ]
    }
   ],
   "source": [
    "assert np.allclose(X, np.dot(S_Hankel, M.T) )"
   ]
  },
  {
   "cell_type": "code",
   "execution_count": 47,
   "id": "00f0f647",
   "metadata": {},
   "outputs": [],
   "source": [
    "if S_Hankel.shape[0] > S.shape[0]: # trim the extra, up to here we reproduce the matlab code\n",
    "    S_Hankel = np.resize(S_Hankel, (S.shape[0]))"
   ]
  },
  {
   "cell_type": "code",
   "execution_count": 68,
   "id": "3d04230a",
   "metadata": {},
   "outputs": [],
   "source": [
    "if Sest.shape[0] > S.shape[0]: # trim the extra, up to here we reproduce the matlab code\n",
    "    Sest = np.resize(Sest, (S.shape[0]))"
   ]
  },
  {
   "cell_type": "code",
   "execution_count": 48,
   "id": "19b4dad1",
   "metadata": {},
   "outputs": [],
   "source": [
    "#Sest = np.array([Sest, Sest*2, Sest*3]).T  # estimate the multiple sources from the main factor "
=======
    "S.shape"
>>>>>>> 9e05b8ca9c4193a146432f004ec72b96a205d2c4
   ]
  },
  {
   "cell_type": "code",
<<<<<<< HEAD
   "execution_count": 49,
   "id": "bcc612ef",
=======
   "execution_count": 411,
   "id": "d2b952b4",
>>>>>>> 9e05b8ca9c4193a146432f004ec72b96a205d2c4
   "metadata": {},
   "outputs": [
    {
     "data": {
      "text/plain": [
<<<<<<< HEAD
       "(100,)"
      ]
     },
     "execution_count": 49,
=======
       "(101, 4)"
      ]
     },
     "execution_count": 411,
>>>>>>> 9e05b8ca9c4193a146432f004ec72b96a205d2c4
     "metadata": {},
     "output_type": "execute_result"
    }
   ],
   "source": [
<<<<<<< HEAD
    "S_Hankel.shape"
=======
    "Sest.shape"
>>>>>>> 9e05b8ca9c4193a146432f004ec72b96a205d2c4
   ]
  },
  {
   "cell_type": "code",
<<<<<<< HEAD
   "execution_count": 50,
   "id": "f7726859",
   "metadata": {},
   "outputs": [
    {
     "data": {
      "text/plain": [
       "(100, 3)"
      ]
     },
     "execution_count": 50,
=======
   "execution_count": 412,
   "id": "f57a59d0",
   "metadata": {},
   "outputs": [
    {
     "name": "stderr",
     "output_type": "stream",
     "text": [
      "C:\\Users\\DELLPR~1\\AppData\\Local\\Temp/ipykernel_7196/3488572057.py:1: ComplexWarning: Casting complex values to real discards the imaginary part\n",
      "  RMSE_Han = math.sqrt(np.square(np.subtract(S,Sest)).mean() )\n"
     ]
    },
    {
     "data": {
      "text/plain": [
       "28.670591302866082"
      ]
     },
     "execution_count": 412,
>>>>>>> 9e05b8ca9c4193a146432f004ec72b96a205d2c4
     "metadata": {},
     "output_type": "execute_result"
    }
   ],
   "source": [
<<<<<<< HEAD
    "S.shape"
=======
    "RMSE_Han = math.sqrt(np.square(np.subtract(S,Sest)).mean() )\n",
    "RMSE_Han"
>>>>>>> 9e05b8ca9c4193a146432f004ec72b96a205d2c4
   ]
  },
  {
   "cell_type": "code",
<<<<<<< HEAD
   "execution_count": 69,
=======
   "execution_count": 433,
>>>>>>> 9e05b8ca9c4193a146432f004ec72b96a205d2c4
   "id": "2f5c329b",
   "metadata": {},
   "outputs": [
    {
<<<<<<< HEAD
     "data": {
      "text/plain": [
       "91.58204147909606"
      ]
     },
     "execution_count": 69,
     "metadata": {},
     "output_type": "execute_result"
=======
     "name": "stdout",
     "output_type": "stream",
     "text": [
      "RMSE_Hankel1:  14.308862490470494\n",
      "RMSE_Hankel2:  54.734302088590766\n",
      "RMSE_Hankel3:  8.83446499382776\n",
      "RMSE_Hankel4:  3.062038536734693\n",
      "RMSE_Han_1:  80.93966810962371\n"
     ]
    },
    {
     "name": "stderr",
     "output_type": "stream",
     "text": [
      "C:\\Users\\DELLPR~1\\AppData\\Local\\Temp/ipykernel_7196/1692627490.py:5: ComplexWarning: Casting complex values to real discards the imaginary part\n",
      "  RMSE_Hankel1 = math.sqrt(np.square(np.subtract(S[:,0],Sest[:,0])).mean() ) # the factor that we identified with the first source\n",
      "C:\\Users\\DELLPR~1\\AppData\\Local\\Temp/ipykernel_7196/1692627490.py:7: ComplexWarning: Casting complex values to real discards the imaginary part\n",
      "  RMSE_Hankel2 = math.sqrt(np.square(np.subtract(S[:,1],Sest[:,1])).mean() ) # with the second source\n",
      "C:\\Users\\DELLPR~1\\AppData\\Local\\Temp/ipykernel_7196/1692627490.py:9: ComplexWarning: Casting complex values to real discards the imaginary part\n",
      "  RMSE_Hankel3 = math.sqrt(np.square(np.subtract(S[:,2],Sest[:,2])).mean() ) # with the third source\n",
      "C:\\Users\\DELLPR~1\\AppData\\Local\\Temp/ipykernel_7196/1692627490.py:11: ComplexWarning: Casting complex values to real discards the imaginary part\n",
      "  RMSE_Hankel4 = math.sqrt(np.square(np.subtract(S[:,3],Sest[:,3])).mean() ) # with the third source\n"
     ]
>>>>>>> 9e05b8ca9c4193a146432f004ec72b96a205d2c4
    }
   ],
   "source": [
    "import math\n",
    "\n",
    "# Error calculation\n",
    "#RMSE_Hankel = math.sqrt(np.square(np.subtract(S,Sest)).mean() )\n",
<<<<<<< HEAD
    "RMSE_Hankel1 = math.sqrt(np.square(np.subtract(S[:,0],Sest)).mean() )\n",
    "RMSE_Hankel2 = math.sqrt(np.square(np.subtract(S[:,1],Sest)).mean() )\n",
    "RMSE_Hankel3 = math.sqrt(np.square(np.subtract(S[:,2],Sest)).mean() )\n",
    "RMSE_Hankel1"
=======
    "RMSE_Hankel1 = math.sqrt(np.square(np.subtract(S[:,0],Sest[:,0])).mean() ) # the factor that we identified with the first source\n",
    "print (\"RMSE_Hankel1: \", RMSE_Hankel1)\n",
    "RMSE_Hankel2 = math.sqrt(np.square(np.subtract(S[:,1],Sest[:,1])).mean() ) # with the second source\n",
    "print (\"RMSE_Hankel2: \", RMSE_Hankel2)\n",
    "RMSE_Hankel3 = math.sqrt(np.square(np.subtract(S[:,2],Sest[:,2])).mean() ) # with the third source\n",
    "print (\"RMSE_Hankel3: \", RMSE_Hankel3)\n",
    "RMSE_Hankel4 = math.sqrt(np.square(np.subtract(S[:,3],Sest[:,3])).mean() ) # with the third source\n",
    "print (\"RMSE_Hankel4: \", RMSE_Hankel4)\n",
    "RMSE_Han_1 = RMSE_Hankel1 + RMSE_Hankel2 + RMSE_Hankel3 + RMSE_Hankel4\n",
    "print (\"RMSE_Han_1: \", RMSE_Han_1)"
   ]
  },
  {
   "cell_type": "code",
   "execution_count": 434,
   "id": "76eccf65",
   "metadata": {},
   "outputs": [
    {
     "name": "stdout",
     "output_type": "stream",
     "text": [
      "RMSE_Hankel12:  52.75298406381428\n",
      "RMSE_Hankel23:  4.366098162731888\n",
      "RMSE_Hankel34:  9.07475290814432\n",
      "RMSE_Hankel41:  3.8150297934556767\n",
      "RMSE_Han_2:  70.00886492814617\n"
     ]
    },
    {
     "name": "stderr",
     "output_type": "stream",
     "text": [
      "C:\\Users\\DELLPR~1\\AppData\\Local\\Temp/ipykernel_7196/1038361472.py:1: ComplexWarning: Casting complex values to real discards the imaginary part\n",
      "  RMSE_Hankel12 = math.sqrt(np.square(np.subtract(S[:,0],Sest[:,1])).mean() ) # the factor that we identified with the first source\n",
      "C:\\Users\\DELLPR~1\\AppData\\Local\\Temp/ipykernel_7196/1038361472.py:3: ComplexWarning: Casting complex values to real discards the imaginary part\n",
      "  RMSE_Hankel23 = math.sqrt(np.square(np.subtract(S[:,1],Sest[:,2])).mean() ) # with the second source\n",
      "C:\\Users\\DELLPR~1\\AppData\\Local\\Temp/ipykernel_7196/1038361472.py:5: ComplexWarning: Casting complex values to real discards the imaginary part\n",
      "  RMSE_Hankel34 = math.sqrt(np.square(np.subtract(S[:,2],Sest[:,3])).mean() ) # with the third source\n",
      "C:\\Users\\DELLPR~1\\AppData\\Local\\Temp/ipykernel_7196/1038361472.py:7: ComplexWarning: Casting complex values to real discards the imaginary part\n",
      "  RMSE_Hankel41 = math.sqrt(np.square(np.subtract(S[:,3],Sest[:,0])).mean() ) # with the third source\n"
     ]
    }
   ],
   "source": [
    "# trying if different arrangment of sources could minimise the total error, but the first arrangement is the best\n",
    "RMSE_Hankel12 = math.sqrt(np.square(np.subtract(S[:,0],Sest[:,1])).mean() ) # the factor that we identified with the first source\n",
    "print (\"RMSE_Hankel12: \", RMSE_Hankel12)\n",
    "RMSE_Hankel23 = math.sqrt(np.square(np.subtract(S[:,1],Sest[:,2])).mean() ) # with the second source\n",
    "print (\"RMSE_Hankel23: \", RMSE_Hankel23)\n",
    "RMSE_Hankel34 = math.sqrt(np.square(np.subtract(S[:,2],Sest[:,3])).mean() ) # with the third source\n",
    "print (\"RMSE_Hankel34: \", RMSE_Hankel34)\n",
    "RMSE_Hankel41 = math.sqrt(np.square(np.subtract(S[:,3],Sest[:,0])).mean() ) # with the third source\n",
    "print (\"RMSE_Hankel41: \", RMSE_Hankel41)\n",
    "RMSE_Han_2 = RMSE_Hankel12 + RMSE_Hankel23 + RMSE_Hankel34 + RMSE_Hankel41\n",
    "print (\"RMSE_Han_2: \", RMSE_Han_2)"
>>>>>>> 9e05b8ca9c4193a146432f004ec72b96a205d2c4
   ]
  },
  {
   "cell_type": "code",
<<<<<<< HEAD
   "execution_count": 70,
=======
   "execution_count": 435,
>>>>>>> 9e05b8ca9c4193a146432f004ec72b96a205d2c4
   "id": "fa10a913",
   "metadata": {},
   "outputs": [
    {
<<<<<<< HEAD
     "data": {
      "text/plain": [
       "91.89353030030547"
      ]
     },
     "execution_count": 70,
     "metadata": {},
     "output_type": "execute_result"
    }
   ],
   "source": [
    "RMSE_Hankel2"
=======
     "name": "stdout",
     "output_type": "stream",
     "text": [
      "RMSE_Hankel13:  2.913822071488324\n",
      "RMSE_Hankel24:  13.640483162712577\n",
      "RMSE_Hankel31:  7.656698536443519\n",
      "RMSE_Hankel42:  70.66124396518173\n",
      "RMSE_Han_3:  94.87224773582614\n"
     ]
    },
    {
     "name": "stderr",
     "output_type": "stream",
     "text": [
      "C:\\Users\\DELLPR~1\\AppData\\Local\\Temp/ipykernel_7196/2212018864.py:1: ComplexWarning: Casting complex values to real discards the imaginary part\n",
      "  RMSE_Hankel13 = math.sqrt(np.square(np.subtract(S[:,0],Sest[:,2])).mean() ) # the factor that we identified with the first source\n",
      "C:\\Users\\DELLPR~1\\AppData\\Local\\Temp/ipykernel_7196/2212018864.py:3: ComplexWarning: Casting complex values to real discards the imaginary part\n",
      "  RMSE_Hankel24 = math.sqrt(np.square(np.subtract(S[:,1],Sest[:,3])).mean() ) # with the second source\n",
      "C:\\Users\\DELLPR~1\\AppData\\Local\\Temp/ipykernel_7196/2212018864.py:5: ComplexWarning: Casting complex values to real discards the imaginary part\n",
      "  RMSE_Hankel31 = math.sqrt(np.square(np.subtract(S[:,2],Sest[:,0])).mean() ) # with the third source\n",
      "C:\\Users\\DELLPR~1\\AppData\\Local\\Temp/ipykernel_7196/2212018864.py:7: ComplexWarning: Casting complex values to real discards the imaginary part\n",
      "  RMSE_Hankel42 = math.sqrt(np.square(np.subtract(S[:,3],Sest[:,1])).mean() ) # with the third source\n"
     ]
    }
   ],
   "source": [
    "RMSE_Hankel13 = math.sqrt(np.square(np.subtract(S[:,0],Sest[:,2])).mean() ) # the factor that we identified with the first source\n",
    "print (\"RMSE_Hankel13: \", RMSE_Hankel13)\n",
    "RMSE_Hankel24 = math.sqrt(np.square(np.subtract(S[:,1],Sest[:,3])).mean() ) # with the second source\n",
    "print (\"RMSE_Hankel24: \", RMSE_Hankel24)\n",
    "RMSE_Hankel31 = math.sqrt(np.square(np.subtract(S[:,2],Sest[:,0])).mean() ) # with the third source\n",
    "print (\"RMSE_Hankel31: \", RMSE_Hankel31)\n",
    "RMSE_Hankel42 = math.sqrt(np.square(np.subtract(S[:,3],Sest[:,1])).mean() ) # with the third source\n",
    "print (\"RMSE_Hankel42: \", RMSE_Hankel42)\n",
    "RMSE_Han_3 = RMSE_Hankel13 + RMSE_Hankel24 + RMSE_Hankel31 + RMSE_Hankel42\n",
    "print (\"RMSE_Han_3: \", RMSE_Han_3)"
   ]
  },
  {
   "cell_type": "code",
   "execution_count": 436,
   "id": "567fae17",
   "metadata": {},
   "outputs": [
    {
     "name": "stdout",
     "output_type": "stream",
     "text": [
      "RMSE_Hankel14:  15.534217347121732\n",
      "RMSE_Hankel21:  12.35007996820603\n",
      "RMSE_Hankel32:  59.4059497853783\n",
      "RMSE_Hankel43:  20.246245755765308\n",
      "RMSE_Han_4:  107.53649285647137\n"
     ]
    },
    {
     "name": "stderr",
     "output_type": "stream",
     "text": [
      "C:\\Users\\DELLPR~1\\AppData\\Local\\Temp/ipykernel_7196/925276150.py:1: ComplexWarning: Casting complex values to real discards the imaginary part\n",
      "  RMSE_Hankel14 = math.sqrt(np.square(np.subtract(S[:,0],Sest[:,3])).mean() ) # the factor that we identified with the first source\n",
      "C:\\Users\\DELLPR~1\\AppData\\Local\\Temp/ipykernel_7196/925276150.py:3: ComplexWarning: Casting complex values to real discards the imaginary part\n",
      "  RMSE_Hankel21 = math.sqrt(np.square(np.subtract(S[:,1],Sest[:,0])).mean() ) # with the second source\n",
      "C:\\Users\\DELLPR~1\\AppData\\Local\\Temp/ipykernel_7196/925276150.py:5: ComplexWarning: Casting complex values to real discards the imaginary part\n",
      "  RMSE_Hankel32 = math.sqrt(np.square(np.subtract(S[:,2],Sest[:,1])).mean() ) # with the third source\n",
      "C:\\Users\\DELLPR~1\\AppData\\Local\\Temp/ipykernel_7196/925276150.py:7: ComplexWarning: Casting complex values to real discards the imaginary part\n",
      "  RMSE_Hankel43 = math.sqrt(np.square(np.subtract(S[:,3],Sest[:,2])).mean() ) # with the third source\n"
     ]
    }
   ],
   "source": [
    "RMSE_Hankel14 = math.sqrt(np.square(np.subtract(S[:,0],Sest[:,3])).mean() ) # the factor that we identified with the first source\n",
    "print (\"RMSE_Hankel14: \", RMSE_Hankel14)\n",
    "RMSE_Hankel21 = math.sqrt(np.square(np.subtract(S[:,1],Sest[:,0])).mean() ) # with the second source\n",
    "print (\"RMSE_Hankel21: \", RMSE_Hankel21)\n",
    "RMSE_Hankel32 = math.sqrt(np.square(np.subtract(S[:,2],Sest[:,1])).mean() ) # with the third source\n",
    "print (\"RMSE_Hankel32: \", RMSE_Hankel32)\n",
    "RMSE_Hankel43 = math.sqrt(np.square(np.subtract(S[:,3],Sest[:,2])).mean() ) # with the third source\n",
    "print (\"RMSE_Hankel43: \", RMSE_Hankel43)\n",
    "RMSE_Han_4 = RMSE_Hankel14 + RMSE_Hankel21 + RMSE_Hankel32 + RMSE_Hankel43\n",
    "print (\"RMSE_Han_4: \", RMSE_Han_4)"
>>>>>>> 9e05b8ca9c4193a146432f004ec72b96a205d2c4
   ]
  },
  {
   "cell_type": "code",
<<<<<<< HEAD
   "execution_count": 71,
   "id": "00340dab",
=======
   "execution_count": 417,
   "id": "a516b335",
>>>>>>> 9e05b8ca9c4193a146432f004ec72b96a205d2c4
   "metadata": {},
   "outputs": [
    {
     "data": {
      "text/plain": [
<<<<<<< HEAD
       "92.52110776832077"
      ]
     },
     "execution_count": 71,
=======
       "(101, 4)"
      ]
     },
     "execution_count": 417,
>>>>>>> 9e05b8ca9c4193a146432f004ec72b96a205d2c4
     "metadata": {},
     "output_type": "execute_result"
    }
   ],
   "source": [
<<<<<<< HEAD
    "RMSE_Hankel3"
=======
    "X.shape"
>>>>>>> 9e05b8ca9c4193a146432f004ec72b96a205d2c4
   ]
  },
  {
   "cell_type": "code",
<<<<<<< HEAD
   "execution_count": 210,
=======
   "execution_count": 418,
>>>>>>> 9e05b8ca9c4193a146432f004ec72b96a205d2c4
   "id": "fa9c5450",
   "metadata": {},
   "outputs": [
    {
     "name": "stdout",
     "output_type": "stream",
     "text": [
<<<<<<< HEAD
      "RMSE_ICA:  5.362009479927312\n",
      "RMSE_PCA:  9.279206553743176\n"
=======
      "RMSE_ICA:  10.806244934827694\n",
      "RMSE_PCA:  14.658393823855569\n"
>>>>>>> 9e05b8ca9c4193a146432f004ec72b96a205d2c4
     ]
    }
   ],
   "source": [
    "# https://scikit-learn.org/stable/auto_examples/decomposition/plot_ica_blind_source_separation.html#sphx-glr-auto-examples-decomposition-plot-ica-blind-source-separation-py\n",
    "\n",
    "from sklearn.decomposition import PCA, FastICA\n",
    "\n",
    "# Compute ICA\n",
<<<<<<< HEAD
    "ica = FastICA(n_components=3, whiten=\"arbitrary-variance\")\n",
=======
    "ica = FastICA(n_components=4, whiten=\"arbitrary-variance\")\n",
>>>>>>> 9e05b8ca9c4193a146432f004ec72b96a205d2c4
    "S_ICA = ica.fit_transform(X)  # Reconstruct signals\n",
    "A_ = ica.mixing_  # Get estimated mixing matrix\n",
    "\n",
    "# We can `prove` that the ICA model applies by reverting the unmixing.\n",
    "assert np.allclose(X, np.dot(S_ICA, A_.T) + ica.mean_)\n",
    "\n",
    "# For comparison, compute PCA\n",
<<<<<<< HEAD
    "pca = PCA(n_components=3)\n",
=======
    "pca = PCA(n_components=4)\n",
>>>>>>> 9e05b8ca9c4193a146432f004ec72b96a205d2c4
    "S_PCA = pca.fit_transform(X)  # Reconstruct signals based on orthogonal components\n",
    "\n",
    "import math\n",
    "\n",
    "# Error calculation\n",
    "RMSE_ICA = math.sqrt(np.square(np.subtract(S,S_ICA)).mean() )\n",
    "RMSE_PCA = math.sqrt(np.square(np.subtract(S,S_PCA)).mean() )\n",
    "print (\"RMSE_ICA: \", RMSE_ICA)\n",
    "print (\"RMSE_PCA: \", RMSE_PCA)"
   ]
  },
  {
   "cell_type": "code",
<<<<<<< HEAD
   "execution_count": 237,
=======
   "execution_count": 419,
>>>>>>> 9e05b8ca9c4193a146432f004ec72b96a205d2c4
   "id": "13180e6c",
   "metadata": {},
   "outputs": [],
   "source": [
    "assert np.allclose(X, np.dot(S_ICA, A_.T) + ica.mean_)"
   ]
  },
  {
   "cell_type": "code",
<<<<<<< HEAD
   "execution_count": 238,
=======
   "execution_count": 420,
>>>>>>> 9e05b8ca9c4193a146432f004ec72b96a205d2c4
   "id": "314912e8",
   "metadata": {},
   "outputs": [
    {
     "data": {
      "text/plain": [
<<<<<<< HEAD
       "array([-7.18815924,  6.768601  , 12.17336928])"
      ]
     },
     "execution_count": 238,
=======
       "array([-10.91584255, -16.71265068,  -7.2509869 ,   8.29896195])"
      ]
     },
     "execution_count": 420,
>>>>>>> 9e05b8ca9c4193a146432f004ec72b96a205d2c4
     "metadata": {},
     "output_type": "execute_result"
    }
   ],
   "source": [
    " ica.mean_"
   ]
  },
  {
   "cell_type": "code",
<<<<<<< HEAD
   "execution_count": 239,
=======
   "execution_count": 421,
>>>>>>> 9e05b8ca9c4193a146432f004ec72b96a205d2c4
   "id": "4bd71ab2",
   "metadata": {},
   "outputs": [
    {
     "data": {
      "text/plain": [
<<<<<<< HEAD
       "(3, 3)"
      ]
     },
     "execution_count": 239,
=======
       "(4, 4)"
      ]
     },
     "execution_count": 421,
>>>>>>> 9e05b8ca9c4193a146432f004ec72b96a205d2c4
     "metadata": {},
     "output_type": "execute_result"
    }
   ],
   "source": [
    "A_.shape"
   ]
  },
  {
   "cell_type": "code",
<<<<<<< HEAD
   "execution_count": 241,
   "id": "974e8021",
   "metadata": {},
   "outputs": [
    {
     "data": {
      "text/plain": [
       "(100, 3)"
      ]
     },
     "execution_count": 241,
     "metadata": {},
     "output_type": "execute_result"
    }
   ],
   "source": [
    "S_ICA.shape"
=======
   "execution_count": 422,
   "id": "687400c8",
   "metadata": {},
   "outputs": [
    {
     "ename": "AssertionError",
     "evalue": "",
     "output_type": "error",
     "traceback": [
      "\u001b[1;31m---------------------------------------------------------------------------\u001b[0m",
      "\u001b[1;31mAssertionError\u001b[0m                            Traceback (most recent call last)",
      "\u001b[1;32mC:\\Users\\DELLPR~1\\AppData\\Local\\Temp/ipykernel_7196/1098026756.py\u001b[0m in \u001b[0;36m<module>\u001b[1;34m\u001b[0m\n\u001b[1;32m----> 1\u001b[1;33m \u001b[1;32massert\u001b[0m \u001b[0mnp\u001b[0m\u001b[1;33m.\u001b[0m\u001b[0mallclose\u001b[0m\u001b[1;33m(\u001b[0m\u001b[0mM\u001b[0m\u001b[1;33m,\u001b[0m \u001b[0mA_\u001b[0m\u001b[1;33m)\u001b[0m\u001b[1;33m\u001b[0m\u001b[1;33m\u001b[0m\u001b[0m\n\u001b[0m",
      "\u001b[1;31mAssertionError\u001b[0m: "
     ]
    }
   ],
   "source": [
    "assert np.allclose(M, A_)"
>>>>>>> 9e05b8ca9c4193a146432f004ec72b96a205d2c4
   ]
  },
  {
   "cell_type": "code",
<<<<<<< HEAD
   "execution_count": null,
   "id": "85e8507b",
   "metadata": {},
   "outputs": [],
   "source": [
    "pca._"
=======
   "execution_count": 423,
   "id": "6c9e63ac",
   "metadata": {},
   "outputs": [
    {
     "data": {
      "text/plain": [
       "array([[ 0.16356026, -0.61504619, -0.28320746, -0.20491814],\n",
       "       [-0.39909442, -1.58445492,  0.13984081, -0.00973854],\n",
       "       [-1.01123344, -0.25994669, -1.00602405, -0.46558029],\n",
       "       [-0.25417796, -0.6580758 , -0.05683696,  0.86120162]])"
      ]
     },
     "execution_count": 423,
     "metadata": {},
     "output_type": "execute_result"
    }
   ],
   "source": [
    "M # original mixing matrix"
>>>>>>> 9e05b8ca9c4193a146432f004ec72b96a205d2c4
   ]
  },
  {
   "cell_type": "code",
<<<<<<< HEAD
   "execution_count": 211,
   "id": "9b56e79c",
=======
   "execution_count": 424,
   "id": "ef7f133b",
>>>>>>> 9e05b8ca9c4193a146432f004ec72b96a205d2c4
   "metadata": {},
   "outputs": [
    {
     "data": {
      "text/plain": [
<<<<<<< HEAD
       "(100, 3)"
      ]
     },
     "execution_count": 211,
=======
       "array([[ 12.27655978,  67.96758249, -37.06183045, -54.82248837],\n",
       "       [ 18.19823653,  97.69183695, -53.46910331, -80.36757927],\n",
       "       [  7.07059016,  42.91347894, -23.67608439, -33.59849013],\n",
       "       [-17.78798196, -65.33952666,  33.04392548,  61.12770349]])"
      ]
     },
     "execution_count": 424,
>>>>>>> 9e05b8ca9c4193a146432f004ec72b96a205d2c4
     "metadata": {},
     "output_type": "execute_result"
    }
   ],
   "source": [
<<<<<<< HEAD
    "S_ICA.shape"
=======
    "A_ # estimated mixing matrix"
>>>>>>> 9e05b8ca9c4193a146432f004ec72b96a205d2c4
   ]
  },
  {
   "cell_type": "code",
<<<<<<< HEAD
   "execution_count": 212,
   "id": "881b325f",
=======
   "execution_count": 425,
   "id": "974e8021",
>>>>>>> 9e05b8ca9c4193a146432f004ec72b96a205d2c4
   "metadata": {},
   "outputs": [
    {
     "data": {
      "text/plain": [
<<<<<<< HEAD
       "(100, 3)"
      ]
     },
     "execution_count": 212,
=======
       "(101, 4)"
      ]
     },
     "execution_count": 425,
>>>>>>> 9e05b8ca9c4193a146432f004ec72b96a205d2c4
     "metadata": {},
     "output_type": "execute_result"
    }
   ],
   "source": [
<<<<<<< HEAD
    "S_PCA.shape"
=======
    "S_ICA.shape"
>>>>>>> 9e05b8ca9c4193a146432f004ec72b96a205d2c4
   ]
  },
  {
   "cell_type": "code",
<<<<<<< HEAD
   "execution_count": 213,
   "id": "6a8e4e23",
=======
   "execution_count": 426,
   "id": "881b325f",
>>>>>>> 9e05b8ca9c4193a146432f004ec72b96a205d2c4
   "metadata": {},
   "outputs": [
    {
     "data": {
      "text/plain": [
<<<<<<< HEAD
       "(101, 3)"
      ]
     },
     "execution_count": 213,
=======
       "(101, 4)"
      ]
     },
     "execution_count": 426,
>>>>>>> 9e05b8ca9c4193a146432f004ec72b96a205d2c4
     "metadata": {},
     "output_type": "execute_result"
    }
   ],
   "source": [
<<<<<<< HEAD
    "S_.shape"
=======
    "S_PCA.shape"
>>>>>>> 9e05b8ca9c4193a146432f004ec72b96a205d2c4
   ]
  },
  {
   "cell_type": "code",
<<<<<<< HEAD
   "execution_count": 220,
=======
   "execution_count": 427,
>>>>>>> 9e05b8ca9c4193a146432f004ec72b96a205d2c4
   "id": "052e1f3f",
   "metadata": {},
   "outputs": [
    {
<<<<<<< HEAD
     "data": {
      "image/png": "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\n",
      "text/plain": [
       "<Figure size 432x288 with 5 Axes>"
=======
     "name": "stderr",
     "output_type": "stream",
     "text": [
      "C:\\ProgramData\\Anaconda3\\lib\\site-packages\\matplotlib\\cbook\\__init__.py:1333: ComplexWarning: Casting complex values to real discards the imaginary part\n",
      "  return np.asarray(x, float)\n",
      "C:\\ProgramData\\Anaconda3\\lib\\site-packages\\matplotlib\\cbook\\__init__.py:1333: ComplexWarning: Casting complex values to real discards the imaginary part\n",
      "  return np.asarray(x, float)\n",
      "C:\\ProgramData\\Anaconda3\\lib\\site-packages\\matplotlib\\cbook\\__init__.py:1333: ComplexWarning: Casting complex values to real discards the imaginary part\n",
      "  return np.asarray(x, float)\n",
      "C:\\ProgramData\\Anaconda3\\lib\\site-packages\\matplotlib\\cbook\\__init__.py:1333: ComplexWarning: Casting complex values to real discards the imaginary part\n",
      "  return np.asarray(x, float)\n"
     ]
    },
    {
     "data": {
      "text/plain": [
       "<Figure size 432x288 with 0 Axes>"
      ]
     },
     "metadata": {},
     "output_type": "display_data"
    },
    {
     "data": {
      "image/png": "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\n",
      "text/plain": [
       "<Figure size 720x1152 with 5 Axes>"
>>>>>>> 9e05b8ca9c4193a146432f004ec72b96a205d2c4
      ]
     },
     "metadata": {
      "needs_background": "light"
     },
     "output_type": "display_data"
    }
   ],
   "source": [
    "import matplotlib.pyplot as plt\n",
    "\n",
    "plt.figure()\n",
    "\n",
    "models = [X, S, S_ICA, S_PCA, Sest]\n",
    "names = [\n",
    "    \"Observations (mixed signal)\",\n",
    "    \"True Sources\",\n",
    "    \"ICA recovered signals\",\n",
    "    \"PCA recovered signals\",\n",
    "    \"Multiway Hankelisation & CPD recovered signals\",\n",
    "]\n",
    "colors = [\"red\", \"steelblue\", \"orange\", \"green\"]\n",
<<<<<<< HEAD
    "\n",
=======
    "plt.figure(figsize=(10,16))\n",
>>>>>>> 9e05b8ca9c4193a146432f004ec72b96a205d2c4
    "for ii, (model, name) in enumerate(zip(models, names), 1):\n",
    "    plt.subplot(5, 1, ii)\n",
    "    plt.title(name)\n",
    "    for sig, color in zip(model.T, colors):\n",
    "        plt.plot(sig, color=color)\n",
    "\n",
    "#plt.tight_layout()\n",
    "plt.show()"
   ]
  },
  {
   "cell_type": "code",
<<<<<<< HEAD
   "execution_count": 379,
=======
   "execution_count": 428,
>>>>>>> 9e05b8ca9c4193a146432f004ec72b96a205d2c4
   "id": "fb1ff670",
   "metadata": {},
   "outputs": [],
   "source": [
    "from scipy import linalg as LA\n",
    "\n",
    "def whitenData (x):\n",
    "    # Calculate the covariance matrix of the initial data.\n",
    "    cov = np.cov(x)\n",
    "    # Calculate eigenvalues and eigenvectors of the covariance matrix.\n",
    "    d, E = LA.eigh(cov)\n",
    "    # Generate a diagonal matrix with the eigenvalues as diagonal elements.\n",
    "    D = np.diag(d)\n",
    "    # Calculate the singular values as square root of eigenvalues\n",
    "    Di = LA.sqrtm(LA.inv(D))\n",
    "    # Perform whitening. xn is the whitened matrix.\n",
    "    xn = np.dot(Di, np.dot(np.transpose(E), x))\n",
    "    return xn"
   ]
  },
  {
   "cell_type": "code",
<<<<<<< HEAD
   "execution_count": 380,
=======
   "execution_count": 429,
>>>>>>> 9e05b8ca9c4193a146432f004ec72b96a205d2c4
   "id": "60b52bf5",
   "metadata": {},
   "outputs": [
    {
     "name": "stdout",
     "output_type": "stream",
     "text": [
      "Sampling rate =  8000\n",
      "Data type is  uint8\n"
     ]
    }
   ],
   "source": [
    "from scipy.io import wavfile\n",
    "\n",
    "# Input the data from the first receiver.\n",
    "samplingRate, signal1 = wavfile.read('../ch2/data/mix1.wav')\n",
    "print (\"Sampling rate = \", samplingRate)\n",
    "print (\"Data type is \", signal1.dtype)"
   ]
  },
  {
   "cell_type": "code",
<<<<<<< HEAD
   "execution_count": 381,
=======
   "execution_count": 180,
>>>>>>> 9e05b8ca9c4193a146432f004ec72b96a205d2c4
   "id": "4ca52fd1",
   "metadata": {},
   "outputs": [
    {
     "name": "stdout",
     "output_type": "stream",
     "text": [
      "Number of samples:  50000\n"
     ]
    }
   ],
   "source": [
    "# Convert the signal so that amplitude lies between 0 and 1.\n",
    "signal1 = signal1 / 255.0 - 0.5  # uint8 takes values from 0 to 255\n",
    "\n",
    "# Output information about the sound samples.\n",
    "a = signal1.shape\n",
    "n = a[0]\n",
    "print (\"Number of samples: \", n)\n",
    "n = n * 1.0"
   ]
  },
  {
   "cell_type": "code",
<<<<<<< HEAD
   "execution_count": 382,
=======
   "execution_count": 181,
>>>>>>> 9e05b8ca9c4193a146432f004ec72b96a205d2c4
   "id": "e5910573",
   "metadata": {},
   "outputs": [
    {
     "data": {
      "text/plain": [
       "Text(0.5, 1.0, 'Whitened data')"
      ]
     },
<<<<<<< HEAD
     "execution_count": 382,
=======
     "execution_count": 181,
>>>>>>> 9e05b8ca9c4193a146432f004ec72b96a205d2c4
     "metadata": {},
     "output_type": "execute_result"
    },
    {
     "data": {
      "image/png": "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\n",
      "text/plain": [
       "<Figure size 720x216 with 2 Axes>"
      ]
     },
     "metadata": {
      "needs_background": "light"
     },
     "output_type": "display_data"
    }
   ],
   "source": [
    "# Input data from the first receiver and standardise it's amplitude.\n",
    "samplingRate, signal2 = wavfile.read('../ch2/data/mix2.wav')\n",
    "signal2 = signal2 / 255.0 - 0.5  # uint8 takes values from 0 to 255\n",
    "\n",
    "# x is our initial data matrix.\n",
    "x = [signal1, signal2]\n",
    "\n",
    "# Plot the signals from both sources to show correlations in the data.\n",
    "fig = plt.figure( figsize=(10,3))\n",
    "plt.subplot(1,2,1)\n",
    "plt.title(\"Original data\")\n",
    "plt.plot(x[0], x[1], '*b')\n",
    "plt.ylabel('Signal 2')\n",
    "plt.xlabel('Signal 1')\n",
    "\n",
    "X = whitenData (x)\n",
    "\n",
    "# Plot whitened data to show new structure of the data.\n",
    "plt.subplot(1,2,2)\n",
    "plt.plot(X[0], X[1], '*b')\n",
    "plt.ylabel('Signal 2')\n",
    "plt.xlabel('Signal 1')\n",
    "plt.title(\"Whitened data\")\n"
   ]
  },
  {
   "cell_type": "code",
   "execution_count": null,
   "id": "79adfb33",
   "metadata": {},
   "outputs": [],
   "source": [
    "# Separation\n",
    "H = hankelize(X,Dim=1)\n",
    "U = tl.tensor(H)\n",
    "rank = 2\n",
<<<<<<< HEAD
    "S_Hankel, factors = multiway_decomp(U, 3, rank)"
=======
    "from tensorly.decomposition import constrained_parafac\n",
    "\n",
    "_, factors = constrained_parafac(U, rank=rank, unimodality=True)\n",
    "factors"
>>>>>>> 9e05b8ca9c4193a146432f004ec72b96a205d2c4
   ]
  },
  {
   "cell_type": "code",
   "execution_count": 322,
   "id": "d0b1b857",
   "metadata": {},
   "outputs": [
    {
     "data": {
      "text/plain": [
       "(1, 2, 50000)"
      ]
     },
     "execution_count": 322,
     "metadata": {},
     "output_type": "execute_result"
    }
   ],
   "source": [
    "H.shape"
   ]
  },
  {
   "cell_type": "code",
   "execution_count": null,
   "id": "73a937b2",
   "metadata": {},
   "outputs": [],
<<<<<<< HEAD
   "source": []
=======
   "source": [
    "factors = np.array(factors)\n",
    "factors.shape"
   ]
  },
  {
   "cell_type": "code",
   "execution_count": null,
   "id": "5bfa6f99",
   "metadata": {},
   "outputs": [],
   "source": [
    "if factors[0].shape[0] < factors[1].shape[0]:\n",
    "    factors[1] = np.resize(factors[1], (factors[0].shape))\n",
    "else:\n",
    "    factors[0] = np.resize(factors[0], (f1.shape))\n"
   ]
  },
  {
   "cell_type": "code",
   "execution_count": null,
   "id": "48c16961",
   "metadata": {},
   "outputs": [],
   "source": [
    "t1 = np.concatenate((factors[0], factors[1]))\n",
    "t1.shape\n",
    "#t1 = t1.reshape((len(t1[0])))"
   ]
  },
  {
   "cell_type": "code",
   "execution_count": null,
   "id": "dabab40c",
   "metadata": {},
   "outputs": [],
   "source": [
    "Sest = dehankelize(t1) #'Dims'=[1, 1, 1])\n",
    "Sest"
   ]
>>>>>>> 9e05b8ca9c4193a146432f004ec72b96a205d2c4
  }
 ],
 "metadata": {
  "kernelspec": {
   "display_name": "Python 3 (ipykernel)",
   "language": "python",
   "name": "python3"
  },
  "language_info": {
   "codemirror_mode": {
    "name": "ipython",
    "version": 3
   },
   "file_extension": ".py",
   "mimetype": "text/x-python",
   "name": "python",
   "nbconvert_exporter": "python",
   "pygments_lexer": "ipython3",
   "version": "3.9.7"
  }
 },
 "nbformat": 4,
 "nbformat_minor": 5
}
