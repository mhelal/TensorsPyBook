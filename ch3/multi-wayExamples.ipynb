{
 "cells": [
  {
   "cell_type": "markdown",
   "id": "1e49fd61",
   "metadata": {},
   "source": [
    "# Ch3: Geometry & Algebra of Tensors\n",
    "    \n",
    "## 3.1 Motivation and Intuition\n",
    "\n",
    "A Video Analysis with Tensor Decomposition in Python example can be found at:\n",
    "https://towardsdatascience.com/video-analysis-with-tensor-decomposition-in-python-3a1fe088831c\n",
    "\n",
    "Other Examples are presented below, using a tensorisation step that is hand tailored to each examples, with attempts to generalise\n",
    "\n",
    "Indexing routines can be found in https://numpy.org/doc/stable/reference/arrays.indexing.html\n",
    "\n"
   ]
  },
  {
   "cell_type": "code",
   "execution_count": null,
   "id": "7fdea736",
   "metadata": {},
   "outputs": [],
   "source": [
    "import math\n",
    "\n",
    "def tensorisation_Values (Df, components, value=\"value\", aggFunc=np.mean):\n",
    "    if components >= Df.shape[1]:\n",
    "        print (\"Number of components must be less or equal to number of the columns in the input matrix. Exiting without creating the tensor\")\n",
    "        return\n",
    "    minVals = []\n",
    "    maxVals = []\n",
    "    tensorShape = []\n",
    "    for i in range(components):\n",
    "        minVal = Df.iloc[:,i].min()\n",
    "        # this will be an index, therefore starting from zero is necessary\n",
    "        if minVal > 0:\n",
    "            Df.iloc[:,i] += minVal\n",
    "            minVal = 0\n",
    "        if minVal < 0:\n",
    "            Df.iloc[:,i] -= minVal\n",
    "            minVal = 0\n",
    "        minVals.append(minVal)\n",
    "        # also the max value need to be positive non-zero, because it will be the tensor shape \n",
    "        maxVal = Df.iloc[:,i].max()\n",
    "        if maxVal <= 0:\n",
    "            Df.iloc[:,i] -= maxVal + 1\n",
    "            maxVal = 1\n",
    "        maxVals.append(maxVal)\n",
    "        print(\"mode  \" + str(i) + \" max value =\" + str(maxVal) + \", min value = \" + str(minVal))\n",
    "        tensorShape.append(int(maxVal)+1)\n",
    "\n",
    "    # update the values in the array, to be used as indices\n",
    "    for k,j in Df.iterrows():\n",
    "            for i in range(components):\n",
    "                j[i] = int(math.floor(j[i])) + abs(int(minVals[i])) + 1\n",
    "    print (tensorShape)\n",
    "    tensorShape = tuple(tensorShape) \n",
    "    tensor_array = np.zeros(tensorShape)\n",
    "    count = 0\n",
    "    for k,j in Df.iterrows():\n",
    "        count = count + 1\n",
    "        t_index = tuple(\n",
    "            int(j[i]) for i in range(components)\n",
    "        )\n",
    "        #print (t_index)\n",
    "        tensor_array[t_index] = aggFunc(j[value])\n",
    "\n",
    "    return tensor_array"
   ]
  },
  {
   "cell_type": "code",
   "execution_count": null,
   "id": "02cbd81d",
   "metadata": {},
   "outputs": [],
   "source": [
    "import pandas as pd # data processing, CSV file I/O (e.g. pd.read_csv)\n",
    "import numpy as np\n",
    "\n",
    "userdata = pd.read_csv('data/GlobalLandTemperaturesByMajorCity.csv')\n",
    "columns = ['dt','AverageTemperature','AverageTemperatureUncertainty','City','Country','Latitude','Longitude'] # such that these will be x\n",
    "df=userdata[columns].copy()\n",
    "Values = userdata[\"AverageTemperature\"] # this will be the values of the tensor\n",
    "df"
   ]
  },
  {
   "cell_type": "code",
   "execution_count": null,
   "id": "17ead59a",
   "metadata": {},
   "outputs": [],
   "source": [
    "# We will tensorise in the same order mentioned in chapter 3 first section on motivational problem\n",
    "# First example is one temperature value as a scalar (rank-zero tensor), which does not require tensorisation, just indexing will do\n",
    "df.iloc[0, 1] # specifying the index values, which is not usually interpreted easily\n"
   ]
  },
  {
   "cell_type": "code",
   "execution_count": null,
   "id": "df3d0571",
   "metadata": {},
   "outputs": [],
   "source": [
    "df.loc[(df['City']== 'Abidjan') & (df['dt']=='1849-01-01') ,['AverageTemperature']] # specifing the values needed (city and date values)"
   ]
  },
  {
   "cell_type": "code",
   "execution_count": null,
   "id": "67223653",
   "metadata": {},
   "outputs": [],
   "source": [
    "# Second example is all temperature values in this dataset or in a specific city as a vector (rank-one tensor), which does not require tensorisation, just indexing will do\n",
    "\n",
    "df.loc[df['City'] == 'Abidjan']['AverageTemperature']"
   ]
  },
  {
   "cell_type": "code",
   "execution_count": null,
   "id": "1a9d8d12",
   "metadata": {},
   "outputs": [],
   "source": [
    "# Third example is temperature values per city (rank-two tensor). We will do it using pivot tables, and again with tensorisation\n",
    "# pivot tables are another method in handling multi-way analysis\n",
    "# checking how many cardiac cases in each age value\n",
    "\n",
    "cityTempMeans = df.pivot_table(values='AverageTemperature',\n",
    "                               index='City', \n",
    "                               aggfunc=np.mean,               ## aggfunc='size', # size if you want to aggregate by frequency counting\n",
    "                               fill_value=0)\n",
    "cityTempMeans"
   ]
  },
  {
   "cell_type": "code",
   "execution_count": null,
   "id": "86ccd803",
   "metadata": {},
   "outputs": [],
   "source": [
    "cityTempMeans.iloc[0,0] # Average temperature for Abidjan by indexing the pivot table"
   ]
  },
  {
   "cell_type": "code",
   "execution_count": null,
   "id": "7a94c29d",
   "metadata": {},
   "outputs": [],
   "source": [
    "df.loc[df['City'] == 'Abidjan']['AverageTemperature'].mean() # getting to the same value from the original dataset DataFrame, probably the mean function used here is not np.mean since the value is slightly different, but could be rounding error"
   ]
  },
  {
   "cell_type": "code",
   "execution_count": null,
   "id": "9ac54ecd",
   "metadata": {},
   "outputs": [],
   "source": [
    "for i in range(1):\n",
    "    print(sdf.iloc[:,i].min())"
   ]
  },
  {
   "cell_type": "code",
   "execution_count": null,
   "id": "60e55177",
   "metadata": {},
   "outputs": [],
   "source": [
    "# tensorising by arranging the columns as coordinates first, and last column is the value to aggregate on\n",
    "\n",
    "columns = ['City','AverageTemperature'] # such that these will be x\n",
    "sdf=userdata[columns].copy()\n",
    "\n",
    "# we need to encode all coordinate columns numerically\n",
    "from sklearn import preprocessing\n",
    "\n",
    "# lbl_encoder object knows how to understand word labels.\n",
    "city_encoder = preprocessing.LabelEncoder()\n",
    "\n",
    "sdf['CityBasis']= city_encoder.fit_transform(sdf['City'])\n",
    "sdf['CityBasis'].unique()"
   ]
  },
  {
   "cell_type": "code",
   "execution_count": null,
   "id": "d6f34614",
   "metadata": {},
   "outputs": [],
   "source": [
    "city_encoder.classes_"
   ]
  },
  {
   "cell_type": "code",
   "execution_count": null,
   "id": "eca6fae3",
   "metadata": {},
   "outputs": [],
   "source": [
    "city_encoder.inverse_transform([0])"
   ]
  },
  {
   "cell_type": "code",
   "execution_count": null,
   "id": "5774dbb1",
   "metadata": {},
   "outputs": [],
   "source": [
    "city_encoder.transform(['Abidjan'])"
   ]
  },
  {
   "cell_type": "code",
   "execution_count": null,
   "id": "462c78f6",
   "metadata": {},
   "outputs": [],
   "source": [
    "columns = ['CityBasis', 'City','AverageTemperature'] # such that these will be x\n",
    "sdf=sdf[columns].copy()\n",
    "sdf"
   ]
  },
  {
   "cell_type": "code",
   "execution_count": null,
   "id": "d13c4ea6",
   "metadata": {},
   "outputs": [],
   "source": [
    "import tensorly as tl\n",
    "\n",
    "tensor_array = tensorisation_Values (sdf, 1, value=\"AverageTemperature\", aggFunc=np.mean)\n",
    "tensor2 = tl.tensor(tensor_array)\n",
    "tensor2.shape\n"
   ]
  },
  {
   "cell_type": "code",
   "execution_count": null,
   "id": "bafafc3a",
   "metadata": {},
   "outputs": [],
   "source": [
    "tensor2 # the tensorisation function can also be updated to handle nan values, and to be vectorised and optimisaed for parallel processing"
   ]
  },
  {
   "cell_type": "code",
   "execution_count": null,
   "id": "f309f80d",
   "metadata": {},
   "outputs": [],
   "source": [
    "# Fourth example is temperature values per location as Latitude & Longitude  (rank-three tensor). \n",
    "#Attemping pivot tables, will still be rank-two, as we create a matrix with the both location columns flattened in one mode\n",
    "columns = ['dt','AverageTemperature','AverageTemperatureUncertainty','City','Country','Latitude','Longitude'] # such that these will be x\n",
    "\n",
    "\n",
    "locTempMeans = df.pivot_table(values='AverageTemperature',\n",
    "                               index=['Latitude','Longitude'], \n",
    "                               aggfunc=np.mean,               ## aggfunc='size', # size if you want to aggregate by frequency counting\n",
    "                               fill_value=0)\n",
    "locTempMeans\n",
    "\n"
   ]
  },
  {
   "cell_type": "code",
   "execution_count": null,
   "id": "b0cdd63f",
   "metadata": {},
   "outputs": [],
   "source": [
    "#We will do it using tensorisation\n",
    "\n",
    "columns = ['Latitude','Longitude','AverageTemperature'] \n",
    "sdf=userdata[columns].copy()\n",
    "\n",
    "sdf # 'Latitude','Longitude' contain numeric values followed by N/S in the first, and E/W in the second, which is degree minute second (DMS) coordinates \n",
    "# We will need to be numerically encode them to be turned to coordinate basis using decimal degrees\n",
    "# there is a solution here https://medium.com/@quinn.dougherty92/simple-geographical-encoding-8293fde9e964"
   ]
  },
  {
   "cell_type": "code",
   "execution_count": null,
   "id": "e9067179",
   "metadata": {},
   "outputs": [],
   "source": [
    "!pip install dms2dec"
   ]
  },
  {
   "cell_type": "code",
   "execution_count": null,
   "id": "1b708241",
   "metadata": {},
   "outputs": [],
   "source": [
    "# geopandas has interesting solutions, but will use dms2dec for simplicity\n",
    "from dms2dec.dms_convert import dms2dec\n",
    "sdf['Latitude'] = sdf['Latitude'].apply(dms2dec)\n",
    "sdf['Longitude'] = sdf['Longitude'].apply(dms2dec)\n",
    "sdf['Latitude'] = sdf['Latitude'].astype(float)\n",
    "sdf['Longitude'] = sdf['Longitude'].astype(float)\n",
    "sdf"
   ]
  },
  {
   "cell_type": "code",
   "execution_count": null,
   "id": "191567bc",
   "metadata": {},
   "outputs": [],
   "source": [
    "# we will need to update the tensorisation function to be able to aggregate by mean or other function, and take\n",
    "# the values as mean of rows returned from a condition per column in the dataframe\n",
    "# this is almost tailored to Latitude & Longitude specific values, it is better to be updated to ranges, such that\n",
    "# values are aggregated when they are >= the current basis index and < next basis index\n",
    "# many optimisations can be achived for vectorisation, paralleisation, quantisation\n",
    "def tensorisation2_Values (Df, components, value=\"value\", aggFunc=np.mean):\n",
    "    if components >= Df.shape[1]:\n",
    "        print (\"Number of components must be less or equal to number of the columns in the input matrix. Exiting without creating the tensor\")\n",
    "        return\n",
    "    minVals = []\n",
    "    maxVals = []\n",
    "    tensorShape = []\n",
    "    for i in range(components):\n",
    "        minVal = Df.iloc[:,i].min()\n",
    "        # this will be an index, therefore starting from zero is necessary\n",
    "        if minVal > 0:\n",
    "            Df.iloc[:,i] += minVal\n",
    "            minVal = 0\n",
    "        if minVal < 0:\n",
    "            Df.iloc[:,i] -= minVal\n",
    "            minVal = 0\n",
    "        minVals.append(minVal)\n",
    "        # also the max value need to be positive non-zero, because it will be the tensor shape \n",
    "        maxVal = Df.iloc[:,i].max()\n",
    "        if maxVal <= 0:\n",
    "            Df.iloc[:,i] -= maxVal + 1\n",
    "            maxVal = 1\n",
    "        maxVals.append(maxVal)\n",
    "        print(\"mode  \" + str(i) + \" max value =\" + str(maxVal) + \", min value = \" + str(minVal))\n",
    "        tensorShape.append(int(maxVal)+1)\n",
    "\n",
    "    # update the values in the array, to be used as indices\n",
    "    for k,j in Df.iterrows():\n",
    "            for i in range(components):\n",
    "                j[i] = int(math.floor(j[i])) + abs(int(minVals[i])) + 1\n",
    "    print (tensorShape)\n",
    "    tensorShape = tuple(tensorShape) \n",
    "    tensor_array = np.zeros(tensorShape)\n",
    "    \n",
    "    ## two useful functions\n",
    "    np.unravel_index(0, tensorShape) # flat linear index to multidimensional index \n",
    "    np.ravel_multi_index([tensorShape[i]-1 for i in range(len(tensorShape))], tensorShape) # multidimensional index to flat linear index\n",
    "\n",
    "    for i in range (np.prod(tensorShape)-1): # iterate through the tensor flat indices, can try for element in np.nditer(arr): then get the index of the element\n",
    "        t_index = np.unravel_index(i, tensorShape) # get the tensor multidimensional index\n",
    "        print (\"i: \" + str(i) + \" t_in: \" + str(t_index))\n",
    "        condition = '' # accumulate the conditions to add to the data frame selection\n",
    "        for j in range(len(t_index)):       # iterate through the dataframe columns\n",
    "            if j==0:\n",
    "                condition += '(Df[Df.columns[' + str(j)+']] == ' + str(t_index[j]) + ')'\n",
    "            else:\n",
    "                condition += ' & (Df[Df.columns[' + str(j)+']]  == ' + str(t_index[j]) + ')'\n",
    "            print (\"j: \" + str(j) + \" column: \" + Df.columns[j] + \" cond: \" + condition)\n",
    "            \n",
    "        #print (\"Condition is: \" + condition)\n",
    "        if len(condition) > 0:    \n",
    "            #print (eval(condition))\n",
    "            tensor_array[t_index] = aggFunc(Df.loc[eval(condition)]['AverageTemperature'])\n",
    "        else:\n",
    "            tensor_array[t_index] = aggFunc(Df.loc['AverageTemperature'])\n",
    "\n",
    "\n",
    "    return tensor_array"
   ]
  },
  {
   "cell_type": "code",
   "execution_count": null,
   "id": "21ca50ab",
   "metadata": {},
   "outputs": [],
   "source": [
    "tensor_array =  tensorisation2_Values (sdf, 2, value=\"AverageTemperature\", aggFunc=np.mean)\n",
    "tensor2 = tl.tensor(tensor_array)\n",
    "tensor2.shape"
   ]
  },
  {
   "cell_type": "code",
   "execution_count": null,
   "id": "bcb5da79",
   "metadata": {},
   "outputs": [],
   "source": [
    "tensor2\n"
   ]
  },
  {
   "cell_type": "code",
   "execution_count": null,
   "id": "3a4f0ec4",
   "metadata": {},
   "outputs": [],
   "source": [
    "# Fifth example is temperature values per location as Latitude & Longitude & date  (rank-four tensor). We will do it using tensorisation\n",
    "#Attemping pivot tables, will still be rank-two, as we create a matrix with the both location columns and time column flattened in one mode\n",
    "columns = ['dt','AverageTemperature','AverageTemperatureUncertainty','City','Country','Latitude','Longitude'] # such that these will be x\n",
    "\n",
    "\n",
    "locTempMeans = df.pivot_table(values='AverageTemperature',\n",
    "                               index=['Latitude','Longitude','dt'], \n",
    "                               aggfunc=np.mean,               ## aggfunc='size', # size if you want to aggregate by frequency counting\n",
    "                               fill_value=0)\n",
    "locTempMeans\n"
   ]
  },
  {
   "cell_type": "code",
   "execution_count": null,
   "id": "2484246d",
   "metadata": {},
   "outputs": [],
   "source": [
    "#We will do it using tensorisation\n",
    "\n",
    "columns = ['Latitude','Longitude','dt', 'AverageTemperature'] \n",
    "sdf=userdata[columns].copy()\n",
    "\n",
    "sdf\n"
   ]
  },
  {
   "cell_type": "code",
   "execution_count": null,
   "id": "6ee5f6ff",
   "metadata": {},
   "outputs": [],
   "source": [
    "# we have here a date column, we can create time series by lagging function and quantisation of values, but will simply encode here\n",
    "date = pd.to_datetime(sdf['dt'])\n",
    "date"
   ]
  },
  {
   "cell_type": "code",
   "execution_count": null,
   "id": "c979178a",
   "metadata": {},
   "outputs": [],
   "source": [
    "sdf['Latitude'] = sdf['Latitude'].apply(dms2dec)\n",
    "sdf['Longitude'] = sdf['Longitude'].apply(dms2dec)\n",
    "sdf['Latitude'] = sdf['Latitude'].astype(float)\n",
    "sdf['Longitude'] = sdf['Longitude'].astype(float)\n",
    "\n",
    "date_encoder = preprocessing.LabelEncoder()\n",
    "\n",
    "sdf['dtBasis']= date_encoder.fit_transform(pd.to_datetime(sdf['dt']))\n",
    "sdf['dtBasis'] = sdf['dtBasis'].astype(float)\n",
    "sdf['dtBasis'].unique()"
   ]
  },
  {
   "cell_type": "code",
   "execution_count": null,
   "id": "35495cb1",
   "metadata": {},
   "outputs": [],
   "source": [
    "columns = ['Latitude','Longitude','dtBasis', 'AverageTemperature'] \n",
    "sdf=sdf[columns].copy()\n",
    "\n",
    "sdf"
   ]
  },
  {
   "cell_type": "code",
   "execution_count": null,
   "id": "7cc74e5c",
   "metadata": {},
   "outputs": [],
   "source": [
    "tensor_array =  tensorisation2_Values (sdf, 3, value=\"AverageTemperature\", aggFunc=np.mean)\n",
    "tensor2 = tl.tensor(tensor_array)\n",
    "tensor2.shape"
   ]
  },
  {
   "cell_type": "code",
   "execution_count": null,
   "id": "d597253a",
   "metadata": {},
   "outputs": [],
   "source": [
    "tensor2"
   ]
  },
  {
   "cell_type": "markdown",
   "id": "13491ebe",
   "metadata": {},
   "source": [
    "## We will consider another problem using Data already in tensor form.\n",
    "\n",
    "\n",
    "The data set is from http://www.models.life.ku.dk/nwaydata\n",
    "in Matlab form, and can be read by scipy loadmat function, and saved as numpy arrays for easier loads later\n",
    "\n",
    "The data has X variable as 3-way tensor of  5 samples in mode - 1 (rows) 5 × 51 × 201. , containing different amounts of tyrosine, tryptophan and phenylalanine amino acids belong to three amino acids dissolved in phosphate buffered water. The samples were measured by fluorescence (excitation 250-300 nm, emission 250-450 nm, 1 nm intervals) on a spectrofluorometer \n",
    "\n",
    "The data has Y variable, which is the ground truth,  the known concentrations of the three chemicals (mode-2) that are in the samples (mode-1) "
   ]
  },
  {
   "cell_type": "code",
   "execution_count": null,
   "id": "08ea70ef",
   "metadata": {},
   "outputs": [],
   "source": [
    "import scipy.io\n",
    "amino = scipy.io.loadmat('data/amino.mat')"
   ]
  },
  {
   "cell_type": "code",
   "execution_count": null,
   "id": "1d0b1c5f",
   "metadata": {},
   "outputs": [],
   "source": [
    "X = amino.get('X')"
   ]
  },
  {
   "cell_type": "code",
   "execution_count": null,
   "id": "3e5922a4",
   "metadata": {},
   "outputs": [],
   "source": [
    "Y = amino.get('Y')"
   ]
  },
  {
   "cell_type": "code",
   "execution_count": null,
   "id": "f8efe0f6",
   "metadata": {},
   "outputs": [],
   "source": [
    "import numpy as np\n",
    "\n",
    "np.save('data/amino_x', X)\n",
    "np.save('data/amino_y', Y)"
   ]
  },
  {
   "cell_type": "code",
   "execution_count": null,
   "id": "94f58eea",
   "metadata": {},
   "outputs": [],
   "source": [
    "X.shape"
   ]
  },
  {
   "cell_type": "code",
   "execution_count": null,
   "id": "ab25753d",
   "metadata": {},
   "outputs": [],
   "source": [
    "Y.shape"
   ]
  },
  {
   "cell_type": "code",
   "execution_count": null,
   "id": "816a1337",
   "metadata": {},
   "outputs": [],
   "source": [
    "# doing Parafac decomposition\n",
    "from tensorly.decomposition import parafac\n",
    "weights, factors = parafac(X,rank = 3, verbose = 2)"
   ]
  },
  {
   "cell_type": "markdown",
   "id": "466780dc",
   "metadata": {},
   "source": [
    "## PARAFAC should have three components and therefore a 5 × 3 so called score matrix (first mode loading matrix). Each column in this score matrix should approximately match the concentration of one of the three aminoacids which are held in the 5 × 3 Y matrix. Matching in this case, means that the corresponding columns should be correlated."
   ]
  },
  {
   "cell_type": "code",
   "execution_count": null,
   "id": "9189c3fc",
   "metadata": {},
   "outputs": [],
   "source": [
    "len(factors)"
   ]
  },
  {
   "cell_type": "code",
   "execution_count": null,
   "id": "5e7feff1",
   "metadata": {},
   "outputs": [],
   "source": [
    "[f.shape for f in factors]"
   ]
  },
  {
   "cell_type": "code",
   "execution_count": null,
   "id": "db8ceb5e",
   "metadata": {},
   "outputs": [],
   "source": [
    "np.isclose(Y, factors[0]) # obviously they are not close enough for numpy, will do all possible column permutations correlation then"
   ]
  },
  {
   "cell_type": "code",
   "execution_count": null,
   "id": "33be6ed5",
   "metadata": {},
   "outputs": [],
   "source": [
    "import pandas as pd\n",
    "import seaborn as sns\n",
    "import matplotlib.pyplot as plt\n",
    "\n",
    "def corrEstimate (i, j, Y, factors):\n",
    "    data = {\n",
    "        'Y': Y[:,i], \n",
    "        'Y_p': factors[0][:,j]\n",
    "    }\n",
    "\n",
    "    df = pd.DataFrame(data, columns=['Y', 'Y_p'])\n",
    "    corr = df.corr()\n",
    "    print(\"Correlation matrix of estimated column\" + str(i) + \" with ground truth \" + str(j) + \" is : \")\n",
    "    print(corr)\n",
    "    \n",
    "    return corr, ax"
   ]
  },
  {
   "cell_type": "code",
   "execution_count": null,
   "id": "38e876bc",
   "metadata": {},
   "outputs": [],
   "source": [
    "plt.figure(figsize=(15, 12))\n",
    "ax = 0\n",
    "corrList = []\n",
    "for i in range(Y.shape[1]):\n",
    "    for j in range(factors[0].shape[1]):\n",
    "        corr, ax = corrEstimate(i, j, Y, factors)\n",
    "        corrList.append(corr)\n",
    "\n",
    "n=0 # there is a bug that makes the plot read the same correlation matrix every time, I tried inside the function, and then added the list to separate the variables, and not good\n",
    "for i in range(Y.shape[1]):\n",
    "    for j in range(factors[0].shape[1]):\n",
    "        ax = plt.subplot(3, 3, n+1)\n",
    "        plt.imshow(corrList[n],cmap='coolwarm',interpolation='nearest')\n",
    "        n= n+1"
   ]
  },
  {
   "cell_type": "markdown",
   "id": "7ef678b3",
   "metadata": {},
   "source": [
    "### It is obvious that the first estimated chemical matches the first ground truth, more than the other two\n",
    "\n",
    "### The second estimated chemical matches the third ground truth, \n",
    "\n",
    "### The third estimated checmical matches the second ground truth\n",
    "\n",
    "### The second and third are swapped"
   ]
  },
  {
   "cell_type": "markdown",
   "id": "6cf1cd04",
   "metadata": {},
   "source": [
    "# Ch6: Fundamentals of Tensor Analysis & Applications\n",
    "\n",
    "## 6.1 Scientific Computing Applications\n",
    "\n",
    "## Second Problem is a survey answers about happiness scores related to 3 conditions. This created a three-way contingency table has as its variables: Happiness reported by participants in a survey (i mode-1 : 3 categories), Number of siblings (j mode-2 : Siblings - 5 categories) and the Years of schooling completed (k mode-3 : Schooling - 4 categories). It is thus a frequency table containing in the cells the number of people with a particular combination of categories. \n",
    "\n",
    "## the data is stored in a dat file that reads a 2 dimensional matricised tensor, (12, 5), assuming that reshaping into (3, 4, 5) and swapping the mode-2 and mode-3 in the problem definition in https://three-mode.leidenuniv.nl/ will be ok\n",
    "\n",
    "## Will decompose with Tucker to find which rank gives the best fit."
   ]
  },
  {
   "cell_type": "code",
   "execution_count": null,
   "id": "d2f2e436",
   "metadata": {},
   "outputs": [],
   "source": [
    "import csv\n",
    "\n",
    "# read flash.dat to a list of lists\n",
    "datContent = [i.strip().split() for i in open(\"data/Happiness.dat\").readlines()]\n",
    "\n",
    "X = np.array(datContent)\n",
    "X.shape"
   ]
  },
  {
   "cell_type": "code",
   "execution_count": null,
   "id": "e0d7949b",
   "metadata": {},
   "outputs": [],
   "source": [
    "X = X.reshape(3, 4, 5)\n",
    "X.shape"
   ]
  },
  {
   "cell_type": "code",
   "execution_count": null,
   "id": "e98b4df1",
   "metadata": {},
   "outputs": [],
   "source": [
    "# doing Tucker decomposition\n",
    "from tensorly.decomposition import tucker\n",
    "import tensorly as tl\n",
    "import math\n",
    "\n",
    "\n",
    "\n",
    "def doTucker (X, rank):\n",
    "    X = tl.tensor(X,dtype=float)\n",
    "    core, factors = tucker(X, rank=rank)\n",
    "    tucker_reconstruction_2 = tl.tucker_to_tensor((core, factors))\n",
    "\n",
    "    tk_RMSE = math.sqrt(np.square(np.subtract(X,tucker_reconstruction_2)).mean() )\n",
    "    print (\"Tucker \" + str(rank) + \" RMSE = \", tk_RMSE)\n",
    "    return core ,factors, tk_RMSE"
   ]
  },
  {
   "cell_type": "code",
   "execution_count": null,
   "id": "f6d0d75f",
   "metadata": {},
   "outputs": [],
   "source": [
    "# doing Tucker decomposition\n",
    "from tensorly.decomposition import tucker\n",
    "import tensorly as tl\n",
    "\n",
    "ranks = []\n",
    "tucker_RMSE=[]\n",
    "\n",
    "for i in range(np.prod(X.shape)): # iterate through the flat index\n",
    "    rank= np.unravel_index(i, X.shape) # get the multidimensional index to use as a rank, in case it does not contain a zero, this will traverse all possible ranks\n",
    "    if np.all(rank):\n",
    "        core ,factors, tk_RMSE = doTucker(X, rank)\n",
    "        tucker_RMSE.append(tk_RMSE)\n",
    "        ranks.append(str(rank))\n",
    "\n",
    "\n",
    "max = np.argmin(tucker_RMSE)\n",
    "print (\"Lowest RMSE achieched at rank = \" + ranks[max]) # this will show the full matrix rank, "
   ]
  },
  {
   "cell_type": "code",
   "execution_count": null,
   "id": "26b7e0ef",
   "metadata": {},
   "outputs": [],
   "source": [
    "import matplotlib.pyplot as plt\n",
    "%matplotlib inline\n",
    "\n",
    "fig = plt.figure( figsize=(20,6))\n",
    "plt.style.use('ggplot')\n",
    "\n",
    "x_pos = [i for i, _ in enumerate(ranks)]\n",
    "\n",
    "plt.bar(ranks, tucker_RMSE, color='green')\n",
    "plt.xlabel(\"Dimensionality Reduction Methods\")\n",
    "plt.ylabel(\"RMSE\")\n",
    "plt.title(\"Comparing Classification RMSE using RandomForest on Linear unsupervised PCA, supervised LDA/QDA and various Embedding Learning Algorithms\")\n",
    "\n",
    "plt.xticks(x_pos, ranks)\n",
    "\n",
    "plt.show()"
   ]
  },
  {
   "cell_type": "markdown",
   "id": "7e00df7d",
   "metadata": {},
   "source": [
    "## Looking at all possible ranks reconstruction error, it seems the highest errors occured when all modes were reduced, but when first mode only was reduced, the error was small, which means it is not very dominant in this dataset, and the third mode seems to be the most dominant.  \n",
    "\n",
    "In the book ( Kroonenberg, P.M., 2008. Applied multi-way data analysis, Wiley series in probability and statistics. Wiley-Interscience, Hoboken, N.J.) the author showed that rank (2,2,2) was the most fit to this dataset, which is proven here as well. The software he used can be downloaded from https://three-mode.leidenuniv.nl/ , "
   ]
  },
  {
   "cell_type": "markdown",
   "id": "df9f3d9f",
   "metadata": {},
   "source": [
    "### Tensorlab (Matlab package) Tensorisation Functions:\n",
    "\n",
    "##### A 2-dimensional implementation is available in scipy package that is not based on tensor higher dimensions"
   ]
  },
  {
   "cell_type": "code",
   "execution_count": 56,
   "id": "dccefde8",
   "metadata": {},
   "outputs": [
    {
     "data": {
      "text/plain": [
       "array([[1, 2, 3, 4, 5],\n",
       "       [2, 3, 4, 5, 0],\n",
       "       [3, 4, 5, 0, 0],\n",
       "       [4, 5, 0, 0, 0],\n",
       "       [5, 0, 0, 0, 0]])"
      ]
     },
     "execution_count": 56,
     "metadata": {},
     "output_type": "execute_result"
    }
   ],
   "source": [
    "from scipy.linalg import hankel\n",
    "\n",
    "\n",
    "v = [1, 2, 3, 4, 5]\n",
    "V = hankel(v);\n",
    "V\n"
   ]
  },
  {
   "cell_type": "code",
   "execution_count": 59,
   "id": "0a95cdc0",
   "metadata": {},
   "outputs": [
    {
     "data": {
      "text/plain": [
       "array([[1, 5, 4, 3, 2, 2, 1, 5, 4, 3, 3, 2, 1, 5, 4, 4, 3, 2, 1, 5, 5, 4,\n",
       "        3, 2, 1],\n",
       "       [5, 4, 3, 2, 2, 1, 5, 4, 3, 3, 2, 1, 5, 4, 4, 3, 2, 1, 5, 5, 4, 3,\n",
       "        2, 1, 0],\n",
       "       [4, 3, 2, 2, 1, 5, 4, 3, 3, 2, 1, 5, 4, 4, 3, 2, 1, 5, 5, 4, 3, 2,\n",
       "        1, 0, 0],\n",
       "       [3, 2, 2, 1, 5, 4, 3, 3, 2, 1, 5, 4, 4, 3, 2, 1, 5, 5, 4, 3, 2, 1,\n",
       "        0, 0, 0],\n",
       "       [2, 2, 1, 5, 4, 3, 3, 2, 1, 5, 4, 4, 3, 2, 1, 5, 5, 4, 3, 2, 1, 0,\n",
       "        0, 0, 0],\n",
       "       [2, 1, 5, 4, 3, 3, 2, 1, 5, 4, 4, 3, 2, 1, 5, 5, 4, 3, 2, 1, 0, 0,\n",
       "        0, 0, 0],\n",
       "       [1, 5, 4, 3, 3, 2, 1, 5, 4, 4, 3, 2, 1, 5, 5, 4, 3, 2, 1, 0, 0, 0,\n",
       "        0, 0, 0],\n",
       "       [5, 4, 3, 3, 2, 1, 5, 4, 4, 3, 2, 1, 5, 5, 4, 3, 2, 1, 0, 0, 0, 0,\n",
       "        0, 0, 0],\n",
       "       [4, 3, 3, 2, 1, 5, 4, 4, 3, 2, 1, 5, 5, 4, 3, 2, 1, 0, 0, 0, 0, 0,\n",
       "        0, 0, 0],\n",
       "       [3, 3, 2, 1, 5, 4, 4, 3, 2, 1, 5, 5, 4, 3, 2, 1, 0, 0, 0, 0, 0, 0,\n",
       "        0, 0, 0],\n",
       "       [3, 2, 1, 5, 4, 4, 3, 2, 1, 5, 5, 4, 3, 2, 1, 0, 0, 0, 0, 0, 0, 0,\n",
       "        0, 0, 0],\n",
       "       [2, 1, 5, 4, 4, 3, 2, 1, 5, 5, 4, 3, 2, 1, 0, 0, 0, 0, 0, 0, 0, 0,\n",
       "        0, 0, 0],\n",
       "       [1, 5, 4, 4, 3, 2, 1, 5, 5, 4, 3, 2, 1, 0, 0, 0, 0, 0, 0, 0, 0, 0,\n",
       "        0, 0, 0],\n",
       "       [5, 4, 4, 3, 2, 1, 5, 5, 4, 3, 2, 1, 0, 0, 0, 0, 0, 0, 0, 0, 0, 0,\n",
       "        0, 0, 0],\n",
       "       [4, 4, 3, 2, 1, 5, 5, 4, 3, 2, 1, 0, 0, 0, 0, 0, 0, 0, 0, 0, 0, 0,\n",
       "        0, 0, 0],\n",
       "       [4, 3, 2, 1, 5, 5, 4, 3, 2, 1, 0, 0, 0, 0, 0, 0, 0, 0, 0, 0, 0, 0,\n",
       "        0, 0, 0],\n",
       "       [3, 2, 1, 5, 5, 4, 3, 2, 1, 0, 0, 0, 0, 0, 0, 0, 0, 0, 0, 0, 0, 0,\n",
       "        0, 0, 0],\n",
       "       [2, 1, 5, 5, 4, 3, 2, 1, 0, 0, 0, 0, 0, 0, 0, 0, 0, 0, 0, 0, 0, 0,\n",
       "        0, 0, 0],\n",
       "       [1, 5, 5, 4, 3, 2, 1, 0, 0, 0, 0, 0, 0, 0, 0, 0, 0, 0, 0, 0, 0, 0,\n",
       "        0, 0, 0],\n",
       "       [5, 5, 4, 3, 2, 1, 0, 0, 0, 0, 0, 0, 0, 0, 0, 0, 0, 0, 0, 0, 0, 0,\n",
       "        0, 0, 0],\n",
       "       [5, 4, 3, 2, 1, 0, 0, 0, 0, 0, 0, 0, 0, 0, 0, 0, 0, 0, 0, 0, 0, 0,\n",
       "        0, 0, 0],\n",
       "       [4, 3, 2, 1, 0, 0, 0, 0, 0, 0, 0, 0, 0, 0, 0, 0, 0, 0, 0, 0, 0, 0,\n",
       "        0, 0, 0],\n",
       "       [3, 2, 1, 0, 0, 0, 0, 0, 0, 0, 0, 0, 0, 0, 0, 0, 0, 0, 0, 0, 0, 0,\n",
       "        0, 0, 0],\n",
       "       [2, 1, 0, 0, 0, 0, 0, 0, 0, 0, 0, 0, 0, 0, 0, 0, 0, 0, 0, 0, 0, 0,\n",
       "        0, 0, 0],\n",
       "       [1, 0, 0, 0, 0, 0, 0, 0, 0, 0, 0, 0, 0, 0, 0, 0, 0, 0, 0, 0, 0, 0,\n",
       "        0, 0, 0]])"
      ]
     },
     "execution_count": 59,
     "metadata": {},
     "output_type": "execute_result"
    }
   ],
   "source": [
    "V = hankel(V);\n",
    "V\n"
   ]
  },
  {
   "cell_type": "code",
   "execution_count": 60,
   "id": "b51d7ca7",
   "metadata": {},
   "outputs": [
    {
     "data": {
      "text/plain": [
       "(25, 25)"
      ]
     },
     "execution_count": 60,
     "metadata": {},
     "output_type": "execute_result"
    }
   ],
   "source": [
    "V.shape"
   ]
  },
  {
   "cell_type": "code",
   "execution_count": 61,
   "id": "7da711d6",
   "metadata": {},
   "outputs": [
    {
     "data": {
      "text/plain": [
       "array([[1, 5, 4, ..., 0, 0, 0],\n",
       "       [5, 4, 3, ..., 0, 0, 0],\n",
       "       [4, 3, 2, ..., 0, 0, 0],\n",
       "       ...,\n",
       "       [0, 0, 0, ..., 0, 0, 0],\n",
       "       [0, 0, 0, ..., 0, 0, 0],\n",
       "       [0, 0, 0, ..., 0, 0, 0]])"
      ]
     },
     "execution_count": 61,
     "metadata": {},
     "output_type": "execute_result"
    }
   ],
   "source": [
    "V = hankel(V);\n",
    "V"
   ]
  },
  {
   "cell_type": "code",
   "execution_count": 62,
   "id": "51e7a86d",
   "metadata": {},
   "outputs": [
    {
     "data": {
      "text/plain": [
       "(625, 625)"
      ]
     },
     "execution_count": 62,
     "metadata": {},
     "output_type": "execute_result"
    }
   ],
   "source": [
    "V.shape"
   ]
  },
  {
   "cell_type": "code",
   "execution_count": 57,
   "id": "58872fdb",
   "metadata": {},
   "outputs": [
    {
     "data": {
      "text/plain": [
       "array([[1, 2, 3, 4, 5],\n",
       "       [2, 1, 2, 3, 4],\n",
       "       [3, 2, 1, 2, 3],\n",
       "       [4, 3, 2, 1, 2],\n",
       "       [5, 4, 3, 2, 1]])"
      ]
     },
     "execution_count": 57,
     "metadata": {},
     "output_type": "execute_result"
    }
   ],
   "source": [
    "from scipy.linalg import toeplitz\n",
    "V = toeplitz(v);\n",
    "V\n"
   ]
  },
  {
   "cell_type": "code",
   "execution_count": 58,
   "id": "f4e3097e",
   "metadata": {},
   "outputs": [
    {
     "data": {
      "text/plain": [
       "array([[1, 5, 4, 3, 2],\n",
       "       [2, 1, 5, 4, 3],\n",
       "       [3, 2, 1, 5, 4],\n",
       "       [4, 3, 2, 1, 5],\n",
       "       [5, 4, 3, 2, 1]])"
      ]
     },
     "execution_count": 58,
     "metadata": {},
     "output_type": "execute_result"
    }
   ],
   "source": [
    "from scipy.linalg import circulant\n",
    "V = circulant(v);\n",
    "V"
   ]
  },
  {
   "cell_type": "markdown",
   "id": "a6396dec",
   "metadata": {},
   "source": [
    "### Attempting to implement hankelisation in higher dimensions as explained in https://www.tensorlab.net/doc/tensorization.html#hankelization-sec  and https://core.ac.uk/download/pdf/34637588.pdf \n",
    "\n",
    "and implemented in matlab. Only the required functions to run the BSS example are attempted with minimum functionality\n",
    "\n",
    "##### Hankelization : Will lead to curse of dimensionality, and reduced forms are performed by tensor factorisation"
   ]
  },
  {
   "cell_type": "code",
   "execution_count": 2,
   "id": "98d93619",
   "metadata": {},
   "outputs": [],
   "source": [
    "import numpy as np\n",
    "import math\n",
    "\n",
    "def hankelize (v, order = 2, sizes = None , indices = None,Dim = 1 ):\n",
    "    N = len(v)\n",
    "    if order > N:\n",
    "        print ('The order should not be larger than the number of elements in the tensorized dimension!')\n",
    "        return\n",
    "    if order < 2:\n",
    "        print ('The order must be larger than or equal to 2!')\n",
    "        return\n",
    "    if order == 2:\n",
    "        if sizes == None:\n",
    "            I = int(math.ceil(N / 2))\n",
    "            J = N - I + 1\n",
    "        else:\n",
    "            I = sizes[0]\n",
    "            J = sizes[1]\n",
    "        H = np.ndarray(shape=(I,J), dtype=np.int8)\n",
    "        for i in range (0, I):\n",
    "            for j in range (0, J):\n",
    "                H[i, j] = v[i+j-1]\n",
    "    else:\n",
    "            # ceil((1:options.Order-1)*N/options.Order);\n",
    "            I = np.ndarray(shape=(order), dtype=np.int8) # resulting tensorShape\n",
    "            # Y(ceil((k-1)*N/K):               ceil(k*N/K))  segments\n",
    "            elements = 0\n",
    "            for i in range (0, order):\n",
    "                if sizes == None:\n",
    "                    if i < order - 1:\n",
    "                        I[i] = int(math.ceil(N / order))\n",
    "                        #I[i] = int((N+order) / order) + 1\n",
    "                        elements += I[i]\n",
    "                    else:\n",
    "                        I[i]  = N - order + 1\n",
    "                        #I[i] = N +order - elements\n",
    "                else:\n",
    "                    I[i] = sizes[i]\n",
    "            tensorshape = tuple(I)\n",
    "            print (tensorshape)\n",
    "            H = np.ndarray(shape=tensorshape, dtype=np.int8)\n",
    "            \n",
    "            # This method of iterating through the high dimensional space in one-level non-nested and hard coded for every order like the above 2-D example\n",
    "            # might be the reason the order of the elements are not as described in the references. However the diagonal, anti-diagonal, or skew diagonal \n",
    "            # properties seem to be preserved. Further testing might be needed to maintain that a Hankel tensor has constant anti-hyperplanes, and take\n",
    "            # care of all exception handling, like mismatching order or parameter values or too large tensor to create a smaller one.\n",
    "            \n",
    "            for i in range (np.prod(I)): # iterate through the tensor flat indices\n",
    "                t_index = np.unravel_index(i, I) # get the tensor multidimensional index\n",
    "                print (t_index)\n",
    "                H[t_index] =v[np.sum(t_index) - order + 1]\n",
    "    return H"
   ]
  },
  {
   "cell_type": "code",
   "execution_count": 12,
   "id": "179566f6",
   "metadata": {},
   "outputs": [],
   "source": [
    "import numpy as np\n",
    "import tensorly as tl\n",
    "\n",
    "    \n",
    "def hankelize(X, **kwargs):\n",
    "    defaultKwargs = { 'Order': 2,\n",
    "        'Dim': 1,\n",
    "        'Sizes': np.NaN,\n",
    "        'Ind': np.NaN,\n",
    "        'PermToFirst': False,\n",
    "        'Full': 'auto',\n",
    "        'FullLimit': 1}\n",
    "    order = kwargs.get('Order', 2)\n",
    "    dim = kwargs.get('Dim', 1)\n",
    "    sizes = kwargs.get('Sizes', np.NaN)\n",
    "    ind = kwargs.get('Ind', np.NaN)\n",
    "    perm_to_first = kwargs.get('PermToFirst', False)\n",
    "    full = kwargs.get('Full', 'auto')\n",
    "    full_limit = kwargs.get('FullLimit', 1)\n",
    "    \n",
    "    args = {'Order': order,\n",
    "        'Dim': dim,\n",
    "        'Sizes': sizes,\n",
    "        'Ind': ind,\n",
    "        'PermToFirst': perm_to_first,\n",
    "        'Full': full,\n",
    "        'FullLimit': full_limit}\n",
    "    KeepUnmatched = False\n",
    "    isdefault =  args ==defaultKwargs\n",
    "    shared_items = {k: args[k] for k in args if k in defaultKwargs and args[k] == defaultKwargs[k]}\n",
    "    \n",
    "    if dim > np.ndim(X):\n",
    "        raise ValueError('The given dimension is too large!')\n",
    "    if dim == 2 and np.ndim(X) == 1:\n",
    "        X = np.reshape(X, (-1, 1)) # Row to column vector: reshape(-1, 1) \n",
    "        \n",
    "    X = np.array(X)    \n",
    "    sx = np.shape(X)\n",
    "    N = sx[dim-1]\n",
    "    size_other = sx[dim:]  # list(sx[:dim-1]) + list(sx[dim:])\n",
    "    \n",
    "    if size_other == [1]:\n",
    "        size_other = []\n",
    "    \n",
    "    # Matricize the data\n",
    "    if np.ndim(X) == 2:\n",
    "        if dim == 2:\n",
    "            Xmat = X.transpose()\n",
    "        else:\n",
    "            Xmat = X\n",
    "    else:\n",
    "        Xmat = tl.unfold(X, dim-1)\n",
    "    Xmat.squeeze()\n",
    "    print (\"input shape: \" , Xmat.shape)\n",
    "        \n",
    "    if order < 2:\n",
    "        raise ValueError('The order must be larger than or equal to 2!')\n",
    "    \n",
    "    #  Set PermToFirst \n",
    "    if perm_to_first == False:\n",
    "        perm_to_first = False\n",
    "    \n",
    "    if not isinstance(perm_to_first, bool):\n",
    "        raise ValueError('The option PermToFirst should be a boolean!')\n",
    "        \n",
    "    \n",
    "    if perm_to_first: \n",
    "        perm_to_first = 1;\n",
    "    else: \n",
    "        perm_to_first = dim;\n",
    "   \n",
    "    # Set the default values\n",
    "    if order == 2:\n",
    "        if np.all(np.isnan(ind)):\n",
    "            if np.all(np.isnan(sizes)):\n",
    "                ind = np.ceil(np.arange(1, order) * N / order)\n",
    "                ind = ind.astype(np.int64)\n",
    "                print (\"Order: \" , order)\n",
    "                print (\"ind: \" , ind)\n",
    "            else:\n",
    "                order = len(sizes)+1\n",
    "                print (\"Order: \" , order)\n",
    "                print (\"ind: \" , ind)\n",
    "                print (\"sizes: \" , sizes)\n",
    "\n",
    "                ind = np.cumsum(sizes) - np.arange(0, order-1)\n",
    "        else:\n",
    "            order = len(ind) \n",
    "            if np.all(not np.isnan(sizes)) and (len(ind) != len(sizes) or not np.all(ind == np.cumsum(sizes) - np.arange(0, order-1))):\n",
    "                raise ValueError('The option fields Ind and Sizes do not correspond!')\n",
    "\n",
    "        if order != len(ind)+1:\n",
    "            raise ValueError('The number of indices should be equal to order-1!')\n",
    "    else:\n",
    "        if np.all(np.isnan(ind)):\n",
    "            if np.all(np.isnan(sizes)):\n",
    "                ind = np.ceil(np.arange(1, order) * N / order)\n",
    "                ind = ind.astype(np.int64)\n",
    "            else:\n",
    "                if len(sizes)!=order:\n",
    "                    raise ValueError('The number of sizes should be equal to order-1')\n",
    "                ind = np.cumsum(sizes) - np.arange(0, order-1)\n",
    "        else:\n",
    "            if np.all(not np.isnan(sizes)) and (len(ind)!=len(sizes) or\n",
    "                    np.any(ind!=np.cumsum(sizes)-np.arange(0, order-1))):\n",
    "                raise ValueError('The option fields ind and sizes do not correspond!')\n",
    "    \n",
    "    if(order!=len(ind)+1):\n",
    "        raise ValueError('The number of indices should be equal to order-1!')\n",
    "    print (\"N: \" , N)\n",
    "    print (\"Dim: \" , dim)\n",
    "    print (\"Order: \" , order)\n",
    "    print (\"ind: \" , ind)\n",
    "    print (\"sizes: \" , sizes)\n",
    "    print (\"perm_to_first: \" , perm_to_first)\n",
    "    print (\"size_other: \" , size_other)\n",
    "               \n",
    "    # Determine the size of the Hankel matrices/tensors\n",
    "    #size_hankel = np.array([ind, N]) - np.array([0] + list(ind[:-1]))\n",
    "    xx = np.hstack((ind, N))\n",
    "    yy = np.hstack(([0], np.subtract(ind, 1)))\n",
    "    size_hankel = np.subtract(xx, yy)\n",
    "    print (\"size_hankel: \" , size_hankel)\n",
    "    \n",
    "    if np.any(size_hankel < 0):\n",
    "        raise ValueError('The indices should increase monotonically between 0 and N!')\n",
    "        \n",
    "    if order > N:\n",
    "        raise ValueError('The order should not be larger than the number of elements in the tensorized dimension!')  \n",
    "    whosX = X.nbytes / X.shape[dim-1] * np.prod(size_hankel)\n",
    "    totalbytes = whosX\n",
    "    print (\"Total required Bytes are: \" , totalbytes)\n",
    "    if full == 'auto':\n",
    "        if totalbytes > full_limit * 2**30:\n",
    "            full = False\n",
    "            print('The fullLimit has been reached, and instead of the dense tensor, the efficient representation is returned. The dense tensor can be obtained by setting the \"full\" option to True.')\n",
    "        else:\n",
    "            full = True\n",
    "    \n",
    "    t = order+ np.arange(1,perm_to_first)           \n",
    "    repermorder = np.hstack(\n",
    "        (order+ np.arange(1,perm_to_first), np.arange(1, order), np.arange(order+perm_to_first-1,len(np.hstack((size_hankel,size_other)))+1)))\n",
    "    #print (\"repermorder: \", repermorder)\n",
    "    hstruct = None\n",
    "    xx = np.hstack((size_hankel,size_other))\n",
    "    yy = np.squeeze(np.ones((1 , len(repermorder) - len(np.hstack((size_hankel, size_other)))+1)))\n",
    "    structSize = np.hstack((xx, yy))\n",
    "    if (full is True) or (hstruct is not None):\n",
    "        hstruct = {\n",
    "            'type': 'hankel',\n",
    "            'val': Xmat,\n",
    "            'dim': dim,\n",
    "            'order': order,\n",
    "            'ind': ind,\n",
    "            'ispermuted': perm_to_first != dim,\n",
    "            'repermorder': repermorder,\n",
    "            'size': structSize,\n",
    "            'size' : structSize[repermorder],\n",
    "            'subsize': {\n",
    "                'hankel': size_hankel,\n",
    "                'other': size_other\n",
    "            }\n",
    "        }\n",
    "    print (\"hstruct\", hstruct)    \n",
    "    if full is True:\n",
    "        allind2 = subhankel(size_hankel)\n",
    "        H = Xmat[allind2, :]\n",
    "        xx = np.hstack((size_hankel, size_other))\n",
    "        xx = xx.astype(np.int64)\n",
    "        H = H.reshape(xx)\n",
    "        if perm_to_first != 1:\n",
    "            H = np.transpose(H, axes=repermorder)\n",
    "    else:\n",
    "        H = hstruct\n",
    "        \n",
    "    return H\n",
    "\n",
    "def subhankel(sizes):\n",
    "    lidx = np.transpose(np.arange(1, sizes[0]+1))\n",
    "    for i in range(1, len(sizes)):\n",
    "        ridx = np.arange(0, sizes[i])\n",
    "        xx = np.squeeze(np.hstack(( np.ones(( i+1)) , len(ridx))))\n",
    "        xx = xx.astype(np.int64)\n",
    "        ridx = ridx.reshape(xx)\n",
    "        lidx =  np.add.outer(lidx, ridx)\n",
    "        \n",
    "    allind = list(lidx.flatten())\n",
    "    allind = np.subtract(allind, 1)\n",
    "    return allind"
   ]
  },
  {
   "cell_type": "code",
   "execution_count": 4,
   "id": "ae8029a3",
   "metadata": {},
   "outputs": [],
   "source": [
    "def getstructure(*args):\n",
    "    if len(args) == 1:\n",
    "        if isinstance(args[0], (np.ndarray, int, float)):\n",
    "            structure = 'full'\n",
    "        elif isinstance(args[0], list) or isinstance(args[0], tuple):\n",
    "            if all(isinstance(item, (int, float)) for item in args[0]):\n",
    "                if all(len(item.shape) == 2 for item in args[0]):\n",
    "                    structure = 'cpd'\n",
    "                else:\n",
    "                    structure = 'tt'\n",
    "            elif all(isinstance(item, (list, tuple)) for item in args[0]):\n",
    "                structure = 'btd'\n",
    "            elif len(args[0]) > 1 and len(args[0]) == 2 and isinstance(args[0][0], (list, tuple)) and isinstance(args[0][1], (int, float)):\n",
    "                structure = 'lmlra'\n",
    "            else:\n",
    "                raise ValueError('Unknown structure')\n",
    "        elif isinstance(args[0], dict):\n",
    "            if 'incomplete' in args[0] and args[0]['incomplete']:\n",
    "                structure = 'incomplete'\n",
    "            elif 'sparse' in args[0] and args[0]['sparse']:\n",
    "                structure = 'sparse'\n",
    "            elif 'type' in args[0]:\n",
    "                structure = args[0]['type']\n",
    "            else:\n",
    "                raise ValueError('Unknown structure')\n",
    "        else:\n",
    "            raise ValueError('Unknown structure')\n",
    "    elif len(args) == 2:\n",
    "        if isinstance(args[0], (list, tuple)) and isinstance(args[1], (int, float)):\n",
    "            structure = 'lmlra'\n",
    "        else:\n",
    "            raise ValueError('Unknown structure')\n",
    "    else:\n",
    "        raise ValueError('Unknown structure')\n",
    "    \n",
    "    return structure"
   ]
  },
  {
   "cell_type": "code",
   "execution_count": 5,
   "id": "a92f89e1",
   "metadata": {},
   "outputs": [],
   "source": [
    "def getorder(T, S=None):\n",
    "    try:\n",
    "        structure = getstructure(T)\n",
    "        if structure == 'full':\n",
    "            return len(T.shape)\n",
    "        elif structure in ['incomplete', 'sparse']:\n",
    "            if 'size' in T:\n",
    "                return len(T['size'])\n",
    "            else:\n",
    "                raise ValueError('T has an invalid structure')\n",
    "        elif structure == 'cpd':\n",
    "            return len(T)\n",
    "        elif structure == 'lmlra':\n",
    "            if S is None:\n",
    "                return len(T[0])\n",
    "            else:\n",
    "                return len(T)\n",
    "        elif structure == 'btd':\n",
    "            return len(T[0])-1\n",
    "        elif structure == 'tt':\n",
    "            return len(T)\n",
    "        elif structure in ['hankel', 'loewner', 'segment', 'decimate']:\n",
    "            if 'size' in T:\n",
    "                return len(T['size'])\n",
    "            else:\n",
    "                raise ValueError('T has an invalid structure')\n",
    "        else:\n",
    "            raise ValueError('T has an unknown structure')\n",
    "    except getstructure.UnknownStructureError:\n",
    "        raise ValueError('T has an unknown structure')"
   ]
  },
  {
   "cell_type": "code",
   "execution_count": 6,
   "id": "de8ee4a2",
   "metadata": {},
   "outputs": [
    {
     "name": "stdout",
     "output_type": "stream",
     "text": [
      "U.shape:  (3, 4, 3)\n",
      "T:  [[[ 18  36  54]\n",
      "  [ 36  72 108]\n",
      "  [ 54 108 162]]\n",
      "\n",
      " [[ 18  36  54]\n",
      "  [ 36  72 108]\n",
      "  [ 54 108 162]]\n",
      "\n",
      " [[ 18  36  54]\n",
      "  [ 36  72 108]\n",
      "  [ 54 108 162]]]\n",
      "T.shape:  (3, 3, 3)\n",
      "type of indices:  <class 'numpy.ndarray'>\n",
      "T_subset indices = [1, 2, 3]:  [18 18 18]\n",
      "T_subset.shape:  (3,)\n"
     ]
    },
    {
     "name": "stderr",
     "output_type": "stream",
     "text": [
      "C:\\Users\\DELLPR~1\\AppData\\Local\\Temp/ipykernel_7676/1468056951.py:16: FutureWarning: elementwise comparison failed; returning scalar instead, but in the future will perform elementwise comparison\n",
      "  if indices[0] == ':':\n"
     ]
    },
    {
     "data": {
      "text/plain": [
       "'\\n\\nNote: You need to replace `U1`, `U2`, ..., `UK`, `S1`, `S2`, ..., `SL` with the actual matrices or arrays that make up the BTD.\\n'"
      ]
     },
     "execution_count": 6,
     "metadata": {},
     "output_type": "execute_result"
    }
   ],
   "source": [
    "import numpy as np\n",
    "# BLOCK-Term Decomposition (BTD) \n",
    "# BTDGEN Generate full tensor given a BTD.\n",
    "def btdgen(U, *indices):\n",
    "    N = len(U[0]) - 1\n",
    "    size_tens = [np.size(U[0][n], 0) for n in range(N)]\n",
    "    if len(indices) == 0:\n",
    "        T = U[0][0] @ np.kron(U[0][-1].T, [U[0][n] for n in range(N)]) \n",
    "        #T = np.resize(T, size_tens)\n",
    "        for r in range(1, len(U)):\n",
    "            T = T + U[r][0] @ np.kron(U[r][-1].T, [U[r][n] for n in range(N)])\n",
    "        T = np.resize(T, size_tens)\n",
    "        return T\n",
    "    \n",
    "    elif len(indices) == 1:\n",
    "        if indices[0] == ':':\n",
    "            T = btdgen(U).flatten()\n",
    "            return T\n",
    "        \n",
    "        size_output = np.shape(indices[0])\n",
    "        T = 0        \n",
    "        if indices[0].ndim == 1:  # Linear indexing\n",
    "            sub = np.unravel_index(indices[0], size_tens)\n",
    "        else:\n",
    "            sub = indices[0]\n",
    "\n",
    "        sub = np.array(sub)\n",
    "        sub = sub.astype(np.int64)\n",
    "\n",
    "        for r in range(len(U)):\n",
    "            S = U[r][N]\n",
    "            size_core = [np.size(U[r][n]) for n in range(len(U[r]) - 1)]\n",
    "            idx = np.zeros((1, len(U[r])-1), dtype=np.int64) \n",
    "            idx = idx.squeeze()\n",
    "            for i in range(np.size(S)):\n",
    "                tmp = np.dot (S[idx[i]] , U[r][0][sub[0][idx[0]]])\n",
    "                for n in range(1, len(size_core)):\n",
    "                    tmp =  np.dot(tmp , U[r][n][sub[n][ idx[n]]])\n",
    "                \n",
    "                T = T + tmp\n",
    "        \n",
    "        return np.resize(T, size_output)\n",
    "    \n",
    "    elif len(indices) == N + 1:\n",
    "        for r in range(len(U)):\n",
    "            for n in range(N):\n",
    "                U[r][n] = U[r][n][np.ix_(indices[n])]\n",
    "        \n",
    "        return btdgen(U)\n",
    "    \n",
    "    else:\n",
    "        raise ValueError(\"Either linear or subscripts indices should be provided\")\n",
    "\n",
    "'''\n",
    "\n",
    "\n",
    "You can use this function by passing the BTD tensor `U` and the desired indices as arguments. For example:\n",
    "\n",
    "'''\n",
    "U1 = [1, 2, 3]\n",
    "U2 = [1, 2, 3]\n",
    "U3 = [1, 2, 3]\n",
    "S1 = [1, 2, 3]\n",
    "S2 = [1, 2, 3]\n",
    "S3 = [1, 2, 3]\n",
    "\n",
    "U = [[U1, U2, U3, S1],\n",
    "     [U1, U2, U3, S2],\n",
    "     [U1, U2, U3, S3]]\n",
    "U = np.array(U)\n",
    "print (\"U.shape: \", U.shape)\n",
    "T = btdgen(U)  # Compute the full tensor T\n",
    "print (\"T: \",T)\n",
    "print (\"T.shape: \",T.shape)\n",
    "indices = np.array([1, 2, 3])\n",
    "indices = indices.astype(np.int64)\n",
    "print (\"type of indices: \", type(indices))\n",
    "T_subset = btdgen(U, indices)  # Compute a subset of the tensor T\n",
    "print (\"T_subset indices = [1, 2, 3]: \",T_subset)\n",
    "print (\"T_subset.shape: \",T_subset.shape)\n",
    "'''\n",
    "\n",
    "Note: You need to replace `U1`, `U2`, ..., `UK`, `S1`, `S2`, ..., `SL` with the actual matrices or arrays that make up the BTD.\n",
    "'''"
   ]
  },
  {
   "cell_type": "code",
   "execution_count": 7,
   "id": "f46e2a75",
   "metadata": {},
   "outputs": [],
   "source": [
    "import numpy as np\n",
    "from scipy.sparse import coo_matrix\n",
    "\n",
    "def ful(T, *args):\n",
    "    type = getstructure(T)\n",
    "    if type == 'full':\n",
    "        if len(args) > 0:\n",
    "            T = T[args]\n",
    "    elif type == 'cpd':\n",
    "        T = cpdgen(T, *args)\n",
    "    elif type == 'lmlra':\n",
    "        T = lmlragen(T[0], T[1], *args)\n",
    "    elif type == 'btd':\n",
    "        T = btdgen(T, *args)\n",
    "    elif type == 'tt':\n",
    "        T = ttgen(T, *args)\n",
    "    elif type == 'hankel':\n",
    "        if len(args) == 0:\n",
    "            H = hankelize(T.val, dim=1, order=T.order, ind=T.ind, full=True, perm=True, fullLimit=np.inf)\n",
    "            H = np.reshape(H, [T.subsize.hankel, T.subsize.other])\n",
    "            T = permute(H, T.repermorder)\n",
    "        elif len(args) == 1:\n",
    "            if args[0] == ':':\n",
    "                T = np.reshape(ful(T), [-1, 1])\n",
    "                return T\n",
    "            sub = []\n",
    "            for i in range(getorder(T)):\n",
    "                sub.append(np.unravel_index(args[0], getsize(T)[i]))\n",
    "        elif len(args) == getorder(T) + 1:\n",
    "            for i in range(len(args)):\n",
    "                if args[i] == ':':\n",
    "                    args[i] = np.arange(1, T.size[i] + 1)\n",
    "            sub = np.meshgrid(*args, indexing='ij')\n",
    "            sub = [np.ravel(x) for x in sub]\n",
    "        else:\n",
    "            raise ValueError('Either linear or subscripts indices should be provided')\n",
    "        \n",
    "        if len(args) > 0:\n",
    "            otherdims = list(range(1, T.dim)) + list(range(T.dim + T.order, getorder(T)))\n",
    "            dims = list(range(T.dim, T.dim + T.order))\n",
    "            dataind = np.sum(np.stack(sub)[dims], axis=0) - T.order + 1\n",
    "            if len(otherdims) == 0:\n",
    "                dataotherind = np.ones_like(dataind)\n",
    "            elif len(otherdims) == 1:\n",
    "                dataotherind = sub[otherdims[0]]\n",
    "            else:\n",
    "                dataotherind = np.ravel_multi_index(sub[otherdims], T.subsize.other)\n",
    "            \n",
    "            valind = np.ravel_multi_index([dataind, dataotherind], T.val.shape)\n",
    "            \n",
    "            if len(args) == 2:\n",
    "                T = np.reshape(T.val[valind], args[0].shape)\n",
    "            else:\n",
    "                shape = [len(arg) for arg in args]\n",
    "                T = np.reshape(T.val[valind], shape)\n",
    "            \n",
    "    elif type == 'loewner':\n",
    "        if len(args) == 0:\n",
    "            L = loewnerize(T.val, dim=1, order=T.order, ind=T.ind, full=True, perm=True, t=T.t, fullLimit=np.inf)\n",
    "            L = np.reshape(L, [T.subsize.loewner, T.subsize.other])\n",
    "            T = permute(L, T.repermorder)\n",
    "        elif len(args) == 1:\n",
    "            if args[0] == ':':\n",
    "                T = np.reshape(ful(T), [-1, 1])\n",
    "                return T\n",
    "            sub = []\n",
    "            for i in range(getorder(T)):\n",
    "                sub.append(np.unravel_index(args[0], getsize(T)[i]))\n",
    "        elif len(args) == getorder(T) + 1:\n",
    "            for i in range(len(args)):\n",
    "                if args[i] == ':':\n",
    "                    args[i] = np.arange(1, T.size[i] + 1)\n",
    "            sub = np.meshgrid(*args, indexing='ij')\n",
    "            sub = [np.ravel(x) for x in sub]\n",
    "        else:\n",
    "            raise ValueError('Either linear or subscripts indices should be provided')\n",
    "        \n",
    "        if len(args) > 0:\n",
    "            otherdims = list(range(1, T.dim)) + list(range(T.dim + T.order, getorder(T)))\n",
    "            dims = list(range(T.dim, T.dim + T.order))\n",
    "            \n",
    "            if len(otherdims) == 1:\n",
    "                dataotherind = sub[otherdims[0]]\n",
    "            elif len(otherdims) > 1:\n",
    "                dataotherind = np.ravel_multi_index(sub[otherdims], T.subsize.other)\n",
    "            \n",
    "            totaldata = 0\n",
    "            for i in range(len(dims)):\n",
    "                idx = T.ind[i][sub[dims[i]]].T\n",
    "                \n",
    "                if len(otherdims) == 0:\n",
    "                    linidx = idx\n",
    "                else:\n",
    "                    linidx = np.ravel_multi_index([idx, dataotherind], T.val.shape)\n",
    "                \n",
    "                data = T.val[linidx]\n",
    "                for o in list(range(1, i)) + list(range(i + 1, len(dims))):\n",
    "                    data = data / (T.t[T.ind[i][sub[dims[i]]]] - T.t[T.ind[o][sub[dims[o]]]])\n",
    "                \n",
    "                totaldata = totaldata + data\n",
    "            \n",
    "            if len(args) == 2:\n",
    "                T = np.reshape(totaldata, args[0].shape)\n",
    "            else:\n",
    "                shape = [len(arg) for arg in args]\n",
    "                T = np.reshape(totaldata, shape)\n",
    "    \n",
    "    elif type in ['incomplete', 'sparse']:\n",
    "        val = T.val\n",
    "        size_tens = T.size\n",
    "        \n",
    "        if len(args) == 0:\n",
    "            if 8 * np.prod(size_tens) > 8e9:\n",
    "                raise ValueError('T is too large to be stored as an array.')\n",
    "            if not hasattr(T, 'ind'):\n",
    "                ind = np.ravel_multi_index(T.sub, size_tens)\n",
    "            else:\n",
    "                ind = T.ind\n",
    "            \n",
    "            if type == 'sparse':\n",
    "                T = coo_matrix((val, (ind, np.zeros_like(ind))), shape=size_tens).toarray()\n",
    "            else:\n",
    "                T = np.full(size_tens, np.nan)\n",
    "                T[ind] = val\n",
    "        elif len(args) == 1:\n",
    "            if args[0] == ':':\n",
    "                T = np.reshape(ful(T), [-1, 1])\n",
    "                return T\n",
    "            if not hasattr(T, 'ind'):\n",
    "                T = fmt(T)\n",
    "            if type == 'incomplete':\n",
    "                val = np.full(args[0].shape, np.nan)\n",
    "            else:\n",
    "                val = np.zeros(args[0].shape)\n",
    "            ia, ib = np.isin(args[0], T.ind)\n",
    "            val[ia] = T.val[ib[ia]]\n",
    "            T = val\n",
    "        elif len(args) == len(size_tens) + 1:\n",
    "            size_result = [len(arg) for arg in args]\n",
    "            if 8 * np.prod(size_result) > 8e9:\n",
    "                raise ValueError('T is too large to be stored as an array.')\n",
    "            if not hasattr(T, 'ind'):\n",
    "                T = fmt(T)\n",
    "            if type == 'incomplete':\n",
    "                val = np.full(size_result, np.nan)\n",
    "            else:\n",
    "                val = np.zeros(size_result)\n",
    "            sub = np.meshgrid(*args, indexing='ij')\n",
    "            ind = np.ravel_multi_index(sub, T.size)\n",
    "            ia, ib = np.isin(ind, T.ind)\n",
    "            val[ia] = T.val[ib[ia]]\n",
    "            T = val\n",
    "        else:\n",
    "            raise ValueError('Either linear or subscripts indices should be provided')\n",
    "    \n",
    "    elif type == 'segment':\n",
    "        X = desegmentize(T)\n",
    "        X = segmentize(X, dim=T.dim, order=T.order, segsize=T.segsize, perm=T.ispermuted, shift=T.shift)\n",
    "        T = ful(X, *args)\n",
    "    \n",
    "    elif type == 'decimate':\n",
    "        X = dedecimate(T)\n",
    "        X = decimate(X, dim=T.dim, order=T.order, subsample=T.subsample, perm=T.ispermuted, shift=T.shift)\n",
    "        T = ful(X, *args)\n",
    "    \n",
    "    else:\n",
    "        raise ValueError('Unknown structured tensor type.')\n",
    "\n",
    "    return T"
   ]
  },
  {
   "cell_type": "code",
   "execution_count": 51,
   "id": "513c0f2e",
   "metadata": {},
   "outputs": [],
   "source": [
    "import numpy as np\n",
    "import scipy.fftpack as fft\n",
    "import itertools\n",
    "# This function attempts to write in Python the similar function in Tensorlab Matlab toolbox\n",
    "# I kept only some options working, and others attempted without testing, and others not attempted at all\n",
    "\n",
    "def dehankelize(H, **kwargs):\n",
    "    def hankel_freq(order, size_hankel, N):\n",
    "        # Construct the frequencies of the data - it seems not correct\n",
    "        if order == 2:\n",
    "            m = min(size_hankel[0], N-size_hankel[0]+1)\n",
    "            w = np.concatenate((np.arange(1, m), m*np.ones(N-2*m+2), np.arange(m-1, 0, -1)))\n",
    "            w = w.reshape(-1, 1) # transpose\n",
    "        else:\n",
    "            w = np.fft.fft(np.ones(size_hankel[0]), N)\n",
    "            if w.shape[0] == 1:\n",
    "                w = w.reshape(1, -1)\n",
    "            for i in range(1, len(size_hankel)):\n",
    "                tmp = np.fft.fft(np.ones(size_hankel[i]), N)\n",
    "                if tmp.shape[0] == 1:\n",
    "                    w = w * tmp.reshape(1, -1)\n",
    "                else:\n",
    "                    w = w * tmp\n",
    "            w = np.round(np.fft.ifft(w)).astype(int)\n",
    "    \n",
    "        return w\n",
    "\n",
    "    def sub_hankel(sizes):\n",
    "        # Construct the indices of the Hankel matrix/tensor\n",
    "        allind = np.arange(1, sizes[0] + 1)\n",
    "        for i in range(1, len(sizes)):\n",
    "            ridx = np.arange(sizes[i])\n",
    "            ridx = np.reshape(ridx, [1] * i + [len(ridx)])\n",
    "            lidx = np.add.outer(allind, ridx)\n",
    "            allind = lidx.flatten()\n",
    "\n",
    "        return allind\n",
    "    \n",
    "    defaultKwargs = { 'Order': 2,\n",
    "        'Dim': 1,\n",
    "        'Dims': np.NaN,\n",
    "        'Method':'mean',\n",
    "        'PermToDim': np.NaN,\n",
    "        'Rank':  np.NaN\n",
    "        }\n",
    "    order = kwargs.get('Order', 2)\n",
    "    dim = kwargs.get('Dim', 1)\n",
    "    dims = kwargs.get('Dims', np.NaN)\n",
    "    method = kwargs.get('Method', 'mean')\n",
    "    permToDim = kwargs.get('PermToDim', np.NaN)\n",
    "    rank = kwargs.get('Rank', np.NaN)\n",
    "    \n",
    "    args = {'Order': order,\n",
    "        'Dim': dim,\n",
    "        'Dims': dims,\n",
    "        'Method': method,\n",
    "        'PermToDim': permToDim,\n",
    "        'Rank': rank}\n",
    "    KeepUnmatched = False\n",
    "    isdefault =  args ==defaultKwargs\n",
    "    shared_items = {k: args[k] for k in args if k in defaultKwargs and args[k] == defaultKwargs[k]}\n",
    "    \n",
    "    if not np.isnan(dims):\n",
    "        if dim != 1: # not default and set by caller\n",
    "            raise ValueError('Using both the ''Dim'' and ''Dims'' option arguments is invalid!')  \n",
    "        if order != 2: # not default, set by caller\n",
    "            if dims+order-1>getorder(H):\n",
    "                raise ValueError('The given order is not consistent with the dimensions of H!')\n",
    "            if len(dims)==1:\n",
    "                dims = np.arange(dims[0],dims[0]+order)\n",
    "        else: # order is not set\n",
    "            if np.any(dims>getorder(H)):\n",
    "                raise ValueError('The given dehankelization dimensions are not consistent with the dimensions of H!')\n",
    "            order = len(dims)\n",
    "        if len(dims!=order):\n",
    "            raise ValueError('The number of detensorized dimensions should be equal to the order!');\n",
    "    else: # dims is not set by the caller\n",
    "        if dim != 1: # not default and set by caller\n",
    "            if dim+order-1>getorder(H):\n",
    "                raise ValueError('The given dehankelization dimensions are not consistent with the dimensions of H!')        \n",
    "        if order != 2 and order>getorder(H):\n",
    "            raise ValueError('The given order is not consistent with the dimensions of H!')\n",
    "        dims = np.arange(dim,(dim+order))\n",
    "    if getstructure(H)!='cpd' and not np.isnan(rank):\n",
    "        raise ValueError('The rank option is not supported when H is not a CPD!')\n",
    "    dims=np.array(dims)\n",
    "    np.reshape(dims, np.hstack((1, dims.shape)))\n",
    "    \n",
    "    order = H.ndim\n",
    "    dims = np.arange(dim,(dim+order))\n",
    "    #Dehankelization\n",
    "    H_str = getstructure(H)        \n",
    "    if H_str == 'full':\n",
    "        # Given a full tensor\n",
    "        sh = np.shape(H)\n",
    "        size_hankel = [sh[i-1] for i in dims]\n",
    "        #print (\"order : \", order)\n",
    "        #print (\"dims : \", dims)\n",
    "        #print (\"sh : \", sh)\n",
    "        if method == 'fibers':\n",
    "            subs = np.tile(Ellipsis, (H.ndim))\n",
    "            #print (\"subs : \", subs)\n",
    "            for i in range(1, len(subs)):\n",
    "                subs[dims[i]-1] = 0\n",
    "            #print (\"subs : \", subs)\n",
    "            X = []\n",
    "            for i in range(order):\n",
    "                if i != 0:\n",
    "                    subs[dims[i-1]-1] = np.squeeze(np.array(sh[dims[i-1]]-1))\n",
    "                    subs[dims[i]-1] =np.hstack(range(1, sh[dims[i]-1]))    \n",
    "                    if len(sh) > 2:\n",
    "                        k = 0\n",
    "                        #for x in np.nditer(subs,flags=[\"refs_ok\"], op_flags=[\"readwrite\"]):\n",
    "                        for idx, x in np.ndenumerate(subs):\n",
    "                            if isinstance(x, int):\n",
    "                                if x >=H.shape[k]:\n",
    "                                    x = x %  H.shape[k]\n",
    "                                if x <0:\n",
    "                                    x = 0\n",
    "                            else:    \n",
    "                                x = x.astype(np.int64)\n",
    "                                if x.size == 1:   \n",
    "                                    if x >=H.shape[k]:\n",
    "                                        x = x %  H.shape[k]\n",
    "                                    if x <0:\n",
    "                                        x = 0\n",
    "                                else:\n",
    "                                    for j in range( x.size):\n",
    "                                        higherdims = x[j] >=H.shape[k]\n",
    "                                        x[higherdims] = x[j] %  H.shape[k]\n",
    "                                        negdims = x[j] <0\n",
    "                                        x[negdims] = 0\n",
    "                            #x = np.where(x >= maxVal, x %  maxVal, x)\n",
    "                            #x = np.where(x < 0, 0, x)\n",
    "                            subs[k] = x\n",
    "                            k = k + 1\n",
    "                  \n",
    "                print (\"subs : \", subs)\n",
    "                tmp = H[tuple(subs)]\n",
    "                print (\"tmp: \", tmp)\n",
    "                sizes = np.squeeze(np.hstack((np.shape(tmp) , np.squeeze( np.ones ( (1, np.ndim(H) - np.ndim(tmp)))))))\n",
    "                sizes = sizes.astype(np.int64)\n",
    "                perm_vec = list(range(H.ndim))\n",
    "                #for j in range (len(perm_vec)):\n",
    "                xx = perm_vec[0]\n",
    "                perm_vec[0] = perm_vec[dims[i]-1]\n",
    "                perm_vec[dims[i]-1] = xx\n",
    "                #print (\"perm_vec: \", perm_vec)\n",
    "                #print (\"tmp shape: \", tmp.shape)\n",
    "                #xx = perm_vec[0] \n",
    "                #perm_vec[0] = perm_vec[dims[i]-1]\n",
    "                #perm_vec[dims[i]-1] = xx\n",
    "                if len(tmp.shape) < len(perm_vec):\n",
    "                    xx = np.ones(len(perm_vec) - len(tmp.shape))\n",
    "                    xx = xx.astype(np.int64)\n",
    "                    tmp = np.reshape(tmp, np.hstack((tmp.shape, xx)))\n",
    "                #    tmp = np.reshape(tmp, np.hstack((tmp.shape, 1)))\n",
    "                #elif len(perm_vec) < len(tmp.shape):\n",
    "                #     perm_vec = np.reshape(perm_vec, np.hstack((perm_vec.shape, 1)))\n",
    "                print (\"perm_vec: \", perm_vec)\n",
    "                #print (\"tmp shape: \", tmp.shape)\n",
    "                tmp = np.transpose(tmp, tuple(perm_vec))\n",
    "                sizes = [sizes[j] for j in perm_vec]\n",
    "                #print (\"sizes after resize: \", sizes)\n",
    "                #sizes = tuple([sizes[j] for j in perm_vec if j in dims[:i] or j in dims[i+2:]])\n",
    "                if i+1< len(dims):\n",
    "                    x = list(sizes)\n",
    "                    #x = x[perm_vec[dims[i+1]-1]:perm_vec[dims[len(dims)-1]-1]]\n",
    "                    x = x[0:perm_vec[dims[i+1]-1]]\n",
    "                    #for j in range (i+1, len(dims)):\n",
    "                   #     x.pop(perm_vec[dims[j]-1])\n",
    "                    sizes = np.array(x)\n",
    "                    #print (\"sizes after pop: \", sizes)\n",
    "                if len(sizes)==1:\n",
    "                    sizes.resize ((2))\n",
    "                    sizes[1] = 1\n",
    "                print (\"sizes after resize: \", sizes)\n",
    "                if np.ndim(tmp) != 0:\n",
    "                    tmp = np.resize(tmp, sizes)\n",
    "                else:\n",
    "                    tmp = np.asarray([])\n",
    "                print (\"tmp: \", tmp)\n",
    "                tmp = tmp.squeeze()\n",
    "                print (\"tmp: \", tmp)\n",
    "                X.append(tmp)\n",
    "                print (\"X: \", X)\n",
    "            signaldim = int(dims[0] - np.sum([dims[d] for d in range(1, len(dims)) if dims[0] > dims[d]]))\n",
    "            print (\"signaldim: \", signaldim)\n",
    "            X = np.concatenate(X, axis=signaldim-1)\n",
    "            #X = np.array(X)\n",
    "            \n",
    "        else: # Use another technique than fibres\n",
    "            H_mat = np.reshape(H, [-1, size_hankel[-1]]) # tensor to matrix\n",
    "            ind_f = np.cumsum(size_hankel) - np.arange(order)\n",
    "            N = ind_f[-1]\n",
    "            w = hankel_freq(order, size_hankel, N)\n",
    "            sample_ind = sub_hankel(size_hankel)\n",
    "            if method == 'mean':\n",
    "                # Extract means by performing a two-step procedure to\n",
    "                # improve accuracy\n",
    "                # first step is to dehankelize by fibers and PermtoDim 1\n",
    "                options_quick = defaultKwargs.copy()\n",
    "                options_quick['PermToDim'] = 1\n",
    "                options_quick['Method'] = 'fibers'\n",
    "                x_estimate = dehankelize(H, **options_quick)\n",
    "                \n",
    "                # The following second step computes the frequenct and compute the means to subtract\n",
    "                # from the estimated matrix. The Python functions are different from Matlab\n",
    "                # I did not complete testing this part to finalise it, so result can be returned with the \n",
    "                # current estimated accuracy.\n",
    "                '''\n",
    "                #x_estimate = np.reshape(x_estimate, [-1, size_hankel[-1]]) # tensor to matrix\n",
    "                x_estimate =  np.array(x_estimate)\n",
    "                if x_estimate.ndim==1:\n",
    "                        x_estimate.resize ((x_estimate.shape[0], 1))\n",
    "                for k in range(np.size(H_mat, 1)):\n",
    "                    #diff = H_mat[:, k] - x_estimate[sample_ind-1][0]\n",
    "                    # tmp = accumarray(sampleind,diff,[],@sum)./w;\n",
    "                    tmp = np.bincount(sample_ind)/w #, weights=diff) / w\n",
    "                    x_estimate[:][k] = x_estimate[:][k] + tmp\n",
    "                    '''\n",
    "                X = x_estimate\n",
    "            else: # Extract something else than means (such as median)\n",
    "                x_estimate = np.empty((N, np.size(H_mat)))\n",
    "                for k in range(np.size(H_mat)):\n",
    "                    # xestimate(:,k) = accumarray(sampleind,Hmat(:,k),[],method);\n",
    "                    # we need a numpy function to accumulate the values given the function in the Method option\n",
    "                    # left to future work, and just using mean again \n",
    "                    x_estimate[:][k] = np.bincount(sample_ind, weights=Hmat[:][k]) / w\n",
    "                X = x_estimate\n",
    "            sx = sh \n",
    "            sx = np.array(sx).astype(float)  # because Nan is float, will convert here\n",
    "            sx[dims-1] = np.NaN\n",
    "            sx[dims[0]] = N\n",
    "            sx = sx[np.logical_not(np.isnan(sx))] # remove all Nans\n",
    "            sx = np.array(sx).astype(int) # return to int to use as index \n",
    "            signaldim = int(dims[0] - np.sum([dims[d] for d in range(1, len(dims)) if dims[0] > dims[d]]))\n",
    "            X = np.resize(x_estimate, [sx[signaldim-1]]) # mat2tens(xestimate,sx,signaldim);\n",
    "              \n",
    "               \n",
    "    elif H_str == 'hankel': # Given an efficient (block-)Hankel representation\n",
    "        print (\"Future work\")\n",
    "    elif H_str == 'cpd': # Given a representation of a tensor in rank-1 terms\n",
    "        print (\"Future work\")    \n",
    "    elif H_str in {'incomplete','sparse','tt','btd','lmlragen'}:\n",
    "        T = ful(H)\n",
    "        X = dehankelize(T,**kwargs)\n",
    "    else:\n",
    "        raise ValueError('Structure not supported!')\n",
    "    \n",
    "    # Permute the data to specific dimensions\n",
    "    if not np.isnan(permToDim):\n",
    "        permToDim = int(permToDim)\n",
    "        signaldim = int(signaldim)\n",
    "        if signaldim < permToDim:\n",
    "            permvec = list(range(0, signaldim)) + list(range(signaldim+1, permToDim)) + [signaldim] + list(range(permToDim+1, np.ndim(X)))\n",
    "        else:\n",
    "            permvec = list(range(0, permToDim)) + [signaldim] + list(range(permToDim, signaldim)) + list(range(signaldim+1, np.ndim(X)))\n",
    "        if X.ndim==1:\n",
    "            X.resize ((X.shape[0], 1))\n",
    "        X = np.squeeze(np.transpose(X, permvec))\n",
    "    return X\n"
   ]
  },
  {
   "cell_type": "code",
   "execution_count": 35,
   "id": "8d4173f5",
   "metadata": {},
   "outputs": [
    {
     "name": "stdout",
     "output_type": "stream",
     "text": [
      "input shape:  (5, 1)\n",
      "Order:  2\n",
      "ind:  [3]\n",
      "N:  5\n",
      "Dim:  1\n",
      "Order:  2\n",
      "ind:  [3]\n",
      "sizes:  nan\n",
      "perm_to_first:  1\n",
      "size_other:  ()\n",
      "size_hankel:  [3 3]\n",
      "Total required Bytes are:  36.0\n",
      "hstruct {'type': 'hankel', 'val': array([[1],\n",
      "       [2],\n",
      "       [3],\n",
      "       [4],\n",
      "       [5]]), 'dim': 1, 'order': 2, 'ind': array([3], dtype=int64), 'ispermuted': False, 'repermorder': array([1, 2]), 'size': array([3., 1.]), 'subsize': {'hankel': array([3, 3], dtype=int64), 'other': ()}}\n"
     ]
    },
    {
     "data": {
      "text/plain": [
       "array([[1, 2, 3],\n",
       "       [2, 3, 4],\n",
       "       [3, 4, 5]])"
      ]
     },
     "execution_count": 35,
     "metadata": {},
     "output_type": "execute_result"
    }
   ],
   "source": [
    "v = [1, 2, 3, 4, 5]\n",
    "V = hankelize(v);\n",
    "V"
   ]
  },
  {
   "cell_type": "code",
   "execution_count": 36,
   "id": "737d4555",
   "metadata": {},
   "outputs": [
    {
     "name": "stdout",
     "output_type": "stream",
     "text": [
      "subs :  [Ellipsis 0]\n",
      "tmp:  [1 2 3]\n",
      "perm_vec:  [0, 1]\n",
      "sizes after resize:  [3 1]\n",
      "tmp:  [[1]\n",
      " [2]\n",
      " [3]]\n",
      "tmp:  [1 2 3]\n",
      "subs :  [array(2) array([1, 2])]\n",
      "tmp:  [4 5]\n",
      "perm_vec:  [1, 0]\n",
      "sizes after resize:  [1, 2]\n",
      "tmp:  [[4 5]]\n",
      "tmp:  [4 5]\n"
     ]
    },
    {
     "data": {
      "text/plain": [
       "array([1, 2, 3, 4, 5])"
      ]
     },
     "execution_count": 36,
     "metadata": {},
     "output_type": "execute_result"
    }
   ],
   "source": [
    "v = dehankelize(V)\n",
    "v"
   ]
  },
  {
   "cell_type": "code",
   "execution_count": 37,
   "id": "2398b1fc",
   "metadata": {
    "scrolled": true
   },
   "outputs": [
    {
     "name": "stdout",
     "output_type": "stream",
     "text": [
      "input shape:  (5, 1)\n",
      "Order:  2\n",
      "ind:  [3]\n",
      "N:  5\n",
      "Dim:  1\n",
      "Order:  2\n",
      "ind:  [3]\n",
      "sizes:  nan\n",
      "perm_to_first:  1\n",
      "size_other:  ()\n",
      "size_hankel:  [3 3]\n",
      "Total required Bytes are:  36.0\n",
      "hstruct {'type': 'hankel', 'val': array([[1],\n",
      "       [2],\n",
      "       [3],\n",
      "       [4],\n",
      "       [5]]), 'dim': 1, 'order': 2, 'ind': array([3], dtype=int64), 'ispermuted': False, 'repermorder': array([1, 2]), 'size': array([3., 1.]), 'subsize': {'hankel': array([3, 3], dtype=int64), 'other': ()}}\n"
     ]
    },
    {
     "data": {
      "text/plain": [
       "array([[1, 2, 3],\n",
       "       [2, 3, 4],\n",
       "       [3, 4, 5]])"
      ]
     },
     "execution_count": 37,
     "metadata": {},
     "output_type": "execute_result"
    }
   ],
   "source": [
    "v = np.array([1,2,3,4,5])\n",
    "V = hankelize(v)\n",
    "V"
   ]
  },
  {
   "cell_type": "code",
   "execution_count": 38,
   "id": "3e3f67ea",
   "metadata": {},
   "outputs": [
    {
     "data": {
      "text/plain": [
       "2"
      ]
     },
     "execution_count": 38,
     "metadata": {},
     "output_type": "execute_result"
    }
   ],
   "source": [
    "getorder(V)"
   ]
  },
  {
   "cell_type": "code",
   "execution_count": 39,
   "id": "cef685aa",
   "metadata": {},
   "outputs": [
    {
     "name": "stdout",
     "output_type": "stream",
     "text": [
      "subs :  [Ellipsis 0]\n",
      "tmp:  [1 2 3]\n",
      "perm_vec:  [0, 1]\n",
      "sizes after resize:  [3 1]\n",
      "tmp:  [[1]\n",
      " [2]\n",
      " [3]]\n",
      "tmp:  [1 2 3]\n",
      "subs :  [array(2) array([1, 2])]\n",
      "tmp:  [4 5]\n",
      "perm_vec:  [1, 0]\n",
      "sizes after resize:  [1, 2]\n",
      "tmp:  [[4 5]]\n",
      "tmp:  [4 5]\n"
     ]
    },
    {
     "data": {
      "text/plain": [
       "array([1, 2, 3, 4, 5])"
      ]
     },
     "execution_count": 39,
     "metadata": {},
     "output_type": "execute_result"
    }
   ],
   "source": [
    "v = dehankelize(V)\n",
    "v"
   ]
  },
  {
   "cell_type": "code",
   "execution_count": 40,
   "id": "5752dbb5",
   "metadata": {},
   "outputs": [
    {
     "name": "stdout",
     "output_type": "stream",
     "text": [
      "input shape:  (7, 1)\n",
      "Order:  2\n",
      "ind:  [4]\n",
      "N:  7\n",
      "Dim:  1\n",
      "Order:  2\n",
      "ind:  [4]\n",
      "sizes:  nan\n",
      "perm_to_first:  1\n",
      "size_other:  ()\n",
      "size_hankel:  [4 4]\n",
      "Total required Bytes are:  64.0\n",
      "hstruct {'type': 'hankel', 'val': array([[1],\n",
      "       [2],\n",
      "       [3],\n",
      "       [4],\n",
      "       [5],\n",
      "       [6],\n",
      "       [7]]), 'dim': 1, 'order': 2, 'ind': array([4], dtype=int64), 'ispermuted': False, 'repermorder': array([1, 2]), 'size': array([4., 1.]), 'subsize': {'hankel': array([4, 4], dtype=int64), 'other': ()}}\n"
     ]
    },
    {
     "data": {
      "text/plain": [
       "array([[1, 2, 3, 4],\n",
       "       [2, 3, 4, 5],\n",
       "       [3, 4, 5, 6],\n",
       "       [4, 5, 6, 7]])"
      ]
     },
     "execution_count": 40,
     "metadata": {},
     "output_type": "execute_result"
    }
   ],
   "source": [
    "v = [1, 2, 3, 4, 5, 6, 7]\n",
    "V = hankelize(v, order=3);\n",
    "V"
   ]
  },
  {
   "cell_type": "code",
   "execution_count": 41,
   "id": "d0ce5892",
   "metadata": {},
   "outputs": [
    {
     "name": "stdout",
     "output_type": "stream",
     "text": [
      "subs :  [Ellipsis 0]\n",
      "tmp:  [1 2 3 4]\n",
      "perm_vec:  [0, 1]\n",
      "sizes after resize:  [4 1]\n",
      "tmp:  [[1]\n",
      " [2]\n",
      " [3]\n",
      " [4]]\n",
      "tmp:  [1 2 3 4]\n",
      "subs :  [array(3) array([1, 2, 3])]\n",
      "tmp:  [5 6 7]\n",
      "perm_vec:  [1, 0]\n",
      "sizes after resize:  [1, 3]\n",
      "tmp:  [[5 6 7]]\n",
      "tmp:  [5 6 7]\n"
     ]
    },
    {
     "data": {
      "text/plain": [
       "array([1, 2, 3, 4, 5, 6, 7])"
      ]
     },
     "execution_count": 41,
     "metadata": {},
     "output_type": "execute_result"
    }
   ],
   "source": [
    "v = dehankelize(V)\n",
    "v"
   ]
  },
  {
   "cell_type": "code",
   "execution_count": 42,
   "id": "01799a6e",
   "metadata": {},
   "outputs": [
    {
     "name": "stdout",
     "output_type": "stream",
     "text": [
      "input shape:  (7, 1)\n",
      "Order:  4\n",
      "ind:  nan\n",
      "sizes:  [4, 3, 2]\n",
      "N:  7\n",
      "Dim:  1\n",
      "Order:  4\n",
      "ind:  [4 6 7]\n",
      "sizes:  [4, 3, 2]\n",
      "perm_to_first:  1\n",
      "size_other:  ()\n",
      "size_hankel:  [4 3 2 1]\n",
      "Total required Bytes are:  96.0\n",
      "hstruct {'type': 'hankel', 'val': array([[1],\n",
      "       [2],\n",
      "       [3],\n",
      "       [4],\n",
      "       [5],\n",
      "       [6],\n",
      "       [7]]), 'dim': 1, 'order': 4, 'ind': array([4, 6, 7]), 'ispermuted': False, 'repermorder': array([1, 2, 3, 4]), 'size': array([3., 2., 1., 1.]), 'subsize': {'hankel': array([4, 3, 2, 1]), 'other': ()}}\n"
     ]
    },
    {
     "data": {
      "text/plain": [
       "array([[[[1],\n",
       "         [2]],\n",
       "\n",
       "        [[2],\n",
       "         [3]],\n",
       "\n",
       "        [[3],\n",
       "         [4]]],\n",
       "\n",
       "\n",
       "       [[[2],\n",
       "         [3]],\n",
       "\n",
       "        [[3],\n",
       "         [4]],\n",
       "\n",
       "        [[4],\n",
       "         [5]]],\n",
       "\n",
       "\n",
       "       [[[3],\n",
       "         [4]],\n",
       "\n",
       "        [[4],\n",
       "         [5]],\n",
       "\n",
       "        [[5],\n",
       "         [6]]],\n",
       "\n",
       "\n",
       "       [[[4],\n",
       "         [5]],\n",
       "\n",
       "        [[5],\n",
       "         [6]],\n",
       "\n",
       "        [[6],\n",
       "         [7]]]])"
      ]
     },
     "execution_count": 42,
     "metadata": {},
     "output_type": "execute_result"
    }
   ],
   "source": [
    "v = np.array([1, 2, 3, 4, 5, 6, 7])\n",
    "V = hankelize(v, Sizes=[4, 3, 2])\n",
    "V"
   ]
  },
  {
   "cell_type": "code",
   "execution_count": 46,
   "id": "aca13ad1",
   "metadata": {},
   "outputs": [
    {
     "data": {
      "text/plain": [
       "(4, 3, 2, 1)"
      ]
     },
     "execution_count": 46,
     "metadata": {},
     "output_type": "execute_result"
    }
   ],
   "source": [
    "V.shape"
   ]
  },
  {
   "cell_type": "code",
   "execution_count": 48,
   "id": "6f97934b",
   "metadata": {},
   "outputs": [
    {
     "data": {
      "text/plain": [
       "24"
      ]
     },
     "execution_count": 48,
     "metadata": {},
     "output_type": "execute_result"
    }
   ],
   "source": [
    "V.size"
   ]
  },
  {
   "cell_type": "code",
   "execution_count": 49,
   "id": "3ef757d0",
   "metadata": {},
   "outputs": [
    {
     "data": {
      "text/plain": [
       "(4, 3, 2)"
      ]
     },
     "execution_count": 49,
     "metadata": {},
     "output_type": "execute_result"
    }
   ],
   "source": [
    "V = np.squeeze(V)\n",
    "V.shape"
   ]
  },
  {
   "cell_type": "code",
   "execution_count": 56,
   "id": "7d59fa25",
   "metadata": {
    "scrolled": true
   },
   "outputs": [
    {
     "data": {
      "text/plain": [
       "array([[1, 2, 3],\n",
       "       [2, 3, 4],\n",
       "       [3, 4, 5],\n",
       "       [4, 5, 6]])"
      ]
     },
     "execution_count": 56,
     "metadata": {},
     "output_type": "execute_result"
    }
   ],
   "source": [
    "V[:,:,0]= np.squeeze(V[:,:,0])\n",
    "V[:,:,0]"
   ]
  },
  {
   "cell_type": "code",
   "execution_count": 57,
   "id": "9c499a6b",
   "metadata": {
    "scrolled": true
   },
   "outputs": [
    {
     "data": {
      "text/plain": [
       "array([[2, 3, 4],\n",
       "       [3, 4, 5],\n",
       "       [4, 5, 6],\n",
       "       [5, 6, 7]])"
      ]
     },
     "execution_count": 57,
     "metadata": {},
     "output_type": "execute_result"
    }
   ],
   "source": [
    "V[:,:,1]= np.squeeze(V[:,:,1])\n",
    "V[:,:,1]"
   ]
  },
  {
   "cell_type": "code",
   "execution_count": 45,
   "id": "5aec00fd",
   "metadata": {},
   "outputs": [
    {
     "data": {
      "text/plain": [
       "array([1, 2, 2, 3, 3, 4, 2, 3, 3, 4, 4, 5, 3, 4, 4, 5, 5, 6, 4, 5, 5, 6,\n",
       "       6, 7])"
      ]
     },
     "execution_count": 45,
     "metadata": {},
     "output_type": "execute_result"
    }
   ],
   "source": [
    "import tensorly as tl\n",
    "\n",
    "v_recon = tl.tensor_to_vec( tl.unfold(V, 0))\n",
    "v_recon"
   ]
  },
  {
   "cell_type": "code",
   "execution_count": 52,
   "id": "bc066ce1",
   "metadata": {},
   "outputs": [
    {
     "name": "stdout",
     "output_type": "stream",
     "text": [
      "subs :  [Ellipsis 0 0]\n",
      "tmp:  [1 2 3 4]\n",
      "perm_vec:  [0, 1, 2]\n",
      "sizes after resize:  [4 1]\n",
      "tmp:  [[1]\n",
      " [2]\n",
      " [3]\n",
      " [4]]\n",
      "tmp:  [1 2 3 4]\n",
      "X:  [array([1, 2, 3, 4])]\n",
      "subs :  [array(2, dtype=int64) array([1, 2], dtype=int64) 0]\n",
      "tmp:  [4 5]\n",
      "perm_vec:  [1, 0, 2]\n",
      "sizes after resize:  [1 2]\n",
      "tmp:  [[4 5]]\n",
      "tmp:  [4 5]\n",
      "X:  [array([1, 2, 3, 4]), array([4, 5])]\n",
      "subs :  [array(2, dtype=int64) array(1, dtype=int64) array([1], dtype=int64)]\n",
      "tmp:  [5]\n",
      "perm_vec:  [2, 1, 0]\n",
      "sizes after resize:  [1, 1, 1]\n",
      "tmp:  [[[5]]]\n",
      "tmp:  5\n",
      "X:  [array([1, 2, 3, 4]), array([4, 5]), array(5)]\n",
      "signaldim:  1\n"
     ]
    },
    {
     "name": "stderr",
     "output_type": "stream",
     "text": [
      "C:\\Users\\DELLPR~1\\AppData\\Local\\Temp/ipykernel_7676/3696464088.py:24: ComplexWarning: Casting complex values to real discards the imaginary part\n",
      "  w = np.round(np.fft.ifft(w)).astype(int)\n"
     ]
    },
    {
     "ename": "ValueError",
     "evalue": "all the input arrays must have same number of dimensions, but the array at index 0 has 1 dimension(s) and the array at index 2 has 0 dimension(s)",
     "output_type": "error",
     "traceback": [
      "\u001b[1;31m---------------------------------------------------------------------------\u001b[0m",
      "\u001b[1;31mValueError\u001b[0m                                Traceback (most recent call last)",
      "\u001b[1;32mC:\\Users\\DELLPR~1\\AppData\\Local\\Temp/ipykernel_7676/345463844.py\u001b[0m in \u001b[0;36m<module>\u001b[1;34m\u001b[0m\n\u001b[1;32m----> 1\u001b[1;33m \u001b[0mv\u001b[0m \u001b[1;33m=\u001b[0m \u001b[0mdehankelize\u001b[0m\u001b[1;33m(\u001b[0m\u001b[0mV\u001b[0m\u001b[1;33m)\u001b[0m\u001b[1;33m\u001b[0m\u001b[1;33m\u001b[0m\u001b[0m\n\u001b[0m\u001b[0;32m      2\u001b[0m \u001b[0mv\u001b[0m\u001b[1;33m\u001b[0m\u001b[1;33m\u001b[0m\u001b[0m\n",
      "\u001b[1;32mC:\\Users\\DELLPR~1\\AppData\\Local\\Temp/ipykernel_7676/3696464088.py\u001b[0m in \u001b[0;36mdehankelize\u001b[1;34m(H, **kwargs)\u001b[0m\n\u001b[0;32m    203\u001b[0m                 \u001b[0moptions_quick\u001b[0m\u001b[1;33m[\u001b[0m\u001b[1;34m'PermToDim'\u001b[0m\u001b[1;33m]\u001b[0m \u001b[1;33m=\u001b[0m \u001b[1;36m1\u001b[0m\u001b[1;33m\u001b[0m\u001b[1;33m\u001b[0m\u001b[0m\n\u001b[0;32m    204\u001b[0m                 \u001b[0moptions_quick\u001b[0m\u001b[1;33m[\u001b[0m\u001b[1;34m'Method'\u001b[0m\u001b[1;33m]\u001b[0m \u001b[1;33m=\u001b[0m \u001b[1;34m'fibers'\u001b[0m\u001b[1;33m\u001b[0m\u001b[1;33m\u001b[0m\u001b[0m\n\u001b[1;32m--> 205\u001b[1;33m                 \u001b[0mx_estimate\u001b[0m \u001b[1;33m=\u001b[0m \u001b[0mdehankelize\u001b[0m\u001b[1;33m(\u001b[0m\u001b[0mH\u001b[0m\u001b[1;33m,\u001b[0m \u001b[1;33m**\u001b[0m\u001b[0moptions_quick\u001b[0m\u001b[1;33m)\u001b[0m\u001b[1;33m\u001b[0m\u001b[1;33m\u001b[0m\u001b[0m\n\u001b[0m\u001b[0;32m    206\u001b[0m \u001b[1;33m\u001b[0m\u001b[0m\n\u001b[0;32m    207\u001b[0m                 \u001b[1;31m# The following second step computes the frequenct and compute the means to subtract\u001b[0m\u001b[1;33m\u001b[0m\u001b[1;33m\u001b[0m\u001b[0m\n",
      "\u001b[1;32mC:\\Users\\DELLPR~1\\AppData\\Local\\Temp/ipykernel_7676/3696464088.py\u001b[0m in \u001b[0;36mdehankelize\u001b[1;34m(H, **kwargs)\u001b[0m\n\u001b[0;32m    187\u001b[0m             \u001b[0msignaldim\u001b[0m \u001b[1;33m=\u001b[0m \u001b[0mint\u001b[0m\u001b[1;33m(\u001b[0m\u001b[0mdims\u001b[0m\u001b[1;33m[\u001b[0m\u001b[1;36m0\u001b[0m\u001b[1;33m]\u001b[0m \u001b[1;33m-\u001b[0m \u001b[0mnp\u001b[0m\u001b[1;33m.\u001b[0m\u001b[0msum\u001b[0m\u001b[1;33m(\u001b[0m\u001b[1;33m[\u001b[0m\u001b[0mdims\u001b[0m\u001b[1;33m[\u001b[0m\u001b[0md\u001b[0m\u001b[1;33m]\u001b[0m \u001b[1;32mfor\u001b[0m \u001b[0md\u001b[0m \u001b[1;32min\u001b[0m \u001b[0mrange\u001b[0m\u001b[1;33m(\u001b[0m\u001b[1;36m1\u001b[0m\u001b[1;33m,\u001b[0m \u001b[0mlen\u001b[0m\u001b[1;33m(\u001b[0m\u001b[0mdims\u001b[0m\u001b[1;33m)\u001b[0m\u001b[1;33m)\u001b[0m \u001b[1;32mif\u001b[0m \u001b[0mdims\u001b[0m\u001b[1;33m[\u001b[0m\u001b[1;36m0\u001b[0m\u001b[1;33m]\u001b[0m \u001b[1;33m>\u001b[0m \u001b[0mdims\u001b[0m\u001b[1;33m[\u001b[0m\u001b[0md\u001b[0m\u001b[1;33m]\u001b[0m\u001b[1;33m]\u001b[0m\u001b[1;33m)\u001b[0m\u001b[1;33m)\u001b[0m\u001b[1;33m\u001b[0m\u001b[1;33m\u001b[0m\u001b[0m\n\u001b[0;32m    188\u001b[0m             \u001b[0mprint\u001b[0m \u001b[1;33m(\u001b[0m\u001b[1;34m\"signaldim: \"\u001b[0m\u001b[1;33m,\u001b[0m \u001b[0msignaldim\u001b[0m\u001b[1;33m)\u001b[0m\u001b[1;33m\u001b[0m\u001b[1;33m\u001b[0m\u001b[0m\n\u001b[1;32m--> 189\u001b[1;33m             \u001b[0mX\u001b[0m \u001b[1;33m=\u001b[0m \u001b[0mnp\u001b[0m\u001b[1;33m.\u001b[0m\u001b[0mconcatenate\u001b[0m\u001b[1;33m(\u001b[0m\u001b[0mX\u001b[0m\u001b[1;33m,\u001b[0m \u001b[0maxis\u001b[0m\u001b[1;33m=\u001b[0m\u001b[0msignaldim\u001b[0m\u001b[1;33m-\u001b[0m\u001b[1;36m1\u001b[0m\u001b[1;33m)\u001b[0m\u001b[1;33m\u001b[0m\u001b[1;33m\u001b[0m\u001b[0m\n\u001b[0m\u001b[0;32m    190\u001b[0m             \u001b[1;31m#X = np.array(X)\u001b[0m\u001b[1;33m\u001b[0m\u001b[1;33m\u001b[0m\u001b[0m\n\u001b[0;32m    191\u001b[0m \u001b[1;33m\u001b[0m\u001b[0m\n",
      "\u001b[1;32mC:\\ProgramData\\Anaconda3\\lib\\site-packages\\numpy\\core\\overrides.py\u001b[0m in \u001b[0;36mconcatenate\u001b[1;34m(*args, **kwargs)\u001b[0m\n",
      "\u001b[1;31mValueError\u001b[0m: all the input arrays must have same number of dimensions, but the array at index 0 has 1 dimension(s) and the array at index 2 has 0 dimension(s)"
     ]
    }
   ],
   "source": [
    "v = dehankelize(V)\n",
    "v"
   ]
  },
  {
   "cell_type": "code",
   "execution_count": 58,
   "id": "acf15cd9",
   "metadata": {},
   "outputs": [
    {
     "name": "stdout",
     "output_type": "stream",
     "text": [
      "input shape:  (7, 1)\n",
      "N:  7\n",
      "Dim:  1\n",
      "Order:  3\n",
      "ind:  [3 5]\n",
      "sizes:  nan\n",
      "perm_to_first:  1\n",
      "size_other:  ()\n",
      "size_hankel:  [3 3 3]\n",
      "Total required Bytes are:  108.0\n",
      "hstruct {'type': 'hankel', 'val': array([[1],\n",
      "       [2],\n",
      "       [3],\n",
      "       [4],\n",
      "       [5],\n",
      "       [6],\n",
      "       [7]]), 'dim': 1, 'order': 3, 'ind': array([3, 5], dtype=int64), 'ispermuted': False, 'repermorder': array([1, 2, 3]), 'size': array([3., 3., 1.]), 'subsize': {'hankel': array([3, 3, 3], dtype=int64), 'other': ()}}\n"
     ]
    },
    {
     "data": {
      "text/plain": [
       "array([[[1, 2, 3],\n",
       "        [2, 3, 4],\n",
       "        [3, 4, 5]],\n",
       "\n",
       "       [[2, 3, 4],\n",
       "        [3, 4, 5],\n",
       "        [4, 5, 6]],\n",
       "\n",
       "       [[3, 4, 5],\n",
       "        [4, 5, 6],\n",
       "        [5, 6, 7]]])"
      ]
     },
     "execution_count": 58,
     "metadata": {},
     "output_type": "execute_result"
    }
   ],
   "source": [
    "v = np.array([1, 2, 3, 4, 5, 6, 7])\n",
    "H = hankelize(v, Order=3)\n",
    "H"
   ]
  },
  {
   "cell_type": "code",
   "execution_count": 59,
   "id": "6f247fae",
   "metadata": {},
   "outputs": [
    {
     "name": "stdout",
     "output_type": "stream",
     "text": [
      "subs :  [Ellipsis 0 0]\n",
      "tmp:  [1 2 3]\n",
      "perm_vec:  [0, 1, 2]\n",
      "sizes after resize:  [3 1]\n",
      "tmp:  [[1]\n",
      " [2]\n",
      " [3]]\n",
      "tmp:  [1 2 3]\n",
      "X:  [array([1, 2, 3])]\n",
      "subs :  [array(2, dtype=int64) array([1, 2], dtype=int64) 0]\n",
      "tmp:  [4 5]\n",
      "perm_vec:  [1, 0, 2]\n",
      "sizes after resize:  [1 2]\n",
      "tmp:  [[4 5]]\n",
      "tmp:  [4 5]\n",
      "X:  [array([1, 2, 3]), array([4, 5])]\n",
      "subs :  [array(2, dtype=int64) array(2, dtype=int64) array([1, 2], dtype=int64)]\n",
      "tmp:  [6 7]\n",
      "perm_vec:  [2, 1, 0]\n",
      "sizes after resize:  [1, 1, 2]\n",
      "tmp:  [[[6 7]]]\n",
      "tmp:  [6 7]\n",
      "X:  [array([1, 2, 3]), array([4, 5]), array([6, 7])]\n",
      "signaldim:  1\n"
     ]
    },
    {
     "name": "stderr",
     "output_type": "stream",
     "text": [
      "C:\\Users\\DELLPR~1\\AppData\\Local\\Temp/ipykernel_7676/3696464088.py:24: ComplexWarning: Casting complex values to real discards the imaginary part\n",
      "  w = np.round(np.fft.ifft(w)).astype(int)\n"
     ]
    },
    {
     "data": {
      "text/plain": [
       "array([1, 2, 3, 4, 5, 6, 7])"
      ]
     },
     "execution_count": 59,
     "metadata": {},
     "output_type": "execute_result"
    }
   ],
   "source": [
    "v = dehankelize(H)\n",
    "v"
   ]
  },
  {
   "cell_type": "code",
   "execution_count": 60,
   "id": "62fd568f",
   "metadata": {},
   "outputs": [
    {
     "name": "stdout",
     "output_type": "stream",
     "text": [
      "input shape:  (7, 1)\n",
      "Order:  2\n",
      "ind:  [4]\n",
      "N:  7\n",
      "Dim:  1\n",
      "Order:  2\n",
      "ind:  [4]\n",
      "sizes:  nan\n",
      "perm_to_first:  1\n",
      "size_other:  ()\n",
      "size_hankel:  [4 4]\n",
      "Total required Bytes are:  64.0\n",
      "hstruct {'type': 'hankel', 'val': array([[1],\n",
      "       [2],\n",
      "       [3],\n",
      "       [4],\n",
      "       [5],\n",
      "       [6],\n",
      "       [7]]), 'dim': 1, 'order': 2, 'ind': array([4], dtype=int64), 'ispermuted': False, 'repermorder': array([1, 2]), 'size': array([4., 1.]), 'subsize': {'hankel': array([4, 4], dtype=int64), 'other': ()}}\n"
     ]
    },
    {
     "data": {
      "text/plain": [
       "array([[1, 2, 3, 4],\n",
       "       [2, 3, 4, 5],\n",
       "       [3, 4, 5, 6],\n",
       "       [4, 5, 6, 7]])"
      ]
     },
     "execution_count": 60,
     "metadata": {},
     "output_type": "execute_result"
    }
   ],
   "source": [
    "v = np.array([1,2,3,4,5, 6, 7])\n",
    "H1 = hankelize(v)\n",
    "H1"
   ]
  },
  {
   "cell_type": "code",
   "execution_count": 61,
   "id": "660ecb18",
   "metadata": {},
   "outputs": [
    {
     "data": {
      "text/plain": [
       "array([[1, 2, 3, 4],\n",
       "       [2, 3, 4, 5],\n",
       "       [3, 4, 5, 6],\n",
       "       [4, 5, 6, 7]])"
      ]
     },
     "execution_count": 61,
     "metadata": {},
     "output_type": "execute_result"
    }
   ],
   "source": [
    "T = ful(H1)\n",
    "T"
   ]
  },
  {
   "cell_type": "code",
   "execution_count": 62,
   "id": "58e8f2c9",
   "metadata": {
    "scrolled": false
   },
   "outputs": [
    {
     "name": "stdout",
     "output_type": "stream",
     "text": [
      "subs :  [Ellipsis 0]\n",
      "tmp:  [1 2 3 4]\n",
      "perm_vec:  [0, 1]\n",
      "sizes after resize:  [4 1]\n",
      "tmp:  [[1]\n",
      " [2]\n",
      " [3]\n",
      " [4]]\n",
      "tmp:  [1 2 3 4]\n",
      "X:  [array([1, 2, 3, 4])]\n",
      "subs :  [array(3) array([1, 2, 3])]\n",
      "tmp:  [5 6 7]\n",
      "perm_vec:  [1, 0]\n",
      "sizes after resize:  [1, 3]\n",
      "tmp:  [[5 6 7]]\n",
      "tmp:  [5 6 7]\n",
      "X:  [array([1, 2, 3, 4]), array([5, 6, 7])]\n",
      "signaldim:  1\n"
     ]
    },
    {
     "data": {
      "text/plain": [
       "array([1, 2, 3, 4, 5, 6, 7])"
      ]
     },
     "execution_count": 62,
     "metadata": {},
     "output_type": "execute_result"
    }
   ],
   "source": [
    "v = dehankelize(H1)\n",
    "v"
   ]
  },
  {
   "cell_type": "markdown",
   "id": "7af69471",
   "metadata": {},
   "source": [
    "##### BSS Example"
   ]
  },
  {
   "cell_type": "code",
   "execution_count": 143,
   "id": "86048eb0",
   "metadata": {},
   "outputs": [
    {
     "name": "stdout",
     "output_type": "stream",
     "text": [
      "input shape:  (100, 3)\n",
      "Order:  2\n",
      "ind:  [50]\n",
      "N:  100\n",
      "Dim:  1\n",
      "Order:  2\n",
      "ind:  [50]\n",
      "sizes:  nan\n",
      "perm_to_first:  1\n",
      "size_other:  (3,)\n",
      "size_hankel:  [50 51]\n",
      "Total required Bytes are:  61200.0\n",
      "hstruct {'type': 'hankel', 'val': array([[ 1.39672016e+00,  2.56313209e+00,  1.42517618e-02],\n",
      "       [ 1.43058840e+00,  2.60627406e+00,  1.03543777e-02],\n",
      "       [ 1.46538418e+00,  2.65031829e+00,  6.29602306e-03],\n",
      "       [ 1.50113440e+00,  2.69528696e+00,  2.07138893e-03],\n",
      "       [ 1.53786681e+00,  2.74120284e+00, -2.32499948e-03],\n",
      "       [ 1.57560995e+00,  2.78808932e+00, -6.89878775e-03],\n",
      "       [ 1.61439323e+00,  2.83597041e+00, -1.16557976e-02],\n",
      "       [ 1.65424694e+00,  2.88487079e+00, -1.66020321e-02],\n",
      "       [ 1.69520227e+00,  2.93481579e+00, -2.17436816e-02],\n",
      "       [ 1.73729133e+00,  2.98583146e+00, -2.70871291e-02],\n",
      "       [ 1.78054721e+00,  3.03794453e+00, -3.26389565e-02],\n",
      "       [ 1.82500398e+00,  3.09118247e+00, -3.84059505e-02],\n",
      "       [ 1.87069671e+00,  3.14557351e+00, -4.43951090e-02],\n",
      "       [ 1.91766156e+00,  3.20114663e+00, -5.06136474e-02],\n",
      "       [ 1.96593574e+00,  3.25793164e+00, -5.70690058e-02],\n",
      "       [ 2.01555759e+00,  3.31595914e+00, -6.37688553e-02],\n",
      "       [ 2.06656658e+00,  3.37526056e+00, -7.07211053e-02],\n",
      "       [ 2.11900338e+00,  3.43586824e+00, -7.79339110e-02],\n",
      "       [ 2.17290987e+00,  3.49781535e+00, -8.54156809e-02],\n",
      "       [ 2.22832919e+00,  3.56113604e+00, -9.31750843e-02],\n",
      "       [ 2.28530577e+00,  3.62586534e+00, -1.01221060e-01],\n",
      "       [ 2.34388537e+00,  3.69203929e+00, -1.09562823e-01],\n",
      "       [ 2.40411514e+00,  3.75969492e+00, -1.18209875e-01],\n",
      "       [ 2.46604362e+00,  3.82887027e+00, -1.27172013e-01],\n",
      "       [ 2.52972082e+00,  3.89960445e+00, -1.36459337e-01],\n",
      "       [ 2.59519825e+00,  3.97193765e+00, -1.46082258e-01],\n",
      "       [ 2.66252896e+00,  4.04591118e+00, -1.56051513e-01],\n",
      "       [ 2.73176762e+00,  4.12156749e+00, -1.66378169e-01],\n",
      "       [ 2.80297052e+00,  4.19895023e+00, -1.77073637e-01],\n",
      "       [ 2.87619563e+00,  4.27810425e+00, -1.88149680e-01],\n",
      "       [ 2.95150270e+00,  4.35907566e+00, -1.99618427e-01],\n",
      "       [ 3.02895325e+00,  4.44191186e+00, -2.11492381e-01],\n",
      "       [ 3.10861065e+00,  4.52666157e+00, -2.23784432e-01],\n",
      "       [ 3.19054020e+00,  4.61337488e+00, -2.36507867e-01],\n",
      "       [ 3.27480914e+00,  4.70210329e+00, -2.49676388e-01],\n",
      "       [ 3.36148674e+00,  4.79289973e+00, -2.63304116e-01],\n",
      "       [ 3.45064438e+00,  4.88581862e+00, -2.77405611e-01],\n",
      "       [ 3.54235556e+00,  4.98091593e+00, -2.91995884e-01],\n",
      "       [ 3.63669601e+00,  5.07824917e+00, -3.07090406e-01],\n",
      "       [ 3.73374374e+00,  5.17787751e+00, -3.22705130e-01],\n",
      "       [ 3.83357911e+00,  5.27986177e+00, -3.38856498e-01],\n",
      "       [ 3.93628491e+00,  5.38426446e+00, -3.55561464e-01],\n",
      "       [ 4.04194641e+00,  5.49114991e+00, -3.72837501e-01],\n",
      "       [ 4.15065147e+00,  5.60058424e+00, -3.90702624e-01],\n",
      "       [ 4.26249060e+00,  5.71263543e+00, -4.09175404e-01],\n",
      "       [ 4.37755703e+00,  5.82737340e+00, -4.28274984e-01],\n",
      "       [ 4.49594682e+00,  5.94487006e+00, -4.48021098e-01],\n",
      "       [ 4.61775892e+00,  6.06519936e+00, -4.68434089e-01],\n",
      "       [ 4.74309526e+00,  6.18843733e+00, -4.89534929e-01],\n",
      "       [ 4.87206087e+00,  6.31466218e+00, -5.11345232e-01],\n",
      "       [ 5.00476395e+00,  6.44395436e+00, -5.33887285e-01],\n",
      "       [ 5.14131595e+00,  6.57639657e+00, -5.57184056e-01],\n",
      "       [ 5.28183172e+00,  6.71207390e+00, -5.81259226e-01],\n",
      "       [ 5.42642955e+00,  6.85107387e+00, -6.06137203e-01],\n",
      "       [ 5.57523132e+00,  6.99348648e+00, -6.31843147e-01],\n",
      "       [ 5.72836261e+00,  7.13940431e+00, -6.58402996e-01],\n",
      "       [ 5.88595279e+00,  7.28892258e+00, -6.85843485e-01],\n",
      "       [ 6.04813513e+00,  7.44213927e+00, -7.14192173e-01],\n",
      "       [ 6.21504695e+00,  7.59915511e+00, -7.43477468e-01],\n",
      "       [ 6.38682973e+00,  7.76007378e+00, -7.73728654e-01],\n",
      "       [ 6.56362922e+00,  7.92500188e+00, -8.04975915e-01],\n",
      "       [ 6.74559559e+00,  8.09404910e+00, -8.37250366e-01],\n",
      "       [ 6.93288356e+00,  8.26732829e+00, -8.70584080e-01],\n",
      "       [ 7.12565253e+00,  8.44495552e+00, -9.05010117e-01],\n",
      "       [ 7.32406674e+00,  8.62705021e+00, -9.40562554e-01],\n",
      "       [ 7.52829539e+00,  8.81373524e+00, -9.77276520e-01],\n",
      "       [ 7.73851283e+00,  9.00513699e+00, -1.01518822e+00],\n",
      "       [ 7.95489868e+00,  9.20138553e+00, -1.05433498e+00],\n",
      "       [ 8.17763802e+00,  9.40261464e+00, -1.09475527e+00],\n",
      "       [ 8.40692151e+00,  9.60896200e+00, -1.13648875e+00],\n",
      "       [ 8.64294563e+00,  9.82056926e+00, -1.17957628e+00],\n",
      "       [ 8.88591281e+00,  1.00375822e+01, -1.22406001e+00],\n",
      "       [ 9.13603160e+00,  1.02601506e+01, -1.26998337e+00],\n",
      "       [ 9.39351691e+00,  1.04884290e+01, -1.31739110e+00],\n",
      "       [ 9.65859015e+00,  1.07225761e+01, -1.36632937e+00],\n",
      "       [ 9.93147945e+00,  1.09627552e+01, -1.41684573e+00],\n",
      "       [ 1.02124199e+01,  1.12091345e+01, -1.46898920e+00],\n",
      "       [ 1.05016537e+01,  1.14618869e+01, -1.52281033e+00],\n",
      "       [ 1.07994303e+01,  1.17211906e+01, -1.57836118e+00],\n",
      "       [ 1.11060070e+01,  1.19872286e+01, -1.63569545e+00],\n",
      "       [ 1.14216486e+01,  1.22601896e+01, -1.69486849e+00],\n",
      "       [ 1.17466282e+01,  1.25402676e+01, -1.75593732e+00],\n",
      "       [ 1.20812270e+01,  1.28276621e+01, -1.81896075e+00],\n",
      "       [ 1.24257349e+01,  1.31225788e+01, -1.88399937e+00],\n",
      "       [ 1.27804506e+01,  1.34252291e+01, -1.95111564e+00],\n",
      "       [ 1.31456817e+01,  1.37358306e+01, -2.02037396e+00],\n",
      "       [ 1.35217453e+01,  1.40546074e+01, -2.09184069e+00],\n",
      "       [ 1.39089681e+01,  1.43817900e+01, -2.16558423e+00],\n",
      "       [ 1.43076869e+01,  1.47176157e+01, -2.24167508e+00],\n",
      "       [ 1.47182485e+01,  1.50623287e+01, -2.32018592e+00],\n",
      "       [ 1.51410103e+01,  1.54161805e+01, -2.40119166e+00],\n",
      "       [ 1.55763407e+01,  1.57794296e+01, -2.48476950e+00],\n",
      "       [ 1.60246191e+01,  1.61523425e+01, -2.57099902e+00],\n",
      "       [ 1.64862367e+01,  1.65351933e+01, -2.65996226e+00],\n",
      "       [ 1.69615965e+01,  1.69282641e+01, -2.75174376e+00],\n",
      "       [ 1.74511136e+01,  1.73318454e+01, -2.84643066e+00],\n",
      "       [ 1.79552160e+01,  1.77462360e+01, -2.94411279e+00],\n",
      "       [ 1.84743445e+01,  1.81717438e+01, -3.04488273e+00],\n",
      "       [ 1.90089536e+01,  1.86086856e+01, -3.14883591e+00],\n",
      "       [ 1.95595113e+01,  1.90573873e+01, -3.25607069e+00]]), 'dim': 1, 'order': 2, 'ind': array([50], dtype=int64), 'ispermuted': False, 'repermorder': array([1, 2, 3]), 'size': array([51.,  3.,  1.]), 'subsize': {'hankel': array([50, 51], dtype=int64), 'other': (3,)}}\n"
     ]
    }
   ],
   "source": [
    "# application BSS Signal construction\n",
    "t = np.linspace(0,1,100).T  # one source\n",
    "x = np.array([t, t*2, t*3]).T  # create 3 sources of multiples of 1, 2, 3\n",
    "S = np.exp(x) # raise it exponentialy\n",
    "rng = np.random.default_rng()\n",
    "M = rng.standard_normal(size=(3,3)) # generate random mixing matrix to record the 4 sources using 3 sensors\n",
    "X = np.dot(S,M) # mix the four sources\n",
    "# Separation\n",
    "H = hankelize(X,Dim=1)\n",
    "U = tl.tensor(H)"
   ]
  },
  {
   "cell_type": "code",
   "execution_count": 144,
   "id": "6f819e38",
   "metadata": {},
   "outputs": [
    {
     "data": {
      "text/plain": [
       "(100, 3)"
      ]
     },
     "execution_count": 144,
     "metadata": {},
     "output_type": "execute_result"
    }
   ],
   "source": [
    "X.shape"
   ]
  },
  {
   "cell_type": "code",
   "execution_count": 145,
   "id": "2ad5bdfd",
   "metadata": {},
   "outputs": [
    {
     "data": {
      "text/plain": [
       "(100, 3)"
      ]
     },
     "execution_count": 145,
     "metadata": {},
     "output_type": "execute_result"
    }
   ],
   "source": [
    "S.shape"
   ]
  },
  {
   "cell_type": "code",
   "execution_count": 146,
   "id": "c305e8ae",
   "metadata": {},
   "outputs": [
    {
     "data": {
      "text/plain": [
       "(50, 51, 3)"
      ]
     },
     "execution_count": 146,
     "metadata": {},
     "output_type": "execute_result"
    }
   ],
   "source": [
    "H.shape"
   ]
  },
  {
   "cell_type": "code",
   "execution_count": 147,
   "id": "73472e76",
   "metadata": {},
   "outputs": [
    {
     "data": {
      "text/plain": [
       "[array([[  5.27375502,   4.77224504,  -3.92530219],\n",
       "        [  5.38404097,   4.95171753,  -4.02568734],\n",
       "        [  5.4970608 ,   5.13697332,  -4.1288816 ],\n",
       "        [  5.61288924,   5.32819156,  -4.23496707],\n",
       "        [  5.73160319,   5.52555691,  -4.34402832],\n",
       "        [  5.85328173,   5.7292597 ,  -4.45615244],\n",
       "        [  5.97800624,   5.93949607,  -4.57142911],\n",
       "        [  6.10586044,   6.15646822,  -4.68995071],\n",
       "        [  6.23693046,   6.3803845 ,  -4.81181238],\n",
       "        [  6.37130492,   6.61145969,  -4.9371121 ],\n",
       "        [  6.509075  ,   6.84991513,  -5.06595079],\n",
       "        [  6.65033452,   7.09597897,  -5.19843237],\n",
       "        [  6.79518001,   7.34988634,  -5.3346639 ],\n",
       "        [  6.94371078,   7.61187959,  -5.47475563],\n",
       "        [  7.09602905,   7.88220849,  -5.61882111],\n",
       "        [  7.25223997,   8.16113047,  -5.76697731],\n",
       "        [  7.41245176,   8.44891086,  -5.91934468],\n",
       "        [  7.57677578,   8.74582313,  -6.07604731],\n",
       "        [  7.7453266 ,   9.05214912,  -6.237213  ],\n",
       "        [  7.91822215,   9.36817932,  -6.40297338],\n",
       "        [  8.09558378,   9.69421312,  -6.57346403],\n",
       "        [  8.27753636,  10.0305591 ,  -6.74882461],\n",
       "        [  8.46420841,  10.37753529,  -6.92919897],\n",
       "        [  8.6557322 ,  10.73546947,  -7.11473528],\n",
       "        [  8.85224382,  11.10469947,  -7.30558616],\n",
       "        [  9.05388337,  11.48557347,  -7.5019088 ],\n",
       "        [  9.26079503,  11.87845035,  -7.70386516],\n",
       "        [  9.47312717,  12.28369996,  -7.91162203],\n",
       "        [  9.69103251,  12.7017035 ,  -8.12535122],\n",
       "        [  9.91466825,  13.13285386,  -8.34522973],\n",
       "        [ 10.14419616,  13.57755596,  -8.57143987],\n",
       "        [ 10.37978277,  14.03622715,  -8.80416944],\n",
       "        [ 10.62159947,  14.50929756,  -9.0436119 ],\n",
       "        [ 10.86982268,  14.99721052,  -9.28996651],\n",
       "        [ 11.12463398,  15.50042292,  -9.54343857],\n",
       "        [ 11.38622031,  16.01940569,  -9.80423954],\n",
       "        [ 11.65477405,  16.55464417, -10.07258726],\n",
       "        [ 11.93049327,  17.1066386 , -10.34870614],\n",
       "        [ 12.21358184,  17.67590452, -10.63282734],\n",
       "        [ 12.50424963,  18.26297332, -10.92518899],\n",
       "        [ 12.80271266,  18.86839263, -11.22603644],\n",
       "        [ 13.10919334,  19.49272689, -11.53562239],\n",
       "        [ 13.42392061,  20.13655786, -11.8542072 ],\n",
       "        [ 13.74713016,  20.80048509, -12.18205907],\n",
       "        [ 14.0790646 ,  21.48512655, -12.51945431],\n",
       "        [ 14.41997374,  22.19111912, -12.86667755],\n",
       "        [ 14.77011472,  22.91911922, -13.22402205],\n",
       "        [ 15.12975227,  23.66980339, -13.5917899 ],\n",
       "        [ 15.49915896,  24.44386891, -13.97029231],\n",
       "        [ 15.87861539,  25.24203442, -14.35984993]]),\n",
       " array([[ 2.60821096, -0.39817565,  1.44069432],\n",
       "        [ 2.64356828, -0.3991987 ,  1.46329983],\n",
       "        [ 2.67949228, -0.40013037,  1.48635111],\n",
       "        [ 2.71599378, -0.40096645,  1.50985876],\n",
       "        [ 2.75308382, -0.40170253,  1.53383362],\n",
       "        [ 2.7907737 , -0.40233407,  1.55828687],\n",
       "        [ 2.82907495, -0.40285639,  1.58322995],\n",
       "        [ 2.86799937, -0.40326461,  1.60867462],\n",
       "        [ 2.90755903, -0.40355371,  1.63463295],\n",
       "        [ 2.94776624, -0.40371847,  1.66111735],\n",
       "        [ 2.98863361, -0.40375352,  1.68814054],\n",
       "        [ 3.03017403, -0.40365327,  1.7157156 ],\n",
       "        [ 3.07240068, -0.40341197,  1.74385595],\n",
       "        [ 3.11532701, -0.40302365,  1.77257538],\n",
       "        [ 3.15896681, -0.40248216,  1.80188806],\n",
       "        [ 3.20333416, -0.4017811 ,  1.83180852],\n",
       "        [ 3.24844346, -0.40091389,  1.86235171],\n",
       "        [ 3.29430944, -0.39987371,  1.89353297],\n",
       "        [ 3.34094718, -0.3986535 ,  1.92536806],\n",
       "        [ 3.38837207, -0.39724597,  1.95787318],\n",
       "        [ 3.43659988, -0.39564359,  1.99106495],\n",
       "        [ 3.48564673, -0.39383856,  2.02496047],\n",
       "        [ 3.5355291 , -0.39182283,  2.05957728],\n",
       "        [ 3.58626388, -0.38958806,  2.09493342],\n",
       "        [ 3.63786831, -0.38712565,  2.13104742],\n",
       "        [ 3.69036005, -0.38442669,  2.16793832],\n",
       "        [ 3.74375716, -0.38148199,  2.20562567],\n",
       "        [ 3.79807814, -0.37828205,  2.24412959],\n",
       "        [ 3.85334189, -0.37481704,  2.28347071],\n",
       "        [ 3.90956776, -0.37107681,  2.32367026],\n",
       "        [ 3.96677556, -0.36705086,  2.36475005],\n",
       "        [ 4.02498556, -0.36272835,  2.4067325 ],\n",
       "        [ 4.08421849, -0.35809809,  2.44964064],\n",
       "        [ 4.14449558, -0.3531485 ,  2.49349813],\n",
       "        [ 4.20583857, -0.34786762,  2.53832931],\n",
       "        [ 4.26826969, -0.34224309,  2.58415919],\n",
       "        [ 4.3318117 , -0.33626215,  2.63101346],\n",
       "        [ 4.39648791, -0.32991162,  2.67891854],\n",
       "        [ 4.46232218, -0.32317787,  2.72790159],\n",
       "        [ 4.52933891, -0.31604683,  2.77799051],\n",
       "        [ 4.59756313, -0.30850397,  2.82921401],\n",
       "        [ 4.66702042, -0.30053427,  2.88160157],\n",
       "        [ 4.737737  , -0.29212223,  2.93518352],\n",
       "        [ 4.80973971, -0.28325182,  2.98999102],\n",
       "        [ 4.88305602, -0.27390651,  3.04605614],\n",
       "        [ 4.95771408, -0.26406922,  3.10341181],\n",
       "        [ 5.03374272, -0.25372229,  3.16209191],\n",
       "        [ 5.11117144, -0.24284751,  3.22213126],\n",
       "        [ 5.19003047, -0.23142607,  3.28356569],\n",
       "        [ 5.27035078, -0.21943853,  3.34643201],\n",
       "        [ 5.35216407, -0.20686483,  3.41076807]]),\n",
       " array([[-0.09950481,  0.36139695, -0.61026982],\n",
       "        [ 0.21408005,  0.37240103, -0.05750951],\n",
       "        [ 0.07812504, -0.05627409,  0.20845794]])]"
      ]
     },
     "execution_count": 147,
     "metadata": {},
     "output_type": "execute_result"
    }
   ],
   "source": [
    "rank = 3\n",
    "'''\n",
    "if alg == 1:\n",
    "    ## MPS / tensor train\n",
    "    from tensorly.decomposition import matrix_product_state \n",
    "    factors = matrix_product_state(U, rank=rank)\n",
    "    from tensorly import tt_to_tensor\n",
    "    S_Hankel = np.round(tt_to_tensor(factors))\n",
    "\n",
    "elif alg == 2:\n",
    "    from tensorly.decomposition import tucker\n",
    "    core, factors = tucker(U, rank=rank)\n",
    "    from tensorly import tucker_to_tensor\n",
    "    S_Hankel = tucker_to_tensor(core, factors) # not working\n",
    "\n",
    "elif alg == 3:\n",
    "    from tensorly.decomposition import constrained_parafac\n",
    "    core, factors = constrained_parafac(U, rank=rank, unimodality=True)\n",
    "    # reconstruct from parafac\n",
    "    S_Hankel = tl.cp_to_tensor((core, factors))\n",
    "\n",
    "    from tensorly.decomposition import constrained_parafac\n",
    "    _, factors = constrained_parafac(U, rank=rank, unimodality=True)\n",
    "    \n",
    "\n",
    "\n",
    "else: ## using parafac decomposition\n",
    "    from tensorly.decomposition import parafac\n",
    "    factors = parafac(U, rank=rank)\n",
    "    # reconstruct from parafac\n",
    "    S_Hankel = tl.cp_to_tensor(factors)\n",
    "'''\n",
    "\n",
    "    \n",
    "\n",
    "from tensorly.decomposition import parafac # The dense version\n",
    "_, factors = parafac(U, rank=rank, init='random')\n",
    "factors"
   ]
  },
  {
   "cell_type": "code",
   "execution_count": 148,
   "id": "e4c7c8b8",
   "metadata": {},
   "outputs": [
    {
     "name": "stderr",
     "output_type": "stream",
     "text": [
      "C:\\Users\\DELLPR~1\\AppData\\Local\\Temp/ipykernel_7676/4075969018.py:1: VisibleDeprecationWarning: Creating an ndarray from ragged nested sequences (which is a list-or-tuple of lists-or-tuples-or ndarrays with different lengths or shapes) is deprecated. If you meant to do this, you must specify 'dtype=object' when creating the ndarray.\n",
      "  factors = np.array(factors)\n"
     ]
    },
    {
     "data": {
      "text/plain": [
       "(3,)"
      ]
     },
     "execution_count": 148,
     "metadata": {},
     "output_type": "execute_result"
    }
   ],
   "source": [
    "factors = np.array(factors)\n",
    "factors.shape"
   ]
  },
  {
   "cell_type": "code",
   "execution_count": 149,
   "id": "03f85176",
   "metadata": {},
   "outputs": [
    {
     "data": {
      "text/plain": [
       "(51, 3)"
      ]
     },
     "execution_count": 149,
     "metadata": {},
     "output_type": "execute_result"
    }
   ],
   "source": [
    "factors[1].shape"
   ]
  },
  {
   "cell_type": "code",
   "execution_count": 150,
   "id": "5f232263",
   "metadata": {},
   "outputs": [],
   "source": [
    "if factors[0].shape[0] < factors[1].shape[0]:\n",
    "    factors[1] = np.resize(factors[1], (factors[0].shape))\n",
    "else:\n",
    "    factors[0] = np.resize(factors[0], (f1.shape))\n"
   ]
  },
  {
   "cell_type": "code",
   "execution_count": 151,
   "id": "8dd992c9",
   "metadata": {},
   "outputs": [
    {
     "data": {
      "text/plain": [
       "(100, 3)"
      ]
     },
     "execution_count": 151,
     "metadata": {},
     "output_type": "execute_result"
    }
   ],
   "source": [
    "t1 = np.concatenate((factors[0], factors[1]))\n",
    "t1.shape\n",
    "#t1 = t1.reshape((len(t1[0])))"
   ]
  },
  {
   "cell_type": "code",
   "execution_count": 152,
   "id": "316e8b40",
   "metadata": {},
   "outputs": [
    {
     "name": "stdout",
     "output_type": "stream",
     "text": [
      "subs :  [Ellipsis 0]\n",
      "tmp:  [ 5.27375502  5.38404097  5.4970608   5.61288924  5.73160319  5.85328173\n",
      "  5.97800624  6.10586044  6.23693046  6.37130492  6.509075    6.65033452\n",
      "  6.79518001  6.94371078  7.09602905  7.25223997  7.41245176  7.57677578\n",
      "  7.7453266   7.91822215  8.09558378  8.27753636  8.46420841  8.6557322\n",
      "  8.85224382  9.05388337  9.26079503  9.47312717  9.69103251  9.91466825\n",
      " 10.14419616 10.37978277 10.62159947 10.86982268 11.12463398 11.38622031\n",
      " 11.65477405 11.93049327 12.21358184 12.50424963 12.80271266 13.10919334\n",
      " 13.42392061 13.74713016 14.0790646  14.41997374 14.77011472 15.12975227\n",
      " 15.49915896 15.87861539  2.60821096  2.64356828  2.67949228  2.71599378\n",
      "  2.75308382  2.7907737   2.82907495  2.86799937  2.90755903  2.94776624\n",
      "  2.98863361  3.03017403  3.07240068  3.11532701  3.15896681  3.20333416\n",
      "  3.24844346  3.29430944  3.34094718  3.38837207  3.43659988  3.48564673\n",
      "  3.5355291   3.58626388  3.63786831  3.69036005  3.74375716  3.79807814\n",
      "  3.85334189  3.90956776  3.96677556  4.02498556  4.08421849  4.14449558\n",
      "  4.20583857  4.26826969  4.3318117   4.39648791  4.46232218  4.52933891\n",
      "  4.59756313  4.66702042  4.737737    4.80973971  4.88305602  4.95771408\n",
      "  5.03374272  5.11117144  5.19003047  5.27035078]\n",
      "perm_vec:  [0, 1]\n",
      "sizes after resize:  [100   1]\n",
      "tmp:  [[ 5.27375502]\n",
      " [ 5.38404097]\n",
      " [ 5.4970608 ]\n",
      " [ 5.61288924]\n",
      " [ 5.73160319]\n",
      " [ 5.85328173]\n",
      " [ 5.97800624]\n",
      " [ 6.10586044]\n",
      " [ 6.23693046]\n",
      " [ 6.37130492]\n",
      " [ 6.509075  ]\n",
      " [ 6.65033452]\n",
      " [ 6.79518001]\n",
      " [ 6.94371078]\n",
      " [ 7.09602905]\n",
      " [ 7.25223997]\n",
      " [ 7.41245176]\n",
      " [ 7.57677578]\n",
      " [ 7.7453266 ]\n",
      " [ 7.91822215]\n",
      " [ 8.09558378]\n",
      " [ 8.27753636]\n",
      " [ 8.46420841]\n",
      " [ 8.6557322 ]\n",
      " [ 8.85224382]\n",
      " [ 9.05388337]\n",
      " [ 9.26079503]\n",
      " [ 9.47312717]\n",
      " [ 9.69103251]\n",
      " [ 9.91466825]\n",
      " [10.14419616]\n",
      " [10.37978277]\n",
      " [10.62159947]\n",
      " [10.86982268]\n",
      " [11.12463398]\n",
      " [11.38622031]\n",
      " [11.65477405]\n",
      " [11.93049327]\n",
      " [12.21358184]\n",
      " [12.50424963]\n",
      " [12.80271266]\n",
      " [13.10919334]\n",
      " [13.42392061]\n",
      " [13.74713016]\n",
      " [14.0790646 ]\n",
      " [14.41997374]\n",
      " [14.77011472]\n",
      " [15.12975227]\n",
      " [15.49915896]\n",
      " [15.87861539]\n",
      " [ 2.60821096]\n",
      " [ 2.64356828]\n",
      " [ 2.67949228]\n",
      " [ 2.71599378]\n",
      " [ 2.75308382]\n",
      " [ 2.7907737 ]\n",
      " [ 2.82907495]\n",
      " [ 2.86799937]\n",
      " [ 2.90755903]\n",
      " [ 2.94776624]\n",
      " [ 2.98863361]\n",
      " [ 3.03017403]\n",
      " [ 3.07240068]\n",
      " [ 3.11532701]\n",
      " [ 3.15896681]\n",
      " [ 3.20333416]\n",
      " [ 3.24844346]\n",
      " [ 3.29430944]\n",
      " [ 3.34094718]\n",
      " [ 3.38837207]\n",
      " [ 3.43659988]\n",
      " [ 3.48564673]\n",
      " [ 3.5355291 ]\n",
      " [ 3.58626388]\n",
      " [ 3.63786831]\n",
      " [ 3.69036005]\n",
      " [ 3.74375716]\n",
      " [ 3.79807814]\n",
      " [ 3.85334189]\n",
      " [ 3.90956776]\n",
      " [ 3.96677556]\n",
      " [ 4.02498556]\n",
      " [ 4.08421849]\n",
      " [ 4.14449558]\n",
      " [ 4.20583857]\n",
      " [ 4.26826969]\n",
      " [ 4.3318117 ]\n",
      " [ 4.39648791]\n",
      " [ 4.46232218]\n",
      " [ 4.52933891]\n",
      " [ 4.59756313]\n",
      " [ 4.66702042]\n",
      " [ 4.737737  ]\n",
      " [ 4.80973971]\n",
      " [ 4.88305602]\n",
      " [ 4.95771408]\n",
      " [ 5.03374272]\n",
      " [ 5.11117144]\n",
      " [ 5.19003047]\n",
      " [ 5.27035078]]\n",
      "tmp:  [ 5.27375502  5.38404097  5.4970608   5.61288924  5.73160319  5.85328173\n",
      "  5.97800624  6.10586044  6.23693046  6.37130492  6.509075    6.65033452\n",
      "  6.79518001  6.94371078  7.09602905  7.25223997  7.41245176  7.57677578\n",
      "  7.7453266   7.91822215  8.09558378  8.27753636  8.46420841  8.6557322\n",
      "  8.85224382  9.05388337  9.26079503  9.47312717  9.69103251  9.91466825\n",
      " 10.14419616 10.37978277 10.62159947 10.86982268 11.12463398 11.38622031\n",
      " 11.65477405 11.93049327 12.21358184 12.50424963 12.80271266 13.10919334\n",
      " 13.42392061 13.74713016 14.0790646  14.41997374 14.77011472 15.12975227\n",
      " 15.49915896 15.87861539  2.60821096  2.64356828  2.67949228  2.71599378\n",
      "  2.75308382  2.7907737   2.82907495  2.86799937  2.90755903  2.94776624\n",
      "  2.98863361  3.03017403  3.07240068  3.11532701  3.15896681  3.20333416\n",
      "  3.24844346  3.29430944  3.34094718  3.38837207  3.43659988  3.48564673\n",
      "  3.5355291   3.58626388  3.63786831  3.69036005  3.74375716  3.79807814\n",
      "  3.85334189  3.90956776  3.96677556  4.02498556  4.08421849  4.14449558\n",
      "  4.20583857  4.26826969  4.3318117   4.39648791  4.46232218  4.52933891\n",
      "  4.59756313  4.66702042  4.737737    4.80973971  4.88305602  4.95771408\n",
      "  5.03374272  5.11117144  5.19003047  5.27035078]\n",
      "X:  [array([ 5.27375502,  5.38404097,  5.4970608 ,  5.61288924,  5.73160319,\n",
      "        5.85328173,  5.97800624,  6.10586044,  6.23693046,  6.37130492,\n",
      "        6.509075  ,  6.65033452,  6.79518001,  6.94371078,  7.09602905,\n",
      "        7.25223997,  7.41245176,  7.57677578,  7.7453266 ,  7.91822215,\n",
      "        8.09558378,  8.27753636,  8.46420841,  8.6557322 ,  8.85224382,\n",
      "        9.05388337,  9.26079503,  9.47312717,  9.69103251,  9.91466825,\n",
      "       10.14419616, 10.37978277, 10.62159947, 10.86982268, 11.12463398,\n",
      "       11.38622031, 11.65477405, 11.93049327, 12.21358184, 12.50424963,\n",
      "       12.80271266, 13.10919334, 13.42392061, 13.74713016, 14.0790646 ,\n",
      "       14.41997374, 14.77011472, 15.12975227, 15.49915896, 15.87861539,\n",
      "        2.60821096,  2.64356828,  2.67949228,  2.71599378,  2.75308382,\n",
      "        2.7907737 ,  2.82907495,  2.86799937,  2.90755903,  2.94776624,\n",
      "        2.98863361,  3.03017403,  3.07240068,  3.11532701,  3.15896681,\n",
      "        3.20333416,  3.24844346,  3.29430944,  3.34094718,  3.38837207,\n",
      "        3.43659988,  3.48564673,  3.5355291 ,  3.58626388,  3.63786831,\n",
      "        3.69036005,  3.74375716,  3.79807814,  3.85334189,  3.90956776,\n",
      "        3.96677556,  4.02498556,  4.08421849,  4.14449558,  4.20583857,\n",
      "        4.26826969,  4.3318117 ,  4.39648791,  4.46232218,  4.52933891,\n",
      "        4.59756313,  4.66702042,  4.737737  ,  4.80973971,  4.88305602,\n",
      "        4.95771408,  5.03374272,  5.11117144,  5.19003047,  5.27035078])]\n",
      "subs :  [array(2) array([1, 2])]\n",
      "tmp:  [ 5.13697332 -4.1288816 ]\n",
      "perm_vec:  [1, 0]\n",
      "sizes after resize:  [1, 2]\n",
      "tmp:  [[ 5.13697332 -4.1288816 ]]\n",
      "tmp:  [ 5.13697332 -4.1288816 ]\n",
      "X:  [array([ 5.27375502,  5.38404097,  5.4970608 ,  5.61288924,  5.73160319,\n",
      "        5.85328173,  5.97800624,  6.10586044,  6.23693046,  6.37130492,\n",
      "        6.509075  ,  6.65033452,  6.79518001,  6.94371078,  7.09602905,\n",
      "        7.25223997,  7.41245176,  7.57677578,  7.7453266 ,  7.91822215,\n",
      "        8.09558378,  8.27753636,  8.46420841,  8.6557322 ,  8.85224382,\n",
      "        9.05388337,  9.26079503,  9.47312717,  9.69103251,  9.91466825,\n",
      "       10.14419616, 10.37978277, 10.62159947, 10.86982268, 11.12463398,\n",
      "       11.38622031, 11.65477405, 11.93049327, 12.21358184, 12.50424963,\n",
      "       12.80271266, 13.10919334, 13.42392061, 13.74713016, 14.0790646 ,\n",
      "       14.41997374, 14.77011472, 15.12975227, 15.49915896, 15.87861539,\n",
      "        2.60821096,  2.64356828,  2.67949228,  2.71599378,  2.75308382,\n",
      "        2.7907737 ,  2.82907495,  2.86799937,  2.90755903,  2.94776624,\n",
      "        2.98863361,  3.03017403,  3.07240068,  3.11532701,  3.15896681,\n",
      "        3.20333416,  3.24844346,  3.29430944,  3.34094718,  3.38837207,\n",
      "        3.43659988,  3.48564673,  3.5355291 ,  3.58626388,  3.63786831,\n",
      "        3.69036005,  3.74375716,  3.79807814,  3.85334189,  3.90956776,\n",
      "        3.96677556,  4.02498556,  4.08421849,  4.14449558,  4.20583857,\n",
      "        4.26826969,  4.3318117 ,  4.39648791,  4.46232218,  4.52933891,\n",
      "        4.59756313,  4.66702042,  4.737737  ,  4.80973971,  4.88305602,\n",
      "        4.95771408,  5.03374272,  5.11117144,  5.19003047,  5.27035078]), array([ 5.13697332, -4.1288816 ])]\n",
      "signaldim:  1\n"
     ]
    },
    {
     "data": {
      "text/plain": [
       "array([ 5.27375502,  5.38404097,  5.4970608 ,  5.61288924,  5.73160319,\n",
       "        5.85328173,  5.97800624,  6.10586044,  6.23693046,  6.37130492,\n",
       "        6.509075  ,  6.65033452,  6.79518001,  6.94371078,  7.09602905,\n",
       "        7.25223997,  7.41245176,  7.57677578,  7.7453266 ,  7.91822215,\n",
       "        8.09558378,  8.27753636,  8.46420841,  8.6557322 ,  8.85224382,\n",
       "        9.05388337,  9.26079503,  9.47312717,  9.69103251,  9.91466825,\n",
       "       10.14419616, 10.37978277, 10.62159947, 10.86982268, 11.12463398,\n",
       "       11.38622031, 11.65477405, 11.93049327, 12.21358184, 12.50424963,\n",
       "       12.80271266, 13.10919334, 13.42392061, 13.74713016, 14.0790646 ,\n",
       "       14.41997374, 14.77011472, 15.12975227, 15.49915896, 15.87861539,\n",
       "        2.60821096,  2.64356828,  2.67949228,  2.71599378,  2.75308382,\n",
       "        2.7907737 ,  2.82907495,  2.86799937,  2.90755903,  2.94776624,\n",
       "        2.98863361,  3.03017403,  3.07240068,  3.11532701,  3.15896681,\n",
       "        3.20333416,  3.24844346,  3.29430944,  3.34094718,  3.38837207,\n",
       "        3.43659988,  3.48564673,  3.5355291 ,  3.58626388,  3.63786831,\n",
       "        3.69036005,  3.74375716,  3.79807814,  3.85334189,  3.90956776,\n",
       "        3.96677556,  4.02498556,  4.08421849,  4.14449558,  4.20583857,\n",
       "        4.26826969,  4.3318117 ,  4.39648791,  4.46232218,  4.52933891,\n",
       "        4.59756313,  4.66702042,  4.737737  ,  4.80973971,  4.88305602,\n",
       "        4.95771408,  5.03374272,  5.11117144,  5.19003047,  5.27035078,\n",
       "        5.13697332, -4.1288816 ])"
      ]
     },
     "execution_count": 152,
     "metadata": {},
     "output_type": "execute_result"
    }
   ],
   "source": [
    "Sest = dehankelize(t1) #'Dims'=[1, 1, 1])\n",
    "Sest"
   ]
  },
  {
   "cell_type": "code",
   "execution_count": 153,
   "id": "77837a6f",
   "metadata": {},
   "outputs": [
    {
     "data": {
      "text/plain": [
       "(102,)"
      ]
     },
     "execution_count": 153,
     "metadata": {},
     "output_type": "execute_result"
    }
   ],
   "source": [
    "Sest.shape"
   ]
  },
  {
   "cell_type": "code",
   "execution_count": 154,
   "id": "7cad6de5",
   "metadata": {},
   "outputs": [],
   "source": [
    "if Sest.shape[0] > S.shape[0]: # trim the extra, up to here we reproduce the matlab code\n",
    "    Sest = np.resize(Sest, (S.shape[0]))"
   ]
  },
  {
   "cell_type": "code",
   "execution_count": 155,
   "id": "19b4dad1",
   "metadata": {},
   "outputs": [],
   "source": [
    "# since it seems that this method estimates the core factor, and it identified one factor from which the 3 sources are multiples\n",
    "# which is true, then for a toy example like this we can estimate the sources by the scaling that we know\n",
    "S_Han = np.array([Sest, Sest*2, Sest*3]).T  # estimate the multiple sources from the main factor "
   ]
  },
  {
   "cell_type": "code",
   "execution_count": 156,
   "id": "f57a59d0",
   "metadata": {},
   "outputs": [
    {
     "data": {
      "text/plain": [
       "14.018401923024449"
      ]
     },
     "execution_count": 156,
     "metadata": {},
     "output_type": "execute_result"
    }
   ],
   "source": [
    "RMSE_Han = math.sqrt(np.square(np.subtract(S,S_Han)).mean() )\n",
    "RMSE_Han"
   ]
  },
  {
   "cell_type": "code",
   "execution_count": 157,
   "id": "2f5c329b",
   "metadata": {},
   "outputs": [
    {
     "data": {
      "text/plain": [
       "6.271562586285249"
      ]
     },
     "execution_count": 157,
     "metadata": {},
     "output_type": "execute_result"
    }
   ],
   "source": [
    "import math\n",
    "\n",
    "# Error calculation\n",
    "#RMSE_Hankel = math.sqrt(np.square(np.subtract(S,Sest)).mean() )\n",
    "RMSE_Hankel1 = math.sqrt(np.square(np.subtract(S[:,0],Sest)).mean() ) # the factor that we identified with the first source\n",
    "RMSE_Hankel2 = math.sqrt(np.square(np.subtract(S[:,1],Sest)).mean() ) # with the second source\n",
    "RMSE_Hankel3 = math.sqrt(np.square(np.subtract(S[:,2],Sest)).mean() ) # with the third source\n",
    "RMSE_Hankel1"
   ]
  },
  {
   "cell_type": "code",
   "execution_count": 158,
   "id": "fa10a913",
   "metadata": {},
   "outputs": [
    {
     "data": {
      "text/plain": [
       "5.861245661506114"
      ]
     },
     "execution_count": 158,
     "metadata": {},
     "output_type": "execute_result"
    }
   ],
   "source": [
    "RMSE_Hankel2"
   ]
  },
  {
   "cell_type": "code",
   "execution_count": 159,
   "id": "00340dab",
   "metadata": {},
   "outputs": [
    {
     "data": {
      "text/plain": [
       "7.602605959810229"
      ]
     },
     "execution_count": 159,
     "metadata": {},
     "output_type": "execute_result"
    }
   ],
   "source": [
    "RMSE_Hankel3"
   ]
  },
  {
   "cell_type": "code",
   "execution_count": 156,
   "id": "fa9c5450",
   "metadata": {},
   "outputs": [
    {
     "name": "stdout",
     "output_type": "stream",
     "text": [
      "RMSE_ICA:  5.359697510747871\n",
      "RMSE_PCA:  5.771361330601682\n"
     ]
    }
   ],
   "source": [
    "# https://scikit-learn.org/stable/auto_examples/decomposition/plot_ica_blind_source_separation.html#sphx-glr-auto-examples-decomposition-plot-ica-blind-source-separation-py\n",
    "\n",
    "from sklearn.decomposition import PCA, FastICA\n",
    "\n",
    "# Compute ICA\n",
    "ica = FastICA(n_components=3, whiten=\"arbitrary-variance\")\n",
    "S_ICA = ica.fit_transform(X)  # Reconstruct signals\n",
    "A_ = ica.mixing_  # Get estimated mixing matrix\n",
    "\n",
    "# We can `prove` that the ICA model applies by reverting the unmixing.\n",
    "assert np.allclose(X, np.dot(S_ICA, A_.T) + ica.mean_)\n",
    "\n",
    "# For comparison, compute PCA\n",
    "pca = PCA(n_components=3)\n",
    "S_PCA = pca.fit_transform(X)  # Reconstruct signals based on orthogonal components\n",
    "\n",
    "import math\n",
    "\n",
    "# Error calculation\n",
    "RMSE_ICA = math.sqrt(np.square(np.subtract(S,S_ICA)).mean() )\n",
    "RMSE_PCA = math.sqrt(np.square(np.subtract(S,S_PCA)).mean() )\n",
    "print (\"RMSE_ICA: \", RMSE_ICA)\n",
    "print (\"RMSE_PCA: \", RMSE_PCA)"
   ]
  },
  {
   "cell_type": "code",
   "execution_count": 157,
   "id": "13180e6c",
   "metadata": {},
   "outputs": [],
   "source": [
    "assert np.allclose(X, np.dot(S_ICA, A_.T) + ica.mean_)"
   ]
  },
  {
   "cell_type": "code",
   "execution_count": 158,
   "id": "314912e8",
   "metadata": {},
   "outputs": [
    {
     "data": {
      "text/plain": [
       "array([-3.13716819,  0.26354396, -3.68042685])"
      ]
     },
     "execution_count": 158,
     "metadata": {},
     "output_type": "execute_result"
    }
   ],
   "source": [
    " ica.mean_"
   ]
  },
  {
   "cell_type": "code",
   "execution_count": 159,
   "id": "4bd71ab2",
   "metadata": {},
   "outputs": [
    {
     "data": {
      "text/plain": [
       "(3, 3)"
      ]
     },
     "execution_count": 159,
     "metadata": {},
     "output_type": "execute_result"
    }
   ],
   "source": [
    "A_.shape"
   ]
  },
  {
   "cell_type": "code",
   "execution_count": 164,
   "id": "687400c8",
   "metadata": {},
   "outputs": [
    {
     "ename": "AssertionError",
     "evalue": "",
     "output_type": "error",
     "traceback": [
      "\u001b[1;31m---------------------------------------------------------------------------\u001b[0m",
      "\u001b[1;31mAssertionError\u001b[0m                            Traceback (most recent call last)",
      "\u001b[1;32mC:\\Users\\DELLPR~1\\AppData\\Local\\Temp/ipykernel_17972/1098026756.py\u001b[0m in \u001b[0;36m<module>\u001b[1;34m\u001b[0m\n\u001b[1;32m----> 1\u001b[1;33m \u001b[1;32massert\u001b[0m \u001b[0mnp\u001b[0m\u001b[1;33m.\u001b[0m\u001b[0mallclose\u001b[0m\u001b[1;33m(\u001b[0m\u001b[0mM\u001b[0m\u001b[1;33m,\u001b[0m \u001b[0mA_\u001b[0m\u001b[1;33m)\u001b[0m\u001b[1;33m\u001b[0m\u001b[1;33m\u001b[0m\u001b[0m\n\u001b[0m",
      "\u001b[1;31mAssertionError\u001b[0m: "
     ]
    }
   ],
   "source": [
    "assert np.allclose(M, A_)"
   ]
  },
  {
   "cell_type": "code",
   "execution_count": 165,
   "id": "6c9e63ac",
   "metadata": {},
   "outputs": [
    {
     "data": {
      "text/plain": [
       "array([[-1.25938115, -0.31764938,  0.60053366],\n",
       "       [ 0.04712425, -2.3250553 , -0.43231699],\n",
       "       [-0.17526489,  1.28991032, -0.51962492]])"
      ]
     },
     "execution_count": 165,
     "metadata": {},
     "output_type": "execute_result"
    }
   ],
   "source": [
    "M # original mixing matrix"
   ]
  },
  {
   "cell_type": "code",
   "execution_count": 163,
   "id": "ef7f133b",
   "metadata": {},
   "outputs": [
    {
     "data": {
      "text/plain": [
       "array([[  9.28112652,   4.86175556,  10.00241149],\n",
       "       [ -9.62836078, -11.52668151, -19.67069937],\n",
       "       [ 18.40850581,  12.31027288,  23.21865608]])"
      ]
     },
     "execution_count": 163,
     "metadata": {},
     "output_type": "execute_result"
    }
   ],
   "source": [
    "A_ # estimated mixing matrix"
   ]
  },
  {
   "cell_type": "code",
   "execution_count": 166,
   "id": "974e8021",
   "metadata": {},
   "outputs": [
    {
     "data": {
      "text/plain": [
       "(100, 3)"
      ]
     },
     "execution_count": 166,
     "metadata": {},
     "output_type": "execute_result"
    }
   ],
   "source": [
    "S_ICA.shape"
   ]
  },
  {
   "cell_type": "code",
   "execution_count": 167,
   "id": "881b325f",
   "metadata": {},
   "outputs": [
    {
     "data": {
      "text/plain": [
       "(100, 3)"
      ]
     },
     "execution_count": 167,
     "metadata": {},
     "output_type": "execute_result"
    }
   ],
   "source": [
    "S_PCA.shape"
   ]
  },
  {
   "cell_type": "code",
   "execution_count": 177,
   "id": "052e1f3f",
   "metadata": {},
   "outputs": [
    {
     "data": {
      "text/plain": [
       "<Figure size 432x288 with 0 Axes>"
      ]
     },
     "metadata": {},
     "output_type": "display_data"
    },
    {
     "data": {
      "image/png": "[encoded data removed]",
      "text/plain": [
       "<Figure size 720x1152 with 5 Axes>"
      ]
     },
     "metadata": {
      "needs_background": "light"
     },
     "output_type": "display_data"
    }
   ],
   "source": [
    "import matplotlib.pyplot as plt\n",
    "\n",
    "plt.figure()\n",
    "\n",
    "models = [X, S, S_ICA, S_PCA, S_Han]\n",
    "names = [\n",
    "    \"Observations (mixed signal)\",\n",
    "    \"True Sources\",\n",
    "    \"ICA recovered signals\",\n",
    "    \"PCA recovered signals\",\n",
    "    \"Multiway Hankelisation & CPD recovered signals\",\n",
    "]\n",
    "colors = [\"red\", \"steelblue\", \"orange\", \"green\"]\n",
    "plt.figure(figsize=(10,16))\n",
    "for ii, (model, name) in enumerate(zip(models, names), 1):\n",
    "    plt.subplot(5, 1, ii)\n",
    "    plt.title(name)\n",
    "    for sig, color in zip(model.T, colors):\n",
    "        plt.plot(sig, color=color)\n",
    "\n",
    "#plt.tight_layout()\n",
    "plt.show()"
   ]
  },
  {
   "cell_type": "code",
   "execution_count": 178,
   "id": "fb1ff670",
   "metadata": {},
   "outputs": [],
   "source": [
    "from scipy import linalg as LA\n",
    "\n",
    "def whitenData (x):\n",
    "    # Calculate the covariance matrix of the initial data.\n",
    "    cov = np.cov(x)\n",
    "    # Calculate eigenvalues and eigenvectors of the covariance matrix.\n",
    "    d, E = LA.eigh(cov)\n",
    "    # Generate a diagonal matrix with the eigenvalues as diagonal elements.\n",
    "    D = np.diag(d)\n",
    "    # Calculate the singular values as square root of eigenvalues\n",
    "    Di = LA.sqrtm(LA.inv(D))\n",
    "    # Perform whitening. xn is the whitened matrix.\n",
    "    xn = np.dot(Di, np.dot(np.transpose(E), x))\n",
    "    return xn"
   ]
  },
  {
   "cell_type": "code",
   "execution_count": 179,
   "id": "60b52bf5",
   "metadata": {},
   "outputs": [
    {
     "name": "stdout",
     "output_type": "stream",
     "text": [
      "Sampling rate =  8000\n",
      "Data type is  uint8\n"
     ]
    }
   ],
   "source": [
    "from scipy.io import wavfile\n",
    "\n",
    "# Input the data from the first receiver.\n",
    "samplingRate, signal1 = wavfile.read('../ch2/data/mix1.wav')\n",
    "print (\"Sampling rate = \", samplingRate)\n",
    "print (\"Data type is \", signal1.dtype)"
   ]
  },
  {
   "cell_type": "code",
   "execution_count": 180,
   "id": "4ca52fd1",
   "metadata": {},
   "outputs": [
    {
     "name": "stdout",
     "output_type": "stream",
     "text": [
      "Number of samples:  50000\n"
     ]
    }
   ],
   "source": [
    "# Convert the signal so that amplitude lies between 0 and 1.\n",
    "signal1 = signal1 / 255.0 - 0.5  # uint8 takes values from 0 to 255\n",
    "\n",
    "# Output information about the sound samples.\n",
    "a = signal1.shape\n",
    "n = a[0]\n",
    "print (\"Number of samples: \", n)\n",
    "n = n * 1.0"
   ]
  },
  {
   "cell_type": "code",
   "execution_count": 181,
   "id": "e5910573",
   "metadata": {},
   "outputs": [
    {
     "data": {
      "text/plain": [
       "Text(0.5, 1.0, 'Whitened data')"
      ]
     },
     "execution_count": 181,
     "metadata": {},
     "output_type": "execute_result"
    },
    {
     "data": {
      "image/png": "[encoded data removed]",
      "text/plain": [
       "<Figure size 720x216 with 2 Axes>"
      ]
     },
     "metadata": {
      "needs_background": "light"
     },
     "output_type": "display_data"
    }
   ],
   "source": [
    "# Input data from the first receiver and standardise it's amplitude.\n",
    "samplingRate, signal2 = wavfile.read('../ch2/data/mix2.wav')\n",
    "signal2 = signal2 / 255.0 - 0.5  # uint8 takes values from 0 to 255\n",
    "\n",
    "# x is our initial data matrix.\n",
    "x = [signal1, signal2]\n",
    "\n",
    "# Plot the signals from both sources to show correlations in the data.\n",
    "fig = plt.figure( figsize=(10,3))\n",
    "plt.subplot(1,2,1)\n",
    "plt.title(\"Original data\")\n",
    "plt.plot(x[0], x[1], '*b')\n",
    "plt.ylabel('Signal 2')\n",
    "plt.xlabel('Signal 1')\n",
    "\n",
    "X = whitenData (x)\n",
    "\n",
    "# Plot whitened data to show new structure of the data.\n",
    "plt.subplot(1,2,2)\n",
    "plt.plot(X[0], X[1], '*b')\n",
    "plt.ylabel('Signal 2')\n",
    "plt.xlabel('Signal 1')\n",
    "plt.title(\"Whitened data\")\n"
   ]
  },
  {
   "cell_type": "code",
   "execution_count": null,
   "id": "79adfb33",
   "metadata": {},
   "outputs": [],
   "source": [
    "# Separation\n",
    "H = hankelize(X,Dim=1)\n",
    "U = tl.tensor(H)\n",
    "rank = 2\n",
    "from tensorly.decomposition import constrained_parafac\n",
    "\n",
    "_, factors = constrained_parafac(U, rank=rank, unimodality=True)\n",
    "factors"
   ]
  },
  {
   "cell_type": "code",
   "execution_count": 322,
   "id": "d0b1b857",
   "metadata": {},
   "outputs": [
    {
     "data": {
      "text/plain": [
       "(1, 2, 50000)"
      ]
     },
     "execution_count": 322,
     "metadata": {},
     "output_type": "execute_result"
    }
   ],
   "source": [
    "H.shape"
   ]
  },
  {
   "cell_type": "code",
   "execution_count": null,
   "id": "73a937b2",
   "metadata": {},
   "outputs": [],
   "source": [
    "factors = np.array(factors)\n",
    "factors.shape"
   ]
  },
  {
   "cell_type": "code",
   "execution_count": null,
   "id": "5bfa6f99",
   "metadata": {},
   "outputs": [],
   "source": [
    "if factors[0].shape[0] < factors[1].shape[0]:\n",
    "    factors[1] = np.resize(factors[1], (factors[0].shape))\n",
    "else:\n",
    "    factors[0] = np.resize(factors[0], (f1.shape))\n"
   ]
  },
  {
   "cell_type": "code",
   "execution_count": null,
   "id": "48c16961",
   "metadata": {},
   "outputs": [],
   "source": [
    "t1 = np.concatenate((factors[0], factors[1]))\n",
    "t1.shape\n",
    "#t1 = t1.reshape((len(t1[0])))"
   ]
  },
  {
   "cell_type": "code",
   "execution_count": null,
   "id": "dabab40c",
   "metadata": {},
   "outputs": [],
   "source": [
    "Sest = dehankelize(t1) #'Dims'=[1, 1, 1])\n",
    "Sest"
   ]
  }
 ],
 "metadata": {
  "kernelspec": {
   "display_name": "Python 3 (ipykernel)",
   "language": "python",
   "name": "python3"
  },
  "language_info": {
   "codemirror_mode": {
    "name": "ipython",
    "version": 3
   },
   "file_extension": ".py",
   "mimetype": "text/x-python",
   "name": "python",
   "nbconvert_exporter": "python",
   "pygments_lexer": "ipython3",
   "version": "3.9.7"
  }
 },
 "nbformat": 4,
 "nbformat_minor": 5
}
