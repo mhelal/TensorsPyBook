{
 "cells": [
  {
   "cell_type": "markdown",
   "id": "70d214b0",
   "metadata": {},
   "source": [
    "# Ch4: Tensors Structures and Modelling Applications\n"
   ]
  },
  {
   "cell_type": "markdown",
   "id": "74355479",
   "metadata": {},
   "source": [
    "## 4.1.1 CANDECOMP/PARAFAC (CP)"
   ]
  },
  {
   "cell_type": "code",
   "execution_count": 2,
   "id": "22c1684c",
   "metadata": {},
   "outputs": [
    {
     "data": {
      "text/plain": [
       "Rank-[[[0.76389829 0.02364613 0.41064958 0.82446287 0.46138848 0.74587969\n",
       "   0.92223856 0.27640092 0.43696134 0.38457026]\n",
       "  [0.14048935 0.36341059 0.59517335 0.86343332 0.33706672 0.67155649\n",
       "   0.366613   0.55348133 0.4311535  0.88700968]\n",
       "  [0.91443047 0.86982164 0.63890544 0.79235761 0.21860914 0.15053022\n",
       "   0.77865382 0.05231698 0.3786277  0.47673366]\n",
       "  [0.44637686 0.40932327 0.89451006 0.14914729 0.00986505 0.6778438\n",
       "   0.63000821 0.7738294  0.57034061 0.22539118]\n",
       "  [0.74032294 0.91712773 0.70337492 0.29100256 0.20995356 0.769377\n",
       "   0.69492102 0.73242512 0.2333753  0.84288895]\n",
       "  [0.6206838  0.85957148 0.45889184 0.22370018 0.07469852 0.19156937\n",
       "   0.32334148 0.84554823 0.48819663 0.26811121]\n",
       "  [0.13608267 0.16371555 0.40037883 0.3621655  0.62997096 0.55784021\n",
       "   0.55087678 0.93332954 0.39750587 0.7047044 ]\n",
       "  [0.87864581 0.13648752 0.60592419 0.46347573 0.91933972 0.86614014\n",
       "   0.80842975 0.67500407 0.16716192 0.71291076]\n",
       "  [0.28925629 0.11074767 0.90462488 0.06403747 0.42167923 0.14583144\n",
       "   0.52819772 0.93321896 0.1819087  0.12515111]\n",
       "  [0.77815277 0.27735128 0.31428475 0.14367969 0.7320928  0.4139353\n",
       "   0.02816716 0.69026862 0.65124219 0.53486906]]\n",
       "\n",
       " [[0.936089   0.04630235 0.92686571 0.86090692 0.35271427 0.28391123\n",
       "   0.22183519 0.1011344  0.44137728 0.99279901]\n",
       "  [0.0298716  0.16890972 0.65754777 0.96813697 0.24193532 0.75142293\n",
       "   0.58025855 0.31732083 0.53186195 0.42609806]\n",
       "  [0.28581757 0.1072703  0.74210902 0.33781783 0.00540242 0.77715926\n",
       "   0.33678499 0.54516296 0.74269864 0.93262689]\n",
       "  [0.36283748 0.87509224 0.62038657 0.32284072 0.16727481 0.07736374\n",
       "   0.12398869 0.84507733 0.42515048 0.910448  ]\n",
       "  [0.30418082 0.77898669 0.64513526 0.63354408 0.30916305 0.78701178\n",
       "   0.71208227 0.5107316  0.67174749 0.41387413]\n",
       "  [0.03928341 0.05809534 0.3249577  0.84100178 0.33600939 0.15435172\n",
       "   0.01099976 0.57291356 0.59810802 0.06332869]\n",
       "  [0.7532471  0.40991787 0.29457507 0.28838522 0.66825253 0.70961344\n",
       "   0.07372565 0.74940659 0.84359043 0.36184533]\n",
       "  [0.08521262 0.15075175 0.27746772 0.29938662 0.06877902 0.34305242\n",
       "   0.36232889 0.85578679 0.12096735 0.24006236]\n",
       "  [0.56596965 0.49905579 0.40902417 0.15488457 0.44476009 0.105994\n",
       "   0.81487626 0.83804721 0.07770798 0.63991738]\n",
       "  [0.89263393 0.66013135 0.24677577 0.45980408 0.78211651 0.55302502\n",
       "   0.62140163 0.85727095 0.15856788 0.58589285]]\n",
       "\n",
       " [[0.8255068  0.37909108 0.30923117 0.66193846 0.64623446 0.60832264\n",
       "   0.4740155  0.85739469 0.30364757 0.79645984]\n",
       "  [0.6552979  0.71185007 0.31751949 0.91266725 0.35543068 0.78311989\n",
       "   0.77293825 0.39940151 0.80495446 0.84527573]\n",
       "  [0.63323719 0.40010696 0.96356508 0.49411493 0.78992295 0.14018718\n",
       "   0.5591397  0.62436863 0.99314412 0.18983645]\n",
       "  [0.61162303 0.86202264 0.01308619 0.83960529 0.37811486 0.68877236\n",
       "   0.99588706 0.07062016 0.63807967 0.42206453]\n",
       "  [0.94045509 0.16221141 0.84063222 0.46433582 0.71051886 0.56136234\n",
       "   0.38294995 0.62489338 0.7511193  0.2745482 ]\n",
       "  [0.45254214 0.8534441  0.33730147 0.97544505 0.39917428 0.007672\n",
       "   0.44597832 0.92734729 0.97404207 0.51103274]\n",
       "  [0.63658803 0.63667886 0.28011962 0.31076835 0.06323445 0.27790442\n",
       "   0.84455131 0.33429765 0.87824205 0.75578828]\n",
       "  [0.10101967 0.11446027 0.39258334 0.07474347 0.03465971 0.99832758\n",
       "   0.40322628 0.02408989 0.17218468 0.67179829]\n",
       "  [0.68956521 0.83029704 0.89439547 0.95959857 0.53576476 0.6270883\n",
       "   0.21289041 0.12439518 0.12871696 0.41365777]\n",
       "  [0.96137518 0.13529592 0.54570492 0.80798533 0.53071377 0.15269474\n",
       "   0.43301466 0.37154347 0.69789355 0.55891287]]\n",
       "\n",
       " [[0.73945053 0.83832455 0.32051928 0.81552771 0.72244078 0.14908648\n",
       "   0.37212708 0.61365651 0.35222244 0.66874469]\n",
       "  [0.39029314 0.44933762 0.74316349 0.14443977 0.88853593 0.59559781\n",
       "   0.58057245 0.71748438 0.40964664 0.87960567]\n",
       "  [0.269194   0.10839241 0.68796235 0.95415938 0.80461633 0.64414705\n",
       "   0.40238086 0.95356668 0.0108456  0.55107276]\n",
       "  [0.42712348 0.73532761 0.16353024 0.25209941 0.4096648  0.49201267\n",
       "   0.74446457 0.38227262 0.15410959 0.19006436]\n",
       "  [0.33128202 0.54613094 0.05603563 0.49548498 0.92350966 0.4881368\n",
       "   0.46160439 0.5603591  0.86428135 0.27003708]\n",
       "  [0.07699294 0.09126013 0.63414388 0.53026967 0.36654749 0.89047219\n",
       "   0.70270112 0.99722517 0.02294916 0.35909812]\n",
       "  [0.18736188 0.99712157 0.61110954 0.25839779 0.92378616 0.87601938\n",
       "   0.43729208 0.98412994 0.26506451 0.75529443]\n",
       "  [0.33737934 0.86611296 0.6114891  0.72407194 0.07158713 0.99720484\n",
       "   0.6798393  0.04788184 0.29283319 0.24241419]\n",
       "  [0.69785121 0.16461559 0.17384338 0.79752263 0.64721782 0.61015413\n",
       "   0.34256304 0.35070256 0.5498768  0.56818377]\n",
       "  [0.95509649 0.16983204 0.52521079 0.26229703 0.91173544 0.34615396\n",
       "   0.88539968 0.62948181 0.57928828 0.71649801]]\n",
       "\n",
       " [[0.15696104 0.16138983 0.44249371 0.41619676 0.92013079 0.03759916\n",
       "   0.64442121 0.0452589  0.65231177 0.66586249]\n",
       "  [0.48616027 0.54050041 0.44744242 0.99091094 0.47432758 0.4641777\n",
       "   0.03842921 0.85097345 0.41333452 0.2928058 ]\n",
       "  [0.10600428 0.00792473 0.71676519 0.77411591 0.57349068 0.3481292\n",
       "   0.96581622 0.94060272 0.50520927 0.88072682]\n",
       "  [0.18863806 0.39198053 0.13236205 0.15336099 0.01901569 0.17699927\n",
       "   0.55740143 0.02900075 0.53510995 0.95401425]\n",
       "  [0.01748452 0.62513022 0.58471864 0.1756344  0.87311537 0.26417379\n",
       "   0.81748324 0.41564828 0.98934457 0.65490491]\n",
       "  [0.41612113 0.03306694 0.54074085 0.40714215 0.33234657 0.43406118\n",
       "   0.65405172 0.62011808 0.69884485 0.28734258]\n",
       "  [0.79889744 0.21482104 0.0061385  0.63664423 0.33459011 0.553959\n",
       "   0.19566764 0.18841535 0.74791992 0.53285271]\n",
       "  [0.7563849  0.39260587 0.83503882 0.15658791 0.36282658 0.8081899\n",
       "   0.98701139 0.06276078 0.00107263 0.53057363]\n",
       "  [0.88743646 0.88176045 0.01496431 0.60041757 0.77824563 0.11791542\n",
       "   0.68987436 0.2248087  0.9360502  0.17061668]\n",
       "  [0.86244572 0.98317725 0.33234755 0.56870573 0.11084219 0.31009239\n",
       "   0.02959785 0.98756399 0.40017867 0.74485143]]\n",
       "\n",
       " [[0.3162902  0.4702271  0.10197853 0.11874454 0.83467279 0.35224273\n",
       "   0.74909171 0.73435609 0.87397905 0.55069867]\n",
       "  [0.60777571 0.22375485 0.0971619  0.54531174 0.13989813 0.44791636\n",
       "   0.95547094 0.32820157 0.7653022  0.84400162]\n",
       "  [0.26605126 0.44220684 0.78220446 0.27121255 0.04028791 0.70800739\n",
       "   0.39472655 0.03147462 0.70613016 0.70040197]\n",
       "  [0.21865416 0.89887268 0.00114204 0.1956438  0.43995104 0.15908616\n",
       "   0.60095265 0.49792039 0.31917735 0.49300743]\n",
       "  [0.26504448 0.58321866 0.37757544 0.5126683  0.81584731 0.93061223\n",
       "   0.51855858 0.1678302  0.64697283 0.66348337]\n",
       "  [0.57826372 0.99040357 0.02320173 0.7638085  0.91829963 0.55177907\n",
       "   0.69248528 0.06156485 0.117127   0.12746337]\n",
       "  [0.67463901 0.05828554 0.04747078 0.31003246 0.529191   0.04134407\n",
       "   0.47618848 0.35887968 0.9013081  0.36753056]\n",
       "  [0.78261974 0.53193844 0.31674444 0.01537757 0.31939883 0.23196803\n",
       "   0.28556308 0.85137585 0.90936661 0.63971808]\n",
       "  [0.31104235 0.83376831 0.19378341 0.50907248 0.89429835 0.25767378\n",
       "   0.33450059 0.5481674  0.38818683 0.26901914]\n",
       "  [0.87595948 0.70130426 0.41275864 0.17799505 0.74043415 0.13673595\n",
       "   0.69671698 0.12323896 0.43270201 0.32529607]]\n",
       "\n",
       " [[0.3685721  0.93387542 0.65197501 0.80631865 0.19072907 0.06243784\n",
       "   0.40272413 0.1771464  0.05890491 0.00767988]\n",
       "  [0.51053501 0.02357344 0.06210414 0.16057204 0.19479192 0.24819587\n",
       "   0.46674874 0.51507329 0.87764971 0.07618367]\n",
       "  [0.34976924 0.05304362 0.35271621 0.96207721 0.41062519 0.11148979\n",
       "   0.01380062 0.87053081 0.85111736 0.6488499 ]\n",
       "  [0.11882508 0.29568723 0.57131524 0.00546192 0.79582515 0.19757103\n",
       "   0.96264447 0.67521412 0.16468585 0.66007074]\n",
       "  [0.94035293 0.63286044 0.18849959 0.80334132 0.40138959 0.90128698\n",
       "   0.96307121 0.4523315  0.09871074 0.41562921]\n",
       "  [0.72341559 0.1849411  0.92937589 0.44198948 0.00528911 0.36017553\n",
       "   0.0210009  0.11165467 0.83854105 0.85955817]\n",
       "  [0.78902748 0.62780352 0.04618093 0.53729992 0.02475684 0.72859447\n",
       "   0.67258097 0.10825544 0.93404721 0.23284126]\n",
       "  [0.38226905 0.94779503 0.64801236 0.20075883 0.59925829 0.46108867\n",
       "   0.60407788 0.54124224 0.90308485 0.36143323]\n",
       "  [0.08412228 0.12095538 0.03265058 0.51409373 0.97339295 0.76356495\n",
       "   0.1091031  0.41935863 0.88506408 0.25132082]\n",
       "  [0.72439812 0.96560184 0.45400367 0.95961889 0.16301351 0.45866297\n",
       "   0.89017623 0.09488139 0.31041456 0.54816114]]\n",
       "\n",
       " [[0.99568968 0.00547304 0.03689879 0.09865953 0.87682852 0.13309203\n",
       "   0.14150594 0.62677926 0.19503748 0.09783336]\n",
       "  [0.34867117 0.664904   0.42273374 0.43408404 0.04118416 0.79604494\n",
       "   0.10334887 0.35770111 0.91272955 0.62528511]\n",
       "  [0.78166946 0.59891764 0.78568343 0.79519194 0.25005473 0.12383827\n",
       "   0.50615834 0.67545438 0.12640485 0.12271662]\n",
       "  [0.53429529 0.31347149 0.28202205 0.97169584 0.1011781  0.20110685\n",
       "   0.1579105  0.45141993 0.29069123 0.27706145]\n",
       "  [0.16393455 0.03174991 0.89547181 0.16168349 0.76617267 0.52828876\n",
       "   0.41041275 0.45493508 0.89197455 0.29777697]\n",
       "  [0.2788633  0.62215729 0.78557295 0.0138956  0.17626799 0.32975685\n",
       "   0.54427987 0.40059026 0.17890158 0.79972261]\n",
       "  [0.83963235 0.8697992  0.3491908  0.51714659 0.16872433 0.8743783\n",
       "   0.4093286  0.52566711 0.07977826 0.25859621]\n",
       "  [0.63851143 0.56131961 0.36382809 0.05506884 0.83360747 0.17018116\n",
       "   0.90332379 0.67810298 0.8370317  0.28732178]\n",
       "  [0.92812203 0.57920896 0.64300839 0.74938267 0.46906634 0.51634104\n",
       "   0.45184761 0.91429643 0.62050198 0.35365987]\n",
       "  [0.09396149 0.8437116  0.84764228 0.73346767 0.60324127 0.05328827\n",
       "   0.3622286  0.27994706 0.07261587 0.1258317 ]]\n",
       "\n",
       " [[0.65852434 0.43861743 0.00402382 0.74796782 0.58585359 0.99063029\n",
       "   0.56477658 0.02883219 0.02320744 0.93671216]\n",
       "  [0.81925295 0.51072857 0.66729991 0.90517162 0.9694702  0.64340884\n",
       "   0.56641582 0.34487066 0.5486181  0.49371528]\n",
       "  [0.4823246  0.32180789 0.60722096 0.72424112 0.94057429 0.68780231\n",
       "   0.53915164 0.7038763  0.0331808  0.59320222]\n",
       "  [0.64884551 0.23931071 0.80547219 0.12751418 0.29459077 0.03355523\n",
       "   0.36119673 0.26050003 0.45079575 0.81623451]\n",
       "  [0.7566661  0.29494814 0.50614351 0.80712169 0.98730236 0.15891347\n",
       "   0.0908025  0.77521324 0.03103041 0.70149356]\n",
       "  [0.95266905 0.84026151 0.58751674 0.51674308 0.13060103 0.05273515\n",
       "   0.61981988 0.29827688 0.60354006 0.31121894]\n",
       "  [0.70217634 0.24778395 0.72827836 0.7193296  0.87365696 0.0837547\n",
       "   0.02572625 0.12944236 0.35828539 0.87264111]\n",
       "  [0.27861231 0.95264114 0.29932288 0.27822277 0.13158757 0.34978254\n",
       "   0.45187087 0.42979017 0.20069009 0.22978361]\n",
       "  [0.12773319 0.12246372 0.77703634 0.20153173 0.04593957 0.19799331\n",
       "   0.83532589 0.69980212 0.60016287 0.42331274]\n",
       "  [0.82598958 0.92808192 0.31372503 0.47563414 0.41348215 0.51052845\n",
       "   0.97356039 0.09067103 0.92299596 0.69714101]]\n",
       "\n",
       " [[0.68244131 0.4020085  0.32271269 0.34510374 0.07519509 0.1745707\n",
       "   0.50689384 0.08887456 0.46072953 0.52437287]\n",
       "  [0.56733277 0.75231764 0.09417451 0.48528404 0.15228972 0.7092977\n",
       "   0.95987701 0.05360388 0.08810194 0.42276891]\n",
       "  [0.20091539 0.8153915  0.25499027 0.06679649 0.8884632  0.21252722\n",
       "   0.39421301 0.15661326 0.97668299 0.1244473 ]\n",
       "  [0.73066825 0.22758052 0.21839065 0.82767295 0.35574383 0.83481154\n",
       "   0.95955212 0.67760812 0.44648016 0.97539013]\n",
       "  [0.94408042 0.38190072 0.86180354 0.18963881 0.75603247 0.41699017\n",
       "   0.56254367 0.70563841 0.67307431 0.87910988]\n",
       "  [0.32020793 0.03307275 0.51465891 0.15541573 0.17997669 0.56044293\n",
       "   0.06532946 0.31252006 0.9755767  0.89294365]\n",
       "  [0.31849352 0.29380307 0.5124097  0.1341168  0.17552632 0.09966579\n",
       "   0.86963819 0.99958358 0.62844943 0.55615042]\n",
       "  [0.43626287 0.41241342 0.61339821 0.07189753 0.24671362 0.27940136\n",
       "   0.10241196 0.35776603 0.9997649  0.32988633]\n",
       "  [0.28809592 0.37951068 0.95852267 0.37083816 0.79123556 0.78572078\n",
       "   0.53805199 0.18913002 0.39372967 0.22459809]\n",
       "  [0.20211628 0.99928528 0.69533766 0.80470914 0.76102427 0.54569371\n",
       "   0.73955627 0.26348756 0.27777076 0.92468788]]] CP decomposition."
      ]
     },
     "execution_count": 2,
     "metadata": {},
     "output_type": "execute_result"
    }
   ],
   "source": [
    "import numpy as np\n",
    "import tensorly as tl\n",
    "from tensorly import random\n",
    "from tensorly.decomposition import CP\n",
    "\n",
    "N = 10\n",
    "\n",
    "U =  random.random_tensor((N, N, N))\n",
    "CP(U)"
   ]
  },
  {
   "cell_type": "code",
   "execution_count": 3,
   "id": "3fa14e00",
   "metadata": {},
   "outputs": [
    {
     "data": {
      "text/plain": [
       "167"
      ]
     },
     "execution_count": 3,
     "metadata": {},
     "output_type": "execute_result"
    }
   ],
   "source": [
    "rank = N/2\n",
    "cp = CP(rank=rank) # with reduced rank, half compression\n",
    "weights, factors = cp.fit_transform(U)\n",
    "len(weights)"
   ]
  },
  {
   "cell_type": "code",
   "execution_count": 4,
   "id": "89973f7a",
   "metadata": {},
   "outputs": [
    {
     "data": {
      "text/plain": [
       "3"
      ]
     },
     "execution_count": 4,
     "metadata": {},
     "output_type": "execute_result"
    }
   ],
   "source": [
    "len(factors)"
   ]
  },
  {
   "cell_type": "code",
   "execution_count": 5,
   "id": "cacb7de9",
   "metadata": {},
   "outputs": [
    {
     "data": {
      "text/plain": [
       "[(10, 167), (10, 167), (10, 167)]"
      ]
     },
     "execution_count": 5,
     "metadata": {},
     "output_type": "execute_result"
    }
   ],
   "source": [
    "[f.shape for f in factors]"
   ]
  },
  {
   "cell_type": "code",
   "execution_count": null,
   "id": "955d1069",
   "metadata": {},
   "outputs": [],
   "source": [
    "[f.shape for f in factors]"
   ]
  },
  {
   "cell_type": "code",
   "execution_count": 6,
   "id": "da3b3a9a",
   "metadata": {},
   "outputs": [
    {
     "name": "stdout",
     "output_type": "stream",
     "text": [
      "CP RMSE  for rank 5.0 RMSE =  7.735906863407887e-12\n"
     ]
    }
   ],
   "source": [
    "import math\n",
    "reconstruction_t = tl.cp_to_tensor((weights, factors))\n",
    "\n",
    "CP_RMSE = math.sqrt(np.square(np.subtract(U,reconstruction_t)).mean() )\n",
    "print (\"CP RMSE  for rank \" + str(rank) + \" RMSE = \", CP_RMSE)"
   ]
  },
  {
   "cell_type": "code",
   "execution_count": 7,
   "id": "941b3c1f",
   "metadata": {},
   "outputs": [
    {
     "name": "stdout",
     "output_type": "stream",
     "text": [
      "CP RMSE  for rank 3 RMSE =  0.26929487083959625\n"
     ]
    }
   ],
   "source": [
    "rank = int(N/3)\n",
    "cp = CP(rank=rank) # with higher compression\n",
    "weights, factors = cp.fit_transform(U)\n",
    "reconstruction_t = tl.cp_to_tensor((weights, factors))\n",
    "\n",
    "CP_RMSE = math.sqrt(np.square(np.subtract(U,reconstruction_t)).mean() )\n",
    "print (\"CP RMSE  for rank \" + str(rank) + \" RMSE = \", CP_RMSE) # higher error"
   ]
  },
  {
   "cell_type": "markdown",
   "id": "883cf0d2",
   "metadata": {},
   "source": [
    "## 4.1.2 Tucker Decomposition"
   ]
  },
  {
   "cell_type": "code",
   "execution_count": 8,
   "id": "5de429fe",
   "metadata": {},
   "outputs": [
    {
     "data": {
      "text/plain": [
       "(5, 5, 5)"
      ]
     },
     "execution_count": 8,
     "metadata": {},
     "output_type": "execute_result"
    }
   ],
   "source": [
    "from tensorly.decomposition import tucker\n",
    "\n",
    "rank=[N/2, N/2, N/2]\n",
    "core, factors = tucker(U, rank=rank)# half compression\n",
    "core.shape"
   ]
  },
  {
   "cell_type": "code",
   "execution_count": 9,
   "id": "f5ee98cc",
   "metadata": {},
   "outputs": [
    {
     "data": {
      "text/plain": [
       "[(10, 5), (10, 5), (10, 5)]"
      ]
     },
     "execution_count": 9,
     "metadata": {},
     "output_type": "execute_result"
    }
   ],
   "source": [
    "[f.shape for f in factors]"
   ]
  },
  {
   "cell_type": "code",
   "execution_count": 10,
   "id": "e781cd59",
   "metadata": {},
   "outputs": [
    {
     "name": "stdout",
     "output_type": "stream",
     "text": [
      "(10, 10, 10)\n",
      "Tucker   for rank [5.0, 5.0, 5.0] RMSE =  8.52845528130588e-05\n"
     ]
    }
   ],
   "source": [
    "regeneratedTucker_tensor = tl.tucker_to_tensor((core, factors))\n",
    "print(regeneratedTucker_tensor.shape)\n",
    "Tucker_RMSE =math.sqrt(np.square(np.subtract(U, regeneratedTucker_tensor).mean()))\n",
    "print (\"Tucker   for rank \" + str(rank) + \" RMSE = \", Tucker_RMSE) "
   ]
  },
  {
   "cell_type": "code",
   "execution_count": 11,
   "id": "a1a7a90b",
   "metadata": {},
   "outputs": [
    {
     "name": "stdout",
     "output_type": "stream",
     "text": [
      "(10, 10, 10)\n",
      "Tucker   for rank [3, 3, 5] RMSE =  8.297507820321082e-05\n"
     ]
    }
   ],
   "source": [
    "rank=[int(N/3), int(N/3), int(N/2)]\n",
    "core, factors = tucker(U, rank=rank)# more compression\n",
    "regeneratedTucker_tensor = tl.tucker_to_tensor((core, factors))\n",
    "print(regeneratedTucker_tensor.shape)\n",
    "Tucker_RMSE =math.sqrt(np.square(np.subtract(U, regeneratedTucker_tensor).mean()))\n",
    "print (\"Tucker   for rank \" + str(rank) + \" RMSE = \", Tucker_RMSE) # higher error"
   ]
  },
  {
   "cell_type": "markdown",
   "id": "8c7ca630",
   "metadata": {},
   "source": [
    "## 4.2 Tensor Graphical Notation  \n",
    "\n",
    "\n",
    "<img src=\"TestNetwork.png\">\n",
    "This Network of Tensors Network is created in https://www.tensortrace.com/, the code below optimises the search for network contractions using ncon function (\"Network CONtractor\").  ncon is also implemented in Google TensorNetworks: https://github.com/google/TensorNetwork. \n",
    "\n",
    "TensorTrace is programmed to accept 4 networks, each network consists of any number of tensors, each tensor can have any number of indices. To be able to contract them into one tensor or scalar. The above complicated tensor network is contracted to a scaller, since all indices are connected together (summation/contraction indices) . **I could not understand how they group indices into 5 groups, and create the variable names as shown in the following tensortrace generate Python code - I contacted them and hopefully they will calrify before publishing the book** . A network made up of multiple tensors connected by summed indices is reduced to a single tensor or a number by evaluating the index sums."
   ]
  },
  {
   "cell_type": "code",
   "execution_count": 43,
   "id": "f05515c3",
   "metadata": {},
   "outputs": [
    {
     "name": "stdout",
     "output_type": "stream",
     "text": [
      "Requirement already satisfied: ncon in c:\\programdata\\anaconda3\\lib\\site-packages (1.0.0)\n",
      "Requirement already satisfied: numpy>=1.11.0 in c:\\programdata\\anaconda3\\lib\\site-packages (from ncon) (1.23.3)\n"
     ]
    }
   ],
   "source": [
    "!pip install ncon "
   ]
  },
  {
   "cell_type": "code",
   "execution_count": 44,
   "id": "99d8b814",
   "metadata": {},
   "outputs": [],
   "source": [
    "import numpy as np \n",
    "from ncon import ncon \n",
    "# from tensornetwork import ncon \n",
    "# --------------- Network-1 --------------- # \n",
    "# Leading order cost (guaranteed optimal): (Ind1^13)*(Ind2^5)\n",
    "Ind1 = 2\n",
    "Ind2 = 2\n",
    "Ind5 = 2\n",
    "T1 = np.random.rand(Ind2,Ind1,Ind1,Ind1,Ind5,Ind1,Ind1,Ind2)\n",
    "T2 = np.random.rand(Ind2,Ind1,Ind1,Ind1,Ind2,Ind1,Ind1,Ind1,Ind1,Ind2,Ind1)\n",
    "T3 = np.random.rand(Ind2,Ind1,Ind1,Ind1,Ind2,Ind1,Ind1,Ind1,Ind1,Ind1,Ind2,Ind1)\n",
    "T4 = np.random.rand(Ind1,Ind2,Ind1,Ind5,Ind1,Ind1,Ind1,Ind1,Ind2,Ind2,Ind2)\n",
    "\n",
    "# TTv1.0.5.0P$9-*@,J0O5J6@5501,52ICLHNNRPUNWHZCW=L<R5N8F6a6e:h@hFhJeJaJ]F[@[:\n",
    "# [6]0>9?>@C@HADB@C7D4=4@4?4,((3''..))).*().)()'.IX'\\JKDUMW.]KNITST4SNRRTVH5(\n",
    "# GQOLQLJ0VUXLR]PnYHYTV_Rt_JXZPP[9RRRRFQG'\\Q\\QTR5qNPNPWO=SLVRZ$\n",
    "tensors = [T1,T2,T3,T4]\n",
    "connects = [[1,2,8,8,5,6,3,21],[11,13,14,15,16,17,18,18,19,20,4],\n",
    "\t[1,12,12,17,16,15,14,13,10,9,7,2],[3,7,6,5,9,10,19,4,21,11,20]]\n",
    "con_order = [8,18,12,13,14,15,16,17,11,19,20,4,10,9,7,1,2,5,6,3,21]\n",
    "T1 = ncon(tensors,connects,con_order) # \"Network CONtractor\"\n"
   ]
  },
  {
   "cell_type": "code",
   "execution_count": 45,
   "id": "109d61d4",
   "metadata": {},
   "outputs": [
    {
     "data": {
      "text/plain": [
       "array(126596.39263487)"
      ]
     },
     "execution_count": 45,
     "metadata": {},
     "output_type": "execute_result"
    }
   ],
   "source": [
    "T1"
   ]
  },
  {
   "cell_type": "code",
   "execution_count": 46,
   "id": "66e5d71d",
   "metadata": {},
   "outputs": [
    {
     "data": {
      "text/plain": [
       "()"
      ]
     },
     "execution_count": 46,
     "metadata": {},
     "output_type": "execute_result"
    }
   ],
   "source": [
    "T1.shape"
   ]
  },
  {
   "attachments": {
    "image.png": {
     "image/png": "[encoded data removed]"
    }
   },
   "cell_type": "markdown",
   "id": "532601bf",
   "metadata": {},
   "source": [
    "The gamemaker studio output details are as follows:\n",
    "\n",
    "![image.png](attachment:image.png)\n",
    "\n",
    "The above generated Python code does not print out the contraction order shown in the image. The ncon function as well returns only the contracted ndarray tensor but does not give out all details in this image, which is great in taking this code into simulating tensor networks and understanding the contraction performance. \n",
    "\n",
    "Is there a way to get the number of scalar multiplications in python, the tensor contraction order and the other details shown in the image below? if this is not readily available in these libraries, (the authors might reply with answers), then this makes a good MSc project idea to release more details about the simulation, and try different methods. \n",
    "\n",
    "Tensor trace obviously hard code the graphical user input into the Python code. "
   ]
  },
  {
   "cell_type": "markdown",
   "id": "d319736a",
   "metadata": {},
   "source": [
    "Another example that contracts to 2-way tensor (2 free indices are created) is as follows:\n",
    "\n",
    "<img src=\"TestNetwork2.png\">\n",
    "\n",
    "\n",
    "\n",
    "The optimal contraction Order is:  [2,1,4,3]"
   ]
  },
  {
   "cell_type": "code",
   "execution_count": 47,
   "id": "44caf1c5",
   "metadata": {},
   "outputs": [
    {
     "data": {
      "text/plain": [
       "(2, 2)"
      ]
     },
     "execution_count": 47,
     "metadata": {},
     "output_type": "execute_result"
    }
   ],
   "source": [
    "# --------------- Network-1 --------------- # \n",
    "# Leading order cost (guaranteed optimal): (Ind1^5)\n",
    "Ind1 = 2\n",
    "T0 = np.random.rand(Ind1,Ind1,Ind1,Ind1)\n",
    "T1 = np.random.rand(Ind1,Ind1,Ind1)\n",
    "T2 = np.random.rand(Ind1,Ind1,Ind1)\n",
    "\n",
    "# TTv1.0.5.0P$T<,82H2'-I.9N>_>=@GeKuKT'''''''SSl$\n",
    "tensors = [T0,T1,T2]\n",
    "connects = [[4,2,1,-2],[1,2,3],[3,-1,4]]\n",
    "con_order = [2,1,4,3]\n",
    "T1 = ncon(tensors,connects,con_order)\n",
    "T1.shape"
   ]
  },
  {
   "cell_type": "code",
   "execution_count": 48,
   "id": "d84df669",
   "metadata": {},
   "outputs": [
    {
     "data": {
      "text/plain": [
       "array([[1.45346387, 1.68893414],\n",
       "       [1.55504724, 1.72256614]])"
      ]
     },
     "execution_count": 48,
     "metadata": {},
     "output_type": "execute_result"
    }
   ],
   "source": [
    "T1"
   ]
  },
  {
   "cell_type": "markdown",
   "id": "eb31d63f",
   "metadata": {},
   "source": [
    "Another example that contracts to 3-way tensor (3 free indices are created) is as follows:\n",
    "\n",
    "<img src=\"TestNetwork3.png\">\n",
    "The optimal contraction Order is:[2,1,3]"
   ]
  },
  {
   "cell_type": "code",
   "execution_count": 49,
   "id": "fbaf95c0",
   "metadata": {},
   "outputs": [
    {
     "data": {
      "text/plain": [
       "(2, 2, 2)"
      ]
     },
     "execution_count": 49,
     "metadata": {},
     "output_type": "execute_result"
    }
   ],
   "source": [
    "# --------------- Network-1 --------------- # \n",
    "# Leading order cost (guaranteed optimal): (Ind1^4)\n",
    "Ind1 = 2\n",
    "T0 = np.random.rand(Ind1,Ind1,Ind1)\n",
    "T1 = np.random.rand(Ind1,Ind1,Ind1)\n",
    "T2 = np.random.rand(Ind1,Ind1,Ind1)\n",
    "\n",
    "# TTv1.0.5.0P$U*28?G@(0LJY^Y6.c^popM'')'''':{k}K$\n",
    "tensors = [T0,T1,T2]\n",
    "connects = [[-3,2,1],[2,3,1],[3,-2,-1]]\n",
    "con_order = [2,1,3]\n",
    "T1 = ncon(tensors,connects,con_order)\n",
    "T1.shape\n"
   ]
  },
  {
   "cell_type": "code",
   "execution_count": 50,
   "id": "ccc4d69b",
   "metadata": {},
   "outputs": [
    {
     "data": {
      "text/plain": [
       "array([[[1.34586949, 1.27159154],\n",
       "        [0.50705741, 0.52421329]],\n",
       "\n",
       "       [[1.28039365, 1.11050855],\n",
       "        [1.03176317, 0.86728339]]])"
      ]
     },
     "execution_count": 50,
     "metadata": {},
     "output_type": "execute_result"
    }
   ],
   "source": [
    "T1"
   ]
  },
  {
   "cell_type": "markdown",
   "id": "59d3a49b",
   "metadata": {},
   "source": [
    "Another example that contracts to 4-way tensor (4 free indices are created) is as follows:\n",
    "<img src=\"TestNetwork4.png\">\n",
    "\n",
    "\n",
    "The optimal contraction Order is: [2,1,3,4]\n"
   ]
  },
  {
   "cell_type": "code",
   "execution_count": 51,
   "id": "2481886a",
   "metadata": {},
   "outputs": [
    {
     "data": {
      "text/plain": [
       "(2, 2, 2, 2)"
      ]
     },
     "execution_count": 51,
     "metadata": {},
     "output_type": "execute_result"
    }
   ],
   "source": [
    "# --------------- Network-1 --------------- # \n",
    "# Leading order cost (guaranteed optimal): (Ind1^5)\n",
    "Ind1 = 2\n",
    "T0 = np.random.rand(Ind1,Ind1,Ind1)\n",
    "T1 = np.random.rand(Ind1,Ind1,Ind1)\n",
    "T2 = np.random.rand(Ind1,Ind1,Ind1)\n",
    "T3 = np.random.rand(Ind1,Ind1,Ind1)\n",
    "\n",
    "# TTv1.0.5.0P$B,,92C2/>8>>J>30C?LML0EQ\\XiXN'''''''''9N'[n\\G$\n",
    "tensors = [T0,T1,T2,T3]\n",
    "connects = [[-1,2,1],[1,2,3],[3,4,-2],[4,-4,-3]]\n",
    "con_order = [2,1,3,4]\n",
    "T1 = ncon(tensors,connects,con_order)\n",
    "T1.shape\n"
   ]
  },
  {
   "cell_type": "markdown",
   "id": "f565676a",
   "metadata": {},
   "source": [
    "## 4.2.1 The Tensor Train Decomposition"
   ]
  },
  {
   "cell_type": "code",
   "execution_count": 53,
   "id": "5c9c9938",
   "metadata": {},
   "outputs": [
    {
     "data": {
      "text/plain": [
       "[(1, 2, 2), (2, 2, 2), (2, 2, 2), (2, 2, 1)]"
      ]
     },
     "execution_count": 53,
     "metadata": {},
     "output_type": "execute_result"
    }
   ],
   "source": [
    "\n",
    "from tensorly.decomposition import matrix_product_state\n",
    "\n",
    "rank = list(T1.shape) # full rank : boundaring conditions dictatate rank[0] == rank[-1] == 1: setting rank[0] to 1.\n",
    "rank[0] = 1\n",
    "rank.append(1) # boundaring conditions dictatate rank[0] == rank[-1] == 1: setting rank[0] to 1.\n",
    "factors = matrix_product_state(T1, rank=rank)\n",
    "\n",
    "[f.shape for f in factors]\n"
   ]
  },
  {
   "cell_type": "code",
   "execution_count": 54,
   "id": "eef755f6",
   "metadata": {},
   "outputs": [
    {
     "data": {
      "text/plain": [
       "array([[[[1.01619903, 1.11245758],\n",
       "         [0.30639639, 0.97319392]],\n",
       "\n",
       "        [[0.81253976, 0.89205887],\n",
       "         [0.24767257, 0.78259668]]],\n",
       "\n",
       "\n",
       "       [[[1.8293858 , 2.00411737],\n",
       "         [0.55310029, 1.7544822 ]],\n",
       "\n",
       "        [[1.47286976, 1.61984617],\n",
       "         [0.45192814, 1.42352728]]]])"
      ]
     },
     "execution_count": 54,
     "metadata": {},
     "output_type": "execute_result"
    }
   ],
   "source": [
    "from tensorly import tt_to_tensor\n",
    "\n",
    "reconstruction_t = np.round(tt_to_tensor(factors), decimals=10)\n",
    "reconstruction_t"
   ]
  },
  {
   "cell_type": "code",
   "execution_count": 55,
   "id": "2211238d",
   "metadata": {},
   "outputs": [
    {
     "name": "stdout",
     "output_type": "stream",
     "text": [
      "MPS RMSE  for rank [1, 2, 2, 2, 1] RMSE =  2.797548853035411e-11\n"
     ]
    }
   ],
   "source": [
    "import math\n",
    "\n",
    "MPS_RMSE = math.sqrt(np.square(np.subtract(T1,reconstruction_t)).mean() )\n",
    "print (\"MPS RMSE  for rank \" + str(rank) + \" RMSE = \", MPS_RMSE)"
   ]
  },
  {
   "cell_type": "code",
   "execution_count": 56,
   "id": "8053972b",
   "metadata": {
    "scrolled": true
   },
   "outputs": [
    {
     "name": "stderr",
     "output_type": "stream",
     "text": [
      "C:\\ProgramData\\Anaconda3\\lib\\site-packages\\tensorly\\tt_tensor.py:187: FutureWarning: elementwise comparison failed; returning scalar instead, but in the future will perform elementwise comparison\n",
      "  if rank == 'same':\n"
     ]
    },
    {
     "ename": "ValueError",
     "evalue": "Provided incorrect number of ranks. Should verify len(rank) == tl.ndim(tensor)+1, but len(rank) = 2 while tl.ndim(tensor) + 1  = 5",
     "output_type": "error",
     "traceback": [
      "\u001b[1;31m---------------------------------------------------------------------------\u001b[0m",
      "\u001b[1;31mValueError\u001b[0m                                Traceback (most recent call last)",
      "\u001b[1;32mC:\\Users\\DELLPR~1\\AppData\\Local\\Temp/ipykernel_3016/3508838178.py\u001b[0m in \u001b[0;36m<module>\u001b[1;34m\u001b[0m\n\u001b[0;32m      4\u001b[0m \u001b[1;33m\u001b[0m\u001b[0m\n\u001b[0;32m      5\u001b[0m \u001b[0mtt\u001b[0m \u001b[1;33m=\u001b[0m \u001b[0mTensorTrain\u001b[0m \u001b[1;33m(\u001b[0m\u001b[0mT1\u001b[0m\u001b[1;33m,\u001b[0m \u001b[0mverbose\u001b[0m\u001b[1;33m=\u001b[0m\u001b[1;32mTrue\u001b[0m\u001b[1;33m)\u001b[0m\u001b[1;33m\u001b[0m\u001b[1;33m\u001b[0m\u001b[0m\n\u001b[1;32m----> 6\u001b[1;33m \u001b[0mtt\u001b[0m\u001b[1;33m.\u001b[0m\u001b[0mfit_transform\u001b[0m\u001b[1;33m(\u001b[0m\u001b[0mT1\u001b[0m\u001b[1;33m)\u001b[0m\u001b[1;33m\u001b[0m\u001b[1;33m\u001b[0m\u001b[0m\n\u001b[0m",
      "\u001b[1;32mC:\\ProgramData\\Anaconda3\\lib\\site-packages\\tensorly\\decomposition\\_tt.py\u001b[0m in \u001b[0;36mfit_transform\u001b[1;34m(self, tensor)\u001b[0m\n\u001b[0;32m    141\u001b[0m \u001b[1;33m\u001b[0m\u001b[0m\n\u001b[0;32m    142\u001b[0m     \u001b[1;32mdef\u001b[0m \u001b[0mfit_transform\u001b[0m\u001b[1;33m(\u001b[0m\u001b[0mself\u001b[0m\u001b[1;33m,\u001b[0m \u001b[0mtensor\u001b[0m\u001b[1;33m)\u001b[0m\u001b[1;33m:\u001b[0m\u001b[1;33m\u001b[0m\u001b[1;33m\u001b[0m\u001b[0m\n\u001b[1;32m--> 143\u001b[1;33m         \u001b[0mself\u001b[0m\u001b[1;33m.\u001b[0m\u001b[0mdecomposition_\u001b[0m \u001b[1;33m=\u001b[0m \u001b[0mtensor_train\u001b[0m\u001b[1;33m(\u001b[0m\u001b[0mtensor\u001b[0m\u001b[1;33m,\u001b[0m \u001b[0mrank\u001b[0m\u001b[1;33m=\u001b[0m\u001b[0mself\u001b[0m\u001b[1;33m.\u001b[0m\u001b[0mrank\u001b[0m\u001b[1;33m,\u001b[0m \u001b[0mverbose\u001b[0m\u001b[1;33m=\u001b[0m\u001b[0mself\u001b[0m\u001b[1;33m.\u001b[0m\u001b[0mverbose\u001b[0m\u001b[1;33m)\u001b[0m\u001b[1;33m\u001b[0m\u001b[1;33m\u001b[0m\u001b[0m\n\u001b[0m\u001b[0;32m    144\u001b[0m         \u001b[1;32mreturn\u001b[0m \u001b[0mself\u001b[0m\u001b[1;33m.\u001b[0m\u001b[0mdecomposition_\u001b[0m\u001b[1;33m\u001b[0m\u001b[1;33m\u001b[0m\u001b[0m\n\u001b[0;32m    145\u001b[0m \u001b[1;33m\u001b[0m\u001b[0m\n",
      "\u001b[1;32mC:\\ProgramData\\Anaconda3\\lib\\site-packages\\tensorly\\decomposition\\_tt.py\u001b[0m in \u001b[0;36mtensor_train\u001b[1;34m(input_tensor, rank, verbose)\u001b[0m\n\u001b[0;32m     30\u001b[0m     \u001b[1;33m.\u001b[0m\u001b[1;33m.\u001b[0m \u001b[1;33m[\u001b[0m\u001b[1;36m1\u001b[0m\u001b[1;33m]\u001b[0m \u001b[0mIvan\u001b[0m \u001b[0mV\u001b[0m\u001b[1;33m.\u001b[0m \u001b[0mOseledets\u001b[0m\u001b[1;33m.\u001b[0m \u001b[1;34m\"Tensor-train decomposition\"\u001b[0m\u001b[1;33m,\u001b[0m \u001b[0mSIAM\u001b[0m \u001b[0mJ\u001b[0m\u001b[1;33m.\u001b[0m \u001b[0mScientific\u001b[0m \u001b[0mComputing\u001b[0m\u001b[1;33m,\u001b[0m \u001b[1;36m33\u001b[0m\u001b[1;33m(\u001b[0m\u001b[1;36m5\u001b[0m\u001b[1;33m)\u001b[0m\u001b[1;33m:\u001b[0m\u001b[1;36m2295\u001b[0m\u001b[0;31m–\u001b[0m\u001b[1;36m2317\u001b[0m\u001b[1;33m,\u001b[0m \u001b[1;36m2011.\u001b[0m\u001b[1;33m\u001b[0m\u001b[1;33m\u001b[0m\u001b[0m\n\u001b[0;32m     31\u001b[0m     \"\"\"\n\u001b[1;32m---> 32\u001b[1;33m     \u001b[0mrank\u001b[0m \u001b[1;33m=\u001b[0m \u001b[0mvalidate_tt_rank\u001b[0m\u001b[1;33m(\u001b[0m\u001b[0mtl\u001b[0m\u001b[1;33m.\u001b[0m\u001b[0mshape\u001b[0m\u001b[1;33m(\u001b[0m\u001b[0minput_tensor\u001b[0m\u001b[1;33m)\u001b[0m\u001b[1;33m,\u001b[0m \u001b[0mrank\u001b[0m\u001b[1;33m=\u001b[0m\u001b[0mrank\u001b[0m\u001b[1;33m)\u001b[0m\u001b[1;33m\u001b[0m\u001b[1;33m\u001b[0m\u001b[0m\n\u001b[0m\u001b[0;32m     33\u001b[0m     \u001b[0mtensor_size\u001b[0m \u001b[1;33m=\u001b[0m \u001b[0minput_tensor\u001b[0m\u001b[1;33m.\u001b[0m\u001b[0mshape\u001b[0m\u001b[1;33m\u001b[0m\u001b[1;33m\u001b[0m\u001b[0m\n\u001b[0;32m     34\u001b[0m     \u001b[0mn_dim\u001b[0m \u001b[1;33m=\u001b[0m \u001b[0mlen\u001b[0m\u001b[1;33m(\u001b[0m\u001b[0mtensor_size\u001b[0m\u001b[1;33m)\u001b[0m\u001b[1;33m\u001b[0m\u001b[1;33m\u001b[0m\u001b[0m\n",
      "\u001b[1;32mC:\\ProgramData\\Anaconda3\\lib\\site-packages\\tensorly\\tt_tensor.py\u001b[0m in \u001b[0;36mvalidate_tt_rank\u001b[1;34m(tensor_shape, rank, constant_rank, rounding, allow_overparametrization)\u001b[0m\n\u001b[0;32m    240\u001b[0m             message = 'Provided incorrect number of ranks. Should verify len(rank) == tl.ndim(tensor)+1, but len(rank) = {} while tl.ndim(tensor) + 1  = {}'.format(\n\u001b[0;32m    241\u001b[0m                 len(rank), n_dim + 1)\n\u001b[1;32m--> 242\u001b[1;33m             \u001b[1;32mraise\u001b[0m\u001b[1;33m(\u001b[0m\u001b[0mValueError\u001b[0m\u001b[1;33m(\u001b[0m\u001b[0mmessage\u001b[0m\u001b[1;33m)\u001b[0m\u001b[1;33m)\u001b[0m\u001b[1;33m\u001b[0m\u001b[1;33m\u001b[0m\u001b[0m\n\u001b[0m\u001b[0;32m    243\u001b[0m \u001b[1;33m\u001b[0m\u001b[0m\n\u001b[0;32m    244\u001b[0m         \u001b[1;31m# Initialization\u001b[0m\u001b[1;33m\u001b[0m\u001b[1;33m\u001b[0m\u001b[0m\n",
      "\u001b[1;31mValueError\u001b[0m: Provided incorrect number of ranks. Should verify len(rank) == tl.ndim(tensor)+1, but len(rank) = 2 while tl.ndim(tensor) + 1  = 5"
     ]
    }
   ],
   "source": [
    "from tensorly.decomposition import TensorTrain\n",
    "import tensorly as tl\n",
    "\n",
    "\n",
    "tt = TensorTrain (T1, verbose=True)\n",
    "tt.fit_transform(T1) # I asked them about this error, if they resolve, will correct, otherwise, I will remove in an upcoming revision"
   ]
  },
  {
   "cell_type": "code",
   "execution_count": 57,
   "id": "7b38accc",
   "metadata": {},
   "outputs": [
    {
     "data": {
      "text/plain": [
       "<module 'tensorly.tt_tensor' from 'C:\\\\ProgramData\\\\Anaconda3\\\\lib\\\\site-packages\\\\tensorly\\\\tt_tensor.py'>"
      ]
     },
     "execution_count": 57,
     "metadata": {},
     "output_type": "execute_result"
    }
   ],
   "source": [
    "tl.tt_tensor"
   ]
  },
  {
   "cell_type": "code",
   "execution_count": 58,
   "id": "05c96b46",
   "metadata": {},
   "outputs": [
    {
     "data": {
      "text/plain": [
       "[1, 2, 2, 2, 1]"
      ]
     },
     "execution_count": 58,
     "metadata": {},
     "output_type": "execute_result"
    }
   ],
   "source": [
    "rank"
   ]
  },
  {
   "cell_type": "code",
   "execution_count": 59,
   "id": "690fcc98",
   "metadata": {},
   "outputs": [
    {
     "data": {
      "text/plain": [
       "array([[[[1.01619903, 1.11245758],\n",
       "         [0.30639639, 0.97319392]],\n",
       "\n",
       "        [[0.81253976, 0.89205887],\n",
       "         [0.24767257, 0.78259668]]],\n",
       "\n",
       "\n",
       "       [[[1.8293858 , 2.00411737],\n",
       "         [0.55310029, 1.7544822 ]],\n",
       "\n",
       "        [[1.47286976, 1.61984617],\n",
       "         [0.45192814, 1.42352728]]]])"
      ]
     },
     "execution_count": 59,
     "metadata": {},
     "output_type": "execute_result"
    }
   ],
   "source": [
    "tt.rank"
   ]
  },
  {
   "cell_type": "code",
   "execution_count": 60,
   "id": "ba0dc8bd",
   "metadata": {},
   "outputs": [
    {
     "data": {
      "text/plain": [
       "array([[[[1.01619903, 1.11245758],\n",
       "         [0.30639639, 0.97319392]],\n",
       "\n",
       "        [[0.81253976, 0.89205887],\n",
       "         [0.24767257, 0.78259668]]],\n",
       "\n",
       "\n",
       "       [[[1.8293858 , 2.00411737],\n",
       "         [0.55310029, 1.7544822 ]],\n",
       "\n",
       "        [[1.47286976, 1.61984617],\n",
       "         [0.45192814, 1.42352728]]]])"
      ]
     },
     "execution_count": 60,
     "metadata": {},
     "output_type": "execute_result"
    }
   ],
   "source": [
    "T1"
   ]
  },
  {
   "cell_type": "code",
   "execution_count": 61,
   "id": "28986927",
   "metadata": {},
   "outputs": [],
   "source": [
    "from tensorly import tt_tensor"
   ]
  },
  {
   "cell_type": "code",
   "execution_count": 62,
   "id": "108e8d31",
   "metadata": {},
   "outputs": [
    {
     "data": {
      "text/plain": [
       "[(1, 2, 2), (2, 2, 2), (2, 2, 2), (2, 2, 1)]"
      ]
     },
     "execution_count": 62,
     "metadata": {},
     "output_type": "execute_result"
    }
   ],
   "source": [
    "from tensorly.contrib.decomposition import tensor_train_cross\n",
    "factors2 = tensor_train_cross(T1, rank)\n",
    "[f.shape for f in factors2]"
   ]
  },
  {
   "cell_type": "code",
   "execution_count": 63,
   "id": "6e0f4e51",
   "metadata": {},
   "outputs": [
    {
     "data": {
      "text/plain": [
       "False"
      ]
     },
     "execution_count": 63,
     "metadata": {},
     "output_type": "execute_result"
    }
   ],
   "source": [
    "factors2 == factors"
   ]
  },
  {
   "cell_type": "code",
   "execution_count": 64,
   "id": "4d1ea039",
   "metadata": {},
   "outputs": [
    {
     "data": {
      "text/plain": [
       "[array([[[0.78259668, 1.01619903],\n",
       "         [1.42352728, 1.8293858 ]]]),\n",
       " array([[[-1.55344925e-17,  1.71360091e-01],\n",
       "         [ 6.89210987e-01,  1.00000000e+00]],\n",
       " \n",
       "        [[ 1.00000000e+00,  8.25712346e-01],\n",
       "         [ 2.68811052e-01, -5.22023632e-17]]]),\n",
       " array([[[ 1.00000000e+00,  5.44676741e-01],\n",
       "         [-2.76540677e-01,  2.04512317e-17]],\n",
       " \n",
       "        [[ 3.18849242e-17,  5.74353774e-01],\n",
       "         [ 6.03596818e-01,  1.00000000e+00]]]),\n",
       " array([[[ 1.00000000e+00],\n",
       "         [-3.13308551e-17]],\n",
       " \n",
       "        [[-5.06683654e-17],\n",
       "         [ 1.00000000e+00]]])]"
      ]
     },
     "execution_count": 64,
     "metadata": {},
     "output_type": "execute_result"
    }
   ],
   "source": [
    "factors2"
   ]
  },
  {
   "cell_type": "code",
   "execution_count": 65,
   "id": "5bbc7e85",
   "metadata": {},
   "outputs": [
    {
     "name": "stdout",
     "output_type": "stream",
     "text": [
      "TT   for rank [1, 2, 2, 2, 1] RMSE =  2.797548853035411e-11\n"
     ]
    }
   ],
   "source": [
    "reconstruction_t = np.round(tt_to_tensor(factors2), decimals=10)\n",
    "reconstruction_t\n",
    "\n",
    "TT_RMSE = math.sqrt(np.square(np.subtract(T1,reconstruction_t)).mean() )\n",
    "print (\"TT   for rank \" + str(rank) + \" RMSE = \", TT_RMSE)"
   ]
  },
  {
   "cell_type": "code",
   "execution_count": 66,
   "id": "729561a6",
   "metadata": {},
   "outputs": [
    {
     "data": {
      "text/plain": [
       "2.797548853035411e-11"
      ]
     },
     "execution_count": 66,
     "metadata": {},
     "output_type": "execute_result"
    }
   ],
   "source": [
    "MPS_RMSE"
   ]
  },
  {
   "cell_type": "code",
   "execution_count": 67,
   "id": "04379ebc",
   "metadata": {},
   "outputs": [
    {
     "data": {
      "text/plain": [
       "False"
      ]
     },
     "execution_count": 67,
     "metadata": {},
     "output_type": "execute_result"
    }
   ],
   "source": [
    "TT_RMSE > MPS_RMSE"
   ]
  },
  {
   "cell_type": "code",
   "execution_count": 68,
   "id": "d33aede3",
   "metadata": {},
   "outputs": [
    {
     "name": "stdout",
     "output_type": "stream",
     "text": [
      "Collecting git+https://github.com/PGelss/scikit_tt\n",
      "  Cloning https://github.com/PGelss/scikit_tt to c:\\users\\dell precision\\appdata\\local\\temp\\pip-req-build-z97rbw8h\n",
      "  Resolved https://github.com/PGelss/scikit_tt to commit 2ead9c4872cd865f7770f8f3a9274468b5b61b1f\n",
      "Requirement already satisfied: numpy>=1.14 in c:\\programdata\\anaconda3\\lib\\site-packages (from scikit-tt==1.0) (1.23.3)\n",
      "Requirement already satisfied: scipy>=1 in c:\\users\\dell precision\\appdata\\roaming\\python\\python39\\site-packages (from scikit-tt==1.0) (1.7.3)\n",
      "Collecting numpy>=1.14\n",
      "  Downloading numpy-1.22.4-cp39-cp39-win_amd64.whl (14.7 MB)\n",
      "Installing collected packages: numpy\n",
      "  Attempting uninstall: numpy\n",
      "    Found existing installation: numpy 1.23.3\n",
      "    Uninstalling numpy-1.23.3:\n",
      "      Successfully uninstalled numpy-1.23.3\n"
     ]
    },
    {
     "name": "stderr",
     "output_type": "stream",
     "text": [
      "  Running command git clone -q https://github.com/PGelss/scikit_tt 'C:\\Users\\Dell Precision\\AppData\\Local\\Temp\\pip-req-build-z97rbw8h'\n",
      "ERROR: Could not install packages due to an OSError: [WinError 5] Access is denied: 'C:\\\\ProgramData\\\\Anaconda3\\\\Lib\\\\site-packages\\\\~.mpy\\\\.libs\\\\libopenblas.FB5AE2TYXYH2IJRDKGDGQ3XBKLKTF43H.gfortran-win_amd64.dll'\n",
      "Consider using the `--user` option or check the permissions.\n",
      "\n"
     ]
    }
   ],
   "source": [
    "#!pip install git+https://github.com/PGelss/scikit_tt"
   ]
  },
  {
   "cell_type": "code",
   "execution_count": 69,
   "id": "9aeb1330",
   "metadata": {},
   "outputs": [],
   "source": [
    " from scikit_tt.tensor_train import TT\n",
    "\n",
    "# this class rebuild a TT from the cores. It accepts cores in such a format of\n",
    "#  a list of cores, i.e. \"t = TT(cores)\"  where cores is  given by a list of 4-dimensional tensors \"[cores[0] , ..., cores[d-1]]\",\n",
    "# where cores[i] is an ndarry with dimensions \"ranks[i] x row_dims[i] x col_dims[i] x ranks[i+1]\"\n",
    "# or from a full tensor representation, i.e. \"t = TT(x)\" where  x is an ndarray with dimensions  \"row_dims[0] x ... x row_dims[-1] x col_dims[0] x ... x col_dims[-1]\"\n",
    "\n"
   ]
  },
  {
   "cell_type": "code",
   "execution_count": 70,
   "id": "42a7f3d0",
   "metadata": {},
   "outputs": [
    {
     "data": {
      "text/plain": [
       "[(1, 2, 2), (2, 2, 2), (2, 2, 2), (2, 2, 1)]"
      ]
     },
     "execution_count": 70,
     "metadata": {},
     "output_type": "execute_result"
    }
   ],
   "source": [
    "# we can read the previously generated cores iteratively\n",
    "cores = []\n",
    "for f in factors2:\n",
    "    cores.append(f)\n",
    "[f.shape for f in cores] # list of cores, but must be 4-dimensions each, so we can not use the ones generated by Tensorly"
   ]
  },
  {
   "cell_type": "code",
   "execution_count": 71,
   "id": "2023500e",
   "metadata": {},
   "outputs": [
    {
     "name": "stdout",
     "output_type": "stream",
     "text": [
      "\n",
      "Tensor train with order    = 2, \n",
      "                  row_dims = [2, 3], \n",
      "                  col_dims = [3, 2], \n",
      "                  ranks    = [1, 4, 1]\n"
     ]
    }
   ],
   "source": [
    "# generating a TT from cores randonly generated as requested by scikit_tt\n",
    "cores = [np.random.rand(1, 2, 3, 4), np.random.rand(4, 3, 2, 1)] # random cores\n",
    "t = TT(cores)\n",
    "print(t)"
   ]
  },
  {
   "cell_type": "code",
   "execution_count": 72,
   "id": "e731fa8b",
   "metadata": {},
   "outputs": [
    {
     "data": {
      "text/plain": [
       "scikit_tt.tensor_train.TT"
      ]
     },
     "execution_count": 72,
     "metadata": {},
     "output_type": "execute_result"
    }
   ],
   "source": [
    "type(t)"
   ]
  },
  {
   "cell_type": "code",
   "execution_count": 73,
   "id": "0c8f8ed8",
   "metadata": {},
   "outputs": [
    {
     "data": {
      "text/plain": [
       "<bound method TT.tt2qtt of \n",
       "Tensor train with order    = 2, \n",
       "                  row_dims = [2, 3], \n",
       "                  col_dims = [3, 2], \n",
       "                  ranks    = [1, 4, 1]>"
      ]
     },
     "execution_count": 73,
     "metadata": {},
     "output_type": "execute_result"
    }
   ],
   "source": [
    "# conversion from TT format into QTT format.\n",
    "t_qtt = t.tt2qtt\n",
    "t_qtt"
   ]
  },
  {
   "cell_type": "code",
   "execution_count": 74,
   "id": "8fde9686",
   "metadata": {},
   "outputs": [
    {
     "data": {
      "text/plain": [
       "(1, 2, 3, 4, 5, 6)"
      ]
     },
     "execution_count": 74,
     "metadata": {},
     "output_type": "execute_result"
    }
   ],
   "source": [
    "tensor = np.random.rand(1, 2, 3, 4, 5, 6) #  can also construct TT from numpy ndarray as a ful tensor, this is 6-way tensor\n",
    "tensor.shape"
   ]
  },
  {
   "cell_type": "code",
   "execution_count": 75,
   "id": "961b3ed5",
   "metadata": {},
   "outputs": [
    {
     "name": "stdout",
     "output_type": "stream",
     "text": [
      "\n",
      "Tensor train with order    = 3, \n",
      "                  row_dims = [1, 2, 3], \n",
      "                  col_dims = [4, 5, 6], \n",
      "                  ranks    = [1, 4, 18, 1]\n"
     ]
    }
   ],
   "source": [
    "t = TT(tensor)\n",
    "print (t)"
   ]
  },
  {
   "cell_type": "code",
   "execution_count": 76,
   "id": "2bfa184f",
   "metadata": {},
   "outputs": [
    {
     "name": "stdout",
     "output_type": "stream",
     "text": [
      "\n",
      "Tensor train with order    = 2, \n",
      "                  row_dims = [2, 2], \n",
      "                  col_dims = [2, 2], \n",
      "                  ranks    = [1, 4, 1]\n"
     ]
    }
   ],
   "source": [
    "# from a full tensor representation, the T1 4-way tensor used earlier, it is decomsed into rank [1, 4, 1], \n",
    "t = TT(T1) # we can \n",
    "print(t)"
   ]
  },
  {
   "cell_type": "code",
   "execution_count": 85,
   "id": "81a4600e",
   "metadata": {},
   "outputs": [
    {
     "name": "stdout",
     "output_type": "stream",
     "text": [
      "Collecting t3f\n",
      "  Downloading t3f-1.2.0.tar.gz (57 kB)\n",
      "Requirement already satisfied: numpy in c:\\programdata\\anaconda3\\lib\\site-packages (from t3f) (1.22.4)\n",
      "Building wheels for collected packages: t3f\n",
      "  Building wheel for t3f (setup.py): started\n",
      "  Building wheel for t3f (setup.py): finished with status 'done'\n",
      "  Created wheel for t3f: filename=t3f-1.2.0-py3-none-any.whl size=69178 sha256=5d37f3bf7deea85231fc9f39d064b349deec8a0fdf52fe8c80da5300f9733550\n",
      "  Stored in directory: c:\\users\\dell precision\\appdata\\local\\pip\\cache\\wheels\\19\\ba\\b6\\4374128efd1e8839a677ff1114fb4e1f085d8274838d4bae1d\n",
      "Successfully built t3f\n",
      "Installing collected packages: t3f\n",
      "Successfully installed t3f-1.2.0\n"
     ]
    }
   ],
   "source": [
    "#!pip install t3f"
   ]
  },
  {
   "cell_type": "code",
   "execution_count": 87,
   "id": "2f47f369",
   "metadata": {},
   "outputs": [
    {
     "data": {
      "text/plain": [
       "<t3f.tensor_train.TensorTrain at 0x1e5b3297250>"
      ]
     },
     "execution_count": 87,
     "metadata": {},
     "output_type": "execute_result"
    }
   ],
   "source": [
    "import t3f\n",
    "\n",
    "a_tt = t3f.to_tt_tensor(T1, max_tt_rank=2)\n",
    "a_tt"
   ]
  },
  {
   "cell_type": "code",
   "execution_count": 89,
   "id": "0c5043cd",
   "metadata": {},
   "outputs": [
    {
     "data": {
      "text/plain": [
       "TensorShape([2, 2, 2, 2])"
      ]
     },
     "execution_count": 89,
     "metadata": {},
     "output_type": "execute_result"
    }
   ],
   "source": [
    "a_tt.get_shape()"
   ]
  },
  {
   "cell_type": "code",
   "execution_count": 92,
   "id": "1e9d0d86",
   "metadata": {},
   "outputs": [
    {
     "data": {
      "text/plain": [
       "TensorShape([1, 2, 2, 2, 1])"
      ]
     },
     "execution_count": 92,
     "metadata": {},
     "output_type": "execute_result"
    }
   ],
   "source": [
    "a_tt.get_tt_ranks()"
   ]
  },
  {
   "cell_type": "code",
   "execution_count": 93,
   "id": "3daa88e1",
   "metadata": {},
   "outputs": [
    {
     "data": {
      "text/plain": [
       "(<tf.Tensor: shape=(1, 2, 2), dtype=float64, numpy=\n",
       " array([[[-0.48414987, -0.87498509],\n",
       "         [-0.87498509,  0.48414987]]])>,\n",
       " <tf.Tensor: shape=(2, 2, 2), dtype=float64, numpy=\n",
       " array([[[-0.77823539,  0.60264037],\n",
       "         [-0.6279705 , -0.74654427]],\n",
       " \n",
       "        [[-0.00103675,  0.1289837 ],\n",
       "         [ 0.00128434,  0.25071788]]])>,\n",
       " <tf.Tensor: shape=(2, 2, 2), dtype=float64, numpy=\n",
       " array([[[ 8.36718571e-01,  5.47622958e-01],\n",
       "         [ 5.47631186e-01, -8.36713525e-01]],\n",
       " \n",
       "        [[-6.85779218e-04, -4.33239183e-03],\n",
       "         [ 1.28314080e-03,  8.96453352e-04]]])>,\n",
       " <tf.Tensor: shape=(2, 2, 1), dtype=float64, numpy=\n",
       " array([[[ 2.69324138],\n",
       "         [ 3.87795479]],\n",
       " \n",
       "        [[ 0.78785109],\n",
       "         [-0.54716295]]])>)"
      ]
     },
     "execution_count": 93,
     "metadata": {},
     "output_type": "execute_result"
    }
   ],
   "source": [
    "a_tt.tt_cores"
   ]
  },
  {
   "cell_type": "code",
   "execution_count": 96,
   "id": "33eb50c4",
   "metadata": {},
   "outputs": [
    {
     "data": {
      "text/plain": [
       "[TensorShape([1, 2, 2]),\n",
       " TensorShape([2, 2, 2]),\n",
       " TensorShape([2, 2, 2]),\n",
       " TensorShape([2, 2, 1])]"
      ]
     },
     "execution_count": 96,
     "metadata": {},
     "output_type": "execute_result"
    }
   ],
   "source": [
    "[c.shape for c in a_tt.tt_cores]"
   ]
  },
  {
   "cell_type": "code",
   "execution_count": 97,
   "id": "199ab81e",
   "metadata": {},
   "outputs": [
    {
     "name": "stdout",
     "output_type": "stream",
     "text": [
      "T3F TT   for rank [2, 2] RMSE =  3.694568430527454e-15\n"
     ]
    }
   ],
   "source": [
    "reconstruction_t = t3f.full(a_tt)\n",
    "T3f_TT_RMSE = math.sqrt(np.square(np.subtract(T1,reconstruction_t)).mean() )\n",
    "print (\"T3F TT   for rank \" + str(rank) + \" RMSE = \", T3f_TT_RMSE)"
   ]
  },
  {
   "cell_type": "markdown",
   "id": "fe43a6e6",
   "metadata": {},
   "source": [
    "### 4.2.2 Tensor Rings \n",
    "\n",
    "so far I could not find a TR that works in isolation of NN layers. Even NN layers are not well explained in the tutorials how to use them. I have sent them emails and waiting for their reply, then will update this notebook with the final findings, whether there is, or there is not."
   ]
  },
  {
   "cell_type": "code",
   "execution_count": 77,
   "id": "df52752f",
   "metadata": {},
   "outputs": [],
   "source": [
    "#!pip install tednet\n",
    "#!pip install torch\n",
    "#!pip install --upgrade numpy"
   ]
  },
  {
   "cell_type": "code",
   "execution_count": 107,
   "id": "9f5b8ff5",
   "metadata": {},
   "outputs": [
    {
     "ename": "AssertionError",
     "evalue": "The number of ranks is not suitable.",
     "output_type": "error",
     "traceback": [
      "\u001b[1;31m---------------------------------------------------------------------------\u001b[0m",
      "\u001b[1;31mAssertionError\u001b[0m                            Traceback (most recent call last)",
      "\u001b[1;32mC:\\Users\\DELLPR~1\\AppData\\Local\\Temp/ipykernel_3016/2381440515.py\u001b[0m in \u001b[0;36m<module>\u001b[1;34m\u001b[0m\n\u001b[0;32m      4\u001b[0m \u001b[1;33m\u001b[0m\u001b[0m\n\u001b[0;32m      5\u001b[0m \u001b[0mrank\u001b[0m\u001b[1;33m=\u001b[0m\u001b[1;33m[\u001b[0m\u001b[1;36m2\u001b[0m\u001b[1;33m,\u001b[0m \u001b[1;36m2\u001b[0m\u001b[1;33m]\u001b[0m\u001b[1;33m\u001b[0m\u001b[1;33m\u001b[0m\u001b[0m\n\u001b[1;32m----> 6\u001b[1;33m \u001b[0mmodel\u001b[0m \u001b[1;33m=\u001b[0m \u001b[0mtr\u001b[0m\u001b[1;33m.\u001b[0m\u001b[0mTRLinear\u001b[0m\u001b[1;33m(\u001b[0m\u001b[0mT1\u001b[0m\u001b[1;33m.\u001b[0m\u001b[0mshape\u001b[0m\u001b[1;33m,\u001b[0m \u001b[1;33m[\u001b[0m\u001b[1;36m2\u001b[0m\u001b[1;33m,\u001b[0m \u001b[1;36m2\u001b[0m\u001b[1;33m]\u001b[0m\u001b[1;33m,\u001b[0m \u001b[0mranks\u001b[0m\u001b[1;33m=\u001b[0m\u001b[0mrank\u001b[0m\u001b[1;33m)\u001b[0m\u001b[1;33m\u001b[0m\u001b[1;33m\u001b[0m\u001b[0m\n\u001b[0m\u001b[0;32m      7\u001b[0m \u001b[0mtn_type\u001b[0m \u001b[1;33m=\u001b[0m \u001b[1;34m\"tr\"\u001b[0m\u001b[1;33m\u001b[0m\u001b[1;33m\u001b[0m\u001b[0m\n\u001b[0;32m      8\u001b[0m \u001b[0mmodel\u001b[0m\u001b[1;33m.\u001b[0m\u001b[0mtn_info\u001b[0m\u001b[1;33m[\u001b[0m\u001b[1;34m\"type\"\u001b[0m\u001b[1;33m]\u001b[0m \u001b[1;33m=\u001b[0m \u001b[0mtn_type\u001b[0m\u001b[1;33m\u001b[0m\u001b[1;33m\u001b[0m\u001b[0m\n",
      "\u001b[1;32mC:\\ProgramData\\Anaconda3\\lib\\site-packages\\tednet\\tnn\\tensor_ring\\base.py\u001b[0m in \u001b[0;36m__init__\u001b[1;34m(self, in_shape, out_shape, ranks, bias)\u001b[0m\n\u001b[0;32m    210\u001b[0m                 \u001b[0muse\u001b[0m \u001b[0mbias\u001b[0m \u001b[0mof\u001b[0m \u001b[0mlinear\u001b[0m \u001b[1;32mor\u001b[0m \u001b[1;32mnot\u001b[0m\u001b[1;33m.\u001b[0m\u001b[0;31m \u001b[0m\u001b[0;31m`\u001b[0m\u001b[0;31m`\u001b[0m\u001b[1;32mTrue\u001b[0m\u001b[0;31m`\u001b[0m\u001b[0;31m`\u001b[0m \u001b[0mto\u001b[0m \u001b[0muse\u001b[0m\u001b[1;33m,\u001b[0m \u001b[1;32mand\u001b[0m\u001b[0;31m \u001b[0m\u001b[0;31m`\u001b[0m\u001b[0;31m`\u001b[0m\u001b[1;32mFalse\u001b[0m\u001b[0;31m`\u001b[0m\u001b[0;31m`\u001b[0m \u001b[0mto\u001b[0m \u001b[1;32mnot\u001b[0m \u001b[0muse\u001b[0m\u001b[1;33m\u001b[0m\u001b[1;33m\u001b[0m\u001b[0m\n\u001b[0;32m    211\u001b[0m         \"\"\"\n\u001b[1;32m--> 212\u001b[1;33m         \u001b[0msuper\u001b[0m\u001b[1;33m(\u001b[0m\u001b[0mTRLinear\u001b[0m\u001b[1;33m,\u001b[0m \u001b[0mself\u001b[0m\u001b[1;33m)\u001b[0m\u001b[1;33m.\u001b[0m\u001b[0m__init__\u001b[0m\u001b[1;33m(\u001b[0m\u001b[0min_shape\u001b[0m\u001b[1;33m=\u001b[0m\u001b[0min_shape\u001b[0m\u001b[1;33m,\u001b[0m \u001b[0mout_shape\u001b[0m\u001b[1;33m=\u001b[0m\u001b[0mout_shape\u001b[0m\u001b[1;33m,\u001b[0m \u001b[0mranks\u001b[0m\u001b[1;33m=\u001b[0m\u001b[0mranks\u001b[0m\u001b[1;33m,\u001b[0m \u001b[0mbias\u001b[0m\u001b[1;33m=\u001b[0m\u001b[0mbias\u001b[0m\u001b[1;33m)\u001b[0m\u001b[1;33m\u001b[0m\u001b[1;33m\u001b[0m\u001b[0m\n\u001b[0m\u001b[0;32m    213\u001b[0m \u001b[1;33m\u001b[0m\u001b[0m\n\u001b[0;32m    214\u001b[0m         \u001b[0mself\u001b[0m\u001b[1;33m.\u001b[0m\u001b[0mreset_parameters\u001b[0m\u001b[1;33m(\u001b[0m\u001b[1;33m)\u001b[0m\u001b[1;33m\u001b[0m\u001b[1;33m\u001b[0m\u001b[0m\n",
      "\u001b[1;32mC:\\ProgramData\\Anaconda3\\lib\\site-packages\\tednet\\tnn\\tn_linear.py\u001b[0m in \u001b[0;36m__init__\u001b[1;34m(self, in_shape, out_shape, ranks, bias)\u001b[0m\n\u001b[0;32m     29\u001b[0m                  \u001b[0muse\u001b[0m \u001b[0mbias\u001b[0m \u001b[0mof\u001b[0m \u001b[0mlinear\u001b[0m \u001b[1;32mor\u001b[0m \u001b[1;32mnot\u001b[0m\u001b[1;33m.\u001b[0m\u001b[0;31m \u001b[0m\u001b[0;31m`\u001b[0m\u001b[0;31m`\u001b[0m\u001b[1;32mTrue\u001b[0m\u001b[0;31m`\u001b[0m\u001b[0;31m`\u001b[0m \u001b[0mto\u001b[0m \u001b[0muse\u001b[0m\u001b[1;33m,\u001b[0m \u001b[1;32mand\u001b[0m\u001b[0;31m \u001b[0m\u001b[0;31m`\u001b[0m\u001b[0;31m`\u001b[0m\u001b[1;32mFalse\u001b[0m\u001b[0;31m`\u001b[0m\u001b[0;31m`\u001b[0m \u001b[0mto\u001b[0m \u001b[1;32mnot\u001b[0m \u001b[0muse\u001b[0m\u001b[1;33m\u001b[0m\u001b[1;33m\u001b[0m\u001b[0m\n\u001b[0;32m     30\u001b[0m         \"\"\"\n\u001b[1;32m---> 31\u001b[1;33m         \u001b[0msuper\u001b[0m\u001b[1;33m(\u001b[0m\u001b[0m_TNLinear\u001b[0m\u001b[1;33m,\u001b[0m \u001b[0mself\u001b[0m\u001b[1;33m)\u001b[0m\u001b[1;33m.\u001b[0m\u001b[0m__init__\u001b[0m\u001b[1;33m(\u001b[0m\u001b[0min_shape\u001b[0m\u001b[1;33m=\u001b[0m\u001b[0min_shape\u001b[0m\u001b[1;33m,\u001b[0m \u001b[0mout_shape\u001b[0m\u001b[1;33m=\u001b[0m\u001b[0mout_shape\u001b[0m\u001b[1;33m,\u001b[0m \u001b[0mranks\u001b[0m\u001b[1;33m=\u001b[0m\u001b[0mranks\u001b[0m\u001b[1;33m,\u001b[0m \u001b[0mbias\u001b[0m\u001b[1;33m=\u001b[0m\u001b[0mbias\u001b[0m\u001b[1;33m)\u001b[0m\u001b[1;33m\u001b[0m\u001b[1;33m\u001b[0m\u001b[0m\n\u001b[0m\u001b[0;32m     32\u001b[0m \u001b[1;33m\u001b[0m\u001b[0m\n\u001b[0;32m     33\u001b[0m     \u001b[1;32mdef\u001b[0m \u001b[0mforward\u001b[0m\u001b[1;33m(\u001b[0m\u001b[0mself\u001b[0m\u001b[1;33m,\u001b[0m \u001b[0minputs\u001b[0m\u001b[1;33m)\u001b[0m\u001b[1;33m:\u001b[0m\u001b[1;33m\u001b[0m\u001b[1;33m\u001b[0m\u001b[0m\n",
      "\u001b[1;32mC:\\ProgramData\\Anaconda3\\lib\\site-packages\\tednet\\tnn\\tn_module.py\u001b[0m in \u001b[0;36m__init__\u001b[1;34m(self, in_shape, out_shape, ranks, bias)\u001b[0m\n\u001b[0;32m     51\u001b[0m \u001b[1;33m\u001b[0m\u001b[0m\n\u001b[0;32m     52\u001b[0m         \u001b[0mself\u001b[0m\u001b[1;33m.\u001b[0m\u001b[0mset_tn_type\u001b[0m\u001b[1;33m(\u001b[0m\u001b[1;33m)\u001b[0m\u001b[1;33m\u001b[0m\u001b[1;33m\u001b[0m\u001b[0m\n\u001b[1;32m---> 53\u001b[1;33m         \u001b[0mself\u001b[0m\u001b[1;33m.\u001b[0m\u001b[0mset_nodes\u001b[0m\u001b[1;33m(\u001b[0m\u001b[1;33m)\u001b[0m\u001b[1;33m\u001b[0m\u001b[1;33m\u001b[0m\u001b[0m\n\u001b[0m\u001b[0;32m     54\u001b[0m         \u001b[0mself\u001b[0m\u001b[1;33m.\u001b[0m\u001b[0mset_params_info\u001b[0m\u001b[1;33m(\u001b[0m\u001b[1;33m)\u001b[0m\u001b[1;33m\u001b[0m\u001b[1;33m\u001b[0m\u001b[0m\n\u001b[0;32m     55\u001b[0m \u001b[1;33m\u001b[0m\u001b[0m\n",
      "\u001b[1;32mC:\\ProgramData\\Anaconda3\\lib\\site-packages\\tednet\\tnn\\tensor_ring\\base.py\u001b[0m in \u001b[0;36mset_nodes\u001b[1;34m(self)\u001b[0m\n\u001b[0;32m    229\u001b[0m         \u001b[0mself\u001b[0m\u001b[1;33m.\u001b[0m\u001b[0mranks_fill\u001b[0m \u001b[1;33m=\u001b[0m \u001b[0mnp\u001b[0m\u001b[1;33m.\u001b[0m\u001b[0mappend\u001b[0m\u001b[1;33m(\u001b[0m\u001b[0mself\u001b[0m\u001b[1;33m.\u001b[0m\u001b[0mranks\u001b[0m\u001b[1;33m,\u001b[0m \u001b[0mself\u001b[0m\u001b[1;33m.\u001b[0m\u001b[0mranks\u001b[0m\u001b[1;33m[\u001b[0m\u001b[1;36m0\u001b[0m\u001b[1;33m]\u001b[0m\u001b[1;33m)\u001b[0m\u001b[1;33m\u001b[0m\u001b[1;33m\u001b[0m\u001b[0m\n\u001b[0;32m    230\u001b[0m \u001b[1;33m\u001b[0m\u001b[0m\n\u001b[1;32m--> 231\u001b[1;33m         \u001b[1;32massert\u001b[0m \u001b[0mself\u001b[0m\u001b[1;33m.\u001b[0m\u001b[0mnodes_num\u001b[0m \u001b[1;33m==\u001b[0m \u001b[0mlen\u001b[0m\u001b[1;33m(\u001b[0m\u001b[0mself\u001b[0m\u001b[1;33m.\u001b[0m\u001b[0mranks\u001b[0m\u001b[1;33m)\u001b[0m\u001b[1;33m,\u001b[0m \u001b[1;34m\"The number of ranks is not suitable.\"\u001b[0m\u001b[1;33m\u001b[0m\u001b[1;33m\u001b[0m\u001b[0m\n\u001b[0m\u001b[0;32m    232\u001b[0m \u001b[1;33m\u001b[0m\u001b[0m\n\u001b[0;32m    233\u001b[0m         \u001b[0mnodes_info\u001b[0m \u001b[1;33m=\u001b[0m \u001b[1;33m[\u001b[0m\u001b[1;33m]\u001b[0m\u001b[1;33m\u001b[0m\u001b[1;33m\u001b[0m\u001b[0m\n",
      "\u001b[1;31mAssertionError\u001b[0m: The number of ranks is not suitable."
     ]
    }
   ],
   "source": [
    "import tednet as tdt\n",
    "\n",
    "import tednet.tnn.tensor_ring as tr\n",
    "\n",
    "rank=[2, 2]\n",
    "model = tr.TRLinear(T1.shape, [2, 2], ranks=rank)\n",
    "tn_type = \"tr\"\n",
    "model.tn_info[\"type\"] = tn_type"
   ]
  },
  {
   "cell_type": "code",
   "execution_count": 80,
   "id": "2072fdf4",
   "metadata": {},
   "outputs": [
    {
     "data": {
      "text/plain": [
       "(2, 2, 2, 2)"
      ]
     },
     "execution_count": 80,
     "metadata": {},
     "output_type": "execute_result"
    }
   ],
   "source": [
    "T1.shape"
   ]
  },
  {
   "cell_type": "code",
   "execution_count": 109,
   "id": "bbbe4fd1",
   "metadata": {},
   "outputs": [
    {
     "ename": "AttributeError",
     "evalue": "'Module' object has no attribute 'tn_info'",
     "output_type": "error",
     "traceback": [
      "\u001b[1;31m---------------------------------------------------------------------------\u001b[0m",
      "\u001b[1;31mAttributeError\u001b[0m                            Traceback (most recent call last)",
      "\u001b[1;32mC:\\Users\\DELLPR~1\\AppData\\Local\\Temp/ipykernel_3016/430665470.py\u001b[0m in \u001b[0;36m<module>\u001b[1;34m\u001b[0m\n\u001b[0;32m      6\u001b[0m \u001b[0mnode_info\u001b[0m \u001b[1;33m=\u001b[0m \u001b[0mdict\u001b[0m\u001b[1;33m(\u001b[0m\u001b[0mname\u001b[0m\u001b[1;33m=\u001b[0m\u001b[1;34m\"node1\"\u001b[0m\u001b[1;33m,\u001b[0m \u001b[0mshape\u001b[0m\u001b[1;33m=\u001b[0m\u001b[1;33m[\u001b[0m\u001b[1;36m2\u001b[0m\u001b[1;33m,\u001b[0m \u001b[1;36m3\u001b[0m\u001b[1;33m,\u001b[0m \u001b[1;36m4\u001b[0m\u001b[1;33m]\u001b[0m\u001b[1;33m)\u001b[0m\u001b[1;33m\u001b[0m\u001b[1;33m\u001b[0m\u001b[0m\n\u001b[0;32m      7\u001b[0m \u001b[0mnodes_info\u001b[0m\u001b[1;33m.\u001b[0m\u001b[0mappend\u001b[0m\u001b[1;33m(\u001b[0m\u001b[0mnode_info\u001b[0m\u001b[1;33m)\u001b[0m\u001b[1;33m\u001b[0m\u001b[1;33m\u001b[0m\u001b[0m\n\u001b[1;32m----> 8\u001b[1;33m \u001b[0mmodel\u001b[0m\u001b[1;33m.\u001b[0m\u001b[0mtn_info\u001b[0m\u001b[1;33m[\u001b[0m\u001b[1;34m\"nodes\"\u001b[0m\u001b[1;33m]\u001b[0m \u001b[1;33m=\u001b[0m \u001b[0mnodes_info\u001b[0m\u001b[1;33m\u001b[0m\u001b[1;33m\u001b[0m\u001b[0m\n\u001b[0m",
      "\u001b[1;32m~\\AppData\\Roaming\\Python\\Python39\\site-packages\\torch\\nn\\modules\\module.py\u001b[0m in \u001b[0;36m__getattr__\u001b[1;34m(self, name)\u001b[0m\n\u001b[0;32m   1175\u001b[0m             \u001b[1;32mif\u001b[0m \u001b[0mname\u001b[0m \u001b[1;32min\u001b[0m \u001b[0mmodules\u001b[0m\u001b[1;33m:\u001b[0m\u001b[1;33m\u001b[0m\u001b[1;33m\u001b[0m\u001b[0m\n\u001b[0;32m   1176\u001b[0m                 \u001b[1;32mreturn\u001b[0m \u001b[0mmodules\u001b[0m\u001b[1;33m[\u001b[0m\u001b[0mname\u001b[0m\u001b[1;33m]\u001b[0m\u001b[1;33m\u001b[0m\u001b[1;33m\u001b[0m\u001b[0m\n\u001b[1;32m-> 1177\u001b[1;33m         raise AttributeError(\"'{}' object has no attribute '{}'\".format(\n\u001b[0m\u001b[0;32m   1178\u001b[0m             type(self).__name__, name))\n\u001b[0;32m   1179\u001b[0m \u001b[1;33m\u001b[0m\u001b[0m\n",
      "\u001b[1;31mAttributeError\u001b[0m: 'Module' object has no attribute 'tn_info'"
     ]
    }
   ],
   "source": [
    "#from tednet.tnn import tn_module\n",
    "from torch.nn.modules.module import Module\n",
    "\n",
    "model = Module()\n",
    "nodes_info = []\n",
    "node_info = dict(name=\"node1\", shape=[2, 3, 4])\n",
    "nodes_info.append(node_info)\n",
    "model.tn_info[\"nodes\"] = nodes_info\n"
   ]
  },
  {
   "cell_type": "code",
   "execution_count": null,
   "id": "2674f6a5",
   "metadata": {},
   "outputs": [],
   "source": [
    "for epoch in range(20):\n",
    "    model.train(\n",
    "        torch.utils.data.DataLoader(\n",
    "    datasets.MNIST('./data', train=True, download=True,\n",
    "                   transform=transforms.Compose([\n",
    "                       transforms.ToTensor(),\n",
    "                       transforms.Normalize((0.1307,), (0.3081,))\n",
    "                   ])),\n",
    "    batch_size=128, shuffle=True, **kwargs)\n",
    "        optim.SGD(model.parameters(), lr=2e-2, momentum=0.9, weight_decay=5e-4), \n",
    "        epoch\n",
    "    )"
   ]
  },
  {
   "cell_type": "code",
   "execution_count": null,
   "id": "a57f3585",
   "metadata": {},
   "outputs": [],
   "source": [
    "model.train?"
   ]
  },
  {
   "cell_type": "markdown",
   "id": "21bfb337",
   "metadata": {},
   "source": [
    "## 4.3.1 Introduction to NN:\n",
    "\n",
    "To keep code simpler, I tried to load the dataset once, and in every new model, updated its format as required by the new model. If anything goes wrong, all cells from next one, need to run in sequence\n",
    "\n",
    "## Perceptron"
   ]
  },
  {
   "cell_type": "code",
   "execution_count": 1,
   "id": "1e44d0f1",
   "metadata": {},
   "outputs": [
    {
     "name": "stderr",
     "output_type": "stream",
     "text": [
      "C:\\Users\\Dell Precision\\AppData\\Roaming\\Python\\Python39\\site-packages\\scipy\\__init__.py:146: UserWarning: A NumPy version >=1.16.5 and <1.23.0 is required for this version of SciPy (detected version 1.23.3\n",
      "  warnings.warn(f\"A NumPy version >={np_minversion} and <{np_maxversion}\"\n"
     ]
    },
    {
     "name": "stdout",
     "output_type": "stream",
     "text": [
      "(1797, 64)\n"
     ]
    }
   ],
   "source": [
    "import numpy as np \n",
    "from sklearn.datasets import load_digits\n",
    "from sklearn.linear_model import Perceptron\n",
    "\n",
    "digits = load_digits()  # consider binary case\n",
    "X = digits.data\n",
    "y = digits.target\n",
    "print(X.shape)"
   ]
  },
  {
   "cell_type": "code",
   "execution_count": 2,
   "id": "4882e9b1",
   "metadata": {},
   "outputs": [],
   "source": [
    "from sklearn.model_selection import train_test_split\n",
    "\n",
    "X = X / 255.0\n",
    "X_train, X_test, y_train, y_test = train_test_split(X, y, random_state=0, test_size=0.4)\n",
    "X_test, X_val, y_test, y_val = train_test_split(X_test, y_test, random_state=0, test_size=0.5)\n"
   ]
  },
  {
   "cell_type": "code",
   "execution_count": 3,
   "id": "155009a0",
   "metadata": {},
   "outputs": [
    {
     "name": "stdout",
     "output_type": "stream",
     "text": [
      "(1078, 64)\n",
      "(359, 64)\n",
      "(360, 64)\n"
     ]
    }
   ],
   "source": [
    "print (X_train.shape)\n",
    "print (X_test.shape)\n",
    "print (X_val.shape)"
   ]
  },
  {
   "cell_type": "code",
   "execution_count": 4,
   "id": "bff4a293",
   "metadata": {},
   "outputs": [
    {
     "data": {
      "text/plain": [
       "<matplotlib.image.AxesImage at 0x1e59fb17d60>"
      ]
     },
     "execution_count": 4,
     "metadata": {},
     "output_type": "execute_result"
    },
    {
     "data": {
      "image/png": "[encoded data removed]",
      "text/plain": [
       "<Figure size 288x288 with 1 Axes>"
      ]
     },
     "metadata": {
      "needs_background": "light"
     },
     "output_type": "display_data"
    }
   ],
   "source": [
    "import matplotlib.pyplot as plt\n",
    "\n",
    "plt.matshow(digits.images[1])"
   ]
  },
  {
   "cell_type": "code",
   "execution_count": 5,
   "id": "7336972a",
   "metadata": {},
   "outputs": [],
   "source": [
    "clf = Perceptron(tol=1e-3, random_state=0)\n",
    "from time import time\n",
    "start= time()\n",
    "clf.fit(X, y)\n",
    "p_learnTime= time()-start"
   ]
  },
  {
   "cell_type": "code",
   "execution_count": 6,
   "id": "94edb44f",
   "metadata": {},
   "outputs": [
    {
     "name": "stdout",
     "output_type": "stream",
     "text": [
      "Training set score: 0.914657\n",
      "Test set score: 0.908078\n"
     ]
    }
   ],
   "source": [
    "print(\"Training set score: %f\" % clf.score(X_train, y_train))\n",
    "P_MNIST_score = clf.score(X_test, y_test)\n",
    "print(\"Test set score: %f\" % P_MNIST_score)"
   ]
  },
  {
   "cell_type": "markdown",
   "id": "38ae3bb8",
   "metadata": {},
   "source": [
    "## Multi Layer Perceptron"
   ]
  },
  {
   "cell_type": "code",
   "execution_count": 7,
   "id": "692e31c5",
   "metadata": {},
   "outputs": [
    {
     "name": "stdout",
     "output_type": "stream",
     "text": [
      "Iteration 1, loss = 2.32083410\n",
      "Iteration 2, loss = 2.30143372\n",
      "Iteration 3, loss = 2.29487446\n",
      "Iteration 4, loss = 2.28683077\n",
      "Iteration 5, loss = 2.27889477\n",
      "Iteration 6, loss = 2.27008412\n",
      "Iteration 7, loss = 2.25852477\n",
      "Iteration 8, loss = 2.24779170\n",
      "Training set score: 0.320037\n",
      "Test set score: 0.281337\n"
     ]
    },
    {
     "name": "stderr",
     "output_type": "stream",
     "text": [
      "C:\\ProgramData\\Anaconda3\\lib\\site-packages\\sklearn\\neural_network\\_multilayer_perceptron.py:702: ConvergenceWarning: Stochastic Optimizer: Maximum iterations (8) reached and the optimization hasn't converged yet.\n",
      "  warnings.warn(\n"
     ]
    }
   ],
   "source": [
    "from sklearn.neural_network import MLPClassifier\n",
    "\n",
    "epochs = 8\n",
    "\n",
    "mlp = MLPClassifier(\n",
    "    hidden_layer_sizes=(40,),\n",
    "    max_iter=epochs,\n",
    "    alpha=1e-4,\n",
    "    solver=\"sgd\",\n",
    "    verbose=10,\n",
    "    random_state=1,\n",
    "    learning_rate_init=0.2,\n",
    ")\n",
    "\n",
    "start= time()\n",
    "mlp.fit(X_train, y_train)\n",
    "mlp_learnTime= time()-start\n",
    "\n",
    "print(\"Training set score: %f\" % mlp.score(X_train, y_train))\n",
    "MLP_MNIST_score = mlp.score(X_test, y_test)\n",
    "print(\"Test set score: %f\" % MLP_MNIST_score)\n"
   ]
  },
  {
   "cell_type": "code",
   "execution_count": 8,
   "id": "fbf8eb85",
   "metadata": {},
   "outputs": [],
   "source": [
    "#!pip install --upgrade tensorflow"
   ]
  },
  {
   "cell_type": "code",
   "execution_count": 9,
   "id": "557eda1b",
   "metadata": {},
   "outputs": [
    {
     "name": "stdout",
     "output_type": "stream",
     "text": [
      "Model: \"model\"\n",
      "_________________________________________________________________\n",
      " Layer (type)                Output Shape              Param #   \n",
      "=================================================================\n",
      " input_1 (InputLayer)        [(None, 64)]              0         \n",
      "                                                                 \n",
      " dense (Dense)               (None, 10)                650       \n",
      "                                                                 \n",
      " activation (Activation)     (None, 10)                0         \n",
      "                                                                 \n",
      "=================================================================\n",
      "Total params: 650\n",
      "Trainable params: 650\n",
      "Non-trainable params: 0\n",
      "_________________________________________________________________\n"
     ]
    }
   ],
   "source": [
    "import tensorflow as tf\n",
    "#import  as tk\n",
    "#from tensorflow.keras.datasets import mnist\n",
    "from tensorflow.keras.utils import to_categorical\n",
    "num_classes = 10\n",
    "\n",
    "y_train = to_categorical(y_train, num_classes=num_classes) # NN encoding\n",
    "y_test = to_categorical(y_test, num_classes=num_classes)\n",
    "#from tf.keras import Input\n",
    "#from tensorflow.keras.layers import Dense, Activation\n",
    "#from tensorflow.keras.models import Model\n",
    "\n",
    "xi = tf.keras.Input(shape=(X_train.shape[1],))\n",
    "xo = tf.keras.layers.Dense(num_classes)(xi)\n",
    "yo = tf.keras.layers.Activation('softmax')(xo)\n",
    "model   =  tf.keras.models.Model(inputs=[xi], outputs=[yo])\n",
    "\n",
    "model.summary()"
   ]
  },
  {
   "cell_type": "markdown",
   "id": "7e6a35ad",
   "metadata": {},
   "source": [
    "## Keras Fully Connected / Dense Model"
   ]
  },
  {
   "cell_type": "code",
   "execution_count": 10,
   "id": "82afd099",
   "metadata": {},
   "outputs": [
    {
     "name": "stdout",
     "output_type": "stream",
     "text": [
      "Epoch 1/8\n",
      "8/8 [==============================] - 0s 18ms/step - loss: 2.2918 - accuracy: 0.1485 - val_loss: 2.3010 - val_accuracy: 0.1111\n",
      "Epoch 2/8\n",
      "8/8 [==============================] - 0s 5ms/step - loss: 2.2882 - accuracy: 0.1649 - val_loss: 2.2978 - val_accuracy: 0.1204\n",
      "Epoch 3/8\n",
      "8/8 [==============================] - 0s 5ms/step - loss: 2.2848 - accuracy: 0.1701 - val_loss: 2.2944 - val_accuracy: 0.1111\n",
      "Epoch 4/8\n",
      "8/8 [==============================] - 0s 5ms/step - loss: 2.2812 - accuracy: 0.1845 - val_loss: 2.2912 - val_accuracy: 0.1111\n",
      "Epoch 5/8\n",
      "8/8 [==============================] - 0s 4ms/step - loss: 2.2779 - accuracy: 0.1918 - val_loss: 2.2879 - val_accuracy: 0.1204\n",
      "Epoch 6/8\n",
      "8/8 [==============================] - 0s 4ms/step - loss: 2.2743 - accuracy: 0.1969 - val_loss: 2.2850 - val_accuracy: 0.1296\n",
      "Epoch 7/8\n",
      "8/8 [==============================] - 0s 4ms/step - loss: 2.2709 - accuracy: 0.2010 - val_loss: 2.2819 - val_accuracy: 0.1389\n",
      "Epoch 8/8\n",
      "8/8 [==============================] - 0s 4ms/step - loss: 2.2675 - accuracy: 0.2103 - val_loss: 2.2786 - val_accuracy: 0.1389\n",
      "Test loss: 2.2778701782226562\n",
      "Test accuracy: 0.16155989468097687\n"
     ]
    }
   ],
   "source": [
    "batch_size = 128\n",
    "\n",
    "model.compile(loss='categorical_crossentropy', \n",
    "              optimizer='adam',  \n",
    "              metrics=['accuracy'])\n",
    "\n",
    "start= time()\n",
    "model.fit(X_train, y_train,\n",
    "          batch_size=batch_size,\n",
    "          epochs=epochs,\n",
    "          verbose=1,\n",
    "          validation_split=0.1)\n",
    "\n",
    "FC_learnTime= time()-start\n",
    "\n",
    "score = model.evaluate(X_test, y_test, verbose=0)\n",
    "print('Test loss:', score[0])\n",
    "FC_MNIST_score = score[1]\n",
    "print('Test accuracy:', FC_MNIST_score)"
   ]
  },
  {
   "cell_type": "markdown",
   "id": "ab62f373",
   "metadata": {},
   "source": [
    "## Keras CNN Model\n"
   ]
  },
  {
   "cell_type": "code",
   "execution_count": 11,
   "id": "ae4b6f34",
   "metadata": {},
   "outputs": [
    {
     "name": "stdout",
     "output_type": "stream",
     "text": [
      "(1078, 64)\n",
      "(359, 64)\n",
      "(1078, 8, 8)\n",
      "(359, 8, 8)\n"
     ]
    }
   ],
   "source": [
    "# images are flattened to 64, will return to 28 x 28\n",
    "# then add another dimension to make sure images have shape (8, 8, 1) for CNN\n",
    "\n",
    "print(X_train.shape)\n",
    "print(X_test.shape)\n",
    "X_train = X_train.reshape((X_train.shape[0], 8, 8))\n",
    "X_test = X_test.reshape((X_test.shape[0], 8, 8))\n",
    "print(X_train.shape)\n",
    "print(X_test.shape)"
   ]
  },
  {
   "cell_type": "code",
   "execution_count": 12,
   "id": "da88adb3",
   "metadata": {},
   "outputs": [
    {
     "name": "stdout",
     "output_type": "stream",
     "text": [
      "(1078, 8, 8, 1)\n",
      "(359, 8, 8, 1)\n"
     ]
    }
   ],
   "source": [
    "X_train = np.expand_dims(X_train, -1)\n",
    "X_test = np.expand_dims(X_test, -1)\n",
    "print(X_train.shape)\n",
    "print(X_test.shape)"
   ]
  },
  {
   "cell_type": "code",
   "execution_count": 13,
   "id": "e457171c",
   "metadata": {
    "scrolled": true
   },
   "outputs": [
    {
     "name": "stdout",
     "output_type": "stream",
     "text": [
      "Model: \"sequential\"\n",
      "_________________________________________________________________\n",
      " Layer (type)                Output Shape              Param #   \n",
      "=================================================================\n",
      " conv2d (Conv2D)             (None, 4, 4, 32)          320       \n",
      "                                                                 \n",
      " dropout (Dropout)           (None, 4, 4, 32)          0         \n",
      "                                                                 \n",
      " flatten (Flatten)           (None, 512)               0         \n",
      "                                                                 \n",
      " dropout_1 (Dropout)         (None, 512)               0         \n",
      "                                                                 \n",
      " dense_1 (Dense)             (None, 10)                5130      \n",
      "                                                                 \n",
      "=================================================================\n",
      "Total params: 5,450\n",
      "Trainable params: 5,450\n",
      "Non-trainable params: 0\n",
      "_________________________________________________________________\n"
     ]
    }
   ],
   "source": [
    "\n",
    "input_shape = (8, 8, 1)\n",
    "# 32 channels, a kernel size of 5×5, a stride of (2, 2), and padding=’same’.\n",
    "dropout = 0.2\n",
    "\n",
    "model = tf.keras.Sequential(\n",
    "    [\n",
    "        tf.keras.Input(shape=input_shape),\n",
    "        tf.keras.layers.Conv2D(32, kernel_size=(3, 3), strides=(2,2), padding='same', activation=\"relu\", kernel_initializer='he_normal', bias_initializer='zeros'),\n",
    "        tf.keras.layers.Dropout(dropout),\n",
    "        #tf.keras.layers.Conv2D(64, kernel_size=(3, 3), activation=\"relu\"),\n",
    "        #tf.keras.layers.MaxPooling2D(pool_size=(2, 2), strides=2),\n",
    "        tf.keras.layers.Flatten(),\n",
    "        tf.keras.layers.Dropout(dropout),\n",
    "        tf.keras.layers.Dense(num_classes, activation=\"softmax\"),\n",
    "    ]\n",
    ")\n",
    "\n",
    "model.summary()"
   ]
  },
  {
   "cell_type": "code",
   "execution_count": 14,
   "id": "6c6b9edd",
   "metadata": {},
   "outputs": [
    {
     "data": {
      "text/plain": [
       "(1078, 8, 8, 1)"
      ]
     },
     "execution_count": 14,
     "metadata": {},
     "output_type": "execute_result"
    }
   ],
   "source": [
    "X_train.shape"
   ]
  },
  {
   "cell_type": "code",
   "execution_count": 15,
   "id": "a51b677e",
   "metadata": {},
   "outputs": [
    {
     "name": "stdout",
     "output_type": "stream",
     "text": [
      "Epoch 1/8\n",
      "8/8 [==============================] - 0s 18ms/step - loss: 2.2960 - accuracy: 0.1113 - val_loss: 2.2867 - val_accuracy: 0.1759\n",
      "Epoch 2/8\n",
      "8/8 [==============================] - 0s 6ms/step - loss: 2.2756 - accuracy: 0.2423 - val_loss: 2.2685 - val_accuracy: 0.3889\n",
      "Epoch 3/8\n",
      "8/8 [==============================] - 0s 6ms/step - loss: 2.2537 - accuracy: 0.3845 - val_loss: 2.2464 - val_accuracy: 0.4722\n",
      "Epoch 4/8\n",
      "8/8 [==============================] - 0s 6ms/step - loss: 2.2275 - accuracy: 0.4598 - val_loss: 2.2200 - val_accuracy: 0.5093\n",
      "Epoch 5/8\n",
      "8/8 [==============================] - 0s 6ms/step - loss: 2.1942 - accuracy: 0.5196 - val_loss: 2.1881 - val_accuracy: 0.5463\n",
      "Epoch 6/8\n",
      "8/8 [==============================] - 0s 5ms/step - loss: 2.1562 - accuracy: 0.5351 - val_loss: 2.1521 - val_accuracy: 0.5556\n",
      "Epoch 7/8\n",
      "8/8 [==============================] - 0s 6ms/step - loss: 2.1188 - accuracy: 0.5619 - val_loss: 2.1116 - val_accuracy: 0.6019\n",
      "Epoch 8/8\n",
      "8/8 [==============================] - 0s 6ms/step - loss: 2.0767 - accuracy: 0.5732 - val_loss: 2.0680 - val_accuracy: 0.6111\n"
     ]
    }
   ],
   "source": [
    "\n",
    "model.compile(loss=\"categorical_crossentropy\", optimizer=\"adam\", metrics=[\"accuracy\"])\n",
    "\n",
    "start= time()\n",
    "model.fit(X_train, y_train, batch_size=batch_size, epochs=epochs, validation_split=0.1)\n",
    "CNN_learnTime= time()-start"
   ]
  },
  {
   "cell_type": "code",
   "execution_count": 16,
   "id": "68411915",
   "metadata": {},
   "outputs": [
    {
     "name": "stdout",
     "output_type": "stream",
     "text": [
      "Test loss: 2.083078384399414\n",
      "Test accuracy: 0.5543175339698792\n"
     ]
    }
   ],
   "source": [
    "score = model.evaluate(X_test, y_test, verbose=0)\n",
    "print(\"Test loss:\", score[0])\n",
    "CNN_MNIST_score = score[1]\n",
    "print(\"Test accuracy:\", CNN_MNIST_score)"
   ]
  },
  {
   "cell_type": "markdown",
   "id": "d85777a0",
   "metadata": {},
   "source": [
    "## Keras RNN Model"
   ]
  },
  {
   "cell_type": "code",
   "execution_count": 34,
   "id": "5ce21148",
   "metadata": {},
   "outputs": [
    {
     "name": "stdout",
     "output_type": "stream",
     "text": [
      "Model: \"sequential_7\"\n",
      "_________________________________________________________________\n",
      " Layer (type)                Output Shape              Param #   \n",
      "=================================================================\n",
      " simple_rnn_5 (SimpleRNN)    (None, 32)                1312      \n",
      "                                                                 \n",
      " dense_4 (Dense)             (None, 10)                330       \n",
      "                                                                 \n",
      " activation_3 (Activation)   (None, 10)                0         \n",
      "                                                                 \n",
      "=================================================================\n",
      "Total params: 1,642\n",
      "Trainable params: 1,642\n",
      "Non-trainable params: 0\n",
      "_________________________________________________________________\n"
     ]
    }
   ],
   "source": [
    "# network parameters\n",
    "input_shape = (8, 8) # image size\n",
    "units = 32 # trying to achieve fair comparison, by having 32 RNN units, while we had 32 channel in CNN \n",
    "\n",
    "# model is RNN with 32 units, input is 8x8-dim \n",
    "model = tf.keras.Sequential()\n",
    "model.add(tf.keras.layers.SimpleRNN(units=units,\n",
    "                    dropout=dropout,\n",
    "                    input_shape=input_shape))\n",
    "model.add(tf.keras.layers.Dense(num_classes))\n",
    "model.add(tf.keras.layers.Activation('softmax'))\n",
    "model.summary()"
   ]
  },
  {
   "cell_type": "code",
   "execution_count": 35,
   "id": "89c52cc0",
   "metadata": {},
   "outputs": [
    {
     "name": "stdout",
     "output_type": "stream",
     "text": [
      "Epoch 1/8\n",
      "9/9 [==============================] - 0s 2ms/step - loss: 2.3102 - accuracy: 0.1076\n",
      "Epoch 2/8\n",
      "9/9 [==============================] - 0s 2ms/step - loss: 2.3079 - accuracy: 0.1002\n",
      "Epoch 3/8\n",
      "9/9 [==============================] - 0s 2ms/step - loss: 2.3077 - accuracy: 0.0918\n",
      "Epoch 4/8\n",
      "9/9 [==============================] - 0s 2ms/step - loss: 2.3076 - accuracy: 0.0733\n",
      "Epoch 5/8\n",
      "9/9 [==============================] - 0s 2ms/step - loss: 2.3047 - accuracy: 0.0770\n",
      "Epoch 6/8\n",
      "9/9 [==============================] - 0s 2ms/step - loss: 2.3041 - accuracy: 0.0937\n",
      "Epoch 7/8\n",
      "9/9 [==============================] - 0s 2ms/step - loss: 2.3035 - accuracy: 0.0779\n",
      "Epoch 8/8\n",
      "9/9 [==============================] - 0s 2ms/step - loss: 2.3025 - accuracy: 0.0631\n",
      "Test loss: 2.309088945388794\n",
      "Test accuracy: 0.033426184207201004\n"
     ]
    }
   ],
   "source": [
    "model.compile(loss='categorical_crossentropy',\n",
    "              optimizer='sgd',\n",
    "              metrics=['accuracy'])\n",
    "# train the network\n",
    "\n",
    "start= time()\n",
    "model.fit(X_train, y_train, epochs=epochs, batch_size=batch_size)\n",
    "RNN_learnTime= time()-start\n",
    "\n",
    "score = model.evaluate(X_test, y_test, verbose=0)\n",
    "print('Test loss:', score[0])\n",
    "RNN_MNIST_score = score[1]\n",
    "print('Test accuracy:', RNN_MNIST_score)\n"
   ]
  },
  {
   "cell_type": "code",
   "execution_count": 36,
   "id": "061c418f",
   "metadata": {},
   "outputs": [
    {
     "data": {
      "text/plain": [
       "(1078, 8, 8, 1)"
      ]
     },
     "execution_count": 36,
     "metadata": {},
     "output_type": "execute_result"
    }
   ],
   "source": [
    "X_train.shape"
   ]
  },
  {
   "cell_type": "markdown",
   "id": "442b6990",
   "metadata": {},
   "source": [
    "## Keras LSTM Model"
   ]
  },
  {
   "cell_type": "code",
   "execution_count": 37,
   "id": "31fd70c5",
   "metadata": {},
   "outputs": [
    {
     "name": "stdout",
     "output_type": "stream",
     "text": [
      "Model: \"sequential_8\"\n",
      "_________________________________________________________________\n",
      " Layer (type)                Output Shape              Param #   \n",
      "=================================================================\n",
      " lstm_1 (LSTM)               (None, 32)                5248      \n",
      "                                                                 \n",
      " dense_5 (Dense)             (None, 10)                330       \n",
      "                                                                 \n",
      " activation_4 (Activation)   (None, 10)                0         \n",
      "                                                                 \n",
      "=================================================================\n",
      "Total params: 5,578\n",
      "Trainable params: 5,578\n",
      "Non-trainable params: 0\n",
      "_________________________________________________________________\n"
     ]
    }
   ],
   "source": [
    "# model is LSTM with 32 units, input is 8x8-dim \n",
    "model = tf.keras.Sequential()\n",
    "model.add(tf.keras.layers.LSTM(units=units,\n",
    "                    dropout=dropout,\n",
    "                    input_shape=input_shape))\n",
    "model.add(tf.keras.layers.Dense(num_classes))\n",
    "model.add(tf.keras.layers.Activation('softmax'))\n",
    "model.summary()"
   ]
  },
  {
   "cell_type": "code",
   "execution_count": 38,
   "id": "a546871c",
   "metadata": {},
   "outputs": [
    {
     "name": "stdout",
     "output_type": "stream",
     "text": [
      "Epoch 1/8\n",
      "9/9 [==============================] - 1s 4ms/step - loss: 2.3017 - accuracy: 0.1113\n",
      "Epoch 2/8\n",
      "9/9 [==============================] - 0s 3ms/step - loss: 2.3017 - accuracy: 0.1169\n",
      "Epoch 3/8\n",
      "9/9 [==============================] - 0s 4ms/step - loss: 2.3015 - accuracy: 0.1169\n",
      "Epoch 4/8\n",
      "9/9 [==============================] - 0s 4ms/step - loss: 2.3014 - accuracy: 0.1169\n",
      "Epoch 5/8\n",
      "9/9 [==============================] - 0s 4ms/step - loss: 2.3014 - accuracy: 0.1058\n",
      "Epoch 6/8\n",
      "9/9 [==============================] - 0s 4ms/step - loss: 2.3012 - accuracy: 0.1252\n",
      "Epoch 7/8\n",
      "9/9 [==============================] - 0s 3ms/step - loss: 2.3013 - accuracy: 0.1085\n",
      "Epoch 8/8\n",
      "9/9 [==============================] - 0s 3ms/step - loss: 2.3012 - accuracy: 0.1122\n",
      "Test loss: 2.303574562072754\n",
      "Test accuracy: 0.08077994734048843\n"
     ]
    }
   ],
   "source": [
    "model.compile(loss='categorical_crossentropy',\n",
    "              optimizer='sgd',\n",
    "              metrics=['accuracy'])\n",
    "# train the network\n",
    "\n",
    "start= time()\n",
    "model.fit(X_train, y_train, epochs=epochs, batch_size=batch_size)\n",
    "LSTM_learnTime= time()-start\n",
    "\n",
    "score = model.evaluate(X_test, y_test, verbose=0)\n",
    "print('Test loss:', score[0])\n",
    "LSTM_MNIST_score = score[1]\n",
    "print('Test accuracy:', LSTM_MNIST_score)"
   ]
  },
  {
   "cell_type": "markdown",
   "id": "58ef30f7",
   "metadata": {},
   "source": [
    "## Keras GRU Model"
   ]
  },
  {
   "cell_type": "code",
   "execution_count": 39,
   "id": "3082576a",
   "metadata": {},
   "outputs": [
    {
     "name": "stdout",
     "output_type": "stream",
     "text": [
      "Model: \"sequential_9\"\n",
      "_________________________________________________________________\n",
      " Layer (type)                Output Shape              Param #   \n",
      "=================================================================\n",
      " gru (GRU)                   (None, 32)                4032      \n",
      "                                                                 \n",
      " dense_6 (Dense)             (None, 10)                330       \n",
      "                                                                 \n",
      " activation_5 (Activation)   (None, 10)                0         \n",
      "                                                                 \n",
      "=================================================================\n",
      "Total params: 4,362\n",
      "Trainable params: 4,362\n",
      "Non-trainable params: 0\n",
      "_________________________________________________________________\n"
     ]
    }
   ],
   "source": [
    "# model is GRU with 256 units, input is 28-dim vector 28 timesteps\n",
    "model = tf.keras.Sequential()\n",
    "model.add(tf.keras.layers.GRU(units=units,\n",
    "                    dropout=dropout,\n",
    "                    input_shape=input_shape))\n",
    "model.add(tf.keras.layers.Dense(num_classes))\n",
    "model.add(tf.keras.layers.Activation('softmax'))\n",
    "model.summary()"
   ]
  },
  {
   "cell_type": "code",
   "execution_count": 40,
   "id": "d5b23ecd",
   "metadata": {},
   "outputs": [
    {
     "name": "stdout",
     "output_type": "stream",
     "text": [
      "Epoch 1/8\n",
      "9/9 [==============================] - 1s 4ms/step - loss: 2.3016 - accuracy: 0.1104\n",
      "Epoch 2/8\n",
      "9/9 [==============================] - 0s 3ms/step - loss: 2.3015 - accuracy: 0.1178\n",
      "Epoch 3/8\n",
      "9/9 [==============================] - 0s 3ms/step - loss: 2.3013 - accuracy: 0.1215\n",
      "Epoch 4/8\n",
      "9/9 [==============================] - 0s 4ms/step - loss: 2.3012 - accuracy: 0.1364\n",
      "Epoch 5/8\n",
      "9/9 [==============================] - 0s 4ms/step - loss: 2.3009 - accuracy: 0.1354\n",
      "Epoch 6/8\n",
      "9/9 [==============================] - 0s 3ms/step - loss: 2.3009 - accuracy: 0.1215\n",
      "Epoch 7/8\n",
      "9/9 [==============================] - 0s 3ms/step - loss: 2.3008 - accuracy: 0.1150\n",
      "Epoch 8/8\n",
      "9/9 [==============================] - 0s 4ms/step - loss: 2.3007 - accuracy: 0.1113\n",
      "Test loss: 2.3027074337005615\n",
      "Test accuracy: 0.07799442857503891\n"
     ]
    }
   ],
   "source": [
    "model.compile(loss='categorical_crossentropy',\n",
    "              optimizer='sgd',\n",
    "              metrics=['accuracy'])\n",
    "# train the network\n",
    "\n",
    "start= time()\n",
    "model.fit(X_train, y_train, epochs=epochs, batch_size=batch_size)\n",
    "GRU_learnTime= time()-start\n",
    "\n",
    "score = model.evaluate(X_test, y_test, verbose=0)\n",
    "print('Test loss:', score[0])\n",
    "GRU_MNIST_score = score[1]\n",
    "print('Test accuracy:', GRU_MNIST_score)"
   ]
  },
  {
   "cell_type": "code",
   "execution_count": 101,
   "id": "b5eb18f4",
   "metadata": {},
   "outputs": [],
   "source": [
    "# Import Necessary Pytorch Modules\n",
    "import torch\n",
    "import torch.nn as nn\n",
    "from torch import Tensor\n",
    "from tednet.tnn import tensor_ring as tr\n",
    "\n",
    "# A Simple MNIST Classifier based on Tensor Ring.\n",
    "class TRClassifier (nn.Module) :\n",
    "    def init (self):\n",
    "        super (TRClassifier, self).init()\n",
    "\n",
    "        # Define a Tensor Ring Convolutional Layer\n",
    "        self.trcnn = tr.TRConv2D ([1] , [4, 5] , [ 6, 6, 6, 6], 3)\n",
    "        # Define a Tensor Ring Fully−Connected Layer\n",
    "        self.trfc = tr.TRLinear ([20, 26, 26],[10], [6, 6, 6, 6])\n",
    "\n",
    "    def forward (self, inputs: Tensor ) -> Tensor :\n",
    "        # Call TRConv2D to process inputs\n",
    "        out = self.trcnn (inputs)\n",
    "        out = torch.relu (out)\n",
    "        out = out.view (inputs.size (0), -1)\n",
    "\n",
    "        # Call TRLinear to classify the features\n",
    "        out = self.trfc (out)\n",
    "        return out\n"
   ]
  },
  {
   "cell_type": "code",
   "execution_count": 106,
   "id": "7c9213ab",
   "metadata": {},
   "outputs": [
    {
     "ename": "TypeError",
     "evalue": "__init__() takes 1 positional argument but 2 were given",
     "output_type": "error",
     "traceback": [
      "\u001b[1;31m---------------------------------------------------------------------------\u001b[0m",
      "\u001b[1;31mTypeError\u001b[0m                                 Traceback (most recent call last)",
      "\u001b[1;32mC:\\Users\\DELLPR~1\\AppData\\Local\\Temp/ipykernel_3016/370578838.py\u001b[0m in \u001b[0;36m<module>\u001b[1;34m\u001b[0m\n\u001b[1;32m----> 1\u001b[1;33m \u001b[0mTRCls\u001b[0m \u001b[1;33m=\u001b[0m \u001b[0mTRClassifier\u001b[0m\u001b[1;33m(\u001b[0m \u001b[0mX_train\u001b[0m\u001b[1;33m)\u001b[0m\u001b[1;33m\u001b[0m\u001b[1;33m\u001b[0m\u001b[0m\n\u001b[0m\u001b[0;32m      2\u001b[0m \u001b[0mTRCls\u001b[0m\u001b[1;33m\u001b[0m\u001b[1;33m\u001b[0m\u001b[0m\n",
      "\u001b[1;31mTypeError\u001b[0m: __init__() takes 1 positional argument but 2 were given"
     ]
    }
   ],
   "source": [
    "TRCls = TRClassifier( X_train)\n",
    "TRCls"
   ]
  },
  {
   "cell_type": "code",
   "execution_count": 102,
   "id": "5559916f",
   "metadata": {},
   "outputs": [
    {
     "name": "stdout",
     "output_type": "stream",
     "text": [
      "compression_ration is:  0.3968253968253968\n",
      "compression_ration is:  14.17233560090703\n",
      "compression_ration is:  241.54589371980677\n",
      "compression_ration is:  2.867383512544803\n"
     ]
    }
   ],
   "source": [
    "# You can also build a network in only one line of code, e.g., TR-LeNet5\n",
    "\n",
    "model = tr.TRLeNet5(10, [6, 6, 6, 6])"
   ]
  },
  {
   "cell_type": "code",
   "execution_count": 41,
   "id": "0cf24864",
   "metadata": {},
   "outputs": [
    {
     "data": {
      "image/png": "[encoded data removed]",
      "text/plain": [
       "<Figure size 432x288 with 1 Axes>"
      ]
     },
     "metadata": {
      "needs_background": "light"
     },
     "output_type": "display_data"
    }
   ],
   "source": [
    "import matplotlib.pyplot as plt\n",
    "%matplotlib inline\n",
    "\n",
    "x = ['Perceptron', 'MLP', 'Dense', 'CNN', 'RNN', 'LSTM', 'GRU']\n",
    "AccScore = [P_MNIST_score, MLP_MNIST_score, FC_MNIST_score, CNN_MNIST_score, RNN_MNIST_score, LSTM_MNIST_score, GRU_MNIST_score]\n",
    "LearnTime=[p_learnTime, mlp_learnTime, FC_learnTime, CNN_learnTime, RNN_learnTime, LSTM_learnTime, GRU_learnTime]\n",
    "x_pos = np.arange(len(x))\n",
    "\n",
    "\n",
    "plt.bar(x_pos - 0.2, AccScore, 0.4, label = 'Accuracy Score')\n",
    "plt.bar(x_pos + 0.2, LearnTime, 0.4, label = 'Learning Time')\n",
    "  \n",
    "plt.xticks(x_pos, x)\n",
    "plt.xlabel(\"NN Model\")\n",
    "plt.title(\"MNIST Data using various NN models\")\n",
    "plt.legend()\n",
    "plt.show()"
   ]
  },
  {
   "cell_type": "markdown",
   "id": "e4a1461e",
   "metadata": {},
   "source": [
    "This is not an apple to apple comparison, as every model has more properties and hyperparameters that have been fine-tuned to perform at its best. These experiments need to be repeated using different datasets (text and sequential time series to show test the spatial (2D and 3D) vs temperoal dependency (1D)), more complex (this was MNIST 8x8 pixels), more layers, more channels or units, use regularisation, more ephochs, ... and so forth.\n",
    "\n",
    "The best way to compare all models is to define a particular acceptable accuracy score, and select the minimum parameter's values that achieves this accuracy score. Such that we say RNN converged (reached 90% accuracy) after xx epochs, using these parameter values and compare with the other models."
   ]
  },
  {
   "cell_type": "markdown",
   "id": "ea307e2f",
   "metadata": {},
   "source": [
    "## Tensorised NN\n",
    "\n",
    "There are many public domain examples for compressed NN using Tensor decomposition approaches.\n",
    "\n",
    "- https://github.com/tensorly/Proceedings_IEEE_companion_notebooks/blob/master/tt-compression.ipynb\n",
    "-  https://github.com/tensorly/Proceedings_IEEE_companion_notebooks/blob/master/tensor_regression_layer.ipynb \n",
    "\n",
    "- https://github.com/uwjunqi/TTN-VQC\n",
    "\n",
    "### RNN\n",
    "\n",
    "- https://github.com/Tuyki/TT_RNN\n",
    "\n",
    "- https://tednet.readthedocs.io/en/latest/tutorials/tr_rnn.html\n",
    "\n",
    "### FC/Dense\n",
    "\n",
    "- https://github.com/timgaripov/TensorNet-TF/tree/master/experiments/cifar-10/FC-Tensorizing-Neural-Networks\n",
    "\n",
    "- https://t3f.readthedocs.io/en/latest/tutorials/tensor_nets.html\n",
    "\n",
    "### CNN\n",
    "\n",
    "- https://github.com/timgaripov/TensorNet-TF/tree/master/experiments/cifar-10/conv-Ultimate-Tensorization\n",
    "\n",
    "- https://tednet.readthedocs.io/en/latest/tutorials/tr_cnn.html\n",
    "\n",
    "### Transformer\n",
    "\n",
    "- https://github.com/szhangtju/The-compression-of-Transformer\n",
    "\n",
    "### GAN\n",
    "\n",
    "- https://github.com/xwcao/TGAN\n",
    "\n",
    "### Generative Models approximating probability functions and probabilistic graphical models \n",
    "\n",
    "- https://github.com/emstoudenmire/TNML (C language, based on TN contraction C library itensor)"
   ]
  },
  {
   "cell_type": "code",
   "execution_count": null,
   "id": "32b3fc6b",
   "metadata": {},
   "outputs": [],
   "source": []
  }
 ],
 "metadata": {
  "kernelspec": {
   "display_name": "Python 3 (ipykernel)",
   "language": "python",
   "name": "python3"
  },
  "language_info": {
   "codemirror_mode": {
    "name": "ipython",
    "version": 3
   },
   "file_extension": ".py",
   "mimetype": "text/x-python",
   "name": "python",
   "nbconvert_exporter": "python",
   "pygments_lexer": "ipython3",
   "version": "3.9.7"
  }
 },
 "nbformat": 4,
 "nbformat_minor": 5
}
